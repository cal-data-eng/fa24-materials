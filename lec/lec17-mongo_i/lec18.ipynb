{
 "cells": [
  {
   "cell_type": "markdown",
   "id": "3e5366ae-67ea-4ccf-a279-39a96dcca794",
   "metadata": {},
   "source": [
    "# Lecture 18: Mongo DB I"
   ]
  },
  {
   "cell_type": "code",
   "execution_count": 1,
   "id": "3d6e7386-7dab-4f9e-b8b1-9b6accac1799",
   "metadata": {},
   "outputs": [],
   "source": [
    "import json\n",
    "import pymongo\n",
    "import pprint"
   ]
  },
  {
   "cell_type": "markdown",
   "id": "c793e4fb-eb7c-4ab8-b313-0e5834fdb2ac",
   "metadata": {},
   "source": [
    "## Connect to Database on localhost"
   ]
  },
  {
   "cell_type": "markdown",
   "id": "1c684e05-3387-4b86-a566-120ee73e4e94",
   "metadata": {},
   "source": [
    "Nobel laureate data from Kaggle: https://www.kaggle.com/datasets/imdevskp/nobel-prize/data"
   ]
  },
  {
   "cell_type": "code",
   "execution_count": 7,
   "id": "f01b15a9-ffc1-438f-8676-db178d25d9ab",
   "metadata": {},
   "outputs": [
    {
     "data": {
      "text/plain": [
       "['admin', 'config', 'local']"
      ]
     },
     "execution_count": 7,
     "metadata": {},
     "output_type": "execute_result"
    }
   ],
   "source": [
    "client = pymongo.MongoClient('mongodb://localhost')\n",
    "client.list_database_names()"
   ]
  },
  {
   "cell_type": "code",
   "execution_count": 9,
   "id": "e6d779f1-c8c6-43dc-a144-fd78b4c5e8dc",
   "metadata": {},
   "outputs": [],
   "source": [
    "client.drop_database('nobel_prizes') # if already exists\n",
    "client.drop_database('aggquerydb') # if already exists"
   ]
  },
  {
   "cell_type": "markdown",
   "id": "e4feab92-0919-4be6-9c1c-1403d2b03176",
   "metadata": {},
   "source": [
    "Connect to an empty database called `nobel_prizes`"
   ]
  },
  {
   "cell_type": "code",
   "execution_count": 10,
   "id": "1a7df8ec-84ab-4652-89c1-6d7b72cc0ce8",
   "metadata": {},
   "outputs": [
    {
     "data": {
      "text/plain": [
       "Database(MongoClient(host=['localhost:27017'], document_class=dict, tz_aware=False, connect=True), 'nobel_prizes')"
      ]
     },
     "execution_count": 10,
     "metadata": {},
     "output_type": "execute_result"
    }
   ],
   "source": [
    "db = client.nobel_prizes\n",
    "db"
   ]
  },
  {
   "cell_type": "code",
   "execution_count": 11,
   "id": "899ebf59-4cfa-413d-8409-754acf69c5ea",
   "metadata": {},
   "outputs": [
    {
     "data": {
      "text/plain": [
       "[]"
      ]
     },
     "execution_count": 11,
     "metadata": {},
     "output_type": "execute_result"
    }
   ],
   "source": [
    "db.list_collection_names()"
   ]
  },
  {
   "cell_type": "markdown",
   "id": "7e2217fa-3bab-495a-ba1d-91764aecb2cc",
   "metadata": {},
   "source": [
    "<br/><br/>Within this empty database, access an empty collection called `prizes`."
   ]
  },
  {
   "cell_type": "code",
   "execution_count": 12,
   "id": "13654816-7883-4122-87b6-2a4f723a3b1f",
   "metadata": {},
   "outputs": [
    {
     "data": {
      "text/plain": [
       "Collection(Database(MongoClient(host=['localhost:27017'], document_class=dict, tz_aware=False, connect=True), 'nobel_prizes'), 'prizes')"
      ]
     },
     "execution_count": 12,
     "metadata": {},
     "output_type": "execute_result"
    }
   ],
   "source": [
    "collection = db.prizes\n",
    "# collection = db['prizes'] # also works\n",
    "collection"
   ]
  },
  {
   "cell_type": "markdown",
   "id": "10c3bcc7-3351-4cd9-834c-05adfd1922b2",
   "metadata": {},
   "source": [
    "`find_one()` returns None (i.e., displays nothing in notebooks)"
   ]
  },
  {
   "cell_type": "code",
   "execution_count": 13,
   "id": "a4407e88-bece-4176-b9be-8cedb53dd898",
   "metadata": {},
   "outputs": [],
   "source": [
    "db.prizes.find_one({})"
   ]
  },
  {
   "cell_type": "code",
   "execution_count": 14,
   "id": "8cb85ff8-cd4d-469f-b307-91c2086ffabe",
   "metadata": {},
   "outputs": [
    {
     "name": "stdout",
     "output_type": "stream",
     "text": [
      "None\n"
     ]
    }
   ],
   "source": [
    "print(db.prizes.find_one({}))"
   ]
  },
  {
   "cell_type": "markdown",
   "id": "d4c837f3-6871-4355-bc82-a0ddbcd0b6d8",
   "metadata": {},
   "source": [
    "## Load data from JSON "
   ]
  },
  {
   "cell_type": "code",
   "execution_count": 15,
   "id": "4f35a596-4e35-4421-92d6-28a146367ef9",
   "metadata": {},
   "outputs": [],
   "source": [
    "# run this cell to insert into the collection prizes\n",
    "with open('data/prize.json', encoding='utf-8') as f:\n",
    "    db.prizes.insert_many(json.loads(f.read()))"
   ]
  },
  {
   "cell_type": "code",
   "execution_count": 16,
   "id": "31e04382-2780-41a3-8d5a-d3ab21938568",
   "metadata": {},
   "outputs": [
    {
     "data": {
      "text/plain": [
       "['admin', 'config', 'local', 'nobel_prizes']"
      ]
     },
     "execution_count": 16,
     "metadata": {},
     "output_type": "execute_result"
    }
   ],
   "source": [
    "# the database and the collection are now both valid\n",
    "client.list_database_names()"
   ]
  },
  {
   "cell_type": "code",
   "execution_count": 17,
   "id": "98a8d325-2197-4dec-86f0-989925120cf7",
   "metadata": {},
   "outputs": [
    {
     "data": {
      "text/plain": [
       "['prizes']"
      ]
     },
     "execution_count": 17,
     "metadata": {},
     "output_type": "execute_result"
    }
   ],
   "source": [
    "db.list_collection_names()"
   ]
  },
  {
   "cell_type": "markdown",
   "id": "a138dd83-e915-4818-aacd-07d484e6ebb5",
   "metadata": {},
   "source": [
    "# Retrieval Queries"
   ]
  },
  {
   "cell_type": "markdown",
   "id": "5b6065b3-9b1a-4dc3-a356-31a3f5719d61",
   "metadata": {},
   "source": [
    "**Select** all field-value pairs to output."
   ]
  },
  {
   "cell_type": "code",
   "execution_count": 18,
   "id": "04060a40-f84e-4216-ad18-752619907931",
   "metadata": {},
   "outputs": [
    {
     "data": {
      "text/plain": [
       "{'_id': ObjectId('6538289ddfb580fc72283c90'),\n",
       " 'year': 2020,\n",
       " 'category': 'chemistry',\n",
       " 'laureates': [{'id': '991',\n",
       "   'firstname': 'Emmanuelle',\n",
       "   'surname': 'Charpentier',\n",
       "   'motivation': '\"for the development of a method for genome editing\"',\n",
       "   'share': '2'},\n",
       "  {'id': '992',\n",
       "   'firstname': 'Jennifer A.',\n",
       "   'surname': 'Doudna',\n",
       "   'motivation': '\"for the development of a method for genome editing\"',\n",
       "   'share': '2'}]}"
      ]
     },
     "execution_count": 18,
     "metadata": {},
     "output_type": "execute_result"
    }
   ],
   "source": [
    "db.prizes.find_one({})"
   ]
  },
  {
   "cell_type": "markdown",
   "id": "4bbe0b22-fb4a-4880-aad8-d3daaa0a4835",
   "metadata": {},
   "source": [
    "Pymongo is smart and avoids querying the **full collection** by instead returning an iterator (here, a Cursor):"
   ]
  },
  {
   "cell_type": "code",
   "execution_count": 19,
   "id": "9579c859-0f4e-4027-baf8-95193b695377",
   "metadata": {},
   "outputs": [
    {
     "data": {
      "text/plain": [
       "<pymongo.cursor.Cursor at 0x7fc6a4c2d110>"
      ]
     },
     "execution_count": 19,
     "metadata": {},
     "output_type": "execute_result"
    }
   ],
   "source": [
    "db.prizes.find({})"
   ]
  },
  {
   "cell_type": "code",
   "execution_count": 22,
   "id": "f0b90bed-9551-4829-ac72-f79ee821de19",
   "metadata": {},
   "outputs": [],
   "source": [
    "# list(db.prizes.find({}))"
   ]
  },
  {
   "cell_type": "markdown",
   "id": "5b3aaf17-5711-4932-a59b-b36c5b12174f",
   "metadata": {},
   "source": [
    "It's not recommended, but you could force query the full collection by casting to list (e.g., `list(db.prizes.find({}))`).\n",
    "\n",
    "Instead let's iterate over the collection a tiny bit so that we can see how to pretty print each document with `pprint`:"
   ]
  },
  {
   "cell_type": "code",
   "execution_count": 23,
   "id": "5b796961-0425-46e5-8a1b-11db102ee0e7",
   "metadata": {},
   "outputs": [],
   "source": [
    "def pretty_print(output_collection, n_to_print=3):\n",
    "    \"\"\"\n",
    "    note if n_to_print is -1, this print everything\n",
    "    \"\"\"\n",
    "    for i, doc in enumerate(output_collection):\n",
    "        pprint.pprint(doc)        # nicely formats each document\n",
    "        if i+1 == n_to_print: return"
   ]
  },
  {
   "cell_type": "code",
   "execution_count": 24,
   "id": "e592e13c-db92-47f4-8ac0-475e9e82afba",
   "metadata": {},
   "outputs": [
    {
     "name": "stdout",
     "output_type": "stream",
     "text": [
      "{'_id': ObjectId('6538289ddfb580fc72283c90'),\n",
      " 'category': 'chemistry',\n",
      " 'laureates': [{'firstname': 'Emmanuelle',\n",
      "                'id': '991',\n",
      "                'motivation': '\"for the development of a method for genome '\n",
      "                              'editing\"',\n",
      "                'share': '2',\n",
      "                'surname': 'Charpentier'},\n",
      "               {'firstname': 'Jennifer A.',\n",
      "                'id': '992',\n",
      "                'motivation': '\"for the development of a method for genome '\n",
      "                              'editing\"',\n",
      "                'share': '2',\n",
      "                'surname': 'Doudna'}],\n",
      " 'year': 2020}\n",
      "{'_id': ObjectId('6538289ddfb580fc72283c91'),\n",
      " 'category': 'economics',\n",
      " 'laureates': [{'firstname': 'Paul',\n",
      "                'id': '995',\n",
      "                'motivation': '\"for improvements to auction theory and '\n",
      "                              'inventions of new auction formats\"',\n",
      "                'share': '2',\n",
      "                'surname': 'Milgrom'},\n",
      "               {'firstname': 'Robert',\n",
      "                'id': '996',\n",
      "                'motivation': '\"for improvements to auction theory and '\n",
      "                              'inventions of new auction formats\"',\n",
      "                'share': '2',\n",
      "                'surname': 'Wilson'}],\n",
      " 'year': 2020}\n",
      "{'_id': ObjectId('6538289ddfb580fc72283c92'),\n",
      " 'category': 'literature',\n",
      " 'laureates': [{'firstname': 'Louise',\n",
      "                'id': '993',\n",
      "                'motivation': '\"for her unmistakable poetic voice that with '\n",
      "                              'austere beauty makes individual existence '\n",
      "                              'universal\"',\n",
      "                'share': '1',\n",
      "                'surname': 'Glück'}],\n",
      " 'year': 2020}\n"
     ]
    }
   ],
   "source": [
    "output = db.prizes.find({})\n",
    "pretty_print(output)"
   ]
  },
  {
   "cell_type": "markdown",
   "id": "8e399fe3-2fd0-44ce-a755-7caa4b6084b3",
   "metadata": {},
   "source": [
    "# Selection (with Predicates)"
   ]
  },
  {
   "cell_type": "code",
   "execution_count": 29,
   "id": "094fbf5a-70df-461d-84be-3d186fc61c76",
   "metadata": {},
   "outputs": [
    {
     "data": {
      "text/plain": [
       "{'_id': ObjectId('6538289ddfb580fc72283c90'),\n",
       " 'year': 2020,\n",
       " 'category': 'chemistry',\n",
       " 'laureates': [{'id': '991',\n",
       "   'firstname': 'Emmanuelle',\n",
       "   'surname': 'Charpentier',\n",
       "   'motivation': '\"for the development of a method for genome editing\"',\n",
       "   'share': '2'},\n",
       "  {'id': '992',\n",
       "   'firstname': 'Jennifer A.',\n",
       "   'surname': 'Doudna',\n",
       "   'motivation': '\"for the development of a method for genome editing\"',\n",
       "   'share': '2'}]}"
      ]
     },
     "execution_count": 29,
     "metadata": {},
     "output_type": "execute_result"
    }
   ],
   "source": [
    "# get a document that has the exact FV pair\n",
    "db.prizes.find_one({\"category\": \"chemistry\"})"
   ]
  },
  {
   "cell_type": "code",
   "execution_count": 26,
   "id": "67a8eddf-e80d-4de3-8622-f68a4188d4ce",
   "metadata": {},
   "outputs": [
    {
     "data": {
      "text/plain": [
       "{'_id': ObjectId('6538289ddfb580fc72283c90'),\n",
       " 'year': 2020,\n",
       " 'category': 'chemistry',\n",
       " 'laureates': [{'id': '991',\n",
       "   'firstname': 'Emmanuelle',\n",
       "   'surname': 'Charpentier',\n",
       "   'motivation': '\"for the development of a method for genome editing\"',\n",
       "   'share': '2'},\n",
       "  {'id': '992',\n",
       "   'firstname': 'Jennifer A.',\n",
       "   'surname': 'Doudna',\n",
       "   'motivation': '\"for the development of a method for genome editing\"',\n",
       "   'share': '2'}]}"
      ]
     },
     "execution_count": 26,
     "metadata": {},
     "output_type": "execute_result"
    }
   ],
   "source": [
    "# the comma functions as the \"and\" operator\n",
    "db.prizes.find_one({\"category\": \"chemistry\", \"year\": 2020})"
   ]
  },
  {
   "cell_type": "markdown",
   "id": "c82f1466-99cc-4e85-a8a2-23e087ea3c97",
   "metadata": {},
   "source": [
    "## Dollar `$` Notation: Special MongoDB Keywords"
   ]
  },
  {
   "cell_type": "markdown",
   "id": "49b47c88-78c0-4de1-aaa1-41f27e04b970",
   "metadata": {},
   "source": [
    "(we defined the `pretty_print()` function earlier)"
   ]
  },
  {
   "cell_type": "code",
   "execution_count": 31,
   "id": "d2bbeb10-56e8-47fb-92b9-c78d4f6de0d1",
   "metadata": {},
   "outputs": [
    {
     "name": "stdout",
     "output_type": "stream",
     "text": [
      "{'_id': ObjectId('6538289ddfb580fc72283c90'),\n",
      " 'category': 'chemistry',\n",
      " 'laureates': [{'firstname': 'Emmanuelle',\n",
      "                'id': '991',\n",
      "                'motivation': '\"for the development of a method for genome '\n",
      "                              'editing\"',\n",
      "                'share': '2',\n",
      "                'surname': 'Charpentier'},\n",
      "               {'firstname': 'Jennifer A.',\n",
      "                'id': '992',\n",
      "                'motivation': '\"for the development of a method for genome '\n",
      "                              'editing\"',\n",
      "                'share': '2',\n",
      "                'surname': 'Doudna'}],\n",
      " 'year': 2020}\n",
      "{'_id': ObjectId('6538289ddfb580fc72283c91'),\n",
      " 'category': 'economics',\n",
      " 'laureates': [{'firstname': 'Paul',\n",
      "                'id': '995',\n",
      "                'motivation': '\"for improvements to auction theory and '\n",
      "                              'inventions of new auction formats\"',\n",
      "                'share': '2',\n",
      "                'surname': 'Milgrom'},\n",
      "               {'firstname': 'Robert',\n",
      "                'id': '996',\n",
      "                'motivation': '\"for improvements to auction theory and '\n",
      "                              'inventions of new auction formats\"',\n",
      "                'share': '2',\n",
      "                'surname': 'Wilson'}],\n",
      " 'year': 2020}\n",
      "{'_id': ObjectId('6538289ddfb580fc72283c92'),\n",
      " 'category': 'literature',\n",
      " 'laureates': [{'firstname': 'Louise',\n",
      "                'id': '993',\n",
      "                'motivation': '\"for her unmistakable poetic voice that with '\n",
      "                              'austere beauty makes individual existence '\n",
      "                              'universal\"',\n",
      "                'share': '1',\n",
      "                'surname': 'Glück'}],\n",
      " 'year': 2020}\n",
      "{'_id': ObjectId('6538289ddfb580fc72283c93'),\n",
      " 'category': 'peace',\n",
      " 'laureates': [{'firstname': 'World Food Programme',\n",
      "                'id': '994',\n",
      "                'motivation': '\"for its efforts to combat hunger, for its '\n",
      "                              'contribution to bettering conditions for peace '\n",
      "                              'in conflict-affected areas and for acting as a '\n",
      "                              'driving force in efforts to prevent the use of '\n",
      "                              'hunger as a weapon of war and conflict\"',\n",
      "                'share': '1'}],\n",
      " 'year': 2020}\n"
     ]
    }
   ],
   "source": [
    "output = db.prizes.find({\"$or\": [{\"category\": \"chemistry\"},\n",
    "                                 {\"year\": 2020}]})\n",
    "\n",
    "pretty_print(output, n_to_print=4)"
   ]
  },
  {
   "cell_type": "code",
   "execution_count": 32,
   "id": "d63e3fb7-a72b-4811-a830-aaadcaed5dbf",
   "metadata": {},
   "outputs": [
    {
     "name": "stdout",
     "output_type": "stream",
     "text": [
      "{'_id': ObjectId('6538289ddfb580fc72283c96'),\n",
      " 'category': 'chemistry',\n",
      " 'laureates': [{'firstname': 'John',\n",
      "                'id': '976',\n",
      "                'motivation': '\"for the development of lithium-ion batteries\"',\n",
      "                'share': '3',\n",
      "                'surname': 'Goodenough'},\n",
      "               {'firstname': 'M. Stanley',\n",
      "                'id': '977',\n",
      "                'motivation': '\"for the development of lithium-ion batteries\"',\n",
      "                'share': '3',\n",
      "                'surname': 'Whittingham'},\n",
      "               {'firstname': 'Akira',\n",
      "                'id': '978',\n",
      "                'motivation': '\"for the development of lithium-ion batteries\"',\n",
      "                'share': '3',\n",
      "                'surname': 'Yoshino'}],\n",
      " 'year': 2019}\n",
      "{'_id': ObjectId('6538289ddfb580fc72283c97'),\n",
      " 'category': 'economics',\n",
      " 'laureates': [{'firstname': 'Abhijit',\n",
      "                'id': '982',\n",
      "                'motivation': '\"for their experimental approach to alleviating '\n",
      "                              'global poverty\"',\n",
      "                'share': '3',\n",
      "                'surname': 'Banerjee'},\n",
      "               {'firstname': 'Esther',\n",
      "                'id': '983',\n",
      "                'motivation': '\"for their experimental approach to alleviating '\n",
      "                              'global poverty\"',\n",
      "                'share': '3',\n",
      "                'surname': 'Duflo'},\n",
      "               {'firstname': 'Michael',\n",
      "                'id': '984',\n",
      "                'motivation': '\"for their experimental approach to alleviating '\n",
      "                              'global poverty\"',\n",
      "                'share': '3',\n",
      "                'surname': 'Kremer'}],\n",
      " 'year': 2019}\n",
      "{'_id': ObjectId('6538289ddfb580fc72283c98'),\n",
      " 'category': 'literature',\n",
      " 'laureates': [{'firstname': 'Peter',\n",
      "                'id': '980',\n",
      "                'motivation': '\"for an influential work that with linguistic '\n",
      "                              'ingenuity has explored the periphery and the '\n",
      "                              'specificity of human experience\"',\n",
      "                'share': '1',\n",
      "                'surname': 'Handke'}],\n",
      " 'year': 2019}\n"
     ]
    }
   ],
   "source": [
    "output = db.prizes.find({\"year\": {\"$gt\": 2018}}, skip=6) # skip a bit down the collection just because\n",
    "\n",
    "pretty_print(output)"
   ]
  },
  {
   "cell_type": "markdown",
   "id": "ead150c7-4c5a-4cf2-93e8-caa733bd4c4c",
   "metadata": {},
   "source": [
    "## Dot `.` Notation: Traverse Trees"
   ]
  },
  {
   "cell_type": "code",
   "execution_count": 33,
   "id": "7aa0952e-f618-4306-9a17-2f273ca07dfa",
   "metadata": {},
   "outputs": [
    {
     "name": "stdout",
     "output_type": "stream",
     "text": [
      "{'_id': ObjectId('6538289ddfb580fc72283c90'),\n",
      " 'category': 'chemistry',\n",
      " 'laureates': [{'firstname': 'Emmanuelle',\n",
      "                'id': '991',\n",
      "                'motivation': '\"for the development of a method for genome '\n",
      "                              'editing\"',\n",
      "                'share': '2',\n",
      "                'surname': 'Charpentier'},\n",
      "               {'firstname': 'Jennifer A.',\n",
      "                'id': '992',\n",
      "                'motivation': '\"for the development of a method for genome '\n",
      "                              'editing\"',\n",
      "                'share': '2',\n",
      "                'surname': 'Doudna'}],\n",
      " 'year': 2020}\n",
      "{'_id': ObjectId('6538289ddfb580fc72283c96'),\n",
      " 'category': 'chemistry',\n",
      " 'laureates': [{'firstname': 'John',\n",
      "                'id': '976',\n",
      "                'motivation': '\"for the development of lithium-ion batteries\"',\n",
      "                'share': '3',\n",
      "                'surname': 'Goodenough'},\n",
      "               {'firstname': 'M. Stanley',\n",
      "                'id': '977',\n",
      "                'motivation': '\"for the development of lithium-ion batteries\"',\n",
      "                'share': '3',\n",
      "                'surname': 'Whittingham'},\n",
      "               {'firstname': 'Akira',\n",
      "                'id': '978',\n",
      "                'motivation': '\"for the development of lithium-ion batteries\"',\n",
      "                'share': '3',\n",
      "                'surname': 'Yoshino'}],\n",
      " 'year': 2019}\n",
      "{'_id': ObjectId('6538289ddfb580fc72283c9c'),\n",
      " 'category': 'chemistry',\n",
      " 'laureates': [{'firstname': 'Frances H.',\n",
      "                'id': '963',\n",
      "                'motivation': '\"for the directed evolution of enzymes\"',\n",
      "                'share': '2',\n",
      "                'surname': 'Arnold'},\n",
      "               {'firstname': 'George P.',\n",
      "                'id': '964',\n",
      "                'motivation': '\"for the phage display of peptides and '\n",
      "                              'antibodies\"',\n",
      "                'share': '4',\n",
      "                'surname': 'Smith'},\n",
      "               {'firstname': 'Sir Gregory P.',\n",
      "                'id': '965',\n",
      "                'motivation': '\"for the phage display of peptides and '\n",
      "                              'antibodies\"',\n",
      "                'share': '4',\n",
      "                'surname': 'Winter'}],\n",
      " 'year': 2018}\n"
     ]
    }
   ],
   "source": [
    "output = db.prizes.find({\"category\": \"chemistry\"})\n",
    "pretty_print(output)"
   ]
  },
  {
   "cell_type": "code",
   "execution_count": 34,
   "id": "6e10dc53-47cf-4a23-b2dc-45510c52885a",
   "metadata": {
    "collapsed": true,
    "jupyter": {
     "outputs_hidden": true
    },
    "scrolled": true
   },
   "outputs": [
    {
     "name": "stdout",
     "output_type": "stream",
     "text": [
      "{'_id': ObjectId('6538289ddfb580fc72283ee5'),\n",
      " 'category': 'chemistry',\n",
      " 'laureates': [{'firstname': 'Marie',\n",
      "                'id': '6',\n",
      "                'motivation': '\"in recognition of her services to the '\n",
      "                              'advancement of chemistry by the discovery of '\n",
      "                              'the elements radium and polonium, by the '\n",
      "                              'isolation of radium and the study of the nature '\n",
      "                              'and compounds of this remarkable element\"',\n",
      "                'share': '1',\n",
      "                'surname': 'Curie'}],\n",
      " 'year': 1911}\n"
     ]
    }
   ],
   "source": [
    "output = db.prizes.find({\"laureates.0.surname\": \"Curie\"})\n",
    "pretty_print(output)"
   ]
  },
  {
   "cell_type": "code",
   "execution_count": 35,
   "id": "86d09ae9-0377-4548-8fa5-84749af99d1e",
   "metadata": {
    "collapsed": true,
    "jupyter": {
     "outputs_hidden": true
    }
   },
   "outputs": [
    {
     "name": "stdout",
     "output_type": "stream",
     "text": [
      "{'_id': ObjectId('6538289ddfb580fc72283f10'),\n",
      " 'category': 'physics',\n",
      " 'laureates': [{'firstname': 'Henri',\n",
      "                'id': '4',\n",
      "                'motivation': '\"in recognition of the extraordinary services '\n",
      "                              'he has rendered by his discovery of spontaneous '\n",
      "                              'radioactivity\"',\n",
      "                'share': '2',\n",
      "                'surname': 'Becquerel'},\n",
      "               {'firstname': 'Pierre',\n",
      "                'id': '5',\n",
      "                'motivation': '\"in recognition of the extraordinary services '\n",
      "                              'they have rendered by their joint researches on '\n",
      "                              'the radiation phenomena discovered by Professor '\n",
      "                              'Henri Becquerel\"',\n",
      "                'share': '4',\n",
      "                'surname': 'Curie'},\n",
      "               {'firstname': 'Marie',\n",
      "                'id': '6',\n",
      "                'motivation': '\"in recognition of the extraordinary services '\n",
      "                              'they have rendered by their joint researches on '\n",
      "                              'the radiation phenomena discovered by Professor '\n",
      "                              'Henri Becquerel\"',\n",
      "                'share': '4',\n",
      "                'surname': 'Curie'}],\n",
      " 'year': 1903}\n"
     ]
    }
   ],
   "source": [
    "output = db.prizes.find({\"laureates.1.surname\": \"Curie\"})\n",
    "pretty_print(output)"
   ]
  },
  {
   "cell_type": "code",
   "execution_count": 36,
   "id": "68498d11-20ee-462b-9f49-06b181a0df01",
   "metadata": {},
   "outputs": [
    {
     "name": "stdout",
     "output_type": "stream",
     "text": [
      "{'_id': ObjectId('6538289ddfb580fc72283ee5'),\n",
      " 'category': 'chemistry',\n",
      " 'laureates': [{'firstname': 'Marie',\n",
      "                'id': '6',\n",
      "                'motivation': '\"in recognition of her services to the '\n",
      "                              'advancement of chemistry by the discovery of '\n",
      "                              'the elements radium and polonium, by the '\n",
      "                              'isolation of radium and the study of the nature '\n",
      "                              'and compounds of this remarkable element\"',\n",
      "                'share': '1',\n",
      "                'surname': 'Curie'}],\n",
      " 'year': 1911}\n",
      "{'_id': ObjectId('6538289ddfb580fc72283f10'),\n",
      " 'category': 'physics',\n",
      " 'laureates': [{'firstname': 'Henri',\n",
      "                'id': '4',\n",
      "                'motivation': '\"in recognition of the extraordinary services '\n",
      "                              'he has rendered by his discovery of spontaneous '\n",
      "                              'radioactivity\"',\n",
      "                'share': '2',\n",
      "                'surname': 'Becquerel'},\n",
      "               {'firstname': 'Pierre',\n",
      "                'id': '5',\n",
      "                'motivation': '\"in recognition of the extraordinary services '\n",
      "                              'they have rendered by their joint researches on '\n",
      "                              'the radiation phenomena discovered by Professor '\n",
      "                              'Henri Becquerel\"',\n",
      "                'share': '4',\n",
      "                'surname': 'Curie'},\n",
      "               {'firstname': 'Marie',\n",
      "                'id': '6',\n",
      "                'motivation': '\"in recognition of the extraordinary services '\n",
      "                              'they have rendered by their joint researches on '\n",
      "                              'the radiation phenomena discovered by Professor '\n",
      "                              'Henri Becquerel\"',\n",
      "                'share': '4',\n",
      "                'surname': 'Curie'}],\n",
      " 'year': 1903}\n"
     ]
    }
   ],
   "source": [
    "output = db.prizes.find({\"laureates.surname\": \"Curie\"})\n",
    "pretty_print(output)"
   ]
  },
  {
   "cell_type": "markdown",
   "id": "bd028a58-1b07-44cf-a88a-25e1662806a2",
   "metadata": {},
   "source": [
    "# Projection"
   ]
  },
  {
   "cell_type": "code",
   "execution_count": 37,
   "id": "c5462b5e-c035-46c2-a3f5-4d38f6dcd716",
   "metadata": {},
   "outputs": [
    {
     "name": "stdout",
     "output_type": "stream",
     "text": [
      "{'_id': ObjectId('6538289ddfb580fc72283c90'),\n",
      " 'category': 'chemistry',\n",
      " 'year': 2020}\n",
      "{'_id': ObjectId('6538289ddfb580fc72283c91'),\n",
      " 'category': 'economics',\n",
      " 'year': 2020}\n",
      "{'_id': ObjectId('6538289ddfb580fc72283c92'),\n",
      " 'category': 'literature',\n",
      " 'year': 2020}\n"
     ]
    }
   ],
   "source": [
    "output = db.prizes.find({}, {\"year\": 1, \"category\": 1})\n",
    "\n",
    "pretty_print(output)"
   ]
  },
  {
   "cell_type": "markdown",
   "id": "79e7b1f3-561e-4447-b51b-743d0acdc77f",
   "metadata": {},
   "source": [
    "<br/><br/><br/><br/><br/>\n",
    "\n",
    "## Projection Exercise"
   ]
  },
  {
   "cell_type": "code",
   "execution_count": 38,
   "id": "a963b74a-83d0-4728-be84-e42b706ff2af",
   "metadata": {},
   "outputs": [
    {
     "name": "stdout",
     "output_type": "stream",
     "text": [
      "{'category': 'chemistry', 'year': 2020}\n",
      "{'category': 'economics', 'year': 2020}\n",
      "{'category': 'literature', 'year': 2020}\n"
     ]
    }
   ],
   "source": [
    "# 2: AB\n",
    "output = db.prizes.find({}, {\"year\": 1, \"category\": 1, \"_id\": 0})\n",
    "\n",
    "pretty_print(output)"
   ]
  },
  {
   "cell_type": "code",
   "execution_count": 39,
   "id": "eb05e3b7-a769-46eb-9472-f0911afdd910",
   "metadata": {},
   "outputs": [
    {
     "name": "stdout",
     "output_type": "stream",
     "text": [
      "{'_id': ObjectId('6538289ddfb580fc72283c90'),\n",
      " 'laureates': [{'firstname': 'Emmanuelle',\n",
      "                'id': '991',\n",
      "                'motivation': '\"for the development of a method for genome '\n",
      "                              'editing\"',\n",
      "                'share': '2',\n",
      "                'surname': 'Charpentier'},\n",
      "               {'firstname': 'Jennifer A.',\n",
      "                'id': '992',\n",
      "                'motivation': '\"for the development of a method for genome '\n",
      "                              'editing\"',\n",
      "                'share': '2',\n",
      "                'surname': 'Doudna'}]}\n",
      "{'_id': ObjectId('6538289ddfb580fc72283c91'),\n",
      " 'laureates': [{'firstname': 'Paul',\n",
      "                'id': '995',\n",
      "                'motivation': '\"for improvements to auction theory and '\n",
      "                              'inventions of new auction formats\"',\n",
      "                'share': '2',\n",
      "                'surname': 'Milgrom'},\n",
      "               {'firstname': 'Robert',\n",
      "                'id': '996',\n",
      "                'motivation': '\"for improvements to auction theory and '\n",
      "                              'inventions of new auction formats\"',\n",
      "                'share': '2',\n",
      "                'surname': 'Wilson'}]}\n",
      "{'_id': ObjectId('6538289ddfb580fc72283c92'),\n",
      " 'laureates': [{'firstname': 'Louise',\n",
      "                'id': '993',\n",
      "                'motivation': '\"for her unmistakable poetic voice that with '\n",
      "                              'austere beauty makes individual existence '\n",
      "                              'universal\"',\n",
      "                'share': '1',\n",
      "                'surname': 'Glück'}]}\n"
     ]
    }
   ],
   "source": [
    "# 3: CD\n",
    "output = db.prizes.find({}, {\"year\": 0, \"category\": 0})\n",
    "\n",
    "pretty_print(output)"
   ]
  },
  {
   "cell_type": "code",
   "execution_count": 40,
   "id": "066a849c-ea9e-4617-9beb-cbe01c434e4b",
   "metadata": {},
   "outputs": [
    {
     "ename": "OperationFailure",
     "evalue": "Cannot do inclusion on field category in exclusion projection, full error: {'ok': 0.0, 'errmsg': 'Cannot do inclusion on field category in exclusion projection', 'code': 31253, 'codeName': 'Location31253'}",
     "output_type": "error",
     "traceback": [
      "\u001b[0;31m---------------------------------------------------------------------------\u001b[0m",
      "\u001b[0;31mOperationFailure\u001b[0m                          Traceback (most recent call last)",
      "Cell \u001b[0;32mIn[40], line 4\u001b[0m\n\u001b[1;32m      1\u001b[0m \u001b[38;5;66;03m# 4 \u001b[39;00m\n\u001b[1;32m      2\u001b[0m output \u001b[38;5;241m=\u001b[39m db\u001b[38;5;241m.\u001b[39mprizes\u001b[38;5;241m.\u001b[39mfind({}, {\u001b[38;5;124m\"\u001b[39m\u001b[38;5;124myear\u001b[39m\u001b[38;5;124m\"\u001b[39m: \u001b[38;5;241m0\u001b[39m, \u001b[38;5;124m\"\u001b[39m\u001b[38;5;124mcategory\u001b[39m\u001b[38;5;124m\"\u001b[39m: \u001b[38;5;241m1\u001b[39m})\n\u001b[0;32m----> 4\u001b[0m \u001b[43mpretty_print\u001b[49m\u001b[43m(\u001b[49m\u001b[43moutput\u001b[49m\u001b[43m)\u001b[49m\n",
      "Cell \u001b[0;32mIn[23], line 5\u001b[0m, in \u001b[0;36mpretty_print\u001b[0;34m(output_collection, n_to_print)\u001b[0m\n\u001b[1;32m      1\u001b[0m \u001b[38;5;28;01mdef\u001b[39;00m \u001b[38;5;21mpretty_print\u001b[39m(output_collection, n_to_print\u001b[38;5;241m=\u001b[39m\u001b[38;5;241m3\u001b[39m):\n\u001b[1;32m      2\u001b[0m \u001b[38;5;250m    \u001b[39m\u001b[38;5;124;03m\"\"\"\u001b[39;00m\n\u001b[1;32m      3\u001b[0m \u001b[38;5;124;03m    note if n_to_print is -1, this print everything\u001b[39;00m\n\u001b[1;32m      4\u001b[0m \u001b[38;5;124;03m    \"\"\"\u001b[39;00m\n\u001b[0;32m----> 5\u001b[0m     \u001b[38;5;28;01mfor\u001b[39;00m i, doc \u001b[38;5;129;01min\u001b[39;00m \u001b[38;5;28menumerate\u001b[39m(output_collection):\n\u001b[1;32m      6\u001b[0m         pprint\u001b[38;5;241m.\u001b[39mpprint(doc)        \u001b[38;5;66;03m# nicely formats each document\u001b[39;00m\n\u001b[1;32m      7\u001b[0m         \u001b[38;5;28;01mif\u001b[39;00m i\u001b[38;5;241m+\u001b[39m\u001b[38;5;241m1\u001b[39m \u001b[38;5;241m==\u001b[39m n_to_print: \u001b[38;5;28;01mreturn\u001b[39;00m\n",
      "File \u001b[0;32m/srv/conda/envs/notebook/lib/python3.11/site-packages/pymongo/cursor.py:1251\u001b[0m, in \u001b[0;36mCursor.next\u001b[0;34m(self)\u001b[0m\n\u001b[1;32m   1249\u001b[0m \u001b[38;5;28;01mif\u001b[39;00m \u001b[38;5;28mself\u001b[39m\u001b[38;5;241m.\u001b[39m__empty:\n\u001b[1;32m   1250\u001b[0m     \u001b[38;5;28;01mraise\u001b[39;00m \u001b[38;5;167;01mStopIteration\u001b[39;00m\n\u001b[0;32m-> 1251\u001b[0m \u001b[38;5;28;01mif\u001b[39;00m \u001b[38;5;28mlen\u001b[39m(\u001b[38;5;28mself\u001b[39m\u001b[38;5;241m.\u001b[39m__data) \u001b[38;5;129;01mor\u001b[39;00m \u001b[38;5;28;43mself\u001b[39;49m\u001b[38;5;241;43m.\u001b[39;49m\u001b[43m_refresh\u001b[49m\u001b[43m(\u001b[49m\u001b[43m)\u001b[49m:\n\u001b[1;32m   1252\u001b[0m     \u001b[38;5;28;01mreturn\u001b[39;00m \u001b[38;5;28mself\u001b[39m\u001b[38;5;241m.\u001b[39m__data\u001b[38;5;241m.\u001b[39mpopleft()\n\u001b[1;32m   1253\u001b[0m \u001b[38;5;28;01melse\u001b[39;00m:\n",
      "File \u001b[0;32m/srv/conda/envs/notebook/lib/python3.11/site-packages/pymongo/cursor.py:1168\u001b[0m, in \u001b[0;36mCursor._refresh\u001b[0;34m(self)\u001b[0m\n\u001b[1;32m   1146\u001b[0m         \u001b[38;5;28;01mraise\u001b[39;00m InvalidOperation(\n\u001b[1;32m   1147\u001b[0m             \u001b[38;5;124m\"\u001b[39m\u001b[38;5;124mPassing a \u001b[39m\u001b[38;5;124m'\u001b[39m\u001b[38;5;124mhint\u001b[39m\u001b[38;5;124m'\u001b[39m\u001b[38;5;124m is required when using the min/max query\u001b[39m\u001b[38;5;124m\"\u001b[39m\n\u001b[1;32m   1148\u001b[0m             \u001b[38;5;124m\"\u001b[39m\u001b[38;5;124m option to ensure the query utilizes the correct index\u001b[39m\u001b[38;5;124m\"\u001b[39m\n\u001b[1;32m   1149\u001b[0m         )\n\u001b[1;32m   1150\u001b[0m     q \u001b[38;5;241m=\u001b[39m \u001b[38;5;28mself\u001b[39m\u001b[38;5;241m.\u001b[39m_query_class(\n\u001b[1;32m   1151\u001b[0m         \u001b[38;5;28mself\u001b[39m\u001b[38;5;241m.\u001b[39m__query_flags,\n\u001b[1;32m   1152\u001b[0m         \u001b[38;5;28mself\u001b[39m\u001b[38;5;241m.\u001b[39m__collection\u001b[38;5;241m.\u001b[39mdatabase\u001b[38;5;241m.\u001b[39mname,\n\u001b[0;32m   (...)\u001b[0m\n\u001b[1;32m   1166\u001b[0m         \u001b[38;5;28mself\u001b[39m\u001b[38;5;241m.\u001b[39m__exhaust,\n\u001b[1;32m   1167\u001b[0m     )\n\u001b[0;32m-> 1168\u001b[0m     \u001b[38;5;28;43mself\u001b[39;49m\u001b[38;5;241;43m.\u001b[39;49m\u001b[43m__send_message\u001b[49m\u001b[43m(\u001b[49m\u001b[43mq\u001b[49m\u001b[43m)\u001b[49m\n\u001b[1;32m   1169\u001b[0m \u001b[38;5;28;01melif\u001b[39;00m \u001b[38;5;28mself\u001b[39m\u001b[38;5;241m.\u001b[39m__id:  \u001b[38;5;66;03m# Get More\u001b[39;00m\n\u001b[1;32m   1170\u001b[0m     \u001b[38;5;28;01mif\u001b[39;00m \u001b[38;5;28mself\u001b[39m\u001b[38;5;241m.\u001b[39m__limit:\n",
      "File \u001b[0;32m/srv/conda/envs/notebook/lib/python3.11/site-packages/pymongo/cursor.py:1055\u001b[0m, in \u001b[0;36mCursor.__send_message\u001b[0;34m(self, operation)\u001b[0m\n\u001b[1;32m   1052\u001b[0m     \u001b[38;5;28;01mraise\u001b[39;00m InvalidOperation(\u001b[38;5;124m\"\u001b[39m\u001b[38;5;124mexhaust cursors do not support auto encryption\u001b[39m\u001b[38;5;124m\"\u001b[39m)\n\u001b[1;32m   1054\u001b[0m \u001b[38;5;28;01mtry\u001b[39;00m:\n\u001b[0;32m-> 1055\u001b[0m     response \u001b[38;5;241m=\u001b[39m \u001b[43mclient\u001b[49m\u001b[38;5;241;43m.\u001b[39;49m\u001b[43m_run_operation\u001b[49m\u001b[43m(\u001b[49m\n\u001b[1;32m   1056\u001b[0m \u001b[43m        \u001b[49m\u001b[43moperation\u001b[49m\u001b[43m,\u001b[49m\u001b[43m \u001b[49m\u001b[38;5;28;43mself\u001b[39;49m\u001b[38;5;241;43m.\u001b[39;49m\u001b[43m_unpack_response\u001b[49m\u001b[43m,\u001b[49m\u001b[43m \u001b[49m\u001b[43maddress\u001b[49m\u001b[38;5;241;43m=\u001b[39;49m\u001b[38;5;28;43mself\u001b[39;49m\u001b[38;5;241;43m.\u001b[39;49m\u001b[43m__address\u001b[49m\n\u001b[1;32m   1057\u001b[0m \u001b[43m    \u001b[49m\u001b[43m)\u001b[49m\n\u001b[1;32m   1058\u001b[0m \u001b[38;5;28;01mexcept\u001b[39;00m OperationFailure \u001b[38;5;28;01mas\u001b[39;00m exc:\n\u001b[1;32m   1059\u001b[0m     \u001b[38;5;28;01mif\u001b[39;00m exc\u001b[38;5;241m.\u001b[39mcode \u001b[38;5;129;01min\u001b[39;00m _CURSOR_CLOSED_ERRORS \u001b[38;5;129;01mor\u001b[39;00m \u001b[38;5;28mself\u001b[39m\u001b[38;5;241m.\u001b[39m__exhaust:\n\u001b[1;32m   1060\u001b[0m         \u001b[38;5;66;03m# Don't send killCursors because the cursor is already closed.\u001b[39;00m\n",
      "File \u001b[0;32m/srv/conda/envs/notebook/lib/python3.11/site-packages/pymongo/_csot.py:106\u001b[0m, in \u001b[0;36mapply.<locals>.csot_wrapper\u001b[0;34m(self, *args, **kwargs)\u001b[0m\n\u001b[1;32m    104\u001b[0m         \u001b[38;5;28;01mwith\u001b[39;00m _TimeoutContext(timeout):\n\u001b[1;32m    105\u001b[0m             \u001b[38;5;28;01mreturn\u001b[39;00m func(\u001b[38;5;28mself\u001b[39m, \u001b[38;5;241m*\u001b[39margs, \u001b[38;5;241m*\u001b[39m\u001b[38;5;241m*\u001b[39mkwargs)\n\u001b[0;32m--> 106\u001b[0m \u001b[38;5;28;01mreturn\u001b[39;00m \u001b[43mfunc\u001b[49m\u001b[43m(\u001b[49m\u001b[38;5;28;43mself\u001b[39;49m\u001b[43m,\u001b[49m\u001b[43m \u001b[49m\u001b[38;5;241;43m*\u001b[39;49m\u001b[43margs\u001b[49m\u001b[43m,\u001b[49m\u001b[43m \u001b[49m\u001b[38;5;241;43m*\u001b[39;49m\u001b[38;5;241;43m*\u001b[39;49m\u001b[43mkwargs\u001b[49m\u001b[43m)\u001b[49m\n",
      "File \u001b[0;32m/srv/conda/envs/notebook/lib/python3.11/site-packages/pymongo/mongo_client.py:1341\u001b[0m, in \u001b[0;36mMongoClient._run_operation\u001b[0;34m(self, operation, unpack_res, address)\u001b[0m\n\u001b[1;32m   1336\u001b[0m     operation\u001b[38;5;241m.\u001b[39mreset()  \u001b[38;5;66;03m# Reset op in case of retry.\u001b[39;00m\n\u001b[1;32m   1337\u001b[0m     \u001b[38;5;28;01mreturn\u001b[39;00m server\u001b[38;5;241m.\u001b[39mrun_operation(\n\u001b[1;32m   1338\u001b[0m         sock_info, operation, read_preference, \u001b[38;5;28mself\u001b[39m\u001b[38;5;241m.\u001b[39m_event_listeners, unpack_res\n\u001b[1;32m   1339\u001b[0m     )\n\u001b[0;32m-> 1341\u001b[0m \u001b[38;5;28;01mreturn\u001b[39;00m \u001b[38;5;28;43mself\u001b[39;49m\u001b[38;5;241;43m.\u001b[39;49m\u001b[43m_retryable_read\u001b[49m\u001b[43m(\u001b[49m\n\u001b[1;32m   1342\u001b[0m \u001b[43m    \u001b[49m\u001b[43m_cmd\u001b[49m\u001b[43m,\u001b[49m\n\u001b[1;32m   1343\u001b[0m \u001b[43m    \u001b[49m\u001b[43moperation\u001b[49m\u001b[38;5;241;43m.\u001b[39;49m\u001b[43mread_preference\u001b[49m\u001b[43m,\u001b[49m\n\u001b[1;32m   1344\u001b[0m \u001b[43m    \u001b[49m\u001b[43moperation\u001b[49m\u001b[38;5;241;43m.\u001b[39;49m\u001b[43msession\u001b[49m\u001b[43m,\u001b[49m\n\u001b[1;32m   1345\u001b[0m \u001b[43m    \u001b[49m\u001b[43maddress\u001b[49m\u001b[38;5;241;43m=\u001b[39;49m\u001b[43maddress\u001b[49m\u001b[43m,\u001b[49m\n\u001b[1;32m   1346\u001b[0m \u001b[43m    \u001b[49m\u001b[43mretryable\u001b[49m\u001b[38;5;241;43m=\u001b[39;49m\u001b[38;5;28;43misinstance\u001b[39;49m\u001b[43m(\u001b[49m\u001b[43moperation\u001b[49m\u001b[43m,\u001b[49m\u001b[43m \u001b[49m\u001b[43mmessage\u001b[49m\u001b[38;5;241;43m.\u001b[39;49m\u001b[43m_Query\u001b[49m\u001b[43m)\u001b[49m\u001b[43m,\u001b[49m\n\u001b[1;32m   1347\u001b[0m \u001b[43m\u001b[49m\u001b[43m)\u001b[49m\n",
      "File \u001b[0;32m/srv/conda/envs/notebook/lib/python3.11/site-packages/pymongo/_csot.py:106\u001b[0m, in \u001b[0;36mapply.<locals>.csot_wrapper\u001b[0;34m(self, *args, **kwargs)\u001b[0m\n\u001b[1;32m    104\u001b[0m         \u001b[38;5;28;01mwith\u001b[39;00m _TimeoutContext(timeout):\n\u001b[1;32m    105\u001b[0m             \u001b[38;5;28;01mreturn\u001b[39;00m func(\u001b[38;5;28mself\u001b[39m, \u001b[38;5;241m*\u001b[39margs, \u001b[38;5;241m*\u001b[39m\u001b[38;5;241m*\u001b[39mkwargs)\n\u001b[0;32m--> 106\u001b[0m \u001b[38;5;28;01mreturn\u001b[39;00m \u001b[43mfunc\u001b[49m\u001b[43m(\u001b[49m\u001b[38;5;28;43mself\u001b[39;49m\u001b[43m,\u001b[49m\u001b[43m \u001b[49m\u001b[38;5;241;43m*\u001b[39;49m\u001b[43margs\u001b[49m\u001b[43m,\u001b[49m\u001b[43m \u001b[49m\u001b[38;5;241;43m*\u001b[39;49m\u001b[38;5;241;43m*\u001b[39;49m\u001b[43mkwargs\u001b[49m\u001b[43m)\u001b[49m\n",
      "File \u001b[0;32m/srv/conda/envs/notebook/lib/python3.11/site-packages/pymongo/mongo_client.py:1465\u001b[0m, in \u001b[0;36mMongoClient._retryable_read\u001b[0;34m(self, func, read_pref, session, address, retryable)\u001b[0m\n\u001b[1;32m   1463\u001b[0m             \u001b[38;5;28;01massert\u001b[39;00m last_error \u001b[38;5;129;01mis\u001b[39;00m \u001b[38;5;129;01mnot\u001b[39;00m \u001b[38;5;28;01mNone\u001b[39;00m\n\u001b[1;32m   1464\u001b[0m             \u001b[38;5;28;01mraise\u001b[39;00m last_error\n\u001b[0;32m-> 1465\u001b[0m         \u001b[38;5;28;01mreturn\u001b[39;00m \u001b[43mfunc\u001b[49m\u001b[43m(\u001b[49m\u001b[43msession\u001b[49m\u001b[43m,\u001b[49m\u001b[43m \u001b[49m\u001b[43mserver\u001b[49m\u001b[43m,\u001b[49m\u001b[43m \u001b[49m\u001b[43msock_info\u001b[49m\u001b[43m,\u001b[49m\u001b[43m \u001b[49m\u001b[43mread_pref\u001b[49m\u001b[43m)\u001b[49m\n\u001b[1;32m   1466\u001b[0m \u001b[38;5;28;01mexcept\u001b[39;00m ServerSelectionTimeoutError:\n\u001b[1;32m   1467\u001b[0m     \u001b[38;5;28;01mif\u001b[39;00m retrying:\n\u001b[1;32m   1468\u001b[0m         \u001b[38;5;66;03m# The application may think the write was never attempted\u001b[39;00m\n\u001b[1;32m   1469\u001b[0m         \u001b[38;5;66;03m# if we raise ServerSelectionTimeoutError on the retry\u001b[39;00m\n\u001b[1;32m   1470\u001b[0m         \u001b[38;5;66;03m# attempt. Raise the original exception instead.\u001b[39;00m\n",
      "File \u001b[0;32m/srv/conda/envs/notebook/lib/python3.11/site-packages/pymongo/mongo_client.py:1337\u001b[0m, in \u001b[0;36mMongoClient._run_operation.<locals>._cmd\u001b[0;34m(session, server, sock_info, read_preference)\u001b[0m\n\u001b[1;32m   1335\u001b[0m \u001b[38;5;28;01mdef\u001b[39;00m \u001b[38;5;21m_cmd\u001b[39m(session, server, sock_info, read_preference):\n\u001b[1;32m   1336\u001b[0m     operation\u001b[38;5;241m.\u001b[39mreset()  \u001b[38;5;66;03m# Reset op in case of retry.\u001b[39;00m\n\u001b[0;32m-> 1337\u001b[0m     \u001b[38;5;28;01mreturn\u001b[39;00m \u001b[43mserver\u001b[49m\u001b[38;5;241;43m.\u001b[39;49m\u001b[43mrun_operation\u001b[49m\u001b[43m(\u001b[49m\n\u001b[1;32m   1338\u001b[0m \u001b[43m        \u001b[49m\u001b[43msock_info\u001b[49m\u001b[43m,\u001b[49m\u001b[43m \u001b[49m\u001b[43moperation\u001b[49m\u001b[43m,\u001b[49m\u001b[43m \u001b[49m\u001b[43mread_preference\u001b[49m\u001b[43m,\u001b[49m\u001b[43m \u001b[49m\u001b[38;5;28;43mself\u001b[39;49m\u001b[38;5;241;43m.\u001b[39;49m\u001b[43m_event_listeners\u001b[49m\u001b[43m,\u001b[49m\u001b[43m \u001b[49m\u001b[43munpack_res\u001b[49m\n\u001b[1;32m   1339\u001b[0m \u001b[43m    \u001b[49m\u001b[43m)\u001b[49m\n",
      "File \u001b[0;32m/srv/conda/envs/notebook/lib/python3.11/site-packages/pymongo/helpers.py:279\u001b[0m, in \u001b[0;36m_handle_reauth.<locals>.inner\u001b[0;34m(*args, **kwargs)\u001b[0m\n\u001b[1;32m    276\u001b[0m \u001b[38;5;28;01mfrom\u001b[39;00m \u001b[38;5;21;01mpymongo\u001b[39;00m\u001b[38;5;21;01m.\u001b[39;00m\u001b[38;5;21;01mpool\u001b[39;00m \u001b[38;5;28;01mimport\u001b[39;00m SocketInfo\n\u001b[1;32m    278\u001b[0m \u001b[38;5;28;01mtry\u001b[39;00m:\n\u001b[0;32m--> 279\u001b[0m     \u001b[38;5;28;01mreturn\u001b[39;00m \u001b[43mfunc\u001b[49m\u001b[43m(\u001b[49m\u001b[38;5;241;43m*\u001b[39;49m\u001b[43margs\u001b[49m\u001b[43m,\u001b[49m\u001b[43m \u001b[49m\u001b[38;5;241;43m*\u001b[39;49m\u001b[38;5;241;43m*\u001b[39;49m\u001b[43mkwargs\u001b[49m\u001b[43m)\u001b[49m\n\u001b[1;32m    280\u001b[0m \u001b[38;5;28;01mexcept\u001b[39;00m OperationFailure \u001b[38;5;28;01mas\u001b[39;00m exc:\n\u001b[1;32m    281\u001b[0m     \u001b[38;5;28;01mif\u001b[39;00m no_reauth:\n",
      "File \u001b[0;32m/srv/conda/envs/notebook/lib/python3.11/site-packages/pymongo/server.py:135\u001b[0m, in \u001b[0;36mServer.run_operation\u001b[0;34m(self, sock_info, operation, read_preference, listeners, unpack_res)\u001b[0m\n\u001b[1;32m    133\u001b[0m         first \u001b[38;5;241m=\u001b[39m docs[\u001b[38;5;241m0\u001b[39m]\n\u001b[1;32m    134\u001b[0m         operation\u001b[38;5;241m.\u001b[39mclient\u001b[38;5;241m.\u001b[39m_process_response(first, operation\u001b[38;5;241m.\u001b[39msession)\n\u001b[0;32m--> 135\u001b[0m         \u001b[43m_check_command_response\u001b[49m\u001b[43m(\u001b[49m\u001b[43mfirst\u001b[49m\u001b[43m,\u001b[49m\u001b[43m \u001b[49m\u001b[43msock_info\u001b[49m\u001b[38;5;241;43m.\u001b[39;49m\u001b[43mmax_wire_version\u001b[49m\u001b[43m)\u001b[49m\n\u001b[1;32m    136\u001b[0m \u001b[38;5;28;01mexcept\u001b[39;00m \u001b[38;5;167;01mException\u001b[39;00m \u001b[38;5;28;01mas\u001b[39;00m exc:\n\u001b[1;32m    137\u001b[0m     \u001b[38;5;28;01mif\u001b[39;00m publish:\n",
      "File \u001b[0;32m/srv/conda/envs/notebook/lib/python3.11/site-packages/pymongo/helpers.py:194\u001b[0m, in \u001b[0;36m_check_command_response\u001b[0;34m(response, max_wire_version, allowable_errors, parse_write_concern_error)\u001b[0m\n\u001b[1;32m    191\u001b[0m \u001b[38;5;28;01melif\u001b[39;00m code \u001b[38;5;241m==\u001b[39m \u001b[38;5;241m43\u001b[39m:\n\u001b[1;32m    192\u001b[0m     \u001b[38;5;28;01mraise\u001b[39;00m CursorNotFound(errmsg, code, response, max_wire_version)\n\u001b[0;32m--> 194\u001b[0m \u001b[38;5;28;01mraise\u001b[39;00m OperationFailure(errmsg, code, response, max_wire_version)\n",
      "\u001b[0;31mOperationFailure\u001b[0m: Cannot do inclusion on field category in exclusion projection, full error: {'ok': 0.0, 'errmsg': 'Cannot do inclusion on field category in exclusion projection', 'code': 31253, 'codeName': 'Location31253'}"
     ]
    }
   ],
   "source": [
    "# 4 \n",
    "output = db.prizes.find({}, {\"year\": 0, \"category\": 1})\n",
    "\n",
    "pretty_print(output)"
   ]
  },
  {
   "cell_type": "code",
   "execution_count": null,
   "id": "6dfbe77f-b6d8-4a8b-a50f-2f22aad8b454",
   "metadata": {},
   "outputs": [],
   "source": [
    "db.prizes.find_one({\"overallMotivation\": {\"$exists\": 1}})"
   ]
  },
  {
   "cell_type": "markdown",
   "id": "fe46ed66-d20b-4abd-b070-4b43578530aa",
   "metadata": {},
   "source": [
    "# Sorting and Limits"
   ]
  },
  {
   "cell_type": "code",
   "execution_count": 42,
   "id": "599bb4a2-d53f-4488-b3c9-3190235df1d3",
   "metadata": {},
   "outputs": [
    {
     "name": "stdout",
     "output_type": "stream",
     "text": [
      "{'category': 'peace',\n",
      " 'laureates': [{'firstname': 'Henry', 'surname': 'Dunant'},\n",
      "               {'firstname': 'Frédéric', 'surname': 'Passy'}],\n",
      " 'year': 1901}\n",
      "{'category': 'peace',\n",
      " 'laureates': [{'firstname': 'Élie', 'surname': 'Ducommun'},\n",
      "               {'firstname': 'Albert', 'surname': 'Gobat'}],\n",
      " 'year': 1902}\n",
      "{'category': 'peace',\n",
      " 'laureates': [{'firstname': 'Randal', 'surname': 'Cremer'}],\n",
      " 'year': 1903}\n"
     ]
    }
   ],
   "source": [
    "output = (db.prizes\n",
    "          .find({\"category\": \"peace\"},\n",
    "               {\"_id\": 0, \"category\": 1, \"year\": 1,\n",
    "                \"laureates.firstname\": 1, \"laureates.surname\": 1})\n",
    "          .sort(\"year\")\n",
    "         )\n",
    "\n",
    "pretty_print(output)"
   ]
  },
  {
   "cell_type": "code",
   "execution_count": 43,
   "id": "3e72bdae-5c08-42a0-9bfc-9d2c269c6324",
   "metadata": {},
   "outputs": [
    {
     "name": "stdout",
     "output_type": "stream",
     "text": [
      "{'category': 'peace',\n",
      " 'laureates': [{'firstname': 'World Food Programme'}],\n",
      " 'year': 2020}\n",
      "{'category': 'peace',\n",
      " 'laureates': [{'firstname': 'Abiy', 'surname': 'Ahmed Ali'}],\n",
      " 'year': 2019}\n",
      "{'category': 'peace',\n",
      " 'laureates': [{'firstname': 'Denis', 'surname': 'Mukwege'},\n",
      "               {'firstname': 'Nadia', 'surname': 'Murad'}],\n",
      " 'year': 2018}\n"
     ]
    }
   ],
   "source": [
    "output = (db.prizes.find({\"category\": \"peace\"},\n",
    "               {\"_id\": 0, \"category\": 1, \"year\": 1,\n",
    "                \"laureates.firstname\": 1, \"laureates.surname\": 1})\n",
    "          .sort(\"year\", -1)\n",
    "         )\n",
    "\n",
    "pretty_print(output)"
   ]
  },
  {
   "cell_type": "code",
   "execution_count": 44,
   "id": "2443bca0-4700-4f70-900b-f9b2a12dade6",
   "metadata": {},
   "outputs": [
    {
     "name": "stdout",
     "output_type": "stream",
     "text": [
      "{'category': 'peace',\n",
      " 'laureates': [{'firstname': 'Henry', 'surname': 'Dunant'},\n",
      "               {'firstname': 'Frédéric', 'surname': 'Passy'}],\n",
      " 'year': 1901}\n",
      "{'category': 'peace',\n",
      " 'laureates': [{'firstname': 'Élie', 'surname': 'Ducommun'},\n",
      "               {'firstname': 'Albert', 'surname': 'Gobat'}],\n",
      " 'year': 1902}\n",
      "{'category': 'peace',\n",
      " 'laureates': [{'firstname': 'Randal', 'surname': 'Cremer'}],\n",
      " 'year': 1903}\n"
     ]
    }
   ],
   "source": [
    "output = (db.prizes.find({\"category\": \"peace\"},\n",
    "               {\"_id\": 0, \"category\": 1, \"year\": 1,\n",
    "                \"laureates.firstname\": 1, \"laureates.surname\": 1})\n",
    "          .sort([(\"year\", 1), (\"category\", -1)])\n",
    "         )\n",
    "\n",
    "pretty_print(output)"
   ]
  },
  {
   "cell_type": "code",
   "execution_count": 45,
   "id": "d4516281-afb0-4993-b93a-89a2df8484dd",
   "metadata": {},
   "outputs": [
    {
     "name": "stdout",
     "output_type": "stream",
     "text": [
      "{'category': 'peace',\n",
      " 'laureates': [{'firstname': 'Henry', 'surname': 'Dunant'},\n",
      "               {'firstname': 'Frédéric', 'surname': 'Passy'}],\n",
      " 'year': 1901}\n",
      "{'category': 'peace',\n",
      " 'laureates': [{'firstname': 'Élie', 'surname': 'Ducommun'},\n",
      "               {'firstname': 'Albert', 'surname': 'Gobat'}],\n",
      " 'year': 1902}\n"
     ]
    }
   ],
   "source": [
    "output = (db.prizes.find({\"category\": \"peace\"},\n",
    "               {\"_id\": 0, \"category\": 1, \"year\": 1,\n",
    "                \"laureates.firstname\": 1, \"laureates.surname\": 1})\n",
    "          .sort([(\"year\", 1), (\"category\", -1)])\n",
    "          .limit(2)\n",
    "         )\n",
    "\n",
    "pretty_print(output)"
   ]
  },
  {
   "cell_type": "markdown",
   "id": "072e279f-56ad-4a81-be77-194210a84d5d",
   "metadata": {},
   "source": [
    "# Aggregation Queries"
   ]
  },
  {
   "cell_type": "markdown",
   "id": "9594594c-df26-4d52-b925-53be4ecd1090",
   "metadata": {},
   "source": [
    "Zips JSON from the MongoDB Aggregation Tutorial: https://www.mongodb.com/docs/manual/tutorial/aggregation-zip-code-data-set/"
   ]
  },
  {
   "cell_type": "markdown",
   "id": "c9035600-e5ab-4065-97f5-44229f518833",
   "metadata": {},
   "source": [
    "## Load `zips.json` into new `local.zips`"
   ]
  },
  {
   "cell_type": "markdown",
   "id": "5a808fbd-a82e-4185-ba56-e6d6d8f24bf8",
   "metadata": {},
   "source": [
    "For the sake of simplicity, we'll make a new collection `zips` in a new `aggquerydb` database."
   ]
  },
  {
   "cell_type": "code",
   "execution_count": null,
   "id": "3062a9cb-bd90-4ac7-be8b-4f842d00fbc4",
   "metadata": {},
   "outputs": [],
   "source": [
    "# reimport/redefine as needed\n",
    "import json\n",
    "import pymongo\n",
    "import pprint\n",
    "\n",
    "def pretty_print(output_collection, n_to_print=3):\n",
    "    \"\"\"\n",
    "    note if n_to_print is -1, this print everything\n",
    "    \"\"\"\n",
    "    for i, doc in enumerate(output_collection):\n",
    "        pprint.pprint(doc)        # nicely formats each document\n",
    "        if i+1 == n_to_print: return"
   ]
  },
  {
   "cell_type": "code",
   "execution_count": null,
   "id": "ca45b233-9dfe-4ed2-917f-ee32a5e3f035",
   "metadata": {},
   "outputs": [],
   "source": [
    "client = pymongo.MongoClient('mongodb://localhost')\n",
    "client.list_database_names()"
   ]
  },
  {
   "cell_type": "code",
   "execution_count": null,
   "id": "0e0cfc35-bc3d-4d8a-aaea-32feb5ca2f9f",
   "metadata": {},
   "outputs": [],
   "source": [
    "# run this cell to make the new collection\n",
    "# and insert zipcode documents\n",
    "\n",
    "client.drop_database('aggquerydb') # if already exists\n",
    "db = client.aggquerydb\n",
    "\n",
    "with open('data/zips.json', encoding='utf-8') as f:\n",
    "    for line in f.readlines():\n",
    "        db.zips.insert_one(json.loads(line))"
   ]
  },
  {
   "cell_type": "code",
   "execution_count": null,
   "id": "9d318a3b-3671-4f25-8d61-de933069eda7",
   "metadata": {},
   "outputs": [],
   "source": [
    "db.zips.count_documents({})"
   ]
  },
  {
   "cell_type": "code",
   "execution_count": null,
   "id": "b2550972-e19b-4b1c-9e7c-7670a290ca5f",
   "metadata": {},
   "outputs": [],
   "source": [
    "output = db.zips.aggregate( [    \n",
    "{ \"$group\": { \"_id\": \"$state\",  \n",
    "  \"totalPop\": { \"$sum\": \"$pop\" } } },    \n",
    "{ \"$match\": { \"totalPop\":\n",
    "            { \"$gte\": 15000000 } } }, \n",
    "{ \"$sort\" : { \"totalPop\" : -1 } }\n",
    "] )\n",
    "\n",
    "pretty_print(output)"
   ]
  },
  {
   "cell_type": "markdown",
   "id": "96c4514f-501e-4909-a47b-e5fca0adc64e",
   "metadata": {},
   "source": [
    "# Aggregation Queries: Unwind/Lookup"
   ]
  },
  {
   "cell_type": "markdown",
   "id": "ad7befa2-a480-490d-8da1-e0d6e0c9968c",
   "metadata": {},
   "source": [
    "Make a new collection, `inventory`."
   ]
  },
  {
   "cell_type": "code",
   "execution_count": null,
   "id": "0dbbd230-1aa4-4bca-98dd-992a343f4652",
   "metadata": {},
   "outputs": [],
   "source": [
    "# stay in the aggquerydb database\n",
    "db = client.aggquerydb"
   ]
  },
  {
   "cell_type": "code",
   "execution_count": null,
   "id": "b196fd59-1942-4934-9140-39f4cba7d1b9",
   "metadata": {},
   "outputs": [],
   "source": [
    "db.inventory.insert_many( [    \n",
    "{ \"item\": \"journal\",\n",
    " \"tags\": [\"blank\", \"red\"],\n",
    " \"dim\": [ 14, 21 ],\n",
    " \"instock\": [ { \"loc\": \"A\", \"qty\": 5 }, { \"loc\": \"C\", \"qty\": 15 } ]\n",
    "},    \n",
    "{ \"item\": \"notebook\",\n",
    " \"tags\": [\"red\", \"blank\"],\n",
    " \"dim\": [ 14, 21 ],\n",
    " \"instock\": [ { \"loc\": \"C\", \"qty\": 5 } ]\n",
    "},    \n",
    "{ \"item\": \"paper\",\n",
    " \"tags\": [\"red\", \"blank\", \"plain\"],\n",
    " \"dim\": [ 14, 21 ],\n",
    " \"instock\": [ { \"loc\": \"A\", \"qty\": 60 }, { \"loc\": \"B\", \"qty\": 15 } ]\n",
    "},    \n",
    "{ \"item\": \"planner\",\n",
    " \"tags\": [\"blank\", \"red\"],\n",
    " \"dim\": [ 22.85, 30 ] ,\n",
    " \"instock\": [ { \"loc\": \"A\", \"qty\": 40 }, { \"loc\": \"B\", \"qty\": 5 } ]\n",
    "},    \n",
    "{ \"item\": \"postcard\",\n",
    " \"tags\": [\"blue\"],\n",
    " \"dim\": [ 10, 15.25 ],\n",
    " \"instock\": [ { \"loc\": \"B\", \"qty\": 15 }, { \"loc\": \"C\", \"qty\": 35 } ]\n",
    "}\n",
    "]);"
   ]
  },
  {
   "cell_type": "code",
   "execution_count": null,
   "id": "a0c42e76-f567-4993-a9f5-3baca65efb07",
   "metadata": {},
   "outputs": [],
   "source": [
    "output = db.inventory.aggregate( [ \n",
    "{ \"$unwind\" : \"$tags\" }, \n",
    "{ \"$project\" : {\"_id\" : 0, \"instock\": 0}}  \n",
    "] )\n",
    "\n",
    "pretty_print(output, n_to_print=-1)"
   ]
  },
  {
   "cell_type": "code",
   "execution_count": null,
   "id": "7114d088-57ad-49d5-ae6f-99291c486bad",
   "metadata": {},
   "outputs": [],
   "source": [
    "output = db.inventory.aggregate( [ \n",
    "\t{ \"$unwind\" : \"$instock\" },  \n",
    "\t{ \"$group\" : { \"_id\" : \"$item\", \"totalqty\" : {\"$sum\" : \"$instock.qty\"}}} \n",
    "] )\n",
    "\n",
    "pretty_print(output, n_to_print=-1)"
   ]
  },
  {
   "cell_type": "code",
   "execution_count": null,
   "id": "f2a229a5-8020-4103-8220-21952e880867",
   "metadata": {},
   "outputs": [],
   "source": [
    "output = db.inventory.aggregate( [ \n",
    "{ \"$lookup\" : {\n",
    "    \"from\" : \"inventory\",\n",
    "    \"localField\": \"instock.loc\", \n",
    "    \"foreignField\": \"instock.loc\", \n",
    "    \"as\":\"otheritems\"}\n",
    "},  \n",
    "{ \"$project\" :\n",
    "    {\"_id\" : 0, \"tags\" : 0, \"dim\" : 0}\n",
    "} ] )\n",
    "\n",
    "pretty_print(output, n_to_print=1)"
   ]
  }
 ],
 "metadata": {
  "kernelspec": {
   "display_name": "Python 3 (ipykernel)",
   "language": "python",
   "name": "python3"
  },
  "language_info": {
   "codemirror_mode": {
    "name": "ipython",
    "version": 3
   },
   "file_extension": ".py",
   "mimetype": "text/x-python",
   "name": "python",
   "nbconvert_exporter": "python",
   "pygments_lexer": "ipython3",
   "version": "3.11.0"
  }
 },
 "nbformat": 4,
 "nbformat_minor": 5
}
