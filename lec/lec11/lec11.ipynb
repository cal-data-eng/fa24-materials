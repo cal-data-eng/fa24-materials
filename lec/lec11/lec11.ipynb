{
 "cells": [
  {
   "cell_type": "markdown",
   "id": "6f4dc967-c97c-449d-b983-837def50668c",
   "metadata": {},
   "source": [
    "# Lecture 11: GNIS & Baseball Examples"
   ]
  },
  {
   "cell_type": "code",
   "execution_count": 1,
   "id": "eebaaefa-68c6-49a7-a947-05c1288bdaec",
   "metadata": {},
   "outputs": [],
   "source": [
    "import numpy as np\n",
    "import pandas as pd"
   ]
  },
  {
   "cell_type": "markdown",
   "id": "c96c86c3-32e7-4d18-99b8-59e64cfcc9b7",
   "metadata": {},
   "source": [
    "---\n",
    "\n",
    "# Scalar Functions and Query Plans"
   ]
  },
  {
   "cell_type": "code",
   "execution_count": 2,
   "id": "4e2bd0d6-d390-45c9-bb8f-198e9045903d",
   "metadata": {},
   "outputs": [],
   "source": [
    "## we'll use the Lahman baseball database in our examples today.\n",
    "## replace the database connection with a database of your own!\n",
    "%reload_ext sql\n",
    "%sql postgresql://localhost:5432/baseball\n",
    "%config SqlMagic.displaylimit = 20"
   ]
  },
  {
   "cell_type": "code",
   "execution_count": 3,
   "id": "5e15b5e7-6f42-4d79-991a-8620d2f22bd4",
   "metadata": {},
   "outputs": [
    {
     "data": {
      "text/html": [
       "<span style=\"None\">Running query in &#x27;postgresql://localhost:5432/baseball&#x27;</span>"
      ],
      "text/plain": [
       "Running query in 'postgresql://localhost:5432/baseball'"
      ]
     },
     "metadata": {},
     "output_type": "display_data"
    },
    {
     "data": {
      "text/html": [
       "<span style=\"color: green\">5 rows affected.</span>"
      ],
      "text/plain": [
       "5 rows affected."
      ]
     },
     "metadata": {},
     "output_type": "display_data"
    },
    {
     "data": {
      "text/html": [
       "<table>\n",
       "    <thead>\n",
       "        <tr>\n",
       "            <th>year_id</th>\n",
       "            <th>year</th>\n",
       "        </tr>\n",
       "    </thead>\n",
       "    <tbody>\n",
       "        <tr>\n",
       "            <td>2004</td>\n",
       "            <td>'04</td>\n",
       "        </tr>\n",
       "        <tr>\n",
       "            <td>2007</td>\n",
       "            <td>'07</td>\n",
       "        </tr>\n",
       "        <tr>\n",
       "            <td>2009</td>\n",
       "            <td>'09</td>\n",
       "        </tr>\n",
       "        <tr>\n",
       "            <td>2010</td>\n",
       "            <td>'10</td>\n",
       "        </tr>\n",
       "        <tr>\n",
       "            <td>2012</td>\n",
       "            <td>'12</td>\n",
       "        </tr>\n",
       "    </tbody>\n",
       "</table>"
      ],
      "text/plain": [
       "+---------+------+\n",
       "| year_id | year |\n",
       "+---------+------+\n",
       "|   2004  | '04  |\n",
       "|   2007  | '07  |\n",
       "|   2009  | '09  |\n",
       "|   2010  | '10  |\n",
       "|   2012  | '12  |\n",
       "+---------+------+"
      ]
     },
     "execution_count": 3,
     "metadata": {},
     "output_type": "execute_result"
    }
   ],
   "source": [
    "%%sql\n",
    "WITH year_num AS\n",
    "  (SELECT year_id, (year_id % 100) as year\n",
    "     FROM batting\n",
    "  )\n",
    "SELECT year_id, CONCAT('''', LPAD(year::text, 2, '0')) as year\n",
    "  FROM year_num\n",
    " LIMIT 5;"
   ]
  },
  {
   "cell_type": "markdown",
   "id": "a88f1cb4-5dd8-480d-8bf7-a3f2e0a2fe84",
   "metadata": {},
   "source": [
    "Let's analyze the below query (we've flattened it for convenience):"
   ]
  },
  {
   "cell_type": "code",
   "execution_count": 4,
   "id": "d472387b-b9b4-4264-bfa4-159dfed000d9",
   "metadata": {},
   "outputs": [
    {
     "data": {
      "text/html": [
       "<span style=\"None\">Running query in &#x27;postgresql://localhost:5432/baseball&#x27;</span>"
      ],
      "text/plain": [
       "Running query in 'postgresql://localhost:5432/baseball'"
      ]
     },
     "metadata": {},
     "output_type": "display_data"
    },
    {
     "data": {
      "text/html": [
       "<span style=\"color: green\">2 rows affected.</span>"
      ],
      "text/plain": [
       "2 rows affected."
      ]
     },
     "metadata": {},
     "output_type": "display_data"
    },
    {
     "data": {
      "text/html": [
       "<table>\n",
       "    <thead>\n",
       "        <tr>\n",
       "            <th>QUERY PLAN</th>\n",
       "        </tr>\n",
       "    </thead>\n",
       "    <tbody>\n",
       "        <tr>\n",
       "            <td>Seq Scan on public.batting  (cost=0.00..3922.29 rows=104324 width=36)</td>\n",
       "        </tr>\n",
       "        <tr>\n",
       "            <td>&nbsp;&nbsp;Output: year_id, concat('''', lpad(((year_id % 100))::text, 2, '0'::text))</td>\n",
       "        </tr>\n",
       "    </tbody>\n",
       "</table>"
      ],
      "text/plain": [
       "+------------------------------------------------------------------------------+\n",
       "|                                  QUERY PLAN                                  |\n",
       "+------------------------------------------------------------------------------+\n",
       "|    Seq Scan on public.batting  (cost=0.00..3922.29 rows=104324 width=36)     |\n",
       "|   Output: year_id, concat('''', lpad(((year_id % 100))::text, 2, '0'::text)) |\n",
       "+------------------------------------------------------------------------------+"
      ]
     },
     "execution_count": 4,
     "metadata": {},
     "output_type": "execute_result"
    }
   ],
   "source": [
    "%%sql\n",
    "EXPLAIN (VERBOSE true)\n",
    "SELECT year_id,\n",
    "       CONCAT('''', LPAD((year_id % 100)::text, 2, '0')) AS year\n",
    "FROM batting;\n"
   ]
  },
  {
   "cell_type": "markdown",
   "id": "2f11053d-e442-4a23-b2c0-ab5d8d858359",
   "metadata": {},
   "source": [
    "What if scalar functions mention multiple tables?\n",
    "\n",
    "The below query computes an arbitrary statistic for pitchers:\n",
    "* 1 point for every strikeout they throw as pitcher\n",
    "* –1 for every point they themselves struck out as batter\n",
    "\n",
    "If the notebook-like output is hard to read, try out the query in `psql`. Note that notebooks don't preserve whitespace when displaying dataframes."
   ]
  },
  {
   "cell_type": "code",
   "execution_count": 5,
   "id": "76122e53-5bd6-4f79-93be-d9bf79685f0d",
   "metadata": {},
   "outputs": [
    {
     "data": {
      "text/html": [
       "<span style=\"None\">Running query in &#x27;postgresql://localhost:5432/baseball&#x27;</span>"
      ],
      "text/plain": [
       "Running query in 'postgresql://localhost:5432/baseball'"
      ]
     },
     "metadata": {},
     "output_type": "display_data"
    },
    {
     "data": {
      "text/html": [
       "<span style=\"color: green\">11 rows affected.</span>"
      ],
      "text/plain": [
       "11 rows affected."
      ]
     },
     "metadata": {},
     "output_type": "display_data"
    },
    {
     "data": {
      "text/html": [
       "<table>\n",
       "    <thead>\n",
       "        <tr>\n",
       "            <th>QUERY PLAN</th>\n",
       "        </tr>\n",
       "    </thead>\n",
       "    <tbody>\n",
       "        <tr>\n",
       "            <td>Nested Loop  (cost=0.43..12961.23 rows=336307 width=13)</td>\n",
       "        </tr>\n",
       "        <tr>\n",
       "            <td>&nbsp;&nbsp;Output: p.player_id, (p.so - b.so)</td>\n",
       "        </tr>\n",
       "        <tr>\n",
       "            <td>&nbsp;&nbsp;->  Seq Scan on public.pitching p  (cost=0.00..1374.06 rows=45806 width=13)</td>\n",
       "        </tr>\n",
       "        <tr>\n",
       "            <td>&nbsp;&nbsp;&nbsp;&nbsp;&nbsp;&nbsp;&nbsp;&nbsp;Output: p.player_id, p.year_id, p.stint, p.team_id, p.lg_id, p.w, p.l, p.g, p.gs, p.cg, p.sho, p.sv, p.ipouts, p.h, p.er, p.hr, p.bb, p.so, p.baopp, p.era, p.ibb, p.wp, p.hbp, p.bk, p.bfp, p.gf, p.r, p.sh, p.sf, p.gidp</td>\n",
       "        </tr>\n",
       "        <tr>\n",
       "            <td>&nbsp;&nbsp;->  Memoize  (cost=0.43..0.73 rows=7 width=13)</td>\n",
       "        </tr>\n",
       "        <tr>\n",
       "            <td>&nbsp;&nbsp;&nbsp;&nbsp;&nbsp;&nbsp;&nbsp;&nbsp;Output: b.so, b.player_id</td>\n",
       "        </tr>\n",
       "        <tr>\n",
       "            <td>&nbsp;&nbsp;&nbsp;&nbsp;&nbsp;&nbsp;&nbsp;&nbsp;Cache Key: p.player_id</td>\n",
       "        </tr>\n",
       "        <tr>\n",
       "            <td>&nbsp;&nbsp;&nbsp;&nbsp;&nbsp;&nbsp;&nbsp;&nbsp;Cache Mode: logical</td>\n",
       "        </tr>\n",
       "        <tr>\n",
       "            <td>&nbsp;&nbsp;&nbsp;&nbsp;&nbsp;&nbsp;&nbsp;&nbsp;->  Index Scan using batting_pkey on public.batting b  (cost=0.42..0.72 rows=7 width=13)</td>\n",
       "        </tr>\n",
       "        <tr>\n",
       "            <td>&nbsp;&nbsp;&nbsp;&nbsp;&nbsp;&nbsp;&nbsp;&nbsp;&nbsp;&nbsp;&nbsp;&nbsp;&nbsp;&nbsp;Output: b.so, b.player_id</td>\n",
       "        </tr>\n",
       "        <tr>\n",
       "            <td>&nbsp;&nbsp;&nbsp;&nbsp;&nbsp;&nbsp;&nbsp;&nbsp;&nbsp;&nbsp;&nbsp;&nbsp;&nbsp;&nbsp;Index Cond: ((b.player_id)::text = (p.player_id)::text)</td>\n",
       "        </tr>\n",
       "    </tbody>\n",
       "</table>"
      ],
      "text/plain": [
       "+------------------------------------------------------------------------------------------------------------------------------------------------------------------------------------------------------------------------------------+\n",
       "|                                                                                                             QUERY PLAN                                                                                                             |\n",
       "+------------------------------------------------------------------------------------------------------------------------------------------------------------------------------------------------------------------------------------+\n",
       "|                                                                                      Nested Loop  (cost=0.43..12961.23 rows=336307 width=13)                                                                                       |\n",
       "|                                                                                                  Output: p.player_id, (p.so - b.so)                                                                                                |\n",
       "|                                                                             ->  Seq Scan on public.pitching p  (cost=0.00..1374.06 rows=45806 width=13)                                                                            |\n",
       "|         Output: p.player_id, p.year_id, p.stint, p.team_id, p.lg_id, p.w, p.l, p.g, p.gs, p.cg, p.sho, p.sv, p.ipouts, p.h, p.er, p.hr, p.bb, p.so, p.baopp, p.era, p.ibb, p.wp, p.hbp, p.bk, p.bfp, p.gf, p.r, p.sh, p.sf, p.gidp |\n",
       "|                                                                                            ->  Memoize  (cost=0.43..0.73 rows=7 width=13)                                                                                          |\n",
       "|                                                                                                         Output: b.so, b.player_id                                                                                                  |\n",
       "|                                                                                                           Cache Key: p.player_id                                                                                                   |\n",
       "|                                                                                                            Cache Mode: logical                                                                                                     |\n",
       "|                                                                          ->  Index Scan using batting_pkey on public.batting b  (cost=0.42..0.72 rows=7 width=13)                                                                  |\n",
       "|                                                                                                            Output: b.so, b.player_id                                                                                               |\n",
       "|                                                                                             Index Cond: ((b.player_id)::text = (p.player_id)::text)                                                                                |\n",
       "+------------------------------------------------------------------------------------------------------------------------------------------------------------------------------------------------------------------------------------+"
      ]
     },
     "execution_count": 5,
     "metadata": {},
     "output_type": "execute_result"
    }
   ],
   "source": [
    "%%sql\n",
    "EXPLAIN (VERBOSE true)\n",
    "SELECT p.player_id, p.so - b.so\n",
    "  FROM pitching p\n",
    "  INNER JOIN batting b\n",
    "  ON p.player_id=b.player_id;"
   ]
  },
  {
   "cell_type": "markdown",
   "id": "98faa532-b8b4-4ef4-8ef7-51868bc1f804",
   "metadata": {},
   "source": [
    "### Window Functions"
   ]
  },
  {
   "cell_type": "code",
   "execution_count": 6,
   "id": "a7ee3734-e509-43a5-914e-d194f9a324e3",
   "metadata": {},
   "outputs": [
    {
     "data": {
      "text/html": [
       "<span style=\"None\">Running query in &#x27;postgresql://localhost:5432/baseball&#x27;</span>"
      ],
      "text/plain": [
       "Running query in 'postgresql://localhost:5432/baseball'"
      ]
     },
     "metadata": {},
     "output_type": "display_data"
    },
    {
     "data": {
      "text/html": [
       "<span style=\"color: green\">10 rows affected.</span>"
      ],
      "text/plain": [
       "10 rows affected."
      ]
     },
     "metadata": {},
     "output_type": "display_data"
    },
    {
     "data": {
      "text/html": [
       "<table>\n",
       "    <thead>\n",
       "        <tr>\n",
       "            <th>name_first</th>\n",
       "            <th>name_last</th>\n",
       "            <th>year_id</th>\n",
       "            <th>hr</th>\n",
       "            <th>rank</th>\n",
       "            <th>avg_3yr</th>\n",
       "            <th>previous</th>\n",
       "            <th>lag2</th>\n",
       "        </tr>\n",
       "    </thead>\n",
       "    <tbody>\n",
       "        <tr>\n",
       "            <td>Barry</td>\n",
       "            <td>Bonds</td>\n",
       "            <td>2001</td>\n",
       "            <td>73</td>\n",
       "            <td>1</td>\n",
       "            <td>48.2500000000000000</td>\n",
       "            <td>37</td>\n",
       "            <td>34</td>\n",
       "        </tr>\n",
       "        <tr>\n",
       "            <td>Babe</td>\n",
       "            <td>Ruth</td>\n",
       "            <td>1927</td>\n",
       "            <td>60</td>\n",
       "            <td>2</td>\n",
       "            <td>44.5000000000000000</td>\n",
       "            <td>54</td>\n",
       "            <td>25</td>\n",
       "        </tr>\n",
       "        <tr>\n",
       "            <td>Babe</td>\n",
       "            <td>Ruth</td>\n",
       "            <td>1921</td>\n",
       "            <td>59</td>\n",
       "            <td>3</td>\n",
       "            <td>38.2500000000000000</td>\n",
       "            <td>0</td>\n",
       "            <td>29</td>\n",
       "        </tr>\n",
       "        <tr>\n",
       "            <td>Babe</td>\n",
       "            <td>Ruth</td>\n",
       "            <td>1920</td>\n",
       "            <td>54</td>\n",
       "            <td>4</td>\n",
       "            <td>24.0000000000000000</td>\n",
       "            <td>None</td>\n",
       "            <td>11</td>\n",
       "        </tr>\n",
       "        <tr>\n",
       "            <td>Babe</td>\n",
       "            <td>Ruth</td>\n",
       "            <td>1928</td>\n",
       "            <td>54</td>\n",
       "            <td>4</td>\n",
       "            <td>46.5000000000000000</td>\n",
       "            <td>59</td>\n",
       "            <td>47</td>\n",
       "        </tr>\n",
       "        <tr>\n",
       "            <td>Barry</td>\n",
       "            <td>Bonds</td>\n",
       "            <td>2000</td>\n",
       "            <td>49</td>\n",
       "            <td>6</td>\n",
       "            <td>40.0000000000000000</td>\n",
       "            <td>46</td>\n",
       "            <td>37</td>\n",
       "        </tr>\n",
       "        <tr>\n",
       "            <td>Babe</td>\n",
       "            <td>Ruth</td>\n",
       "            <td>1930</td>\n",
       "            <td>49</td>\n",
       "            <td>6</td>\n",
       "            <td>52.2500000000000000</td>\n",
       "            <td>41</td>\n",
       "            <td>54</td>\n",
       "        </tr>\n",
       "        <tr>\n",
       "            <td>Babe</td>\n",
       "            <td>Ruth</td>\n",
       "            <td>1926</td>\n",
       "            <td>47</td>\n",
       "            <td>8</td>\n",
       "            <td>39.7500000000000000</td>\n",
       "            <td>29</td>\n",
       "            <td>46</td>\n",
       "        </tr>\n",
       "        <tr>\n",
       "            <td>Barry</td>\n",
       "            <td>Bonds</td>\n",
       "            <td>1993</td>\n",
       "            <td>46</td>\n",
       "            <td>9</td>\n",
       "            <td>34.5000000000000000</td>\n",
       "            <td>16</td>\n",
       "            <td>25</td>\n",
       "        </tr>\n",
       "        <tr>\n",
       "            <td>Barry</td>\n",
       "            <td>Bonds</td>\n",
       "            <td>2002</td>\n",
       "            <td>46</td>\n",
       "            <td>9</td>\n",
       "            <td>50.5000000000000000</td>\n",
       "            <td>33</td>\n",
       "            <td>49</td>\n",
       "        </tr>\n",
       "    </tbody>\n",
       "</table>"
      ],
      "text/plain": [
       "+------------+-----------+---------+----+------+---------------------+----------+------+\n",
       "| name_first | name_last | year_id | hr | rank |       avg_3yr       | previous | lag2 |\n",
       "+------------+-----------+---------+----+------+---------------------+----------+------+\n",
       "|   Barry    |   Bonds   |   2001  | 73 |  1   | 48.2500000000000000 |    37    |  34  |\n",
       "|    Babe    |    Ruth   |   1927  | 60 |  2   | 44.5000000000000000 |    54    |  25  |\n",
       "|    Babe    |    Ruth   |   1921  | 59 |  3   | 38.2500000000000000 |    0     |  29  |\n",
       "|    Babe    |    Ruth   |   1920  | 54 |  4   | 24.0000000000000000 |   None   |  11  |\n",
       "|    Babe    |    Ruth   |   1928  | 54 |  4   | 46.5000000000000000 |    59    |  47  |\n",
       "|   Barry    |   Bonds   |   2000  | 49 |  6   | 40.0000000000000000 |    46    |  37  |\n",
       "|    Babe    |    Ruth   |   1930  | 49 |  6   | 52.2500000000000000 |    41    |  54  |\n",
       "|    Babe    |    Ruth   |   1926  | 47 |  8   | 39.7500000000000000 |    29    |  46  |\n",
       "|   Barry    |   Bonds   |   1993  | 46 |  9   | 34.5000000000000000 |    16    |  25  |\n",
       "|   Barry    |   Bonds   |   2002  | 46 |  9   | 50.5000000000000000 |    33    |  49  |\n",
       "+------------+-----------+---------+----+------+---------------------+----------+------+"
      ]
     },
     "execution_count": 6,
     "metadata": {},
     "output_type": "execute_result"
    }
   ],
   "source": [
    "%%sql\n",
    "SELECT name_first, name_last, year_id, HR,\n",
    "       rank() OVER (ORDER BY HR DESC),\n",
    "       avg(HR)    OVER (PARTITION BY b.player_id ORDER BY year_id ROWS 3 PRECEDING) as avg_3yr,\n",
    "       lag(HR, 7) OVER (PARTITION BY b.player_id ORDER BY year_id) as previous,\n",
    "       lag(HR, 2) OVER (PARTITION BY b.player_id ORDER BY year_id) as lag2\n",
    "FROM batting b, people p\n",
    "WHERE p.player_id = b.player_id\n",
    "   AND (name_last = 'Bonds' or name_last = 'Ruth')\n",
    "ORDER BY HR DESC\n",
    "LIMIT 10;"
   ]
  },
  {
   "cell_type": "markdown",
   "id": "c15e494e-b294-4073-b9c2-e8e67094bd9b",
   "metadata": {},
   "source": [
    "### Inverse Distribution Window Functions"
   ]
  },
  {
   "cell_type": "code",
   "execution_count": 7,
   "id": "dfc97afe-151a-4b58-b981-8185c5bf35f0",
   "metadata": {},
   "outputs": [
    {
     "data": {
      "text/html": [
       "<span style=\"None\">Running query in &#x27;postgresql://localhost:5432/baseball&#x27;</span>"
      ],
      "text/plain": [
       "Running query in 'postgresql://localhost:5432/baseball'"
      ]
     },
     "metadata": {},
     "output_type": "display_data"
    },
    {
     "data": {
      "text/html": [
       "<span style=\"color: green\">1 rows affected.</span>"
      ],
      "text/plain": [
       "1 rows affected."
      ]
     },
     "metadata": {},
     "output_type": "display_data"
    },
    {
     "data": {
      "text/html": [
       "<table>\n",
       "    <thead>\n",
       "        <tr>\n",
       "            <th>min</th>\n",
       "            <th>p25</th>\n",
       "            <th>median</th>\n",
       "            <th>p75</th>\n",
       "            <th>p99</th>\n",
       "            <th>max</th>\n",
       "            <th>average hit rate</th>\n",
       "        </tr>\n",
       "    </thead>\n",
       "    <tbody>\n",
       "        <tr>\n",
       "            <td>0</td>\n",
       "            <td>0.0</td>\n",
       "            <td>0.0</td>\n",
       "            <td>2.0</td>\n",
       "            <td>31.0</td>\n",
       "            <td>73</td>\n",
       "            <td>2.8315823779763046</td>\n",
       "        </tr>\n",
       "    </tbody>\n",
       "</table>"
      ],
      "text/plain": [
       "+-----+-----+--------+-----+------+-----+--------------------+\n",
       "| min | p25 | median | p75 | p99  | max |  average hit rate  |\n",
       "+-----+-----+--------+-----+------+-----+--------------------+\n",
       "|  0  | 0.0 |  0.0   | 2.0 | 31.0 |  73 | 2.8315823779763046 |\n",
       "+-----+-----+--------+-----+------+-----+--------------------+"
      ]
     },
     "execution_count": 7,
     "metadata": {},
     "output_type": "execute_result"
    }
   ],
   "source": [
    "%%sql\n",
    "SELECT MIN(HR),\n",
    "       percentile_cont(0.25) WITHIN GROUP (ORDER BY HR) AS p25,\n",
    "       percentile_cont(0.50) WITHIN GROUP (ORDER BY HR) AS median,\n",
    "       percentile_cont(0.75) WITHIN GROUP (ORDER BY HR) AS p75,\n",
    "       percentile_cont(0.99) WITHIN GROUP (ORDER BY HR) AS p99,\n",
    "       MAX(HR),\n",
    "       AVG(HR) AS \"average hit rate\"\n",
    "FROM batting;"
   ]
  },
  {
   "cell_type": "code",
   "execution_count": 8,
   "id": "a540915b-40d4-49ad-9392-706c5f255765",
   "metadata": {},
   "outputs": [
    {
     "data": {
      "text/html": [
       "<span style=\"None\">Running query in &#x27;postgresql://localhost:5432/baseball&#x27;</span>"
      ],
      "text/plain": [
       "Running query in 'postgresql://localhost:5432/baseball'"
      ]
     },
     "metadata": {},
     "output_type": "display_data"
    },
    {
     "data": {
      "text/html": [
       "<span style=\"color: green\">67 rows affected.</span>"
      ],
      "text/plain": [
       "67 rows affected."
      ]
     },
     "metadata": {},
     "output_type": "display_data"
    },
    {
     "data": {
      "text/html": [
       "<table>\n",
       "    <thead>\n",
       "        <tr>\n",
       "            <th>hr</th>\n",
       "            <th>count</th>\n",
       "        </tr>\n",
       "    </thead>\n",
       "    <tbody>\n",
       "        <tr>\n",
       "            <td>73</td>\n",
       "            <td>1</td>\n",
       "        </tr>\n",
       "        <tr>\n",
       "            <td>70</td>\n",
       "            <td>1</td>\n",
       "        </tr>\n",
       "        <tr>\n",
       "            <td>66</td>\n",
       "            <td>1</td>\n",
       "        </tr>\n",
       "        <tr>\n",
       "            <td>65</td>\n",
       "            <td>1</td>\n",
       "        </tr>\n",
       "        <tr>\n",
       "            <td>64</td>\n",
       "            <td>1</td>\n",
       "        </tr>\n",
       "        <tr>\n",
       "            <td>63</td>\n",
       "            <td>1</td>\n",
       "        </tr>\n",
       "        <tr>\n",
       "            <td>61</td>\n",
       "            <td>1</td>\n",
       "        </tr>\n",
       "        <tr>\n",
       "            <td>60</td>\n",
       "            <td>1</td>\n",
       "        </tr>\n",
       "        <tr>\n",
       "            <td>59</td>\n",
       "            <td>2</td>\n",
       "        </tr>\n",
       "        <tr>\n",
       "            <td>58</td>\n",
       "            <td>3</td>\n",
       "        </tr>\n",
       "        <tr>\n",
       "            <td>57</td>\n",
       "            <td>2</td>\n",
       "        </tr>\n",
       "        <tr>\n",
       "            <td>56</td>\n",
       "            <td>3</td>\n",
       "        </tr>\n",
       "        <tr>\n",
       "            <td>54</td>\n",
       "            <td>7</td>\n",
       "        </tr>\n",
       "        <tr>\n",
       "            <td>53</td>\n",
       "            <td>1</td>\n",
       "        </tr>\n",
       "        <tr>\n",
       "            <td>52</td>\n",
       "            <td>7</td>\n",
       "        </tr>\n",
       "        <tr>\n",
       "            <td>51</td>\n",
       "            <td>5</td>\n",
       "        </tr>\n",
       "        <tr>\n",
       "            <td>50</td>\n",
       "            <td>6</td>\n",
       "        </tr>\n",
       "        <tr>\n",
       "            <td>49</td>\n",
       "            <td>19</td>\n",
       "        </tr>\n",
       "        <tr>\n",
       "            <td>48</td>\n",
       "            <td>11</td>\n",
       "        </tr>\n",
       "        <tr>\n",
       "            <td>47</td>\n",
       "            <td>24</td>\n",
       "        </tr>\n",
       "    </tbody>\n",
       "</table>\n",
       "<span style=\"font-style:italic;text-align:center;\">Truncated to <a href=\"https://jupysql.ploomber.io/en/latest/api/configuration.html#displaylimit\">displaylimit</a> of 20.</span>"
      ],
      "text/plain": [
       "+----+-------+\n",
       "| hr | count |\n",
       "+----+-------+\n",
       "| 73 |   1   |\n",
       "| 70 |   1   |\n",
       "| 66 |   1   |\n",
       "| 65 |   1   |\n",
       "| 64 |   1   |\n",
       "| 63 |   1   |\n",
       "| 61 |   1   |\n",
       "| 60 |   1   |\n",
       "| 59 |   2   |\n",
       "| 58 |   3   |\n",
       "| 57 |   2   |\n",
       "| 56 |   3   |\n",
       "| 54 |   7   |\n",
       "| 53 |   1   |\n",
       "| 52 |   7   |\n",
       "| 51 |   5   |\n",
       "| 50 |   6   |\n",
       "| 49 |   19  |\n",
       "| 48 |   11  |\n",
       "| 47 |   24  |\n",
       "+----+-------+\n",
       "Truncated to displaylimit of 20."
      ]
     },
     "execution_count": 8,
     "metadata": {},
     "output_type": "execute_result"
    }
   ],
   "source": [
    "%%sql\n",
    "SELECT HR, COUNT(*) FROM batting GROUP BY HR ORDER BY HR DESC;"
   ]
  },
  {
   "cell_type": "markdown",
   "id": "b66a1035-8e9b-4538-b3bc-e178f874b0ad",
   "metadata": {},
   "source": [
    "### Hypothetical-Set Window Functions"
   ]
  },
  {
   "cell_type": "code",
   "execution_count": 9,
   "id": "9cdb4fa9-d3e8-4f08-b09f-0c486b6a37da",
   "metadata": {},
   "outputs": [],
   "source": [
    "hrs = 4 # hypothetically, four home runs"
   ]
  },
  {
   "cell_type": "code",
   "execution_count": 10,
   "id": "3e15d361-9066-4bcf-b703-1cdd3e220ae4",
   "metadata": {},
   "outputs": [
    {
     "data": {
      "text/html": [
       "<span style=\"None\">Running query in &#x27;postgresql://localhost:5432/baseball&#x27;</span>"
      ],
      "text/plain": [
       "Running query in 'postgresql://localhost:5432/baseball'"
      ]
     },
     "metadata": {},
     "output_type": "display_data"
    },
    {
     "data": {
      "text/html": [
       "<span style=\"color: green\">1 rows affected.</span>"
      ],
      "text/plain": [
       "1 rows affected."
      ]
     },
     "metadata": {},
     "output_type": "display_data"
    },
    {
     "data": {
      "text/html": [
       "<table>\n",
       "    <thead>\n",
       "        <tr>\n",
       "            <th>hypothetical</th>\n",
       "            <th>rank</th>\n",
       "            <th>dense_rank</th>\n",
       "            <th>pct_rank</th>\n",
       "            <th>cume_dist</th>\n",
       "        </tr>\n",
       "    </thead>\n",
       "    <tbody>\n",
       "        <tr>\n",
       "            <td>4</td>\n",
       "            <td>18420</td>\n",
       "            <td>63</td>\n",
       "            <td>17.655573022506807</td>\n",
       "            <td>0.823445962137551</td>\n",
       "        </tr>\n",
       "    </tbody>\n",
       "</table>"
      ],
      "text/plain": [
       "+--------------+-------+------------+--------------------+-------------------+\n",
       "| hypothetical |  rank | dense_rank |      pct_rank      |     cume_dist     |\n",
       "+--------------+-------+------------+--------------------+-------------------+\n",
       "|      4       | 18420 |     63     | 17.655573022506807 | 0.823445962137551 |\n",
       "+--------------+-------+------------+--------------------+-------------------+"
      ]
     },
     "execution_count": 10,
     "metadata": {},
     "output_type": "execute_result"
    }
   ],
   "source": [
    "%%sql\n",
    "SELECT {{hrs}} as hypothetical,\n",
    "       rank({{hrs}}) WITHIN GROUP (ORDER BY HR DESC),\n",
    "       dense_rank({{hrs}}) WITHIN GROUP (ORDER BY HR DESC),\n",
    "       percent_rank({{hrs}}) WITHIN GROUP (ORDER BY HR DESC) * 100 AS pct_rank,\n",
    "       cume_dist({{hrs}}) WITHIN GROUP (ORDER BY HR)\n",
    "FROM batting\n",
    "LIMIT 10;"
   ]
  },
  {
   "cell_type": "markdown",
   "id": "085085a0-ace7-439b-a25e-a878fa7a6a3f",
   "metadata": {},
   "source": [
    "Without `jupysql` variable substituion"
   ]
  },
  {
   "cell_type": "code",
   "execution_count": 11,
   "id": "74712a9b-100a-401a-99e1-e95eb342892c",
   "metadata": {},
   "outputs": [
    {
     "data": {
      "text/html": [
       "<span style=\"None\">Running query in &#x27;postgresql://localhost:5432/baseball&#x27;</span>"
      ],
      "text/plain": [
       "Running query in 'postgresql://localhost:5432/baseball'"
      ]
     },
     "metadata": {},
     "output_type": "display_data"
    },
    {
     "data": {
      "text/html": [
       "<span style=\"color: green\">1 rows affected.</span>"
      ],
      "text/plain": [
       "1 rows affected."
      ]
     },
     "metadata": {},
     "output_type": "display_data"
    },
    {
     "data": {
      "text/html": [
       "<table>\n",
       "    <thead>\n",
       "        <tr>\n",
       "            <th>hypothetical</th>\n",
       "            <th>rank</th>\n",
       "            <th>dense_rank</th>\n",
       "            <th>pct_rank</th>\n",
       "            <th>cume_dist</th>\n",
       "        </tr>\n",
       "    </thead>\n",
       "    <tbody>\n",
       "        <tr>\n",
       "            <td>4</td>\n",
       "            <td>18420</td>\n",
       "            <td>63</td>\n",
       "            <td>17.655573022506807</td>\n",
       "            <td>0.823445962137551</td>\n",
       "        </tr>\n",
       "    </tbody>\n",
       "</table>"
      ],
      "text/plain": [
       "+--------------+-------+------------+--------------------+-------------------+\n",
       "| hypothetical |  rank | dense_rank |      pct_rank      |     cume_dist     |\n",
       "+--------------+-------+------------+--------------------+-------------------+\n",
       "|      4       | 18420 |     63     | 17.655573022506807 | 0.823445962137551 |\n",
       "+--------------+-------+------------+--------------------+-------------------+"
      ]
     },
     "execution_count": 11,
     "metadata": {},
     "output_type": "execute_result"
    }
   ],
   "source": [
    "%%sql\n",
    "SELECT 4 as hypothetical,\n",
    "       rank(4) WITHIN GROUP (ORDER BY HR DESC),\n",
    "       dense_rank(4) WITHIN GROUP (ORDER BY HR DESC),\n",
    "       percent_rank(4) WITHIN GROUP (ORDER BY HR DESC) * 100 AS pct_rank,\n",
    "       cume_dist(4) WITHIN GROUP (ORDER BY HR)\n",
    "FROM batting\n",
    "LIMIT 10;"
   ]
  },
  {
   "cell_type": "markdown",
   "id": "4bb82259-2c7a-47bb-8550-4ef6587e709b",
   "metadata": {},
   "source": [
    "# GNIS"
   ]
  },
  {
   "cell_type": "markdown",
   "id": "597e9b93-b55b-42ce-92e8-8c67bb559087",
   "metadata": {},
   "source": [
    "This notebook transforms the existing [Geographics Names Information Systems (GNIS)](https://www.usgs.gov/core-science-systems/ngp/board-on-geographic-names/download-gnis-data) national zip file.\n",
    "\n",
    "We have provided a subset of the sql database for you in `data/national.sql`.\n",
    "\n",
    "If you'd like to make your own version of this database, see the end of this notebook. Note: Because of its size, we don't recommend building the GNIS SQL database from scratch on DataHub.\n"
   ]
  },
  {
   "cell_type": "code",
   "execution_count": 12,
   "id": "ef2949aa-c387-458b-b232-872f469d6fd9",
   "metadata": {},
   "outputs": [
    {
     "name": "stdout",
     "output_type": "stream",
     "text": [
      " pg_terminate_backend \n",
      "----------------------\n",
      " t\n",
      "(1 row)\n",
      "\n",
      "DROP DATABASE\n",
      "CREATE DATABASE\n",
      "SET\n",
      "SET\n",
      "SET\n",
      "SET\n",
      "SET\n",
      " set_config \n",
      "------------\n",
      " \n",
      "(1 row)\n",
      "\n",
      "SET\n",
      "SET\n",
      "SET\n",
      "SET\n",
      "SET\n",
      "SET\n",
      "CREATE TABLE\n",
      "ALTER TABLE\n",
      "CREATE TABLE\n",
      "ALTER TABLE\n",
      "COPY 3195\n",
      "COPY 11533\n",
      "CREATE INDEX\n"
     ]
    }
   ],
   "source": [
    "!psql -h localhost -d gnis -c 'SELECT pg_terminate_backend(pg_stat_activity.pid) FROM pg_stat_activity WHERE datname = current_database() AND pid <> pg_backend_pid();'\n",
    "!psql -h localhost -c 'DROP DATABASE IF EXISTS gnis'\n",
    "!psql -h localhost -c 'CREATE DATABASE gnis' \n",
    "!psql -h localhost -d gnis -f data/gnis.sql"
   ]
  },
  {
   "cell_type": "code",
   "execution_count": 13,
   "id": "8fa785a3-e960-41ca-b6db-76f7a19a6250",
   "metadata": {
    "slideshow": {
     "slide_type": "fragment"
    }
   },
   "outputs": [
    {
     "data": {
      "text/html": [
       "<span style=\"None\">Connecting and switching to connection postgresql://localhost:5432/gnis</span>"
      ],
      "text/plain": [
       "Connecting and switching to connection postgresql://localhost:5432/gnis"
      ]
     },
     "metadata": {},
     "output_type": "display_data"
    }
   ],
   "source": [
    "%reload_ext sql\n",
    "%sql postgresql://localhost:5432/gnis\n",
    "%config SqlMagic.displaylimit = 15"
   ]
  },
  {
   "cell_type": "markdown",
   "id": "a71726db-f43e-48a8-9262-ef99f25fbe60",
   "metadata": {},
   "source": [
    "* View schema in `psql`\n",
    "* View some rows below"
   ]
  },
  {
   "cell_type": "code",
   "execution_count": 14,
   "id": "091593dd-e45e-4ae1-b9c6-62510fc51354",
   "metadata": {},
   "outputs": [
    {
     "data": {
      "text/html": [
       "<span style=\"None\">Running query in &#x27;postgresql://localhost:5432/gnis&#x27;</span>"
      ],
      "text/plain": [
       "Running query in 'postgresql://localhost:5432/gnis'"
      ]
     },
     "metadata": {},
     "output_type": "display_data"
    },
    {
     "data": {
      "text/html": [
       "<span style=\"color: green\">1 rows affected.</span>"
      ],
      "text/plain": [
       "1 rows affected."
      ]
     },
     "metadata": {},
     "output_type": "display_data"
    },
    {
     "data": {
      "text/html": [
       "<table>\n",
       "    <thead>\n",
       "        <tr>\n",
       "            <th>count</th>\n",
       "        </tr>\n",
       "    </thead>\n",
       "    <tbody>\n",
       "        <tr>\n",
       "            <td>11533</td>\n",
       "        </tr>\n",
       "    </tbody>\n",
       "</table>"
      ],
      "text/plain": [
       "+-------+\n",
       "| count |\n",
       "+-------+\n",
       "| 11533 |\n",
       "+-------+"
      ]
     },
     "execution_count": 14,
     "metadata": {},
     "output_type": "execute_result"
    }
   ],
   "source": [
    "%sql SELECT COUNT(*) FROM national;"
   ]
  },
  {
   "cell_type": "code",
   "execution_count": 15,
   "id": "c545ddad-148e-4657-8790-2229a8be6126",
   "metadata": {
    "slideshow": {
     "slide_type": "subslide"
    }
   },
   "outputs": [
    {
     "data": {
      "text/html": [
       "<span style=\"None\">Running query in &#x27;postgresql://localhost:5432/gnis&#x27;</span>"
      ],
      "text/plain": [
       "Running query in 'postgresql://localhost:5432/gnis'"
      ]
     },
     "metadata": {},
     "output_type": "display_data"
    },
    {
     "data": {
      "text/html": [
       "<span style=\"color: green\">21 rows affected.</span>"
      ],
      "text/plain": [
       "21 rows affected."
      ]
     },
     "metadata": {},
     "output_type": "display_data"
    },
    {
     "data": {
      "text/html": [
       "<table>\n",
       "    <thead>\n",
       "        <tr>\n",
       "            <th>feature_id</th>\n",
       "            <th>feature_name</th>\n",
       "            <th>feature_class</th>\n",
       "            <th>state_alpha</th>\n",
       "            <th>state_numeric</th>\n",
       "            <th>county_name</th>\n",
       "            <th>county_numeric</th>\n",
       "            <th>primary_lat_dms</th>\n",
       "            <th>prim_long_dms</th>\n",
       "            <th>prim_lat_dec</th>\n",
       "            <th>prim_long_dec</th>\n",
       "            <th>source_lat_dms</th>\n",
       "            <th>source_long_dms</th>\n",
       "            <th>source_lat_dec</th>\n",
       "            <th>source_long_dec</th>\n",
       "            <th>elev_in_m</th>\n",
       "            <th>elev_in_ft</th>\n",
       "            <th>map_name</th>\n",
       "            <th>date_created</th>\n",
       "            <th>date_edited</th>\n",
       "        </tr>\n",
       "    </thead>\n",
       "    <tbody>\n",
       "        <tr>\n",
       "            <td>218316</td>\n",
       "            <td>Apperson Creek</td>\n",
       "            <td>Stream</td>\n",
       "            <td>CA</td>\n",
       "            <td>6</td>\n",
       "            <td>Alameda</td>\n",
       "            <td>1.0</td>\n",
       "            <td>373349N</td>\n",
       "            <td>1215000W</td>\n",
       "            <td>37.5635453</td>\n",
       "            <td>-121.8332887</td>\n",
       "            <td>373232N</td>\n",
       "            <td>1214804W</td>\n",
       "            <td>37.5422222</td>\n",
       "            <td>-121.8011111</td>\n",
       "            <td>148.0</td>\n",
       "            <td>486.0</td>\n",
       "            <td>La Costa Valley</td>\n",
       "            <td>01/19/1981</td>\n",
       "            <td>None</td>\n",
       "        </tr>\n",
       "        <tr>\n",
       "            <td>225998</td>\n",
       "            <td>Irvington High School</td>\n",
       "            <td>School</td>\n",
       "            <td>CA</td>\n",
       "            <td>6</td>\n",
       "            <td>Alameda</td>\n",
       "            <td>1.0</td>\n",
       "            <td>373126N</td>\n",
       "            <td>1215801W</td>\n",
       "            <td>37.523814</td>\n",
       "            <td>-121.9670659</td>\n",
       "            <td>None</td>\n",
       "            <td>None</td>\n",
       "            <td>None</td>\n",
       "            <td>None</td>\n",
       "            <td>13.0</td>\n",
       "            <td>43.0</td>\n",
       "            <td>Niles</td>\n",
       "            <td>01/19/1981</td>\n",
       "            <td>03/31/2021</td>\n",
       "        </tr>\n",
       "        <tr>\n",
       "            <td>226951</td>\n",
       "            <td>Laurel Elementary School</td>\n",
       "            <td>School</td>\n",
       "            <td>CA</td>\n",
       "            <td>6</td>\n",
       "            <td>Alameda</td>\n",
       "            <td>1.0</td>\n",
       "            <td>374734N</td>\n",
       "            <td>1221147W</td>\n",
       "            <td>37.792899</td>\n",
       "            <td>-122.1964288</td>\n",
       "            <td>None</td>\n",
       "            <td>None</td>\n",
       "            <td>None</td>\n",
       "            <td>None</td>\n",
       "            <td>68.0</td>\n",
       "            <td>223.0</td>\n",
       "            <td>Oakland East</td>\n",
       "            <td>06/14/2000</td>\n",
       "            <td>03/14/2021</td>\n",
       "        </tr>\n",
       "        <tr>\n",
       "            <td>229367</td>\n",
       "            <td>Murray Elementary School</td>\n",
       "            <td>School</td>\n",
       "            <td>CA</td>\n",
       "            <td>6</td>\n",
       "            <td>Alameda</td>\n",
       "            <td>1.0</td>\n",
       "            <td>374318N</td>\n",
       "            <td>1215557W</td>\n",
       "            <td>37.721801</td>\n",
       "            <td>-121.9326269</td>\n",
       "            <td>None</td>\n",
       "            <td>None</td>\n",
       "            <td>None</td>\n",
       "            <td>None</td>\n",
       "            <td>112.0</td>\n",
       "            <td>367.0</td>\n",
       "            <td>Dublin</td>\n",
       "            <td>01/19/1981</td>\n",
       "            <td>03/14/2021</td>\n",
       "        </tr>\n",
       "        <tr>\n",
       "            <td>235581</td>\n",
       "            <td>Strawberry Creek</td>\n",
       "            <td>Stream</td>\n",
       "            <td>CA</td>\n",
       "            <td>6</td>\n",
       "            <td>Alameda</td>\n",
       "            <td>1.0</td>\n",
       "            <td>375221N</td>\n",
       "            <td>1221443W</td>\n",
       "            <td>37.8724258</td>\n",
       "            <td>-122.2452464</td>\n",
       "            <td>375251N</td>\n",
       "            <td>1221354W</td>\n",
       "            <td>37.8807588</td>\n",
       "            <td>-122.2316349</td>\n",
       "            <td>154.0</td>\n",
       "            <td>505.0</td>\n",
       "            <td>Oakland East</td>\n",
       "            <td>01/19/1981</td>\n",
       "            <td>08/31/2016</td>\n",
       "        </tr>\n",
       "        <tr>\n",
       "            <td>1654274</td>\n",
       "            <td>Hayward Golf Course</td>\n",
       "            <td>Locale</td>\n",
       "            <td>CA</td>\n",
       "            <td>6</td>\n",
       "            <td>Alameda</td>\n",
       "            <td>1.0</td>\n",
       "            <td>373726N</td>\n",
       "            <td>1220250W</td>\n",
       "            <td>37.6238222</td>\n",
       "            <td>-122.0471843</td>\n",
       "            <td>None</td>\n",
       "            <td>None</td>\n",
       "            <td>None</td>\n",
       "            <td>None</td>\n",
       "            <td>5.0</td>\n",
       "            <td>16.0</td>\n",
       "            <td>Newark</td>\n",
       "            <td>01/19/1981</td>\n",
       "            <td>None</td>\n",
       "        </tr>\n",
       "        <tr>\n",
       "            <td>1664964</td>\n",
       "            <td>KOFY-AM (San Mateo)</td>\n",
       "            <td>Tower</td>\n",
       "            <td>CA</td>\n",
       "            <td>6</td>\n",
       "            <td>Alameda</td>\n",
       "            <td>1.0</td>\n",
       "            <td>374934N</td>\n",
       "            <td>1221842W</td>\n",
       "            <td>37.8260385</td>\n",
       "            <td>-122.3116366</td>\n",
       "            <td>None</td>\n",
       "            <td>None</td>\n",
       "            <td>None</td>\n",
       "            <td>None</td>\n",
       "            <td>2.0</td>\n",
       "            <td>7.0</td>\n",
       "            <td>Oakland West</td>\n",
       "            <td>07/01/1994</td>\n",
       "            <td>None</td>\n",
       "        </tr>\n",
       "        <tr>\n",
       "            <td>1670278</td>\n",
       "            <td>Lake Elizabeth</td>\n",
       "            <td>Lake</td>\n",
       "            <td>CA</td>\n",
       "            <td>6</td>\n",
       "            <td>Alameda</td>\n",
       "            <td>1.0</td>\n",
       "            <td>373255N</td>\n",
       "            <td>1215742W</td>\n",
       "            <td>37.5487056</td>\n",
       "            <td>-121.9617554</td>\n",
       "            <td>None</td>\n",
       "            <td>None</td>\n",
       "            <td>None</td>\n",
       "            <td>None</td>\n",
       "            <td>16.0</td>\n",
       "            <td>52.0</td>\n",
       "            <td>Niles</td>\n",
       "            <td>11/09/1995</td>\n",
       "            <td>03/07/2019</td>\n",
       "        </tr>\n",
       "        <tr>\n",
       "            <td>1692819</td>\n",
       "            <td>California School for the Deaf - Fremont</td>\n",
       "            <td>School</td>\n",
       "            <td>CA</td>\n",
       "            <td>6</td>\n",
       "            <td>Alameda</td>\n",
       "            <td>1.0</td>\n",
       "            <td>373334N</td>\n",
       "            <td>1215747W</td>\n",
       "            <td>37.5593966</td>\n",
       "            <td>-121.9631843</td>\n",
       "            <td>None</td>\n",
       "            <td>None</td>\n",
       "            <td>None</td>\n",
       "            <td>None</td>\n",
       "            <td>20.0</td>\n",
       "            <td>66.0</td>\n",
       "            <td>Niles</td>\n",
       "            <td>05/08/1996</td>\n",
       "            <td>09/16/2016</td>\n",
       "        </tr>\n",
       "        <tr>\n",
       "            <td>1692863</td>\n",
       "            <td>J A Freitas Library</td>\n",
       "            <td>Building</td>\n",
       "            <td>CA</td>\n",
       "            <td>6</td>\n",
       "            <td>Alameda</td>\n",
       "            <td>1.0</td>\n",
       "            <td>374335N</td>\n",
       "            <td>1220925W</td>\n",
       "            <td>37.7263185</td>\n",
       "            <td>-122.1569101</td>\n",
       "            <td>None</td>\n",
       "            <td>None</td>\n",
       "            <td>None</td>\n",
       "            <td>None</td>\n",
       "            <td>19.0</td>\n",
       "            <td>62.0</td>\n",
       "            <td>San Leandro</td>\n",
       "            <td>05/08/1996</td>\n",
       "            <td>None</td>\n",
       "        </tr>\n",
       "        <tr>\n",
       "            <td>1693010</td>\n",
       "            <td>Alice Arts Center</td>\n",
       "            <td>Building</td>\n",
       "            <td>CA</td>\n",
       "            <td>6</td>\n",
       "            <td>Alameda</td>\n",
       "            <td>1.0</td>\n",
       "            <td>374812N</td>\n",
       "            <td>1221557W</td>\n",
       "            <td>37.8032611</td>\n",
       "            <td>-122.2658025</td>\n",
       "            <td>None</td>\n",
       "            <td>None</td>\n",
       "            <td>None</td>\n",
       "            <td>None</td>\n",
       "            <td>11.0</td>\n",
       "            <td>36.0</td>\n",
       "            <td>Oakland West</td>\n",
       "            <td>05/08/1996</td>\n",
       "            <td>None</td>\n",
       "        </tr>\n",
       "        <tr>\n",
       "            <td>1961816</td>\n",
       "            <td>New Pilgrim Congregational Church</td>\n",
       "            <td>Church</td>\n",
       "            <td>CA</td>\n",
       "            <td>6</td>\n",
       "            <td>Alameda</td>\n",
       "            <td>1.0</td>\n",
       "            <td>374622N</td>\n",
       "            <td>1221131W</td>\n",
       "            <td>37.7727061</td>\n",
       "            <td>-122.1919115</td>\n",
       "            <td>None</td>\n",
       "            <td>None</td>\n",
       "            <td>None</td>\n",
       "            <td>None</td>\n",
       "            <td>21.0</td>\n",
       "            <td>69.0</td>\n",
       "            <td>Oakland East</td>\n",
       "            <td>09/11/2002</td>\n",
       "            <td>None</td>\n",
       "        </tr>\n",
       "        <tr>\n",
       "            <td>1961871</td>\n",
       "            <td>First Southern Baptist Church</td>\n",
       "            <td>Church</td>\n",
       "            <td>CA</td>\n",
       "            <td>6</td>\n",
       "            <td>Alameda</td>\n",
       "            <td>1.0</td>\n",
       "            <td>374657N</td>\n",
       "            <td>1221401W</td>\n",
       "            <td>37.7824282</td>\n",
       "            <td>-122.2335796</td>\n",
       "            <td>None</td>\n",
       "            <td>None</td>\n",
       "            <td>None</td>\n",
       "            <td>None</td>\n",
       "            <td>11.0</td>\n",
       "            <td>36.0</td>\n",
       "            <td>Oakland East</td>\n",
       "            <td>09/11/2002</td>\n",
       "            <td>None</td>\n",
       "        </tr>\n",
       "        <tr>\n",
       "            <td>1962002</td>\n",
       "            <td>First Church of Christ Scientist</td>\n",
       "            <td>Church</td>\n",
       "            <td>CA</td>\n",
       "            <td>6</td>\n",
       "            <td>Alameda</td>\n",
       "            <td>1.0</td>\n",
       "            <td>374353N</td>\n",
       "            <td>1220931W</td>\n",
       "            <td>37.7313183</td>\n",
       "            <td>-122.1585769</td>\n",
       "            <td>None</td>\n",
       "            <td>None</td>\n",
       "            <td>None</td>\n",
       "            <td>None</td>\n",
       "            <td>19.0</td>\n",
       "            <td>62.0</td>\n",
       "            <td>San Leandro</td>\n",
       "            <td>09/11/2002</td>\n",
       "            <td>None</td>\n",
       "        </tr>\n",
       "        <tr>\n",
       "            <td>2087391</td>\n",
       "            <td>First Presbyterian Church</td>\n",
       "            <td>Church</td>\n",
       "            <td>CA</td>\n",
       "            <td>6</td>\n",
       "            <td>Alameda</td>\n",
       "            <td>1.0</td>\n",
       "            <td>373254N</td>\n",
       "            <td>1220238W</td>\n",
       "            <td>37.5483333</td>\n",
       "            <td>-122.0438889</td>\n",
       "            <td>None</td>\n",
       "            <td>None</td>\n",
       "            <td>None</td>\n",
       "            <td>None</td>\n",
       "            <td>7.0</td>\n",
       "            <td>23.0</td>\n",
       "            <td>Newark</td>\n",
       "            <td>05/22/2006</td>\n",
       "            <td>None</td>\n",
       "        </tr>\n",
       "    </tbody>\n",
       "</table>\n",
       "<span style=\"font-style:italic;text-align:center;\">Truncated to <a href=\"https://jupysql.ploomber.io/en/latest/api/configuration.html#displaylimit\">displaylimit</a> of 15.</span>"
      ],
      "text/plain": [
       "+------------+------------------------------------------+---------------+-------------+---------------+-------------+----------------+-----------------+---------------+--------------+---------------+----------------+-----------------+----------------+-----------------+-----------+------------+-----------------+--------------+-------------+\n",
       "| feature_id |               feature_name               | feature_class | state_alpha | state_numeric | county_name | county_numeric | primary_lat_dms | prim_long_dms | prim_lat_dec | prim_long_dec | source_lat_dms | source_long_dms | source_lat_dec | source_long_dec | elev_in_m | elev_in_ft |     map_name    | date_created | date_edited |\n",
       "+------------+------------------------------------------+---------------+-------------+---------------+-------------+----------------+-----------------+---------------+--------------+---------------+----------------+-----------------+----------------+-----------------+-----------+------------+-----------------+--------------+-------------+\n",
       "|   218316   |              Apperson Creek              |     Stream    |      CA     |       6       |   Alameda   |      1.0       |     373349N     |    1215000W   |  37.5635453  |  -121.8332887 |    373232N     |     1214804W    |   37.5422222   |   -121.8011111  |   148.0   |   486.0    | La Costa Valley |  01/19/1981  |     None    |\n",
       "|   225998   |          Irvington High School           |     School    |      CA     |       6       |   Alameda   |      1.0       |     373126N     |    1215801W   |  37.523814   |  -121.9670659 |      None      |       None      |      None      |       None      |    13.0   |    43.0    |      Niles      |  01/19/1981  |  03/31/2021 |\n",
       "|   226951   |         Laurel Elementary School         |     School    |      CA     |       6       |   Alameda   |      1.0       |     374734N     |    1221147W   |  37.792899   |  -122.1964288 |      None      |       None      |      None      |       None      |    68.0   |   223.0    |   Oakland East  |  06/14/2000  |  03/14/2021 |\n",
       "|   229367   |         Murray Elementary School         |     School    |      CA     |       6       |   Alameda   |      1.0       |     374318N     |    1215557W   |  37.721801   |  -121.9326269 |      None      |       None      |      None      |       None      |   112.0   |   367.0    |      Dublin     |  01/19/1981  |  03/14/2021 |\n",
       "|   235581   |             Strawberry Creek             |     Stream    |      CA     |       6       |   Alameda   |      1.0       |     375221N     |    1221443W   |  37.8724258  |  -122.2452464 |    375251N     |     1221354W    |   37.8807588   |   -122.2316349  |   154.0   |   505.0    |   Oakland East  |  01/19/1981  |  08/31/2016 |\n",
       "|  1654274   |           Hayward Golf Course            |     Locale    |      CA     |       6       |   Alameda   |      1.0       |     373726N     |    1220250W   |  37.6238222  |  -122.0471843 |      None      |       None      |      None      |       None      |    5.0    |    16.0    |      Newark     |  01/19/1981  |     None    |\n",
       "|  1664964   |           KOFY-AM (San Mateo)            |     Tower     |      CA     |       6       |   Alameda   |      1.0       |     374934N     |    1221842W   |  37.8260385  |  -122.3116366 |      None      |       None      |      None      |       None      |    2.0    |    7.0     |   Oakland West  |  07/01/1994  |     None    |\n",
       "|  1670278   |              Lake Elizabeth              |      Lake     |      CA     |       6       |   Alameda   |      1.0       |     373255N     |    1215742W   |  37.5487056  |  -121.9617554 |      None      |       None      |      None      |       None      |    16.0   |    52.0    |      Niles      |  11/09/1995  |  03/07/2019 |\n",
       "|  1692819   | California School for the Deaf - Fremont |     School    |      CA     |       6       |   Alameda   |      1.0       |     373334N     |    1215747W   |  37.5593966  |  -121.9631843 |      None      |       None      |      None      |       None      |    20.0   |    66.0    |      Niles      |  05/08/1996  |  09/16/2016 |\n",
       "|  1692863   |           J A Freitas Library            |    Building   |      CA     |       6       |   Alameda   |      1.0       |     374335N     |    1220925W   |  37.7263185  |  -122.1569101 |      None      |       None      |      None      |       None      |    19.0   |    62.0    |   San Leandro   |  05/08/1996  |     None    |\n",
       "|  1693010   |            Alice Arts Center             |    Building   |      CA     |       6       |   Alameda   |      1.0       |     374812N     |    1221557W   |  37.8032611  |  -122.2658025 |      None      |       None      |      None      |       None      |    11.0   |    36.0    |   Oakland West  |  05/08/1996  |     None    |\n",
       "|  1961816   |    New Pilgrim Congregational Church     |     Church    |      CA     |       6       |   Alameda   |      1.0       |     374622N     |    1221131W   |  37.7727061  |  -122.1919115 |      None      |       None      |      None      |       None      |    21.0   |    69.0    |   Oakland East  |  09/11/2002  |     None    |\n",
       "|  1961871   |      First Southern Baptist Church       |     Church    |      CA     |       6       |   Alameda   |      1.0       |     374657N     |    1221401W   |  37.7824282  |  -122.2335796 |      None      |       None      |      None      |       None      |    11.0   |    36.0    |   Oakland East  |  09/11/2002  |     None    |\n",
       "|  1962002   |     First Church of Christ Scientist     |     Church    |      CA     |       6       |   Alameda   |      1.0       |     374353N     |    1220931W   |  37.7313183  |  -122.1585769 |      None      |       None      |      None      |       None      |    19.0   |    62.0    |   San Leandro   |  09/11/2002  |     None    |\n",
       "|  2087391   |        First Presbyterian Church         |     Church    |      CA     |       6       |   Alameda   |      1.0       |     373254N     |    1220238W   |  37.5483333  |  -122.0438889 |      None      |       None      |      None      |       None      |    7.0    |    23.0    |      Newark     |  05/22/2006  |     None    |\n",
       "+------------+------------------------------------------+---------------+-------------+---------------+-------------+----------------+-----------------+---------------+--------------+---------------+----------------+-----------------+----------------+-----------------+-----------+------------+-----------------+--------------+-------------+\n",
       "Truncated to displaylimit of 15."
      ]
     },
     "execution_count": 15,
     "metadata": {},
     "output_type": "execute_result"
    }
   ],
   "source": [
    "%sql SELECT * FROM national WHERE county_name = 'Alameda';"
   ]
  },
  {
   "cell_type": "code",
   "execution_count": 16,
   "id": "d30a2055-c81b-4f07-a61a-35241a510adc",
   "metadata": {},
   "outputs": [
    {
     "data": {
      "text/html": [
       "<span style=\"None\">Running query in &#x27;postgresql://localhost:5432/gnis&#x27;</span>"
      ],
      "text/plain": [
       "Running query in 'postgresql://localhost:5432/gnis'"
      ]
     },
     "metadata": {},
     "output_type": "display_data"
    },
    {
     "data": {
      "text/html": [
       "<span style=\"color: green\">1186 rows affected.</span>"
      ],
      "text/plain": [
       "1186 rows affected."
      ]
     },
     "metadata": {},
     "output_type": "display_data"
    },
    {
     "data": {
      "text/html": [
       "<table>\n",
       "    <thead>\n",
       "        <tr>\n",
       "            <th>feature_id</th>\n",
       "            <th>feature_name</th>\n",
       "            <th>feature_class</th>\n",
       "            <th>state_alpha</th>\n",
       "            <th>state_numeric</th>\n",
       "            <th>county_name</th>\n",
       "            <th>county_numeric</th>\n",
       "            <th>primary_lat_dms</th>\n",
       "            <th>prim_long_dms</th>\n",
       "            <th>prim_lat_dec</th>\n",
       "            <th>prim_long_dec</th>\n",
       "            <th>source_lat_dms</th>\n",
       "            <th>source_long_dms</th>\n",
       "            <th>source_lat_dec</th>\n",
       "            <th>source_long_dec</th>\n",
       "            <th>elev_in_m</th>\n",
       "            <th>elev_in_ft</th>\n",
       "            <th>map_name</th>\n",
       "            <th>date_created</th>\n",
       "            <th>date_edited</th>\n",
       "        </tr>\n",
       "    </thead>\n",
       "    <tbody>\n",
       "        <tr>\n",
       "            <td>1230</td>\n",
       "            <td>Belmont Mountains</td>\n",
       "            <td>Range</td>\n",
       "            <td>AZ</td>\n",
       "            <td>4</td>\n",
       "            <td>Maricopa</td>\n",
       "            <td>13.0</td>\n",
       "            <td>333832N</td>\n",
       "            <td>1125404W</td>\n",
       "            <td>33.642258</td>\n",
       "            <td>-112.9010129</td>\n",
       "            <td>None</td>\n",
       "            <td>None</td>\n",
       "            <td>None</td>\n",
       "            <td>None</td>\n",
       "            <td>931.0</td>\n",
       "            <td>3054.0</td>\n",
       "            <td>Belmont Mountain</td>\n",
       "            <td>02/08/1980</td>\n",
       "            <td>None</td>\n",
       "        </tr>\n",
       "        <tr>\n",
       "            <td>2336</td>\n",
       "            <td>Cabeza Prieta Game Range</td>\n",
       "            <td>Park</td>\n",
       "            <td>AZ</td>\n",
       "            <td>4</td>\n",
       "            <td>Yuma</td>\n",
       "            <td>27.0</td>\n",
       "            <td>321500N</td>\n",
       "            <td>1132703W</td>\n",
       "            <td>32.250056</td>\n",
       "            <td>-113.45074</td>\n",
       "            <td>None</td>\n",
       "            <td>None</td>\n",
       "            <td>None</td>\n",
       "            <td>None</td>\n",
       "            <td>275.0</td>\n",
       "            <td>902.0</td>\n",
       "            <td>Bryan Mountains</td>\n",
       "            <td>02/08/1980</td>\n",
       "            <td>None</td>\n",
       "        </tr>\n",
       "        <tr>\n",
       "            <td>2750</td>\n",
       "            <td>Chandler Springs</td>\n",
       "            <td>Spring</td>\n",
       "            <td>AZ</td>\n",
       "            <td>4</td>\n",
       "            <td>Navajo</td>\n",
       "            <td>17.0</td>\n",
       "            <td>352236N</td>\n",
       "            <td>1102831W</td>\n",
       "            <td>35.3766788</td>\n",
       "            <td>-110.4754096</td>\n",
       "            <td>None</td>\n",
       "            <td>None</td>\n",
       "            <td>None</td>\n",
       "            <td>None</td>\n",
       "            <td>1685.0</td>\n",
       "            <td>5528.0</td>\n",
       "            <td>Shonto Butte</td>\n",
       "            <td>02/08/1980</td>\n",
       "            <td>None</td>\n",
       "        </tr>\n",
       "        <tr>\n",
       "            <td>3342</td>\n",
       "            <td>Cottonwood Creek</td>\n",
       "            <td>Stream</td>\n",
       "            <td>AZ</td>\n",
       "            <td>4</td>\n",
       "            <td>Mohave</td>\n",
       "            <td>15.0</td>\n",
       "            <td>365407N</td>\n",
       "            <td>1123348W</td>\n",
       "            <td>36.901931</td>\n",
       "            <td>-112.5632547</td>\n",
       "            <td>370545N</td>\n",
       "            <td>1123733W</td>\n",
       "            <td>37.095818</td>\n",
       "            <td>-112.6257621</td>\n",
       "            <td>1389.0</td>\n",
       "            <td>4557.0</td>\n",
       "            <td>Fredonia</td>\n",
       "            <td>02/08/1980</td>\n",
       "            <td>None</td>\n",
       "        </tr>\n",
       "        <tr>\n",
       "            <td>7204</td>\n",
       "            <td>Little Tank</td>\n",
       "            <td>Reservoir</td>\n",
       "            <td>AZ</td>\n",
       "            <td>4</td>\n",
       "            <td>Mohave</td>\n",
       "            <td>15.0</td>\n",
       "            <td>343754N</td>\n",
       "            <td>1134557W</td>\n",
       "            <td>34.631793</td>\n",
       "            <td>-113.7658874</td>\n",
       "            <td>None</td>\n",
       "            <td>None</td>\n",
       "            <td>None</td>\n",
       "            <td>None</td>\n",
       "            <td>1043.0</td>\n",
       "            <td>3422.0</td>\n",
       "            <td>Beecher Canyon</td>\n",
       "            <td>02/08/1980</td>\n",
       "            <td>03/25/2019</td>\n",
       "        </tr>\n",
       "        <tr>\n",
       "            <td>7476</td>\n",
       "            <td>Lower Jumbo Mine</td>\n",
       "            <td>Mine</td>\n",
       "            <td>AZ</td>\n",
       "            <td>4</td>\n",
       "            <td>Yavapai</td>\n",
       "            <td>25.0</td>\n",
       "            <td>335728N</td>\n",
       "            <td>1123413W</td>\n",
       "            <td>33.9578095</td>\n",
       "            <td>-112.5701738</td>\n",
       "            <td>None</td>\n",
       "            <td>None</td>\n",
       "            <td>None</td>\n",
       "            <td>None</td>\n",
       "            <td>881.0</td>\n",
       "            <td>2890.0</td>\n",
       "            <td>Red Picacho</td>\n",
       "            <td>02/08/1980</td>\n",
       "            <td>None</td>\n",
       "        </tr>\n",
       "        <tr>\n",
       "            <td>8960</td>\n",
       "            <td>Old Quijotoa Well</td>\n",
       "            <td>Well</td>\n",
       "            <td>AZ</td>\n",
       "            <td>4</td>\n",
       "            <td>Pima</td>\n",
       "            <td>19.0</td>\n",
       "            <td>320259N</td>\n",
       "            <td>1120352W</td>\n",
       "            <td>32.0497945</td>\n",
       "            <td>-112.064574</td>\n",
       "            <td>None</td>\n",
       "            <td>None</td>\n",
       "            <td>None</td>\n",
       "            <td>None</td>\n",
       "            <td>626.0</td>\n",
       "            <td>2054.0</td>\n",
       "            <td>Vainom Kug</td>\n",
       "            <td>02/08/1980</td>\n",
       "            <td>03/27/2018</td>\n",
       "        </tr>\n",
       "        <tr>\n",
       "            <td>10197</td>\n",
       "            <td>Reese Ranch</td>\n",
       "            <td>Locale</td>\n",
       "            <td>AZ</td>\n",
       "            <td>4</td>\n",
       "            <td>Gila</td>\n",
       "            <td>7.0</td>\n",
       "            <td>330510N</td>\n",
       "            <td>1104244W</td>\n",
       "            <td>33.0861745</td>\n",
       "            <td>-110.7123268</td>\n",
       "            <td>None</td>\n",
       "            <td>None</td>\n",
       "            <td>None</td>\n",
       "            <td>None</td>\n",
       "            <td>633.0</td>\n",
       "            <td>2077.0</td>\n",
       "            <td>Christmas</td>\n",
       "            <td>02/08/1980</td>\n",
       "            <td>None</td>\n",
       "        </tr>\n",
       "        <tr>\n",
       "            <td>13821</td>\n",
       "            <td>Willow Beach</td>\n",
       "            <td>Locale</td>\n",
       "            <td>AZ</td>\n",
       "            <td>4</td>\n",
       "            <td>Mohave</td>\n",
       "            <td>15.0</td>\n",
       "            <td>355213N</td>\n",
       "            <td>1143934W</td>\n",
       "            <td>35.8702623</td>\n",
       "            <td>-114.6594215</td>\n",
       "            <td>None</td>\n",
       "            <td>None</td>\n",
       "            <td>None</td>\n",
       "            <td>None</td>\n",
       "            <td>205.0</td>\n",
       "            <td>673.0</td>\n",
       "            <td>Willow Beach</td>\n",
       "            <td>02/08/1980</td>\n",
       "            <td>None</td>\n",
       "        </tr>\n",
       "        <tr>\n",
       "            <td>24724</td>\n",
       "            <td>Bethany Villa Adult Mobile Home Park</td>\n",
       "            <td>Populated Place</td>\n",
       "            <td>AZ</td>\n",
       "            <td>4</td>\n",
       "            <td>Maricopa</td>\n",
       "            <td>13.0</td>\n",
       "            <td>333134N</td>\n",
       "            <td>1120951W</td>\n",
       "            <td>33.5261527</td>\n",
       "            <td>-112.1640412</td>\n",
       "            <td>None</td>\n",
       "            <td>None</td>\n",
       "            <td>None</td>\n",
       "            <td>None</td>\n",
       "            <td>352.0</td>\n",
       "            <td>1155.0</td>\n",
       "            <td>Glendale</td>\n",
       "            <td>06/27/1984</td>\n",
       "            <td>None</td>\n",
       "        </tr>\n",
       "        <tr>\n",
       "            <td>25416</td>\n",
       "            <td>Hannagan Meadow Administrative Site</td>\n",
       "            <td>Locale</td>\n",
       "            <td>AZ</td>\n",
       "            <td>4</td>\n",
       "            <td>Greenlee</td>\n",
       "            <td>11.0</td>\n",
       "            <td>333759N</td>\n",
       "            <td>1091933W</td>\n",
       "            <td>33.6331093</td>\n",
       "            <td>-109.3259135</td>\n",
       "            <td>None</td>\n",
       "            <td>None</td>\n",
       "            <td>None</td>\n",
       "            <td>None</td>\n",
       "            <td>2795.0</td>\n",
       "            <td>9170.0</td>\n",
       "            <td>Hannagan Meadow</td>\n",
       "            <td>02/01/1992</td>\n",
       "            <td>None</td>\n",
       "        </tr>\n",
       "        <tr>\n",
       "            <td>26075</td>\n",
       "            <td>Bear Canyon Well</td>\n",
       "            <td>Well</td>\n",
       "            <td>AZ</td>\n",
       "            <td>4</td>\n",
       "            <td>Greenlee</td>\n",
       "            <td>11.0</td>\n",
       "            <td>332032N</td>\n",
       "            <td>1092803W</td>\n",
       "            <td>33.3422811</td>\n",
       "            <td>-109.4675803</td>\n",
       "            <td>None</td>\n",
       "            <td>None</td>\n",
       "            <td>None</td>\n",
       "            <td>None</td>\n",
       "            <td>1518.0</td>\n",
       "            <td>4980.0</td>\n",
       "            <td>Bee Canyon</td>\n",
       "            <td>02/08/1980</td>\n",
       "            <td>02/15/2018</td>\n",
       "        </tr>\n",
       "        <tr>\n",
       "            <td>29080</td>\n",
       "            <td>Flying H Ranch</td>\n",
       "            <td>Locale</td>\n",
       "            <td>AZ</td>\n",
       "            <td>4</td>\n",
       "            <td>Cochise</td>\n",
       "            <td>3.0</td>\n",
       "            <td>312346N</td>\n",
       "            <td>1101436W</td>\n",
       "            <td>31.3962115</td>\n",
       "            <td>-110.2434125</td>\n",
       "            <td>None</td>\n",
       "            <td>None</td>\n",
       "            <td>None</td>\n",
       "            <td>None</td>\n",
       "            <td>1561.0</td>\n",
       "            <td>5121.0</td>\n",
       "            <td>Nicksville</td>\n",
       "            <td>02/08/1980</td>\n",
       "            <td>None</td>\n",
       "        </tr>\n",
       "        <tr>\n",
       "            <td>30088</td>\n",
       "            <td>Honey Bee Tank</td>\n",
       "            <td>Reservoir</td>\n",
       "            <td>AZ</td>\n",
       "            <td>4</td>\n",
       "            <td>Yavapai</td>\n",
       "            <td>25.0</td>\n",
       "            <td>344839N</td>\n",
       "            <td>1121359W</td>\n",
       "            <td>34.8109492</td>\n",
       "            <td>-112.2331807</td>\n",
       "            <td>None</td>\n",
       "            <td>None</td>\n",
       "            <td>None</td>\n",
       "            <td>None</td>\n",
       "            <td>1485.0</td>\n",
       "            <td>4872.0</td>\n",
       "            <td>Munds Draw</td>\n",
       "            <td>02/08/1980</td>\n",
       "            <td>03/20/2019</td>\n",
       "        </tr>\n",
       "        <tr>\n",
       "            <td>30631</td>\n",
       "            <td>Juan Tank</td>\n",
       "            <td>Reservoir</td>\n",
       "            <td>AZ</td>\n",
       "            <td>4</td>\n",
       "            <td>Coconino</td>\n",
       "            <td>5.0</td>\n",
       "            <td>351818N</td>\n",
       "            <td>1121934W</td>\n",
       "            <td>35.3049291</td>\n",
       "            <td>-112.3260851</td>\n",
       "            <td>None</td>\n",
       "            <td>None</td>\n",
       "            <td>None</td>\n",
       "            <td>None</td>\n",
       "            <td>1900.0</td>\n",
       "            <td>6234.0</td>\n",
       "            <td>Hearst Mountain</td>\n",
       "            <td>02/08/1980</td>\n",
       "            <td>03/19/2019</td>\n",
       "        </tr>\n",
       "    </tbody>\n",
       "</table>\n",
       "<span style=\"font-style:italic;text-align:center;\">Truncated to <a href=\"https://jupysql.ploomber.io/en/latest/api/configuration.html#displaylimit\">displaylimit</a> of 15.</span>"
      ],
      "text/plain": [
       "+------------+--------------------------------------+-----------------+-------------+---------------+-------------+----------------+-----------------+---------------+--------------+---------------+----------------+-----------------+----------------+-----------------+-----------+------------+------------------+--------------+-------------+\n",
       "| feature_id |             feature_name             |  feature_class  | state_alpha | state_numeric | county_name | county_numeric | primary_lat_dms | prim_long_dms | prim_lat_dec | prim_long_dec | source_lat_dms | source_long_dms | source_lat_dec | source_long_dec | elev_in_m | elev_in_ft |     map_name     | date_created | date_edited |\n",
       "+------------+--------------------------------------+-----------------+-------------+---------------+-------------+----------------+-----------------+---------------+--------------+---------------+----------------+-----------------+----------------+-----------------+-----------+------------+------------------+--------------+-------------+\n",
       "|    1230    |          Belmont Mountains           |      Range      |      AZ     |       4       |   Maricopa  |      13.0      |     333832N     |    1125404W   |  33.642258   |  -112.9010129 |      None      |       None      |      None      |       None      |   931.0   |   3054.0   | Belmont Mountain |  02/08/1980  |     None    |\n",
       "|    2336    |       Cabeza Prieta Game Range       |       Park      |      AZ     |       4       |     Yuma    |      27.0      |     321500N     |    1132703W   |  32.250056   |   -113.45074  |      None      |       None      |      None      |       None      |   275.0   |   902.0    | Bryan Mountains  |  02/08/1980  |     None    |\n",
       "|    2750    |           Chandler Springs           |      Spring     |      AZ     |       4       |    Navajo   |      17.0      |     352236N     |    1102831W   |  35.3766788  |  -110.4754096 |      None      |       None      |      None      |       None      |   1685.0  |   5528.0   |   Shonto Butte   |  02/08/1980  |     None    |\n",
       "|    3342    |           Cottonwood Creek           |      Stream     |      AZ     |       4       |    Mohave   |      15.0      |     365407N     |    1123348W   |  36.901931   |  -112.5632547 |    370545N     |     1123733W    |   37.095818    |   -112.6257621  |   1389.0  |   4557.0   |     Fredonia     |  02/08/1980  |     None    |\n",
       "|    7204    |             Little Tank              |    Reservoir    |      AZ     |       4       |    Mohave   |      15.0      |     343754N     |    1134557W   |  34.631793   |  -113.7658874 |      None      |       None      |      None      |       None      |   1043.0  |   3422.0   |  Beecher Canyon  |  02/08/1980  |  03/25/2019 |\n",
       "|    7476    |           Lower Jumbo Mine           |       Mine      |      AZ     |       4       |   Yavapai   |      25.0      |     335728N     |    1123413W   |  33.9578095  |  -112.5701738 |      None      |       None      |      None      |       None      |   881.0   |   2890.0   |   Red Picacho    |  02/08/1980  |     None    |\n",
       "|    8960    |          Old Quijotoa Well           |       Well      |      AZ     |       4       |     Pima    |      19.0      |     320259N     |    1120352W   |  32.0497945  |  -112.064574  |      None      |       None      |      None      |       None      |   626.0   |   2054.0   |    Vainom Kug    |  02/08/1980  |  03/27/2018 |\n",
       "|   10197    |             Reese Ranch              |      Locale     |      AZ     |       4       |     Gila    |      7.0       |     330510N     |    1104244W   |  33.0861745  |  -110.7123268 |      None      |       None      |      None      |       None      |   633.0   |   2077.0   |    Christmas     |  02/08/1980  |     None    |\n",
       "|   13821    |             Willow Beach             |      Locale     |      AZ     |       4       |    Mohave   |      15.0      |     355213N     |    1143934W   |  35.8702623  |  -114.6594215 |      None      |       None      |      None      |       None      |   205.0   |   673.0    |   Willow Beach   |  02/08/1980  |     None    |\n",
       "|   24724    | Bethany Villa Adult Mobile Home Park | Populated Place |      AZ     |       4       |   Maricopa  |      13.0      |     333134N     |    1120951W   |  33.5261527  |  -112.1640412 |      None      |       None      |      None      |       None      |   352.0   |   1155.0   |     Glendale     |  06/27/1984  |     None    |\n",
       "|   25416    | Hannagan Meadow Administrative Site  |      Locale     |      AZ     |       4       |   Greenlee  |      11.0      |     333759N     |    1091933W   |  33.6331093  |  -109.3259135 |      None      |       None      |      None      |       None      |   2795.0  |   9170.0   | Hannagan Meadow  |  02/01/1992  |     None    |\n",
       "|   26075    |           Bear Canyon Well           |       Well      |      AZ     |       4       |   Greenlee  |      11.0      |     332032N     |    1092803W   |  33.3422811  |  -109.4675803 |      None      |       None      |      None      |       None      |   1518.0  |   4980.0   |    Bee Canyon    |  02/08/1980  |  02/15/2018 |\n",
       "|   29080    |            Flying H Ranch            |      Locale     |      AZ     |       4       |   Cochise   |      3.0       |     312346N     |    1101436W   |  31.3962115  |  -110.2434125 |      None      |       None      |      None      |       None      |   1561.0  |   5121.0   |    Nicksville    |  02/08/1980  |     None    |\n",
       "|   30088    |            Honey Bee Tank            |    Reservoir    |      AZ     |       4       |   Yavapai   |      25.0      |     344839N     |    1121359W   |  34.8109492  |  -112.2331807 |      None      |       None      |      None      |       None      |   1485.0  |   4872.0   |    Munds Draw    |  02/08/1980  |  03/20/2019 |\n",
       "|   30631    |              Juan Tank               |    Reservoir    |      AZ     |       4       |   Coconino  |      5.0       |     351818N     |    1121934W   |  35.3049291  |  -112.3260851 |      None      |       None      |      None      |       None      |   1900.0  |   6234.0   | Hearst Mountain  |  02/08/1980  |  03/19/2019 |\n",
       "+------------+--------------------------------------+-----------------+-------------+---------------+-------------+----------------+-----------------+---------------+--------------+---------------+----------------+-----------------+----------------+-----------------+-----------+------------+------------------+--------------+-------------+\n",
       "Truncated to displaylimit of 15."
      ]
     },
     "execution_count": 16,
     "metadata": {},
     "output_type": "execute_result"
    }
   ],
   "source": [
    "%%sql\n",
    "SELECT *\n",
    "FROM national TABLESAMPLE BERNOULLI(10);"
   ]
  },
  {
   "cell_type": "markdown",
   "id": "cf7cebdb-246f-4f0e-8022-679e107979f7",
   "metadata": {},
   "source": [
    "# Numerical Granularity"
   ]
  },
  {
   "cell_type": "code",
   "execution_count": 17,
   "id": "d22b320d-e7e7-4a7a-8c1b-6c4bc58963b4",
   "metadata": {},
   "outputs": [
    {
     "data": {
      "text/html": [
       "<span style=\"None\">Running query in &#x27;postgresql://localhost:5432/gnis&#x27;</span>"
      ],
      "text/plain": [
       "Running query in 'postgresql://localhost:5432/gnis'"
      ]
     },
     "metadata": {},
     "output_type": "display_data"
    },
    {
     "data": {
      "text/html": [
       "<span style=\"color: green\">2 rows affected.</span>"
      ],
      "text/plain": [
       "2 rows affected."
      ]
     },
     "metadata": {},
     "output_type": "display_data"
    },
    {
     "data": {
      "text/html": [
       "<table>\n",
       "    <thead>\n",
       "        <tr>\n",
       "            <th>elev_in_m</th>\n",
       "        </tr>\n",
       "    </thead>\n",
       "    <tbody>\n",
       "        <tr>\n",
       "            <td>931.0</td>\n",
       "        </tr>\n",
       "        <tr>\n",
       "            <td>2707.0</td>\n",
       "        </tr>\n",
       "    </tbody>\n",
       "</table>"
      ],
      "text/plain": [
       "+-----------+\n",
       "| elev_in_m |\n",
       "+-----------+\n",
       "|   931.0   |\n",
       "|   2707.0  |\n",
       "+-----------+"
      ]
     },
     "execution_count": 17,
     "metadata": {},
     "output_type": "execute_result"
    }
   ],
   "source": [
    "%sql SELECT elev_in_m FROM National LIMIT 2;"
   ]
  },
  {
   "cell_type": "code",
   "execution_count": 18,
   "id": "8e80edb1-1cf4-4992-b0d9-142291aa63df",
   "metadata": {},
   "outputs": [
    {
     "data": {
      "text/html": [
       "<span style=\"None\">Running query in &#x27;postgresql://localhost:5432/gnis&#x27;</span>"
      ],
      "text/plain": [
       "Running query in 'postgresql://localhost:5432/gnis'"
      ]
     },
     "metadata": {},
     "output_type": "display_data"
    },
    {
     "data": {
      "text/html": [
       "<span style=\"color: green\">5 rows affected.</span>"
      ],
      "text/plain": [
       "5 rows affected."
      ]
     },
     "metadata": {},
     "output_type": "display_data"
    },
    {
     "data": {
      "text/html": [
       "<table>\n",
       "    <thead>\n",
       "        <tr>\n",
       "            <th>elev_in_m</th>\n",
       "            <th>quantized</th>\n",
       "            <th>round_to_100</th>\n",
       "            <th>substring</th>\n",
       "            <th>substring2</th>\n",
       "        </tr>\n",
       "    </thead>\n",
       "    <tbody>\n",
       "        <tr>\n",
       "            <td>931.0</td>\n",
       "            <td>9</td>\n",
       "            <td>900</td>\n",
       "            <td>93</td>\n",
       "            <td>9300</td>\n",
       "        </tr>\n",
       "        <tr>\n",
       "            <td>2707.0</td>\n",
       "            <td>27</td>\n",
       "            <td>2700</td>\n",
       "            <td>27</td>\n",
       "            <td>2700</td>\n",
       "        </tr>\n",
       "        <tr>\n",
       "            <td>275.0</td>\n",
       "            <td>3</td>\n",
       "            <td>300</td>\n",
       "            <td>27</td>\n",
       "            <td>2700</td>\n",
       "        </tr>\n",
       "        <tr>\n",
       "            <td>1685.0</td>\n",
       "            <td>17</td>\n",
       "            <td>1700</td>\n",
       "            <td>16</td>\n",
       "            <td>1600</td>\n",
       "        </tr>\n",
       "        <tr>\n",
       "            <td>1354.0</td>\n",
       "            <td>14</td>\n",
       "            <td>1400</td>\n",
       "            <td>13</td>\n",
       "            <td>1300</td>\n",
       "        </tr>\n",
       "    </tbody>\n",
       "</table>"
      ],
      "text/plain": [
       "+-----------+-----------+--------------+-----------+------------+\n",
       "| elev_in_m | quantized | round_to_100 | substring | substring2 |\n",
       "+-----------+-----------+--------------+-----------+------------+\n",
       "|   931.0   |     9     |     900      |     93    |    9300    |\n",
       "|   2707.0  |     27    |     2700     |     27    |    2700    |\n",
       "|   275.0   |     3     |     300      |     27    |    2700    |\n",
       "|   1685.0  |     17    |     1700     |     16    |    1600    |\n",
       "|   1354.0  |     14    |     1400     |     13    |    1300    |\n",
       "+-----------+-----------+--------------+-----------+------------+"
      ]
     },
     "execution_count": 18,
     "metadata": {},
     "output_type": "execute_result"
    }
   ],
   "source": [
    "%%sql\n",
    "SELECT elev_in_m, \n",
    "    (elev_in_m / 100)::INTEGER AS quantized,\n",
    "    ((elev_in_m / 100)::INTEGER) * 100 AS round_to_100,\n",
    "    SUBSTRING(elev_in_m::TEXT, 1, 2),\n",
    "    CONCAT(SUBSTRING(elev_in_m::TEXT, 1, 2), '00') AS substring2\n",
    "FROM National\n",
    "LIMIT 5;"
   ]
  },
  {
   "cell_type": "code",
   "execution_count": 19,
   "id": "6b519edc-61b0-4e14-9f6b-d90bd25e3010",
   "metadata": {},
   "outputs": [],
   "source": [
    "%config SqlMagic.named_parameters=True"
   ]
  },
  {
   "cell_type": "raw",
   "id": "d7891c14-1bb1-4588-a9eb-50344f7baa57",
   "metadata": {
    "scrolled": true
   },
   "source": [
    "%%sql\n",
    "/* does not run in jupysql b/c of <<. copy into psql  */\n",
    "    SELECT elev_in_m,\n",
    "    (16::INTEGER::BIT(12)) AS bit12, \n",
    "    (16::INTEGER::BIT(12)) << 3\n",
    "FROM national\n",
    "LIMIT 5;"
   ]
  },
  {
   "cell_type": "code",
   "execution_count": 20,
   "id": "4664da02-2f61-4c1e-9b9c-c058d52b2816",
   "metadata": {},
   "outputs": [],
   "source": [
    "right_shift = '>>'\n",
    "left_shift = '<<'"
   ]
  },
  {
   "cell_type": "code",
   "execution_count": 21,
   "id": "ba65b808-68b3-4d4f-a3fa-13e273a5bc8e",
   "metadata": {},
   "outputs": [
    {
     "data": {
      "text/html": [
       "<span style=\"None\">Running query in &#x27;postgresql://localhost:5432/gnis&#x27;</span>"
      ],
      "text/plain": [
       "Running query in 'postgresql://localhost:5432/gnis'"
      ]
     },
     "metadata": {},
     "output_type": "display_data"
    },
    {
     "data": {
      "text/html": [
       "<span style=\"color: green\">5 rows affected.</span>"
      ],
      "text/plain": [
       "5 rows affected."
      ]
     },
     "metadata": {},
     "output_type": "display_data"
    },
    {
     "data": {
      "text/html": [
       "<table>\n",
       "    <thead>\n",
       "        <tr>\n",
       "            <th>elev_in_m</th>\n",
       "            <th>bit12</th>\n",
       "            <th>?column?</th>\n",
       "        </tr>\n",
       "    </thead>\n",
       "    <tbody>\n",
       "        <tr>\n",
       "            <td>931.0</td>\n",
       "            <td>000000010000</td>\n",
       "            <td>000010000000</td>\n",
       "        </tr>\n",
       "        <tr>\n",
       "            <td>2707.0</td>\n",
       "            <td>000000010000</td>\n",
       "            <td>000010000000</td>\n",
       "        </tr>\n",
       "        <tr>\n",
       "            <td>275.0</td>\n",
       "            <td>000000010000</td>\n",
       "            <td>000010000000</td>\n",
       "        </tr>\n",
       "        <tr>\n",
       "            <td>1685.0</td>\n",
       "            <td>000000010000</td>\n",
       "            <td>000010000000</td>\n",
       "        </tr>\n",
       "        <tr>\n",
       "            <td>1354.0</td>\n",
       "            <td>000000010000</td>\n",
       "            <td>000010000000</td>\n",
       "        </tr>\n",
       "    </tbody>\n",
       "</table>"
      ],
      "text/plain": [
       "+-----------+--------------+--------------+\n",
       "| elev_in_m |    bit12     |   ?column?   |\n",
       "+-----------+--------------+--------------+\n",
       "|   931.0   | 000000010000 | 000010000000 |\n",
       "|   2707.0  | 000000010000 | 000010000000 |\n",
       "|   275.0   | 000000010000 | 000010000000 |\n",
       "|   1685.0  | 000000010000 | 000010000000 |\n",
       "|   1354.0  | 000000010000 | 000010000000 |\n",
       "+-----------+--------------+--------------+"
      ]
     },
     "execution_count": 21,
     "metadata": {},
     "output_type": "execute_result"
    }
   ],
   "source": [
    "%%sql\n",
    "/* Since jupysql does not like bitshifts, we can fake it with string interoplation. */\n",
    "SELECT elev_in_m,\n",
    "    (16::INTEGER::BIT(12)) AS bit12,\n",
    "    (16::INTEGER::BIT(12)) {{left_shift}} 3\n",
    "FROM national\n",
    "LIMIT 5;"
   ]
  },
  {
   "cell_type": "code",
   "execution_count": 22,
   "id": "f5dc65e2-d033-4aab-9fe4-70b58a79d7de",
   "metadata": {},
   "outputs": [
    {
     "data": {
      "text/html": [
       "<span style=\"None\">Running query in &#x27;postgresql://localhost:5432/gnis&#x27;</span>"
      ],
      "text/plain": [
       "Running query in 'postgresql://localhost:5432/gnis'"
      ]
     },
     "metadata": {},
     "output_type": "display_data"
    },
    {
     "data": {
      "text/html": [
       "<span style=\"color: green\">4 rows affected.</span>"
      ],
      "text/plain": [
       "4 rows affected."
      ]
     },
     "metadata": {},
     "output_type": "display_data"
    },
    {
     "data": {
      "text/html": [
       "<table>\n",
       "    <thead>\n",
       "        <tr>\n",
       "            <th>QUERY PLAN</th>\n",
       "        </tr>\n",
       "    </thead>\n",
       "    <tbody>\n",
       "        <tr>\n",
       "            <td>Aggregate  (cost=508.61..508.62 rows=1 width=32)</td>\n",
       "        </tr>\n",
       "        <tr>\n",
       "            <td>&nbsp;&nbsp;Output: count(DISTINCT \"national\".elev_in_m), count(DISTINCT ((\"national\".elev_in_m)::integer)::bit(12)), count(DISTINCT (((\"national\".elev_in_m)::integer)::bit(12) >> 8)), count(DISTINCT (((((\"national\".elev_in_m)::integer)::bit(12) >> 8) << 8))::integer)</td>\n",
       "        </tr>\n",
       "        <tr>\n",
       "            <td>&nbsp;&nbsp;->  Seq Scan on public.\"national\"  (cost=0.00..331.58 rows=5058 width=8)</td>\n",
       "        </tr>\n",
       "        <tr>\n",
       "            <td>&nbsp;&nbsp;&nbsp;&nbsp;&nbsp;&nbsp;&nbsp;&nbsp;Output: \"national\".feature_id, \"national\".feature_name, \"national\".feature_class, \"national\".state_alpha, \"national\".state_numeric, \"national\".county_name, \"national\".county_numeric, \"national\".primary_lat_dms, \"national\".prim_long_dms, \"national\".prim_lat_dec, \"national\".prim_long_dec, \"national\".source_lat_dms, \"national\".source_long_dms, \"national\".source_lat_dec, \"national\".source_long_dec, \"national\".elev_in_m, \"national\".elev_in_ft, \"national\".map_name, \"national\".date_created, \"national\".date_edited</td>\n",
       "        </tr>\n",
       "    </tbody>\n",
       "</table>"
      ],
      "text/plain": [
       "+-----------------------------------------------------------------------------------------------------------------------------------------------------------------------------------------------------------------------------------------------------------------------------------------------------------------------------------------------------------------------------------------------------------------------------------------------------------------------------------------------------------------------------------------+\n",
       "|                                                                                                                                                                                                                                                                QUERY PLAN                                                                                                                                                                                                                                                               |\n",
       "+-----------------------------------------------------------------------------------------------------------------------------------------------------------------------------------------------------------------------------------------------------------------------------------------------------------------------------------------------------------------------------------------------------------------------------------------------------------------------------------------------------------------------------------------+\n",
       "|                                                                                                                                                                                                                                             Aggregate  (cost=508.61..508.62 rows=1 width=32)                                                                                                                                                                                                                                            |\n",
       "|                                                                                                                                      Output: count(DISTINCT \"national\".elev_in_m), count(DISTINCT ((\"national\".elev_in_m)::integer)::bit(12)), count(DISTINCT (((\"national\".elev_in_m)::integer)::bit(12) >> 8)), count(DISTINCT (((((\"national\".elev_in_m)::integer)::bit(12) >> 8) << 8))::integer)                                                                                                                                   |\n",
       "|                                                                                                                                                                                                                                  ->  Seq Scan on public.\"national\"  (cost=0.00..331.58 rows=5058 width=8)                                                                                                                                                                                                                               |\n",
       "|         Output: \"national\".feature_id, \"national\".feature_name, \"national\".feature_class, \"national\".state_alpha, \"national\".state_numeric, \"national\".county_name, \"national\".county_numeric, \"national\".primary_lat_dms, \"national\".prim_long_dms, \"national\".prim_lat_dec, \"national\".prim_long_dec, \"national\".source_lat_dms, \"national\".source_long_dms, \"national\".source_lat_dec, \"national\".source_long_dec, \"national\".elev_in_m, \"national\".elev_in_ft, \"national\".map_name, \"national\".date_created, \"national\".date_edited |\n",
       "+-----------------------------------------------------------------------------------------------------------------------------------------------------------------------------------------------------------------------------------------------------------------------------------------------------------------------------------------------------------------------------------------------------------------------------------------------------------------------------------------------------------------------------------------+"
      ]
     },
     "execution_count": 22,
     "metadata": {},
     "output_type": "execute_result"
    }
   ],
   "source": [
    "%%sql\n",
    "EXPLAIN (verbose true)\n",
    "WITH shifts AS (\n",
    "    SELECT elev_in_m,\n",
    "       (elev_in_m::integer::bit(12)) AS bit12,\n",
    "       (elev_in_m::integer::bit(12) {{right_shift}} 8) AS rightshifted,\n",
    "       ((elev_in_m::integer::bit(12) {{right_shift}} 8) {{left_shift}} 8)::integer AS round_to_256,\n",
    "       ((elev_in_m::integer::bit(12) {{right_shift}} 8) {{left_shift}} 8)::integer % 256 AS test\n",
    "  FROM national\n",
    ")\n",
    "SELECT COUNT(DISTINCT elev_in_m) AS elevation_meters_count,\n",
    "       COUNT(DISTINCT bit12) AS bit12_count,\n",
    "       COUNT(DISTINCT rightshifted) AS rightshift_count,\n",
    "       COUNT(DISTINCT round_to_256) AS rounded_count\n",
    "  FROM shifts;"
   ]
  },
  {
   "cell_type": "markdown",
   "id": "4e417c67-7e50-4ed6-89ee-486bd88a04ed",
   "metadata": {},
   "source": [
    "# Demo 1: Roll-up / Drill-down Practice"
   ]
  },
  {
   "cell_type": "markdown",
   "id": "5c3b6831-818e-4d57-858f-86cf99a26c8a",
   "metadata": {
    "slideshow": {
     "slide_type": "subslide"
    }
   },
   "source": [
    "Let's start with county-level data on elevations:"
   ]
  },
  {
   "cell_type": "code",
   "execution_count": 23,
   "id": "c16651e9-d678-4d7f-9047-a178be243275",
   "metadata": {},
   "outputs": [
    {
     "data": {
      "text/html": [
       "<span style=\"None\">Running query in &#x27;postgresql://localhost:5432/gnis&#x27;</span>"
      ],
      "text/plain": [
       "Running query in 'postgresql://localhost:5432/gnis'"
      ]
     },
     "metadata": {},
     "output_type": "display_data"
    },
    {
     "data": {
      "text/html": [
       "<span style=\"color: green\">847 rows affected.</span>"
      ],
      "text/plain": [
       "847 rows affected."
      ]
     },
     "metadata": {},
     "output_type": "display_data"
    },
    {
     "data": {
      "text/html": [
       "<table>\n",
       "    <thead>\n",
       "        <tr>\n",
       "            <th>state_numeric</th>\n",
       "            <th>county_numeric</th>\n",
       "            <th>avg</th>\n",
       "            <th>stddev</th>\n",
       "            <th>count</th>\n",
       "        </tr>\n",
       "    </thead>\n",
       "    <tbody>\n",
       "        <tr>\n",
       "            <td>34</td>\n",
       "            <td>39.0</td>\n",
       "            <td>5.0</td>\n",
       "            <td>None</td>\n",
       "            <td>1</td>\n",
       "        </tr>\n",
       "        <tr>\n",
       "            <td>53</td>\n",
       "            <td>73.0</td>\n",
       "            <td>555.0</td>\n",
       "            <td>777.8174593052023</td>\n",
       "            <td>2</td>\n",
       "        </tr>\n",
       "        <tr>\n",
       "            <td>55</td>\n",
       "            <td>135.0</td>\n",
       "            <td>269.0</td>\n",
       "            <td>None</td>\n",
       "            <td>1</td>\n",
       "        </tr>\n",
       "        <tr>\n",
       "            <td>49</td>\n",
       "            <td>49.0</td>\n",
       "            <td>1688.6666666666667</td>\n",
       "            <td>83.6082133126485</td>\n",
       "            <td>3</td>\n",
       "        </tr>\n",
       "        <tr>\n",
       "            <td>37</td>\n",
       "            <td>139.0</td>\n",
       "            <td>2.0</td>\n",
       "            <td>1.0</td>\n",
       "            <td>3</td>\n",
       "        </tr>\n",
       "        <tr>\n",
       "            <td>36</td>\n",
       "            <td>65.0</td>\n",
       "            <td>227.75</td>\n",
       "            <td>160.5498364994496</td>\n",
       "            <td>4</td>\n",
       "        </tr>\n",
       "        <tr>\n",
       "            <td>28</td>\n",
       "            <td>71.0</td>\n",
       "            <td>109.0</td>\n",
       "            <td>None</td>\n",
       "            <td>1</td>\n",
       "        </tr>\n",
       "        <tr>\n",
       "            <td>45</td>\n",
       "            <td>45.0</td>\n",
       "            <td>292.0</td>\n",
       "            <td>None</td>\n",
       "            <td>1</td>\n",
       "        </tr>\n",
       "        <tr>\n",
       "            <td>30</td>\n",
       "            <td>105.0</td>\n",
       "            <td>701.5</td>\n",
       "            <td>86.97413408594535</td>\n",
       "            <td>2</td>\n",
       "        </tr>\n",
       "        <tr>\n",
       "            <td>42</td>\n",
       "            <td>107.0</td>\n",
       "            <td>275.0</td>\n",
       "            <td>None</td>\n",
       "            <td>1</td>\n",
       "        </tr>\n",
       "        <tr>\n",
       "            <td>27</td>\n",
       "            <td>103.0</td>\n",
       "            <td>298.0</td>\n",
       "            <td>None</td>\n",
       "            <td>1</td>\n",
       "        </tr>\n",
       "        <tr>\n",
       "            <td>48</td>\n",
       "            <td>365.0</td>\n",
       "            <td>None</td>\n",
       "            <td>None</td>\n",
       "            <td>1</td>\n",
       "        </tr>\n",
       "        <tr>\n",
       "            <td>48</td>\n",
       "            <td>171.0</td>\n",
       "            <td>569.0</td>\n",
       "            <td>None</td>\n",
       "            <td>1</td>\n",
       "        </tr>\n",
       "        <tr>\n",
       "            <td>26</td>\n",
       "            <td>145.0</td>\n",
       "            <td>183.5</td>\n",
       "            <td>0.7071067811865476</td>\n",
       "            <td>2</td>\n",
       "        </tr>\n",
       "        <tr>\n",
       "            <td>35</td>\n",
       "            <td>7.0</td>\n",
       "            <td>1819.0</td>\n",
       "            <td>None</td>\n",
       "            <td>1</td>\n",
       "        </tr>\n",
       "    </tbody>\n",
       "</table>\n",
       "<span style=\"font-style:italic;text-align:center;\">Truncated to <a href=\"https://jupysql.ploomber.io/en/latest/api/configuration.html#displaylimit\">displaylimit</a> of 15.</span>"
      ],
      "text/plain": [
       "+---------------+----------------+--------------------+--------------------+-------+\n",
       "| state_numeric | county_numeric |        avg         |       stddev       | count |\n",
       "+---------------+----------------+--------------------+--------------------+-------+\n",
       "|       34      |      39.0      |        5.0         |        None        |   1   |\n",
       "|       53      |      73.0      |       555.0        | 777.8174593052023  |   2   |\n",
       "|       55      |     135.0      |       269.0        |        None        |   1   |\n",
       "|       49      |      49.0      | 1688.6666666666667 |  83.6082133126485  |   3   |\n",
       "|       37      |     139.0      |        2.0         |        1.0         |   3   |\n",
       "|       36      |      65.0      |       227.75       | 160.5498364994496  |   4   |\n",
       "|       28      |      71.0      |       109.0        |        None        |   1   |\n",
       "|       45      |      45.0      |       292.0        |        None        |   1   |\n",
       "|       30      |     105.0      |       701.5        | 86.97413408594535  |   2   |\n",
       "|       42      |     107.0      |       275.0        |        None        |   1   |\n",
       "|       27      |     103.0      |       298.0        |        None        |   1   |\n",
       "|       48      |     365.0      |        None        |        None        |   1   |\n",
       "|       48      |     171.0      |       569.0        |        None        |   1   |\n",
       "|       26      |     145.0      |       183.5        | 0.7071067811865476 |   2   |\n",
       "|       35      |      7.0       |       1819.0       |        None        |   1   |\n",
       "+---------------+----------------+--------------------+--------------------+-------+\n",
       "Truncated to displaylimit of 15."
      ]
     },
     "execution_count": 23,
     "metadata": {},
     "output_type": "execute_result"
    }
   ],
   "source": [
    "%%sql\n",
    "SELECT state_numeric, county_numeric,\n",
    "       avg(elev_in_m),\n",
    "       stddev(elev_in_m), count(*)\n",
    "FROM national TABLESAMPLE BERNOULLI(10)\n",
    "GROUP BY state_numeric, county_numeric;"
   ]
  },
  {
   "cell_type": "markdown",
   "id": "19460db6-5e19-4eaa-be01-e7c3b257ace8",
   "metadata": {},
   "source": [
    "**Roll up** to state level.\n",
    "* We save the view as `state_elevations` for later..."
   ]
  },
  {
   "cell_type": "code",
   "execution_count": 24,
   "id": "b1eb0307-fee1-4692-ae8a-eb372f382e9f",
   "metadata": {},
   "outputs": [
    {
     "data": {
      "text/html": [
       "<span style=\"None\">Running query in &#x27;postgresql://localhost:5432/gnis&#x27;</span>"
      ],
      "text/plain": [
       "Running query in 'postgresql://localhost:5432/gnis'"
      ]
     },
     "metadata": {},
     "output_type": "display_data"
    },
    {
     "data": {
      "text/html": [
       "<table>\n",
       "    <thead>\n",
       "        <tr>\n",
       "        </tr>\n",
       "    </thead>\n",
       "    <tbody>\n",
       "    </tbody>\n",
       "</table>"
      ],
      "text/plain": [
       "++\n",
       "||\n",
       "++\n",
       "++"
      ]
     },
     "execution_count": 24,
     "metadata": {},
     "output_type": "execute_result"
    }
   ],
   "source": [
    "%%sql\n",
    "DROP VIEW IF EXISTS state_elevations;\n",
    "\n",
    "CREATE VIEW state_elevations AS (\n",
    "    SELECT state_numeric,\n",
    "       avg(elev_in_m),\n",
    "       stddev(elev_in_m), count(*)\n",
    "    FROM national\n",
    "    GROUP BY state_numeric\n",
    ");"
   ]
  },
  {
   "cell_type": "code",
   "execution_count": 25,
   "id": "e3b4b1b9-b048-43a7-8f97-67ae63332136",
   "metadata": {},
   "outputs": [
    {
     "data": {
      "text/html": [
       "<span style=\"None\">Running query in &#x27;postgresql://localhost:5432/gnis&#x27;</span>"
      ],
      "text/plain": [
       "Running query in 'postgresql://localhost:5432/gnis'"
      ]
     },
     "metadata": {},
     "output_type": "display_data"
    },
    {
     "data": {
      "text/html": [
       "<span style=\"color: green\">59 rows affected.</span>"
      ],
      "text/plain": [
       "59 rows affected."
      ]
     },
     "metadata": {},
     "output_type": "display_data"
    },
    {
     "data": {
      "text/html": [
       "<table>\n",
       "    <thead>\n",
       "        <tr>\n",
       "            <th>state_numeric</th>\n",
       "            <th>avg</th>\n",
       "            <th>stddev</th>\n",
       "            <th>count</th>\n",
       "        </tr>\n",
       "    </thead>\n",
       "    <tbody>\n",
       "        <tr>\n",
       "            <td>68</td>\n",
       "            <td>6.666666666666667</td>\n",
       "            <td>7.99166232186187</td>\n",
       "            <td>14</td>\n",
       "        </tr>\n",
       "        <tr>\n",
       "            <td>51</td>\n",
       "            <td>254.55197132616487</td>\n",
       "            <td>260.54513270095333</td>\n",
       "            <td>283</td>\n",
       "        </tr>\n",
       "        <tr>\n",
       "            <td>70</td>\n",
       "            <td>18.333333333333332</td>\n",
       "            <td>31.75426480542942</td>\n",
       "            <td>3</td>\n",
       "        </tr>\n",
       "        <tr>\n",
       "            <td>69</td>\n",
       "            <td>90.66666666666667</td>\n",
       "            <td>82.82189726555814</td>\n",
       "            <td>6</td>\n",
       "        </tr>\n",
       "        <tr>\n",
       "            <td>60</td>\n",
       "            <td>63.5</td>\n",
       "            <td>92.18188542224551</td>\n",
       "            <td>6</td>\n",
       "        </tr>\n",
       "        <tr>\n",
       "            <td>22</td>\n",
       "            <td>21.64179104477612</td>\n",
       "            <td>24.352228743507624</td>\n",
       "            <td>208</td>\n",
       "        </tr>\n",
       "        <tr>\n",
       "            <td>44</td>\n",
       "            <td>43.673469387755105</td>\n",
       "            <td>53.659958595423696</td>\n",
       "            <td>52</td>\n",
       "        </tr>\n",
       "        <tr>\n",
       "            <td>11</td>\n",
       "            <td>46.72</td>\n",
       "            <td>39.98803987861037</td>\n",
       "            <td>25</td>\n",
       "        </tr>\n",
       "        <tr>\n",
       "            <td>42</td>\n",
       "            <td>295.9726775956284</td>\n",
       "            <td>174.72171005278577</td>\n",
       "            <td>368</td>\n",
       "        </tr>\n",
       "        <tr>\n",
       "            <td>40</td>\n",
       "            <td>323.8679245283019</td>\n",
       "            <td>129.1529420712713</td>\n",
       "            <td>187</td>\n",
       "        </tr>\n",
       "        <tr>\n",
       "            <td>9</td>\n",
       "            <td>75.70786516853933</td>\n",
       "            <td>72.92745496338235</td>\n",
       "            <td>96</td>\n",
       "        </tr>\n",
       "        <tr>\n",
       "            <td>15</td>\n",
       "            <td>173.2280701754386</td>\n",
       "            <td>378.51703195987005</td>\n",
       "            <td>57</td>\n",
       "        </tr>\n",
       "        <tr>\n",
       "            <td>48</td>\n",
       "            <td>277.9860869565217</td>\n",
       "            <td>340.34507465355387</td>\n",
       "            <td>605</td>\n",
       "        </tr>\n",
       "        <tr>\n",
       "            <td>26</td>\n",
       "            <td>244.75324675324674</td>\n",
       "            <td>65.54897830019551</td>\n",
       "            <td>309</td>\n",
       "        </tr>\n",
       "        <tr>\n",
       "            <td>72</td>\n",
       "            <td>75.80952380952381</td>\n",
       "            <td>177.03978305774547</td>\n",
       "            <td>42</td>\n",
       "        </tr>\n",
       "    </tbody>\n",
       "</table>\n",
       "<span style=\"font-style:italic;text-align:center;\">Truncated to <a href=\"https://jupysql.ploomber.io/en/latest/api/configuration.html#displaylimit\">displaylimit</a> of 15.</span>"
      ],
      "text/plain": [
       "+---------------+--------------------+--------------------+-------+\n",
       "| state_numeric |        avg         |       stddev       | count |\n",
       "+---------------+--------------------+--------------------+-------+\n",
       "|       68      | 6.666666666666667  |  7.99166232186187  |   14  |\n",
       "|       51      | 254.55197132616487 | 260.54513270095333 |  283  |\n",
       "|       70      | 18.333333333333332 | 31.75426480542942  |   3   |\n",
       "|       69      | 90.66666666666667  | 82.82189726555814  |   6   |\n",
       "|       60      |        63.5        | 92.18188542224551  |   6   |\n",
       "|       22      | 21.64179104477612  | 24.352228743507624 |  208  |\n",
       "|       44      | 43.673469387755105 | 53.659958595423696 |   52  |\n",
       "|       11      |       46.72        | 39.98803987861037  |   25  |\n",
       "|       42      | 295.9726775956284  | 174.72171005278577 |  368  |\n",
       "|       40      | 323.8679245283019  | 129.1529420712713  |  187  |\n",
       "|       9       | 75.70786516853933  | 72.92745496338235  |   96  |\n",
       "|       15      | 173.2280701754386  | 378.51703195987005 |   57  |\n",
       "|       48      | 277.9860869565217  | 340.34507465355387 |  605  |\n",
       "|       26      | 244.75324675324674 | 65.54897830019551  |  309  |\n",
       "|       72      | 75.80952380952381  | 177.03978305774547 |   42  |\n",
       "+---------------+--------------------+--------------------+-------+\n",
       "Truncated to displaylimit of 15."
      ]
     },
     "execution_count": 25,
     "metadata": {},
     "output_type": "execute_result"
    }
   ],
   "source": [
    "%sql SELECT * FROM state_elevations;"
   ]
  },
  {
   "cell_type": "markdown",
   "id": "320ca632-1a77-48ab-9492-f9a2c8582e14",
   "metadata": {},
   "source": [
    "**Drill down** to include feature class."
   ]
  },
  {
   "cell_type": "code",
   "execution_count": 26,
   "id": "420b6d32-0d4b-47f4-9863-9634efa0d8f0",
   "metadata": {},
   "outputs": [
    {
     "data": {
      "text/html": [
       "<span style=\"None\">Running query in &#x27;postgresql://localhost:5432/gnis&#x27;</span>"
      ],
      "text/plain": [
       "Running query in 'postgresql://localhost:5432/gnis'"
      ]
     },
     "metadata": {},
     "output_type": "display_data"
    },
    {
     "data": {
      "text/html": [
       "<span style=\"color: green\">526 rows affected.</span>"
      ],
      "text/plain": [
       "526 rows affected."
      ]
     },
     "metadata": {},
     "output_type": "display_data"
    },
    {
     "data": {
      "text/html": [
       "<table>\n",
       "    <thead>\n",
       "        <tr>\n",
       "            <th>state_numeric</th>\n",
       "            <th>feature_class</th>\n",
       "            <th>avg</th>\n",
       "            <th>stddev</th>\n",
       "            <th>count</th>\n",
       "        </tr>\n",
       "    </thead>\n",
       "    <tbody>\n",
       "        <tr>\n",
       "            <td>36</td>\n",
       "            <td>School</td>\n",
       "            <td>212.8181818181818</td>\n",
       "            <td>207.28474048121257</td>\n",
       "            <td>11</td>\n",
       "        </tr>\n",
       "        <tr>\n",
       "            <td>6</td>\n",
       "            <td>Stream</td>\n",
       "            <td>570.1</td>\n",
       "            <td>504.61722567154254</td>\n",
       "            <td>10</td>\n",
       "        </tr>\n",
       "        <tr>\n",
       "            <td>48</td>\n",
       "            <td>Populated Place</td>\n",
       "            <td>166.6</td>\n",
       "            <td>209.03864608142572</td>\n",
       "            <td>10</td>\n",
       "        </tr>\n",
       "        <tr>\n",
       "            <td>37</td>\n",
       "            <td>Stream</td>\n",
       "            <td>488.44444444444446</td>\n",
       "            <td>351.34531130751947</td>\n",
       "            <td>9</td>\n",
       "        </tr>\n",
       "        <tr>\n",
       "            <td>41</td>\n",
       "            <td>Stream</td>\n",
       "            <td>468.77777777777777</td>\n",
       "            <td>441.4350965254626</td>\n",
       "            <td>9</td>\n",
       "        </tr>\n",
       "        <tr>\n",
       "            <td>6</td>\n",
       "            <td>Building</td>\n",
       "            <td>352.75</td>\n",
       "            <td>422.09773749689776</td>\n",
       "            <td>8</td>\n",
       "        </tr>\n",
       "        <tr>\n",
       "            <td>30</td>\n",
       "            <td>Well</td>\n",
       "            <td>1134.125</td>\n",
       "            <td>314.6673697278263</td>\n",
       "            <td>8</td>\n",
       "        </tr>\n",
       "        <tr>\n",
       "            <td>13</td>\n",
       "            <td>Church</td>\n",
       "            <td>173.0</td>\n",
       "            <td>172.09050774851838</td>\n",
       "            <td>8</td>\n",
       "        </tr>\n",
       "        <tr>\n",
       "            <td>47</td>\n",
       "            <td>Church</td>\n",
       "            <td>185.25</td>\n",
       "            <td>96.76591784891443</td>\n",
       "            <td>8</td>\n",
       "        </tr>\n",
       "        <tr>\n",
       "            <td>55</td>\n",
       "            <td>School</td>\n",
       "            <td>300.2857142857143</td>\n",
       "            <td>99.51333961788622</td>\n",
       "            <td>7</td>\n",
       "        </tr>\n",
       "        <tr>\n",
       "            <td>6</td>\n",
       "            <td>School</td>\n",
       "            <td>61.0</td>\n",
       "            <td>67.57958271549181</td>\n",
       "            <td>7</td>\n",
       "        </tr>\n",
       "        <tr>\n",
       "            <td>36</td>\n",
       "            <td>Building</td>\n",
       "            <td>112.28571428571429</td>\n",
       "            <td>85.60123497106468</td>\n",
       "            <td>7</td>\n",
       "        </tr>\n",
       "        <tr>\n",
       "            <td>48</td>\n",
       "            <td>Building</td>\n",
       "            <td>121.28571428571429</td>\n",
       "            <td>92.63857059510775</td>\n",
       "            <td>7</td>\n",
       "        </tr>\n",
       "        <tr>\n",
       "            <td>27</td>\n",
       "            <td>Lake</td>\n",
       "            <td>451.42857142857144</td>\n",
       "            <td>92.69278494549822</td>\n",
       "            <td>7</td>\n",
       "        </tr>\n",
       "        <tr>\n",
       "            <td>6</td>\n",
       "            <td>Locale</td>\n",
       "            <td>355.85714285714283</td>\n",
       "            <td>398.6098462454352</td>\n",
       "            <td>7</td>\n",
       "        </tr>\n",
       "    </tbody>\n",
       "</table>\n",
       "<span style=\"font-style:italic;text-align:center;\">Truncated to <a href=\"https://jupysql.ploomber.io/en/latest/api/configuration.html#displaylimit\">displaylimit</a> of 15.</span>"
      ],
      "text/plain": [
       "+---------------+-----------------+--------------------+--------------------+-------+\n",
       "| state_numeric |  feature_class  |        avg         |       stddev       | count |\n",
       "+---------------+-----------------+--------------------+--------------------+-------+\n",
       "|       36      |      School     | 212.8181818181818  | 207.28474048121257 |   11  |\n",
       "|       6       |      Stream     |       570.1        | 504.61722567154254 |   10  |\n",
       "|       48      | Populated Place |       166.6        | 209.03864608142572 |   10  |\n",
       "|       37      |      Stream     | 488.44444444444446 | 351.34531130751947 |   9   |\n",
       "|       41      |      Stream     | 468.77777777777777 | 441.4350965254626  |   9   |\n",
       "|       6       |     Building    |       352.75       | 422.09773749689776 |   8   |\n",
       "|       30      |       Well      |      1134.125      | 314.6673697278263  |   8   |\n",
       "|       13      |      Church     |       173.0        | 172.09050774851838 |   8   |\n",
       "|       47      |      Church     |       185.25       | 96.76591784891443  |   8   |\n",
       "|       55      |      School     | 300.2857142857143  | 99.51333961788622  |   7   |\n",
       "|       6       |      School     |        61.0        | 67.57958271549181  |   7   |\n",
       "|       36      |     Building    | 112.28571428571429 | 85.60123497106468  |   7   |\n",
       "|       48      |     Building    | 121.28571428571429 | 92.63857059510775  |   7   |\n",
       "|       27      |       Lake      | 451.42857142857144 | 92.69278494549822  |   7   |\n",
       "|       6       |      Locale     | 355.85714285714283 | 398.6098462454352  |   7   |\n",
       "+---------------+-----------------+--------------------+--------------------+-------+\n",
       "Truncated to displaylimit of 15."
      ]
     },
     "execution_count": 26,
     "metadata": {},
     "output_type": "execute_result"
    }
   ],
   "source": [
    "%%sql\n",
    "SELECT state_numeric, feature_class,\n",
    "       avg(elev_in_m),\n",
    "       stddev(elev_in_m), count(*)\n",
    "FROM national TABLESAMPLE Bernoulli(10)\n",
    "GROUP BY state_numeric, feature_class\n",
    "ORDER BY count(*) DESC;"
   ]
  },
  {
   "cell_type": "markdown",
   "id": "82cc3430-68a0-4f69-b94f-a13dce1a06c6",
   "metadata": {},
   "source": [
    "# Demo 2: Connections to Statistics"
   ]
  },
  {
   "cell_type": "markdown",
   "id": "a2bcfd68-94c4-44f9-8a87-deb780009b57",
   "metadata": {},
   "source": [
    "## Roll up with marginal distributions"
   ]
  },
  {
   "cell_type": "code",
   "execution_count": 27,
   "id": "08fd169e-3350-4164-bd04-10755730d459",
   "metadata": {},
   "outputs": [
    {
     "data": {
      "text/html": [
       "<span style=\"None\">Running query in &#x27;postgresql://localhost:5432/gnis&#x27;</span>"
      ],
      "text/plain": [
       "Running query in 'postgresql://localhost:5432/gnis'"
      ]
     },
     "metadata": {},
     "output_type": "display_data"
    },
    {
     "data": {
      "text/html": [
       "<span style=\"color: green\">10 rows affected.</span>"
      ],
      "text/plain": [
       "10 rows affected."
      ]
     },
     "metadata": {},
     "output_type": "display_data"
    },
    {
     "data": {
      "text/html": [
       "<table>\n",
       "    <thead>\n",
       "        <tr>\n",
       "            <th>state_numeric</th>\n",
       "            <th>avg</th>\n",
       "            <th>stddev</th>\n",
       "            <th>count</th>\n",
       "            <th>total</th>\n",
       "            <th>marginal</th>\n",
       "        </tr>\n",
       "    </thead>\n",
       "    <tbody>\n",
       "        <tr>\n",
       "            <td>1</td>\n",
       "            <td>30.0</td>\n",
       "            <td>None</td>\n",
       "            <td>1</td>\n",
       "            <td>12</td>\n",
       "            <td>0.08333333333333333333</td>\n",
       "        </tr>\n",
       "        <tr>\n",
       "            <td>6</td>\n",
       "            <td>283.0</td>\n",
       "            <td>None</td>\n",
       "            <td>1</td>\n",
       "            <td>12</td>\n",
       "            <td>0.08333333333333333333</td>\n",
       "        </tr>\n",
       "        <tr>\n",
       "            <td>24</td>\n",
       "            <td>755.0</td>\n",
       "            <td>None</td>\n",
       "            <td>1</td>\n",
       "            <td>12</td>\n",
       "            <td>0.08333333333333333333</td>\n",
       "        </tr>\n",
       "        <tr>\n",
       "            <td>25</td>\n",
       "            <td>66.0</td>\n",
       "            <td>None</td>\n",
       "            <td>1</td>\n",
       "            <td>12</td>\n",
       "            <td>0.08333333333333333333</td>\n",
       "        </tr>\n",
       "        <tr>\n",
       "            <td>28</td>\n",
       "            <td>66.0</td>\n",
       "            <td>None</td>\n",
       "            <td>1</td>\n",
       "            <td>12</td>\n",
       "            <td>0.08333333333333333333</td>\n",
       "        </tr>\n",
       "        <tr>\n",
       "            <td>29</td>\n",
       "            <td>384.0</td>\n",
       "            <td>None</td>\n",
       "            <td>1</td>\n",
       "            <td>12</td>\n",
       "            <td>0.08333333333333333333</td>\n",
       "        </tr>\n",
       "        <tr>\n",
       "            <td>37</td>\n",
       "            <td>329.0</td>\n",
       "            <td>352.35351566289216</td>\n",
       "            <td>3</td>\n",
       "            <td>12</td>\n",
       "            <td>0.25000000000000000000</td>\n",
       "        </tr>\n",
       "        <tr>\n",
       "            <td>45</td>\n",
       "            <td>283.0</td>\n",
       "            <td>None</td>\n",
       "            <td>1</td>\n",
       "            <td>12</td>\n",
       "            <td>0.08333333333333333333</td>\n",
       "        </tr>\n",
       "        <tr>\n",
       "            <td>49</td>\n",
       "            <td>3025.0</td>\n",
       "            <td>None</td>\n",
       "            <td>1</td>\n",
       "            <td>12</td>\n",
       "            <td>0.08333333333333333333</td>\n",
       "        </tr>\n",
       "        <tr>\n",
       "            <td>51</td>\n",
       "            <td>2.0</td>\n",
       "            <td>None</td>\n",
       "            <td>1</td>\n",
       "            <td>12</td>\n",
       "            <td>0.08333333333333333333</td>\n",
       "        </tr>\n",
       "    </tbody>\n",
       "</table>"
      ],
      "text/plain": [
       "+---------------+--------+--------------------+-------+-------+------------------------+\n",
       "| state_numeric |  avg   |       stddev       | count | total |        marginal        |\n",
       "+---------------+--------+--------------------+-------+-------+------------------------+\n",
       "|       1       |  30.0  |        None        |   1   |   12  | 0.08333333333333333333 |\n",
       "|       6       | 283.0  |        None        |   1   |   12  | 0.08333333333333333333 |\n",
       "|       24      | 755.0  |        None        |   1   |   12  | 0.08333333333333333333 |\n",
       "|       25      |  66.0  |        None        |   1   |   12  | 0.08333333333333333333 |\n",
       "|       28      |  66.0  |        None        |   1   |   12  | 0.08333333333333333333 |\n",
       "|       29      | 384.0  |        None        |   1   |   12  | 0.08333333333333333333 |\n",
       "|       37      | 329.0  | 352.35351566289216 |   3   |   12  | 0.25000000000000000000 |\n",
       "|       45      | 283.0  |        None        |   1   |   12  | 0.08333333333333333333 |\n",
       "|       49      | 3025.0 |        None        |   1   |   12  | 0.08333333333333333333 |\n",
       "|       51      |  2.0   |        None        |   1   |   12  | 0.08333333333333333333 |\n",
       "+---------------+--------+--------------------+-------+-------+------------------------+"
      ]
     },
     "execution_count": 27,
     "metadata": {},
     "output_type": "execute_result"
    }
   ],
   "source": [
    "%%sql\n",
    "SELECT state_numeric,\n",
    "       AVG(elev_in_m),\n",
    "       STDDEV(elev_in_m), COUNT(*),\n",
    "       SUM(COUNT(*)) OVER () AS total,\n",
    "       COUNT(*)/SUM(COUNT(*)) OVER () AS marginal\n",
    "FROM national TABLESAMPLE Bernoulli(.07)\n",
    "GROUP BY state_numeric;"
   ]
  },
  {
   "cell_type": "code",
   "execution_count": 28,
   "id": "845b5b39-689a-4852-82ca-8defa998b857",
   "metadata": {},
   "outputs": [
    {
     "data": {
      "text/html": [
       "<span style=\"None\">Running query in &#x27;postgresql://localhost:5432/gnis&#x27;</span>"
      ],
      "text/plain": [
       "Running query in 'postgresql://localhost:5432/gnis'"
      ]
     },
     "metadata": {},
     "output_type": "display_data"
    },
    {
     "data": {
      "text/html": [
       "<span style=\"color: green\">1 rows affected.</span>"
      ],
      "text/plain": [
       "1 rows affected."
      ]
     },
     "metadata": {},
     "output_type": "display_data"
    },
    {
     "data": {
      "text/html": [
       "<table>\n",
       "    <thead>\n",
       "        <tr>\n",
       "            <th>count</th>\n",
       "        </tr>\n",
       "    </thead>\n",
       "    <tbody>\n",
       "        <tr>\n",
       "            <td>291</td>\n",
       "        </tr>\n",
       "    </tbody>\n",
       "</table>"
      ],
      "text/plain": [
       "+-------+\n",
       "| count |\n",
       "+-------+\n",
       "|  291  |\n",
       "+-------+"
      ]
     },
     "execution_count": 28,
     "metadata": {},
     "output_type": "execute_result"
    }
   ],
   "source": [
    "%%sql\n",
    "SELECT COUNT(DISTINCT county_numeric) FROM national;"
   ]
  },
  {
   "cell_type": "markdown",
   "id": "f9cdb304-5969-4721-b38d-b9ff8ad0e200",
   "metadata": {},
   "source": [
    "## Drill down with normally-distributed elevations:"
   ]
  },
  {
   "cell_type": "markdown",
   "id": "8a165109-8d5c-483c-8292-e1d03cf9ee44",
   "metadata": {},
   "source": [
    "Start with the `state_elevations` view from earlier:"
   ]
  },
  {
   "cell_type": "code",
   "execution_count": 29,
   "id": "2b5c7c41-445c-4f16-bd06-77ba45786e50",
   "metadata": {},
   "outputs": [
    {
     "data": {
      "text/html": [
       "<span style=\"None\">Running query in &#x27;postgresql://localhost:5432/gnis&#x27;</span>"
      ],
      "text/plain": [
       "Running query in 'postgresql://localhost:5432/gnis'"
      ]
     },
     "metadata": {},
     "output_type": "display_data"
    },
    {
     "data": {
      "text/html": [
       "<span style=\"color: green\">59 rows affected.</span>"
      ],
      "text/plain": [
       "59 rows affected."
      ]
     },
     "metadata": {},
     "output_type": "display_data"
    },
    {
     "data": {
      "text/html": [
       "<table>\n",
       "    <thead>\n",
       "        <tr>\n",
       "            <th>state_numeric</th>\n",
       "            <th>avg</th>\n",
       "            <th>stddev</th>\n",
       "            <th>count</th>\n",
       "        </tr>\n",
       "    </thead>\n",
       "    <tbody>\n",
       "        <tr>\n",
       "            <td>68</td>\n",
       "            <td>6.666666666666667</td>\n",
       "            <td>7.99166232186187</td>\n",
       "            <td>14</td>\n",
       "        </tr>\n",
       "        <tr>\n",
       "            <td>51</td>\n",
       "            <td>254.55197132616487</td>\n",
       "            <td>260.54513270095333</td>\n",
       "            <td>283</td>\n",
       "        </tr>\n",
       "        <tr>\n",
       "            <td>70</td>\n",
       "            <td>18.333333333333332</td>\n",
       "            <td>31.75426480542942</td>\n",
       "            <td>3</td>\n",
       "        </tr>\n",
       "        <tr>\n",
       "            <td>69</td>\n",
       "            <td>90.66666666666667</td>\n",
       "            <td>82.82189726555814</td>\n",
       "            <td>6</td>\n",
       "        </tr>\n",
       "        <tr>\n",
       "            <td>60</td>\n",
       "            <td>63.5</td>\n",
       "            <td>92.18188542224551</td>\n",
       "            <td>6</td>\n",
       "        </tr>\n",
       "        <tr>\n",
       "            <td>22</td>\n",
       "            <td>21.64179104477612</td>\n",
       "            <td>24.352228743507624</td>\n",
       "            <td>208</td>\n",
       "        </tr>\n",
       "        <tr>\n",
       "            <td>44</td>\n",
       "            <td>43.673469387755105</td>\n",
       "            <td>53.659958595423696</td>\n",
       "            <td>52</td>\n",
       "        </tr>\n",
       "        <tr>\n",
       "            <td>11</td>\n",
       "            <td>46.72</td>\n",
       "            <td>39.98803987861037</td>\n",
       "            <td>25</td>\n",
       "        </tr>\n",
       "        <tr>\n",
       "            <td>42</td>\n",
       "            <td>295.9726775956284</td>\n",
       "            <td>174.72171005278577</td>\n",
       "            <td>368</td>\n",
       "        </tr>\n",
       "        <tr>\n",
       "            <td>40</td>\n",
       "            <td>323.8679245283019</td>\n",
       "            <td>129.1529420712713</td>\n",
       "            <td>187</td>\n",
       "        </tr>\n",
       "        <tr>\n",
       "            <td>9</td>\n",
       "            <td>75.70786516853933</td>\n",
       "            <td>72.92745496338235</td>\n",
       "            <td>96</td>\n",
       "        </tr>\n",
       "        <tr>\n",
       "            <td>15</td>\n",
       "            <td>173.2280701754386</td>\n",
       "            <td>378.51703195987005</td>\n",
       "            <td>57</td>\n",
       "        </tr>\n",
       "        <tr>\n",
       "            <td>48</td>\n",
       "            <td>277.9860869565217</td>\n",
       "            <td>340.34507465355387</td>\n",
       "            <td>605</td>\n",
       "        </tr>\n",
       "        <tr>\n",
       "            <td>26</td>\n",
       "            <td>244.75324675324674</td>\n",
       "            <td>65.54897830019551</td>\n",
       "            <td>309</td>\n",
       "        </tr>\n",
       "        <tr>\n",
       "            <td>72</td>\n",
       "            <td>75.80952380952381</td>\n",
       "            <td>177.03978305774547</td>\n",
       "            <td>42</td>\n",
       "        </tr>\n",
       "    </tbody>\n",
       "</table>\n",
       "<span style=\"font-style:italic;text-align:center;\">Truncated to <a href=\"https://jupysql.ploomber.io/en/latest/api/configuration.html#displaylimit\">displaylimit</a> of 15.</span>"
      ],
      "text/plain": [
       "+---------------+--------------------+--------------------+-------+\n",
       "| state_numeric |        avg         |       stddev       | count |\n",
       "+---------------+--------------------+--------------------+-------+\n",
       "|       68      | 6.666666666666667  |  7.99166232186187  |   14  |\n",
       "|       51      | 254.55197132616487 | 260.54513270095333 |  283  |\n",
       "|       70      | 18.333333333333332 | 31.75426480542942  |   3   |\n",
       "|       69      | 90.66666666666667  | 82.82189726555814  |   6   |\n",
       "|       60      |        63.5        | 92.18188542224551  |   6   |\n",
       "|       22      | 21.64179104477612  | 24.352228743507624 |  208  |\n",
       "|       44      | 43.673469387755105 | 53.659958595423696 |   52  |\n",
       "|       11      |       46.72        | 39.98803987861037  |   25  |\n",
       "|       42      | 295.9726775956284  | 174.72171005278577 |  368  |\n",
       "|       40      | 323.8679245283019  | 129.1529420712713  |  187  |\n",
       "|       9       | 75.70786516853933  | 72.92745496338235  |   96  |\n",
       "|       15      | 173.2280701754386  | 378.51703195987005 |   57  |\n",
       "|       48      | 277.9860869565217  | 340.34507465355387 |  605  |\n",
       "|       26      | 244.75324675324674 | 65.54897830019551  |  309  |\n",
       "|       72      | 75.80952380952381  | 177.03978305774547 |   42  |\n",
       "+---------------+--------------------+--------------------+-------+\n",
       "Truncated to displaylimit of 15."
      ]
     },
     "execution_count": 29,
     "metadata": {},
     "output_type": "execute_result"
    }
   ],
   "source": [
    "%sql SELECT * FROM state_elevations;"
   ]
  },
  {
   "cell_type": "markdown",
   "id": "b149280a-7e2d-4ed7-bddc-7a2a9323f40b",
   "metadata": {},
   "source": [
    "The `fips_counties` relation has all counties, including those not in `national`:"
   ]
  },
  {
   "cell_type": "code",
   "execution_count": 30,
   "id": "5ce7a086-4b77-4b30-86ae-bd553aa51539",
   "metadata": {},
   "outputs": [
    {
     "data": {
      "text/html": [
       "<span style=\"None\">Running query in &#x27;postgresql://localhost:5432/gnis&#x27;</span>"
      ],
      "text/plain": [
       "Running query in 'postgresql://localhost:5432/gnis'"
      ]
     },
     "metadata": {},
     "output_type": "display_data"
    },
    {
     "data": {
      "text/html": [
       "<span style=\"color: green\">10 rows affected.</span>"
      ],
      "text/plain": [
       "10 rows affected."
      ]
     },
     "metadata": {},
     "output_type": "display_data"
    },
    {
     "data": {
      "text/html": [
       "<table>\n",
       "    <thead>\n",
       "        <tr>\n",
       "            <th>fips</th>\n",
       "            <th>county</th>\n",
       "            <th>state_numeric</th>\n",
       "        </tr>\n",
       "    </thead>\n",
       "    <tbody>\n",
       "        <tr>\n",
       "            <td>1000</td>\n",
       "            <td>Alabama</td>\n",
       "            <td>1</td>\n",
       "        </tr>\n",
       "        <tr>\n",
       "            <td>1001</td>\n",
       "            <td>Autauga County</td>\n",
       "            <td>1</td>\n",
       "        </tr>\n",
       "        <tr>\n",
       "            <td>1003</td>\n",
       "            <td>Baldwin County</td>\n",
       "            <td>1</td>\n",
       "        </tr>\n",
       "        <tr>\n",
       "            <td>1005</td>\n",
       "            <td>Barbour County</td>\n",
       "            <td>1</td>\n",
       "        </tr>\n",
       "        <tr>\n",
       "            <td>1007</td>\n",
       "            <td>Bibb County</td>\n",
       "            <td>1</td>\n",
       "        </tr>\n",
       "        <tr>\n",
       "            <td>1009</td>\n",
       "            <td>Blount County</td>\n",
       "            <td>1</td>\n",
       "        </tr>\n",
       "        <tr>\n",
       "            <td>1011</td>\n",
       "            <td>Bullock County</td>\n",
       "            <td>1</td>\n",
       "        </tr>\n",
       "        <tr>\n",
       "            <td>1013</td>\n",
       "            <td>Butler County</td>\n",
       "            <td>1</td>\n",
       "        </tr>\n",
       "        <tr>\n",
       "            <td>1015</td>\n",
       "            <td>Calhoun County</td>\n",
       "            <td>1</td>\n",
       "        </tr>\n",
       "        <tr>\n",
       "            <td>1017</td>\n",
       "            <td>Chambers County</td>\n",
       "            <td>1</td>\n",
       "        </tr>\n",
       "    </tbody>\n",
       "</table>"
      ],
      "text/plain": [
       "+------+-----------------+---------------+\n",
       "| fips |      county     | state_numeric |\n",
       "+------+-----------------+---------------+\n",
       "| 1000 |     Alabama     |       1       |\n",
       "| 1001 |  Autauga County |       1       |\n",
       "| 1003 |  Baldwin County |       1       |\n",
       "| 1005 |  Barbour County |       1       |\n",
       "| 1007 |   Bibb County   |       1       |\n",
       "| 1009 |  Blount County  |       1       |\n",
       "| 1011 |  Bullock County |       1       |\n",
       "| 1013 |  Butler County  |       1       |\n",
       "| 1015 |  Calhoun County |       1       |\n",
       "| 1017 | Chambers County |       1       |\n",
       "+------+-----------------+---------------+"
      ]
     },
     "execution_count": 30,
     "metadata": {},
     "output_type": "execute_result"
    }
   ],
   "source": [
    "%sql SELECT * FROM fips_counties LIMIT 10;"
   ]
  },
  {
   "cell_type": "markdown",
   "id": "7d004af6-eafb-4c14-b44e-0fc813dd36e7",
   "metadata": {},
   "source": [
    "If we wanted to **drill down** to the FIPS counties, we'd need to simulate an elevation for those counties that don't exist in `national`.\n",
    "\n",
    "Here's the first step in that process, which creates a simulated value for *every* county in `fips_counties`.\n",
    "* The value is simulated from a normal distribution using that state's elevation statistics (average, standard deviation).\n",
    "* Just like a Python package, we would need to import `tablefunc` in order to use the `normal_rand` function."
   ]
  },
  {
   "cell_type": "code",
   "execution_count": 31,
   "id": "c76d955d-0c15-4bf7-a2fd-f381192989f9",
   "metadata": {},
   "outputs": [
    {
     "data": {
      "text/html": [
       "<span style=\"None\">Running query in &#x27;postgresql://localhost:5432/gnis&#x27;</span>"
      ],
      "text/plain": [
       "Running query in 'postgresql://localhost:5432/gnis'"
      ]
     },
     "metadata": {},
     "output_type": "display_data"
    },
    {
     "data": {
      "text/html": [
       "<table>\n",
       "    <thead>\n",
       "        <tr>\n",
       "        </tr>\n",
       "    </thead>\n",
       "    <tbody>\n",
       "    </tbody>\n",
       "</table>"
      ],
      "text/plain": [
       "++\n",
       "||\n",
       "++\n",
       "++"
      ]
     },
     "execution_count": 31,
     "metadata": {},
     "output_type": "execute_result"
    }
   ],
   "source": [
    "%sql CREATE EXTENSION IF NOT EXISTS tablefunc;"
   ]
  },
  {
   "cell_type": "code",
   "execution_count": 32,
   "id": "541c6f86-bde5-4143-b06d-9bfb927e9bfe",
   "metadata": {},
   "outputs": [
    {
     "data": {
      "text/html": [
       "<span style=\"None\">Running query in &#x27;postgresql://localhost:5432/gnis&#x27;</span>"
      ],
      "text/plain": [
       "Running query in 'postgresql://localhost:5432/gnis'"
      ]
     },
     "metadata": {},
     "output_type": "display_data"
    },
    {
     "data": {
      "text/html": [
       "<span style=\"color: green\">10 rows affected.</span>"
      ],
      "text/plain": [
       "10 rows affected."
      ]
     },
     "metadata": {},
     "output_type": "display_data"
    },
    {
     "data": {
      "text/html": [
       "<table>\n",
       "    <thead>\n",
       "        <tr>\n",
       "            <th>state_numeric</th>\n",
       "            <th>county_numeric</th>\n",
       "            <th>avg</th>\n",
       "            <th>stddev</th>\n",
       "            <th>count</th>\n",
       "            <th>elev_in_m</th>\n",
       "            <th>elev_in_m_sim</th>\n",
       "        </tr>\n",
       "    </thead>\n",
       "    <tbody>\n",
       "        <tr>\n",
       "            <td>1</td>\n",
       "            <td>1000</td>\n",
       "            <td>146.37888198757764</td>\n",
       "            <td>102.92185851771194</td>\n",
       "            <td>339</td>\n",
       "            <td>107.10747161200905</td>\n",
       "            <td>True</td>\n",
       "        </tr>\n",
       "        <tr>\n",
       "            <td>1</td>\n",
       "            <td>1000</td>\n",
       "            <td>146.37888198757764</td>\n",
       "            <td>102.92185851771194</td>\n",
       "            <td>339</td>\n",
       "            <td>45.584773521557764</td>\n",
       "            <td>True</td>\n",
       "        </tr>\n",
       "        <tr>\n",
       "            <td>1</td>\n",
       "            <td>1000</td>\n",
       "            <td>146.37888198757764</td>\n",
       "            <td>102.92185851771194</td>\n",
       "            <td>339</td>\n",
       "            <td>296.8410693353228</td>\n",
       "            <td>True</td>\n",
       "        </tr>\n",
       "        <tr>\n",
       "            <td>1</td>\n",
       "            <td>1000</td>\n",
       "            <td>146.37888198757764</td>\n",
       "            <td>102.92185851771194</td>\n",
       "            <td>339</td>\n",
       "            <td>111.63404608474835</td>\n",
       "            <td>True</td>\n",
       "        </tr>\n",
       "        <tr>\n",
       "            <td>1</td>\n",
       "            <td>1000</td>\n",
       "            <td>146.37888198757764</td>\n",
       "            <td>102.92185851771194</td>\n",
       "            <td>339</td>\n",
       "            <td>271.34961903540034</td>\n",
       "            <td>True</td>\n",
       "        </tr>\n",
       "        <tr>\n",
       "            <td>1</td>\n",
       "            <td>1000</td>\n",
       "            <td>146.37888198757764</td>\n",
       "            <td>102.92185851771194</td>\n",
       "            <td>339</td>\n",
       "            <td>108.58825897223159</td>\n",
       "            <td>True</td>\n",
       "        </tr>\n",
       "        <tr>\n",
       "            <td>1</td>\n",
       "            <td>1000</td>\n",
       "            <td>146.37888198757764</td>\n",
       "            <td>102.92185851771194</td>\n",
       "            <td>339</td>\n",
       "            <td>364.7120809327268</td>\n",
       "            <td>True</td>\n",
       "        </tr>\n",
       "        <tr>\n",
       "            <td>1</td>\n",
       "            <td>1000</td>\n",
       "            <td>146.37888198757764</td>\n",
       "            <td>102.92185851771194</td>\n",
       "            <td>339</td>\n",
       "            <td>306.94352902800904</td>\n",
       "            <td>True</td>\n",
       "        </tr>\n",
       "        <tr>\n",
       "            <td>1</td>\n",
       "            <td>1000</td>\n",
       "            <td>146.37888198757764</td>\n",
       "            <td>102.92185851771194</td>\n",
       "            <td>339</td>\n",
       "            <td>5.305131821588361</td>\n",
       "            <td>True</td>\n",
       "        </tr>\n",
       "        <tr>\n",
       "            <td>1</td>\n",
       "            <td>1000</td>\n",
       "            <td>146.37888198757764</td>\n",
       "            <td>102.92185851771194</td>\n",
       "            <td>339</td>\n",
       "            <td>79.41120236696895</td>\n",
       "            <td>True</td>\n",
       "        </tr>\n",
       "    </tbody>\n",
       "</table>"
      ],
      "text/plain": [
       "+---------------+----------------+--------------------+--------------------+-------+--------------------+---------------+\n",
       "| state_numeric | county_numeric |        avg         |       stddev       | count |     elev_in_m      | elev_in_m_sim |\n",
       "+---------------+----------------+--------------------+--------------------+-------+--------------------+---------------+\n",
       "|       1       |      1000      | 146.37888198757764 | 102.92185851771194 |  339  | 107.10747161200905 |      True     |\n",
       "|       1       |      1000      | 146.37888198757764 | 102.92185851771194 |  339  | 45.584773521557764 |      True     |\n",
       "|       1       |      1000      | 146.37888198757764 | 102.92185851771194 |  339  | 296.8410693353228  |      True     |\n",
       "|       1       |      1000      | 146.37888198757764 | 102.92185851771194 |  339  | 111.63404608474835 |      True     |\n",
       "|       1       |      1000      | 146.37888198757764 | 102.92185851771194 |  339  | 271.34961903540034 |      True     |\n",
       "|       1       |      1000      | 146.37888198757764 | 102.92185851771194 |  339  | 108.58825897223159 |      True     |\n",
       "|       1       |      1000      | 146.37888198757764 | 102.92185851771194 |  339  | 364.7120809327268  |      True     |\n",
       "|       1       |      1000      | 146.37888198757764 | 102.92185851771194 |  339  | 306.94352902800904 |      True     |\n",
       "|       1       |      1000      | 146.37888198757764 | 102.92185851771194 |  339  | 5.305131821588361  |      True     |\n",
       "|       1       |      1000      | 146.37888198757764 | 102.92185851771194 |  339  | 79.41120236696895  |      True     |\n",
       "+---------------+----------------+--------------------+--------------------+-------+--------------------+---------------+"
      ]
     },
     "execution_count": 32,
     "metadata": {},
     "output_type": "execute_result"
    }
   ],
   "source": [
    "%%sql\n",
    "WITH state_cty AS\n",
    "(SELECT s.state_numeric, f.fips as county_numeric, s.avg, s.stddev, s.count\n",
    "  FROM state_elevations s, fips_counties f\n",
    "  WHERE s.state_numeric = f.state_numeric\n",
    ")\n",
    "SELECT s.*,\n",
    "       n.n AS elev_in_m,\n",
    "       true as elev_in_m_sim -- user-facing flag\n",
    "  FROM state_cty s,\n",
    "       LATERAL normal_rand(CAST(s.count AS INTEGER), s.avg, s.stddev) AS n\n",
    "LIMIT 10;"
   ]
  },
  {
   "cell_type": "markdown",
   "id": "79eca604-ad43-41f4-9411-a9a7c21413db",
   "metadata": {},
   "source": [
    "# Assembling an Explicit Hierarchy"
   ]
  },
  {
   "cell_type": "code",
   "execution_count": 33,
   "id": "689edf43-7336-4f4a-84da-d1362d04f367",
   "metadata": {},
   "outputs": [
    {
     "data": {
      "text/html": [
       "<span style=\"None\">Switching to connection postgresql://localhost:5432/baseball</span>"
      ],
      "text/plain": [
       "Switching to connection postgresql://localhost:5432/baseball"
      ]
     },
     "metadata": {},
     "output_type": "display_data"
    }
   ],
   "source": [
    "## we'll use the Lahman baseball database in our initial examples today.\n",
    "## replace the database connection with a database of your own!\n",
    "%reload_ext sql\n",
    "%sql postgresql://localhost:5432/baseball"
   ]
  },
  {
   "cell_type": "markdown",
   "id": "aed8a95a-5ca4-4967-872a-d0143255caa3",
   "metadata": {},
   "source": [
    "Two relations have the pieces of the hierarchy we want:"
   ]
  },
  {
   "cell_type": "code",
   "execution_count": 34,
   "id": "196db8eb-ed0c-4e5c-b56d-f6f7217c0753",
   "metadata": {
    "slideshow": {
     "slide_type": "fragment"
    }
   },
   "outputs": [
    {
     "data": {
      "text/html": [
       "<span style=\"None\">Running query in &#x27;postgresql://localhost:5432/baseball&#x27;</span>"
      ],
      "text/plain": [
       "Running query in 'postgresql://localhost:5432/baseball'"
      ]
     },
     "metadata": {},
     "output_type": "display_data"
    },
    {
     "data": {
      "text/html": [
       "<span style=\"color: green\">2 rows affected.</span>"
      ],
      "text/plain": [
       "2 rows affected."
      ]
     },
     "metadata": {},
     "output_type": "display_data"
    },
    {
     "data": {
      "text/html": [
       "<table>\n",
       "    <thead>\n",
       "        <tr>\n",
       "            <th>year_id</th>\n",
       "            <th>team_id</th>\n",
       "            <th>lg_id</th>\n",
       "            <th>player_id</th>\n",
       "            <th>g_all</th>\n",
       "            <th>gs</th>\n",
       "            <th>g_batting</th>\n",
       "            <th>g_defense</th>\n",
       "            <th>g_p</th>\n",
       "            <th>g_c</th>\n",
       "            <th>g_1b</th>\n",
       "            <th>g_2b</th>\n",
       "            <th>g_3b</th>\n",
       "            <th>g_ss</th>\n",
       "            <th>g_lf</th>\n",
       "            <th>g_cf</th>\n",
       "            <th>g_rf</th>\n",
       "            <th>g_of</th>\n",
       "            <th>g_dh</th>\n",
       "            <th>g_ph</th>\n",
       "            <th>g_pr</th>\n",
       "        </tr>\n",
       "    </thead>\n",
       "    <tbody>\n",
       "        <tr>\n",
       "            <td>1971</td>\n",
       "            <td>ATL</td>\n",
       "            <td>NL</td>\n",
       "            <td>aaronha01</td>\n",
       "            <td>139</td>\n",
       "            <td>129</td>\n",
       "            <td>139</td>\n",
       "            <td>129</td>\n",
       "            <td>0</td>\n",
       "            <td>0</td>\n",
       "            <td>71</td>\n",
       "            <td>0</td>\n",
       "            <td>0</td>\n",
       "            <td>0</td>\n",
       "            <td>0</td>\n",
       "            <td>0</td>\n",
       "            <td>60</td>\n",
       "            <td>60</td>\n",
       "            <td>0</td>\n",
       "            <td>10</td>\n",
       "            <td>0</td>\n",
       "        </tr>\n",
       "        <tr>\n",
       "            <td>1971</td>\n",
       "            <td>ATL</td>\n",
       "            <td>NL</td>\n",
       "            <td>aaronto01</td>\n",
       "            <td>25</td>\n",
       "            <td>10</td>\n",
       "            <td>25</td>\n",
       "            <td>18</td>\n",
       "            <td>0</td>\n",
       "            <td>0</td>\n",
       "            <td>11</td>\n",
       "            <td>0</td>\n",
       "            <td>7</td>\n",
       "            <td>0</td>\n",
       "            <td>0</td>\n",
       "            <td>0</td>\n",
       "            <td>0</td>\n",
       "            <td>0</td>\n",
       "            <td>0</td>\n",
       "            <td>8</td>\n",
       "            <td>0</td>\n",
       "        </tr>\n",
       "    </tbody>\n",
       "</table>"
      ],
      "text/plain": [
       "+---------+---------+-------+-----------+-------+-----+-----------+-----------+-----+-----+------+------+------+------+------+------+------+------+------+------+------+\n",
       "| year_id | team_id | lg_id | player_id | g_all |  gs | g_batting | g_defense | g_p | g_c | g_1b | g_2b | g_3b | g_ss | g_lf | g_cf | g_rf | g_of | g_dh | g_ph | g_pr |\n",
       "+---------+---------+-------+-----------+-------+-----+-----------+-----------+-----+-----+------+------+------+------+------+------+------+------+------+------+------+\n",
       "|   1971  |   ATL   |   NL  | aaronha01 |  139  | 129 |    139    |    129    |  0  |  0  |  71  |  0   |  0   |  0   |  0   |  0   |  60  |  60  |  0   |  10  |  0   |\n",
       "|   1971  |   ATL   |   NL  | aaronto01 |   25  |  10 |     25    |     18    |  0  |  0  |  11  |  0   |  7   |  0   |  0   |  0   |  0   |  0   |  0   |  8   |  0   |\n",
       "+---------+---------+-------+-----------+-------+-----+-----------+-----------+-----+-----+------+------+------+------+------+------+------+------+------+------+------+"
      ]
     },
     "execution_count": 34,
     "metadata": {},
     "output_type": "execute_result"
    }
   ],
   "source": [
    "%sql SELECT * FROM Appearances WHERE year_id > 1970 LIMIT 2;"
   ]
  },
  {
   "cell_type": "code",
   "execution_count": 35,
   "id": "53283495-fa7e-459c-8498-09c096cffb7a",
   "metadata": {
    "slideshow": {
     "slide_type": "fragment"
    }
   },
   "outputs": [
    {
     "data": {
      "text/html": [
       "<span style=\"None\">Running query in &#x27;postgresql://localhost:5432/baseball&#x27;</span>"
      ],
      "text/plain": [
       "Running query in 'postgresql://localhost:5432/baseball'"
      ]
     },
     "metadata": {},
     "output_type": "display_data"
    },
    {
     "data": {
      "text/html": [
       "<span style=\"color: green\">1 rows affected.</span>"
      ],
      "text/plain": [
       "1 rows affected."
      ]
     },
     "metadata": {},
     "output_type": "display_data"
    },
    {
     "data": {
      "text/html": [
       "<table>\n",
       "    <thead>\n",
       "        <tr>\n",
       "            <th>year_id</th>\n",
       "            <th>lg_id</th>\n",
       "            <th>team_id</th>\n",
       "            <th>franch_id</th>\n",
       "            <th>div_id</th>\n",
       "            <th>rank</th>\n",
       "            <th>g</th>\n",
       "            <th>ghome</th>\n",
       "            <th>w</th>\n",
       "            <th>l</th>\n",
       "            <th>divwin</th>\n",
       "            <th>wcwin</th>\n",
       "            <th>lgwin</th>\n",
       "            <th>wswin</th>\n",
       "            <th>r</th>\n",
       "            <th>ab</th>\n",
       "            <th>h</th>\n",
       "            <th>h2b</th>\n",
       "            <th>h3b</th>\n",
       "            <th>hr</th>\n",
       "            <th>bb</th>\n",
       "            <th>so</th>\n",
       "            <th>sb</th>\n",
       "            <th>cs</th>\n",
       "            <th>hbp</th>\n",
       "            <th>sf</th>\n",
       "            <th>ra</th>\n",
       "            <th>er</th>\n",
       "            <th>era</th>\n",
       "            <th>cg</th>\n",
       "            <th>sho</th>\n",
       "            <th>sv</th>\n",
       "            <th>ipouts</th>\n",
       "            <th>ha</th>\n",
       "            <th>hra</th>\n",
       "            <th>bba</th>\n",
       "            <th>soa</th>\n",
       "            <th>e</th>\n",
       "            <th>dp</th>\n",
       "            <th>fp</th>\n",
       "            <th>name</th>\n",
       "            <th>park</th>\n",
       "            <th>attendance</th>\n",
       "            <th>bpf</th>\n",
       "            <th>ppf</th>\n",
       "            <th>team_idbr</th>\n",
       "            <th>team_idlahman45</th>\n",
       "            <th>team_idretro</th>\n",
       "        </tr>\n",
       "    </thead>\n",
       "    <tbody>\n",
       "        <tr>\n",
       "            <td>1871</td>\n",
       "            <td>NA</td>\n",
       "            <td>BS1</td>\n",
       "            <td>BNA</td>\n",
       "            <td>None</td>\n",
       "            <td>3</td>\n",
       "            <td>31</td>\n",
       "            <td>None</td>\n",
       "            <td>20</td>\n",
       "            <td>10</td>\n",
       "            <td>None</td>\n",
       "            <td>None</td>\n",
       "            <td>N</td>\n",
       "            <td>None</td>\n",
       "            <td>401</td>\n",
       "            <td>1372</td>\n",
       "            <td>426</td>\n",
       "            <td>70</td>\n",
       "            <td>37</td>\n",
       "            <td>3</td>\n",
       "            <td>60</td>\n",
       "            <td>19</td>\n",
       "            <td>73</td>\n",
       "            <td>16</td>\n",
       "            <td>None</td>\n",
       "            <td>None</td>\n",
       "            <td>303</td>\n",
       "            <td>109</td>\n",
       "            <td>3.55</td>\n",
       "            <td>22</td>\n",
       "            <td>1</td>\n",
       "            <td>3</td>\n",
       "            <td>828</td>\n",
       "            <td>367</td>\n",
       "            <td>2</td>\n",
       "            <td>42</td>\n",
       "            <td>23</td>\n",
       "            <td>243</td>\n",
       "            <td>24</td>\n",
       "            <td>0.834</td>\n",
       "            <td>Boston Red Stockings</td>\n",
       "            <td>South End Grounds I</td>\n",
       "            <td>None</td>\n",
       "            <td>103</td>\n",
       "            <td>98</td>\n",
       "            <td>BOS</td>\n",
       "            <td>BS1</td>\n",
       "            <td>BS1</td>\n",
       "        </tr>\n",
       "    </tbody>\n",
       "</table>"
      ],
      "text/plain": [
       "+---------+-------+---------+-----------+--------+------+----+-------+----+----+--------+-------+-------+-------+-----+------+-----+-----+-----+----+----+----+----+----+------+------+-----+-----+------+----+-----+----+--------+-----+-----+-----+-----+-----+----+-------+----------------------+---------------------+------------+-----+-----+-----------+-----------------+--------------+\n",
       "| year_id | lg_id | team_id | franch_id | div_id | rank | g  | ghome | w  | l  | divwin | wcwin | lgwin | wswin |  r  |  ab  |  h  | h2b | h3b | hr | bb | so | sb | cs | hbp  |  sf  |  ra |  er | era  | cg | sho | sv | ipouts |  ha | hra | bba | soa |  e  | dp |   fp  |         name         |         park        | attendance | bpf | ppf | team_idbr | team_idlahman45 | team_idretro |\n",
       "+---------+-------+---------+-----------+--------+------+----+-------+----+----+--------+-------+-------+-------+-----+------+-----+-----+-----+----+----+----+----+----+------+------+-----+-----+------+----+-----+----+--------+-----+-----+-----+-----+-----+----+-------+----------------------+---------------------+------------+-----+-----+-----------+-----------------+--------------+\n",
       "|   1871  |   NA  |   BS1   |    BNA    |  None  |  3   | 31 |  None | 20 | 10 |  None  |  None |   N   |  None | 401 | 1372 | 426 |  70 |  37 | 3  | 60 | 19 | 73 | 16 | None | None | 303 | 109 | 3.55 | 22 |  1  | 3  |  828   | 367 |  2  |  42 |  23 | 243 | 24 | 0.834 | Boston Red Stockings | South End Grounds I |    None    | 103 |  98 |    BOS    |       BS1       |     BS1      |\n",
       "+---------+-------+---------+-----------+--------+------+----+-------+----+----+--------+-------+-------+-------+-----+------+-----+-----+-----+----+----+----+----+----+------+------+-----+-----+------+----+-----+----+--------+-----+-----+-----+-----+-----+----+-------+----------------------+---------------------+------------+-----+-----+-----------+-----------------+--------------+"
      ]
     },
     "execution_count": 35,
     "metadata": {},
     "output_type": "execute_result"
    }
   ],
   "source": [
    "%sql SELECT * FROM Teams LIMIT 1;"
   ]
  },
  {
   "cell_type": "markdown",
   "id": "52e0bc5b-8390-4784-a2a5-1dd72b839a33",
   "metadata": {},
   "source": [
    "Let's join these two to make our hierarchy! Which way should we make this?"
   ]
  },
  {
   "cell_type": "code",
   "execution_count": 36,
   "id": "8b6581ef-82cf-4314-abc6-eade2bfd929c",
   "metadata": {},
   "outputs": [
    {
     "data": {
      "text/html": [
       "<span style=\"None\">Running query in &#x27;postgresql://localhost:5432/baseball&#x27;</span>"
      ],
      "text/plain": [
       "Running query in 'postgresql://localhost:5432/baseball'"
      ]
     },
     "metadata": {},
     "output_type": "display_data"
    },
    {
     "data": {
      "text/html": [
       "<span style=\"color: green\">100 rows affected.</span>"
      ],
      "text/plain": [
       "100 rows affected."
      ]
     },
     "metadata": {},
     "output_type": "display_data"
    },
    {
     "data": {
      "text/html": [
       "<table>\n",
       "    <thead>\n",
       "        <tr>\n",
       "            <th>player_id</th>\n",
       "            <th>team_id</th>\n",
       "            <th>div_id</th>\n",
       "            <th>year_id</th>\n",
       "            <th>team_id_1</th>\n",
       "            <th>lg_id</th>\n",
       "            <th>player_id_1</th>\n",
       "            <th>g_all</th>\n",
       "            <th>gs</th>\n",
       "            <th>g_batting</th>\n",
       "            <th>g_defense</th>\n",
       "            <th>g_p</th>\n",
       "            <th>g_c</th>\n",
       "            <th>g_1b</th>\n",
       "            <th>g_2b</th>\n",
       "            <th>g_3b</th>\n",
       "            <th>g_ss</th>\n",
       "            <th>g_lf</th>\n",
       "            <th>g_cf</th>\n",
       "            <th>g_rf</th>\n",
       "            <th>g_of</th>\n",
       "            <th>g_dh</th>\n",
       "            <th>g_ph</th>\n",
       "            <th>g_pr</th>\n",
       "        </tr>\n",
       "    </thead>\n",
       "    <tbody>\n",
       "        <tr>\n",
       "            <td>alvarda02</td>\n",
       "            <td>BAL</td>\n",
       "            <td>E</td>\n",
       "            <td>2015</td>\n",
       "            <td>BAL</td>\n",
       "            <td>AL</td>\n",
       "            <td>alvarda02</td>\n",
       "            <td>12</td>\n",
       "            <td>10</td>\n",
       "            <td>12</td>\n",
       "            <td>12</td>\n",
       "            <td>0</td>\n",
       "            <td>0</td>\n",
       "            <td>0</td>\n",
       "            <td>0</td>\n",
       "            <td>0</td>\n",
       "            <td>0</td>\n",
       "            <td>0</td>\n",
       "            <td>1</td>\n",
       "            <td>12</td>\n",
       "            <td>12</td>\n",
       "            <td>0</td>\n",
       "            <td>0</td>\n",
       "            <td>0</td>\n",
       "        </tr>\n",
       "        <tr>\n",
       "            <td>brachbr01</td>\n",
       "            <td>BAL</td>\n",
       "            <td>E</td>\n",
       "            <td>2015</td>\n",
       "            <td>BAL</td>\n",
       "            <td>AL</td>\n",
       "            <td>brachbr01</td>\n",
       "            <td>62</td>\n",
       "            <td>0</td>\n",
       "            <td>5</td>\n",
       "            <td>62</td>\n",
       "            <td>62</td>\n",
       "            <td>0</td>\n",
       "            <td>0</td>\n",
       "            <td>0</td>\n",
       "            <td>0</td>\n",
       "            <td>0</td>\n",
       "            <td>0</td>\n",
       "            <td>0</td>\n",
       "            <td>0</td>\n",
       "            <td>0</td>\n",
       "            <td>0</td>\n",
       "            <td>0</td>\n",
       "            <td>0</td>\n",
       "        </tr>\n",
       "        <tr>\n",
       "            <td>brittza01</td>\n",
       "            <td>BAL</td>\n",
       "            <td>E</td>\n",
       "            <td>2015</td>\n",
       "            <td>BAL</td>\n",
       "            <td>AL</td>\n",
       "            <td>brittza01</td>\n",
       "            <td>64</td>\n",
       "            <td>0</td>\n",
       "            <td>2</td>\n",
       "            <td>64</td>\n",
       "            <td>64</td>\n",
       "            <td>0</td>\n",
       "            <td>0</td>\n",
       "            <td>0</td>\n",
       "            <td>0</td>\n",
       "            <td>0</td>\n",
       "            <td>0</td>\n",
       "            <td>0</td>\n",
       "            <td>0</td>\n",
       "            <td>0</td>\n",
       "            <td>0</td>\n",
       "            <td>0</td>\n",
       "            <td>0</td>\n",
       "        </tr>\n",
       "        <tr>\n",
       "            <td>cabrace01</td>\n",
       "            <td>BAL</td>\n",
       "            <td>E</td>\n",
       "            <td>2015</td>\n",
       "            <td>BAL</td>\n",
       "            <td>AL</td>\n",
       "            <td>cabrace01</td>\n",
       "            <td>2</td>\n",
       "            <td>0</td>\n",
       "            <td>0</td>\n",
       "            <td>2</td>\n",
       "            <td>2</td>\n",
       "            <td>0</td>\n",
       "            <td>0</td>\n",
       "            <td>0</td>\n",
       "            <td>0</td>\n",
       "            <td>0</td>\n",
       "            <td>0</td>\n",
       "            <td>0</td>\n",
       "            <td>0</td>\n",
       "            <td>0</td>\n",
       "            <td>0</td>\n",
       "            <td>0</td>\n",
       "            <td>0</td>\n",
       "        </tr>\n",
       "        <tr>\n",
       "            <td>cabreev01</td>\n",
       "            <td>BAL</td>\n",
       "            <td>E</td>\n",
       "            <td>2015</td>\n",
       "            <td>BAL</td>\n",
       "            <td>AL</td>\n",
       "            <td>cabreev01</td>\n",
       "            <td>29</td>\n",
       "            <td>28</td>\n",
       "            <td>29</td>\n",
       "            <td>28</td>\n",
       "            <td>0</td>\n",
       "            <td>0</td>\n",
       "            <td>0</td>\n",
       "            <td>2</td>\n",
       "            <td>0</td>\n",
       "            <td>27</td>\n",
       "            <td>0</td>\n",
       "            <td>0</td>\n",
       "            <td>0</td>\n",
       "            <td>0</td>\n",
       "            <td>0</td>\n",
       "            <td>0</td>\n",
       "            <td>1</td>\n",
       "        </tr>\n",
       "        <tr>\n",
       "            <td>chenwe02</td>\n",
       "            <td>BAL</td>\n",
       "            <td>E</td>\n",
       "            <td>2015</td>\n",
       "            <td>BAL</td>\n",
       "            <td>AL</td>\n",
       "            <td>chenwe02</td>\n",
       "            <td>31</td>\n",
       "            <td>31</td>\n",
       "            <td>0</td>\n",
       "            <td>31</td>\n",
       "            <td>31</td>\n",
       "            <td>0</td>\n",
       "            <td>0</td>\n",
       "            <td>0</td>\n",
       "            <td>0</td>\n",
       "            <td>0</td>\n",
       "            <td>0</td>\n",
       "            <td>0</td>\n",
       "            <td>0</td>\n",
       "            <td>0</td>\n",
       "            <td>0</td>\n",
       "            <td>0</td>\n",
       "            <td>0</td>\n",
       "        </tr>\n",
       "        <tr>\n",
       "            <td>clevest01</td>\n",
       "            <td>BAL</td>\n",
       "            <td>E</td>\n",
       "            <td>2015</td>\n",
       "            <td>BAL</td>\n",
       "            <td>AL</td>\n",
       "            <td>clevest01</td>\n",
       "            <td>30</td>\n",
       "            <td>24</td>\n",
       "            <td>30</td>\n",
       "            <td>10</td>\n",
       "            <td>0</td>\n",
       "            <td>9</td>\n",
       "            <td>1</td>\n",
       "            <td>0</td>\n",
       "            <td>0</td>\n",
       "            <td>0</td>\n",
       "            <td>0</td>\n",
       "            <td>0</td>\n",
       "            <td>0</td>\n",
       "            <td>0</td>\n",
       "            <td>18</td>\n",
       "            <td>4</td>\n",
       "            <td>0</td>\n",
       "        </tr>\n",
       "        <tr>\n",
       "            <td>davisch02</td>\n",
       "            <td>BAL</td>\n",
       "            <td>E</td>\n",
       "            <td>2015</td>\n",
       "            <td>BAL</td>\n",
       "            <td>AL</td>\n",
       "            <td>davisch02</td>\n",
       "            <td>160</td>\n",
       "            <td>159</td>\n",
       "            <td>160</td>\n",
       "            <td>138</td>\n",
       "            <td>0</td>\n",
       "            <td>0</td>\n",
       "            <td>111</td>\n",
       "            <td>0</td>\n",
       "            <td>0</td>\n",
       "            <td>0</td>\n",
       "            <td>0</td>\n",
       "            <td>0</td>\n",
       "            <td>30</td>\n",
       "            <td>30</td>\n",
       "            <td>22</td>\n",
       "            <td>0</td>\n",
       "            <td>0</td>\n",
       "        </tr>\n",
       "        <tr>\n",
       "            <td>deazaal01</td>\n",
       "            <td>BAL</td>\n",
       "            <td>E</td>\n",
       "            <td>2015</td>\n",
       "            <td>BAL</td>\n",
       "            <td>AL</td>\n",
       "            <td>deazaal01</td>\n",
       "            <td>30</td>\n",
       "            <td>27</td>\n",
       "            <td>30</td>\n",
       "            <td>27</td>\n",
       "            <td>0</td>\n",
       "            <td>0</td>\n",
       "            <td>0</td>\n",
       "            <td>0</td>\n",
       "            <td>0</td>\n",
       "            <td>0</td>\n",
       "            <td>19</td>\n",
       "            <td>0</td>\n",
       "            <td>13</td>\n",
       "            <td>27</td>\n",
       "            <td>0</td>\n",
       "            <td>3</td>\n",
       "            <td>0</td>\n",
       "        </tr>\n",
       "        <tr>\n",
       "            <td>drakeol01</td>\n",
       "            <td>BAL</td>\n",
       "            <td>E</td>\n",
       "            <td>2015</td>\n",
       "            <td>BAL</td>\n",
       "            <td>AL</td>\n",
       "            <td>drakeol01</td>\n",
       "            <td>13</td>\n",
       "            <td>0</td>\n",
       "            <td>1</td>\n",
       "            <td>13</td>\n",
       "            <td>13</td>\n",
       "            <td>0</td>\n",
       "            <td>0</td>\n",
       "            <td>0</td>\n",
       "            <td>0</td>\n",
       "            <td>0</td>\n",
       "            <td>0</td>\n",
       "            <td>0</td>\n",
       "            <td>0</td>\n",
       "            <td>0</td>\n",
       "            <td>0</td>\n",
       "            <td>0</td>\n",
       "            <td>0</td>\n",
       "        </tr>\n",
       "        <tr>\n",
       "            <td>flahery01</td>\n",
       "            <td>BAL</td>\n",
       "            <td>E</td>\n",
       "            <td>2015</td>\n",
       "            <td>BAL</td>\n",
       "            <td>AL</td>\n",
       "            <td>flahery01</td>\n",
       "            <td>91</td>\n",
       "            <td>81</td>\n",
       "            <td>91</td>\n",
       "            <td>90</td>\n",
       "            <td>0</td>\n",
       "            <td>0</td>\n",
       "            <td>11</td>\n",
       "            <td>56</td>\n",
       "            <td>8</td>\n",
       "            <td>15</td>\n",
       "            <td>1</td>\n",
       "            <td>0</td>\n",
       "            <td>5</td>\n",
       "            <td>6</td>\n",
       "            <td>0</td>\n",
       "            <td>2</td>\n",
       "            <td>3</td>\n",
       "        </tr>\n",
       "        <tr>\n",
       "            <td>garcija03</td>\n",
       "            <td>BAL</td>\n",
       "            <td>E</td>\n",
       "            <td>2015</td>\n",
       "            <td>BAL</td>\n",
       "            <td>AL</td>\n",
       "            <td>garcija03</td>\n",
       "            <td>21</td>\n",
       "            <td>0</td>\n",
       "            <td>3</td>\n",
       "            <td>21</td>\n",
       "            <td>21</td>\n",
       "            <td>0</td>\n",
       "            <td>0</td>\n",
       "            <td>0</td>\n",
       "            <td>0</td>\n",
       "            <td>0</td>\n",
       "            <td>0</td>\n",
       "            <td>0</td>\n",
       "            <td>0</td>\n",
       "            <td>0</td>\n",
       "            <td>0</td>\n",
       "            <td>0</td>\n",
       "            <td>0</td>\n",
       "        </tr>\n",
       "        <tr>\n",
       "            <td>gausmke01</td>\n",
       "            <td>BAL</td>\n",
       "            <td>E</td>\n",
       "            <td>2015</td>\n",
       "            <td>BAL</td>\n",
       "            <td>AL</td>\n",
       "            <td>gausmke01</td>\n",
       "            <td>25</td>\n",
       "            <td>17</td>\n",
       "            <td>1</td>\n",
       "            <td>25</td>\n",
       "            <td>25</td>\n",
       "            <td>0</td>\n",
       "            <td>0</td>\n",
       "            <td>0</td>\n",
       "            <td>0</td>\n",
       "            <td>0</td>\n",
       "            <td>0</td>\n",
       "            <td>0</td>\n",
       "            <td>0</td>\n",
       "            <td>0</td>\n",
       "            <td>0</td>\n",
       "            <td>0</td>\n",
       "            <td>0</td>\n",
       "        </tr>\n",
       "        <tr>\n",
       "            <td>givenmy01</td>\n",
       "            <td>BAL</td>\n",
       "            <td>E</td>\n",
       "            <td>2015</td>\n",
       "            <td>BAL</td>\n",
       "            <td>AL</td>\n",
       "            <td>givenmy01</td>\n",
       "            <td>22</td>\n",
       "            <td>0</td>\n",
       "            <td>1</td>\n",
       "            <td>22</td>\n",
       "            <td>22</td>\n",
       "            <td>0</td>\n",
       "            <td>0</td>\n",
       "            <td>0</td>\n",
       "            <td>0</td>\n",
       "            <td>0</td>\n",
       "            <td>0</td>\n",
       "            <td>0</td>\n",
       "            <td>0</td>\n",
       "            <td>0</td>\n",
       "            <td>0</td>\n",
       "            <td>0</td>\n",
       "            <td>0</td>\n",
       "        </tr>\n",
       "        <tr>\n",
       "            <td>gonzami03</td>\n",
       "            <td>BAL</td>\n",
       "            <td>E</td>\n",
       "            <td>2015</td>\n",
       "            <td>BAL</td>\n",
       "            <td>AL</td>\n",
       "            <td>gonzami03</td>\n",
       "            <td>26</td>\n",
       "            <td>26</td>\n",
       "            <td>1</td>\n",
       "            <td>26</td>\n",
       "            <td>26</td>\n",
       "            <td>0</td>\n",
       "            <td>0</td>\n",
       "            <td>0</td>\n",
       "            <td>0</td>\n",
       "            <td>0</td>\n",
       "            <td>0</td>\n",
       "            <td>0</td>\n",
       "            <td>0</td>\n",
       "            <td>0</td>\n",
       "            <td>0</td>\n",
       "            <td>0</td>\n",
       "            <td>0</td>\n",
       "        </tr>\n",
       "    </tbody>\n",
       "</table>\n",
       "<span style=\"font-style:italic;text-align:center;\">Truncated to <a href=\"https://jupysql.ploomber.io/en/latest/api/configuration.html#displaylimit\">displaylimit</a> of 15.</span>"
      ],
      "text/plain": [
       "+-----------+---------+--------+---------+-----------+-------+-------------+-------+-----+-----------+-----------+-----+-----+------+------+------+------+------+------+------+------+------+------+------+\n",
       "| player_id | team_id | div_id | year_id | team_id_1 | lg_id | player_id_1 | g_all |  gs | g_batting | g_defense | g_p | g_c | g_1b | g_2b | g_3b | g_ss | g_lf | g_cf | g_rf | g_of | g_dh | g_ph | g_pr |\n",
       "+-----------+---------+--------+---------+-----------+-------+-------------+-------+-----+-----------+-----------+-----+-----+------+------+------+------+------+------+------+------+------+------+------+\n",
       "| alvarda02 |   BAL   |   E    |   2015  |    BAL    |   AL  |  alvarda02  |   12  |  10 |     12    |     12    |  0  |  0  |  0   |  0   |  0   |  0   |  0   |  1   |  12  |  12  |  0   |  0   |  0   |\n",
       "| brachbr01 |   BAL   |   E    |   2015  |    BAL    |   AL  |  brachbr01  |   62  |  0  |     5     |     62    |  62 |  0  |  0   |  0   |  0   |  0   |  0   |  0   |  0   |  0   |  0   |  0   |  0   |\n",
       "| brittza01 |   BAL   |   E    |   2015  |    BAL    |   AL  |  brittza01  |   64  |  0  |     2     |     64    |  64 |  0  |  0   |  0   |  0   |  0   |  0   |  0   |  0   |  0   |  0   |  0   |  0   |\n",
       "| cabrace01 |   BAL   |   E    |   2015  |    BAL    |   AL  |  cabrace01  |   2   |  0  |     0     |     2     |  2  |  0  |  0   |  0   |  0   |  0   |  0   |  0   |  0   |  0   |  0   |  0   |  0   |\n",
       "| cabreev01 |   BAL   |   E    |   2015  |    BAL    |   AL  |  cabreev01  |   29  |  28 |     29    |     28    |  0  |  0  |  0   |  2   |  0   |  27  |  0   |  0   |  0   |  0   |  0   |  0   |  1   |\n",
       "|  chenwe02 |   BAL   |   E    |   2015  |    BAL    |   AL  |   chenwe02  |   31  |  31 |     0     |     31    |  31 |  0  |  0   |  0   |  0   |  0   |  0   |  0   |  0   |  0   |  0   |  0   |  0   |\n",
       "| clevest01 |   BAL   |   E    |   2015  |    BAL    |   AL  |  clevest01  |   30  |  24 |     30    |     10    |  0  |  9  |  1   |  0   |  0   |  0   |  0   |  0   |  0   |  0   |  18  |  4   |  0   |\n",
       "| davisch02 |   BAL   |   E    |   2015  |    BAL    |   AL  |  davisch02  |  160  | 159 |    160    |    138    |  0  |  0  | 111  |  0   |  0   |  0   |  0   |  0   |  30  |  30  |  22  |  0   |  0   |\n",
       "| deazaal01 |   BAL   |   E    |   2015  |    BAL    |   AL  |  deazaal01  |   30  |  27 |     30    |     27    |  0  |  0  |  0   |  0   |  0   |  0   |  19  |  0   |  13  |  27  |  0   |  3   |  0   |\n",
       "| drakeol01 |   BAL   |   E    |   2015  |    BAL    |   AL  |  drakeol01  |   13  |  0  |     1     |     13    |  13 |  0  |  0   |  0   |  0   |  0   |  0   |  0   |  0   |  0   |  0   |  0   |  0   |\n",
       "| flahery01 |   BAL   |   E    |   2015  |    BAL    |   AL  |  flahery01  |   91  |  81 |     91    |     90    |  0  |  0  |  11  |  56  |  8   |  15  |  1   |  0   |  5   |  6   |  0   |  2   |  3   |\n",
       "| garcija03 |   BAL   |   E    |   2015  |    BAL    |   AL  |  garcija03  |   21  |  0  |     3     |     21    |  21 |  0  |  0   |  0   |  0   |  0   |  0   |  0   |  0   |  0   |  0   |  0   |  0   |\n",
       "| gausmke01 |   BAL   |   E    |   2015  |    BAL    |   AL  |  gausmke01  |   25  |  17 |     1     |     25    |  25 |  0  |  0   |  0   |  0   |  0   |  0   |  0   |  0   |  0   |  0   |  0   |  0   |\n",
       "| givenmy01 |   BAL   |   E    |   2015  |    BAL    |   AL  |  givenmy01  |   22  |  0  |     1     |     22    |  22 |  0  |  0   |  0   |  0   |  0   |  0   |  0   |  0   |  0   |  0   |  0   |  0   |\n",
       "| gonzami03 |   BAL   |   E    |   2015  |    BAL    |   AL  |  gonzami03  |   26  |  26 |     1     |     26    |  26 |  0  |  0   |  0   |  0   |  0   |  0   |  0   |  0   |  0   |  0   |  0   |  0   |\n",
       "+-----------+---------+--------+---------+-----------+-------+-------------+-------+-----+-----------+-----------+-----+-----+------+------+------+------+------+------+------+------+------+------+------+\n",
       "Truncated to displaylimit of 15."
      ]
     },
     "execution_count": 36,
     "metadata": {},
     "output_type": "execute_result"
    }
   ],
   "source": [
    "%%sql\n",
    "SELECT a.player_id, a.team_id, t.div_id, a.*\n",
    "FROM Appearances a\n",
    "NATURAL JOIN Teams t\n",
    "WHERE a.year_id = 2015\n",
    "LIMIT 100;"
   ]
  },
  {
   "cell_type": "code",
   "execution_count": 37,
   "id": "1355e6ee-c0c9-4f81-835c-192cc610de63",
   "metadata": {},
   "outputs": [
    {
     "data": {
      "text/html": [
       "<span style=\"None\">Running query in &#x27;postgresql://localhost:5432/baseball&#x27;</span>"
      ],
      "text/plain": [
       "Running query in 'postgresql://localhost:5432/baseball'"
      ]
     },
     "metadata": {},
     "output_type": "display_data"
    },
    {
     "data": {
      "text/html": [
       "<table>\n",
       "    <thead>\n",
       "        <tr>\n",
       "        </tr>\n",
       "    </thead>\n",
       "    <tbody>\n",
       "    </tbody>\n",
       "</table>"
      ],
      "text/plain": [
       "++\n",
       "||\n",
       "++\n",
       "++"
      ]
     },
     "execution_count": 37,
     "metadata": {},
     "output_type": "execute_result"
    }
   ],
   "source": [
    "%%sql\n",
    "CREATE OR REPLACE VIEW bball_tree AS (\n",
    "    SELECT DISTINCT\n",
    "        a.player_id, a.team_id, t.div_id,\n",
    "        a.lg_id, a.year_id\n",
    "    FROM appearances a\n",
    "    NATURAL JOIN teams t\n",
    ");"
   ]
  },
  {
   "cell_type": "code",
   "execution_count": 38,
   "id": "f90a99c3-197e-4e93-ac32-1a8d68cbafaf",
   "metadata": {},
   "outputs": [
    {
     "data": {
      "text/html": [
       "<span style=\"None\">Running query in &#x27;postgresql://localhost:5432/baseball&#x27;</span>"
      ],
      "text/plain": [
       "Running query in 'postgresql://localhost:5432/baseball'"
      ]
     },
     "metadata": {},
     "output_type": "display_data"
    },
    {
     "data": {
      "text/html": [
       "<span style=\"color: green\">25 rows affected.</span>"
      ],
      "text/plain": [
       "25 rows affected."
      ]
     },
     "metadata": {},
     "output_type": "display_data"
    },
    {
     "data": {
      "text/html": [
       "<table>\n",
       "    <thead>\n",
       "        <tr>\n",
       "            <th>player_id</th>\n",
       "            <th>team_id</th>\n",
       "            <th>div_id</th>\n",
       "            <th>lg_id</th>\n",
       "            <th>year_id</th>\n",
       "        </tr>\n",
       "    </thead>\n",
       "    <tbody>\n",
       "        <tr>\n",
       "            <td>gumbeha01</td>\n",
       "            <td>NY1</td>\n",
       "            <td>None</td>\n",
       "            <td>NL</td>\n",
       "            <td>1935</td>\n",
       "        </tr>\n",
       "        <tr>\n",
       "            <td>gradymi01</td>\n",
       "            <td>SLN</td>\n",
       "            <td>None</td>\n",
       "            <td>NL</td>\n",
       "            <td>1897</td>\n",
       "        </tr>\n",
       "        <tr>\n",
       "            <td>deshoji01</td>\n",
       "            <td>WS1</td>\n",
       "            <td>None</td>\n",
       "            <td>AL</td>\n",
       "            <td>1938</td>\n",
       "        </tr>\n",
       "        <tr>\n",
       "            <td>prattla01</td>\n",
       "            <td>BRF</td>\n",
       "            <td>None</td>\n",
       "            <td>FL</td>\n",
       "            <td>1915</td>\n",
       "        </tr>\n",
       "        <tr>\n",
       "            <td>thompsa01</td>\n",
       "            <td>PHI</td>\n",
       "            <td>None</td>\n",
       "            <td>NL</td>\n",
       "            <td>1890</td>\n",
       "        </tr>\n",
       "        <tr>\n",
       "            <td>hollica01</td>\n",
       "            <td>DET</td>\n",
       "            <td>None</td>\n",
       "            <td>AL</td>\n",
       "            <td>1922</td>\n",
       "        </tr>\n",
       "        <tr>\n",
       "            <td>halege01</td>\n",
       "            <td>SLA</td>\n",
       "            <td>None</td>\n",
       "            <td>AL</td>\n",
       "            <td>1916</td>\n",
       "        </tr>\n",
       "        <tr>\n",
       "            <td>mamaual01</td>\n",
       "            <td>NYA</td>\n",
       "            <td>None</td>\n",
       "            <td>AL</td>\n",
       "            <td>1924</td>\n",
       "        </tr>\n",
       "        <tr>\n",
       "            <td>henryji01</td>\n",
       "            <td>BOS</td>\n",
       "            <td>None</td>\n",
       "            <td>AL</td>\n",
       "            <td>1937</td>\n",
       "        </tr>\n",
       "        <tr>\n",
       "            <td>cristch01</td>\n",
       "            <td>PHI</td>\n",
       "            <td>None</td>\n",
       "            <td>NL</td>\n",
       "            <td>1906</td>\n",
       "        </tr>\n",
       "        <tr>\n",
       "            <td>mooreed01</td>\n",
       "            <td>BSN</td>\n",
       "            <td>None</td>\n",
       "            <td>NL</td>\n",
       "            <td>1926</td>\n",
       "        </tr>\n",
       "        <tr>\n",
       "            <td>gerbewa01</td>\n",
       "            <td>SLA</td>\n",
       "            <td>None</td>\n",
       "            <td>AL</td>\n",
       "            <td>1917</td>\n",
       "        </tr>\n",
       "        <tr>\n",
       "            <td>westma02</td>\n",
       "            <td>BSN</td>\n",
       "            <td>None</td>\n",
       "            <td>NL</td>\n",
       "            <td>1940</td>\n",
       "        </tr>\n",
       "        <tr>\n",
       "            <td>ryanbl01</td>\n",
       "            <td>NY1</td>\n",
       "            <td>None</td>\n",
       "            <td>NL</td>\n",
       "            <td>1938</td>\n",
       "        </tr>\n",
       "        <tr>\n",
       "            <td>dormare01</td>\n",
       "            <td>CLE</td>\n",
       "            <td>None</td>\n",
       "            <td>AL</td>\n",
       "            <td>1928</td>\n",
       "        </tr>\n",
       "    </tbody>\n",
       "</table>\n",
       "<span style=\"font-style:italic;text-align:center;\">Truncated to <a href=\"https://jupysql.ploomber.io/en/latest/api/configuration.html#displaylimit\">displaylimit</a> of 15.</span>"
      ],
      "text/plain": [
       "+-----------+---------+--------+-------+---------+\n",
       "| player_id | team_id | div_id | lg_id | year_id |\n",
       "+-----------+---------+--------+-------+---------+\n",
       "| gumbeha01 |   NY1   |  None  |   NL  |   1935  |\n",
       "| gradymi01 |   SLN   |  None  |   NL  |   1897  |\n",
       "| deshoji01 |   WS1   |  None  |   AL  |   1938  |\n",
       "| prattla01 |   BRF   |  None  |   FL  |   1915  |\n",
       "| thompsa01 |   PHI   |  None  |   NL  |   1890  |\n",
       "| hollica01 |   DET   |  None  |   AL  |   1922  |\n",
       "|  halege01 |   SLA   |  None  |   AL  |   1916  |\n",
       "| mamaual01 |   NYA   |  None  |   AL  |   1924  |\n",
       "| henryji01 |   BOS   |  None  |   AL  |   1937  |\n",
       "| cristch01 |   PHI   |  None  |   NL  |   1906  |\n",
       "| mooreed01 |   BSN   |  None  |   NL  |   1926  |\n",
       "| gerbewa01 |   SLA   |  None  |   AL  |   1917  |\n",
       "|  westma02 |   BSN   |  None  |   NL  |   1940  |\n",
       "|  ryanbl01 |   NY1   |  None  |   NL  |   1938  |\n",
       "| dormare01 |   CLE   |  None  |   AL  |   1928  |\n",
       "+-----------+---------+--------+-------+---------+\n",
       "Truncated to displaylimit of 15."
      ]
     },
     "execution_count": 38,
     "metadata": {},
     "output_type": "execute_result"
    }
   ],
   "source": [
    "%sql SELECT * FROM bball_tree LIMIT 25;"
   ]
  },
  {
   "cell_type": "markdown",
   "id": "948e46b0-a749-44b3-91ef-e2b58e50146f",
   "metadata": {},
   "source": [
    "### Revisiting the Home Run Query\n",
    "\n",
    "Recall our old home run query:"
   ]
  },
  {
   "cell_type": "code",
   "execution_count": 39,
   "id": "5c52f62c-a9bc-4041-b04e-b88f63d46503",
   "metadata": {
    "slideshow": {
     "slide_type": "fragment"
    }
   },
   "outputs": [
    {
     "data": {
      "text/html": [
       "<span style=\"None\">Running query in &#x27;postgresql://localhost:5432/baseball&#x27;</span>"
      ],
      "text/plain": [
       "Running query in 'postgresql://localhost:5432/baseball'"
      ]
     },
     "metadata": {},
     "output_type": "display_data"
    },
    {
     "data": {
      "text/html": [
       "<span style=\"color: green\">10 rows affected.</span>"
      ],
      "text/plain": [
       "10 rows affected."
      ]
     },
     "metadata": {},
     "output_type": "display_data"
    },
    {
     "data": {
      "text/html": [
       "<table>\n",
       "    <thead>\n",
       "        <tr>\n",
       "            <th>name_first</th>\n",
       "            <th>name_last</th>\n",
       "            <th>year_id</th>\n",
       "            <th>min</th>\n",
       "            <th>max</th>\n",
       "            <th>avg</th>\n",
       "            <th>stddev</th>\n",
       "            <th>sum</th>\n",
       "        </tr>\n",
       "    </thead>\n",
       "    <tbody>\n",
       "        <tr>\n",
       "            <td>Barry</td>\n",
       "            <td>Bonds</td>\n",
       "            <td>2001</td>\n",
       "            <td>73</td>\n",
       "            <td>73</td>\n",
       "            <td>73.0000000000000000</td>\n",
       "            <td>None</td>\n",
       "            <td>73</td>\n",
       "        </tr>\n",
       "        <tr>\n",
       "            <td>Mark</td>\n",
       "            <td>McGwire</td>\n",
       "            <td>1998</td>\n",
       "            <td>70</td>\n",
       "            <td>70</td>\n",
       "            <td>70.0000000000000000</td>\n",
       "            <td>None</td>\n",
       "            <td>70</td>\n",
       "        </tr>\n",
       "        <tr>\n",
       "            <td>Sammy</td>\n",
       "            <td>Sosa</td>\n",
       "            <td>1998</td>\n",
       "            <td>66</td>\n",
       "            <td>66</td>\n",
       "            <td>66.0000000000000000</td>\n",
       "            <td>None</td>\n",
       "            <td>66</td>\n",
       "        </tr>\n",
       "        <tr>\n",
       "            <td>Mark</td>\n",
       "            <td>McGwire</td>\n",
       "            <td>1999</td>\n",
       "            <td>65</td>\n",
       "            <td>65</td>\n",
       "            <td>65.0000000000000000</td>\n",
       "            <td>None</td>\n",
       "            <td>65</td>\n",
       "        </tr>\n",
       "        <tr>\n",
       "            <td>Sammy</td>\n",
       "            <td>Sosa</td>\n",
       "            <td>2001</td>\n",
       "            <td>64</td>\n",
       "            <td>64</td>\n",
       "            <td>64.0000000000000000</td>\n",
       "            <td>None</td>\n",
       "            <td>64</td>\n",
       "        </tr>\n",
       "        <tr>\n",
       "            <td>Sammy</td>\n",
       "            <td>Sosa</td>\n",
       "            <td>1999</td>\n",
       "            <td>63</td>\n",
       "            <td>63</td>\n",
       "            <td>63.0000000000000000</td>\n",
       "            <td>None</td>\n",
       "            <td>63</td>\n",
       "        </tr>\n",
       "        <tr>\n",
       "            <td>Roger</td>\n",
       "            <td>Maris</td>\n",
       "            <td>1961</td>\n",
       "            <td>61</td>\n",
       "            <td>61</td>\n",
       "            <td>61.0000000000000000</td>\n",
       "            <td>None</td>\n",
       "            <td>61</td>\n",
       "        </tr>\n",
       "        <tr>\n",
       "            <td>Babe</td>\n",
       "            <td>Ruth</td>\n",
       "            <td>1927</td>\n",
       "            <td>60</td>\n",
       "            <td>60</td>\n",
       "            <td>60.0000000000000000</td>\n",
       "            <td>None</td>\n",
       "            <td>60</td>\n",
       "        </tr>\n",
       "        <tr>\n",
       "            <td>Babe</td>\n",
       "            <td>Ruth</td>\n",
       "            <td>1921</td>\n",
       "            <td>59</td>\n",
       "            <td>59</td>\n",
       "            <td>59.0000000000000000</td>\n",
       "            <td>None</td>\n",
       "            <td>59</td>\n",
       "        </tr>\n",
       "        <tr>\n",
       "            <td>Giancarlo</td>\n",
       "            <td>Stanton</td>\n",
       "            <td>2017</td>\n",
       "            <td>59</td>\n",
       "            <td>59</td>\n",
       "            <td>59.0000000000000000</td>\n",
       "            <td>None</td>\n",
       "            <td>59</td>\n",
       "        </tr>\n",
       "    </tbody>\n",
       "</table>"
      ],
      "text/plain": [
       "+------------+-----------+---------+-----+-----+---------------------+--------+-----+\n",
       "| name_first | name_last | year_id | min | max |         avg         | stddev | sum |\n",
       "+------------+-----------+---------+-----+-----+---------------------+--------+-----+\n",
       "|   Barry    |   Bonds   |   2001  |  73 |  73 | 73.0000000000000000 |  None  |  73 |\n",
       "|    Mark    |  McGwire  |   1998  |  70 |  70 | 70.0000000000000000 |  None  |  70 |\n",
       "|   Sammy    |    Sosa   |   1998  |  66 |  66 | 66.0000000000000000 |  None  |  66 |\n",
       "|    Mark    |  McGwire  |   1999  |  65 |  65 | 65.0000000000000000 |  None  |  65 |\n",
       "|   Sammy    |    Sosa   |   2001  |  64 |  64 | 64.0000000000000000 |  None  |  64 |\n",
       "|   Sammy    |    Sosa   |   1999  |  63 |  63 | 63.0000000000000000 |  None  |  63 |\n",
       "|   Roger    |   Maris   |   1961  |  61 |  61 | 61.0000000000000000 |  None  |  61 |\n",
       "|    Babe    |    Ruth   |   1927  |  60 |  60 | 60.0000000000000000 |  None  |  60 |\n",
       "|    Babe    |    Ruth   |   1921  |  59 |  59 | 59.0000000000000000 |  None  |  59 |\n",
       "| Giancarlo  |  Stanton  |   2017  |  59 |  59 | 59.0000000000000000 |  None  |  59 |\n",
       "+------------+-----------+---------+-----+-----+---------------------+--------+-----+"
      ]
     },
     "execution_count": 39,
     "metadata": {},
     "output_type": "execute_result"
    }
   ],
   "source": [
    "%%sql\n",
    "SELECT name_first, name_last, year_id,\n",
    "       MIN(hr), MAX(hr), AVG(hr), STDDEV(hr), SUM(hr)\n",
    "FROM batting b, people p\n",
    "WHERE b.player_id = p.player_id\n",
    "GROUP BY name_last, name_first, year_id\n",
    "ORDER BY max DESC\n",
    "LIMIT 10;"
   ]
  },
  {
   "cell_type": "markdown",
   "id": "4433909c-baf0-4744-b196-3ee322086046",
   "metadata": {},
   "source": [
    "Set up for roll up/drill down on `bball_tree` hierarchy.\n",
    "* Join each (raw) person with the associated `bball_tree` entry by `(playerid, yearid)` in a CTE\n",
    "* Use this result for roll-up and drill-down."
   ]
  },
  {
   "cell_type": "markdown",
   "id": "7eee322c-f96c-4576-bf63-c7108226aecb",
   "metadata": {},
   "source": [
    "(blank space before we get to the next exercise....)\n",
    "<br/><br/><br/><br/><br/>\n",
    "<br/><br/><br/><br/><br/>\n",
    "<br/><br/><br/><br/><br/>\n",
    "<br/><br/><br/><br/><br/>"
   ]
  },
  {
   "cell_type": "code",
   "execution_count": 40,
   "id": "cd4c5f2e-aef8-4277-bf8f-b70ba01da070",
   "metadata": {},
   "outputs": [
    {
     "data": {
      "text/html": [
       "<span style=\"None\">Running query in &#x27;postgresql://localhost:5432/baseball&#x27;</span>"
      ],
      "text/plain": [
       "Running query in 'postgresql://localhost:5432/baseball'"
      ]
     },
     "metadata": {},
     "output_type": "display_data"
    },
    {
     "data": {
      "text/html": [
       "<span style=\"color: green\">10 rows affected.</span>"
      ],
      "text/plain": [
       "10 rows affected."
      ]
     },
     "metadata": {},
     "output_type": "display_data"
    },
    {
     "data": {
      "text/html": [
       "<table>\n",
       "    <thead>\n",
       "        <tr>\n",
       "            <th>name_first</th>\n",
       "            <th>name_last</th>\n",
       "            <th>team_id</th>\n",
       "            <th>lg_id</th>\n",
       "            <th>div_id</th>\n",
       "            <th>year_id</th>\n",
       "            <th>min</th>\n",
       "            <th>max</th>\n",
       "            <th>avg</th>\n",
       "            <th>stddev</th>\n",
       "            <th>sum</th>\n",
       "        </tr>\n",
       "    </thead>\n",
       "    <tbody>\n",
       "        <tr>\n",
       "            <td>Barry</td>\n",
       "            <td>Bonds</td>\n",
       "            <td>SFN</td>\n",
       "            <td>NL</td>\n",
       "            <td>W</td>\n",
       "            <td>2001</td>\n",
       "            <td>73</td>\n",
       "            <td>73</td>\n",
       "            <td>73.0000000000000000</td>\n",
       "            <td>None</td>\n",
       "            <td>73</td>\n",
       "        </tr>\n",
       "        <tr>\n",
       "            <td>Mark</td>\n",
       "            <td>McGwire</td>\n",
       "            <td>SLN</td>\n",
       "            <td>NL</td>\n",
       "            <td>C</td>\n",
       "            <td>1998</td>\n",
       "            <td>70</td>\n",
       "            <td>70</td>\n",
       "            <td>70.0000000000000000</td>\n",
       "            <td>None</td>\n",
       "            <td>70</td>\n",
       "        </tr>\n",
       "        <tr>\n",
       "            <td>Sammy</td>\n",
       "            <td>Sosa</td>\n",
       "            <td>CHN</td>\n",
       "            <td>NL</td>\n",
       "            <td>C</td>\n",
       "            <td>1998</td>\n",
       "            <td>66</td>\n",
       "            <td>66</td>\n",
       "            <td>66.0000000000000000</td>\n",
       "            <td>None</td>\n",
       "            <td>66</td>\n",
       "        </tr>\n",
       "        <tr>\n",
       "            <td>Mark</td>\n",
       "            <td>McGwire</td>\n",
       "            <td>SLN</td>\n",
       "            <td>NL</td>\n",
       "            <td>C</td>\n",
       "            <td>1999</td>\n",
       "            <td>65</td>\n",
       "            <td>65</td>\n",
       "            <td>65.0000000000000000</td>\n",
       "            <td>None</td>\n",
       "            <td>65</td>\n",
       "        </tr>\n",
       "        <tr>\n",
       "            <td>Sammy</td>\n",
       "            <td>Sosa</td>\n",
       "            <td>CHN</td>\n",
       "            <td>NL</td>\n",
       "            <td>C</td>\n",
       "            <td>2001</td>\n",
       "            <td>64</td>\n",
       "            <td>64</td>\n",
       "            <td>64.0000000000000000</td>\n",
       "            <td>None</td>\n",
       "            <td>64</td>\n",
       "        </tr>\n",
       "        <tr>\n",
       "            <td>Sammy</td>\n",
       "            <td>Sosa</td>\n",
       "            <td>CHN</td>\n",
       "            <td>NL</td>\n",
       "            <td>C</td>\n",
       "            <td>1999</td>\n",
       "            <td>63</td>\n",
       "            <td>63</td>\n",
       "            <td>63.0000000000000000</td>\n",
       "            <td>None</td>\n",
       "            <td>63</td>\n",
       "        </tr>\n",
       "        <tr>\n",
       "            <td>Roger</td>\n",
       "            <td>Maris</td>\n",
       "            <td>NYA</td>\n",
       "            <td>AL</td>\n",
       "            <td>None</td>\n",
       "            <td>1961</td>\n",
       "            <td>61</td>\n",
       "            <td>61</td>\n",
       "            <td>61.0000000000000000</td>\n",
       "            <td>None</td>\n",
       "            <td>61</td>\n",
       "        </tr>\n",
       "        <tr>\n",
       "            <td>Babe</td>\n",
       "            <td>Ruth</td>\n",
       "            <td>NYA</td>\n",
       "            <td>AL</td>\n",
       "            <td>None</td>\n",
       "            <td>1927</td>\n",
       "            <td>60</td>\n",
       "            <td>60</td>\n",
       "            <td>60.0000000000000000</td>\n",
       "            <td>None</td>\n",
       "            <td>60</td>\n",
       "        </tr>\n",
       "        <tr>\n",
       "            <td>Babe</td>\n",
       "            <td>Ruth</td>\n",
       "            <td>NYA</td>\n",
       "            <td>AL</td>\n",
       "            <td>None</td>\n",
       "            <td>1921</td>\n",
       "            <td>59</td>\n",
       "            <td>59</td>\n",
       "            <td>59.0000000000000000</td>\n",
       "            <td>None</td>\n",
       "            <td>59</td>\n",
       "        </tr>\n",
       "        <tr>\n",
       "            <td>Giancarlo</td>\n",
       "            <td>Stanton</td>\n",
       "            <td>MIA</td>\n",
       "            <td>NL</td>\n",
       "            <td>E</td>\n",
       "            <td>2017</td>\n",
       "            <td>59</td>\n",
       "            <td>59</td>\n",
       "            <td>59.0000000000000000</td>\n",
       "            <td>None</td>\n",
       "            <td>59</td>\n",
       "        </tr>\n",
       "    </tbody>\n",
       "</table>"
      ],
      "text/plain": [
       "+------------+-----------+---------+-------+--------+---------+-----+-----+---------------------+--------+-----+\n",
       "| name_first | name_last | team_id | lg_id | div_id | year_id | min | max |         avg         | stddev | sum |\n",
       "+------------+-----------+---------+-------+--------+---------+-----+-----+---------------------+--------+-----+\n",
       "|   Barry    |   Bonds   |   SFN   |   NL  |   W    |   2001  |  73 |  73 | 73.0000000000000000 |  None  |  73 |\n",
       "|    Mark    |  McGwire  |   SLN   |   NL  |   C    |   1998  |  70 |  70 | 70.0000000000000000 |  None  |  70 |\n",
       "|   Sammy    |    Sosa   |   CHN   |   NL  |   C    |   1998  |  66 |  66 | 66.0000000000000000 |  None  |  66 |\n",
       "|    Mark    |  McGwire  |   SLN   |   NL  |   C    |   1999  |  65 |  65 | 65.0000000000000000 |  None  |  65 |\n",
       "|   Sammy    |    Sosa   |   CHN   |   NL  |   C    |   2001  |  64 |  64 | 64.0000000000000000 |  None  |  64 |\n",
       "|   Sammy    |    Sosa   |   CHN   |   NL  |   C    |   1999  |  63 |  63 | 63.0000000000000000 |  None  |  63 |\n",
       "|   Roger    |   Maris   |   NYA   |   AL  |  None  |   1961  |  61 |  61 | 61.0000000000000000 |  None  |  61 |\n",
       "|    Babe    |    Ruth   |   NYA   |   AL  |  None  |   1927  |  60 |  60 | 60.0000000000000000 |  None  |  60 |\n",
       "|    Babe    |    Ruth   |   NYA   |   AL  |  None  |   1921  |  59 |  59 | 59.0000000000000000 |  None  |  59 |\n",
       "| Giancarlo  |  Stanton  |   MIA   |   NL  |   E    |   2017  |  59 |  59 | 59.0000000000000000 |  None  |  59 |\n",
       "+------------+-----------+---------+-------+--------+---------+-----+-----+---------------------+--------+-----+"
      ]
     },
     "execution_count": 40,
     "metadata": {},
     "output_type": "execute_result"
    }
   ],
   "source": [
    "%%sql\n",
    "WITH batting_tree AS (\n",
    "    SELECT b.*, t.div_id\n",
    "    FROM batting b, bball_tree t\n",
    "    WHERE b.player_id = t.player_id\n",
    "      AND b.year_id = t.year_id\n",
    ")\n",
    "SELECT name_first, name_last,\n",
    "       bt.team_id, bt.lg_id, bt.div_id, bt.year_id,\n",
    "       MIN(hr), MAX(hr), AVG(hr), STDDEV(hr), SUM(hr)\n",
    "FROM batting_tree bt, people p\n",
    "WHERE bt.player_id = p.player_id\n",
    "GROUP BY bt.player_id, bt.team_id, bt.lg_id, bt.div_id, bt.year_id, name_last, name_first\n",
    "ORDER BY max DESC\n",
    "LIMIT 10;\n"
   ]
  },
  {
   "cell_type": "markdown",
   "id": "d53a1df6-caa4-47f3-b921-d494389da1d8",
   "metadata": {},
   "source": [
    "# [Extra] Load in the database from scratch"
   ]
  },
  {
   "cell_type": "markdown",
   "id": "eaa050f7-c788-43b6-99a0-7a3293646c2f",
   "metadata": {},
   "source": [
    "We download the database, unzip it, load it into pandas, then export to a new database via `jupysql` cell magic.\n",
    "\n",
    "**CAUTION**: This may crash your DataHub instance. The file is pretty big....\n",
    "\n",
    "The direct zip download of this file is [here](https://geonames.usgs.gov/docs/stategaz/NationalFile.zip)."
   ]
  },
  {
   "cell_type": "code",
   "execution_count": 41,
   "id": "99055302-7c93-49c2-8838-68299d4d5756",
   "metadata": {},
   "outputs": [
    {
     "name": "stdout",
     "output_type": "stream",
     "text": [
      "--2024-10-08 22:34:48--  https://geonames.usgs.gov/docs/stategaz/NationalFile.zip\n",
      "Resolving geonames.usgs.gov (geonames.usgs.gov)... 137.227.239.220, 2001:49c8:8000:121d::76\n",
      "Connecting to geonames.usgs.gov (geonames.usgs.gov)|137.227.239.220|:443... connected.\n",
      "HTTP request sent, awaiting response... 503 Service Unavailable\n",
      "2024-10-08 22:34:48 ERROR 503: Service Unavailable.\n",
      "\n",
      "unzip:  cannot find or open data/NationalFile.zip, data/NationalFile.zip.zip or data/NationalFile.zip.ZIP.\n"
     ]
    }
   ],
   "source": [
    "# first download and unzip the data\n",
    "!mkdir -p data\n",
    "!wget https://geonames.usgs.gov/docs/stategaz/NationalFile.zip -P data/\n",
    "!unzip -u data/NationalFile.zip -d data/"
   ]
  },
  {
   "cell_type": "code",
   "execution_count": 42,
   "id": "2f00c964-96f5-4d01-a92d-2f4d052a8557",
   "metadata": {},
   "outputs": [
    {
     "data": {
      "text/plain": [
       "'data/NationalFile_20210825.txt'"
      ]
     },
     "execution_count": 42,
     "metadata": {},
     "output_type": "execute_result"
    }
   ],
   "source": [
    "import os\n",
    "fname = os.path.join(\"data\", \"NationalFile_20210825.txt\")\n",
    "fname"
   ]
  },
  {
   "cell_type": "code",
   "execution_count": 43,
   "id": "4715cf3f-1dcb-4244-bbbb-3a88e45c9624",
   "metadata": {},
   "outputs": [
    {
     "name": "stdout",
     "output_type": "stream",
     "text": [
      "du: cannot access 'data/NationalFile_20210825.txt': No such file or directory\n"
     ]
    }
   ],
   "source": [
    "!du -h {fname} # big file"
   ]
  },
  {
   "cell_type": "code",
   "execution_count": 44,
   "id": "e3361b10-db66-4ad2-be2d-9599cb28267b",
   "metadata": {},
   "outputs": [
    {
     "name": "stdout",
     "output_type": "stream",
     "text": [
      "head: cannot open 'data/NationalFile_20210825.txt' for reading: No such file or directory\n"
     ]
    }
   ],
   "source": [
    "!head -c 1024 {fname}"
   ]
  },
  {
   "cell_type": "code",
   "execution_count": 45,
   "id": "d0c435a1-f131-4762-b4f8-dbdff73c406f",
   "metadata": {},
   "outputs": [
    {
     "ename": "FileNotFoundError",
     "evalue": "[Errno 2] No such file or directory: 'data/NationalFile_20210825.txt'",
     "output_type": "error",
     "traceback": [
      "\u001b[0;31m---------------------------------------------------------------------------\u001b[0m",
      "\u001b[0;31mFileNotFoundError\u001b[0m                         Traceback (most recent call last)",
      "Cell \u001b[0;32mIn[45], line 4\u001b[0m\n\u001b[1;32m      1\u001b[0m \u001b[38;5;66;03m# next, load it into pandas\u001b[39;00m\n\u001b[1;32m      2\u001b[0m \u001b[38;5;28;01mimport\u001b[39;00m \u001b[38;5;21;01mpandas\u001b[39;00m \u001b[38;5;28;01mas\u001b[39;00m \u001b[38;5;21;01mpd\u001b[39;00m\n\u001b[0;32m----> 4\u001b[0m national \u001b[38;5;241m=\u001b[39m \u001b[43mpd\u001b[49m\u001b[38;5;241;43m.\u001b[39;49m\u001b[43mread_csv\u001b[49m\u001b[43m(\u001b[49m\u001b[38;5;124;43m\"\u001b[39;49m\u001b[38;5;124;43mdata/NationalFile_20210825.txt\u001b[39;49m\u001b[38;5;124;43m\"\u001b[39;49m\u001b[43m,\u001b[49m\u001b[43m \u001b[49m\u001b[43mdelimiter\u001b[49m\u001b[38;5;241;43m=\u001b[39;49m\u001b[38;5;124;43m\"\u001b[39;49m\u001b[38;5;124;43m|\u001b[39;49m\u001b[38;5;124;43m\"\u001b[39;49m\u001b[43m)\u001b[49m\n\u001b[1;32m      5\u001b[0m national\u001b[38;5;241m.\u001b[39mhead(\u001b[38;5;241m2\u001b[39m)\n",
      "File \u001b[0;32m/srv/conda/envs/notebook/lib/python3.11/site-packages/pandas/io/parsers/readers.py:912\u001b[0m, in \u001b[0;36mread_csv\u001b[0;34m(filepath_or_buffer, sep, delimiter, header, names, index_col, usecols, dtype, engine, converters, true_values, false_values, skipinitialspace, skiprows, skipfooter, nrows, na_values, keep_default_na, na_filter, verbose, skip_blank_lines, parse_dates, infer_datetime_format, keep_date_col, date_parser, date_format, dayfirst, cache_dates, iterator, chunksize, compression, thousands, decimal, lineterminator, quotechar, quoting, doublequote, escapechar, comment, encoding, encoding_errors, dialect, on_bad_lines, delim_whitespace, low_memory, memory_map, float_precision, storage_options, dtype_backend)\u001b[0m\n\u001b[1;32m    899\u001b[0m kwds_defaults \u001b[38;5;241m=\u001b[39m _refine_defaults_read(\n\u001b[1;32m    900\u001b[0m     dialect,\n\u001b[1;32m    901\u001b[0m     delimiter,\n\u001b[0;32m   (...)\u001b[0m\n\u001b[1;32m    908\u001b[0m     dtype_backend\u001b[38;5;241m=\u001b[39mdtype_backend,\n\u001b[1;32m    909\u001b[0m )\n\u001b[1;32m    910\u001b[0m kwds\u001b[38;5;241m.\u001b[39mupdate(kwds_defaults)\n\u001b[0;32m--> 912\u001b[0m \u001b[38;5;28;01mreturn\u001b[39;00m \u001b[43m_read\u001b[49m\u001b[43m(\u001b[49m\u001b[43mfilepath_or_buffer\u001b[49m\u001b[43m,\u001b[49m\u001b[43m \u001b[49m\u001b[43mkwds\u001b[49m\u001b[43m)\u001b[49m\n",
      "File \u001b[0;32m/srv/conda/envs/notebook/lib/python3.11/site-packages/pandas/io/parsers/readers.py:577\u001b[0m, in \u001b[0;36m_read\u001b[0;34m(filepath_or_buffer, kwds)\u001b[0m\n\u001b[1;32m    574\u001b[0m _validate_names(kwds\u001b[38;5;241m.\u001b[39mget(\u001b[38;5;124m\"\u001b[39m\u001b[38;5;124mnames\u001b[39m\u001b[38;5;124m\"\u001b[39m, \u001b[38;5;28;01mNone\u001b[39;00m))\n\u001b[1;32m    576\u001b[0m \u001b[38;5;66;03m# Create the parser.\u001b[39;00m\n\u001b[0;32m--> 577\u001b[0m parser \u001b[38;5;241m=\u001b[39m \u001b[43mTextFileReader\u001b[49m\u001b[43m(\u001b[49m\u001b[43mfilepath_or_buffer\u001b[49m\u001b[43m,\u001b[49m\u001b[43m \u001b[49m\u001b[38;5;241;43m*\u001b[39;49m\u001b[38;5;241;43m*\u001b[39;49m\u001b[43mkwds\u001b[49m\u001b[43m)\u001b[49m\n\u001b[1;32m    579\u001b[0m \u001b[38;5;28;01mif\u001b[39;00m chunksize \u001b[38;5;129;01mor\u001b[39;00m iterator:\n\u001b[1;32m    580\u001b[0m     \u001b[38;5;28;01mreturn\u001b[39;00m parser\n",
      "File \u001b[0;32m/srv/conda/envs/notebook/lib/python3.11/site-packages/pandas/io/parsers/readers.py:1407\u001b[0m, in \u001b[0;36mTextFileReader.__init__\u001b[0;34m(self, f, engine, **kwds)\u001b[0m\n\u001b[1;32m   1404\u001b[0m     \u001b[38;5;28mself\u001b[39m\u001b[38;5;241m.\u001b[39moptions[\u001b[38;5;124m\"\u001b[39m\u001b[38;5;124mhas_index_names\u001b[39m\u001b[38;5;124m\"\u001b[39m] \u001b[38;5;241m=\u001b[39m kwds[\u001b[38;5;124m\"\u001b[39m\u001b[38;5;124mhas_index_names\u001b[39m\u001b[38;5;124m\"\u001b[39m]\n\u001b[1;32m   1406\u001b[0m \u001b[38;5;28mself\u001b[39m\u001b[38;5;241m.\u001b[39mhandles: IOHandles \u001b[38;5;241m|\u001b[39m \u001b[38;5;28;01mNone\u001b[39;00m \u001b[38;5;241m=\u001b[39m \u001b[38;5;28;01mNone\u001b[39;00m\n\u001b[0;32m-> 1407\u001b[0m \u001b[38;5;28mself\u001b[39m\u001b[38;5;241m.\u001b[39m_engine \u001b[38;5;241m=\u001b[39m \u001b[38;5;28;43mself\u001b[39;49m\u001b[38;5;241;43m.\u001b[39;49m\u001b[43m_make_engine\u001b[49m\u001b[43m(\u001b[49m\u001b[43mf\u001b[49m\u001b[43m,\u001b[49m\u001b[43m \u001b[49m\u001b[38;5;28;43mself\u001b[39;49m\u001b[38;5;241;43m.\u001b[39;49m\u001b[43mengine\u001b[49m\u001b[43m)\u001b[49m\n",
      "File \u001b[0;32m/srv/conda/envs/notebook/lib/python3.11/site-packages/pandas/io/parsers/readers.py:1661\u001b[0m, in \u001b[0;36mTextFileReader._make_engine\u001b[0;34m(self, f, engine)\u001b[0m\n\u001b[1;32m   1659\u001b[0m     \u001b[38;5;28;01mif\u001b[39;00m \u001b[38;5;124m\"\u001b[39m\u001b[38;5;124mb\u001b[39m\u001b[38;5;124m\"\u001b[39m \u001b[38;5;129;01mnot\u001b[39;00m \u001b[38;5;129;01min\u001b[39;00m mode:\n\u001b[1;32m   1660\u001b[0m         mode \u001b[38;5;241m+\u001b[39m\u001b[38;5;241m=\u001b[39m \u001b[38;5;124m\"\u001b[39m\u001b[38;5;124mb\u001b[39m\u001b[38;5;124m\"\u001b[39m\n\u001b[0;32m-> 1661\u001b[0m \u001b[38;5;28mself\u001b[39m\u001b[38;5;241m.\u001b[39mhandles \u001b[38;5;241m=\u001b[39m \u001b[43mget_handle\u001b[49m\u001b[43m(\u001b[49m\n\u001b[1;32m   1662\u001b[0m \u001b[43m    \u001b[49m\u001b[43mf\u001b[49m\u001b[43m,\u001b[49m\n\u001b[1;32m   1663\u001b[0m \u001b[43m    \u001b[49m\u001b[43mmode\u001b[49m\u001b[43m,\u001b[49m\n\u001b[1;32m   1664\u001b[0m \u001b[43m    \u001b[49m\u001b[43mencoding\u001b[49m\u001b[38;5;241;43m=\u001b[39;49m\u001b[38;5;28;43mself\u001b[39;49m\u001b[38;5;241;43m.\u001b[39;49m\u001b[43moptions\u001b[49m\u001b[38;5;241;43m.\u001b[39;49m\u001b[43mget\u001b[49m\u001b[43m(\u001b[49m\u001b[38;5;124;43m\"\u001b[39;49m\u001b[38;5;124;43mencoding\u001b[39;49m\u001b[38;5;124;43m\"\u001b[39;49m\u001b[43m,\u001b[49m\u001b[43m \u001b[49m\u001b[38;5;28;43;01mNone\u001b[39;49;00m\u001b[43m)\u001b[49m\u001b[43m,\u001b[49m\n\u001b[1;32m   1665\u001b[0m \u001b[43m    \u001b[49m\u001b[43mcompression\u001b[49m\u001b[38;5;241;43m=\u001b[39;49m\u001b[38;5;28;43mself\u001b[39;49m\u001b[38;5;241;43m.\u001b[39;49m\u001b[43moptions\u001b[49m\u001b[38;5;241;43m.\u001b[39;49m\u001b[43mget\u001b[49m\u001b[43m(\u001b[49m\u001b[38;5;124;43m\"\u001b[39;49m\u001b[38;5;124;43mcompression\u001b[39;49m\u001b[38;5;124;43m\"\u001b[39;49m\u001b[43m,\u001b[49m\u001b[43m \u001b[49m\u001b[38;5;28;43;01mNone\u001b[39;49;00m\u001b[43m)\u001b[49m\u001b[43m,\u001b[49m\n\u001b[1;32m   1666\u001b[0m \u001b[43m    \u001b[49m\u001b[43mmemory_map\u001b[49m\u001b[38;5;241;43m=\u001b[39;49m\u001b[38;5;28;43mself\u001b[39;49m\u001b[38;5;241;43m.\u001b[39;49m\u001b[43moptions\u001b[49m\u001b[38;5;241;43m.\u001b[39;49m\u001b[43mget\u001b[49m\u001b[43m(\u001b[49m\u001b[38;5;124;43m\"\u001b[39;49m\u001b[38;5;124;43mmemory_map\u001b[39;49m\u001b[38;5;124;43m\"\u001b[39;49m\u001b[43m,\u001b[49m\u001b[43m \u001b[49m\u001b[38;5;28;43;01mFalse\u001b[39;49;00m\u001b[43m)\u001b[49m\u001b[43m,\u001b[49m\n\u001b[1;32m   1667\u001b[0m \u001b[43m    \u001b[49m\u001b[43mis_text\u001b[49m\u001b[38;5;241;43m=\u001b[39;49m\u001b[43mis_text\u001b[49m\u001b[43m,\u001b[49m\n\u001b[1;32m   1668\u001b[0m \u001b[43m    \u001b[49m\u001b[43merrors\u001b[49m\u001b[38;5;241;43m=\u001b[39;49m\u001b[38;5;28;43mself\u001b[39;49m\u001b[38;5;241;43m.\u001b[39;49m\u001b[43moptions\u001b[49m\u001b[38;5;241;43m.\u001b[39;49m\u001b[43mget\u001b[49m\u001b[43m(\u001b[49m\u001b[38;5;124;43m\"\u001b[39;49m\u001b[38;5;124;43mencoding_errors\u001b[39;49m\u001b[38;5;124;43m\"\u001b[39;49m\u001b[43m,\u001b[49m\u001b[43m \u001b[49m\u001b[38;5;124;43m\"\u001b[39;49m\u001b[38;5;124;43mstrict\u001b[39;49m\u001b[38;5;124;43m\"\u001b[39;49m\u001b[43m)\u001b[49m\u001b[43m,\u001b[49m\n\u001b[1;32m   1669\u001b[0m \u001b[43m    \u001b[49m\u001b[43mstorage_options\u001b[49m\u001b[38;5;241;43m=\u001b[39;49m\u001b[38;5;28;43mself\u001b[39;49m\u001b[38;5;241;43m.\u001b[39;49m\u001b[43moptions\u001b[49m\u001b[38;5;241;43m.\u001b[39;49m\u001b[43mget\u001b[49m\u001b[43m(\u001b[49m\u001b[38;5;124;43m\"\u001b[39;49m\u001b[38;5;124;43mstorage_options\u001b[39;49m\u001b[38;5;124;43m\"\u001b[39;49m\u001b[43m,\u001b[49m\u001b[43m \u001b[49m\u001b[38;5;28;43;01mNone\u001b[39;49;00m\u001b[43m)\u001b[49m\u001b[43m,\u001b[49m\n\u001b[1;32m   1670\u001b[0m \u001b[43m\u001b[49m\u001b[43m)\u001b[49m\n\u001b[1;32m   1671\u001b[0m \u001b[38;5;28;01massert\u001b[39;00m \u001b[38;5;28mself\u001b[39m\u001b[38;5;241m.\u001b[39mhandles \u001b[38;5;129;01mis\u001b[39;00m \u001b[38;5;129;01mnot\u001b[39;00m \u001b[38;5;28;01mNone\u001b[39;00m\n\u001b[1;32m   1672\u001b[0m f \u001b[38;5;241m=\u001b[39m \u001b[38;5;28mself\u001b[39m\u001b[38;5;241m.\u001b[39mhandles\u001b[38;5;241m.\u001b[39mhandle\n",
      "File \u001b[0;32m/srv/conda/envs/notebook/lib/python3.11/site-packages/pandas/io/common.py:859\u001b[0m, in \u001b[0;36mget_handle\u001b[0;34m(path_or_buf, mode, encoding, compression, memory_map, is_text, errors, storage_options)\u001b[0m\n\u001b[1;32m    854\u001b[0m \u001b[38;5;28;01melif\u001b[39;00m \u001b[38;5;28misinstance\u001b[39m(handle, \u001b[38;5;28mstr\u001b[39m):\n\u001b[1;32m    855\u001b[0m     \u001b[38;5;66;03m# Check whether the filename is to be opened in binary mode.\u001b[39;00m\n\u001b[1;32m    856\u001b[0m     \u001b[38;5;66;03m# Binary mode does not support 'encoding' and 'newline'.\u001b[39;00m\n\u001b[1;32m    857\u001b[0m     \u001b[38;5;28;01mif\u001b[39;00m ioargs\u001b[38;5;241m.\u001b[39mencoding \u001b[38;5;129;01mand\u001b[39;00m \u001b[38;5;124m\"\u001b[39m\u001b[38;5;124mb\u001b[39m\u001b[38;5;124m\"\u001b[39m \u001b[38;5;129;01mnot\u001b[39;00m \u001b[38;5;129;01min\u001b[39;00m ioargs\u001b[38;5;241m.\u001b[39mmode:\n\u001b[1;32m    858\u001b[0m         \u001b[38;5;66;03m# Encoding\u001b[39;00m\n\u001b[0;32m--> 859\u001b[0m         handle \u001b[38;5;241m=\u001b[39m \u001b[38;5;28;43mopen\u001b[39;49m\u001b[43m(\u001b[49m\n\u001b[1;32m    860\u001b[0m \u001b[43m            \u001b[49m\u001b[43mhandle\u001b[49m\u001b[43m,\u001b[49m\n\u001b[1;32m    861\u001b[0m \u001b[43m            \u001b[49m\u001b[43mioargs\u001b[49m\u001b[38;5;241;43m.\u001b[39;49m\u001b[43mmode\u001b[49m\u001b[43m,\u001b[49m\n\u001b[1;32m    862\u001b[0m \u001b[43m            \u001b[49m\u001b[43mencoding\u001b[49m\u001b[38;5;241;43m=\u001b[39;49m\u001b[43mioargs\u001b[49m\u001b[38;5;241;43m.\u001b[39;49m\u001b[43mencoding\u001b[49m\u001b[43m,\u001b[49m\n\u001b[1;32m    863\u001b[0m \u001b[43m            \u001b[49m\u001b[43merrors\u001b[49m\u001b[38;5;241;43m=\u001b[39;49m\u001b[43merrors\u001b[49m\u001b[43m,\u001b[49m\n\u001b[1;32m    864\u001b[0m \u001b[43m            \u001b[49m\u001b[43mnewline\u001b[49m\u001b[38;5;241;43m=\u001b[39;49m\u001b[38;5;124;43m\"\u001b[39;49m\u001b[38;5;124;43m\"\u001b[39;49m\u001b[43m,\u001b[49m\n\u001b[1;32m    865\u001b[0m \u001b[43m        \u001b[49m\u001b[43m)\u001b[49m\n\u001b[1;32m    866\u001b[0m     \u001b[38;5;28;01melse\u001b[39;00m:\n\u001b[1;32m    867\u001b[0m         \u001b[38;5;66;03m# Binary mode\u001b[39;00m\n\u001b[1;32m    868\u001b[0m         handle \u001b[38;5;241m=\u001b[39m \u001b[38;5;28mopen\u001b[39m(handle, ioargs\u001b[38;5;241m.\u001b[39mmode)\n",
      "\u001b[0;31mFileNotFoundError\u001b[0m: [Errno 2] No such file or directory: 'data/NationalFile_20210825.txt'"
     ]
    }
   ],
   "source": [
    "# next, load it into pandas\n",
    "import pandas as pd\n",
    "\n",
    "national = pd.read_csv(\"data/NationalFile_20210825.txt\", delimiter=\"|\")\n",
    "national.head(2)"
   ]
  },
  {
   "cell_type": "code",
   "execution_count": null,
   "id": "321f570c-9920-439a-bebb-37603261ab17",
   "metadata": {},
   "outputs": [],
   "source": [
    "national = national.rename(columns=dict([(col, col.lower().strip()) for col in national.columns]))\n",
    "national.head(2)"
   ]
  },
  {
   "cell_type": "markdown",
   "id": "fbb656a8-a78c-4ad5-8c06-bf84a9ef10e3",
   "metadata": {},
   "source": [
    "Next, get a table sample in pandas."
   ]
  },
  {
   "cell_type": "code",
   "execution_count": null,
   "id": "cdd0dd58-7404-4bba-a2a1-45cc7e955820",
   "metadata": {},
   "outputs": [],
   "source": [
    "import numpy as np\n",
    "\n",
    "p = 0.005 # fraction, not percentage\n",
    "\n",
    "np.random.seed(42)\n",
    "national['keep_bool'] = np.random.random(len(national)) < p\n",
    "national['keep_bool'].value_counts()"
   ]
  },
  {
   "cell_type": "code",
   "execution_count": null,
   "id": "64f4bcfe-bdef-4ab6-b232-8cc9e82ca633",
   "metadata": {},
   "outputs": [],
   "source": [
    "national = national[national['keep_bool']].drop(columns=['keep_bool'])\n",
    "national"
   ]
  },
  {
   "cell_type": "markdown",
   "id": "f9826ada-8db4-4859-b6e3-4fd3066938c9",
   "metadata": {},
   "source": [
    "Now, export to SQL"
   ]
  },
  {
   "cell_type": "code",
   "execution_count": null,
   "id": "1dd90532-61ac-4d68-a839-bed97666a376",
   "metadata": {},
   "outputs": [],
   "source": [
    "!psql -h localhost -d gnis -c 'SELECT pg_terminate_backend(pg_stat_activity.pid) FROM pg_stat_activity WHERE datname = current_database() AND pid <> pg_backend_pid();'\n",
    "!psql -h localhost -c 'DROP DATABASE IF EXISTS gnis'\n",
    "!psql -h localhost -c 'CREATE DATABASE gnis' "
   ]
  },
  {
   "cell_type": "code",
   "execution_count": null,
   "id": "a76161d9-2370-4275-834e-f15b5b81da16",
   "metadata": {},
   "outputs": [],
   "source": [
    "%reload_ext sql\n",
    "%sql postgresql://127.0.0.1:5432/gnis"
   ]
  },
  {
   "cell_type": "code",
   "execution_count": null,
   "id": "ee7eac4a-2110-40b4-9064-91876653af08",
   "metadata": {},
   "outputs": [],
   "source": [
    "%sql --persist-replace national"
   ]
  },
  {
   "cell_type": "code",
   "execution_count": null,
   "id": "770a98d3-6388-4f01-a6cb-eb1ca322fc1d",
   "metadata": {},
   "outputs": [],
   "source": [
    "%sql ALTER TABLE national DROP COLUMN index;"
   ]
  },
  {
   "cell_type": "markdown",
   "id": "24de591a-a1cf-44ec-a9ee-112ed166c7fc",
   "metadata": {},
   "source": [
    "Now, export to file with `pgdump`"
   ]
  },
  {
   "cell_type": "code",
   "execution_count": null,
   "id": "93ed1c8d-de4b-4a3f-9f01-cd698d42d34e",
   "metadata": {},
   "outputs": [],
   "source": [
    "!pg_dump -h localhost --encoding utf8 gnis -f data/gnis.sql "
   ]
  },
  {
   "cell_type": "markdown",
   "id": "c691dbce-7394-4c8d-8113-fbbd60071001",
   "metadata": {},
   "source": [
    "Finally, run the beginning of this notebook again"
   ]
  },
  {
   "cell_type": "code",
   "execution_count": null,
   "id": "8785039e-d71d-4867-8e46-c7f8561076cb",
   "metadata": {},
   "outputs": [],
   "source": [
    "!du -h data/gnis.sql"
   ]
  },
  {
   "cell_type": "code",
   "execution_count": null,
   "id": "f08f024b",
   "metadata": {},
   "outputs": [],
   "source": []
  },
  {
   "cell_type": "markdown",
   "id": "f23942b6-b191-4d31-99e0-23c7ee21c08f",
   "metadata": {},
   "source": [
    "## FIPS\n",
    "\n",
    "Federal Information Processing System (FIPS) Codes for States and Counties\n",
    "\n",
    "Manually download the file from this link (https://transition.fcc.gov/oet/info/maps/census/fips/fips.txt) and save it in `data/`.\n",
    "* `wget` does not work here; likely the FCC website only accepts HTTPS connections to deter from server attacks."
   ]
  },
  {
   "cell_type": "code",
   "execution_count": null,
   "id": "b7069660-154d-4808-b2fc-dd9f9c0638e9",
   "metadata": {},
   "outputs": [],
   "source": [
    "!wget https://transition.fcc.gov/oet/info/maps/census/fips/fips.txt -P data/"
   ]
  },
  {
   "cell_type": "code",
   "execution_count": null,
   "id": "30a1f3f7-6fd8-40cb-b0fe-0e746e6d5a4e",
   "metadata": {},
   "outputs": [],
   "source": [
    "import pandas as pd\n",
    "import re"
   ]
  },
  {
   "cell_type": "code",
   "execution_count": null,
   "id": "4a2d3005-1db9-4854-9e09-710170db2515",
   "metadata": {},
   "outputs": [],
   "source": [
    "with open('data/fips.txt', 'r') as f:\n",
    "    lines = f.readlines()"
   ]
  },
  {
   "cell_type": "code",
   "execution_count": null,
   "id": "7ff5adf6-dd2b-4452-863a-4b111aea9155",
   "metadata": {},
   "outputs": [],
   "source": [
    "COUNTY_STARTS = 69\n",
    "OFFSET = 3 # the start of the data itself, after headers"
   ]
  },
  {
   "cell_type": "code",
   "execution_count": null,
   "id": "f32adf37-bdb2-4fdf-afe4-d8d9bcf99221",
   "metadata": {},
   "outputs": [],
   "source": [
    "re.match('\\s+(\\d+)\\s+(\\w+)', lines[COUNTY_STARTS+3]).groups()"
   ]
  },
  {
   "cell_type": "code",
   "execution_count": null,
   "id": "9bea5ec5-8ce8-4c82-ae96-9e512c7908cb",
   "metadata": {},
   "outputs": [],
   "source": [
    "splits = [re.match('\\s+(\\d+)\\s+(.*)', line).groups()\n",
    "          for line in \n",
    "          lines[COUNTY_STARTS+OFFSET:]]\n",
    "splits[0]"
   ]
  },
  {
   "cell_type": "markdown",
   "id": "22d32ca2-1619-42c6-9315-0580378d6a52",
   "metadata": {},
   "source": [
    "**For later**: There is a significant discrepancy between the number of counties created and the number of lines remaining in our dataset. We encourage you to investigate this!"
   ]
  },
  {
   "cell_type": "code",
   "execution_count": null,
   "id": "5b224827-4728-4cb0-9c5d-6bb6090d7d1c",
   "metadata": {},
   "outputs": [],
   "source": [
    "len(lines), len(splits)"
   ]
  },
  {
   "cell_type": "markdown",
   "id": "08c6ce55-a854-40ec-b966-ca6bb81749fc",
   "metadata": {},
   "source": [
    "> FIPS codes are numbers which uniquely identify geographic areas.  The number of \n",
    "digits in FIPS codes vary depending on the level of geography.  State-level FIPS\n",
    "codes have two digits, county-level FIPS codes have five digits of which the \n",
    "first two are the FIPS code of the state to which the county belongs.  When \n",
    "using the list below to look up county FIPS codes, it is advisable to first look\n",
    "up the FIPS code for the state to which the county belongs.  This will help you\n",
    "identify the right section of the list while scrolling down, which can be\n",
    "important since there are over 3000 counties and county-equivalents (e.g.\n",
    "independent cities, parishes, boroughs) in the United States."
   ]
  },
  {
   "cell_type": "code",
   "execution_count": null,
   "id": "24e524bf-a426-4496-bc10-85d190e28fdf",
   "metadata": {},
   "outputs": [],
   "source": [
    "fips_counties = pd.DataFrame(data=splits, columns=['fips', 'county'])\n",
    "fips_counties['state_numeric'] = fips_counties['fips'].str[:2].astype(int)\n",
    "fips_counties['fips'] = fips_counties['fips'].astype(int)\n",
    "fips_counties = fips_counties.set_index('fips')\n",
    "fips_counties"
   ]
  },
  {
   "cell_type": "code",
   "execution_count": null,
   "id": "5e0cb694-c6e6-4e1e-bf3f-ee089dec5c67",
   "metadata": {},
   "outputs": [],
   "source": [
    "%reload_ext sql\n",
    "%sql postgresql://127.0.0.1:5432/gnis"
   ]
  },
  {
   "cell_type": "code",
   "execution_count": null,
   "id": "1be602a5-3dc8-4563-ae22-f2b0942c2c22",
   "metadata": {},
   "outputs": [],
   "source": [
    "%sql --persist-replace fips_counties"
   ]
  },
  {
   "cell_type": "markdown",
   "id": "1e715614-b12a-4600-9e59-b56b3a6c3ba4",
   "metadata": {},
   "source": [
    "Now, export to file with `pgdump`. This exports both `national` and `fips_counties` relations to the same `gnis.sql` database dump."
   ]
  },
  {
   "cell_type": "code",
   "execution_count": null,
   "id": "9d29b59d-1541-4785-af93-a68ef78c5867",
   "metadata": {},
   "outputs": [],
   "source": [
    "!pg_dump -h localhost --encoding utf8 gnis -f data/gnis.sql "
   ]
  },
  {
   "cell_type": "markdown",
   "id": "0cc90374-d50d-4273-a4ea-c20d02d9c3fe",
   "metadata": {},
   "source": [
    "Finally, run the beginning of this notebook again"
   ]
  },
  {
   "cell_type": "code",
   "execution_count": null,
   "id": "179db232-127d-4f0f-95f9-3e95c1f45167",
   "metadata": {},
   "outputs": [],
   "source": [
    "!du -h data/gnis.sql"
   ]
  },
  {
   "cell_type": "code",
   "execution_count": null,
   "id": "5b6bbb46-9a95-4b95-b773-b7e99c211060",
   "metadata": {},
   "outputs": [],
   "source": []
  },
  {
   "cell_type": "code",
   "execution_count": null,
   "id": "2378725c-d04a-482e-b883-f8bb699bbb0a",
   "metadata": {},
   "outputs": [],
   "source": []
  }
 ],
 "metadata": {
  "kernelspec": {
   "display_name": "Python 3 (ipykernel)",
   "language": "python",
   "name": "python3"
  },
  "language_info": {
   "codemirror_mode": {
    "name": "ipython",
    "version": 3
   },
   "file_extension": ".py",
   "mimetype": "text/x-python",
   "name": "python",
   "nbconvert_exporter": "python",
   "pygments_lexer": "ipython3",
   "version": "3.11.10"
  },
  "widgets": {
   "application/vnd.jupyter.widget-state+json": {
    "state": {},
    "version_major": 2,
    "version_minor": 0
   }
  }
 },
 "nbformat": 4,
 "nbformat_minor": 5
}
