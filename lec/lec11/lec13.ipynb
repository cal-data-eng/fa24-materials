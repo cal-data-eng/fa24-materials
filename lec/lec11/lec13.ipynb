{
 "cells": [
  {
   "cell_type": "markdown",
   "id": "6f4dc967-c97c-449d-b983-837def50668c",
   "metadata": {},
   "source": [
    "# Lecture 13: GNIS"
   ]
  },
  {
   "cell_type": "code",
   "execution_count": 1,
   "id": "eebaaefa-68c6-49a7-a947-05c1288bdaec",
   "metadata": {},
   "outputs": [],
   "source": [
    "import numpy as np\n",
    "import pandas as pd"
   ]
  },
  {
   "cell_type": "markdown",
   "id": "c96c86c3-32e7-4d18-99b8-59e64cfcc9b7",
   "metadata": {},
   "source": [
    "---\n",
    "\n",
    "# Scalar Functions and Query Plans"
   ]
  },
  {
   "cell_type": "code",
   "execution_count": 2,
   "id": "4e2bd0d6-d390-45c9-bb8f-198e9045903d",
   "metadata": {},
   "outputs": [
    {
     "name": "stdout",
     "output_type": "stream",
     "text": [
      "There's a new jupysql version available (0.10.14), you're running 0.10.0. To upgrade: pip install jupysql --upgrade\n",
      "Deploy Streamlit apps for free on Ploomber Cloud! Learn more: https://ploomber.io/s/signup\n"
     ]
    }
   ],
   "source": [
    "## we'll use the Lahman baseball database in our examples today.\n",
    "## replace the database connection with a database of your own!\n",
    "%reload_ext sql\n",
    "%sql postgresql://localhost:5432/baseball\n",
    "%config SqlMagic.displaylimit = 20"
   ]
  },
  {
   "cell_type": "code",
   "execution_count": 5,
   "id": "5e15b5e7-6f42-4d79-991a-8620d2f22bd4",
   "metadata": {},
   "outputs": [
    {
     "data": {
      "text/html": [
       "<span style=\"None\">Running query in &#x27;postgresql://localhost:5432/baseball&#x27;</span>"
      ],
      "text/plain": [
       "Running query in 'postgresql://localhost:5432/baseball'"
      ]
     },
     "metadata": {},
     "output_type": "display_data"
    },
    {
     "data": {
      "text/html": [
       "<span style=\"color: green\">5 rows affected.</span>"
      ],
      "text/plain": [
       "5 rows affected."
      ]
     },
     "metadata": {},
     "output_type": "display_data"
    },
    {
     "data": {
      "text/html": [
       "<table>\n",
       "    <thead>\n",
       "        <tr>\n",
       "            <th>year_id</th>\n",
       "            <th>year</th>\n",
       "        </tr>\n",
       "    </thead>\n",
       "    <tbody>\n",
       "        <tr>\n",
       "            <td>2004</td>\n",
       "            <td>'04</td>\n",
       "        </tr>\n",
       "        <tr>\n",
       "            <td>2007</td>\n",
       "            <td>'07</td>\n",
       "        </tr>\n",
       "        <tr>\n",
       "            <td>2009</td>\n",
       "            <td>'09</td>\n",
       "        </tr>\n",
       "        <tr>\n",
       "            <td>2010</td>\n",
       "            <td>'10</td>\n",
       "        </tr>\n",
       "        <tr>\n",
       "            <td>2012</td>\n",
       "            <td>'12</td>\n",
       "        </tr>\n",
       "    </tbody>\n",
       "</table>"
      ],
      "text/plain": [
       "+---------+------+\n",
       "| year_id | year |\n",
       "+---------+------+\n",
       "|   2004  | '04  |\n",
       "|   2007  | '07  |\n",
       "|   2009  | '09  |\n",
       "|   2010  | '10  |\n",
       "|   2012  | '12  |\n",
       "+---------+------+"
      ]
     },
     "execution_count": 5,
     "metadata": {},
     "output_type": "execute_result"
    }
   ],
   "source": [
    "%%sql\n",
    "WITH year_num AS\n",
    "  (SELECT year_id, (year_id % 100) as year\n",
    "     FROM batting\n",
    "  )\n",
    "SELECT year_id, CONCAT('''', LPAD(year::text, 2, '0')) as year\n",
    "  FROM year_num\n",
    " LIMIT 5;"
   ]
  },
  {
   "cell_type": "markdown",
   "id": "a88f1cb4-5dd8-480d-8bf7-a3f2e0a2fe84",
   "metadata": {},
   "source": [
    "Let's analyze the below query (we've flattened it for convenience):"
   ]
  },
  {
   "cell_type": "code",
   "execution_count": 6,
   "id": "d472387b-b9b4-4264-bfa4-159dfed000d9",
   "metadata": {},
   "outputs": [
    {
     "data": {
      "text/html": [
       "<span style=\"None\">Running query in &#x27;postgresql://localhost:5432/baseball&#x27;</span>"
      ],
      "text/plain": [
       "Running query in 'postgresql://localhost:5432/baseball'"
      ]
     },
     "metadata": {},
     "output_type": "display_data"
    },
    {
     "data": {
      "text/html": [
       "<span style=\"color: green\">2 rows affected.</span>"
      ],
      "text/plain": [
       "2 rows affected."
      ]
     },
     "metadata": {},
     "output_type": "display_data"
    },
    {
     "data": {
      "text/html": [
       "<table>\n",
       "    <thead>\n",
       "        <tr>\n",
       "            <th>QUERY PLAN</th>\n",
       "        </tr>\n",
       "    </thead>\n",
       "    <tbody>\n",
       "        <tr>\n",
       "            <td>Seq Scan on public.batting  (cost=0.00..3922.29 rows=104324 width=36)</td>\n",
       "        </tr>\n",
       "        <tr>\n",
       "            <td>&nbsp;&nbsp;Output: year_id, concat('''', lpad(((year_id % 100))::text, 2, '0'::text))</td>\n",
       "        </tr>\n",
       "    </tbody>\n",
       "</table>"
      ],
      "text/plain": [
       "+------------------------------------------------------------------------------+\n",
       "|                                  QUERY PLAN                                  |\n",
       "+------------------------------------------------------------------------------+\n",
       "|    Seq Scan on public.batting  (cost=0.00..3922.29 rows=104324 width=36)     |\n",
       "|   Output: year_id, concat('''', lpad(((year_id % 100))::text, 2, '0'::text)) |\n",
       "+------------------------------------------------------------------------------+"
      ]
     },
     "execution_count": 6,
     "metadata": {},
     "output_type": "execute_result"
    }
   ],
   "source": [
    "%%sql\n",
    "EXPLAIN (VERBOSE true)\n",
    "SELECT year_id,\n",
    "       CONCAT('''', LPAD((year_id % 100)::text, 2, '0')) AS year\n",
    "FROM batting;\n"
   ]
  },
  {
   "cell_type": "markdown",
   "id": "2f11053d-e442-4a23-b2c0-ab5d8d858359",
   "metadata": {},
   "source": [
    "What if scalar functions mention multiple tables?\n",
    "\n",
    "The below query computes an arbitrary statistic for pitchers:\n",
    "* 1 point for every strikeout they throw as pitcher\n",
    "* –1 for every point they themselves struck out as batter\n",
    "\n",
    "If the notebook-like output is hard to read, try out the query in `psql`. Note that notebooks don't preserve whitespace when displaying dataframes."
   ]
  },
  {
   "cell_type": "code",
   "execution_count": 7,
   "id": "76122e53-5bd6-4f79-93be-d9bf79685f0d",
   "metadata": {},
   "outputs": [
    {
     "data": {
      "text/html": [
       "<span style=\"None\">Running query in &#x27;postgresql://localhost:5432/baseball&#x27;</span>"
      ],
      "text/plain": [
       "Running query in 'postgresql://localhost:5432/baseball'"
      ]
     },
     "metadata": {},
     "output_type": "display_data"
    },
    {
     "data": {
      "text/html": [
       "<span style=\"color: green\">11 rows affected.</span>"
      ],
      "text/plain": [
       "11 rows affected."
      ]
     },
     "metadata": {},
     "output_type": "display_data"
    },
    {
     "data": {
      "text/html": [
       "<table>\n",
       "    <thead>\n",
       "        <tr>\n",
       "            <th>QUERY PLAN</th>\n",
       "        </tr>\n",
       "    </thead>\n",
       "    <tbody>\n",
       "        <tr>\n",
       "            <td>Nested Loop  (cost=0.43..12961.23 rows=336307 width=13)</td>\n",
       "        </tr>\n",
       "        <tr>\n",
       "            <td>&nbsp;&nbsp;Output: p.player_id, (p.so - b.so)</td>\n",
       "        </tr>\n",
       "        <tr>\n",
       "            <td>&nbsp;&nbsp;->  Seq Scan on public.pitching p  (cost=0.00..1374.06 rows=45806 width=13)</td>\n",
       "        </tr>\n",
       "        <tr>\n",
       "            <td>&nbsp;&nbsp;&nbsp;&nbsp;&nbsp;&nbsp;&nbsp;&nbsp;Output: p.player_id, p.year_id, p.stint, p.team_id, p.lg_id, p.w, p.l, p.g, p.gs, p.cg, p.sho, p.sv, p.ipouts, p.h, p.er, p.hr, p.bb, p.so, p.baopp, p.era, p.ibb, p.wp, p.hbp, p.bk, p.bfp, p.gf, p.r, p.sh, p.sf, p.gidp</td>\n",
       "        </tr>\n",
       "        <tr>\n",
       "            <td>&nbsp;&nbsp;->  Memoize  (cost=0.43..0.73 rows=7 width=13)</td>\n",
       "        </tr>\n",
       "        <tr>\n",
       "            <td>&nbsp;&nbsp;&nbsp;&nbsp;&nbsp;&nbsp;&nbsp;&nbsp;Output: b.so, b.player_id</td>\n",
       "        </tr>\n",
       "        <tr>\n",
       "            <td>&nbsp;&nbsp;&nbsp;&nbsp;&nbsp;&nbsp;&nbsp;&nbsp;Cache Key: p.player_id</td>\n",
       "        </tr>\n",
       "        <tr>\n",
       "            <td>&nbsp;&nbsp;&nbsp;&nbsp;&nbsp;&nbsp;&nbsp;&nbsp;Cache Mode: logical</td>\n",
       "        </tr>\n",
       "        <tr>\n",
       "            <td>&nbsp;&nbsp;&nbsp;&nbsp;&nbsp;&nbsp;&nbsp;&nbsp;->  Index Scan using batting_pkey on public.batting b  (cost=0.42..0.72 rows=7 width=13)</td>\n",
       "        </tr>\n",
       "        <tr>\n",
       "            <td>&nbsp;&nbsp;&nbsp;&nbsp;&nbsp;&nbsp;&nbsp;&nbsp;&nbsp;&nbsp;&nbsp;&nbsp;&nbsp;&nbsp;Output: b.so, b.player_id</td>\n",
       "        </tr>\n",
       "        <tr>\n",
       "            <td>&nbsp;&nbsp;&nbsp;&nbsp;&nbsp;&nbsp;&nbsp;&nbsp;&nbsp;&nbsp;&nbsp;&nbsp;&nbsp;&nbsp;Index Cond: ((b.player_id)::text = (p.player_id)::text)</td>\n",
       "        </tr>\n",
       "    </tbody>\n",
       "</table>"
      ],
      "text/plain": [
       "+------------------------------------------------------------------------------------------------------------------------------------------------------------------------------------------------------------------------------------+\n",
       "|                                                                                                             QUERY PLAN                                                                                                             |\n",
       "+------------------------------------------------------------------------------------------------------------------------------------------------------------------------------------------------------------------------------------+\n",
       "|                                                                                      Nested Loop  (cost=0.43..12961.23 rows=336307 width=13)                                                                                       |\n",
       "|                                                                                                  Output: p.player_id, (p.so - b.so)                                                                                                |\n",
       "|                                                                             ->  Seq Scan on public.pitching p  (cost=0.00..1374.06 rows=45806 width=13)                                                                            |\n",
       "|         Output: p.player_id, p.year_id, p.stint, p.team_id, p.lg_id, p.w, p.l, p.g, p.gs, p.cg, p.sho, p.sv, p.ipouts, p.h, p.er, p.hr, p.bb, p.so, p.baopp, p.era, p.ibb, p.wp, p.hbp, p.bk, p.bfp, p.gf, p.r, p.sh, p.sf, p.gidp |\n",
       "|                                                                                            ->  Memoize  (cost=0.43..0.73 rows=7 width=13)                                                                                          |\n",
       "|                                                                                                         Output: b.so, b.player_id                                                                                                  |\n",
       "|                                                                                                           Cache Key: p.player_id                                                                                                   |\n",
       "|                                                                                                            Cache Mode: logical                                                                                                     |\n",
       "|                                                                          ->  Index Scan using batting_pkey on public.batting b  (cost=0.42..0.72 rows=7 width=13)                                                                  |\n",
       "|                                                                                                            Output: b.so, b.player_id                                                                                               |\n",
       "|                                                                                             Index Cond: ((b.player_id)::text = (p.player_id)::text)                                                                                |\n",
       "+------------------------------------------------------------------------------------------------------------------------------------------------------------------------------------------------------------------------------------+"
      ]
     },
     "execution_count": 7,
     "metadata": {},
     "output_type": "execute_result"
    }
   ],
   "source": [
    "%%sql\n",
    "EXPLAIN (VERBOSE true)\n",
    "SELECT p.player_id, p.so - b.so\n",
    "  FROM pitching p\n",
    "  INNER JOIN batting b\n",
    "  ON p.player_id=b.player_id;"
   ]
  },
  {
   "cell_type": "markdown",
   "id": "98faa532-b8b4-4ef4-8ef7-51868bc1f804",
   "metadata": {},
   "source": [
    "### Window Functions"
   ]
  },
  {
   "cell_type": "code",
   "execution_count": 8,
   "id": "a7ee3734-e509-43a5-914e-d194f9a324e3",
   "metadata": {},
   "outputs": [
    {
     "data": {
      "text/html": [
       "<span style=\"None\">Running query in &#x27;postgresql://localhost:5432/baseball&#x27;</span>"
      ],
      "text/plain": [
       "Running query in 'postgresql://localhost:5432/baseball'"
      ]
     },
     "metadata": {},
     "output_type": "display_data"
    },
    {
     "name": "stderr",
     "output_type": "stream",
     "text": [
      "RuntimeError: (psycopg2.errors.UndefinedTable) relation \"master\" does not exist\n",
      "LINE 6: FROM batting b, master m\n",
      "                        ^\n",
      "\n",
      "[SQL: SELECT name_first, name_last, year_id, HR,\n",
      "       rank() OVER (ORDER BY HR DESC),\n",
      "       avg(HR)    OVER (PARTITION BY b.playerid ORDER BY year_id ROWS 3 PRECEDING) as avg_3yr,\n",
      "       lag(HR, 7) OVER (PARTITION BY b.playerid ORDER BY year_id) as previous,\n",
      "       lag(HR, 2) OVER (PARTITION BY b.playerid ORDER BY year_id) as lag2\n",
      "FROM batting b, master m\n",
      "WHERE m.player_id = b.player_id\n",
      "   AND (name_last = 'Bonds' or name_last = 'Ruth')\n",
      "ORDER BY HR DESC\n",
      "LIMIT 10;]\n",
      "(Background on this error at: https://sqlalche.me/e/20/f405)\n",
      "If you need help solving this issue, send us a message: https://ploomber.io/community\n"
     ]
    }
   ],
   "source": [
    "%%sql\n",
    "SELECT name_first, name_last, year_id, HR,\n",
    "       rank() OVER (ORDER BY HR DESC),\n",
    "       avg(HR)    OVER (PARTITION BY b.player_id ORDER BY year_id ROWS 3 PRECEDING) as avg_3yr,\n",
    "       lag(HR, 7) OVER (PARTITION BY b.player_id ORDER BY year_id) as previous,\n",
    "       lag(HR, 2) OVER (PARTITION BY b.player_id ORDER BY year_id) as lag2\n",
    "FROM batting b, master m\n",
    "WHERE m.player_id = b.player_id\n",
    "   AND (name_last = 'Bonds' or name_last = 'Ruth')\n",
    "ORDER BY HR DESC\n",
    "LIMIT 10;"
   ]
  },
  {
   "cell_type": "markdown",
   "id": "c15e494e-b294-4073-b9c2-e8e67094bd9b",
   "metadata": {},
   "source": [
    "### Inverse Distribution Window Functions"
   ]
  },
  {
   "cell_type": "code",
   "execution_count": 11,
   "id": "dfc97afe-151a-4b58-b981-8185c5bf35f0",
   "metadata": {},
   "outputs": [
    {
     "data": {
      "text/html": [
       "<span style=\"None\">Running query in &#x27;postgresql://localhost:5432/baseball&#x27;</span>"
      ],
      "text/plain": [
       "Running query in 'postgresql://localhost:5432/baseball'"
      ]
     },
     "metadata": {},
     "output_type": "display_data"
    },
    {
     "data": {
      "text/html": [
       "<span style=\"color: green\">1 rows affected.</span>"
      ],
      "text/plain": [
       "1 rows affected."
      ]
     },
     "metadata": {},
     "output_type": "display_data"
    },
    {
     "data": {
      "text/html": [
       "<table>\n",
       "    <thead>\n",
       "        <tr>\n",
       "            <th>min</th>\n",
       "            <th>p25</th>\n",
       "            <th>median</th>\n",
       "            <th>p75</th>\n",
       "            <th>p99</th>\n",
       "            <th>max</th>\n",
       "            <th>average hit rate</th>\n",
       "        </tr>\n",
       "    </thead>\n",
       "    <tbody>\n",
       "        <tr>\n",
       "            <td>0</td>\n",
       "            <td>0.0</td>\n",
       "            <td>0.0</td>\n",
       "            <td>2.0</td>\n",
       "            <td>31.0</td>\n",
       "            <td>73</td>\n",
       "            <td>2.8315823779763046</td>\n",
       "        </tr>\n",
       "    </tbody>\n",
       "</table>"
      ],
      "text/plain": [
       "+-----+-----+--------+-----+------+-----+--------------------+\n",
       "| min | p25 | median | p75 | p99  | max |  average hit rate  |\n",
       "+-----+-----+--------+-----+------+-----+--------------------+\n",
       "|  0  | 0.0 |  0.0   | 2.0 | 31.0 |  73 | 2.8315823779763046 |\n",
       "+-----+-----+--------+-----+------+-----+--------------------+"
      ]
     },
     "execution_count": 11,
     "metadata": {},
     "output_type": "execute_result"
    }
   ],
   "source": [
    "%%sql\n",
    "SELECT MIN(HR),\n",
    "       percentile_cont(0.25) WITHIN GROUP (ORDER BY HR) AS p25,\n",
    "       percentile_cont(0.50) WITHIN GROUP (ORDER BY HR) AS median,\n",
    "       percentile_cont(0.75) WITHIN GROUP (ORDER BY HR) AS p75,\n",
    "       percentile_cont(0.99) WITHIN GROUP (ORDER BY HR) AS p99,\n",
    "       MAX(HR),\n",
    "       AVG(HR) AS \"average hit rate\"\n",
    "FROM batting;"
   ]
  },
  {
   "cell_type": "code",
   "execution_count": 13,
   "id": "a540915b-40d4-49ad-9392-706c5f255765",
   "metadata": {},
   "outputs": [
    {
     "data": {
      "text/html": [
       "<span style=\"None\">Running query in &#x27;postgresql://localhost:5432/baseball&#x27;</span>"
      ],
      "text/plain": [
       "Running query in 'postgresql://localhost:5432/baseball'"
      ]
     },
     "metadata": {},
     "output_type": "display_data"
    },
    {
     "data": {
      "text/html": [
       "<span style=\"color: green\">67 rows affected.</span>"
      ],
      "text/plain": [
       "67 rows affected."
      ]
     },
     "metadata": {},
     "output_type": "display_data"
    },
    {
     "data": {
      "text/html": [
       "<table>\n",
       "    <thead>\n",
       "        <tr>\n",
       "            <th>hr</th>\n",
       "            <th>count</th>\n",
       "        </tr>\n",
       "    </thead>\n",
       "    <tbody>\n",
       "        <tr>\n",
       "            <td>73</td>\n",
       "            <td>1</td>\n",
       "        </tr>\n",
       "        <tr>\n",
       "            <td>70</td>\n",
       "            <td>1</td>\n",
       "        </tr>\n",
       "        <tr>\n",
       "            <td>66</td>\n",
       "            <td>1</td>\n",
       "        </tr>\n",
       "        <tr>\n",
       "            <td>65</td>\n",
       "            <td>1</td>\n",
       "        </tr>\n",
       "        <tr>\n",
       "            <td>64</td>\n",
       "            <td>1</td>\n",
       "        </tr>\n",
       "        <tr>\n",
       "            <td>63</td>\n",
       "            <td>1</td>\n",
       "        </tr>\n",
       "        <tr>\n",
       "            <td>61</td>\n",
       "            <td>1</td>\n",
       "        </tr>\n",
       "        <tr>\n",
       "            <td>60</td>\n",
       "            <td>1</td>\n",
       "        </tr>\n",
       "        <tr>\n",
       "            <td>59</td>\n",
       "            <td>2</td>\n",
       "        </tr>\n",
       "        <tr>\n",
       "            <td>58</td>\n",
       "            <td>3</td>\n",
       "        </tr>\n",
       "        <tr>\n",
       "            <td>57</td>\n",
       "            <td>2</td>\n",
       "        </tr>\n",
       "        <tr>\n",
       "            <td>56</td>\n",
       "            <td>3</td>\n",
       "        </tr>\n",
       "        <tr>\n",
       "            <td>54</td>\n",
       "            <td>7</td>\n",
       "        </tr>\n",
       "        <tr>\n",
       "            <td>53</td>\n",
       "            <td>1</td>\n",
       "        </tr>\n",
       "        <tr>\n",
       "            <td>52</td>\n",
       "            <td>7</td>\n",
       "        </tr>\n",
       "        <tr>\n",
       "            <td>51</td>\n",
       "            <td>5</td>\n",
       "        </tr>\n",
       "        <tr>\n",
       "            <td>50</td>\n",
       "            <td>6</td>\n",
       "        </tr>\n",
       "        <tr>\n",
       "            <td>49</td>\n",
       "            <td>19</td>\n",
       "        </tr>\n",
       "        <tr>\n",
       "            <td>48</td>\n",
       "            <td>11</td>\n",
       "        </tr>\n",
       "        <tr>\n",
       "            <td>47</td>\n",
       "            <td>24</td>\n",
       "        </tr>\n",
       "    </tbody>\n",
       "</table>\n",
       "<span style=\"font-style:italic;text-align:center;\">Truncated to <a href=\"https://jupysql.ploomber.io/en/latest/api/configuration.html#displaylimit\">displaylimit</a> of 20.</span>"
      ],
      "text/plain": [
       "+----+-------+\n",
       "| hr | count |\n",
       "+----+-------+\n",
       "| 73 |   1   |\n",
       "| 70 |   1   |\n",
       "| 66 |   1   |\n",
       "| 65 |   1   |\n",
       "| 64 |   1   |\n",
       "| 63 |   1   |\n",
       "| 61 |   1   |\n",
       "| 60 |   1   |\n",
       "| 59 |   2   |\n",
       "| 58 |   3   |\n",
       "| 57 |   2   |\n",
       "| 56 |   3   |\n",
       "| 54 |   7   |\n",
       "| 53 |   1   |\n",
       "| 52 |   7   |\n",
       "| 51 |   5   |\n",
       "| 50 |   6   |\n",
       "| 49 |   19  |\n",
       "| 48 |   11  |\n",
       "| 47 |   24  |\n",
       "+----+-------+\n",
       "Truncated to displaylimit of 20."
      ]
     },
     "execution_count": 13,
     "metadata": {},
     "output_type": "execute_result"
    }
   ],
   "source": [
    "%%sql\n",
    "SELECT HR, COUNT(*) FROM batting GROUP BY HR ORDER BY HR DESC;"
   ]
  },
  {
   "cell_type": "markdown",
   "id": "b66a1035-8e9b-4538-b3bc-e178f874b0ad",
   "metadata": {},
   "source": [
    "### Hypothetical-Set Window Functions"
   ]
  },
  {
   "cell_type": "code",
   "execution_count": 14,
   "id": "9cdb4fa9-d3e8-4f08-b09f-0c486b6a37da",
   "metadata": {},
   "outputs": [],
   "source": [
    "hrs = 4 # hypothetically, four home runs"
   ]
  },
  {
   "cell_type": "code",
   "execution_count": 15,
   "id": "3e15d361-9066-4bcf-b703-1cdd3e220ae4",
   "metadata": {},
   "outputs": [
    {
     "data": {
      "text/html": [
       "<span style=\"None\">Running query in &#x27;postgresql://localhost:5432/baseball&#x27;</span>"
      ],
      "text/plain": [
       "Running query in 'postgresql://localhost:5432/baseball'"
      ]
     },
     "metadata": {},
     "output_type": "display_data"
    },
    {
     "data": {
      "text/html": [
       "<span style=\"color: green\">1 rows affected.</span>"
      ],
      "text/plain": [
       "1 rows affected."
      ]
     },
     "metadata": {},
     "output_type": "display_data"
    },
    {
     "data": {
      "text/html": [
       "<table>\n",
       "    <thead>\n",
       "        <tr>\n",
       "            <th>hypothetical</th>\n",
       "            <th>rank</th>\n",
       "            <th>dense_rank</th>\n",
       "            <th>pct_rank</th>\n",
       "            <th>cume_dist</th>\n",
       "        </tr>\n",
       "    </thead>\n",
       "    <tbody>\n",
       "        <tr>\n",
       "            <td>4</td>\n",
       "            <td>18420</td>\n",
       "            <td>63</td>\n",
       "            <td>17.655573022506807</td>\n",
       "            <td>0.823445962137551</td>\n",
       "        </tr>\n",
       "    </tbody>\n",
       "</table>"
      ],
      "text/plain": [
       "+--------------+-------+------------+--------------------+-------------------+\n",
       "| hypothetical |  rank | dense_rank |      pct_rank      |     cume_dist     |\n",
       "+--------------+-------+------------+--------------------+-------------------+\n",
       "|      4       | 18420 |     63     | 17.655573022506807 | 0.823445962137551 |\n",
       "+--------------+-------+------------+--------------------+-------------------+"
      ]
     },
     "execution_count": 15,
     "metadata": {},
     "output_type": "execute_result"
    }
   ],
   "source": [
    "%%sql\n",
    "SELECT {{hrs}} as hypothetical,\n",
    "       rank({{hrs}}) WITHIN GROUP (ORDER BY HR DESC),\n",
    "       dense_rank({{hrs}}) WITHIN GROUP (ORDER BY HR DESC),\n",
    "       percent_rank({{hrs}}) WITHIN GROUP (ORDER BY HR DESC) * 100 AS pct_rank,\n",
    "       cume_dist({{hrs}}) WITHIN GROUP (ORDER BY HR)\n",
    "FROM batting\n",
    "LIMIT 10;"
   ]
  },
  {
   "cell_type": "markdown",
   "id": "085085a0-ace7-439b-a25e-a878fa7a6a3f",
   "metadata": {},
   "source": [
    "Without `jupysql` variable substituion"
   ]
  },
  {
   "cell_type": "code",
   "execution_count": 16,
   "id": "74712a9b-100a-401a-99e1-e95eb342892c",
   "metadata": {},
   "outputs": [
    {
     "data": {
      "text/html": [
       "<span style=\"None\">Running query in &#x27;postgresql://localhost:5432/baseball&#x27;</span>"
      ],
      "text/plain": [
       "Running query in 'postgresql://localhost:5432/baseball'"
      ]
     },
     "metadata": {},
     "output_type": "display_data"
    },
    {
     "data": {
      "text/html": [
       "<span style=\"color: green\">1 rows affected.</span>"
      ],
      "text/plain": [
       "1 rows affected."
      ]
     },
     "metadata": {},
     "output_type": "display_data"
    },
    {
     "data": {
      "text/html": [
       "<table>\n",
       "    <thead>\n",
       "        <tr>\n",
       "            <th>hypothetical</th>\n",
       "            <th>rank</th>\n",
       "            <th>dense_rank</th>\n",
       "            <th>pct_rank</th>\n",
       "            <th>cume_dist</th>\n",
       "        </tr>\n",
       "    </thead>\n",
       "    <tbody>\n",
       "        <tr>\n",
       "            <td>4</td>\n",
       "            <td>18420</td>\n",
       "            <td>63</td>\n",
       "            <td>17.655573022506807</td>\n",
       "            <td>0.823445962137551</td>\n",
       "        </tr>\n",
       "    </tbody>\n",
       "</table>"
      ],
      "text/plain": [
       "+--------------+-------+------------+--------------------+-------------------+\n",
       "| hypothetical |  rank | dense_rank |      pct_rank      |     cume_dist     |\n",
       "+--------------+-------+------------+--------------------+-------------------+\n",
       "|      4       | 18420 |     63     | 17.655573022506807 | 0.823445962137551 |\n",
       "+--------------+-------+------------+--------------------+-------------------+"
      ]
     },
     "execution_count": 16,
     "metadata": {},
     "output_type": "execute_result"
    }
   ],
   "source": [
    "%%sql\n",
    "SELECT 4 as hypothetical,\n",
    "       rank(4) WITHIN GROUP (ORDER BY HR DESC),\n",
    "       dense_rank(4) WITHIN GROUP (ORDER BY HR DESC),\n",
    "       percent_rank(4) WITHIN GROUP (ORDER BY HR DESC) * 100 AS pct_rank,\n",
    "       cume_dist(4) WITHIN GROUP (ORDER BY HR)\n",
    "FROM batting\n",
    "LIMIT 10;"
   ]
  },
  {
   "cell_type": "markdown",
   "id": "4bb82259-2c7a-47bb-8550-4ef6587e709b",
   "metadata": {},
   "source": [
    "# GNIS"
   ]
  },
  {
   "cell_type": "markdown",
   "id": "597e9b93-b55b-42ce-92e8-8c67bb559087",
   "metadata": {},
   "source": [
    "This notebook transforms the existing [Geographics Names Information Systems (GNIS)](https://www.usgs.gov/core-science-systems/ngp/board-on-geographic-names/download-gnis-data) national zip file.\n",
    "\n",
    "We have provided a subset of the sql database for you in `data/national.sql`.\n",
    "\n",
    "If you'd like to make your own version of this database, see the end of this notebook. Note: Because of its size, we don't recommend building the GNIS SQL database from scratch on DataHub.\n"
   ]
  },
  {
   "cell_type": "code",
   "execution_count": 18,
   "id": "ef2949aa-c387-458b-b232-872f469d6fd9",
   "metadata": {},
   "outputs": [
    {
     "name": "stdout",
     "output_type": "stream",
     "text": [
      "psql: error: connection to server at \"localhost\" (127.0.0.1), port 5432 failed: FATAL:  database \"gnis\" does not exist\n",
      "NOTICE:  database \"gnis\" does not exist, skipping\n",
      "DROP DATABASE\n",
      "CREATE DATABASE\n",
      "SET\n",
      "SET\n",
      "SET\n",
      "SET\n",
      "SET\n",
      " set_config \n",
      "------------\n",
      " \n",
      "(1 row)\n",
      "\n",
      "SET\n",
      "SET\n",
      "SET\n",
      "SET\n",
      "SET\n",
      "SET\n",
      "CREATE TABLE\n",
      "ALTER TABLE\n",
      "CREATE TABLE\n",
      "ALTER TABLE\n",
      "COPY 3195\n",
      "COPY 11533\n",
      "CREATE INDEX\n"
     ]
    }
   ],
   "source": [
    "!psql -h localhost -d gnis -c 'SELECT pg_terminate_backend(pg_stat_activity.pid) FROM pg_stat_activity WHERE datname = current_database() AND pid <> pg_backend_pid();'\n",
    "!psql -h localhost -c 'DROP DATABASE IF EXISTS gnis'\n",
    "!psql -h localhost -c 'CREATE DATABASE gnis' \n",
    "!psql -h localhost -d gnis -f data/gnis.sql"
   ]
  },
  {
   "cell_type": "code",
   "execution_count": 19,
   "id": "8fa785a3-e960-41ca-b6db-76f7a19a6250",
   "metadata": {
    "slideshow": {
     "slide_type": "fragment"
    }
   },
   "outputs": [
    {
     "data": {
      "text/html": [
       "<span style=\"None\">Connecting and switching to connection postgresql://localhost:5432/gnis</span>"
      ],
      "text/plain": [
       "Connecting and switching to connection postgresql://localhost:5432/gnis"
      ]
     },
     "metadata": {},
     "output_type": "display_data"
    }
   ],
   "source": [
    "%reload_ext sql\n",
    "%sql postgresql://localhost:5432/gnis\n",
    "%config SqlMagic.displaylimit = 15"
   ]
  },
  {
   "cell_type": "markdown",
   "id": "a71726db-f43e-48a8-9262-ef99f25fbe60",
   "metadata": {},
   "source": [
    "* View schema in `psql`\n",
    "* View some rows below"
   ]
  },
  {
   "cell_type": "code",
   "execution_count": 20,
   "id": "091593dd-e45e-4ae1-b9c6-62510fc51354",
   "metadata": {},
   "outputs": [
    {
     "data": {
      "text/html": [
       "<span style=\"None\">Running query in &#x27;postgresql://localhost:5432/gnis&#x27;</span>"
      ],
      "text/plain": [
       "Running query in 'postgresql://localhost:5432/gnis'"
      ]
     },
     "metadata": {},
     "output_type": "display_data"
    },
    {
     "data": {
      "text/html": [
       "<span style=\"color: green\">1 rows affected.</span>"
      ],
      "text/plain": [
       "1 rows affected."
      ]
     },
     "metadata": {},
     "output_type": "display_data"
    },
    {
     "data": {
      "text/html": [
       "<table>\n",
       "    <thead>\n",
       "        <tr>\n",
       "            <th>count</th>\n",
       "        </tr>\n",
       "    </thead>\n",
       "    <tbody>\n",
       "        <tr>\n",
       "            <td>11533</td>\n",
       "        </tr>\n",
       "    </tbody>\n",
       "</table>"
      ],
      "text/plain": [
       "+-------+\n",
       "| count |\n",
       "+-------+\n",
       "| 11533 |\n",
       "+-------+"
      ]
     },
     "execution_count": 20,
     "metadata": {},
     "output_type": "execute_result"
    }
   ],
   "source": [
    "%sql SELECT COUNT(*) FROM national;"
   ]
  },
  {
   "cell_type": "code",
   "execution_count": 21,
   "id": "c545ddad-148e-4657-8790-2229a8be6126",
   "metadata": {
    "slideshow": {
     "slide_type": "subslide"
    }
   },
   "outputs": [
    {
     "data": {
      "text/html": [
       "<span style=\"None\">Running query in &#x27;postgresql://localhost:5432/gnis&#x27;</span>"
      ],
      "text/plain": [
       "Running query in 'postgresql://localhost:5432/gnis'"
      ]
     },
     "metadata": {},
     "output_type": "display_data"
    },
    {
     "data": {
      "text/html": [
       "<span style=\"color: green\">21 rows affected.</span>"
      ],
      "text/plain": [
       "21 rows affected."
      ]
     },
     "metadata": {},
     "output_type": "display_data"
    },
    {
     "data": {
      "text/html": [
       "<table>\n",
       "    <thead>\n",
       "        <tr>\n",
       "            <th>feature_id</th>\n",
       "            <th>feature_name</th>\n",
       "            <th>feature_class</th>\n",
       "            <th>state_alpha</th>\n",
       "            <th>state_numeric</th>\n",
       "            <th>county_name</th>\n",
       "            <th>county_numeric</th>\n",
       "            <th>primary_lat_dms</th>\n",
       "            <th>prim_long_dms</th>\n",
       "            <th>prim_lat_dec</th>\n",
       "            <th>prim_long_dec</th>\n",
       "            <th>source_lat_dms</th>\n",
       "            <th>source_long_dms</th>\n",
       "            <th>source_lat_dec</th>\n",
       "            <th>source_long_dec</th>\n",
       "            <th>elev_in_m</th>\n",
       "            <th>elev_in_ft</th>\n",
       "            <th>map_name</th>\n",
       "            <th>date_created</th>\n",
       "            <th>date_edited</th>\n",
       "        </tr>\n",
       "    </thead>\n",
       "    <tbody>\n",
       "        <tr>\n",
       "            <td>218316</td>\n",
       "            <td>Apperson Creek</td>\n",
       "            <td>Stream</td>\n",
       "            <td>CA</td>\n",
       "            <td>6</td>\n",
       "            <td>Alameda</td>\n",
       "            <td>1.0</td>\n",
       "            <td>373349N</td>\n",
       "            <td>1215000W</td>\n",
       "            <td>37.5635453</td>\n",
       "            <td>-121.8332887</td>\n",
       "            <td>373232N</td>\n",
       "            <td>1214804W</td>\n",
       "            <td>37.5422222</td>\n",
       "            <td>-121.8011111</td>\n",
       "            <td>148.0</td>\n",
       "            <td>486.0</td>\n",
       "            <td>La Costa Valley</td>\n",
       "            <td>01/19/1981</td>\n",
       "            <td>None</td>\n",
       "        </tr>\n",
       "        <tr>\n",
       "            <td>225998</td>\n",
       "            <td>Irvington High School</td>\n",
       "            <td>School</td>\n",
       "            <td>CA</td>\n",
       "            <td>6</td>\n",
       "            <td>Alameda</td>\n",
       "            <td>1.0</td>\n",
       "            <td>373126N</td>\n",
       "            <td>1215801W</td>\n",
       "            <td>37.523814</td>\n",
       "            <td>-121.9670659</td>\n",
       "            <td>None</td>\n",
       "            <td>None</td>\n",
       "            <td>None</td>\n",
       "            <td>None</td>\n",
       "            <td>13.0</td>\n",
       "            <td>43.0</td>\n",
       "            <td>Niles</td>\n",
       "            <td>01/19/1981</td>\n",
       "            <td>03/31/2021</td>\n",
       "        </tr>\n",
       "        <tr>\n",
       "            <td>226951</td>\n",
       "            <td>Laurel Elementary School</td>\n",
       "            <td>School</td>\n",
       "            <td>CA</td>\n",
       "            <td>6</td>\n",
       "            <td>Alameda</td>\n",
       "            <td>1.0</td>\n",
       "            <td>374734N</td>\n",
       "            <td>1221147W</td>\n",
       "            <td>37.792899</td>\n",
       "            <td>-122.1964288</td>\n",
       "            <td>None</td>\n",
       "            <td>None</td>\n",
       "            <td>None</td>\n",
       "            <td>None</td>\n",
       "            <td>68.0</td>\n",
       "            <td>223.0</td>\n",
       "            <td>Oakland East</td>\n",
       "            <td>06/14/2000</td>\n",
       "            <td>03/14/2021</td>\n",
       "        </tr>\n",
       "        <tr>\n",
       "            <td>229367</td>\n",
       "            <td>Murray Elementary School</td>\n",
       "            <td>School</td>\n",
       "            <td>CA</td>\n",
       "            <td>6</td>\n",
       "            <td>Alameda</td>\n",
       "            <td>1.0</td>\n",
       "            <td>374318N</td>\n",
       "            <td>1215557W</td>\n",
       "            <td>37.721801</td>\n",
       "            <td>-121.9326269</td>\n",
       "            <td>None</td>\n",
       "            <td>None</td>\n",
       "            <td>None</td>\n",
       "            <td>None</td>\n",
       "            <td>112.0</td>\n",
       "            <td>367.0</td>\n",
       "            <td>Dublin</td>\n",
       "            <td>01/19/1981</td>\n",
       "            <td>03/14/2021</td>\n",
       "        </tr>\n",
       "        <tr>\n",
       "            <td>235581</td>\n",
       "            <td>Strawberry Creek</td>\n",
       "            <td>Stream</td>\n",
       "            <td>CA</td>\n",
       "            <td>6</td>\n",
       "            <td>Alameda</td>\n",
       "            <td>1.0</td>\n",
       "            <td>375221N</td>\n",
       "            <td>1221443W</td>\n",
       "            <td>37.8724258</td>\n",
       "            <td>-122.2452464</td>\n",
       "            <td>375251N</td>\n",
       "            <td>1221354W</td>\n",
       "            <td>37.8807588</td>\n",
       "            <td>-122.2316349</td>\n",
       "            <td>154.0</td>\n",
       "            <td>505.0</td>\n",
       "            <td>Oakland East</td>\n",
       "            <td>01/19/1981</td>\n",
       "            <td>08/31/2016</td>\n",
       "        </tr>\n",
       "        <tr>\n",
       "            <td>1654274</td>\n",
       "            <td>Hayward Golf Course</td>\n",
       "            <td>Locale</td>\n",
       "            <td>CA</td>\n",
       "            <td>6</td>\n",
       "            <td>Alameda</td>\n",
       "            <td>1.0</td>\n",
       "            <td>373726N</td>\n",
       "            <td>1220250W</td>\n",
       "            <td>37.6238222</td>\n",
       "            <td>-122.0471843</td>\n",
       "            <td>None</td>\n",
       "            <td>None</td>\n",
       "            <td>None</td>\n",
       "            <td>None</td>\n",
       "            <td>5.0</td>\n",
       "            <td>16.0</td>\n",
       "            <td>Newark</td>\n",
       "            <td>01/19/1981</td>\n",
       "            <td>None</td>\n",
       "        </tr>\n",
       "        <tr>\n",
       "            <td>1664964</td>\n",
       "            <td>KOFY-AM (San Mateo)</td>\n",
       "            <td>Tower</td>\n",
       "            <td>CA</td>\n",
       "            <td>6</td>\n",
       "            <td>Alameda</td>\n",
       "            <td>1.0</td>\n",
       "            <td>374934N</td>\n",
       "            <td>1221842W</td>\n",
       "            <td>37.8260385</td>\n",
       "            <td>-122.3116366</td>\n",
       "            <td>None</td>\n",
       "            <td>None</td>\n",
       "            <td>None</td>\n",
       "            <td>None</td>\n",
       "            <td>2.0</td>\n",
       "            <td>7.0</td>\n",
       "            <td>Oakland West</td>\n",
       "            <td>07/01/1994</td>\n",
       "            <td>None</td>\n",
       "        </tr>\n",
       "        <tr>\n",
       "            <td>1670278</td>\n",
       "            <td>Lake Elizabeth</td>\n",
       "            <td>Lake</td>\n",
       "            <td>CA</td>\n",
       "            <td>6</td>\n",
       "            <td>Alameda</td>\n",
       "            <td>1.0</td>\n",
       "            <td>373255N</td>\n",
       "            <td>1215742W</td>\n",
       "            <td>37.5487056</td>\n",
       "            <td>-121.9617554</td>\n",
       "            <td>None</td>\n",
       "            <td>None</td>\n",
       "            <td>None</td>\n",
       "            <td>None</td>\n",
       "            <td>16.0</td>\n",
       "            <td>52.0</td>\n",
       "            <td>Niles</td>\n",
       "            <td>11/09/1995</td>\n",
       "            <td>03/07/2019</td>\n",
       "        </tr>\n",
       "        <tr>\n",
       "            <td>1692819</td>\n",
       "            <td>California School for the Deaf - Fremont</td>\n",
       "            <td>School</td>\n",
       "            <td>CA</td>\n",
       "            <td>6</td>\n",
       "            <td>Alameda</td>\n",
       "            <td>1.0</td>\n",
       "            <td>373334N</td>\n",
       "            <td>1215747W</td>\n",
       "            <td>37.5593966</td>\n",
       "            <td>-121.9631843</td>\n",
       "            <td>None</td>\n",
       "            <td>None</td>\n",
       "            <td>None</td>\n",
       "            <td>None</td>\n",
       "            <td>20.0</td>\n",
       "            <td>66.0</td>\n",
       "            <td>Niles</td>\n",
       "            <td>05/08/1996</td>\n",
       "            <td>09/16/2016</td>\n",
       "        </tr>\n",
       "        <tr>\n",
       "            <td>1692863</td>\n",
       "            <td>J A Freitas Library</td>\n",
       "            <td>Building</td>\n",
       "            <td>CA</td>\n",
       "            <td>6</td>\n",
       "            <td>Alameda</td>\n",
       "            <td>1.0</td>\n",
       "            <td>374335N</td>\n",
       "            <td>1220925W</td>\n",
       "            <td>37.7263185</td>\n",
       "            <td>-122.1569101</td>\n",
       "            <td>None</td>\n",
       "            <td>None</td>\n",
       "            <td>None</td>\n",
       "            <td>None</td>\n",
       "            <td>19.0</td>\n",
       "            <td>62.0</td>\n",
       "            <td>San Leandro</td>\n",
       "            <td>05/08/1996</td>\n",
       "            <td>None</td>\n",
       "        </tr>\n",
       "        <tr>\n",
       "            <td>1693010</td>\n",
       "            <td>Alice Arts Center</td>\n",
       "            <td>Building</td>\n",
       "            <td>CA</td>\n",
       "            <td>6</td>\n",
       "            <td>Alameda</td>\n",
       "            <td>1.0</td>\n",
       "            <td>374812N</td>\n",
       "            <td>1221557W</td>\n",
       "            <td>37.8032611</td>\n",
       "            <td>-122.2658025</td>\n",
       "            <td>None</td>\n",
       "            <td>None</td>\n",
       "            <td>None</td>\n",
       "            <td>None</td>\n",
       "            <td>11.0</td>\n",
       "            <td>36.0</td>\n",
       "            <td>Oakland West</td>\n",
       "            <td>05/08/1996</td>\n",
       "            <td>None</td>\n",
       "        </tr>\n",
       "        <tr>\n",
       "            <td>1961816</td>\n",
       "            <td>New Pilgrim Congregational Church</td>\n",
       "            <td>Church</td>\n",
       "            <td>CA</td>\n",
       "            <td>6</td>\n",
       "            <td>Alameda</td>\n",
       "            <td>1.0</td>\n",
       "            <td>374622N</td>\n",
       "            <td>1221131W</td>\n",
       "            <td>37.7727061</td>\n",
       "            <td>-122.1919115</td>\n",
       "            <td>None</td>\n",
       "            <td>None</td>\n",
       "            <td>None</td>\n",
       "            <td>None</td>\n",
       "            <td>21.0</td>\n",
       "            <td>69.0</td>\n",
       "            <td>Oakland East</td>\n",
       "            <td>09/11/2002</td>\n",
       "            <td>None</td>\n",
       "        </tr>\n",
       "        <tr>\n",
       "            <td>1961871</td>\n",
       "            <td>First Southern Baptist Church</td>\n",
       "            <td>Church</td>\n",
       "            <td>CA</td>\n",
       "            <td>6</td>\n",
       "            <td>Alameda</td>\n",
       "            <td>1.0</td>\n",
       "            <td>374657N</td>\n",
       "            <td>1221401W</td>\n",
       "            <td>37.7824282</td>\n",
       "            <td>-122.2335796</td>\n",
       "            <td>None</td>\n",
       "            <td>None</td>\n",
       "            <td>None</td>\n",
       "            <td>None</td>\n",
       "            <td>11.0</td>\n",
       "            <td>36.0</td>\n",
       "            <td>Oakland East</td>\n",
       "            <td>09/11/2002</td>\n",
       "            <td>None</td>\n",
       "        </tr>\n",
       "        <tr>\n",
       "            <td>1962002</td>\n",
       "            <td>First Church of Christ Scientist</td>\n",
       "            <td>Church</td>\n",
       "            <td>CA</td>\n",
       "            <td>6</td>\n",
       "            <td>Alameda</td>\n",
       "            <td>1.0</td>\n",
       "            <td>374353N</td>\n",
       "            <td>1220931W</td>\n",
       "            <td>37.7313183</td>\n",
       "            <td>-122.1585769</td>\n",
       "            <td>None</td>\n",
       "            <td>None</td>\n",
       "            <td>None</td>\n",
       "            <td>None</td>\n",
       "            <td>19.0</td>\n",
       "            <td>62.0</td>\n",
       "            <td>San Leandro</td>\n",
       "            <td>09/11/2002</td>\n",
       "            <td>None</td>\n",
       "        </tr>\n",
       "        <tr>\n",
       "            <td>2087391</td>\n",
       "            <td>First Presbyterian Church</td>\n",
       "            <td>Church</td>\n",
       "            <td>CA</td>\n",
       "            <td>6</td>\n",
       "            <td>Alameda</td>\n",
       "            <td>1.0</td>\n",
       "            <td>373254N</td>\n",
       "            <td>1220238W</td>\n",
       "            <td>37.5483333</td>\n",
       "            <td>-122.0438889</td>\n",
       "            <td>None</td>\n",
       "            <td>None</td>\n",
       "            <td>None</td>\n",
       "            <td>None</td>\n",
       "            <td>7.0</td>\n",
       "            <td>23.0</td>\n",
       "            <td>Newark</td>\n",
       "            <td>05/22/2006</td>\n",
       "            <td>None</td>\n",
       "        </tr>\n",
       "    </tbody>\n",
       "</table>\n",
       "<span style=\"font-style:italic;text-align:center;\">Truncated to <a href=\"https://jupysql.ploomber.io/en/latest/api/configuration.html#displaylimit\">displaylimit</a> of 15.</span>"
      ],
      "text/plain": [
       "+------------+------------------------------------------+---------------+-------------+---------------+-------------+----------------+-----------------+---------------+--------------+---------------+----------------+-----------------+----------------+-----------------+-----------+------------+-----------------+--------------+-------------+\n",
       "| feature_id |               feature_name               | feature_class | state_alpha | state_numeric | county_name | county_numeric | primary_lat_dms | prim_long_dms | prim_lat_dec | prim_long_dec | source_lat_dms | source_long_dms | source_lat_dec | source_long_dec | elev_in_m | elev_in_ft |     map_name    | date_created | date_edited |\n",
       "+------------+------------------------------------------+---------------+-------------+---------------+-------------+----------------+-----------------+---------------+--------------+---------------+----------------+-----------------+----------------+-----------------+-----------+------------+-----------------+--------------+-------------+\n",
       "|   218316   |              Apperson Creek              |     Stream    |      CA     |       6       |   Alameda   |      1.0       |     373349N     |    1215000W   |  37.5635453  |  -121.8332887 |    373232N     |     1214804W    |   37.5422222   |   -121.8011111  |   148.0   |   486.0    | La Costa Valley |  01/19/1981  |     None    |\n",
       "|   225998   |          Irvington High School           |     School    |      CA     |       6       |   Alameda   |      1.0       |     373126N     |    1215801W   |  37.523814   |  -121.9670659 |      None      |       None      |      None      |       None      |    13.0   |    43.0    |      Niles      |  01/19/1981  |  03/31/2021 |\n",
       "|   226951   |         Laurel Elementary School         |     School    |      CA     |       6       |   Alameda   |      1.0       |     374734N     |    1221147W   |  37.792899   |  -122.1964288 |      None      |       None      |      None      |       None      |    68.0   |   223.0    |   Oakland East  |  06/14/2000  |  03/14/2021 |\n",
       "|   229367   |         Murray Elementary School         |     School    |      CA     |       6       |   Alameda   |      1.0       |     374318N     |    1215557W   |  37.721801   |  -121.9326269 |      None      |       None      |      None      |       None      |   112.0   |   367.0    |      Dublin     |  01/19/1981  |  03/14/2021 |\n",
       "|   235581   |             Strawberry Creek             |     Stream    |      CA     |       6       |   Alameda   |      1.0       |     375221N     |    1221443W   |  37.8724258  |  -122.2452464 |    375251N     |     1221354W    |   37.8807588   |   -122.2316349  |   154.0   |   505.0    |   Oakland East  |  01/19/1981  |  08/31/2016 |\n",
       "|  1654274   |           Hayward Golf Course            |     Locale    |      CA     |       6       |   Alameda   |      1.0       |     373726N     |    1220250W   |  37.6238222  |  -122.0471843 |      None      |       None      |      None      |       None      |    5.0    |    16.0    |      Newark     |  01/19/1981  |     None    |\n",
       "|  1664964   |           KOFY-AM (San Mateo)            |     Tower     |      CA     |       6       |   Alameda   |      1.0       |     374934N     |    1221842W   |  37.8260385  |  -122.3116366 |      None      |       None      |      None      |       None      |    2.0    |    7.0     |   Oakland West  |  07/01/1994  |     None    |\n",
       "|  1670278   |              Lake Elizabeth              |      Lake     |      CA     |       6       |   Alameda   |      1.0       |     373255N     |    1215742W   |  37.5487056  |  -121.9617554 |      None      |       None      |      None      |       None      |    16.0   |    52.0    |      Niles      |  11/09/1995  |  03/07/2019 |\n",
       "|  1692819   | California School for the Deaf - Fremont |     School    |      CA     |       6       |   Alameda   |      1.0       |     373334N     |    1215747W   |  37.5593966  |  -121.9631843 |      None      |       None      |      None      |       None      |    20.0   |    66.0    |      Niles      |  05/08/1996  |  09/16/2016 |\n",
       "|  1692863   |           J A Freitas Library            |    Building   |      CA     |       6       |   Alameda   |      1.0       |     374335N     |    1220925W   |  37.7263185  |  -122.1569101 |      None      |       None      |      None      |       None      |    19.0   |    62.0    |   San Leandro   |  05/08/1996  |     None    |\n",
       "|  1693010   |            Alice Arts Center             |    Building   |      CA     |       6       |   Alameda   |      1.0       |     374812N     |    1221557W   |  37.8032611  |  -122.2658025 |      None      |       None      |      None      |       None      |    11.0   |    36.0    |   Oakland West  |  05/08/1996  |     None    |\n",
       "|  1961816   |    New Pilgrim Congregational Church     |     Church    |      CA     |       6       |   Alameda   |      1.0       |     374622N     |    1221131W   |  37.7727061  |  -122.1919115 |      None      |       None      |      None      |       None      |    21.0   |    69.0    |   Oakland East  |  09/11/2002  |     None    |\n",
       "|  1961871   |      First Southern Baptist Church       |     Church    |      CA     |       6       |   Alameda   |      1.0       |     374657N     |    1221401W   |  37.7824282  |  -122.2335796 |      None      |       None      |      None      |       None      |    11.0   |    36.0    |   Oakland East  |  09/11/2002  |     None    |\n",
       "|  1962002   |     First Church of Christ Scientist     |     Church    |      CA     |       6       |   Alameda   |      1.0       |     374353N     |    1220931W   |  37.7313183  |  -122.1585769 |      None      |       None      |      None      |       None      |    19.0   |    62.0    |   San Leandro   |  09/11/2002  |     None    |\n",
       "|  2087391   |        First Presbyterian Church         |     Church    |      CA     |       6       |   Alameda   |      1.0       |     373254N     |    1220238W   |  37.5483333  |  -122.0438889 |      None      |       None      |      None      |       None      |    7.0    |    23.0    |      Newark     |  05/22/2006  |     None    |\n",
       "+------------+------------------------------------------+---------------+-------------+---------------+-------------+----------------+-----------------+---------------+--------------+---------------+----------------+-----------------+----------------+-----------------+-----------+------------+-----------------+--------------+-------------+\n",
       "Truncated to displaylimit of 15."
      ]
     },
     "execution_count": 21,
     "metadata": {},
     "output_type": "execute_result"
    }
   ],
   "source": [
    "%sql SELECT * FROM national WHERE county_name = 'Alameda';"
   ]
  },
  {
   "cell_type": "code",
   "execution_count": 22,
   "id": "d30a2055-c81b-4f07-a61a-35241a510adc",
   "metadata": {},
   "outputs": [
    {
     "data": {
      "text/html": [
       "<span style=\"None\">Running query in &#x27;postgresql://localhost:5432/gnis&#x27;</span>"
      ],
      "text/plain": [
       "Running query in 'postgresql://localhost:5432/gnis'"
      ]
     },
     "metadata": {},
     "output_type": "display_data"
    },
    {
     "data": {
      "text/html": [
       "<span style=\"color: green\">1180 rows affected.</span>"
      ],
      "text/plain": [
       "1180 rows affected."
      ]
     },
     "metadata": {},
     "output_type": "display_data"
    },
    {
     "data": {
      "text/html": [
       "<table>\n",
       "    <thead>\n",
       "        <tr>\n",
       "            <th>feature_id</th>\n",
       "            <th>feature_name</th>\n",
       "            <th>feature_class</th>\n",
       "            <th>state_alpha</th>\n",
       "            <th>state_numeric</th>\n",
       "            <th>county_name</th>\n",
       "            <th>county_numeric</th>\n",
       "            <th>primary_lat_dms</th>\n",
       "            <th>prim_long_dms</th>\n",
       "            <th>prim_lat_dec</th>\n",
       "            <th>prim_long_dec</th>\n",
       "            <th>source_lat_dms</th>\n",
       "            <th>source_long_dms</th>\n",
       "            <th>source_lat_dec</th>\n",
       "            <th>source_long_dec</th>\n",
       "            <th>elev_in_m</th>\n",
       "            <th>elev_in_ft</th>\n",
       "            <th>map_name</th>\n",
       "            <th>date_created</th>\n",
       "            <th>date_edited</th>\n",
       "        </tr>\n",
       "    </thead>\n",
       "    <tbody>\n",
       "        <tr>\n",
       "            <td>3039</td>\n",
       "            <td>Clover Tank</td>\n",
       "            <td>Reservoir</td>\n",
       "            <td>AZ</td>\n",
       "            <td>4</td>\n",
       "            <td>Gila</td>\n",
       "            <td>7.0</td>\n",
       "            <td>335104N</td>\n",
       "            <td>1101528W</td>\n",
       "            <td>33.8509816</td>\n",
       "            <td>-110.2577249</td>\n",
       "            <td>None</td>\n",
       "            <td>None</td>\n",
       "            <td>None</td>\n",
       "            <td>None</td>\n",
       "            <td>1563.0</td>\n",
       "            <td>5128.0</td>\n",
       "            <td>Carrizo SE</td>\n",
       "            <td>02/08/1980</td>\n",
       "            <td>03/19/2019</td>\n",
       "        </tr>\n",
       "        <tr>\n",
       "            <td>3060</td>\n",
       "            <td>Coat Spring</td>\n",
       "            <td>Spring</td>\n",
       "            <td>AZ</td>\n",
       "            <td>4</td>\n",
       "            <td>Navajo</td>\n",
       "            <td>17.0</td>\n",
       "            <td>360736N</td>\n",
       "            <td>1101959W</td>\n",
       "            <td>36.12678</td>\n",
       "            <td>-110.3330424</td>\n",
       "            <td>None</td>\n",
       "            <td>None</td>\n",
       "            <td>None</td>\n",
       "            <td>None</td>\n",
       "            <td>1926.0</td>\n",
       "            <td>6319.0</td>\n",
       "            <td>Coat Spring</td>\n",
       "            <td>02/08/1980</td>\n",
       "            <td>04/18/2011</td>\n",
       "        </tr>\n",
       "        <tr>\n",
       "            <td>5427</td>\n",
       "            <td>Gunsight Canyon</td>\n",
       "            <td>Valley</td>\n",
       "            <td>AZ</td>\n",
       "            <td>4</td>\n",
       "            <td>Mohave</td>\n",
       "            <td>15.0</td>\n",
       "            <td>344716N</td>\n",
       "            <td>1133708W</td>\n",
       "            <td>34.7877893</td>\n",
       "            <td>-113.6188253</td>\n",
       "            <td>344718N</td>\n",
       "            <td>1134658W</td>\n",
       "            <td>34.7883432</td>\n",
       "            <td>-113.7827192</td>\n",
       "            <td>642.0</td>\n",
       "            <td>2106.0</td>\n",
       "            <td>Tule Wash</td>\n",
       "            <td>02/08/1980</td>\n",
       "            <td>None</td>\n",
       "        </tr>\n",
       "        <tr>\n",
       "            <td>7221</td>\n",
       "            <td>Little Water</td>\n",
       "            <td>Area</td>\n",
       "            <td>AZ</td>\n",
       "            <td>4</td>\n",
       "            <td>Navajo</td>\n",
       "            <td>17.0</td>\n",
       "            <td>352649N</td>\n",
       "            <td>1103415W</td>\n",
       "            <td>35.4469546</td>\n",
       "            <td>-110.5709674</td>\n",
       "            <td>None</td>\n",
       "            <td>None</td>\n",
       "            <td>None</td>\n",
       "            <td>None</td>\n",
       "            <td>1583.0</td>\n",
       "            <td>5194.0</td>\n",
       "            <td>Montezumas Chair</td>\n",
       "            <td>02/08/1980</td>\n",
       "            <td>None</td>\n",
       "        </tr>\n",
       "        <tr>\n",
       "            <td>8053</td>\n",
       "            <td>Milkweed Spring</td>\n",
       "            <td>Spring</td>\n",
       "            <td>AZ</td>\n",
       "            <td>4</td>\n",
       "            <td>Mohave</td>\n",
       "            <td>15.0</td>\n",
       "            <td>353706N</td>\n",
       "            <td>1134223W</td>\n",
       "            <td>35.6184467</td>\n",
       "            <td>-113.7063277</td>\n",
       "            <td>None</td>\n",
       "            <td>None</td>\n",
       "            <td>None</td>\n",
       "            <td>None</td>\n",
       "            <td>1441.0</td>\n",
       "            <td>4728.0</td>\n",
       "            <td>Milkweed Canyon SW</td>\n",
       "            <td>02/08/1980</td>\n",
       "            <td>04/18/2011</td>\n",
       "        </tr>\n",
       "        <tr>\n",
       "            <td>8884</td>\n",
       "            <td>Oak Spring</td>\n",
       "            <td>Spring</td>\n",
       "            <td>AZ</td>\n",
       "            <td>4</td>\n",
       "            <td>Mohave</td>\n",
       "            <td>15.0</td>\n",
       "            <td>364903N</td>\n",
       "            <td>1133510W</td>\n",
       "            <td>36.8174811</td>\n",
       "            <td>-113.5860693</td>\n",
       "            <td>None</td>\n",
       "            <td>None</td>\n",
       "            <td>None</td>\n",
       "            <td>None</td>\n",
       "            <td>1605.0</td>\n",
       "            <td>5266.0</td>\n",
       "            <td>Wolf Hole Mountain East</td>\n",
       "            <td>02/08/1980</td>\n",
       "            <td>None</td>\n",
       "        </tr>\n",
       "        <tr>\n",
       "            <td>9673</td>\n",
       "            <td>Post Office Farms</td>\n",
       "            <td>Bend</td>\n",
       "            <td>AZ</td>\n",
       "            <td>4</td>\n",
       "            <td>Navajo</td>\n",
       "            <td>17.0</td>\n",
       "            <td>335733N</td>\n",
       "            <td>1095503W</td>\n",
       "            <td>33.9592139</td>\n",
       "            <td>-109.917602</td>\n",
       "            <td>None</td>\n",
       "            <td>None</td>\n",
       "            <td>None</td>\n",
       "            <td>None</td>\n",
       "            <td>1759.0</td>\n",
       "            <td>5771.0</td>\n",
       "            <td>Alchesay Flat</td>\n",
       "            <td>02/08/1980</td>\n",
       "            <td>None</td>\n",
       "        </tr>\n",
       "        <tr>\n",
       "            <td>10197</td>\n",
       "            <td>Reese Ranch</td>\n",
       "            <td>Locale</td>\n",
       "            <td>AZ</td>\n",
       "            <td>4</td>\n",
       "            <td>Gila</td>\n",
       "            <td>7.0</td>\n",
       "            <td>330510N</td>\n",
       "            <td>1104244W</td>\n",
       "            <td>33.0861745</td>\n",
       "            <td>-110.7123268</td>\n",
       "            <td>None</td>\n",
       "            <td>None</td>\n",
       "            <td>None</td>\n",
       "            <td>None</td>\n",
       "            <td>633.0</td>\n",
       "            <td>2077.0</td>\n",
       "            <td>Christmas</td>\n",
       "            <td>02/08/1980</td>\n",
       "            <td>None</td>\n",
       "        </tr>\n",
       "        <tr>\n",
       "            <td>21598</td>\n",
       "            <td>Dead River Bridge</td>\n",
       "            <td>Bridge</td>\n",
       "            <td>AZ</td>\n",
       "            <td>4</td>\n",
       "            <td>Apache</td>\n",
       "            <td>1.0</td>\n",
       "            <td>350505N</td>\n",
       "            <td>1094224W</td>\n",
       "            <td>35.0847456</td>\n",
       "            <td>-109.7067815</td>\n",
       "            <td>None</td>\n",
       "            <td>None</td>\n",
       "            <td>None</td>\n",
       "            <td>None</td>\n",
       "            <td>1686.0</td>\n",
       "            <td>5531.0</td>\n",
       "            <td>Pinta</td>\n",
       "            <td>06/27/1984</td>\n",
       "            <td>None</td>\n",
       "        </tr>\n",
       "        <tr>\n",
       "            <td>24724</td>\n",
       "            <td>Bethany Villa Adult Mobile Home Park</td>\n",
       "            <td>Populated Place</td>\n",
       "            <td>AZ</td>\n",
       "            <td>4</td>\n",
       "            <td>Maricopa</td>\n",
       "            <td>13.0</td>\n",
       "            <td>333134N</td>\n",
       "            <td>1120951W</td>\n",
       "            <td>33.5261527</td>\n",
       "            <td>-112.1640412</td>\n",
       "            <td>None</td>\n",
       "            <td>None</td>\n",
       "            <td>None</td>\n",
       "            <td>None</td>\n",
       "            <td>352.0</td>\n",
       "            <td>1155.0</td>\n",
       "            <td>Glendale</td>\n",
       "            <td>06/27/1984</td>\n",
       "            <td>None</td>\n",
       "        </tr>\n",
       "        <tr>\n",
       "            <td>25467</td>\n",
       "            <td>Caterpillar Tank Wash</td>\n",
       "            <td>Stream</td>\n",
       "            <td>AZ</td>\n",
       "            <td>4</td>\n",
       "            <td>Maricopa</td>\n",
       "            <td>13.0</td>\n",
       "            <td>334332N</td>\n",
       "            <td>1121738W</td>\n",
       "            <td>33.725592</td>\n",
       "            <td>-112.2937718</td>\n",
       "            <td>334749N</td>\n",
       "            <td>1121933W</td>\n",
       "            <td>33.7969796</td>\n",
       "            <td>-112.3257187</td>\n",
       "            <td>384.0</td>\n",
       "            <td>1260.0</td>\n",
       "            <td>Calderwood Butte</td>\n",
       "            <td>11/01/1992</td>\n",
       "            <td>None</td>\n",
       "        </tr>\n",
       "        <tr>\n",
       "            <td>26568</td>\n",
       "            <td>Bobtail Ridge</td>\n",
       "            <td>Ridge</td>\n",
       "            <td>AZ</td>\n",
       "            <td>4</td>\n",
       "            <td>Gila</td>\n",
       "            <td>7.0</td>\n",
       "            <td>331655N</td>\n",
       "            <td>1104953W</td>\n",
       "            <td>33.2820174</td>\n",
       "            <td>-110.8314057</td>\n",
       "            <td>None</td>\n",
       "            <td>None</td>\n",
       "            <td>None</td>\n",
       "            <td>None</td>\n",
       "            <td>2315.0</td>\n",
       "            <td>7595.0</td>\n",
       "            <td>Pinal Peak</td>\n",
       "            <td>02/08/1980</td>\n",
       "            <td>03/09/2021</td>\n",
       "        </tr>\n",
       "        <tr>\n",
       "            <td>27159</td>\n",
       "            <td>Cactus Basin</td>\n",
       "            <td>Basin</td>\n",
       "            <td>AZ</td>\n",
       "            <td>4</td>\n",
       "            <td>Yavapai</td>\n",
       "            <td>25.0</td>\n",
       "            <td>341856N</td>\n",
       "            <td>1120138W</td>\n",
       "            <td>34.3155852</td>\n",
       "            <td>-112.0270998</td>\n",
       "            <td>None</td>\n",
       "            <td>None</td>\n",
       "            <td>None</td>\n",
       "            <td>None</td>\n",
       "            <td>1188.0</td>\n",
       "            <td>3898.0</td>\n",
       "            <td>Cordes Junction</td>\n",
       "            <td>02/08/1980</td>\n",
       "            <td>None</td>\n",
       "        </tr>\n",
       "        <tr>\n",
       "            <td>27275</td>\n",
       "            <td>Canyon Diablo</td>\n",
       "            <td>Valley</td>\n",
       "            <td>AZ</td>\n",
       "            <td>4</td>\n",
       "            <td>Coconino</td>\n",
       "            <td>5.0</td>\n",
       "            <td>351746N</td>\n",
       "            <td>1105921W</td>\n",
       "            <td>35.2961216</td>\n",
       "            <td>-110.9890301</td>\n",
       "            <td>344820N</td>\n",
       "            <td>1111550W</td>\n",
       "            <td>34.8055556</td>\n",
       "            <td>-111.2638889</td>\n",
       "            <td>1429.0</td>\n",
       "            <td>4688.0</td>\n",
       "            <td>Old Leupp</td>\n",
       "            <td>02/08/1980</td>\n",
       "            <td>09/15/2006</td>\n",
       "        </tr>\n",
       "        <tr>\n",
       "            <td>29236</td>\n",
       "            <td>Gabarina Hill</td>\n",
       "            <td>Summit</td>\n",
       "            <td>AZ</td>\n",
       "            <td>4</td>\n",
       "            <td>Yavapai</td>\n",
       "            <td>25.0</td>\n",
       "            <td>342932N</td>\n",
       "            <td>1123513W</td>\n",
       "            <td>34.4922062</td>\n",
       "            <td>-112.5869989</td>\n",
       "            <td>None</td>\n",
       "            <td>None</td>\n",
       "            <td>None</td>\n",
       "            <td>None</td>\n",
       "            <td>1689.0</td>\n",
       "            <td>5541.0</td>\n",
       "            <td>Wilhoit</td>\n",
       "            <td>02/08/1980</td>\n",
       "            <td>03/10/2021</td>\n",
       "        </tr>\n",
       "    </tbody>\n",
       "</table>\n",
       "<span style=\"font-style:italic;text-align:center;\">Truncated to <a href=\"https://jupysql.ploomber.io/en/latest/api/configuration.html#displaylimit\">displaylimit</a> of 15.</span>"
      ],
      "text/plain": [
       "+------------+--------------------------------------+-----------------+-------------+---------------+-------------+----------------+-----------------+---------------+--------------+---------------+----------------+-----------------+----------------+-----------------+-----------+------------+-------------------------+--------------+-------------+\n",
       "| feature_id |             feature_name             |  feature_class  | state_alpha | state_numeric | county_name | county_numeric | primary_lat_dms | prim_long_dms | prim_lat_dec | prim_long_dec | source_lat_dms | source_long_dms | source_lat_dec | source_long_dec | elev_in_m | elev_in_ft |         map_name        | date_created | date_edited |\n",
       "+------------+--------------------------------------+-----------------+-------------+---------------+-------------+----------------+-----------------+---------------+--------------+---------------+----------------+-----------------+----------------+-----------------+-----------+------------+-------------------------+--------------+-------------+\n",
       "|    3039    |             Clover Tank              |    Reservoir    |      AZ     |       4       |     Gila    |      7.0       |     335104N     |    1101528W   |  33.8509816  |  -110.2577249 |      None      |       None      |      None      |       None      |   1563.0  |   5128.0   |        Carrizo SE       |  02/08/1980  |  03/19/2019 |\n",
       "|    3060    |             Coat Spring              |      Spring     |      AZ     |       4       |    Navajo   |      17.0      |     360736N     |    1101959W   |   36.12678   |  -110.3330424 |      None      |       None      |      None      |       None      |   1926.0  |   6319.0   |       Coat Spring       |  02/08/1980  |  04/18/2011 |\n",
       "|    5427    |           Gunsight Canyon            |      Valley     |      AZ     |       4       |    Mohave   |      15.0      |     344716N     |    1133708W   |  34.7877893  |  -113.6188253 |    344718N     |     1134658W    |   34.7883432   |   -113.7827192  |   642.0   |   2106.0   |        Tule Wash        |  02/08/1980  |     None    |\n",
       "|    7221    |             Little Water             |       Area      |      AZ     |       4       |    Navajo   |      17.0      |     352649N     |    1103415W   |  35.4469546  |  -110.5709674 |      None      |       None      |      None      |       None      |   1583.0  |   5194.0   |     Montezumas Chair    |  02/08/1980  |     None    |\n",
       "|    8053    |           Milkweed Spring            |      Spring     |      AZ     |       4       |    Mohave   |      15.0      |     353706N     |    1134223W   |  35.6184467  |  -113.7063277 |      None      |       None      |      None      |       None      |   1441.0  |   4728.0   |    Milkweed Canyon SW   |  02/08/1980  |  04/18/2011 |\n",
       "|    8884    |              Oak Spring              |      Spring     |      AZ     |       4       |    Mohave   |      15.0      |     364903N     |    1133510W   |  36.8174811  |  -113.5860693 |      None      |       None      |      None      |       None      |   1605.0  |   5266.0   | Wolf Hole Mountain East |  02/08/1980  |     None    |\n",
       "|    9673    |          Post Office Farms           |       Bend      |      AZ     |       4       |    Navajo   |      17.0      |     335733N     |    1095503W   |  33.9592139  |  -109.917602  |      None      |       None      |      None      |       None      |   1759.0  |   5771.0   |      Alchesay Flat      |  02/08/1980  |     None    |\n",
       "|   10197    |             Reese Ranch              |      Locale     |      AZ     |       4       |     Gila    |      7.0       |     330510N     |    1104244W   |  33.0861745  |  -110.7123268 |      None      |       None      |      None      |       None      |   633.0   |   2077.0   |        Christmas        |  02/08/1980  |     None    |\n",
       "|   21598    |          Dead River Bridge           |      Bridge     |      AZ     |       4       |    Apache   |      1.0       |     350505N     |    1094224W   |  35.0847456  |  -109.7067815 |      None      |       None      |      None      |       None      |   1686.0  |   5531.0   |          Pinta          |  06/27/1984  |     None    |\n",
       "|   24724    | Bethany Villa Adult Mobile Home Park | Populated Place |      AZ     |       4       |   Maricopa  |      13.0      |     333134N     |    1120951W   |  33.5261527  |  -112.1640412 |      None      |       None      |      None      |       None      |   352.0   |   1155.0   |         Glendale        |  06/27/1984  |     None    |\n",
       "|   25467    |        Caterpillar Tank Wash         |      Stream     |      AZ     |       4       |   Maricopa  |      13.0      |     334332N     |    1121738W   |  33.725592   |  -112.2937718 |    334749N     |     1121933W    |   33.7969796   |   -112.3257187  |   384.0   |   1260.0   |     Calderwood Butte    |  11/01/1992  |     None    |\n",
       "|   26568    |            Bobtail Ridge             |      Ridge      |      AZ     |       4       |     Gila    |      7.0       |     331655N     |    1104953W   |  33.2820174  |  -110.8314057 |      None      |       None      |      None      |       None      |   2315.0  |   7595.0   |        Pinal Peak       |  02/08/1980  |  03/09/2021 |\n",
       "|   27159    |             Cactus Basin             |      Basin      |      AZ     |       4       |   Yavapai   |      25.0      |     341856N     |    1120138W   |  34.3155852  |  -112.0270998 |      None      |       None      |      None      |       None      |   1188.0  |   3898.0   |     Cordes Junction     |  02/08/1980  |     None    |\n",
       "|   27275    |            Canyon Diablo             |      Valley     |      AZ     |       4       |   Coconino  |      5.0       |     351746N     |    1105921W   |  35.2961216  |  -110.9890301 |    344820N     |     1111550W    |   34.8055556   |   -111.2638889  |   1429.0  |   4688.0   |        Old Leupp        |  02/08/1980  |  09/15/2006 |\n",
       "|   29236    |            Gabarina Hill             |      Summit     |      AZ     |       4       |   Yavapai   |      25.0      |     342932N     |    1123513W   |  34.4922062  |  -112.5869989 |      None      |       None      |      None      |       None      |   1689.0  |   5541.0   |         Wilhoit         |  02/08/1980  |  03/10/2021 |\n",
       "+------------+--------------------------------------+-----------------+-------------+---------------+-------------+----------------+-----------------+---------------+--------------+---------------+----------------+-----------------+----------------+-----------------+-----------+------------+-------------------------+--------------+-------------+\n",
       "Truncated to displaylimit of 15."
      ]
     },
     "execution_count": 22,
     "metadata": {},
     "output_type": "execute_result"
    }
   ],
   "source": [
    "%%sql\n",
    "SELECT *\n",
    "FROM national TABLESAMPLE BERNOULLI(10);"
   ]
  },
  {
   "cell_type": "markdown",
   "id": "cf7cebdb-246f-4f0e-8022-679e107979f7",
   "metadata": {},
   "source": [
    "# Numerical Granularity"
   ]
  },
  {
   "cell_type": "code",
   "execution_count": 23,
   "id": "d22b320d-e7e7-4a7a-8c1b-6c4bc58963b4",
   "metadata": {},
   "outputs": [
    {
     "data": {
      "text/html": [
       "<span style=\"None\">Running query in &#x27;postgresql://localhost:5432/gnis&#x27;</span>"
      ],
      "text/plain": [
       "Running query in 'postgresql://localhost:5432/gnis'"
      ]
     },
     "metadata": {},
     "output_type": "display_data"
    },
    {
     "data": {
      "text/html": [
       "<span style=\"color: green\">2 rows affected.</span>"
      ],
      "text/plain": [
       "2 rows affected."
      ]
     },
     "metadata": {},
     "output_type": "display_data"
    },
    {
     "data": {
      "text/html": [
       "<table>\n",
       "    <thead>\n",
       "        <tr>\n",
       "            <th>elev_in_m</th>\n",
       "        </tr>\n",
       "    </thead>\n",
       "    <tbody>\n",
       "        <tr>\n",
       "            <td>931.0</td>\n",
       "        </tr>\n",
       "        <tr>\n",
       "            <td>2707.0</td>\n",
       "        </tr>\n",
       "    </tbody>\n",
       "</table>"
      ],
      "text/plain": [
       "+-----------+\n",
       "| elev_in_m |\n",
       "+-----------+\n",
       "|   931.0   |\n",
       "|   2707.0  |\n",
       "+-----------+"
      ]
     },
     "execution_count": 23,
     "metadata": {},
     "output_type": "execute_result"
    }
   ],
   "source": [
    "%sql SELECT elev_in_m FROM National LIMIT 2;"
   ]
  },
  {
   "cell_type": "code",
   "execution_count": 27,
   "id": "8e80edb1-1cf4-4992-b0d9-142291aa63df",
   "metadata": {},
   "outputs": [
    {
     "data": {
      "text/html": [
       "<span style=\"None\">Running query in &#x27;postgresql://localhost:5432/gnis&#x27;</span>"
      ],
      "text/plain": [
       "Running query in 'postgresql://localhost:5432/gnis'"
      ]
     },
     "metadata": {},
     "output_type": "display_data"
    },
    {
     "data": {
      "text/html": [
       "<span style=\"color: green\">5 rows affected.</span>"
      ],
      "text/plain": [
       "5 rows affected."
      ]
     },
     "metadata": {},
     "output_type": "display_data"
    },
    {
     "data": {
      "text/html": [
       "<table>\n",
       "    <thead>\n",
       "        <tr>\n",
       "            <th>elev_in_m</th>\n",
       "            <th>quantized</th>\n",
       "            <th>round_to_100</th>\n",
       "            <th>substring</th>\n",
       "            <th>substring2</th>\n",
       "        </tr>\n",
       "    </thead>\n",
       "    <tbody>\n",
       "        <tr>\n",
       "            <td>931.0</td>\n",
       "            <td>9</td>\n",
       "            <td>900</td>\n",
       "            <td>93</td>\n",
       "            <td>9300</td>\n",
       "        </tr>\n",
       "        <tr>\n",
       "            <td>2707.0</td>\n",
       "            <td>27</td>\n",
       "            <td>2700</td>\n",
       "            <td>27</td>\n",
       "            <td>2700</td>\n",
       "        </tr>\n",
       "        <tr>\n",
       "            <td>275.0</td>\n",
       "            <td>3</td>\n",
       "            <td>300</td>\n",
       "            <td>27</td>\n",
       "            <td>2700</td>\n",
       "        </tr>\n",
       "        <tr>\n",
       "            <td>1685.0</td>\n",
       "            <td>17</td>\n",
       "            <td>1700</td>\n",
       "            <td>16</td>\n",
       "            <td>1600</td>\n",
       "        </tr>\n",
       "        <tr>\n",
       "            <td>1354.0</td>\n",
       "            <td>14</td>\n",
       "            <td>1400</td>\n",
       "            <td>13</td>\n",
       "            <td>1300</td>\n",
       "        </tr>\n",
       "    </tbody>\n",
       "</table>"
      ],
      "text/plain": [
       "+-----------+-----------+--------------+-----------+------------+\n",
       "| elev_in_m | quantized | round_to_100 | substring | substring2 |\n",
       "+-----------+-----------+--------------+-----------+------------+\n",
       "|   931.0   |     9     |     900      |     93    |    9300    |\n",
       "|   2707.0  |     27    |     2700     |     27    |    2700    |\n",
       "|   275.0   |     3     |     300      |     27    |    2700    |\n",
       "|   1685.0  |     17    |     1700     |     16    |    1600    |\n",
       "|   1354.0  |     14    |     1400     |     13    |    1300    |\n",
       "+-----------+-----------+--------------+-----------+------------+"
      ]
     },
     "execution_count": 27,
     "metadata": {},
     "output_type": "execute_result"
    }
   ],
   "source": [
    "%%sql\n",
    "SELECT elev_in_m, \n",
    "    (elev_in_m / 100)::INTEGER AS quantized,\n",
    "    ((elev_in_m / 100)::INTEGER) * 100 AS round_to_100,\n",
    "    SUBSTRING(elev_in_m::TEXT, 1, 2),\n",
    "    CONCAT(SUBSTRING(elev_in_m::TEXT, 1, 2), '00') AS substring2\n",
    "FROM National\n",
    "LIMIT 5;"
   ]
  },
  {
   "cell_type": "code",
   "execution_count": 28,
   "id": "6b519edc-61b0-4e14-9f6b-d90bd25e3010",
   "metadata": {},
   "outputs": [],
   "source": [
    "%config SqlMagic.named_parameters=True"
   ]
  },
  {
   "cell_type": "code",
   "execution_count": 30,
   "id": "e87127ca",
   "metadata": {
    "scrolled": true
   },
   "outputs": [
    {
     "data": {
      "text/html": [
       "<span style=\"None\">Running query in &#x27;postgresql://localhost:5432/gnis&#x27;</span>"
      ],
      "text/plain": [
       "Running query in 'postgresql://localhost:5432/gnis'"
      ]
     },
     "metadata": {},
     "output_type": "display_data"
    },
    {
     "name": "stderr",
     "output_type": "stream",
     "text": [
      "RuntimeError: If using snippets, you may pass the --with argument explicitly.\n",
      "For more details please refer: https://jupysql.ploomber.io/en/latest/compose.html#with-argument\n",
      "\n",
      "\n",
      "Original error message from DB driver:\n",
      "(psycopg2.errors.SyntaxError) syntax error at or near \"3\"\n",
      "LINE 1: 3\n",
      "        ^\n",
      "\n",
      "[SQL: 3\n",
      "FROM national\n",
      "LIMIT 5;]\n",
      "(Background on this error at: https://sqlalche.me/e/20/f405)\n",
      "\n",
      "If you need help solving this issue, send us a message: https://ploomber.io/community\n"
     ]
    }
   ],
   "source": [
    "%%sql\n",
    "/* does not run in jupysql b/c of <<. copy into psql  */\n",
    "SELECT elev_in_m,\n",
    "    (16::INTEGER::BIT(12)) AS bit12, \n",
    "    (16::INTEGER::BIT(12)) << 3\n",
    "FROM national\n",
    "LIMIT 5;"
   ]
  },
  {
   "cell_type": "code",
   "execution_count": null,
   "id": "99908613-5a25-4c96-b5fe-8bc8e001cfe1",
   "metadata": {},
   "outputs": [],
   "source": [
    "%%sql\n",
    "EXPLAIN (verbose)\n",
    "WITH shifts AS (\n",
    "SELECT elev_in_m, \n",
    "       (elev_in_m::integer::bit(12)) AS bit12, \n",
    "       (elev_in_m::integer::bit(12) >> 8) AS rightshifted, \n",
    "       ((elev_in_m::integer::bit(12) >> 8) << 8)::integer AS round_to_256,\n",
    "       ((elev_in_m::integer::bit(12) >> 8) << 8)::integer % 256 AS test\n",
    "  FROM national\n",
    ")\n",
    "SELECT COUNT(DISTINCT elev_in_m) AS elevation_meters_count,\n",
    "       COUNT(DISTINCT bit12) AS bit12_count,\n",
    "       COUNT(DISTINCT rightshifted) AS rightshift_count,\n",
    "       COUNT(DISTINCT round_to_256) AS rounded_count\n",
    "  FROM shifts;"
   ]
  },
  {
   "cell_type": "markdown",
   "id": "4e417c67-7e50-4ed6-89ee-486bd88a04ed",
   "metadata": {},
   "source": [
    "# Demo 1: Roll-up / Drill-down Practice"
   ]
  },
  {
   "cell_type": "markdown",
   "id": "5c3b6831-818e-4d57-858f-86cf99a26c8a",
   "metadata": {
    "slideshow": {
     "slide_type": "subslide"
    }
   },
   "source": [
    "Let's start with county-level data on elevations:"
   ]
  },
  {
   "cell_type": "code",
   "execution_count": null,
   "id": "c16651e9-d678-4d7f-9047-a178be243275",
   "metadata": {},
   "outputs": [],
   "source": [
    "%%sql\n",
    "SELECT state_numeric, county_numeric,\n",
    "       avg(elev_in_m),\n",
    "       stddev(elev_in_m), count(*)\n",
    "FROM national TABLESAMPLE BERNOULLI(10)\n",
    "GROUP BY state_numeric, county_numeric;"
   ]
  },
  {
   "cell_type": "markdown",
   "id": "19460db6-5e19-4eaa-be01-e7c3b257ace8",
   "metadata": {},
   "source": [
    "**Roll up** to state level.\n",
    "* We save the view as `state_elevations` for later..."
   ]
  },
  {
   "cell_type": "code",
   "execution_count": null,
   "id": "b1eb0307-fee1-4692-ae8a-eb372f382e9f",
   "metadata": {},
   "outputs": [],
   "source": [
    "%%sql\n",
    "DROP VIEW IF EXISTS state_elevations;\n",
    "\n",
    "CREATE VIEW state_elevations AS\n",
    "SELECT state_numeric,\n",
    "       avg(elev_in_m),\n",
    "       stddev(elev_in_m), count(*)\n",
    "FROM national \n",
    "GROUP BY state_numeric\n",
    ";"
   ]
  },
  {
   "cell_type": "code",
   "execution_count": null,
   "id": "e3b4b1b9-b048-43a7-8f97-67ae63332136",
   "metadata": {},
   "outputs": [],
   "source": [
    "%sql SELECT * FROM state_elevations;"
   ]
  },
  {
   "cell_type": "markdown",
   "id": "320ca632-1a77-48ab-9492-f9a2c8582e14",
   "metadata": {},
   "source": [
    "**Drill down** to include feature class."
   ]
  },
  {
   "cell_type": "code",
   "execution_count": null,
   "id": "420b6d32-0d4b-47f4-9863-9634efa0d8f0",
   "metadata": {},
   "outputs": [],
   "source": [
    "%%sql\n",
    "SELECT state_numeric, feature_class,\n",
    "       avg(elev_in_m),\n",
    "       stddev(elev_in_m), count(*)\n",
    "FROM national TABLESAMPLE Bernoulli(10)\n",
    "GROUP BY state_numeric, feature_class\n",
    "ORDER BY count(*) DESC;"
   ]
  },
  {
   "cell_type": "markdown",
   "id": "82cc3430-68a0-4f69-b94f-a13dce1a06c6",
   "metadata": {},
   "source": [
    "# Demo 2: Connections to Statistics"
   ]
  },
  {
   "cell_type": "markdown",
   "id": "a2bcfd68-94c4-44f9-8a87-deb780009b57",
   "metadata": {},
   "source": [
    "## Roll up with marginal distributions"
   ]
  },
  {
   "cell_type": "code",
   "execution_count": null,
   "id": "08fd169e-3350-4164-bd04-10755730d459",
   "metadata": {},
   "outputs": [],
   "source": [
    "%%sql\n",
    "SELECT state_numeric,\n",
    "       AVG(elev_in_m),\n",
    "       STDDEV(elev_in_m), COUNT(*),\n",
    "       SUM(COUNT(*)) OVER () AS total,\n",
    "       COUNT(*)/SUM(COUNT(*)) OVER () AS marginal\n",
    "FROM national TABLESAMPLE Bernoulli(.07)\n",
    "GROUP BY state_numeric;"
   ]
  },
  {
   "cell_type": "code",
   "execution_count": null,
   "id": "845b5b39-689a-4852-82ca-8defa998b857",
   "metadata": {},
   "outputs": [],
   "source": [
    "%%sql\n",
    "SELECT COUNT(DISTINCT county_numeric) FROM national;"
   ]
  },
  {
   "cell_type": "markdown",
   "id": "f9cdb304-5969-4721-b38d-b9ff8ad0e200",
   "metadata": {},
   "source": [
    "## Drill down with normally-distributed elevations:"
   ]
  },
  {
   "cell_type": "markdown",
   "id": "8a165109-8d5c-483c-8292-e1d03cf9ee44",
   "metadata": {},
   "source": [
    "Start with the `state_elevations` view from earlier:"
   ]
  },
  {
   "cell_type": "code",
   "execution_count": null,
   "id": "2b5c7c41-445c-4f16-bd06-77ba45786e50",
   "metadata": {},
   "outputs": [],
   "source": [
    "%sql SELECT * FROM state_elevations;"
   ]
  },
  {
   "cell_type": "markdown",
   "id": "b149280a-7e2d-4ed7-bddc-7a2a9323f40b",
   "metadata": {},
   "source": [
    "The `fips_counties` relation has all counties, including those not in `national`:"
   ]
  },
  {
   "cell_type": "code",
   "execution_count": null,
   "id": "5ce7a086-4b77-4b30-86ae-bd553aa51539",
   "metadata": {},
   "outputs": [],
   "source": [
    "%sql SELECT * FROM fips_counties LIMIT 10;"
   ]
  },
  {
   "cell_type": "markdown",
   "id": "7d004af6-eafb-4c14-b44e-0fc813dd36e7",
   "metadata": {},
   "source": [
    "If we wanted to **drill down** to the FIPS counties, we'd need to simulate an elevation for those counties that don't exist in `national`.\n",
    "\n",
    "Here's the first step in that process, which creates a simulated value for *every* county in `fips_counties`.\n",
    "* The value is simulated from a normal distribution using that state's elevation statistics (average, standard deviation).\n",
    "* Just like a Python package, we would need to import `tablefunc` in order to use the `normal_rand` function."
   ]
  },
  {
   "cell_type": "code",
   "execution_count": null,
   "id": "c76d955d-0c15-4bf7-a2fd-f381192989f9",
   "metadata": {},
   "outputs": [],
   "source": [
    "%sql CREATE EXTENSION IF NOT EXISTS tablefunc;"
   ]
  },
  {
   "cell_type": "code",
   "execution_count": null,
   "id": "541c6f86-bde5-4143-b06d-9bfb927e9bfe",
   "metadata": {},
   "outputs": [],
   "source": [
    "%%sql\n",
    "WITH state_cty AS\n",
    "(SELECT s.state_numeric, f.fips as county_numeric, s.avg, s.stddev, s.count\n",
    "  FROM state_elevations s, fips_counties f\n",
    "  WHERE s.state_numeric = f.state_numeric\n",
    ")\n",
    "SELECT s.*,\n",
    "       n.n AS elev_in_m,\n",
    "       true as elev_in_m_sim -- user-facing flag\n",
    "  FROM state_cty s,\n",
    "       LATERAL normal_rand(CAST(s.count AS INTEGER), s.avg, s.stddev) AS n\n",
    "LIMIT 10;"
   ]
  },
  {
   "cell_type": "markdown",
   "id": "79eca604-ad43-41f4-9411-a9a7c21413db",
   "metadata": {},
   "source": [
    "# Assembling an Explicit Hierarchy"
   ]
  },
  {
   "cell_type": "code",
   "execution_count": null,
   "id": "689edf43-7336-4f4a-84da-d1362d04f367",
   "metadata": {},
   "outputs": [],
   "source": [
    "## we'll use the Lahman baseball database in our initial examples today.\n",
    "## replace the database connection with a database of your own!\n",
    "%reload_ext sql\n",
    "%sql postgresql://localhost:5432/baseball"
   ]
  },
  {
   "cell_type": "markdown",
   "id": "aed8a95a-5ca4-4967-872a-d0143255caa3",
   "metadata": {},
   "source": [
    "Two relations have the pieces of the hierarchy we want:"
   ]
  },
  {
   "cell_type": "code",
   "execution_count": null,
   "id": "196db8eb-ed0c-4e5c-b56d-f6f7217c0753",
   "metadata": {
    "slideshow": {
     "slide_type": "fragment"
    }
   },
   "outputs": [],
   "source": [
    "%sql SELECT * FROM Appearances WHERE yearid > 1970 LIMIT 2;"
   ]
  },
  {
   "cell_type": "code",
   "execution_count": null,
   "id": "53283495-fa7e-459c-8498-09c096cffb7a",
   "metadata": {
    "slideshow": {
     "slide_type": "fragment"
    }
   },
   "outputs": [],
   "source": [
    "%sql SELECT * FROM Teams LIMIT 1;"
   ]
  },
  {
   "cell_type": "markdown",
   "id": "52e0bc5b-8390-4784-a2a5-1dd72b839a33",
   "metadata": {},
   "source": [
    "Let's join these two to make our hierarchy! Which way should we make this?"
   ]
  },
  {
   "cell_type": "code",
   "execution_count": null,
   "id": "8b6581ef-82cf-4314-abc6-eade2bfd929c",
   "metadata": {},
   "outputs": [],
   "source": [
    "%%sql\n",
    "SELECT a.playerid, a.teamid, t.divid, a.*\n",
    "  FROM Appearances a\n",
    "  NATURAL JOIN Teams t\n",
    "WHERE a.yearid = 2015\n",
    "LIMIT 100;"
   ]
  },
  {
   "cell_type": "code",
   "execution_count": null,
   "id": "1355e6ee-c0c9-4f81-835c-192cc610de63",
   "metadata": {},
   "outputs": [],
   "source": [
    "%%sql\n",
    "CREATE OR REPLACE VIEW bball_tree AS\n",
    "SELECT DISTINCT a.playerid, a.teamid, t.divid, a.lgid, a.yearid\n",
    "  FROM Appearances a NATURAL JOIN Teams t;"
   ]
  },
  {
   "cell_type": "markdown",
   "id": "948e46b0-a749-44b3-91ef-e2b58e50146f",
   "metadata": {},
   "source": [
    "### Revisiting the Home Run Query\n",
    "\n",
    "Recall our old home run query:"
   ]
  },
  {
   "cell_type": "code",
   "execution_count": null,
   "id": "5c52f62c-a9bc-4041-b04e-b88f63d46503",
   "metadata": {
    "slideshow": {
     "slide_type": "fragment"
    }
   },
   "outputs": [],
   "source": [
    "%%sql\n",
    "SELECT namefirst, namelast, yearid,\n",
    "       MIN(hr), MAX(hr), AVG(hr), STDDEV(hr), SUM(hr)\n",
    "FROM batting b, people p\n",
    "WHERE b.playerid = p.playerid\n",
    "GROUP BY namelast, namefirst, yearid\n",
    "ORDER BY max DESC\n",
    "LIMIT 10;"
   ]
  },
  {
   "cell_type": "markdown",
   "id": "4433909c-baf0-4744-b196-3ee322086046",
   "metadata": {},
   "source": [
    "Set up for roll up/drill down on `bball_tree` hierarchy.\n",
    "* Join each (raw) person with the associated `bball_tree` entry by `(playerid, yearid)` in a CTE\n",
    "* Use this result for roll-up and drill-down."
   ]
  },
  {
   "cell_type": "markdown",
   "id": "7eee322c-f96c-4576-bf63-c7108226aecb",
   "metadata": {},
   "source": [
    "<br/><br/><br/><br/><br/>\n",
    "<br/><br/><br/><br/><br/>\n",
    "<br/><br/><br/><br/><br/>\n",
    "<br/><br/><br/><br/><br/>"
   ]
  },
  {
   "cell_type": "code",
   "execution_count": null,
   "id": "cd4c5f2e-aef8-4277-bf8f-b70ba01da070",
   "metadata": {},
   "outputs": [],
   "source": [
    "%%sql\n",
    "WITH batting_tree AS\n",
    "(\n",
    "    SELECT b.*, t.divid\n",
    "    FROM batting b, bball_tree t\n",
    "    WHERE b.playerid = t.playerid\n",
    "      AND b.yearid = t.yearid\n",
    ")\n",
    "SELECT namefirst, namelast,\n",
    "       bt.teamid, bt.lgid, bt.divid, bt.yearid,\n",
    "       MIN(hr), MAX(hr), AVG(hr), STDDEV(hr), SUM(hr)\n",
    "FROM batting_tree bt, people p\n",
    "WHERE bt.playerid = p.playerid\n",
    "GROUP BY bt.playerid, bt.teamid, bt.lgid, bt.divid, bt.yearid, namelast, namefirst\n",
    "ORDER BY max DESC\n",
    "LIMIT 10;"
   ]
  },
  {
   "cell_type": "markdown",
   "id": "d53a1df6-caa4-47f3-b921-d494389da1d8",
   "metadata": {},
   "source": [
    "# [Extra] Load in the database from scratch"
   ]
  },
  {
   "cell_type": "markdown",
   "id": "eaa050f7-c788-43b6-99a0-7a3293646c2f",
   "metadata": {},
   "source": [
    "We download the database, unzip it, load it into pandas, then export to a new database via `jupysql` cell magic.\n",
    "\n",
    "**CAUTION**: This may crash your DataHub instance. The file is pretty big....\n",
    "\n",
    "The direct zip download of this file is [here](https://geonames.usgs.gov/docs/stategaz/NationalFile.zip)."
   ]
  },
  {
   "cell_type": "code",
   "execution_count": null,
   "id": "99055302-7c93-49c2-8838-68299d4d5756",
   "metadata": {},
   "outputs": [],
   "source": [
    "# first download and unzip the data\n",
    "!mkdir -p data\n",
    "!wget https://geonames.usgs.gov/docs/stategaz/NationalFile.zip -P data/\n",
    "!unzip -u data/NationalFile.zip -d data/"
   ]
  },
  {
   "cell_type": "code",
   "execution_count": null,
   "id": "2f00c964-96f5-4d01-a92d-2f4d052a8557",
   "metadata": {},
   "outputs": [],
   "source": [
    "import os\n",
    "fname = os.path.join(\"data\", \"NationalFile_20210825.txt\")\n",
    "fname"
   ]
  },
  {
   "cell_type": "code",
   "execution_count": null,
   "id": "4715cf3f-1dcb-4244-bbbb-3a88e45c9624",
   "metadata": {},
   "outputs": [],
   "source": [
    "!du -h {fname} # big file"
   ]
  },
  {
   "cell_type": "code",
   "execution_count": null,
   "id": "e3361b10-db66-4ad2-be2d-9599cb28267b",
   "metadata": {},
   "outputs": [],
   "source": [
    "!head -c 1024 {fname}"
   ]
  },
  {
   "cell_type": "code",
   "execution_count": null,
   "id": "d0c435a1-f131-4762-b4f8-dbdff73c406f",
   "metadata": {},
   "outputs": [],
   "source": [
    "# next, load it into pandas\n",
    "import pandas as pd\n",
    "\n",
    "national = pd.read_csv(\"data/NationalFile_20210825.txt\", delimiter=\"|\")\n",
    "national.head(2)"
   ]
  },
  {
   "cell_type": "code",
   "execution_count": null,
   "id": "321f570c-9920-439a-bebb-37603261ab17",
   "metadata": {},
   "outputs": [],
   "source": [
    "national = national.rename(columns=dict([(col, col.lower().strip()) for col in national.columns]))\n",
    "national.head(2)"
   ]
  },
  {
   "cell_type": "markdown",
   "id": "fbb656a8-a78c-4ad5-8c06-bf84a9ef10e3",
   "metadata": {},
   "source": [
    "Next, get a table sample in pandas."
   ]
  },
  {
   "cell_type": "code",
   "execution_count": null,
   "id": "cdd0dd58-7404-4bba-a2a1-45cc7e955820",
   "metadata": {},
   "outputs": [],
   "source": [
    "import numpy as np\n",
    "\n",
    "p = 0.005 # fraction, not percentage\n",
    "\n",
    "np.random.seed(42)\n",
    "national['keep_bool'] = np.random.random(len(national)) < p\n",
    "national['keep_bool'].value_counts()"
   ]
  },
  {
   "cell_type": "code",
   "execution_count": null,
   "id": "64f4bcfe-bdef-4ab6-b232-8cc9e82ca633",
   "metadata": {},
   "outputs": [],
   "source": [
    "national = national[national['keep_bool']].drop(columns=['keep_bool'])\n",
    "national"
   ]
  },
  {
   "cell_type": "markdown",
   "id": "f9826ada-8db4-4859-b6e3-4fd3066938c9",
   "metadata": {},
   "source": [
    "Now, export to SQL"
   ]
  },
  {
   "cell_type": "code",
   "execution_count": null,
   "id": "1dd90532-61ac-4d68-a839-bed97666a376",
   "metadata": {},
   "outputs": [],
   "source": [
    "!psql -h localhost -d gnis -c 'SELECT pg_terminate_backend(pg_stat_activity.pid) FROM pg_stat_activity WHERE datname = current_database() AND pid <> pg_backend_pid();'\n",
    "!psql -h localhost -c 'DROP DATABASE IF EXISTS gnis'\n",
    "!psql -h localhost -c 'CREATE DATABASE gnis' "
   ]
  },
  {
   "cell_type": "code",
   "execution_count": null,
   "id": "a76161d9-2370-4275-834e-f15b5b81da16",
   "metadata": {},
   "outputs": [],
   "source": [
    "%reload_ext sql\n",
    "%sql postgresql://127.0.0.1:5432/gnis"
   ]
  },
  {
   "cell_type": "code",
   "execution_count": null,
   "id": "ee7eac4a-2110-40b4-9064-91876653af08",
   "metadata": {},
   "outputs": [],
   "source": [
    "%sql --persist-replace national"
   ]
  },
  {
   "cell_type": "code",
   "execution_count": null,
   "id": "770a98d3-6388-4f01-a6cb-eb1ca322fc1d",
   "metadata": {},
   "outputs": [],
   "source": [
    "%sql ALTER TABLE national DROP COLUMN index;"
   ]
  },
  {
   "cell_type": "markdown",
   "id": "24de591a-a1cf-44ec-a9ee-112ed166c7fc",
   "metadata": {},
   "source": [
    "Now, export to file with `pgdump`"
   ]
  },
  {
   "cell_type": "code",
   "execution_count": null,
   "id": "93ed1c8d-de4b-4a3f-9f01-cd698d42d34e",
   "metadata": {},
   "outputs": [],
   "source": [
    "!pg_dump -h localhost --encoding utf8 gnis -f data/gnis.sql "
   ]
  },
  {
   "cell_type": "markdown",
   "id": "c691dbce-7394-4c8d-8113-fbbd60071001",
   "metadata": {},
   "source": [
    "Finally, run the beginning of this notebook again"
   ]
  },
  {
   "cell_type": "code",
   "execution_count": null,
   "id": "8785039e-d71d-4867-8e46-c7f8561076cb",
   "metadata": {},
   "outputs": [],
   "source": [
    "!du -h data/gnis.sql"
   ]
  },
  {
   "cell_type": "code",
   "execution_count": null,
   "id": "f08f024b",
   "metadata": {},
   "outputs": [],
   "source": []
  },
  {
   "cell_type": "markdown",
   "id": "f23942b6-b191-4d31-99e0-23c7ee21c08f",
   "metadata": {},
   "source": [
    "## FIPS\n",
    "\n",
    "Federal Information Processing System (FIPS) Codes for States and Counties\n",
    "\n",
    "Manually download the file from this link (https://transition.fcc.gov/oet/info/maps/census/fips/fips.txt) and save it in `data/`.\n",
    "* `wget` does not work here; likely the FCC website only accepts HTTPS connections to deter from server attacks."
   ]
  },
  {
   "cell_type": "code",
   "execution_count": null,
   "id": "b7069660-154d-4808-b2fc-dd9f9c0638e9",
   "metadata": {},
   "outputs": [],
   "source": [
    "!wget https://transition.fcc.gov/oet/info/maps/census/fips/fips.txt -P data/"
   ]
  },
  {
   "cell_type": "code",
   "execution_count": null,
   "id": "30a1f3f7-6fd8-40cb-b0fe-0e746e6d5a4e",
   "metadata": {},
   "outputs": [],
   "source": [
    "import pandas as pd\n",
    "import re"
   ]
  },
  {
   "cell_type": "code",
   "execution_count": null,
   "id": "4a2d3005-1db9-4854-9e09-710170db2515",
   "metadata": {},
   "outputs": [],
   "source": [
    "with open('data/fips.txt', 'r') as f:\n",
    "    lines = f.readlines()"
   ]
  },
  {
   "cell_type": "code",
   "execution_count": null,
   "id": "7ff5adf6-dd2b-4452-863a-4b111aea9155",
   "metadata": {},
   "outputs": [],
   "source": [
    "COUNTY_STARTS = 69\n",
    "OFFSET = 3 # the start of the data itself, after headers"
   ]
  },
  {
   "cell_type": "code",
   "execution_count": null,
   "id": "f32adf37-bdb2-4fdf-afe4-d8d9bcf99221",
   "metadata": {},
   "outputs": [],
   "source": [
    "re.match('\\s+(\\d+)\\s+(\\w+)', lines[COUNTY_STARTS+3]).groups()"
   ]
  },
  {
   "cell_type": "code",
   "execution_count": null,
   "id": "9bea5ec5-8ce8-4c82-ae96-9e512c7908cb",
   "metadata": {},
   "outputs": [],
   "source": [
    "splits = [re.match('\\s+(\\d+)\\s+(.*)', line).groups()\n",
    "          for line in \n",
    "          lines[COUNTY_STARTS+OFFSET:]]\n",
    "splits[0]"
   ]
  },
  {
   "cell_type": "markdown",
   "id": "22d32ca2-1619-42c6-9315-0580378d6a52",
   "metadata": {},
   "source": [
    "**For later**: There is a significant discrepancy between the number of counties created and the number of lines remaining in our dataset. We encourage you to investigate this!"
   ]
  },
  {
   "cell_type": "code",
   "execution_count": null,
   "id": "5b224827-4728-4cb0-9c5d-6bb6090d7d1c",
   "metadata": {},
   "outputs": [],
   "source": [
    "len(lines), len(splits)"
   ]
  },
  {
   "cell_type": "markdown",
   "id": "08c6ce55-a854-40ec-b966-ca6bb81749fc",
   "metadata": {},
   "source": [
    "> FIPS codes are numbers which uniquely identify geographic areas.  The number of \n",
    "digits in FIPS codes vary depending on the level of geography.  State-level FIPS\n",
    "codes have two digits, county-level FIPS codes have five digits of which the \n",
    "first two are the FIPS code of the state to which the county belongs.  When \n",
    "using the list below to look up county FIPS codes, it is advisable to first look\n",
    "up the FIPS code for the state to which the county belongs.  This will help you\n",
    "identify the right section of the list while scrolling down, which can be\n",
    "important since there are over 3000 counties and county-equivalents (e.g.\n",
    "independent cities, parishes, boroughs) in the United States."
   ]
  },
  {
   "cell_type": "code",
   "execution_count": null,
   "id": "24e524bf-a426-4496-bc10-85d190e28fdf",
   "metadata": {},
   "outputs": [],
   "source": [
    "fips_counties = pd.DataFrame(data=splits, columns=['fips', 'county'])\n",
    "fips_counties['state_numeric'] = fips_counties['fips'].str[:2].astype(int)\n",
    "fips_counties['fips'] = fips_counties['fips'].astype(int)\n",
    "fips_counties = fips_counties.set_index('fips')\n",
    "fips_counties"
   ]
  },
  {
   "cell_type": "code",
   "execution_count": null,
   "id": "5e0cb694-c6e6-4e1e-bf3f-ee089dec5c67",
   "metadata": {},
   "outputs": [],
   "source": [
    "%reload_ext sql\n",
    "%sql postgresql://127.0.0.1:5432/gnis"
   ]
  },
  {
   "cell_type": "code",
   "execution_count": null,
   "id": "1be602a5-3dc8-4563-ae22-f2b0942c2c22",
   "metadata": {},
   "outputs": [],
   "source": [
    "%sql --persist-replace fips_counties"
   ]
  },
  {
   "cell_type": "markdown",
   "id": "1e715614-b12a-4600-9e59-b56b3a6c3ba4",
   "metadata": {},
   "source": [
    "Now, export to file with `pgdump`. This exports both `national` and `fips_counties` relations to the same `gnis.sql` database dump."
   ]
  },
  {
   "cell_type": "code",
   "execution_count": null,
   "id": "9d29b59d-1541-4785-af93-a68ef78c5867",
   "metadata": {},
   "outputs": [],
   "source": [
    "!pg_dump -h localhost --encoding utf8 gnis -f data/gnis.sql "
   ]
  },
  {
   "cell_type": "markdown",
   "id": "0cc90374-d50d-4273-a4ea-c20d02d9c3fe",
   "metadata": {},
   "source": [
    "Finally, run the beginning of this notebook again"
   ]
  },
  {
   "cell_type": "code",
   "execution_count": null,
   "id": "179db232-127d-4f0f-95f9-3e95c1f45167",
   "metadata": {},
   "outputs": [],
   "source": [
    "!du -h data/gnis.sql"
   ]
  },
  {
   "cell_type": "code",
   "execution_count": null,
   "id": "5b6bbb46-9a95-4b95-b773-b7e99c211060",
   "metadata": {},
   "outputs": [],
   "source": []
  }
 ],
 "metadata": {
  "kernelspec": {
   "display_name": "Python 3 (ipykernel)",
   "language": "python",
   "name": "python3"
  },
  "language_info": {
   "codemirror_mode": {
    "name": "ipython",
    "version": 3
   },
   "file_extension": ".py",
   "mimetype": "text/x-python",
   "name": "python",
   "nbconvert_exporter": "python",
   "pygments_lexer": "ipython3",
   "version": "3.11.10"
  },
  "widgets": {
   "application/vnd.jupyter.widget-state+json": {
    "state": {},
    "version_major": 2,
    "version_minor": 0
   }
  }
 },
 "nbformat": 4,
 "nbformat_minor": 5
}
