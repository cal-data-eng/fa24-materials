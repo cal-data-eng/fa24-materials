{
 "cells": [
  {
   "cell_type": "markdown",
   "id": "6f4dc967-c97c-449d-b983-837def50668c",
   "metadata": {},
   "source": [
    "# Lecture 11: GNIS"
   ]
  },
  {
   "cell_type": "code",
   "execution_count": null,
   "id": "eebaaefa-68c6-49a7-a947-05c1288bdaec",
   "metadata": {},
   "outputs": [],
   "source": [
    "import numpy as np\n",
    "import pandas as pd"
   ]
  },
  {
   "cell_type": "markdown",
   "id": "c96c86c3-32e7-4d18-99b8-59e64cfcc9b7",
   "metadata": {},
   "source": [
    "---\n",
    "\n",
    "# Scalar Functions and Query Plans"
   ]
  },
  {
   "cell_type": "code",
   "execution_count": null,
   "id": "4e2bd0d6-d390-45c9-bb8f-198e9045903d",
   "metadata": {},
   "outputs": [],
   "source": [
    "## we'll use the Lahman baseball database in our examples today.\n",
    "## replace the database connection with a database of your own!\n",
    "%reload_ext sql\n",
    "%sql postgresql://localhost:5432/baseball\n",
    "%config SqlMagic.displaylimit = 20"
   ]
  },
  {
   "cell_type": "code",
   "execution_count": null,
   "id": "5e15b5e7-6f42-4d79-991a-8620d2f22bd4",
   "metadata": {},
   "outputs": [],
   "source": [
    "%%sql\n",
    "WITH year_num AS\n",
    "  (SELECT year_id, (year_id % 100) as year\n",
    "     FROM batting\n",
    "  )\n",
    "SELECT year_id, CONCAT('''', LPAD(year::text, 2, '0')) as year\n",
    "  FROM year_num\n",
    " LIMIT 5;"
   ]
  },
  {
   "cell_type": "markdown",
   "id": "a88f1cb4-5dd8-480d-8bf7-a3f2e0a2fe84",
   "metadata": {},
   "source": [
    "Let's analyze the below query (we've flattened it for convenience):"
   ]
  },
  {
   "cell_type": "code",
   "execution_count": null,
   "id": "d472387b-b9b4-4264-bfa4-159dfed000d9",
   "metadata": {},
   "outputs": [],
   "source": [
    "%%sql\n",
    "EXPLAIN (VERBOSE true)\n",
    "SELECT year_id,\n",
    "       CONCAT('''', LPAD((year_id % 100)::text, 2, '0')) AS year\n",
    "FROM batting;\n"
   ]
  },
  {
   "cell_type": "markdown",
   "id": "2f11053d-e442-4a23-b2c0-ab5d8d858359",
   "metadata": {},
   "source": [
    "What if scalar functions mention multiple tables?\n",
    "\n",
    "The below query computes an arbitrary statistic for pitchers:\n",
    "* 1 point for every strikeout they throw as pitcher\n",
    "* –1 for every point they themselves struck out as batter\n",
    "\n",
    "If the notebook-like output is hard to read, try out the query in `psql`. Note that notebooks don't preserve whitespace when displaying dataframes."
   ]
  },
  {
   "cell_type": "code",
   "execution_count": null,
   "id": "76122e53-5bd6-4f79-93be-d9bf79685f0d",
   "metadata": {},
   "outputs": [],
   "source": [
    "%%sql\n",
    "EXPLAIN (VERBOSE true)\n",
    "SELECT p.player_id, p.so - b.so\n",
    "  FROM pitching p\n",
    "  INNER JOIN batting b\n",
    "  ON p.player_id=b.player_id;"
   ]
  },
  {
   "cell_type": "markdown",
   "id": "98faa532-b8b4-4ef4-8ef7-51868bc1f804",
   "metadata": {},
   "source": [
    "### Window Functions"
   ]
  },
  {
   "cell_type": "code",
   "execution_count": null,
   "id": "a7ee3734-e509-43a5-914e-d194f9a324e3",
   "metadata": {},
   "outputs": [],
   "source": [
    "%%sql\n",
    "SELECT name_first, name_last, year_id, HR,\n",
    "       rank() OVER (ORDER BY HR DESC),\n",
    "       avg(HR)    OVER (PARTITION BY b.player_id ORDER BY year_id ROWS 3 PRECEDING) as avg_3yr,\n",
    "       lag(HR, 7) OVER (PARTITION BY b.player_id ORDER BY year_id) as previous,\n",
    "       lag(HR, 2) OVER (PARTITION BY b.player_id ORDER BY year_id) as lag2\n",
    "FROM batting b, master m\n",
    "WHERE m.player_id = b.player_id\n",
    "   AND (name_last = 'Bonds' or name_last = 'Ruth')\n",
    "ORDER BY HR DESC\n",
    "LIMIT 10;"
   ]
  },
  {
   "cell_type": "markdown",
   "id": "c15e494e-b294-4073-b9c2-e8e67094bd9b",
   "metadata": {},
   "source": [
    "### Inverse Distribution Window Functions"
   ]
  },
  {
   "cell_type": "code",
   "execution_count": null,
   "id": "dfc97afe-151a-4b58-b981-8185c5bf35f0",
   "metadata": {},
   "outputs": [],
   "source": [
    "%%sql\n",
    "SELECT MIN(HR),\n",
    "       percentile_cont(0.25) WITHIN GROUP (ORDER BY HR) AS p25,\n",
    "       percentile_cont(0.50) WITHIN GROUP (ORDER BY HR) AS median,\n",
    "       percentile_cont(0.75) WITHIN GROUP (ORDER BY HR) AS p75,\n",
    "       percentile_cont(0.99) WITHIN GROUP (ORDER BY HR) AS p99,\n",
    "       MAX(HR),\n",
    "       AVG(HR) AS \"average hit rate\"\n",
    "FROM batting;"
   ]
  },
  {
   "cell_type": "code",
   "execution_count": null,
   "id": "a540915b-40d4-49ad-9392-706c5f255765",
   "metadata": {},
   "outputs": [],
   "source": [
    "%%sql\n",
    "SELECT HR, COUNT(*) FROM batting GROUP BY HR ORDER BY HR DESC;"
   ]
  },
  {
   "cell_type": "markdown",
   "id": "b66a1035-8e9b-4538-b3bc-e178f874b0ad",
   "metadata": {},
   "source": [
    "### Hypothetical-Set Window Functions"
   ]
  },
  {
   "cell_type": "code",
   "execution_count": null,
   "id": "9cdb4fa9-d3e8-4f08-b09f-0c486b6a37da",
   "metadata": {},
   "outputs": [],
   "source": [
    "hrs = 4 # hypothetically, four home runs"
   ]
  },
  {
   "cell_type": "code",
   "execution_count": null,
   "id": "3e15d361-9066-4bcf-b703-1cdd3e220ae4",
   "metadata": {},
   "outputs": [],
   "source": [
    "%%sql\n",
    "SELECT {{hrs}} as hypothetical,\n",
    "       rank({{hrs}}) WITHIN GROUP (ORDER BY HR DESC),\n",
    "       dense_rank({{hrs}}) WITHIN GROUP (ORDER BY HR DESC),\n",
    "       percent_rank({{hrs}}) WITHIN GROUP (ORDER BY HR DESC) * 100 AS pct_rank,\n",
    "       cume_dist({{hrs}}) WITHIN GROUP (ORDER BY HR)\n",
    "FROM batting\n",
    "LIMIT 10;"
   ]
  },
  {
   "cell_type": "markdown",
   "id": "085085a0-ace7-439b-a25e-a878fa7a6a3f",
   "metadata": {},
   "source": [
    "Without `jupysql` variable substituion"
   ]
  },
  {
   "cell_type": "code",
   "execution_count": null,
   "id": "74712a9b-100a-401a-99e1-e95eb342892c",
   "metadata": {},
   "outputs": [],
   "source": [
    "%%sql\n",
    "SELECT 4 as hypothetical,\n",
    "       rank(4) WITHIN GROUP (ORDER BY HR DESC),\n",
    "       dense_rank(4) WITHIN GROUP (ORDER BY HR DESC),\n",
    "       percent_rank(4) WITHIN GROUP (ORDER BY HR DESC) * 100 AS pct_rank,\n",
    "       cume_dist(4) WITHIN GROUP (ORDER BY HR)\n",
    "FROM batting\n",
    "LIMIT 10;"
   ]
  },
  {
   "cell_type": "markdown",
   "id": "4bb82259-2c7a-47bb-8550-4ef6587e709b",
   "metadata": {},
   "source": [
    "# GNIS"
   ]
  },
  {
   "cell_type": "markdown",
   "id": "597e9b93-b55b-42ce-92e8-8c67bb559087",
   "metadata": {},
   "source": [
    "This notebook transforms the existing [Geographics Names Information Systems (GNIS)](https://www.usgs.gov/core-science-systems/ngp/board-on-geographic-names/download-gnis-data) national zip file.\n",
    "\n",
    "We have provided a subset of the sql database for you in `data/national.sql`.\n",
    "\n",
    "If you'd like to make your own version of this database, see the end of this notebook. Note: Because of its size, we don't recommend building the GNIS SQL database from scratch on DataHub.\n"
   ]
  },
  {
   "cell_type": "code",
   "execution_count": null,
   "id": "ef2949aa-c387-458b-b232-872f469d6fd9",
   "metadata": {},
   "outputs": [],
   "source": [
    "!psql -h localhost -d gnis -c 'SELECT pg_terminate_backend(pg_stat_activity.pid) FROM pg_stat_activity WHERE datname = current_database() AND pid <> pg_backend_pid();'\n",
    "!psql -h localhost -c 'DROP DATABASE IF EXISTS gnis'\n",
    "!psql -h localhost -c 'CREATE DATABASE gnis' \n",
    "!psql -h localhost -d gnis -f data/gnis.sql"
   ]
  },
  {
   "cell_type": "code",
   "execution_count": null,
   "id": "8fa785a3-e960-41ca-b6db-76f7a19a6250",
   "metadata": {
    "slideshow": {
     "slide_type": "fragment"
    }
   },
   "outputs": [],
   "source": [
    "%reload_ext sql\n",
    "%sql postgresql://localhost:5432/gnis\n",
    "%config SqlMagic.displaylimit = 15"
   ]
  },
  {
   "cell_type": "markdown",
   "id": "a71726db-f43e-48a8-9262-ef99f25fbe60",
   "metadata": {},
   "source": [
    "* View schema in `psql`\n",
    "* View some rows below"
   ]
  },
  {
   "cell_type": "code",
   "execution_count": null,
   "id": "091593dd-e45e-4ae1-b9c6-62510fc51354",
   "metadata": {},
   "outputs": [],
   "source": [
    "%sql SELECT COUNT(*) FROM national;"
   ]
  },
  {
   "cell_type": "code",
   "execution_count": null,
   "id": "c545ddad-148e-4657-8790-2229a8be6126",
   "metadata": {
    "slideshow": {
     "slide_type": "subslide"
    }
   },
   "outputs": [],
   "source": [
    "%sql SELECT * FROM national WHERE county_name = 'Alameda';"
   ]
  },
  {
   "cell_type": "code",
   "execution_count": null,
   "id": "d30a2055-c81b-4f07-a61a-35241a510adc",
   "metadata": {},
   "outputs": [],
   "source": [
    "%%sql\n",
    "SELECT *\n",
    "FROM national TABLESAMPLE BERNOULLI(10);"
   ]
  },
  {
   "cell_type": "markdown",
   "id": "cf7cebdb-246f-4f0e-8022-679e107979f7",
   "metadata": {},
   "source": [
    "# Numerical Granularity"
   ]
  },
  {
   "cell_type": "code",
   "execution_count": null,
   "id": "d22b320d-e7e7-4a7a-8c1b-6c4bc58963b4",
   "metadata": {},
   "outputs": [],
   "source": [
    "%sql SELECT elev_in_m FROM National LIMIT 2;"
   ]
  },
  {
   "cell_type": "code",
   "execution_count": null,
   "id": "8e80edb1-1cf4-4992-b0d9-142291aa63df",
   "metadata": {},
   "outputs": [],
   "source": [
    "%%sql\n",
    "SELECT elev_in_m, \n",
    "    (elev_in_m / 100)::INTEGER AS quantized,\n",
    "    ((elev_in_m / 100)::INTEGER) * 100 AS round_to_100,\n",
    "    SUBSTRING(elev_in_m::TEXT, 1, 2),\n",
    "    CONCAT(SUBSTRING(elev_in_m::TEXT, 1, 2), '00') AS substring2\n",
    "FROM National\n",
    "LIMIT 5;"
   ]
  },
  {
   "cell_type": "code",
   "execution_count": null,
   "id": "6b519edc-61b0-4e14-9f6b-d90bd25e3010",
   "metadata": {},
   "outputs": [],
   "source": [
    "%config SqlMagic.named_parameters=True"
   ]
  },
  {
   "cell_type": "code",
   "execution_count": null,
   "id": "e87127ca",
   "metadata": {
    "scrolled": true
   },
   "outputs": [],
   "source": [
    "%%sql\n",
    "/* does not run in jupysql b/c of <<. copy into psql  */\n",
    "SELECT elev_in_m,\n",
    "    (16::INTEGER::BIT(12)) AS bit12, \n",
    "    (16::INTEGER::BIT(12)) << 3\n",
    "FROM national\n",
    "LIMIT 5;"
   ]
  },
  {
   "cell_type": "code",
   "execution_count": null,
   "id": "99908613-5a25-4c96-b5fe-8bc8e001cfe1",
   "metadata": {},
   "outputs": [],
   "source": [
    "%%sql\n",
    "EXPLAIN (verbose)\n",
    "WITH shifts AS (\n",
    "SELECT elev_in_m, \n",
    "       (elev_in_m::integer::bit(12)) AS bit12, \n",
    "       (elev_in_m::integer::bit(12) >> 8) AS rightshifted, \n",
    "       ((elev_in_m::integer::bit(12) >> 8) << 8)::integer AS round_to_256,\n",
    "       ((elev_in_m::integer::bit(12) >> 8) << 8)::integer % 256 AS test\n",
    "  FROM national\n",
    ")\n",
    "SELECT COUNT(DISTINCT elev_in_m) AS elevation_meters_count,\n",
    "       COUNT(DISTINCT bit12) AS bit12_count,\n",
    "       COUNT(DISTINCT rightshifted) AS rightshift_count,\n",
    "       COUNT(DISTINCT round_to_256) AS rounded_count\n",
    "  FROM shifts;"
   ]
  },
  {
   "cell_type": "markdown",
   "id": "4e417c67-7e50-4ed6-89ee-486bd88a04ed",
   "metadata": {},
   "source": [
    "# Demo 1: Roll-up / Drill-down Practice"
   ]
  },
  {
   "cell_type": "markdown",
   "id": "5c3b6831-818e-4d57-858f-86cf99a26c8a",
   "metadata": {
    "slideshow": {
     "slide_type": "subslide"
    }
   },
   "source": [
    "Let's start with county-level data on elevations:"
   ]
  },
  {
   "cell_type": "code",
   "execution_count": null,
   "id": "c16651e9-d678-4d7f-9047-a178be243275",
   "metadata": {},
   "outputs": [],
   "source": [
    "%%sql\n",
    "SELECT state_numeric, county_numeric,\n",
    "       avg(elev_in_m),\n",
    "       stddev(elev_in_m), count(*)\n",
    "FROM national TABLESAMPLE BERNOULLI(10)\n",
    "GROUP BY state_numeric, county_numeric;"
   ]
  },
  {
   "cell_type": "markdown",
   "id": "19460db6-5e19-4eaa-be01-e7c3b257ace8",
   "metadata": {},
   "source": [
    "**Roll up** to state level.\n",
    "* We save the view as `state_elevations` for later..."
   ]
  },
  {
   "cell_type": "code",
   "execution_count": null,
   "id": "b1eb0307-fee1-4692-ae8a-eb372f382e9f",
   "metadata": {},
   "outputs": [],
   "source": [
    "%%sql\n",
    "DROP VIEW IF EXISTS state_elevations;\n",
    "\n",
    "CREATE VIEW state_elevations AS\n",
    "SELECT state_numeric,\n",
    "       avg(elev_in_m),\n",
    "       stddev(elev_in_m), count(*)\n",
    "FROM national \n",
    "GROUP BY state_numeric\n",
    ";"
   ]
  },
  {
   "cell_type": "code",
   "execution_count": null,
   "id": "e3b4b1b9-b048-43a7-8f97-67ae63332136",
   "metadata": {},
   "outputs": [],
   "source": [
    "%sql SELECT * FROM state_elevations;"
   ]
  },
  {
   "cell_type": "markdown",
   "id": "320ca632-1a77-48ab-9492-f9a2c8582e14",
   "metadata": {},
   "source": [
    "**Drill down** to include feature class."
   ]
  },
  {
   "cell_type": "code",
   "execution_count": null,
   "id": "420b6d32-0d4b-47f4-9863-9634efa0d8f0",
   "metadata": {},
   "outputs": [],
   "source": [
    "%%sql\n",
    "SELECT state_numeric, feature_class,\n",
    "       avg(elev_in_m),\n",
    "       stddev(elev_in_m), count(*)\n",
    "FROM national TABLESAMPLE Bernoulli(10)\n",
    "GROUP BY state_numeric, feature_class\n",
    "ORDER BY count(*) DESC;"
   ]
  },
  {
   "cell_type": "markdown",
   "id": "82cc3430-68a0-4f69-b94f-a13dce1a06c6",
   "metadata": {},
   "source": [
    "# Demo 2: Connections to Statistics"
   ]
  },
  {
   "cell_type": "markdown",
   "id": "a2bcfd68-94c4-44f9-8a87-deb780009b57",
   "metadata": {},
   "source": [
    "## Roll up with marginal distributions"
   ]
  },
  {
   "cell_type": "code",
   "execution_count": null,
   "id": "08fd169e-3350-4164-bd04-10755730d459",
   "metadata": {},
   "outputs": [],
   "source": [
    "%%sql\n",
    "SELECT state_numeric,\n",
    "       AVG(elev_in_m),\n",
    "       STDDEV(elev_in_m), COUNT(*),\n",
    "       SUM(COUNT(*)) OVER () AS total,\n",
    "       COUNT(*)/SUM(COUNT(*)) OVER () AS marginal\n",
    "FROM national TABLESAMPLE Bernoulli(.07)\n",
    "GROUP BY state_numeric;"
   ]
  },
  {
   "cell_type": "code",
   "execution_count": null,
   "id": "845b5b39-689a-4852-82ca-8defa998b857",
   "metadata": {},
   "outputs": [],
   "source": [
    "%%sql\n",
    "SELECT COUNT(DISTINCT county_numeric) FROM national;"
   ]
  },
  {
   "cell_type": "markdown",
   "id": "f9cdb304-5969-4721-b38d-b9ff8ad0e200",
   "metadata": {},
   "source": [
    "## Drill down with normally-distributed elevations:"
   ]
  },
  {
   "cell_type": "markdown",
   "id": "8a165109-8d5c-483c-8292-e1d03cf9ee44",
   "metadata": {},
   "source": [
    "Start with the `state_elevations` view from earlier:"
   ]
  },
  {
   "cell_type": "code",
   "execution_count": null,
   "id": "2b5c7c41-445c-4f16-bd06-77ba45786e50",
   "metadata": {},
   "outputs": [],
   "source": [
    "%sql SELECT * FROM state_elevations;"
   ]
  },
  {
   "cell_type": "markdown",
   "id": "b149280a-7e2d-4ed7-bddc-7a2a9323f40b",
   "metadata": {},
   "source": [
    "The `fips_counties` relation has all counties, including those not in `national`:"
   ]
  },
  {
   "cell_type": "code",
   "execution_count": null,
   "id": "5ce7a086-4b77-4b30-86ae-bd553aa51539",
   "metadata": {},
   "outputs": [],
   "source": [
    "%sql SELECT * FROM fips_counties LIMIT 10;"
   ]
  },
  {
   "cell_type": "markdown",
   "id": "7d004af6-eafb-4c14-b44e-0fc813dd36e7",
   "metadata": {},
   "source": [
    "If we wanted to **drill down** to the FIPS counties, we'd need to simulate an elevation for those counties that don't exist in `national`.\n",
    "\n",
    "Here's the first step in that process, which creates a simulated value for *every* county in `fips_counties`.\n",
    "* The value is simulated from a normal distribution using that state's elevation statistics (average, standard deviation).\n",
    "* Just like a Python package, we would need to import `tablefunc` in order to use the `normal_rand` function."
   ]
  },
  {
   "cell_type": "code",
   "execution_count": null,
   "id": "c76d955d-0c15-4bf7-a2fd-f381192989f9",
   "metadata": {},
   "outputs": [],
   "source": [
    "%sql CREATE EXTENSION IF NOT EXISTS tablefunc;"
   ]
  },
  {
   "cell_type": "code",
   "execution_count": null,
   "id": "541c6f86-bde5-4143-b06d-9bfb927e9bfe",
   "metadata": {},
   "outputs": [],
   "source": [
    "%%sql\n",
    "WITH state_cty AS\n",
    "(SELECT s.state_numeric, f.fips as county_numeric, s.avg, s.stddev, s.count\n",
    "  FROM state_elevations s, fips_counties f\n",
    "  WHERE s.state_numeric = f.state_numeric\n",
    ")\n",
    "SELECT s.*,\n",
    "       n.n AS elev_in_m,\n",
    "       true as elev_in_m_sim -- user-facing flag\n",
    "  FROM state_cty s,\n",
    "       LATERAL normal_rand(CAST(s.count AS INTEGER), s.avg, s.stddev) AS n\n",
    "LIMIT 10;"
   ]
  },
  {
   "cell_type": "markdown",
   "id": "79eca604-ad43-41f4-9411-a9a7c21413db",
   "metadata": {},
   "source": [
    "# Assembling an Explicit Hierarchy"
   ]
  },
  {
   "cell_type": "code",
   "execution_count": null,
   "id": "689edf43-7336-4f4a-84da-d1362d04f367",
   "metadata": {},
   "outputs": [],
   "source": [
    "## we'll use the Lahman baseball database in our initial examples today.\n",
    "## replace the database connection with a database of your own!\n",
    "%reload_ext sql\n",
    "%sql postgresql://localhost:5432/baseball"
   ]
  },
  {
   "cell_type": "markdown",
   "id": "aed8a95a-5ca4-4967-872a-d0143255caa3",
   "metadata": {},
   "source": [
    "Two relations have the pieces of the hierarchy we want:"
   ]
  },
  {
   "cell_type": "code",
   "execution_count": null,
   "id": "196db8eb-ed0c-4e5c-b56d-f6f7217c0753",
   "metadata": {
    "slideshow": {
     "slide_type": "fragment"
    }
   },
   "outputs": [],
   "source": [
    "%sql SELECT * FROM Appearances WHERE yearid > 1970 LIMIT 2;"
   ]
  },
  {
   "cell_type": "code",
   "execution_count": null,
   "id": "53283495-fa7e-459c-8498-09c096cffb7a",
   "metadata": {
    "slideshow": {
     "slide_type": "fragment"
    }
   },
   "outputs": [],
   "source": [
    "%sql SELECT * FROM Teams LIMIT 1;"
   ]
  },
  {
   "cell_type": "markdown",
   "id": "52e0bc5b-8390-4784-a2a5-1dd72b839a33",
   "metadata": {},
   "source": [
    "Let's join these two to make our hierarchy! Which way should we make this?"
   ]
  },
  {
   "cell_type": "code",
   "execution_count": null,
   "id": "8b6581ef-82cf-4314-abc6-eade2bfd929c",
   "metadata": {},
   "outputs": [],
   "source": [
    "%%sql\n",
    "SELECT a.playerid, a.teamid, t.divid, a.*\n",
    "  FROM Appearances a\n",
    "  NATURAL JOIN Teams t\n",
    "WHERE a.yearid = 2015\n",
    "LIMIT 100;"
   ]
  },
  {
   "cell_type": "code",
   "execution_count": null,
   "id": "1355e6ee-c0c9-4f81-835c-192cc610de63",
   "metadata": {},
   "outputs": [],
   "source": [
    "%%sql\n",
    "CREATE OR REPLACE VIEW bball_tree AS\n",
    "SELECT DISTINCT a.playerid, a.teamid, t.divid, a.lgid, a.yearid\n",
    "  FROM Appearances a NATURAL JOIN Teams t;"
   ]
  },
  {
   "cell_type": "markdown",
   "id": "948e46b0-a749-44b3-91ef-e2b58e50146f",
   "metadata": {},
   "source": [
    "### Revisiting the Home Run Query\n",
    "\n",
    "Recall our old home run query:"
   ]
  },
  {
   "cell_type": "code",
   "execution_count": null,
   "id": "5c52f62c-a9bc-4041-b04e-b88f63d46503",
   "metadata": {
    "slideshow": {
     "slide_type": "fragment"
    }
   },
   "outputs": [],
   "source": [
    "%%sql\n",
    "SELECT namefirst, namelast, yearid,\n",
    "       MIN(hr), MAX(hr), AVG(hr), STDDEV(hr), SUM(hr)\n",
    "FROM batting b, people p\n",
    "WHERE b.playerid = p.playerid\n",
    "GROUP BY namelast, namefirst, yearid\n",
    "ORDER BY max DESC\n",
    "LIMIT 10;"
   ]
  },
  {
   "cell_type": "markdown",
   "id": "4433909c-baf0-4744-b196-3ee322086046",
   "metadata": {},
   "source": [
    "Set up for roll up/drill down on `bball_tree` hierarchy.\n",
    "* Join each (raw) person with the associated `bball_tree` entry by `(playerid, yearid)` in a CTE\n",
    "* Use this result for roll-up and drill-down."
   ]
  },
  {
   "cell_type": "markdown",
   "id": "7eee322c-f96c-4576-bf63-c7108226aecb",
   "metadata": {},
   "source": [
    "<br/><br/><br/><br/><br/>\n",
    "<br/><br/><br/><br/><br/>\n",
    "<br/><br/><br/><br/><br/>\n",
    "<br/><br/><br/><br/><br/>"
   ]
  },
  {
   "cell_type": "code",
   "execution_count": null,
   "id": "cd4c5f2e-aef8-4277-bf8f-b70ba01da070",
   "metadata": {},
   "outputs": [],
   "source": [
    "%%sql\n",
    "WITH batting_tree AS\n",
    "(\n",
    "    SELECT b.*, t.divid\n",
    "    FROM batting b, bball_tree t\n",
    "    WHERE b.playerid = t.playerid\n",
    "      AND b.yearid = t.yearid\n",
    ")\n",
    "SELECT namefirst, namelast,\n",
    "       bt.teamid, bt.lgid, bt.divid, bt.yearid,\n",
    "       MIN(hr), MAX(hr), AVG(hr), STDDEV(hr), SUM(hr)\n",
    "FROM batting_tree bt, people p\n",
    "WHERE bt.playerid = p.playerid\n",
    "GROUP BY bt.playerid, bt.teamid, bt.lgid, bt.divid, bt.yearid, namelast, namefirst\n",
    "ORDER BY max DESC\n",
    "LIMIT 10;"
   ]
  },
  {
   "cell_type": "markdown",
   "id": "d53a1df6-caa4-47f3-b921-d494389da1d8",
   "metadata": {},
   "source": [
    "# [Extra] Load in the database from scratch"
   ]
  },
  {
   "cell_type": "markdown",
   "id": "eaa050f7-c788-43b6-99a0-7a3293646c2f",
   "metadata": {},
   "source": [
    "We download the database, unzip it, load it into pandas, then export to a new database via `jupysql` cell magic.\n",
    "\n",
    "**CAUTION**: This may crash your DataHub instance. The file is pretty big....\n",
    "\n",
    "The direct zip download of this file is [here](https://geonames.usgs.gov/docs/stategaz/NationalFile.zip)."
   ]
  },
  {
   "cell_type": "code",
   "execution_count": null,
   "id": "99055302-7c93-49c2-8838-68299d4d5756",
   "metadata": {},
   "outputs": [],
   "source": [
    "# first download and unzip the data\n",
    "!mkdir -p data\n",
    "!wget https://geonames.usgs.gov/docs/stategaz/NationalFile.zip -P data/\n",
    "!unzip -u data/NationalFile.zip -d data/"
   ]
  },
  {
   "cell_type": "code",
   "execution_count": null,
   "id": "2f00c964-96f5-4d01-a92d-2f4d052a8557",
   "metadata": {},
   "outputs": [],
   "source": [
    "import os\n",
    "fname = os.path.join(\"data\", \"NationalFile_20210825.txt\")\n",
    "fname"
   ]
  },
  {
   "cell_type": "code",
   "execution_count": null,
   "id": "4715cf3f-1dcb-4244-bbbb-3a88e45c9624",
   "metadata": {},
   "outputs": [],
   "source": [
    "!du -h {fname} # big file"
   ]
  },
  {
   "cell_type": "code",
   "execution_count": null,
   "id": "e3361b10-db66-4ad2-be2d-9599cb28267b",
   "metadata": {},
   "outputs": [],
   "source": [
    "!head -c 1024 {fname}"
   ]
  },
  {
   "cell_type": "code",
   "execution_count": null,
   "id": "d0c435a1-f131-4762-b4f8-dbdff73c406f",
   "metadata": {},
   "outputs": [],
   "source": [
    "# next, load it into pandas\n",
    "import pandas as pd\n",
    "\n",
    "national = pd.read_csv(\"data/NationalFile_20210825.txt\", delimiter=\"|\")\n",
    "national.head(2)"
   ]
  },
  {
   "cell_type": "code",
   "execution_count": null,
   "id": "321f570c-9920-439a-bebb-37603261ab17",
   "metadata": {},
   "outputs": [],
   "source": [
    "national = national.rename(columns=dict([(col, col.lower().strip()) for col in national.columns]))\n",
    "national.head(2)"
   ]
  },
  {
   "cell_type": "markdown",
   "id": "fbb656a8-a78c-4ad5-8c06-bf84a9ef10e3",
   "metadata": {},
   "source": [
    "Next, get a table sample in pandas."
   ]
  },
  {
   "cell_type": "code",
   "execution_count": null,
   "id": "cdd0dd58-7404-4bba-a2a1-45cc7e955820",
   "metadata": {},
   "outputs": [],
   "source": [
    "import numpy as np\n",
    "\n",
    "p = 0.005 # fraction, not percentage\n",
    "\n",
    "np.random.seed(42)\n",
    "national['keep_bool'] = np.random.random(len(national)) < p\n",
    "national['keep_bool'].value_counts()"
   ]
  },
  {
   "cell_type": "code",
   "execution_count": null,
   "id": "64f4bcfe-bdef-4ab6-b232-8cc9e82ca633",
   "metadata": {},
   "outputs": [],
   "source": [
    "national = national[national['keep_bool']].drop(columns=['keep_bool'])\n",
    "national"
   ]
  },
  {
   "cell_type": "markdown",
   "id": "f9826ada-8db4-4859-b6e3-4fd3066938c9",
   "metadata": {},
   "source": [
    "Now, export to SQL"
   ]
  },
  {
   "cell_type": "code",
   "execution_count": null,
   "id": "1dd90532-61ac-4d68-a839-bed97666a376",
   "metadata": {},
   "outputs": [],
   "source": [
    "!psql -h localhost -d gnis -c 'SELECT pg_terminate_backend(pg_stat_activity.pid) FROM pg_stat_activity WHERE datname = current_database() AND pid <> pg_backend_pid();'\n",
    "!psql -h localhost -c 'DROP DATABASE IF EXISTS gnis'\n",
    "!psql -h localhost -c 'CREATE DATABASE gnis' "
   ]
  },
  {
   "cell_type": "code",
   "execution_count": null,
   "id": "a76161d9-2370-4275-834e-f15b5b81da16",
   "metadata": {},
   "outputs": [],
   "source": [
    "%reload_ext sql\n",
    "%sql postgresql://127.0.0.1:5432/gnis"
   ]
  },
  {
   "cell_type": "code",
   "execution_count": null,
   "id": "ee7eac4a-2110-40b4-9064-91876653af08",
   "metadata": {},
   "outputs": [],
   "source": [
    "%sql --persist-replace national"
   ]
  },
  {
   "cell_type": "code",
   "execution_count": null,
   "id": "770a98d3-6388-4f01-a6cb-eb1ca322fc1d",
   "metadata": {},
   "outputs": [],
   "source": [
    "%sql ALTER TABLE national DROP COLUMN index;"
   ]
  },
  {
   "cell_type": "markdown",
   "id": "24de591a-a1cf-44ec-a9ee-112ed166c7fc",
   "metadata": {},
   "source": [
    "Now, export to file with `pgdump`"
   ]
  },
  {
   "cell_type": "code",
   "execution_count": null,
   "id": "93ed1c8d-de4b-4a3f-9f01-cd698d42d34e",
   "metadata": {},
   "outputs": [],
   "source": [
    "!pg_dump -h localhost --encoding utf8 gnis -f data/gnis.sql "
   ]
  },
  {
   "cell_type": "markdown",
   "id": "c691dbce-7394-4c8d-8113-fbbd60071001",
   "metadata": {},
   "source": [
    "Finally, run the beginning of this notebook again"
   ]
  },
  {
   "cell_type": "code",
   "execution_count": null,
   "id": "8785039e-d71d-4867-8e46-c7f8561076cb",
   "metadata": {},
   "outputs": [],
   "source": [
    "!du -h data/gnis.sql"
   ]
  },
  {
   "cell_type": "code",
   "execution_count": null,
   "id": "f08f024b",
   "metadata": {},
   "outputs": [],
   "source": []
  },
  {
   "cell_type": "markdown",
   "id": "f23942b6-b191-4d31-99e0-23c7ee21c08f",
   "metadata": {},
   "source": [
    "## FIPS\n",
    "\n",
    "Federal Information Processing System (FIPS) Codes for States and Counties\n",
    "\n",
    "Manually download the file from this link (https://transition.fcc.gov/oet/info/maps/census/fips/fips.txt) and save it in `data/`.\n",
    "* `wget` does not work here; likely the FCC website only accepts HTTPS connections to deter from server attacks."
   ]
  },
  {
   "cell_type": "code",
   "execution_count": null,
   "id": "b7069660-154d-4808-b2fc-dd9f9c0638e9",
   "metadata": {},
   "outputs": [],
   "source": [
    "!wget https://transition.fcc.gov/oet/info/maps/census/fips/fips.txt -P data/"
   ]
  },
  {
   "cell_type": "code",
   "execution_count": null,
   "id": "30a1f3f7-6fd8-40cb-b0fe-0e746e6d5a4e",
   "metadata": {},
   "outputs": [],
   "source": [
    "import pandas as pd\n",
    "import re"
   ]
  },
  {
   "cell_type": "code",
   "execution_count": null,
   "id": "4a2d3005-1db9-4854-9e09-710170db2515",
   "metadata": {},
   "outputs": [],
   "source": [
    "with open('data/fips.txt', 'r') as f:\n",
    "    lines = f.readlines()"
   ]
  },
  {
   "cell_type": "code",
   "execution_count": null,
   "id": "7ff5adf6-dd2b-4452-863a-4b111aea9155",
   "metadata": {},
   "outputs": [],
   "source": [
    "COUNTY_STARTS = 69\n",
    "OFFSET = 3 # the start of the data itself, after headers"
   ]
  },
  {
   "cell_type": "code",
   "execution_count": null,
   "id": "f32adf37-bdb2-4fdf-afe4-d8d9bcf99221",
   "metadata": {},
   "outputs": [],
   "source": [
    "re.match('\\s+(\\d+)\\s+(\\w+)', lines[COUNTY_STARTS+3]).groups()"
   ]
  },
  {
   "cell_type": "code",
   "execution_count": null,
   "id": "9bea5ec5-8ce8-4c82-ae96-9e512c7908cb",
   "metadata": {},
   "outputs": [],
   "source": [
    "splits = [re.match('\\s+(\\d+)\\s+(.*)', line).groups()\n",
    "          for line in \n",
    "          lines[COUNTY_STARTS+OFFSET:]]\n",
    "splits[0]"
   ]
  },
  {
   "cell_type": "markdown",
   "id": "22d32ca2-1619-42c6-9315-0580378d6a52",
   "metadata": {},
   "source": [
    "**For later**: There is a significant discrepancy between the number of counties created and the number of lines remaining in our dataset. We encourage you to investigate this!"
   ]
  },
  {
   "cell_type": "code",
   "execution_count": null,
   "id": "5b224827-4728-4cb0-9c5d-6bb6090d7d1c",
   "metadata": {},
   "outputs": [],
   "source": [
    "len(lines), len(splits)"
   ]
  },
  {
   "cell_type": "markdown",
   "id": "08c6ce55-a854-40ec-b966-ca6bb81749fc",
   "metadata": {},
   "source": [
    "> FIPS codes are numbers which uniquely identify geographic areas.  The number of \n",
    "digits in FIPS codes vary depending on the level of geography.  State-level FIPS\n",
    "codes have two digits, county-level FIPS codes have five digits of which the \n",
    "first two are the FIPS code of the state to which the county belongs.  When \n",
    "using the list below to look up county FIPS codes, it is advisable to first look\n",
    "up the FIPS code for the state to which the county belongs.  This will help you\n",
    "identify the right section of the list while scrolling down, which can be\n",
    "important since there are over 3000 counties and county-equivalents (e.g.\n",
    "independent cities, parishes, boroughs) in the United States."
   ]
  },
  {
   "cell_type": "code",
   "execution_count": null,
   "id": "24e524bf-a426-4496-bc10-85d190e28fdf",
   "metadata": {},
   "outputs": [],
   "source": [
    "fips_counties = pd.DataFrame(data=splits, columns=['fips', 'county'])\n",
    "fips_counties['state_numeric'] = fips_counties['fips'].str[:2].astype(int)\n",
    "fips_counties['fips'] = fips_counties['fips'].astype(int)\n",
    "fips_counties = fips_counties.set_index('fips')\n",
    "fips_counties"
   ]
  },
  {
   "cell_type": "code",
   "execution_count": null,
   "id": "5e0cb694-c6e6-4e1e-bf3f-ee089dec5c67",
   "metadata": {},
   "outputs": [],
   "source": [
    "%reload_ext sql\n",
    "%sql postgresql://127.0.0.1:5432/gnis"
   ]
  },
  {
   "cell_type": "code",
   "execution_count": null,
   "id": "1be602a5-3dc8-4563-ae22-f2b0942c2c22",
   "metadata": {},
   "outputs": [],
   "source": [
    "%sql --persist-replace fips_counties"
   ]
  },
  {
   "cell_type": "markdown",
   "id": "1e715614-b12a-4600-9e59-b56b3a6c3ba4",
   "metadata": {},
   "source": [
    "Now, export to file with `pgdump`. This exports both `national` and `fips_counties` relations to the same `gnis.sql` database dump."
   ]
  },
  {
   "cell_type": "code",
   "execution_count": null,
   "id": "9d29b59d-1541-4785-af93-a68ef78c5867",
   "metadata": {},
   "outputs": [],
   "source": [
    "!pg_dump -h localhost --encoding utf8 gnis -f data/gnis.sql "
   ]
  },
  {
   "cell_type": "markdown",
   "id": "0cc90374-d50d-4273-a4ea-c20d02d9c3fe",
   "metadata": {},
   "source": [
    "Finally, run the beginning of this notebook again"
   ]
  },
  {
   "cell_type": "code",
   "execution_count": null,
   "id": "179db232-127d-4f0f-95f9-3e95c1f45167",
   "metadata": {},
   "outputs": [],
   "source": [
    "!du -h data/gnis.sql"
   ]
  },
  {
   "cell_type": "code",
   "execution_count": null,
   "id": "5b6bbb46-9a95-4b95-b773-b7e99c211060",
   "metadata": {},
   "outputs": [],
   "source": []
  }
 ],
 "metadata": {
  "kernelspec": {
   "display_name": "Python 3 (ipykernel)",
   "language": "python",
   "name": "python3"
  },
  "language_info": {
   "codemirror_mode": {
    "name": "ipython",
    "version": 3
   },
   "file_extension": ".py",
   "mimetype": "text/x-python",
   "name": "python",
   "nbconvert_exporter": "python",
   "pygments_lexer": "ipython3",
   "version": "3.11.10"
  },
  "widgets": {
   "application/vnd.jupyter.widget-state+json": {
    "state": {},
    "version_major": 2,
    "version_minor": 0
   }
  }
 },
 "nbformat": 4,
 "nbformat_minor": 5
}
