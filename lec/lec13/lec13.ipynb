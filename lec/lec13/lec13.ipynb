{
 "cells": [
  {
   "cell_type": "markdown",
   "id": "695318ce-445c-43ee-8f89-c14024d0d63d",
   "metadata": {},
   "source": [
    "# Lecture 13 (Postgres Docs)"
   ]
  },
  {
   "cell_type": "code",
   "execution_count": 1,
   "id": "d5e5e081-9425-4d84-b671-a02333f94c36",
   "metadata": {},
   "outputs": [
    {
     "name": "stdout",
     "output_type": "stream",
     "text": [
      "There's a new jupysql version available (0.10.14), you're running 0.10.0. To upgrade: pip install jupysql --upgrade\n"
     ]
    }
   ],
   "source": [
    "%reload_ext sql"
   ]
  },
  {
   "cell_type": "code",
   "execution_count": 2,
   "id": "26d8c9d6-4511-4d4a-b3e6-f9a6d1d79b9f",
   "metadata": {},
   "outputs": [
    {
     "name": "stdout",
     "output_type": "stream",
     "text": [
      "NOTICE:  database \"lec13\" does not exist, skipping\n",
      "DROP DATABASE\n",
      "CREATE DATABASE\n"
     ]
    }
   ],
   "source": [
    "!psql -h localhost -c 'DROP DATABASE IF EXISTS lec13'\n",
    "!psql -h localhost -c 'CREATE DATABASE lec13' "
   ]
  },
  {
   "cell_type": "code",
   "execution_count": 3,
   "id": "c13687d9-02fa-4dd2-9599-7fd6388ca692",
   "metadata": {},
   "outputs": [],
   "source": [
    "%sql postgresql://127.0.0.1:5432/lec13"
   ]
  },
  {
   "cell_type": "markdown",
   "id": "d519e82b-25bb-40f1-bd9d-00db1ceff62e",
   "metadata": {},
   "source": [
    "# Window Functions"
   ]
  },
  {
   "cell_type": "markdown",
   "id": "495fb550-ee9a-476a-8ac8-7ff70785f520",
   "metadata": {},
   "source": [
    "First set up the table."
   ]
  },
  {
   "cell_type": "code",
   "execution_count": 5,
   "id": "b08ab4ad-d149-4c9e-8c11-fd028414eccd",
   "metadata": {},
   "outputs": [
    {
     "data": {
      "text/html": [
       "<span style=\"None\">Running query in &#x27;postgresql://127.0.0.1:5432/lec13&#x27;</span>"
      ],
      "text/plain": [
       "Running query in 'postgresql://127.0.0.1:5432/lec13'"
      ]
     },
     "metadata": {},
     "output_type": "display_data"
    },
    {
     "data": {
      "text/html": [
       "<span style=\"color: green\">10 rows affected.</span>"
      ],
      "text/plain": [
       "10 rows affected."
      ]
     },
     "metadata": {},
     "output_type": "display_data"
    },
    {
     "data": {
      "text/html": [
       "<span style=\"color: green\">10 rows affected.</span>"
      ],
      "text/plain": [
       "10 rows affected."
      ]
     },
     "metadata": {},
     "output_type": "display_data"
    },
    {
     "data": {
      "text/html": [
       "<table>\n",
       "    <thead>\n",
       "        <tr>\n",
       "            <th>depname</th>\n",
       "            <th>empno</th>\n",
       "            <th>salary</th>\n",
       "        </tr>\n",
       "    </thead>\n",
       "    <tbody>\n",
       "        <tr>\n",
       "            <td>develop</td>\n",
       "            <td>11</td>\n",
       "            <td>5200</td>\n",
       "        </tr>\n",
       "        <tr>\n",
       "            <td>develop</td>\n",
       "            <td>7</td>\n",
       "            <td>4200</td>\n",
       "        </tr>\n",
       "        <tr>\n",
       "            <td>develop</td>\n",
       "            <td>9</td>\n",
       "            <td>4500</td>\n",
       "        </tr>\n",
       "        <tr>\n",
       "            <td>develop</td>\n",
       "            <td>8</td>\n",
       "            <td>6000</td>\n",
       "        </tr>\n",
       "        <tr>\n",
       "            <td>develop</td>\n",
       "            <td>10</td>\n",
       "            <td>5200</td>\n",
       "        </tr>\n",
       "        <tr>\n",
       "            <td>personnel</td>\n",
       "            <td>5</td>\n",
       "            <td>3500</td>\n",
       "        </tr>\n",
       "        <tr>\n",
       "            <td>personnel</td>\n",
       "            <td>2</td>\n",
       "            <td>3900</td>\n",
       "        </tr>\n",
       "        <tr>\n",
       "            <td>sales</td>\n",
       "            <td>3</td>\n",
       "            <td>4800</td>\n",
       "        </tr>\n",
       "        <tr>\n",
       "            <td>sales</td>\n",
       "            <td>1</td>\n",
       "            <td>5000</td>\n",
       "        </tr>\n",
       "        <tr>\n",
       "            <td>sales</td>\n",
       "            <td>4</td>\n",
       "            <td>4800</td>\n",
       "        </tr>\n",
       "    </tbody>\n",
       "</table>\n",
       "<span style=\"font-style:italic;text-align:center;\">Truncated to <a href=\"https://jupysql.ploomber.io/en/latest/api/configuration.html#displaylimit\">displaylimit</a> of 10.</span>"
      ],
      "text/plain": [
       "+-----------+-------+--------+\n",
       "|  depname  | empno | salary |\n",
       "+-----------+-------+--------+\n",
       "|  develop  |   11  |  5200  |\n",
       "|  develop  |   7   |  4200  |\n",
       "|  develop  |   9   |  4500  |\n",
       "|  develop  |   8   |  6000  |\n",
       "|  develop  |   10  |  5200  |\n",
       "| personnel |   5   |  3500  |\n",
       "| personnel |   2   |  3900  |\n",
       "|   sales   |   3   |  4800  |\n",
       "|   sales   |   1   |  5000  |\n",
       "|   sales   |   4   |  4800  |\n",
       "+-----------+-------+--------+\n",
       "Truncated to displaylimit of 10."
      ]
     },
     "execution_count": 5,
     "metadata": {},
     "output_type": "execute_result"
    }
   ],
   "source": [
    "%%sql\n",
    "DROP TABLE IF EXISTS empsalary;\n",
    "CREATE TABLE empsalary (\n",
    "    depname TEXT,\n",
    "    empno INTEGER,\n",
    "    salary INTEGER\n",
    ");\n",
    "\n",
    "INSERT INTO empsalary VALUES\n",
    "    ('develop',  11, 5200),\n",
    "    ('develop',   7, 4200),\n",
    "    ('develop',   9, 4500),\n",
    "    ('develop',   8, 6000),\n",
    "    ('develop',  10, 5200),\n",
    "    ('personnel', 5, 3500),\n",
    "    ('personnel', 2, 3900),\n",
    "    ('sales',     3, 4800),\n",
    "    ('sales',     1, 5000),\n",
    "    ('sales',     4, 4800)\n",
    ";\n",
    "\n",
    "SELECT * FROM empsalary;"
   ]
  },
  {
   "cell_type": "code",
   "execution_count": 21,
   "id": "9649d5e1-d1f0-42d2-8cc7-34a3a228e5d2",
   "metadata": {},
   "outputs": [
    {
     "data": {
      "text/html": [
       "<span style=\"None\">Running query in &#x27;postgresql://127.0.0.1:5432/lec13&#x27;</span>"
      ],
      "text/plain": [
       "Running query in 'postgresql://127.0.0.1:5432/lec13'"
      ]
     },
     "metadata": {},
     "output_type": "display_data"
    },
    {
     "data": {
      "text/html": [
       "<span style=\"color: green\">10 rows affected.</span>"
      ],
      "text/plain": [
       "10 rows affected."
      ]
     },
     "metadata": {},
     "output_type": "display_data"
    },
    {
     "data": {
      "text/html": [
       "<table>\n",
       "    <thead>\n",
       "        <tr>\n",
       "            <th>depname</th>\n",
       "            <th>empno</th>\n",
       "            <th>avg</th>\n",
       "        </tr>\n",
       "    </thead>\n",
       "    <tbody>\n",
       "        <tr>\n",
       "            <td>sales</td>\n",
       "            <td>4</td>\n",
       "            <td>4800.0000000000000000</td>\n",
       "        </tr>\n",
       "        <tr>\n",
       "            <td>develop</td>\n",
       "            <td>11</td>\n",
       "            <td>5200.0000000000000000</td>\n",
       "        </tr>\n",
       "        <tr>\n",
       "            <td>develop</td>\n",
       "            <td>7</td>\n",
       "            <td>4200.0000000000000000</td>\n",
       "        </tr>\n",
       "        <tr>\n",
       "            <td>sales</td>\n",
       "            <td>1</td>\n",
       "            <td>5000.0000000000000000</td>\n",
       "        </tr>\n",
       "        <tr>\n",
       "            <td>develop</td>\n",
       "            <td>8</td>\n",
       "            <td>6000.0000000000000000</td>\n",
       "        </tr>\n",
       "        <tr>\n",
       "            <td>personnel</td>\n",
       "            <td>5</td>\n",
       "            <td>3500.0000000000000000</td>\n",
       "        </tr>\n",
       "        <tr>\n",
       "            <td>personnel</td>\n",
       "            <td>2</td>\n",
       "            <td>3900.0000000000000000</td>\n",
       "        </tr>\n",
       "        <tr>\n",
       "            <td>sales</td>\n",
       "            <td>3</td>\n",
       "            <td>4800.0000000000000000</td>\n",
       "        </tr>\n",
       "        <tr>\n",
       "            <td>develop</td>\n",
       "            <td>9</td>\n",
       "            <td>4500.0000000000000000</td>\n",
       "        </tr>\n",
       "        <tr>\n",
       "            <td>develop</td>\n",
       "            <td>10</td>\n",
       "            <td>5200.0000000000000000</td>\n",
       "        </tr>\n",
       "    </tbody>\n",
       "</table>\n",
       "<span style=\"font-style:italic;text-align:center;\">Truncated to <a href=\"https://jupysql.ploomber.io/en/latest/api/configuration.html#displaylimit\">displaylimit</a> of 10.</span>"
      ],
      "text/plain": [
       "+-----------+-------+-----------------------+\n",
       "|  depname  | empno |          avg          |\n",
       "+-----------+-------+-----------------------+\n",
       "|   sales   |   4   | 4800.0000000000000000 |\n",
       "|  develop  |   11  | 5200.0000000000000000 |\n",
       "|  develop  |   7   | 4200.0000000000000000 |\n",
       "|   sales   |   1   | 5000.0000000000000000 |\n",
       "|  develop  |   8   | 6000.0000000000000000 |\n",
       "| personnel |   5   | 3500.0000000000000000 |\n",
       "| personnel |   2   | 3900.0000000000000000 |\n",
       "|   sales   |   3   | 4800.0000000000000000 |\n",
       "|  develop  |   9   | 4500.0000000000000000 |\n",
       "|  develop  |   10  | 5200.0000000000000000 |\n",
       "+-----------+-------+-----------------------+\n",
       "Truncated to displaylimit of 10."
      ]
     },
     "execution_count": 21,
     "metadata": {},
     "output_type": "execute_result"
    }
   ],
   "source": [
    "%%sql\n",
    "SELECT depname, empno,\n",
    "       AVG(salary)\n",
    "FROM empsalary\n",
    "GROUP BY depname, empno;"
   ]
  },
  {
   "cell_type": "code",
   "execution_count": 24,
   "id": "8798b78b-ca5e-493c-91fd-6be6eb1d62aa",
   "metadata": {},
   "outputs": [
    {
     "data": {
      "text/html": [
       "<span style=\"None\">Running query in &#x27;postgresql://127.0.0.1:5432/lec13&#x27;</span>"
      ],
      "text/plain": [
       "Running query in 'postgresql://127.0.0.1:5432/lec13'"
      ]
     },
     "metadata": {},
     "output_type": "display_data"
    },
    {
     "data": {
      "text/html": [
       "<span style=\"color: green\">10 rows affected.</span>"
      ],
      "text/plain": [
       "10 rows affected."
      ]
     },
     "metadata": {},
     "output_type": "display_data"
    },
    {
     "data": {
      "text/html": [
       "<table>\n",
       "    <thead>\n",
       "        <tr>\n",
       "            <th>depname</th>\n",
       "            <th>empno</th>\n",
       "            <th>salary</th>\n",
       "            <th>sum</th>\n",
       "        </tr>\n",
       "    </thead>\n",
       "    <tbody>\n",
       "        <tr>\n",
       "            <td>personnel</td>\n",
       "            <td>5</td>\n",
       "            <td>3500</td>\n",
       "            <td>3500</td>\n",
       "        </tr>\n",
       "        <tr>\n",
       "            <td>personnel</td>\n",
       "            <td>2</td>\n",
       "            <td>3900</td>\n",
       "            <td>7400</td>\n",
       "        </tr>\n",
       "        <tr>\n",
       "            <td>develop</td>\n",
       "            <td>7</td>\n",
       "            <td>4200</td>\n",
       "            <td>11600</td>\n",
       "        </tr>\n",
       "        <tr>\n",
       "            <td>develop</td>\n",
       "            <td>9</td>\n",
       "            <td>4500</td>\n",
       "            <td>16100</td>\n",
       "        </tr>\n",
       "        <tr>\n",
       "            <td>sales</td>\n",
       "            <td>4</td>\n",
       "            <td>4800</td>\n",
       "            <td>25700</td>\n",
       "        </tr>\n",
       "        <tr>\n",
       "            <td>sales</td>\n",
       "            <td>3</td>\n",
       "            <td>4800</td>\n",
       "            <td>25700</td>\n",
       "        </tr>\n",
       "        <tr>\n",
       "            <td>sales</td>\n",
       "            <td>1</td>\n",
       "            <td>5000</td>\n",
       "            <td>30700</td>\n",
       "        </tr>\n",
       "        <tr>\n",
       "            <td>develop</td>\n",
       "            <td>11</td>\n",
       "            <td>5200</td>\n",
       "            <td>41100</td>\n",
       "        </tr>\n",
       "        <tr>\n",
       "            <td>develop</td>\n",
       "            <td>10</td>\n",
       "            <td>5200</td>\n",
       "            <td>41100</td>\n",
       "        </tr>\n",
       "        <tr>\n",
       "            <td>develop</td>\n",
       "            <td>8</td>\n",
       "            <td>6000</td>\n",
       "            <td>47100</td>\n",
       "        </tr>\n",
       "    </tbody>\n",
       "</table>\n",
       "<span style=\"font-style:italic;text-align:center;\">Truncated to <a href=\"https://jupysql.ploomber.io/en/latest/api/configuration.html#displaylimit\">displaylimit</a> of 10.</span>"
      ],
      "text/plain": [
       "+-----------+-------+--------+-------+\n",
       "|  depname  | empno | salary |  sum  |\n",
       "+-----------+-------+--------+-------+\n",
       "| personnel |   5   |  3500  |  3500 |\n",
       "| personnel |   2   |  3900  |  7400 |\n",
       "|  develop  |   7   |  4200  | 11600 |\n",
       "|  develop  |   9   |  4500  | 16100 |\n",
       "|   sales   |   4   |  4800  | 25700 |\n",
       "|   sales   |   3   |  4800  | 25700 |\n",
       "|   sales   |   1   |  5000  | 30700 |\n",
       "|  develop  |   11  |  5200  | 41100 |\n",
       "|  develop  |   10  |  5200  | 41100 |\n",
       "|  develop  |   8   |  6000  | 47100 |\n",
       "+-----------+-------+--------+-------+\n",
       "Truncated to displaylimit of 10."
      ]
     },
     "execution_count": 24,
     "metadata": {},
     "output_type": "execute_result"
    }
   ],
   "source": [
    "%%sql\n",
    "SELECT depname, empno, salary, \n",
    "      sum(salary) OVER (ORDER BY salary)\n",
    "    FROM empsalary;"
   ]
  },
  {
   "cell_type": "markdown",
   "id": "73736026-e70a-4dfe-a150-29b6b9a85241",
   "metadata": {},
   "source": [
    "## Window frames"
   ]
  },
  {
   "cell_type": "code",
   "execution_count": null,
   "id": "9dc5e022-aae0-4aa2-872b-3aa91c6e51e9",
   "metadata": {},
   "outputs": [],
   "source": [
    "%%sql\n",
    "SELECT depname, salary, sum(salary) OVER () FROM empsalary;"
   ]
  },
  {
   "cell_type": "code",
   "execution_count": null,
   "id": "6b1d93d4-0668-4b33-9f15-3097ae0dc439",
   "metadata": {},
   "outputs": [],
   "source": [
    "%%sql\n",
    "SELECT depname, salary, sum(salary) OVER (ORDER BY salary) FROM empsalary;"
   ]
  },
  {
   "cell_type": "code",
   "execution_count": null,
   "id": "777eec2f-abc0-4128-9261-155896b427ac",
   "metadata": {},
   "outputs": [],
   "source": [
    "%%sql\n",
    "SELECT depname, salary,\n",
    "   sum(salary) OVER (\n",
    "       ORDER BY salary\n",
    "       RANGE BETWEEN UNBOUNDED PRECEDING AND CURRENT ROW)\n",
    "FROM empsalary;"
   ]
  },
  {
   "cell_type": "code",
   "execution_count": null,
   "id": "eef2d457-e43c-4b33-8753-2572ae616f56",
   "metadata": {},
   "outputs": [],
   "source": [
    "%%sql\n",
    "SELECT depname, salary,\n",
    "       sum(salary) OVER (\n",
    "           ORDER BY salary\n",
    "           RANGE BETWEEN UNBOUNDED PRECEDING AND 1 PRECEDING)\n",
    "FROM empsalary;"
   ]
  },
  {
   "cell_type": "code",
   "execution_count": null,
   "id": "803caede-fdba-4e10-9abd-cc45f99799a8",
   "metadata": {},
   "outputs": [],
   "source": [
    "%%sql\n",
    "SELECT depname, salary,\n",
    "       sum(salary) OVER (\n",
    "           PARTITION BY depname\n",
    "           ORDER BY salary)\n",
    "FROM empsalary;"
   ]
  },
  {
   "cell_type": "markdown",
   "id": "f0c0abfd-ab73-4d80-8711-d23e017275f5",
   "metadata": {
    "jp-MarkdownHeadingCollapsed": true
   },
   "source": [
    "### For slide display purposes"
   ]
  },
  {
   "cell_type": "code",
   "execution_count": null,
   "id": "ea63f3c6-2df8-4b45-a821-dffa44b7d731",
   "metadata": {},
   "outputs": [],
   "source": [
    "%%sql\n",
    "SELECT\n",
    "    depname, salary,\n",
    "    sum(salary) OVER () AS a,\n",
    "    sum(salary) OVER (ORDER BY salary) AS b,\n",
    "/*    sum(salary) OVER (\n",
    "      ORDER BY salary\n",
    "      RANGE BETWEEN UNBOUNDED \n",
    "        PRECEDING AND CURRENT ROW) AS b, */\n",
    "    sum(salary) OVER (PARTITION BY \n",
    "      depname ORDER BY salary) AS c\n",
    "FROM empsalary;"
   ]
  },
  {
   "cell_type": "markdown",
   "id": "29827193-bcc4-4e10-b925-e8e381417fb0",
   "metadata": {},
   "source": [
    "# Recursive Queries"
   ]
  },
  {
   "cell_type": "code",
   "execution_count": null,
   "id": "f1583d14-d54b-4148-8e4c-c0c7320f30e5",
   "metadata": {},
   "outputs": [],
   "source": [
    "%%sql\n",
    "WITH RECURSIVE t(n) AS (\n",
    "    VALUES (10)\n",
    "  UNION ALL\n",
    "    SELECT n-1 FROM t WHERE n > 0 \n",
    ")\n",
    "SELECT n FROM t;"
   ]
  },
  {
   "cell_type": "code",
   "execution_count": null,
   "id": "5386acb4-9a6d-4f47-a658-5963e8764c31",
   "metadata": {},
   "outputs": [],
   "source": [
    "%%sql\n",
    "/* A bit harder to understand */\n",
    "WITH RECURSIVE t(n) AS (\n",
    "    VALUES (1)\n",
    "  UNION ALL\n",
    "    SELECT n+1 FROM t WHERE n < 10\n",
    ")\n",
    "SELECT n FROM t;"
   ]
  },
  {
   "cell_type": "code",
   "execution_count": 27,
   "id": "0fc0e5d0-f619-4eaa-b4ac-ee83ce456bb7",
   "metadata": {},
   "outputs": [
    {
     "data": {
      "text/html": [
       "<span style=\"None\">Running query in &#x27;postgresql://127.0.0.1:5432/lec13&#x27;</span>"
      ],
      "text/plain": [
       "Running query in 'postgresql://127.0.0.1:5432/lec13'"
      ]
     },
     "metadata": {},
     "output_type": "display_data"
    },
    {
     "data": {
      "text/html": [
       "<span style=\"color: green\">11 rows affected.</span>"
      ],
      "text/plain": [
       "11 rows affected."
      ]
     },
     "metadata": {},
     "output_type": "display_data"
    },
    {
     "data": {
      "text/html": [
       "<table>\n",
       "    <thead>\n",
       "        <tr>\n",
       "        </tr>\n",
       "    </thead>\n",
       "    <tbody>\n",
       "    </tbody>\n",
       "</table>"
      ],
      "text/plain": [
       "++\n",
       "||\n",
       "++\n",
       "++"
      ]
     },
     "execution_count": 27,
     "metadata": {},
     "output_type": "execute_result"
    }
   ],
   "source": [
    "%%sql\n",
    "DROP TABLE IF EXISTS parts;\n",
    "CREATE TABLE parts (\n",
    "    part TEXT, sub_part TEXT, quantity INTEGER\n",
    ");\n",
    "\n",
    "INSERT INTO parts VALUES\n",
    "    ('A', 'A.1', 1),\n",
    "    ('A', 'A.2', 2),\n",
    "    ('A', 'A.3', 3),\n",
    "    ('B', 'B.1', 1),\n",
    "    ('B', 'B.2', 2),\n",
    "    ('B.2', 'B.2.i', 10),\n",
    "    ('C', 'C.1', 1),\n",
    "    ('C.1', 'C.1.i', 10),\n",
    "    ('C.1.i', 'C.1.i.a', 10),\n",
    "    ('C.1.i', 'C.1.i.b', 20),\n",
    "    ('C.1.i.a', 'C.1.i.a.1', 30)\n",
    ";"
   ]
  },
  {
   "cell_type": "code",
   "execution_count": 34,
   "id": "3a38c509-a0f0-4315-bf58-fbc074dcdecd",
   "metadata": {},
   "outputs": [],
   "source": [
    "%config SqlMagic.displaylimit=15"
   ]
  },
  {
   "cell_type": "code",
   "execution_count": 35,
   "id": "59dd8b9c-8ef2-4f6a-9a10-86c1714686fe",
   "metadata": {},
   "outputs": [
    {
     "data": {
      "text/html": [
       "<span style=\"None\">Running query in &#x27;postgresql://127.0.0.1:5432/lec13&#x27;</span>"
      ],
      "text/plain": [
       "Running query in 'postgresql://127.0.0.1:5432/lec13'"
      ]
     },
     "metadata": {},
     "output_type": "display_data"
    },
    {
     "data": {
      "text/html": [
       "<span style=\"color: green\">11 rows affected.</span>"
      ],
      "text/plain": [
       "11 rows affected."
      ]
     },
     "metadata": {},
     "output_type": "display_data"
    },
    {
     "data": {
      "text/html": [
       "<table>\n",
       "    <thead>\n",
       "        <tr>\n",
       "            <th>part</th>\n",
       "            <th>sub_part</th>\n",
       "            <th>quantity</th>\n",
       "        </tr>\n",
       "    </thead>\n",
       "    <tbody>\n",
       "        <tr>\n",
       "            <td>A</td>\n",
       "            <td>A.1</td>\n",
       "            <td>1</td>\n",
       "        </tr>\n",
       "        <tr>\n",
       "            <td>A</td>\n",
       "            <td>A.2</td>\n",
       "            <td>2</td>\n",
       "        </tr>\n",
       "        <tr>\n",
       "            <td>A</td>\n",
       "            <td>A.3</td>\n",
       "            <td>3</td>\n",
       "        </tr>\n",
       "        <tr>\n",
       "            <td>B</td>\n",
       "            <td>B.1</td>\n",
       "            <td>1</td>\n",
       "        </tr>\n",
       "        <tr>\n",
       "            <td>B</td>\n",
       "            <td>B.2</td>\n",
       "            <td>2</td>\n",
       "        </tr>\n",
       "        <tr>\n",
       "            <td>B.2</td>\n",
       "            <td>B.2.i</td>\n",
       "            <td>10</td>\n",
       "        </tr>\n",
       "        <tr>\n",
       "            <td>C</td>\n",
       "            <td>C.1</td>\n",
       "            <td>1</td>\n",
       "        </tr>\n",
       "        <tr>\n",
       "            <td>C.1</td>\n",
       "            <td>C.1.i</td>\n",
       "            <td>10</td>\n",
       "        </tr>\n",
       "        <tr>\n",
       "            <td>C.1.i</td>\n",
       "            <td>C.1.i.a</td>\n",
       "            <td>10</td>\n",
       "        </tr>\n",
       "        <tr>\n",
       "            <td>C.1.i</td>\n",
       "            <td>C.1.i.b</td>\n",
       "            <td>20</td>\n",
       "        </tr>\n",
       "        <tr>\n",
       "            <td>C.1.i.a</td>\n",
       "            <td>C.1.i.a.1</td>\n",
       "            <td>30</td>\n",
       "        </tr>\n",
       "    </tbody>\n",
       "</table>"
      ],
      "text/plain": [
       "+---------+-----------+----------+\n",
       "|   part  |  sub_part | quantity |\n",
       "+---------+-----------+----------+\n",
       "|    A    |    A.1    |    1     |\n",
       "|    A    |    A.2    |    2     |\n",
       "|    A    |    A.3    |    3     |\n",
       "|    B    |    B.1    |    1     |\n",
       "|    B    |    B.2    |    2     |\n",
       "|   B.2   |   B.2.i   |    10    |\n",
       "|    C    |    C.1    |    1     |\n",
       "|   C.1   |   C.1.i   |    10    |\n",
       "|  C.1.i  |  C.1.i.a  |    10    |\n",
       "|  C.1.i  |  C.1.i.b  |    20    |\n",
       "| C.1.i.a | C.1.i.a.1 |    30    |\n",
       "+---------+-----------+----------+"
      ]
     },
     "execution_count": 35,
     "metadata": {},
     "output_type": "execute_result"
    }
   ],
   "source": [
    "%%sql \n",
    "SELECT * FROM parts;"
   ]
  },
  {
   "cell_type": "code",
   "execution_count": 36,
   "id": "3971a4c9-65ad-4611-a535-424283ae486e",
   "metadata": {},
   "outputs": [
    {
     "data": {
      "text/html": [
       "<span style=\"None\">Running query in &#x27;postgresql://127.0.0.1:5432/lec13&#x27;</span>"
      ],
      "text/plain": [
       "Running query in 'postgresql://127.0.0.1:5432/lec13'"
      ]
     },
     "metadata": {},
     "output_type": "display_data"
    },
    {
     "data": {
      "text/html": [
       "<span style=\"color: green\">5 rows affected.</span>"
      ],
      "text/plain": [
       "5 rows affected."
      ]
     },
     "metadata": {},
     "output_type": "display_data"
    },
    {
     "data": {
      "text/html": [
       "<table>\n",
       "    <thead>\n",
       "        <tr>\n",
       "            <th>sub_part</th>\n",
       "            <th>depth</th>\n",
       "            <th>total_quantity</th>\n",
       "        </tr>\n",
       "    </thead>\n",
       "    <tbody>\n",
       "        <tr>\n",
       "            <td>C.1</td>\n",
       "            <td>0</td>\n",
       "            <td>1</td>\n",
       "        </tr>\n",
       "        <tr>\n",
       "            <td>C.1.i</td>\n",
       "            <td>1</td>\n",
       "            <td>10</td>\n",
       "        </tr>\n",
       "        <tr>\n",
       "            <td>C.1.i.b</td>\n",
       "            <td>2</td>\n",
       "            <td>200</td>\n",
       "        </tr>\n",
       "        <tr>\n",
       "            <td>C.1.i.a</td>\n",
       "            <td>2</td>\n",
       "            <td>100</td>\n",
       "        </tr>\n",
       "        <tr>\n",
       "            <td>C.1.i.a.1</td>\n",
       "            <td>3</td>\n",
       "            <td>3000</td>\n",
       "        </tr>\n",
       "    </tbody>\n",
       "</table>"
      ],
      "text/plain": [
       "+-----------+-------+----------------+\n",
       "|  sub_part | depth | total_quantity |\n",
       "+-----------+-------+----------------+\n",
       "|    C.1    |   0   |       1        |\n",
       "|   C.1.i   |   1   |       10       |\n",
       "|  C.1.i.b  |   2   |      200       |\n",
       "|  C.1.i.a  |   2   |      100       |\n",
       "| C.1.i.a.1 |   3   |      3000      |\n",
       "+-----------+-------+----------------+"
      ]
     },
     "execution_count": 36,
     "metadata": {},
     "output_type": "execute_result"
    }
   ],
   "source": [
    "%%sql\n",
    "WITH RECURSIVE included_parts(sub_part, part, quantity, depth) AS (\n",
    "    SELECT sub_part, part, quantity, 0 FROM parts WHERE part = 'C'\n",
    "  UNION ALL\n",
    "    SELECT p.sub_part, p.part, p.quantity * pr.quantity, pr.depth + 1\n",
    "    FROM included_parts pr, parts p\n",
    "    WHERE p.part = pr.sub_part\n",
    ")\n",
    "SELECT sub_part, depth, SUM(quantity) as total_quantity\n",
    "FROM included_parts\n",
    "GROUP BY sub_part, depth\n",
    "ORDER BY depth;"
   ]
  },
  {
   "cell_type": "markdown",
   "id": "33b2b221-9c03-483a-b0f1-e931e34ccef5",
   "metadata": {},
   "source": [
    "# CTEs"
   ]
  },
  {
   "cell_type": "code",
   "execution_count": null,
   "id": "040a97a2-0983-4305-8b28-1c1d01a6e0c1",
   "metadata": {},
   "outputs": [],
   "source": [
    "%config SqlMagic.displaylimit=30"
   ]
  },
  {
   "cell_type": "code",
   "execution_count": null,
   "id": "9309f10f-a487-4c7c-82b4-c9ad26875ea8",
   "metadata": {},
   "outputs": [],
   "source": [
    "%%sql\n",
    "DROP TABLE IF EXISTS orders;\n",
    "CREATE TABLE orders (\n",
    "    region TEXT,\n",
    "    product TEXT,\n",
    "    quantity INTEGER,\n",
    "    amount FLOAT\n",
    ");\n",
    "\n",
    "INSERT INTO orders VALUES\n",
    "    ('US', 'apple', 100, 175.40),\n",
    "    ('US', 'apple', 80, 99.70),\n",
    "    ('US', 'banana', 50, 80.60),\n",
    "    ('US', 'cheerios', 1000, 2500.95),\n",
    "    ('Canada', 'apple', 500, 198.00),\n",
    "    ('Canada', 'banana', 20, 45.50),\n",
    "    ('Mexico', 'apple', 1000, 1100.39),\n",
    "    ('Mexico', 'cheerios', 200, 500.50),\n",
    "    ('Mexico', 'cheerios', 400, 430.65),\n",
    "    ('Australia', 'banana', 40, 80.00),\n",
    "    ('Australia', 'banana', 50, 99.45),\n",
    "    ('Australia', 'banana', 2000, 2100.60),\n",
    "    ('Australia', 'banana', 60, 75.00),\n",
    "    ('Australia', 'cheerios', 500, 760.94)\n",
    ";\n",
    "\n",
    "SELECT * FROM orders;"
   ]
  },
  {
   "cell_type": "code",
   "execution_count": null,
   "id": "d808b793-e133-4aa4-a51a-363e5a509447",
   "metadata": {},
   "outputs": [],
   "source": [
    "%%sql\n",
    "WITH regional_sales AS (\n",
    "    SELECT region, SUM(amount) AS total_sales\n",
    "    FROM orders\n",
    "    GROUP BY region\n",
    "), top_regions AS (\n",
    "    SELECT region\n",
    "    FROM regional_sales\n",
    "    WHERE total_sales > (SELECT SUM(total_sales)/10 FROM regional_sales)\n",
    ")\n",
    "SELECT region,\n",
    "       product,\n",
    "       SUM(quantity) AS product_units,\n",
    "       SUM(amount) AS product_sales\n",
    "FROM orders\n",
    "WHERE region IN (SELECT region FROM top_regions)\n",
    "GROUP BY region, product;"
   ]
  }
 ],
 "metadata": {
  "kernelspec": {
   "display_name": "Python 3 (ipykernel)",
   "language": "python",
   "name": "python3"
  },
  "language_info": {
   "codemirror_mode": {
    "name": "ipython",
    "version": 3
   },
   "file_extension": ".py",
   "mimetype": "text/x-python",
   "name": "python",
   "nbconvert_exporter": "python",
   "pygments_lexer": "ipython3",
   "version": "3.11.10"
  },
  "widgets": {
   "application/vnd.jupyter.widget-state+json": {
    "state": {},
    "version_major": 2,
    "version_minor": 0
   }
  }
 },
 "nbformat": 4,
 "nbformat_minor": 5
}
