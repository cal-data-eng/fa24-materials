{
 "cells": [
  {
   "cell_type": "markdown",
   "metadata": {
    "slideshow": {
     "slide_type": "slide"
    }
   },
   "source": [
    "# Approximation: Sampling\n"
   ]
  },
  {
   "cell_type": "markdown",
   "metadata": {
    "slideshow": {
     "slide_type": "slide"
    }
   },
   "source": [
    "## Reservoir Sampling: Algorithm R"
   ]
  },
  {
   "cell_type": "code",
   "execution_count": null,
   "metadata": {},
   "outputs": [],
   "source": [
    "# ported from https://en.wikipedia.org/wiki/Reservoir_sampling\n",
    "from random import randrange\n",
    "\n",
    "def reservoir_sample(data, n, k):\n",
    "  # fill the reservoir array\n",
    "  r = []\n",
    "  for i in range(k):\n",
    "    r.append(data[i])\n",
    "\n",
    "  # replace elements with gradually decreasing probability\n",
    "  for i in range(k, n-1):\n",
    "    # randrange(a) generates a uniform integer in [0, a)\n",
    "    j = randrange(i+1)\n",
    "    if j < k:\n",
    "        r[j] = data[i]\n",
    "            \n",
    "  return(r)\n",
    "     \n",
    "data = list(range(1000))\n",
    "n = len(data)\n",
    "k = 5\n",
    "r = reservoir_sample(data, n, k)\n",
    "r"
   ]
  },
  {
   "cell_type": "markdown",
   "metadata": {},
   "source": [
    "Likelihood of each value 1 to 1000 to be in the database:"
   ]
  },
  {
   "cell_type": "code",
   "execution_count": null,
   "metadata": {},
   "outputs": [],
   "source": [
    "import numpy as np\n",
    "import pandas as pd\n",
    "\n",
    "K = 5\n",
    "N_SAMPLES = 10000\n",
    "samples = []\n",
    "\n",
    "N = 1000\n",
    "data = list(range(N))\n",
    "for j in range(N_SAMPLES):\n",
    "    samples += reservoir_sample(data, N, k)\n",
    "\n",
    "#unique, counts = np.unique(samples, return_counts=True)\n",
    "ax = pd.Series(samples).plot.hist(grid=True, bins=20, rwidth=0.9,\n",
    "                   color='#607c8e')\n",
    "ax.set_title(f\"Distribution of frequencies of all {N} values\")"
   ]
  },
  {
   "cell_type": "markdown",
   "metadata": {
    "slideshow": {
     "slide_type": "slide"
    }
   },
   "source": [
    "## Optimization to Reservoir: AlgorithmL\n",
    "- Calling the random number generator for every row can be slow.\n",
    "- Idea: after each row we choose, could we predict how many rows we'll skip?\n",
    "- Let's plot the gaps between chosen values empirically! (The *sampling gap distribution*)."
   ]
  },
  {
   "cell_type": "code",
   "execution_count": null,
   "metadata": {},
   "outputs": [],
   "source": [
    "import numpy as np\n",
    "import pandas as pd\n",
    "\n",
    "def plot_gaps(r):\n",
    "    r.sort()\n",
    "    gaps = pd.Series(np.diff(r))\n",
    "    gaps.plot.hist(grid=True, bins=20, rwidth=0.9,\n",
    "                   color='#607c8e')\n",
    "data = list(range(100000))\n",
    "n = len(data)\n",
    "k = 1000\n",
    "r = reservoir_sample(data, n, k)\n",
    "plot_gaps(r)"
   ]
  },
  {
   "cell_type": "markdown",
   "metadata": {
    "slideshow": {
     "slide_type": "subslide"
    }
   },
   "source": [
    "- Turns out this is approximately a geometric distribution with a closed form!\n",
    "  - Won't prove here\n",
    "- So we can pick random gaps from geometric distribution\n",
    "  - \"skip over\" the to-be-discarded inputs in between\n",
    "  - only call RNG as many times as there are gaps!\n",
    "  - i.e. about as many times as the size of the sample!"
   ]
  },
  {
   "cell_type": "code",
   "execution_count": null,
   "metadata": {},
   "outputs": [],
   "source": [
    "# This is called Algorithm L\n",
    "# ported from https://en.wikipedia.org/wiki/Reservoir_sampling\n",
    "from random import random, randrange\n",
    "from math import exp, log, floor\n",
    "\n",
    "def reservoir_sample_L(data, n, k):\n",
    "  # fill the reservoir array\n",
    "  r = []\n",
    "  for i in range(k):\n",
    "    r.append(data[i])\n",
    "    \n",
    "  # random.random() generates a uniform [0,1) random number\n",
    "  w = exp(log(random())/k)\n",
    "\n",
    "  while i < n:\n",
    "      i = i + floor(log(random())/log(1-w)) + 1\n",
    "      if i < n:\n",
    "          # replace a random item of the reservoir with item i\n",
    "          r[randrange(k)] = data[i]  # random index between 0 and k-1, inclusive\n",
    "          w = w * exp(log(random())/k)\n",
    "            \n",
    "  return(r)\n",
    "     \n",
    "data = list(range(1000))\n",
    "n = len(data)\n",
    "k = 5\n",
    "r = reservoir_sample_L(data, n, k)\n",
    "r"
   ]
  },
  {
   "cell_type": "code",
   "execution_count": null,
   "metadata": {},
   "outputs": [],
   "source": [
    "data = list(range(100000))\n",
    "n = len(data)\n",
    "k = 1000\n",
    "r = reservoir_sample_L(data, n, k)\n",
    "plot_gaps(r)"
   ]
  },
  {
   "cell_type": "markdown",
   "metadata": {
    "slideshow": {
     "slide_type": "subslide"
    }
   },
   "source": [
    "## Reservoir Sampling as a Table-Valued UDF in PostgreSQL\n",
    "We can implement a reservoir as a table function that returns (rownumber, pos) pairs and join with that to sample."
   ]
  },
  {
   "cell_type": "code",
   "execution_count": null,
   "metadata": {},
   "outputs": [],
   "source": [
    "## replace the database connection with a database of your own!\n",
    "%reload_ext sql\n",
    "%sql postgresql://localhost:5432/baseball"
   ]
  },
  {
   "cell_type": "code",
   "execution_count": null,
   "metadata": {},
   "outputs": [],
   "source": [
    "%sql CREATE EXTENSION IF NOT EXISTS plpython3u; -- import extension"
   ]
  },
  {
   "cell_type": "code",
   "execution_count": null,
   "metadata": {},
   "outputs": [],
   "source": [
    "%%sql\n",
    "-- create the reservoir_swaps UDF --\n",
    "DROP TYPE IF EXISTS reservoir_pair CASCADE;\n",
    "CREATE TYPE reservoir_pair AS (rownum integer, pos integer);\n",
    "CREATE OR REPLACE FUNCTION reservoir_swaps(k integer, n integer) RETURNS setof reservoir_pair\n",
    "    AS $$\n",
    "  # optimized reservoir sampling algorithm, Algorithm L\n",
    "  from random import random, randrange\n",
    "  from math import exp, log, floor\n",
    "  # fill the reservoir array\n",
    "  r = []\n",
    "\n",
    "  for i in range(k):\n",
    "    yield((i,i))\n",
    "    \n",
    "  # random.random() generates a uniform [0,1) random number\n",
    "  w = exp(log(random())/k)\n",
    "\n",
    "  while i < n:\n",
    "      i = i + floor(log(random())/log(1-w)) + 1\n",
    "      if i < n:\n",
    "          # replace a random item of the reservoir with item i\n",
    "          w = w * exp(log(random())/k)\n",
    "          yield(i, randrange(k))  # rand om index between 0 and k-1, inclusive\n",
    "            \n",
    "  return(r)\n",
    "    $$\n",
    "    LANGUAGE 'plpython3u'\n",
    "    VOLATILE\n",
    "    RETURNS NULL ON NULL INPUT;\n",
    "\n",
    "\n",
    "CREATE OR REPLACE FUNCTION reservoir_rows(k integer, n integer) RETURNS setof integer\n",
    "  AS $$\n",
    "     SELECT MAX(rownum) AS rownum\n",
    "     FROM reservoir_swaps(k, n)\n",
    "     GROUP by pos $$ \n",
    "LANGUAGE 'sql'\n",
    "VOLATILE;"
   ]
  },
  {
   "cell_type": "code",
   "execution_count": null,
   "metadata": {},
   "outputs": [],
   "source": [
    "%%sql\n",
    "SELECT reservoir_rows(10, count(*)::integer) FROM batting;"
   ]
  },
  {
   "cell_type": "code",
   "execution_count": null,
   "metadata": {},
   "outputs": [],
   "source": [
    "%%sql\n",
    "WITH rrows AS (SELECT reservoir_rows(10, count(*)::integer) AS rows \n",
    "                 FROM batting),\n",
    "     rbatting AS (SELECT row_number() over(), * \n",
    "                    FROM batting)\n",
    "SELECT *\n",
    "  FROM rbatting, rrows \n",
    " WHERE row_number = rows;"
   ]
  },
  {
   "cell_type": "code",
   "execution_count": null,
   "metadata": {},
   "outputs": [],
   "source": [
    "%%sql\n",
    "WITH rrows AS (SELECT reservoir_rows(15, count(*)::integer) AS rows \n",
    "                 FROM batting),\n",
    "     rbatting AS (SELECT row_number() over(), * \n",
    "                    FROM batting)\n",
    "SELECT COUNT(*)\n",
    "  FROM rbatting, rrows \n",
    " WHERE row_number = rows;"
   ]
  },
  {
   "cell_type": "markdown",
   "metadata": {
    "slideshow": {
     "slide_type": "subslide"
    }
   },
   "source": [
    "# Stratified Sampling"
   ]
  },
  {
   "cell_type": "code",
   "execution_count": null,
   "metadata": {
    "slideshow": {
     "slide_type": "subslide"
    }
   },
   "outputs": [],
   "source": [
    "# See larger display\n",
    "%config SqlMagic.displaylimit = 80"
   ]
  },
  {
   "cell_type": "code",
   "execution_count": null,
   "metadata": {},
   "outputs": [],
   "source": [
    "%%sql\n",
    "-- Stratified Sampling with Reservoirs\n",
    "WITH grprows AS (SELECT teamid, reservoir_rows(10, COUNT(*)::integer) AS rows \n",
    "                   FROM batting \n",
    "                  GROUP BY teamid),\n",
    "     rbatting AS (SELECT row_number() over(partition by teamid), * \n",
    "                    FROM batting)\n",
    "SELECT *\n",
    "  FROM rbatting b, grprows g\n",
    " WHERE row_number = rows\n",
    "   AND b.teamid = g.teamid\n",
    " ORDER BY b.teamid;"
   ]
  }
 ],
 "metadata": {
  "anaconda-cloud": {},
  "celltoolbar": "Slideshow",
  "kernelspec": {
   "display_name": "Python 3 (ipykernel)",
   "language": "python",
   "name": "python3"
  },
  "language_info": {
   "codemirror_mode": {
    "name": "ipython",
    "version": 3
   },
   "file_extension": ".py",
   "mimetype": "text/x-python",
   "name": "python",
   "nbconvert_exporter": "python",
   "pygments_lexer": "ipython3",
   "version": "3.11.0"
  }
 },
 "nbformat": 4,
 "nbformat_minor": 4
}
