{
 "cells": [
  {
   "cell_type": "markdown",
   "metadata": {},
   "source": [
    "# [Extra] Sketches"
   ]
  },
  {
   "cell_type": "code",
   "execution_count": 1,
   "metadata": {},
   "outputs": [],
   "source": [
    "## replace the database connection with a database of your own!\n",
    "%reload_ext sql\n",
    "%sql postgresql://localhost:5432/baseball"
   ]
  },
  {
   "cell_type": "code",
   "execution_count": 2,
   "metadata": {},
   "outputs": [
    {
     "data": {
      "text/html": [
       "<span style=\"None\">Running query in &#x27;postgresql://localhost:5432/baseball&#x27;</span>"
      ],
      "text/plain": [
       "Running query in 'postgresql://localhost:5432/baseball'"
      ]
     },
     "metadata": {},
     "output_type": "display_data"
    },
    {
     "data": {
      "text/html": [
       "<table>\n",
       "    <thead>\n",
       "        <tr>\n",
       "        </tr>\n",
       "    </thead>\n",
       "    <tbody>\n",
       "    </tbody>\n",
       "</table>"
      ],
      "text/plain": [
       "++\n",
       "||\n",
       "++\n",
       "++"
      ]
     },
     "execution_count": 2,
     "metadata": {},
     "output_type": "execute_result"
    }
   ],
   "source": [
    "%sql CREATE EXTENSION IF NOT EXISTS plpython3u; -- import extension"
   ]
  },
  {
   "cell_type": "markdown",
   "metadata": {
    "slideshow": {
     "slide_type": "slide"
    }
   },
   "source": [
    "## Two Very Useful Sketches\n",
    "  - *CountMin* sketches for `SELECT COUNT(*) ... WHERE col = k`\n",
    "    - Also `WHERE col BETWEEN k AND l`\n",
    "  - *HyperLogLog* sketches for `SELECT COUNT(DISTINCT col)`"
   ]
  },
  {
   "cell_type": "markdown",
   "metadata": {
    "slideshow": {
     "slide_type": "slide"
    }
   },
   "source": [
    "## Inuition for CountMin Sketch\n",
    "`SELECT COUNT(*) ... WHERE col = x`\n",
    "\n",
    "Incredibly simple idea!\n",
    "\n",
    "Intuition:\n",
    "- Pick a hash function $h$ that maps the data type of `col` to integers\n",
    "- Create an array $A$ of $b$ counters\n",
    "- For each value $v$ in `col`, increment the counter at $A[{h(v)}]$\n",
    "- To compute the count of rows `WHERE col = x` return $A[{h(x)}]$\n",
    "\n",
    "How bad is our estimate?\n",
    "- Could be *too high*, due to hash \"collisions\" (never too low!)\n",
    "- If we collide with key $y \\ne x$, we return the sum of their frequencies\n",
    "  - $A[{h(x)}] = f_x + \\sum_{y \\in S}f_y \\hspace{2em}$ where $S = {y \\ne x : h_i(y) = h_i(x)}$\n",
    "  - We expect $x$ to collide with $1/b$ of the values in our data\n",
    "  - So we expect $A[{h(x)}] = f_x + \\frac{1}{b}\\sum_{y \\ne x}f_y \\le f_x + \\frac{n}{b}$\n",
    "    - after all, the sum of all frequencies is $n$\n",
    "  - If we want to bound our overestimate by $\\epsilon f_x$, just choose $b = 1/\\epsilon$.\n",
    "  - Note this has no dependence on $n$, the size of our dataset: scales great!\n",
    "  \n",
    "Why not stop here?\n",
    "  - We got the expected error to an $\\epsilon$ factor!\n",
    "  - But the *variance* in the error can be high\n",
    "    - some buckets will be \"unlucky\"!\n",
    "    - We want the probability that the error is bigger than $\\epsilon$ to be $\\delta$.\n",
    "  - So let's use the idea of independent samples to help."
   ]
  },
  {
   "cell_type": "markdown",
   "metadata": {
    "slideshow": {
     "slide_type": "subslide"
    }
   },
   "source": [
    "## CountMin Sketch\n",
    "- Repeat the idea above with $l$ pairwise-independent hash functions.\n",
    "  - Easy to parameterize these from a \"family\"\n",
    "  - The CountMin Sketch is an array of $l$ rows and $b$ columns\n",
    "    - each row \"belongs\" to one of the hash functions\n",
    "<img src=\"files/countMin.png\" height=1in>\n",
    "- Insertion\n",
    "  - For each value $v$ in the input, for each hash function $l$, increment $h_l(v)$\n",
    "- To compute the count of key $x$, look up all $l$ values $h_l(x)$\n",
    "  - Each is an overestimate...\n",
    "  - So return the minimum: $\\min_{i=0}^l A_i[x]$!\n",
    "- With some more work, you can show that we want $l = \\log_2 \\frac{1}{\\delta}$ \n",
    "  - bounds the probability of exceeding $\\epsilon$ at $\\delta$\n",
    "  - google for the math or take Prof. Nelson's class!"
   ]
  },
  {
   "cell_type": "markdown",
   "metadata": {
    "slideshow": {
     "slide_type": "subslide"
    }
   },
   "source": [
    "## CountMin Sketches in Practice\n",
    "- Easy to write\n",
    "  - You can find lots of reference implementations online in Java, C++, Python, etc.\n",
    "  - PostgreSQL has a package called [Apache MADLib](https://madlib.apache.org/) that provides [CountMin sketches](http://madlib.apache.org/docs/latest/group__grp__countmin.html) and lots of Stat/ML routines in SQL\n",
    "- Scales to arbitrarily large data sets!\n",
    "- In practice, all the hashing at construction time can be slow\n",
    "  - Needs to be paid off by many queries\n",
    "  - Parallelizes trivially though!\n",
    "  \n",
    "- PostgreSQL/MADlib example below\n",
    "  - [MADlib CMsketch](https://github.com/apache/madlib/blob/4987e8fe5367bb823afb1bd4020fd6f0fa603258/methods/sketch/src/pg_gp/countmin.h) is set to $l = 8, b = 1024$. With 64-bit integers this is just 64 KB!\n",
    "    - $\\epsilon = 2/b = .002$\n",
    "    - $\\delta = \\frac{1}{2}^l = .004$ (i.e., $99.6\\%$ probability within $\\epsilon n$!)"
   ]
  },
  {
   "cell_type": "code",
   "execution_count": 3,
   "metadata": {},
   "outputs": [
    {
     "data": {
      "text/html": [
       "<span style=\"None\">Connecting and switching to connection postgresql://localhost:5433/baseball</span>"
      ],
      "text/plain": [
       "Connecting and switching to connection postgresql://localhost:5433/baseball"
      ]
     },
     "metadata": {},
     "output_type": "display_data"
    },
    {
     "name": "stderr",
     "output_type": "stream",
     "text": [
      "RuntimeError: (psycopg2.OperationalError) connection to server at \"localhost\" (127.0.0.1), port 5433 failed: Connection refused\n",
      "\tIs the server running on that host and accepting TCP/IP connections?\n",
      "connection to server at \"localhost\" (::1), port 5433 failed: Cannot assign requested address\n",
      "\tIs the server running on that host and accepting TCP/IP connections?\n",
      "\n",
      "(Background on this error at: https://sqlalche.me/e/20/e3q8)\n",
      "If you need help solving this issue, send us a message: https://ploomber.io/community\n"
     ]
    }
   ],
   "source": [
    "## MADlib is only compatible with PostgreSQL 12\n",
    "## My PostgreSQL 12 installation didn't have Python3\n",
    "## So let's switch connections now\n",
    "%reload_ext sql\n",
    "%sql postgresql://localhost:5433/baseball"
   ]
  },
  {
   "cell_type": "code",
   "execution_count": null,
   "metadata": {},
   "outputs": [],
   "source": [
    "%%sql\n",
    "WITH data AS (SELECT floor(random()*10)::integer AS class, \n",
    "                     floor(exp(log(random()*100)))::integer AS a1 FROM generate_series(1,100000)),\n",
    "     sketch AS (SELECT madlib.cmsketch(class) AS class_cm, madlib.cmsketch(a1) AS a1_cm FROM data)\n",
    "SELECT 'sketch' as method, \n",
    "       madlib.cmsketch_count(class_cm, 7) as class_7, madlib.cmsketch_count(class_cm, 9) as class_9, \n",
    "       madlib.cmsketch_count(a1_cm, 3) as a1_3, madlib.cmsketch_count(a1_cm, 7) as a1_7\n",
    "  FROM sketch\n",
    "UNION ALL\n",
    "SELECT 'actual', \n",
    "       sum(CASE WHEN class = 7 THEN 1 ELSE 0 END), sum(CASE WHEN class = 9 THEN 1 ELSE 0 END),\n",
    "       sum(CASE WHEN a1 = 3 THEN 1 ELSE 0 END), sum(CASE WHEN a1 = 7 THEN 1 ELSE 0 END)\n",
    "  FROM data;"
   ]
  },
  {
   "cell_type": "code",
   "execution_count": null,
   "metadata": {},
   "outputs": [],
   "source": [
    "%%sql\n",
    "WITH sketch AS (SELECT madlib.cmsketch(hr) AS hr_cm FROM batting)\n",
    "SELECT 'sketch' as method, \n",
    "       madlib.cmsketch_count(hr_cm, 40)\n",
    "  FROM sketch\n",
    "UNION ALL\n",
    "SELECT 'actual', \n",
    "       COUNT(*)\n",
    "  FROM batting\n",
    " WHERE hr = 40;"
   ]
  },
  {
   "cell_type": "markdown",
   "metadata": {
    "slideshow": {
     "slide_type": "slide"
    }
   },
   "source": [
    "## HyperLogLog Sketch\n",
    "`SELECT COUNT(DISTINCT col) FROM table`\n",
    "\n",
    "Problem:\n",
    "- Imagine you've seen 1 billion distinct values so far\n",
    "  - Originally studied to classify network packet streams at line rate\n",
    "  - How many unique source/destination pairs have we seen?\n",
    "- To see if a new row has a new value, we need to remember the previous 1 billion!\n",
    "- Can we do this in a small amount of space?\n",
    "\n",
    "HyperLogLog is one of many solutions to this problem.\n",
    "- Jelani Nelson is a co-author on [the first asymptotically space- and time-optimal algorithm](https://dash.harvard.edu/bitstream/handle/1/13820438/f0.pdf) for this problem.\n",
    "- Recently [completely resolved the asymptotic space complexity](http://people.eecs.berkeley.edu/~minilek/publications/papers/approx_count.pdf) of this problem!"
   ]
  },
  {
   "cell_type": "markdown",
   "metadata": {
    "slideshow": {
     "slide_type": "subslide"
    }
   },
   "source": [
    "## HyperLogLog Intuition\n",
    "- For each value $v$ we see, compute a hash $h(v)$\n",
    "  - Generates a number chosen uniformly at random between 0 and $\\infty$\n",
    "  - How many leading 0's on the left do we expect?"
   ]
  },
  {
   "cell_type": "code",
   "execution_count": null,
   "metadata": {},
   "outputs": [],
   "source": [
    "# https://www.geeksforgeeks.org/number-of-leading-zeros-in-binary-representation-of-a-given-number/\n",
    "def countZeros(x): \n",
    "    # Keep shifting x by one until \n",
    "    # leftmost bit does not become 1.\n",
    "    total_bits = 32\n",
    "    res = 0\n",
    "    while ((x & (1 << (total_bits - 1))) == 0):\n",
    "        x = (x << 1)\n",
    "        res += 1\n",
    "  \n",
    "    return res\n",
    "\n",
    "\n",
    "from random import randint\n",
    "import pandas as pd\n",
    "s = pd.Series([countZeros(hash(i)) for i in range(1,1000)])\n",
    "s.plot.hist(grid=True, bins=20, rwidth=0.9, color='#607c8e')"
   ]
  },
  {
   "cell_type": "markdown",
   "metadata": {
    "slideshow": {
     "slide_type": "subslide"
    }
   },
   "source": [
    "Run the cell above a few times and you'll see:\n",
    "- About 1/2 the values have no leading zeros. Makes sense!\n",
    "    - These are random bit strings, so odds that first bit is `1` is $50\\%$\n",
    "- Decays by a factor of 2 for each bar to the right. Makes sense!\n",
    "    - Odds that the first 2 bits are `10` is $25\\%$. Etc.\n",
    "- Continuing to divide by 2, we expect the rightmost non-zero bar to be at $\\rho = log_2(n) - 1$ \n",
    "  - Where $n$ is the total number of values\n",
    "  - But note: adding *duplicate* values raises all bars but doesn't add any new bars to the right!\n",
    "  - So $2^{\\rho + 1}$ is a good estimator of `COUNT(DISTINCT)`!!\n",
    "- But ... lots of variance across trials.\n",
    "- HyperLogLog breaks the input into subsets and uses the harmonic mean of the resulting estimates"
   ]
  },
  {
   "cell_type": "markdown",
   "metadata": {
    "slideshow": {
     "slide_type": "subslide"
    }
   },
   "source": [
    "### HyperLogLog in Practice\n",
    "- With $m$ bytes of memory gives accuracy of $1.04/\\sqrt{m}$\n",
    "  - E.g. $2%$ accuracy with 1.5KB of memory\n",
    "- You can find lots of implementations online\n",
    "- Apache MADlib has an older sketch from the same lead author (P. Flajolet) called an [FM sketch](http://madlib.apache.org/docs/latest/group__grp__fmsketch.html)"
   ]
  },
  {
   "cell_type": "code",
   "execution_count": null,
   "metadata": {},
   "outputs": [],
   "source": [
    "%%sql\n",
    "WITH data AS (SELECT floor(random()*10)::integer AS class, \n",
    "                     floor(exp(log(random()*100)))::integer AS a1 FROM generate_series(1,100000)),\n",
    "     approx AS (SELECT madlib.fmsketch_dcount(class) AS class_fm, madlib.fmsketch_dcount(a1) AS a1_fm FROM data)\n",
    "SELECT 'sketch' as method, \n",
    "       *\n",
    "  FROM approx\n",
    "UNION ALL\n",
    "SELECT 'actual', \n",
    "       COUNT(DISTINCT class), COUNT(DISTINCT a1)\n",
    "  FROM data;"
   ]
  },
  {
   "cell_type": "markdown",
   "metadata": {
    "slideshow": {
     "slide_type": "subslide"
    }
   },
   "source": [
    "## More on Sketching\n",
    "Sketches are like materialized views that can approximate the answer to a class of queries.\n",
    "- Like Materialized views, they take time to build, and need to be kept \"fresh\"\n",
    "  - But they're typically *tiny* and insensitive to input size, which is very cool\n",
    "  - Can pass them around for all kinds of tricks: e.g. ship to apps in browser or phone, etc.\n",
    "- Sketches typically work as streaming algorithms, which is nice\n",
    "  - Most support incremental additions\n",
    "  - Some support deletions\n",
    "- Many can be computed in parallel"
   ]
  },
  {
   "cell_type": "markdown",
   "metadata": {
    "slideshow": {
     "slide_type": "subslide"
    }
   },
   "source": [
    "## More on Sketching, cont.\n",
    "\n",
    "- There are more sketch types and variants to handle more classes of queries\n",
    "  - \"Heavy Hitter\" queries (return the top k most popular values in the stream)\n",
    "  - Exists queries (the earliest sketch: Bloom Filters)\n",
    "  - Count-Range queries\n",
    "  - Histograms\n",
    "  - Approximate data cubes\n",
    "  - Etc.\n",
    "\n",
    "\n",
    "Sketches are mostly used in high-volume streaming settings\n",
    "  - The approximation/performance tradeoffs has to be acceptable\n",
    "  - You need to have a need to do LOTS of queries on the sketch to amortize cost of hashing\n",
    "  - Not typically supported in database systems even today"
   ]
  },
  {
   "cell_type": "markdown",
   "metadata": {},
   "source": [
    "# Additional Resources\n",
    "- Prof. Nelson's [graduate course at Berkeley](https://www.sketchingbigdata.org/fall20/)\n",
    "- Book: Cormode/Garofalakis/Haas/Jermaine [Synopses for Massive Data: Samples, Histograms, Wavelets, Sketches](https://db.cs.berkeley.edu/cs286/papers/synopses-fntdb2012.pdf)"
   ]
  }
 ],
 "metadata": {
  "anaconda-cloud": {},
  "celltoolbar": "Slideshow",
  "kernelspec": {
   "display_name": "Python 3 (ipykernel)",
   "language": "python",
   "name": "python3"
  },
  "language_info": {
   "codemirror_mode": {
    "name": "ipython",
    "version": 3
   },
   "file_extension": ".py",
   "mimetype": "text/x-python",
   "name": "python",
   "nbconvert_exporter": "python",
   "pygments_lexer": "ipython3",
   "version": "3.11.0"
  }
 },
 "nbformat": 4,
 "nbformat_minor": 4
}
