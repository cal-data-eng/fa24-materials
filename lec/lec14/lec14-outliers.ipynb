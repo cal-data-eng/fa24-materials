{
 "cells": [
  {
   "cell_type": "markdown",
   "id": "3efe537d-d1be-4b74-836c-1cff6c22ec1d",
   "metadata": {},
   "source": [
    "# Lecture 14: Outliers"
   ]
  },
  {
   "cell_type": "code",
   "execution_count": null,
   "id": "72611649-0355-4860-ae39-da1365cbc2c1",
   "metadata": {},
   "outputs": [],
   "source": [
    "import numpy as np\n",
    "import pandas as pd\n",
    "import seaborn as sns\n",
    "import matplotlib.pyplot as plt\n",
    "import matplotlib as mpl\n",
    "\n",
    "import importlib\n",
    "importlib.reload(mpl); importlib.reload(plt); importlib.reload(sns)\n",
    "\n",
    "sns.reset_orig()\n",
    "sns.set(font_scale=1.5)\n",
    "%matplotlib inline"
   ]
  },
  {
   "cell_type": "markdown",
   "id": "34ddf98f-4be7-4cca-8716-e2fc66e5ced3",
   "metadata": {},
   "source": [
    "---\n",
    "\n",
    "# Gaussian Outliers"
   ]
  },
  {
   "cell_type": "code",
   "execution_count": null,
   "id": "2a7f5c56-44a1-45a9-bed8-2277c75f9abd",
   "metadata": {},
   "outputs": [],
   "source": [
    "%reload_ext sql\n",
    "%sql postgresql://localhost:5432/postgres"
   ]
  },
  {
   "cell_type": "code",
   "execution_count": null,
   "id": "e3e8473d-833d-4b45-8a8a-29c525715daf",
   "metadata": {},
   "outputs": [],
   "source": [
    "%sql SELECT setseed(0.42) -- to fix randomness"
   ]
  },
  {
   "cell_type": "markdown",
   "id": "c9fa3cb0-d4db-4c5e-93e5-bfb97cfb27f3",
   "metadata": {},
   "source": [
    "Just like a Python package, we need to import `tablefunc` in order to use the `normal_rand` function."
   ]
  },
  {
   "cell_type": "code",
   "execution_count": null,
   "id": "918e88da-44f4-4cc4-9244-71bca367ebbd",
   "metadata": {},
   "outputs": [],
   "source": [
    "%sql CREATE EXTENSION IF NOT EXISTS tablefunc;"
   ]
  },
  {
   "cell_type": "markdown",
   "id": "99ec6c3f-bf85-49cb-864b-7a1c8f2300f7",
   "metadata": {},
   "source": [
    "Assume our datapoints are truly Normal. Simulate them in `observations`.\n",
    "* 1000 datapoints, $\\mu = 50, \\sigma = 5$."
   ]
  },
  {
   "cell_type": "code",
   "execution_count": null,
   "id": "e9d440be-ab6a-4a3b-8dc1-c7caf881c804",
   "metadata": {},
   "outputs": [],
   "source": [
    "%sql DROP TABLE IF EXISTS observations CASCADE;\n",
    "%sql CREATE TABLE observations AS \\\n",
    "     SELECT normal_rand AS x \\\n",
    "     FROM normal_rand(1000, 50, 5);\n",
    "\n",
    "results = %sql SELECT x FROM observations;"
   ]
  },
  {
   "cell_type": "code",
   "execution_count": null,
   "id": "aa9a4dc8-c8cc-4551-b615-a0a301dcb088",
   "metadata": {},
   "outputs": [],
   "source": [
    "sns.displot(results.dict(), fill=True, kde=True, bins=20,\n",
    "            height=4, aspect=2)"
   ]
  },
  {
   "cell_type": "markdown",
   "id": "110fc1bb-3df6-4a41-b23c-8346aa690396",
   "metadata": {},
   "source": [
    "Construct a view called `normal_outliers` using the **2 sigma** metric."
   ]
  },
  {
   "cell_type": "code",
   "execution_count": null,
   "id": "c1aac5b2-4c06-4650-845d-5fc54d9739a9",
   "metadata": {},
   "outputs": [],
   "source": [
    "# construct the view"
   ]
  },
  {
   "cell_type": "code",
   "execution_count": null,
   "id": "6fd8529a-92be-435e-9eb3-c84f2179172a",
   "metadata": {},
   "outputs": [],
   "source": [
    "%%sql\n",
    "CREATE OR REPLACE VIEW normal_outliers AS\n",
    "WITH bounds AS (\n",
    "   SELECT avg(x) - 2*stddev(x) AS lo,\n",
    "   avg(x) + 2*stddev(x) AS hi\n",
    "   FROM observations\n",
    ")\n",
    "SELECT x AS outlier\n",
    "FROM observations o, bounds b \n",
    "WHERE x NOT BETWEEN b.lo AND b.hi;"
   ]
  },
  {
   "cell_type": "code",
   "execution_count": null,
   "id": "0a00fb27-de7e-4702-aea3-39a67fff448d",
   "metadata": {},
   "outputs": [],
   "source": [
    "# query the view\n",
    "%sql SELECT * FROM normal_outliers;"
   ]
  },
  {
   "cell_type": "markdown",
   "id": "c4e9a791-98cb-4277-ac9b-0face31b6704",
   "metadata": {},
   "source": [
    "## What does this code do?"
   ]
  },
  {
   "cell_type": "code",
   "execution_count": null,
   "id": "1b300ea9-d63d-470f-a3c2-0d1d1a3a79f8",
   "metadata": {},
   "outputs": [],
   "source": [
    "results = %sql SELECT x, 'original' AS label \\\n",
    "               FROM observations \\\n",
    "               UNION ALL \\\n",
    "               SELECT x, 'cleaned' AS label\\\n",
    "               FROM observations \\\n",
    "               WHERE x NOT IN \\\n",
    "                   (SELECT * FROM normal_outliers)\n",
    "sns.displot(results.dict(), x=\"x\", kind='hist',\n",
    "            hue='label', kde=True, bins=20,\n",
    "            height=4, aspect=1.5)\n",
    "plt.xlim(30, 70)"
   ]
  },
  {
   "cell_type": "markdown",
   "id": "d13a9a1c-01a5-4a6b-b41f-5587c1445c57",
   "metadata": {
    "jp-MarkdownHeadingCollapsed": true
   },
   "source": [
    "<br/><br/><br/>\n",
    "<br/><br/><br/>\n",
    "<br/><br/><br/>\n",
    "\n",
    "## Choices [hidden]"
   ]
  },
  {
   "cell_type": "markdown",
   "id": "d387faf1-e9ce-4564-99d3-84ea6efd7f7d",
   "metadata": {},
   "source": [
    "**A.**"
   ]
  },
  {
   "cell_type": "code",
   "execution_count": null,
   "id": "b4837a5d-205b-4e93-b3d1-8dbda631cbf0",
   "metadata": {},
   "outputs": [],
   "source": [
    "## plots outliers and original\n",
    "results = %sql SELECT x, 'original' AS label \\\n",
    "               FROM observations \\\n",
    "               UNION ALL \\\n",
    "               SELECT x, 'cleaned' AS label\\\n",
    "               FROM observations \\\n",
    "               WHERE x IN \\\n",
    "                   (SELECT * FROM normal_outliers)\n",
    "sns.displot(results.dict(), x=\"x\", kind='hist',\n",
    "            hue='label', kde=True, bins=20,\n",
    "                        height=4, aspect=2)\n",
    "plt.xlim(30, 70)"
   ]
  },
  {
   "cell_type": "markdown",
   "id": "4594160f-6ab4-4794-a2d6-4cd9071c39bf",
   "metadata": {},
   "source": [
    "**B.**"
   ]
  },
  {
   "cell_type": "code",
   "execution_count": null,
   "id": "b7e9258b-faab-4267-a87a-6d6aadd2b324",
   "metadata": {},
   "outputs": [],
   "source": [
    "# correct\n",
    "results = %sql SELECT x, 'original' AS label \\\n",
    "               FROM observations \\\n",
    "               UNION ALL \\\n",
    "               SELECT x, 'cleaned' AS label\\\n",
    "               FROM observations \\\n",
    "               WHERE x NOT IN \\\n",
    "                   (SELECT * FROM normal_outliers)\n",
    "sns.displot(results.dict(), x=\"x\", kind='hist',\n",
    "            hue='label', kde=True, bins=20,\n",
    "                        height=4, aspect=2)\n",
    "plt.xlim(30, 70)"
   ]
  },
  {
   "cell_type": "markdown",
   "id": "b9ce80e7-7044-4a55-bda9-5ebe35ed499d",
   "metadata": {},
   "source": [
    "**C.**"
   ]
  },
  {
   "cell_type": "code",
   "execution_count": null,
   "id": "89189db9-a447-47ca-b273-84fe686ada21",
   "metadata": {},
   "outputs": [],
   "source": [
    "results = %sql SELECT x, 'original' AS label \\\n",
    "               FROM observations \\\n",
    "               WHERE x NOT IN \\\n",
    "                   (SELECT * FROM normal_outliers) \\\n",
    "               UNION ALL \\\n",
    "               SELECT x, 'cleaned' AS label \\\n",
    "               FROM observations \\\n",
    "               WHERE x NOT IN \\\n",
    "                   (SELECT * FROM normal_outliers)\n",
    "sns.displot(results.dict(), x=\"x\", kind='hist',\n",
    "            hue='label', kde=True, bins=20,\n",
    "                        height=4, aspect=2)\n",
    "plt.xlim(30, 70)"
   ]
  },
  {
   "cell_type": "markdown",
   "id": "ed3e377f-3f46-4e09-b385-610c2c5d187d",
   "metadata": {},
   "source": [
    "**D.**"
   ]
  },
  {
   "cell_type": "code",
   "execution_count": null,
   "id": "188f5a8a-a1f1-445e-a3b5-3a544397bb1d",
   "metadata": {},
   "outputs": [],
   "source": [
    "results = %sql SELECT x, 'cleaned' AS label \\\n",
    "               FROM observations \\\n",
    "               WHERE x NOT IN \\\n",
    "                   (SELECT * FROM normal_outliers)\n",
    "sns.displot(results.dict(), x=\"x\", kind='hist',\n",
    "            hue='label', kde=True, bins=20,\n",
    "                        height=4, aspect=2)\n",
    "plt.xlim(30, 70)"
   ]
  },
  {
   "cell_type": "markdown",
   "id": "1836f8fe-e1a4-459c-bd98-74f1508d5e55",
   "metadata": {},
   "source": [
    "## What if we suddenly had extremes?"
   ]
  },
  {
   "cell_type": "code",
   "execution_count": null,
   "id": "126ec4ba-f14b-4dab-b725-bb1e583b2026",
   "metadata": {},
   "outputs": [],
   "source": [
    "%sql UPDATE observations SET x = x*10 \\\n",
    "      WHERE x = (SELECT MAX(x) FROM observations);"
   ]
  },
  {
   "cell_type": "code",
   "execution_count": null,
   "id": "fea66d4f-9c61-4bb9-b16f-e6ea8df300d9",
   "metadata": {},
   "outputs": [],
   "source": [
    "%sql SELECT min(x), max(x) FROM observations"
   ]
  },
  {
   "cell_type": "code",
   "execution_count": null,
   "id": "8c56721a-e19c-45a9-9b0a-730f14a9ee64",
   "metadata": {},
   "outputs": [],
   "source": [
    "results = %sql SELECT x, 'original' AS label \\\n",
    "               FROM observations \\\n",
    "               UNION ALL \\\n",
    "               SELECT x, 'cleaned' AS label\\\n",
    "               FROM observations \\\n",
    "               WHERE x NOT IN \\\n",
    "                   (SELECT * FROM normal_outliers)\n",
    "sns.displot(results.dict(), x=\"x\", kind='hist',\n",
    "            hue='label', kde=True, bins=np.linspace(32, 70, 20),\n",
    "            height=4, aspect=1.5, rug=True)\n",
    "plt.xlim(30, 700)"
   ]
  },
  {
   "cell_type": "code",
   "execution_count": null,
   "id": "83e6f098-7ca1-48cc-b902-3c316caa866c",
   "metadata": {},
   "outputs": [],
   "source": [
    "results = %sql SELECT x, 'original' AS label \\\n",
    "               FROM observations \\\n",
    "               UNION ALL \\\n",
    "               SELECT x, 'cleaned' AS label\\\n",
    "               FROM observations \\\n",
    "               WHERE x NOT IN \\\n",
    "                   (SELECT * FROM normal_outliers)\n",
    "sns.displot(results.dict(), x=\"x\", kind='hist',\n",
    "            hue='label', kde=True, bins=np.linspace(32, 70, 20),\n",
    "            height=4, aspect=1.5, rug=True)\n",
    "plt.xlim(30, 70)"
   ]
  },
  {
   "cell_type": "code",
   "execution_count": null,
   "id": "b46eb7f1-b60e-4abd-9b1c-9249a330887d",
   "metadata": {},
   "outputs": [],
   "source": [
    "## reset before moving on\n",
    "%sql UPDATE observations SET x = x/10 \\\n",
    "      WHERE x = (SELECT MAX(x) FROM OBSERVATIONS);"
   ]
  },
  {
   "cell_type": "markdown",
   "id": "29272316-4f16-4e0f-aa53-f758301c20b8",
   "metadata": {},
   "source": [
    "# Winsorization"
   ]
  },
  {
   "cell_type": "code",
   "execution_count": null,
   "id": "2dbab392-e702-4864-a84f-5f1a49e45818",
   "metadata": {},
   "outputs": [],
   "source": [
    "import numpy as np"
   ]
  },
  {
   "cell_type": "code",
   "execution_count": null,
   "id": "557ed20c-4ccf-458f-aae4-5399188c70ee",
   "metadata": {},
   "outputs": [],
   "source": [
    "arr = np.array([92, 19, 101, 58, 1053, 91, 26, 78, 10, 13, -40, 101, 86, 85, 15, 89, 89, 28, -5, 41])\n",
    "arr"
   ]
  },
  {
   "cell_type": "code",
   "execution_count": null,
   "id": "187ddd3d-84b9-4b85-ae41-9f836f8ed276",
   "metadata": {},
   "outputs": [],
   "source": [
    "np.mean(arr), np.median(arr)"
   ]
  },
  {
   "cell_type": "code",
   "execution_count": null,
   "id": "eb3d1ae5-84f3-497e-b928-bd49b221c7e0",
   "metadata": {},
   "outputs": [],
   "source": [
    "np.percentile(arr, 95, method='nearest')"
   ]
  },
  {
   "cell_type": "code",
   "execution_count": null,
   "id": "1a378a80-637c-48ff-87f8-231ded3798e5",
   "metadata": {},
   "outputs": [],
   "source": [
    "np.percentile(arr, 5, method='nearest')"
   ]
  },
  {
   "cell_type": "code",
   "execution_count": null,
   "id": "10ab9dfe-a9c1-4a35-9780-1c2e7cbec620",
   "metadata": {},
   "outputs": [],
   "source": [
    "arr_winsorized = np.array([92, 19, 101, 58, 101, 91, 26, 78, 10, 13, -5, 101, 86, 85, 15, 89, 89, 28, -5, 41])\n",
    "arr_winsorized"
   ]
  },
  {
   "cell_type": "code",
   "execution_count": null,
   "id": "5fe4b356-ee19-4eec-a457-13e800830350",
   "metadata": {},
   "outputs": [],
   "source": [
    "np.mean(arr_winsorized), np.median(arr_winsorized)"
   ]
  },
  {
   "cell_type": "markdown",
   "id": "e1dd5754-0ced-47ee-a814-c885eec980a5",
   "metadata": {},
   "source": [
    "# Trimming vs. Winsorizatoin"
   ]
  },
  {
   "cell_type": "code",
   "execution_count": null,
   "id": "13bd1307-b9f7-4dda-9c38-a01ad7ee037d",
   "metadata": {},
   "outputs": [],
   "source": [
    "%%sql\n",
    "CREATE OR REPLACE VIEW p1p99 AS\n",
    "SELECT percentile_cont(.01) WITHIN GROUP (ORDER BY x) AS p1,\n",
    "           percentile_cont(.99) WITHIN GROUP (ORDER BY x) AS p99\n",
    "      FROM observations;\n",
    "SELECT * FROM p1p99;"
   ]
  },
  {
   "cell_type": "code",
   "execution_count": null,
   "id": "ce1990fa-3b04-4022-ad0a-f0542d6cd497",
   "metadata": {},
   "outputs": [],
   "source": [
    "%%sql\n",
    "CREATE OR REPLACE VIEW trimmed_observations AS\n",
    "SELECT o.x, 'trimmed' AS label\n",
    "  FROM observations o, p1p99 p\n",
    " WHERE o.x BETWEEN p.p1 AND p.p99\n",
    "UNION ALL\n",
    "SELECT o.x, 'original' AS label\n",
    "  FROM observations o;\n",
    "\n",
    "CREATE OR REPLACE VIEW trimmed_outliers AS\n",
    "SELECT o.*\n",
    "  FROM observations o, p1p99 p\n",
    " WHERE o.x NOT BETWEEN p.p1 AND p.p99;"
   ]
  },
  {
   "cell_type": "code",
   "execution_count": null,
   "id": "ac8db73e-2a97-4395-adc1-d9840eb70c64",
   "metadata": {},
   "outputs": [],
   "source": [
    "results = %sql SELECT * from trimmed_observations\n",
    "sns.displot(results.dict(), x=\"x\", kind='hist', hue='label', kde=True, bins=20,\n",
    "           height=4, aspect=1.5)"
   ]
  },
  {
   "cell_type": "markdown",
   "id": "3262a584-8efa-438f-8fd0-80e44fcb5f6b",
   "metadata": {},
   "source": [
    "## Does corruption affect?"
   ]
  },
  {
   "cell_type": "code",
   "execution_count": null,
   "id": "e70da32d-acb0-4a62-a2e2-fab678748b7e",
   "metadata": {},
   "outputs": [],
   "source": [
    "# corrupt one value\n",
    "%sql UPDATE observations SET x = x*10 \\\n",
    "      WHERE x = (SELECT MAX(x) FROM observations);"
   ]
  },
  {
   "cell_type": "markdown",
   "id": "6b825db1-ea83-458f-b43d-87633c06b203",
   "metadata": {},
   "source": [
    "Turns out, we still have as many outliers, which we trim.\n",
    "\n",
    "Because we are trimming based on the order of the data and not on the distribution statistics (mean/SD)"
   ]
  },
  {
   "cell_type": "code",
   "execution_count": null,
   "id": "e5dd84d1-4e93-4ee3-b979-2c06bff18629",
   "metadata": {},
   "outputs": [],
   "source": [
    "results = %sql SELECT * from trimmed_observations\n",
    "sns.displot(results.dict(), x=\"x\", kind='hist',\n",
    "            hue='label', kde=True, bins=np.linspace(32, 70, 20),\n",
    "            height=4, aspect=1.5, rug=True)\n",
    "plt.xlim(30, 70)"
   ]
  },
  {
   "cell_type": "markdown",
   "id": "fa319954-03e5-4db4-b965-9eeda6f6d8c5",
   "metadata": {},
   "source": [
    "## Winsorization"
   ]
  },
  {
   "cell_type": "code",
   "execution_count": null,
   "id": "7dc21c5b-a7eb-40c4-99f8-c675e3669c92",
   "metadata": {},
   "outputs": [],
   "source": [
    "## reset before moving on\n",
    "# %sql UPDATE observations SET x = x*10 \\\n",
    "#       WHERE x = (SELECT MAX(x) FROM OBSERVATIONS);"
   ]
  },
  {
   "cell_type": "code",
   "execution_count": null,
   "id": "e00ffdfa-7685-4e90-92a6-8ed57d5d676e",
   "metadata": {},
   "outputs": [],
   "source": [
    "%%sql\n",
    "CREATE OR REPLACE VIEW winsorized_observations AS\n",
    "SELECT CASE WHEN o.x BETWEEN p.p1 AND p.p99 THEN o.x\n",
    "            WHEN o.x < p.p1 THEN p.p1\n",
    "            WHEN o.x > p.p99 THEN p.p99\n",
    "        END AS x,\n",
    "      'winsorized' AS label\n",
    "  FROM observations o, p1p99 p\n",
    "UNION ALL\n",
    "SELECT o.x, 'original' AS label\n",
    "  FROM observations o;"
   ]
  },
  {
   "cell_type": "code",
   "execution_count": null,
   "id": "f6561173-9b6c-443f-a183-99859f53c13c",
   "metadata": {},
   "outputs": [],
   "source": [
    "results = %sql SELECT * from winsorized_observations\n",
    "sns.displot(results.dict(), x=\"x\", kind='hist',\n",
    "            hue='label', kde=True, bins=np.linspace(32, 70, 20),\n",
    "            height=4, aspect=1.5, rug=True)\n",
    "plt.xlim(30, 70)"
   ]
  },
  {
   "cell_type": "code",
   "execution_count": null,
   "id": "e096e5c9-7bb1-430d-875a-17da7772e146",
   "metadata": {},
   "outputs": [],
   "source": [
    "%%sql \n",
    "SELECT 'orig' AS distribution, min(x),\n",
    "       percentile_disc(.25) WITHIN GROUP (ORDER BY x) as p25,\n",
    "       percentile_disc(.50) WITHIN GROUP (ORDER BY x) as median,\n",
    "       percentile_disc(.75) WITHIN GROUP (ORDER BY x) as p75,\n",
    "       max(x), avg(x), stddev(x), count(x) \n",
    "       FROM observations\n",
    "UNION ALL\n",
    "SELECT 'winsorized', min(x),\n",
    "       percentile_disc(.25) WITHIN GROUP (ORDER BY x) as p25,\n",
    "       percentile_disc(.50) WITHIN GROUP (ORDER BY x) as median,\n",
    "       percentile_disc(.75) WITHIN GROUP (ORDER BY x) as p75,\n",
    "       max(x), avg(x), stddev(x), count(x) \n",
    "       FROM winsorized_observations WHERE label = 'winsorized'\n",
    "UNION ALL \n",
    "SELECT 'trimmed', min(x),\n",
    "       percentile_disc(.25) WITHIN GROUP (ORDER BY x) as p25,\n",
    "       percentile_disc(.50) WITHIN GROUP (ORDER BY x) as median,\n",
    "       percentile_disc(.75) WITHIN GROUP (ORDER BY x) as p75,\n",
    "       max(x), avg(x), stddev(x), count(x) \n",
    "       FROM trimmed_observations WHERE label = 'trimmed';"
   ]
  },
  {
   "cell_type": "markdown",
   "id": "cba5aafe-7258-4047-bcc5-823d80f171c3",
   "metadata": {},
   "source": [
    "# Robustness, Mean, Median, Hampel X84"
   ]
  },
  {
   "cell_type": "code",
   "execution_count": null,
   "id": "e3832e34-c107-49fc-a06b-868bf46db373",
   "metadata": {},
   "outputs": [],
   "source": [
    "%%sql\n",
    "-- percentile_disc returns an actual data value near the percentile\n",
    "-- percentile_cont returns an interpolated value at the percentile\n",
    "CREATE OR REPLACE VIEW median AS\n",
    "(SELECT percentile_disc(0.5) WITHIN GROUP (ORDER BY x) as median\n",
    "  FROM observations);"
   ]
  },
  {
   "cell_type": "code",
   "execution_count": null,
   "id": "b1b6aa5c-9db2-4cbe-aaf0-986987d7ad7f",
   "metadata": {},
   "outputs": [],
   "source": [
    "%%sql\n",
    "CREATE OR REPLACE VIEW mad AS\n",
    "WITH\n",
    "absdevs AS\n",
    "(SELECT abs(x - median) as d\n",
    "   FROM observations, median)\n",
    "SELECT percentile_disc(0.5) WITHIN GROUP (ORDER BY d) as mad\n",
    "  FROM absdevs;\n",
    "    \n",
    "SELECT median, mad\n",
    "  FROM median, mad;"
   ]
  },
  {
   "cell_type": "code",
   "execution_count": null,
   "id": "0b9452cc-797d-49fb-b972-7b9d210880db",
   "metadata": {},
   "outputs": [],
   "source": [
    "%%sql\n",
    "CREATE OR REPLACE VIEW hampelx84x2_observations AS\n",
    "SELECT o.x,\n",
    "      'hampelx84x2' AS label\n",
    "  FROM observations o, median, mad\n",
    " WHERE o.x BETWEEN (median-2*1.4826*mad) AND (median+2*1.4826*mad)\n",
    "UNION ALL\n",
    "SELECT o.x, 'orig' AS label\n",
    "  FROM observations o;\n",
    "\n",
    "CREATE OR REPLACE VIEW Hampel84x2_outliers AS\n",
    "SELECT x\n",
    "  FROM observations o, median, mad\n",
    " WHERE x NOT BETWEEN (median - 2*1.4826*mad) AND (median + 2*1.4826*mad);"
   ]
  },
  {
   "cell_type": "code",
   "execution_count": null,
   "id": "bb3fbdce-9eb8-4756-bb39-7ce1122c61b5",
   "metadata": {},
   "outputs": [],
   "source": [
    "results = %sql SELECT * FROM hampelx84x2_observations\n",
    "sns.displot(results.dict(), x=\"x\", kind='hist',\n",
    "            hue='label', kde=True, bins=np.linspace(32, 70, 20),\n",
    "            height=4, aspect=1.5, rug=True)\n",
    "plt.xlim(30, 70)"
   ]
  }
 ],
 "metadata": {
  "kernelspec": {
   "display_name": "Python 3 (ipykernel)",
   "language": "python",
   "name": "python3"
  },
  "language_info": {
   "codemirror_mode": {
    "name": "ipython",
    "version": 3
   },
   "file_extension": ".py",
   "mimetype": "text/x-python",
   "name": "python",
   "nbconvert_exporter": "python",
   "pygments_lexer": "ipython3",
   "version": "3.11.10"
  }
 },
 "nbformat": 4,
 "nbformat_minor": 5
}
