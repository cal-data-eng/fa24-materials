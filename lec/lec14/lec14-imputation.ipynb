{
 "cells": [
  {
   "cell_type": "markdown",
   "id": "3efe537d-d1be-4b74-836c-1cff6c22ec1d",
   "metadata": {},
   "source": [
    "# Lecture 14: Imputation"
   ]
  },
  {
   "cell_type": "code",
   "execution_count": null,
   "id": "72611649-0355-4860-ae39-da1365cbc2c1",
   "metadata": {},
   "outputs": [],
   "source": [
    "import numpy as np\n",
    "import pandas as pd\n",
    "import seaborn as sns\n",
    "import matplotlib.pyplot as plt\n",
    "import matplotlib as mpl\n",
    "\n",
    "import importlib\n",
    "importlib.reload(mpl); importlib.reload(plt); importlib.reload(sns)\n",
    "\n",
    "sns.reset_orig()\n",
    "sns.set(font_scale=1.5)\n",
    "%matplotlib inline"
   ]
  },
  {
   "cell_type": "markdown",
   "id": "e4185fd4-20d4-403a-9088-619be1217763",
   "metadata": {},
   "source": [
    "# GNIS data"
   ]
  },
  {
   "cell_type": "markdown",
   "id": "2f8ce206-e924-42a0-8dd3-dab8c1c2541e",
   "metadata": {},
   "source": [
    "This is the GNIS dataset from a previous lecture. If you didn't load in the database, run the below cell before connecting."
   ]
  },
  {
   "cell_type": "code",
   "execution_count": null,
   "id": "5d5a45fa-0636-4407-97fb-2d94b27df523",
   "metadata": {},
   "outputs": [],
   "source": [
    "!psql -h localhost -d gnis -c 'SELECT pg_terminate_backend(pg_stat_activity.pid) FROM pg_stat_activity WHERE datname = current_database() AND pid <> pg_backend_pid();'\n",
    "!psql -h localhost -c 'DROP DATABASE IF EXISTS gnis'\n",
    "!psql -h localhost -c 'CREATE DATABASE gnis' \n",
    "!psql -h localhost -d gnis -f ../lec11/data/gnis.sql"
   ]
  },
  {
   "cell_type": "code",
   "execution_count": null,
   "id": "ca5713cc-39d6-4cda-8f6c-48e58683fd37",
   "metadata": {},
   "outputs": [],
   "source": [
    "%reload_ext sql\n",
    "%sql postgresql://localhost:5432/gnis"
   ]
  },
  {
   "cell_type": "code",
   "execution_count": null,
   "id": "144f5ba8-713a-4f4c-b444-fb44834cdc78",
   "metadata": {},
   "outputs": [],
   "source": [
    "%sql SELECT setseed(0.12345);"
   ]
  },
  {
   "cell_type": "code",
   "execution_count": null,
   "id": "4b5778e7-3493-482a-b2a1-ae9a51316221",
   "metadata": {},
   "outputs": [],
   "source": [
    "%%sql\n",
    "DROP TABLE IF EXISTS holey CASCADE;\n",
    "CREATE TABLE holey AS \n",
    "SELECT feature_id, feature_name, feature_class, state_alpha, county_name, \n",
    "       prim_lat_dec, prim_long_dec, \n",
    "       CASE WHEN random() > 0.9 THEN NULL\n",
    "            ELSE elev_in_m\n",
    "        END AS elev_in_m\n",
    "  FROM national;\n",
    "SELECT count(elev_in_m)::float / count(*) FROM holey;"
   ]
  },
  {
   "cell_type": "code",
   "execution_count": null,
   "id": "7df7804e-e26a-4f0e-ae52-f1d1310be779",
   "metadata": {},
   "outputs": [],
   "source": [
    "%%sql\n",
    "SELECT * FROM holey LIMIT 10;"
   ]
  },
  {
   "cell_type": "markdown",
   "id": "d6767106-6a79-4518-9f91-54e7d1b248c5",
   "metadata": {},
   "source": [
    "## Method 1. Default Value Imputation with SQL"
   ]
  },
  {
   "cell_type": "code",
   "execution_count": null,
   "id": "98e4c278-19fc-4ada-ad3c-9f9793ce034b",
   "metadata": {},
   "outputs": [],
   "source": [
    "%%sql\n",
    "WITH elevavg AS (SELECT avg(elev_in_m) FROM holey)\n",
    "SELECT h.*, \n",
    "       CASE WHEN h.elev_in_m IS NOT NULL\n",
    "            THEN h.elev_in_m\n",
    "            ELSE e.avg\n",
    "        END AS imputed_elev_in_m\n",
    "  FROM holey h, elevavg e\n",
    "LIMIT 10;"
   ]
  },
  {
   "cell_type": "markdown",
   "id": "a5a98ebd-2894-4442-ae2d-98a20b13a8e8",
   "metadata": {},
   "source": [
    "## Method 2. Correlation across columns"
   ]
  },
  {
   "cell_type": "code",
   "execution_count": null,
   "id": "b4bade8c-1de4-42e8-a2e8-c3bede9cd04e",
   "metadata": {},
   "outputs": [],
   "source": [
    "# Training is an aggregate function\n",
    "# Here we'll train the model in SQL just for fun\n",
    "result = %sql SELECT regr_slope(elev_in_m, prim_long_dec), \\\n",
    "               regr_intercept(elev_in_m, prim_long_dec) FROM holey\n",
    "slope, intercept = result[0]\n",
    "slope, intercept"
   ]
  },
  {
   "cell_type": "code",
   "execution_count": null,
   "id": "6f4ab5f6-2668-48a8-bac3-d9b472b9f111",
   "metadata": {},
   "outputs": [],
   "source": [
    "%%sql\n",
    "SELECT *, \n",
    "       CASE WHEN elev_in_m IS NOT NULL THEN elev_in_m\n",
    "            ELSE {{slope}}*prim_long_dec + {{intercept}}\n",
    "        END AS imputed_elev_in_m\n",
    "  FROM holey\n",
    "LIMIT 10;"
   ]
  },
  {
   "cell_type": "markdown",
   "id": "4066fbd1-901e-4188-8c22-f2fd8fdb4bd5",
   "metadata": {},
   "source": [
    "## Method 3. General model-based interpolation\n",
    "\n",
    "We won't show the demo; check slides for the general idea."
   ]
  },
  {
   "cell_type": "code",
   "execution_count": null,
   "id": "2633ebfa-327d-43af-a4cc-21fc829de9a5",
   "metadata": {},
   "outputs": [],
   "source": [
    "\n",
    "%config SqlMagic.displaylimit = 100"
   ]
  },
  {
   "cell_type": "markdown",
   "id": "0094baa7-3d6f-47f7-a956-7c024a0dad4b",
   "metadata": {},
   "source": [
    "## Method 4. [simple] Correlation across ordered rows"
   ]
  },
  {
   "cell_type": "code",
   "execution_count": null,
   "id": "9380c86b-88dd-4a7f-be40-2e053e85635b",
   "metadata": {},
   "outputs": [],
   "source": [
    "%%sql\n",
    "-- The following doesn't work in PostgreSQL!\n",
    "WITH buggy AS (\n",
    "SELECT *,\n",
    "       CASE WHEN elev_in_m IS NOT NULL THEN elev_in_m\n",
    "            ELSE lag(elev_in_m, 1)\n",
    "                 OVER (ORDER BY feature_id)\n",
    "        END AS imputed_elev_in_m\n",
    "  FROM holey\n",
    ")\n",
    "SELECT * FROM buggy ORDER BY elev_in_m DESC LIMIT 100;"
   ]
  },
  {
   "cell_type": "code",
   "execution_count": null,
   "id": "bb2818af-5af3-4486-bfe3-404bd5c6fa5a",
   "metadata": {},
   "outputs": [],
   "source": [
    "%%sql\n",
    "-- Here's a UDA fix from\n",
    "-- https://stackoverflow.com/questions/18987791/how-do-i-efficiently-select-the-previous-non-null-value\n",
    "CREATE OR REPLACE FUNCTION coalesce_agg_sfunc(state anyelement, value anyelement) RETURNS anyelement AS\n",
    "$$\n",
    "    SELECT coalesce(value, state);\n",
    "$$ LANGUAGE SQL;\n",
    "\n",
    "CREATE AGGREGATE coalesce_agg(anyelement) (\n",
    "    SFUNC = coalesce_agg_sfunc,\n",
    "    STYPE  = anyelement);"
   ]
  },
  {
   "cell_type": "code",
   "execution_count": null,
   "id": "02619b1e-d2e4-4494-af32-90b0ced598f7",
   "metadata": {},
   "outputs": [],
   "source": [
    "%%sql\n",
    "-- Fixed to handle repeated NULLs\n",
    "WITH fixed AS (\n",
    "SELECT *,\n",
    "       coalesce_agg(elev_in_m) OVER (order by feature_id) AS imputed_elev_in_m\n",
    "  FROM holey\n",
    ")\n",
    "SELECT * FROM fixed ORDER BY imputed_elev_in_m DESC LIMIT 100;"
   ]
  },
  {
   "cell_type": "markdown",
   "id": "96c2f320-d7e0-4c97-ab02-27557bb8a0fa",
   "metadata": {},
   "source": [
    "## Method 4: Generalized interpolation across rows, with Linear Interpolation as an example"
   ]
  },
  {
   "cell_type": "markdown",
   "id": "34b8d33c-8098-4adc-8c1b-b52db089fb06",
   "metadata": {},
   "source": [
    "Forward pass"
   ]
  },
  {
   "cell_type": "code",
   "execution_count": null,
   "id": "73d013cd-6c8b-4b4b-95bc-9d4e465921a3",
   "metadata": {},
   "outputs": [],
   "source": [
    "%sql DROP VIEW IF EXISTS forward;"
   ]
  },
  {
   "cell_type": "code",
   "execution_count": null,
   "id": "4c66de9e-9083-4971-9d65-698b2df6b6a4",
   "metadata": {},
   "outputs": [],
   "source": [
    "%%sql\n",
    "-- 1. Forward assign run numbers to rows, propagate val, get nextval\n",
    "CREATE OR REPLACE VIEW forward AS\n",
    "SELECT feature_id,\n",
    "    elev_in_m,\n",
    "       SUM(CASE WHEN elev_in_m IS NULL THEN 0 ELSE 1 END) \n",
    "         OVER (ORDER BY feature_id) AS run,\n",
    "       coalesce_agg(elev_in_m) OVER (ORDER BY feature_id) AS run_start,\n",
    "       CASE WHEN elev_in_m IS NULL \n",
    "              THEN lead(elev_in_m, 1) OVER (ORDER BY feature_id)\n",
    "            ELSE NULL\n",
    "             END AS nextval\n",
    "  FROM holey;\n",
    "SELECT * FROM forward ORDER BY feature_id ASC LIMIT 12 OFFSET 183;"
   ]
  },
  {
   "cell_type": "markdown",
   "id": "4c8c4e01-913a-47af-bddb-06bd60c8354a",
   "metadata": {},
   "source": [
    "Backward pass"
   ]
  },
  {
   "cell_type": "code",
   "execution_count": null,
   "id": "6fd41560-a128-4ff7-ac65-308debda7bae",
   "metadata": {},
   "outputs": [],
   "source": [
    "%sql DROP VIEW IF EXISTS backward;"
   ]
  },
  {
   "cell_type": "code",
   "execution_count": null,
   "id": "34f09189-6000-4815-aaee-76f85ff08466",
   "metadata": {},
   "outputs": [],
   "source": [
    "%%sql\n",
    "-- 2. Backward: assign run_end, run_size, run_rank\n",
    "CREATE OR REPLACE VIEW backward AS\n",
    "SELECT feature_id,\n",
    "    elev_in_m,\n",
    "run_start,\n",
    "nextval,\n",
    "       CASE WHEN elev_in_m IS NOT NULL THEN elev_in_m\n",
    "            ELSE coalesce_agg(nextval) OVER (PARTITION BY run ORDER BY feature_id DESC)\n",
    "        END AS run_end,\n",
    "       count(*) OVER (PARTITION BY run) AS run_size,\n",
    "       -1 + (RANK() OVER (PARTITION BY run ORDER BY feature_id)) AS run_rank\n",
    "  FROM forward;\n",
    "SELECT * FROM backward ORDER BY feature_id ASC LIMIT 12 OFFSET 183;"
   ]
  },
  {
   "cell_type": "markdown",
   "id": "8f449593-1b53-4815-ac48-fd186dec67ca",
   "metadata": {},
   "source": [
    "Scalar function pass"
   ]
  },
  {
   "cell_type": "code",
   "execution_count": null,
   "id": "3b3b74d6-d9be-451e-a8d2-873ceeee329f",
   "metadata": {},
   "outputs": [],
   "source": [
    "%%sql\n",
    "-- 3. Simple scalar pass\n",
    "CREATE OR REPLACE VIEW final AS\n",
    "SELECT *, \n",
    "       run_start + (run_rank)*((run_end-run_start)/(run_size))\n",
    "         AS interpolated\n",
    "  FROM backward;\n",
    "SELECT * FROM final  ORDER BY feature_id ASC LIMIT 12 OFFSET 183;"
   ]
  },
  {
   "cell_type": "code",
   "execution_count": null,
   "id": "5870a5b2-f6da-4d88-bdd0-d0e9bc73de04",
   "metadata": {},
   "outputs": [],
   "source": [
    "%sql EXPLAIN Analyze SELECT * from final LIMIT 500;"
   ]
  },
  {
   "cell_type": "markdown",
   "id": "506d0a98-a7ea-482e-86bc-ba15fdd60315",
   "metadata": {},
   "source": [
    "---\n",
    "\n",
    "# String distance"
   ]
  },
  {
   "cell_type": "code",
   "execution_count": null,
   "id": "4802dda6-1ab1-4430-8863-56c48e84ba58",
   "metadata": {},
   "outputs": [],
   "source": [
    "%reload_ext sql\n",
    "%sql postgresql://localhost:5432/postgres"
   ]
  },
  {
   "cell_type": "code",
   "execution_count": null,
   "id": "b02ce16e-8a7a-4c62-a610-6fd61086581b",
   "metadata": {},
   "outputs": [],
   "source": [
    "%sql CREATE EXTENSION IF NOT EXISTS fuzzystrmatch;"
   ]
  },
  {
   "cell_type": "code",
   "execution_count": null,
   "id": "2fb44480-e90f-4804-9fd0-fd5c51d24895",
   "metadata": {},
   "outputs": [],
   "source": [
    "%%sql\n",
    "DROP TABLE IF EXISTS Strings;\n",
    "CREATE TABLE Strings (str1 TEXT, str2 TEXT);\n",
    "INSERT INTO Strings VALUES\n",
    " ('Lisa', 'List'),\n",
    " ('Lisa', 'License'),\n",
    " ('Joe', 'Noel');"
   ]
  },
  {
   "cell_type": "code",
   "execution_count": null,
   "id": "3189a6e1-825f-44f6-8dac-b75c883a1ea6",
   "metadata": {},
   "outputs": [],
   "source": [
    "%%sql\n",
    "SELECT *,\n",
    "       levenshtein(str1, str2),\n",
    "       soundex(str1) as soundex1,\n",
    "       soundex(str2) as soundex2,\n",
    "       dmetaphone(str1) AS dmetaphone1,\n",
    "       dmetaphone(str2) AS dmetaphone2,\n",
    "       dmetaphone_alt(str1) AS dmetaphone_alt1,\n",
    "       dmetaphone_alt(str2) AS dmetaphone_alt2\n",
    "FROM Strings;"
   ]
  },
  {
   "cell_type": "markdown",
   "id": "be6eaf82-b646-41b1-98b9-f09285a1b2eb",
   "metadata": {},
   "source": [
    "## [Extra] Pretty print of row runs, for lecture\n",
    "\n",
    "(for lecture slides. Generated with pandas)"
   ]
  },
  {
   "cell_type": "code",
   "execution_count": null,
   "id": "926c5239-97b0-404f-9613-77cde75f439a",
   "metadata": {},
   "outputs": [],
   "source": [
    "import pandas as pd\n",
    "pd.DataFrame.from_dict({\"feature_id\": [493, 494, 495, 496],\n",
    "                        \"feature_name\": [\"Adobe Canyon\", \"Adobe Flats\", \"Adobe Lake\", \"Adobe Mountain\"],\n",
    "                        \"elev_in_m\": [1423, \"None\", \"None\", 517],\n",
    "                        \"run\": [84, 84, 84, 85],\n",
    "                        \"run_start\": [1423, 1423, 1423, 517],\n",
    "                        \"next_val\": [None, None, 517, None],\n",
    "                        \"run_end\": [1423, 517, 517, 517],\n",
    "                        \"run_size\": [3, 3, 3, 1],\n",
    "                        \"run_rank\": [0, 1, 2, 0],\n",
    "                        \"interpol_elev_in_m\": [1423, 1121, 819, 517]})"
   ]
  },
  {
   "cell_type": "code",
   "execution_count": null,
   "id": "23552aa5-ecae-4738-8d99-c361004558b3",
   "metadata": {},
   "outputs": [],
   "source": []
  }
 ],
 "metadata": {
  "kernelspec": {
   "display_name": "Python 3 (ipykernel)",
   "language": "python",
   "name": "python3"
  },
  "language_info": {
   "codemirror_mode": {
    "name": "ipython",
    "version": 3
   },
   "file_extension": ".py",
   "mimetype": "text/x-python",
   "name": "python",
   "nbconvert_exporter": "python",
   "pygments_lexer": "ipython3",
   "version": "3.11.10"
  },
  "widgets": {
   "application/vnd.jupyter.widget-state+json": {
    "state": {},
    "version_major": 2,
    "version_minor": 0
   }
  }
 },
 "nbformat": 4,
 "nbformat_minor": 5
}
