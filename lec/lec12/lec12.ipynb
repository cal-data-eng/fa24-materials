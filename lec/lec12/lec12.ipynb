{
 "cells": [
  {
   "cell_type": "markdown",
   "id": "3efe537d-d1be-4b74-836c-1cff6c22ec1d",
   "metadata": {},
   "source": [
    "# Lecture 12: Outliers and Imputation"
   ]
  },
  {
   "cell_type": "code",
   "execution_count": 1,
   "id": "72611649-0355-4860-ae39-da1365cbc2c1",
   "metadata": {},
   "outputs": [],
   "source": [
    "import numpy as np\n",
    "import pandas as pd\n",
    "import seaborn as sns\n",
    "import matplotlib.pyplot as plt\n",
    "import matplotlib as mpl\n",
    "\n",
    "import importlib\n",
    "importlib.reload(mpl); importlib.reload(plt); importlib.reload(sns)\n",
    "\n",
    "sns.reset_orig()\n",
    "sns.set(font_scale=1.5)\n",
    "%matplotlib inline"
   ]
  },
  {
   "cell_type": "markdown",
   "id": "34ddf98f-4be7-4cca-8716-e2fc66e5ced3",
   "metadata": {},
   "source": [
    "---\n",
    "\n",
    "# Gaussian Outliers"
   ]
  },
  {
   "cell_type": "code",
   "execution_count": 2,
   "id": "2a7f5c56-44a1-45a9-bed8-2277c75f9abd",
   "metadata": {},
   "outputs": [
    {
     "name": "stdout",
     "output_type": "stream",
     "text": [
      "Deploy Streamlit apps for free on Ploomber Cloud! Learn more: https://ploomber.io/s/signup\n"
     ]
    }
   ],
   "source": [
    "%reload_ext sql\n",
    "%sql postgresql://localhost:5432/postgres"
   ]
  },
  {
   "cell_type": "code",
   "execution_count": 3,
   "id": "e3e8473d-833d-4b45-8a8a-29c525715daf",
   "metadata": {},
   "outputs": [
    {
     "data": {
      "text/html": [
       "<span style=\"None\">Running query in &#x27;postgresql://localhost:5432/postgres&#x27;</span>"
      ],
      "text/plain": [
       "Running query in 'postgresql://localhost:5432/postgres'"
      ]
     },
     "metadata": {},
     "output_type": "display_data"
    },
    {
     "data": {
      "text/html": [
       "<span style=\"color: green\">1 rows affected.</span>"
      ],
      "text/plain": [
       "1 rows affected."
      ]
     },
     "metadata": {},
     "output_type": "display_data"
    },
    {
     "data": {
      "text/html": [
       "<table>\n",
       "    <thead>\n",
       "        <tr>\n",
       "            <th>setseed</th>\n",
       "        </tr>\n",
       "    </thead>\n",
       "    <tbody>\n",
       "        <tr>\n",
       "            <td></td>\n",
       "        </tr>\n",
       "    </tbody>\n",
       "</table>"
      ],
      "text/plain": [
       "+---------+\n",
       "| setseed |\n",
       "+---------+\n",
       "|         |\n",
       "+---------+"
      ]
     },
     "execution_count": 3,
     "metadata": {},
     "output_type": "execute_result"
    }
   ],
   "source": [
    "%sql SELECT setseed(0.42) -- to fix randomness"
   ]
  },
  {
   "cell_type": "markdown",
   "id": "c9fa3cb0-d4db-4c5e-93e5-bfb97cfb27f3",
   "metadata": {},
   "source": [
    "Just like a Python package, we need to import `tablefunc` in order to use the `normal_rand` function."
   ]
  },
  {
   "cell_type": "code",
   "execution_count": 4,
   "id": "918e88da-44f4-4cc4-9244-71bca367ebbd",
   "metadata": {},
   "outputs": [
    {
     "data": {
      "text/html": [
       "<span style=\"None\">Running query in &#x27;postgresql://localhost:5432/postgres&#x27;</span>"
      ],
      "text/plain": [
       "Running query in 'postgresql://localhost:5432/postgres'"
      ]
     },
     "metadata": {},
     "output_type": "display_data"
    },
    {
     "data": {
      "text/html": [
       "<table>\n",
       "    <thead>\n",
       "        <tr>\n",
       "        </tr>\n",
       "    </thead>\n",
       "    <tbody>\n",
       "    </tbody>\n",
       "</table>"
      ],
      "text/plain": [
       "++\n",
       "||\n",
       "++\n",
       "++"
      ]
     },
     "execution_count": 4,
     "metadata": {},
     "output_type": "execute_result"
    }
   ],
   "source": [
    "%sql CREATE EXTENSION IF NOT EXISTS tablefunc;"
   ]
  },
  {
   "cell_type": "markdown",
   "id": "99ec6c3f-bf85-49cb-864b-7a1c8f2300f7",
   "metadata": {},
   "source": [
    "Assume our datapoints are truly Normal. Simulate them in `observations`.\n",
    "* 1000 datapoints, $\\mu = 50, \\sigma = 5$."
   ]
  },
  {
   "cell_type": "code",
   "execution_count": 5,
   "id": "1733ac94-953e-43af-aade-f57b3c5aed5d",
   "metadata": {},
   "outputs": [
    {
     "data": {
      "text/html": [
       "<span style=\"None\">Running query in &#x27;postgresql://localhost:5432/postgres&#x27;</span>"
      ],
      "text/plain": [
       "Running query in 'postgresql://localhost:5432/postgres'"
      ]
     },
     "metadata": {},
     "output_type": "display_data"
    },
    {
     "data": {
      "text/html": [
       "<span style=\"color: green\">1000 rows affected.</span>"
      ],
      "text/plain": [
       "1000 rows affected."
      ]
     },
     "metadata": {},
     "output_type": "display_data"
    },
    {
     "data": {
      "text/html": [
       "<table>\n",
       "    <thead>\n",
       "        <tr>\n",
       "        </tr>\n",
       "    </thead>\n",
       "    <tbody>\n",
       "    </tbody>\n",
       "</table>"
      ],
      "text/plain": [
       "++\n",
       "||\n",
       "++\n",
       "++"
      ]
     },
     "execution_count": 5,
     "metadata": {},
     "output_type": "execute_result"
    }
   ],
   "source": [
    "%%sql\n",
    "DROP TABLE IF EXISTS observations CASCADE;\n",
    "CREATE TABLE observations AS (\n",
    "    SELECT normal_rand AS x\n",
    "    FROM normal_rand(1000, 50, 5)\n",
    ");"
   ]
  },
  {
   "cell_type": "code",
   "execution_count": 6,
   "id": "e9d440be-ab6a-4a3b-8dc1-c7caf881c804",
   "metadata": {},
   "outputs": [
    {
     "data": {
      "text/html": [
       "<span style=\"None\">Running query in &#x27;postgresql://localhost:5432/postgres&#x27;</span>"
      ],
      "text/plain": [
       "Running query in 'postgresql://localhost:5432/postgres'"
      ]
     },
     "metadata": {},
     "output_type": "display_data"
    },
    {
     "data": {
      "text/html": [
       "<span style=\"color: green\">1000 rows affected.</span>"
      ],
      "text/plain": [
       "1000 rows affected."
      ]
     },
     "metadata": {},
     "output_type": "display_data"
    }
   ],
   "source": [
    "results = %sql SELECT x FROM observations;"
   ]
  },
  {
   "cell_type": "code",
   "execution_count": 7,
   "id": "aa9a4dc8-c8cc-4551-b615-a0a301dcb088",
   "metadata": {},
   "outputs": [
    {
     "data": {
      "text/plain": [
       "<seaborn.axisgrid.FacetGrid at 0x793b77d92190>"
      ]
     },
     "execution_count": 7,
     "metadata": {},
     "output_type": "execute_result"
    },
    {
     "data": {
      "image/png": "[encoded data removed]",
      "text/plain": [
       "<Figure size 896.125x400 with 1 Axes>"
      ]
     },
     "metadata": {},
     "output_type": "display_data"
    }
   ],
   "source": [
    "sns.displot(results.dict(), fill=True, kde=True, bins=20,\n",
    "            height=4, aspect=2)"
   ]
  },
  {
   "cell_type": "markdown",
   "id": "110fc1bb-3df6-4a41-b23c-8346aa690396",
   "metadata": {},
   "source": [
    "Construct a view called `normal_outliers` using the **2 sigma** metric."
   ]
  },
  {
   "cell_type": "code",
   "execution_count": 8,
   "id": "c1aac5b2-4c06-4650-845d-5fc54d9739a9",
   "metadata": {},
   "outputs": [],
   "source": [
    "# construct the view"
   ]
  },
  {
   "cell_type": "code",
   "execution_count": 9,
   "id": "6fd8529a-92be-435e-9eb3-c84f2179172a",
   "metadata": {},
   "outputs": [
    {
     "data": {
      "text/html": [
       "<span style=\"None\">Running query in &#x27;postgresql://localhost:5432/postgres&#x27;</span>"
      ],
      "text/plain": [
       "Running query in 'postgresql://localhost:5432/postgres'"
      ]
     },
     "metadata": {},
     "output_type": "display_data"
    },
    {
     "data": {
      "text/html": [
       "<table>\n",
       "    <thead>\n",
       "        <tr>\n",
       "        </tr>\n",
       "    </thead>\n",
       "    <tbody>\n",
       "    </tbody>\n",
       "</table>"
      ],
      "text/plain": [
       "++\n",
       "||\n",
       "++\n",
       "++"
      ]
     },
     "execution_count": 9,
     "metadata": {},
     "output_type": "execute_result"
    }
   ],
   "source": [
    "%%sql\n",
    "CREATE OR REPLACE VIEW normal_outliers AS\n",
    "WITH bounds AS (\n",
    "   SELECT avg(x) - 2*stddev(x) AS lo,\n",
    "   avg(x) + 2*stddev(x) AS hi\n",
    "   FROM observations\n",
    ")\n",
    "SELECT x AS outlier\n",
    "FROM observations o, bounds b \n",
    "WHERE x NOT BETWEEN b.lo AND b.hi;"
   ]
  },
  {
   "cell_type": "code",
   "execution_count": 10,
   "id": "0a00fb27-de7e-4702-aea3-39a67fff448d",
   "metadata": {},
   "outputs": [
    {
     "data": {
      "text/html": [
       "<span style=\"None\">Running query in &#x27;postgresql://localhost:5432/postgres&#x27;</span>"
      ],
      "text/plain": [
       "Running query in 'postgresql://localhost:5432/postgres'"
      ]
     },
     "metadata": {},
     "output_type": "display_data"
    },
    {
     "data": {
      "text/html": [
       "<span style=\"color: green\">41 rows affected.</span>"
      ],
      "text/plain": [
       "41 rows affected."
      ]
     },
     "metadata": {},
     "output_type": "display_data"
    },
    {
     "data": {
      "text/html": [
       "<table>\n",
       "    <thead>\n",
       "        <tr>\n",
       "            <th>outlier</th>\n",
       "        </tr>\n",
       "    </thead>\n",
       "    <tbody>\n",
       "        <tr>\n",
       "            <td>38.77398645435416</td>\n",
       "        </tr>\n",
       "        <tr>\n",
       "            <td>39.565436150228415</td>\n",
       "        </tr>\n",
       "        <tr>\n",
       "            <td>62.16075757510076</td>\n",
       "        </tr>\n",
       "        <tr>\n",
       "            <td>67.10880654989188</td>\n",
       "        </tr>\n",
       "        <tr>\n",
       "            <td>38.613250285067046</td>\n",
       "        </tr>\n",
       "        <tr>\n",
       "            <td>36.56205762377803</td>\n",
       "        </tr>\n",
       "        <tr>\n",
       "            <td>62.9226636874908</td>\n",
       "        </tr>\n",
       "        <tr>\n",
       "            <td>36.3591534642134</td>\n",
       "        </tr>\n",
       "        <tr>\n",
       "            <td>65.89723294885194</td>\n",
       "        </tr>\n",
       "        <tr>\n",
       "            <td>36.5387269972338</td>\n",
       "        </tr>\n",
       "    </tbody>\n",
       "</table>\n",
       "<span style=\"font-style:italic;text-align:center;\">Truncated to <a href=\"https://jupysql.ploomber.io/en/latest/api/configuration.html#displaylimit\">displaylimit</a> of 10.</span>"
      ],
      "text/plain": [
       "+--------------------+\n",
       "|      outlier       |\n",
       "+--------------------+\n",
       "| 38.77398645435416  |\n",
       "| 39.565436150228415 |\n",
       "| 62.16075757510076  |\n",
       "| 67.10880654989188  |\n",
       "| 38.613250285067046 |\n",
       "| 36.56205762377803  |\n",
       "|  62.9226636874908  |\n",
       "|  36.3591534642134  |\n",
       "| 65.89723294885194  |\n",
       "|  36.5387269972338  |\n",
       "+--------------------+\n",
       "Truncated to displaylimit of 10."
      ]
     },
     "execution_count": 10,
     "metadata": {},
     "output_type": "execute_result"
    }
   ],
   "source": [
    "# query the view\n",
    "%sql SELECT * FROM normal_outliers;"
   ]
  },
  {
   "cell_type": "markdown",
   "id": "c4e9a791-98cb-4277-ac9b-0face31b6704",
   "metadata": {},
   "source": [
    "## What does this code do?"
   ]
  },
  {
   "cell_type": "code",
   "execution_count": 11,
   "id": "1b300ea9-d63d-470f-a3c2-0d1d1a3a79f8",
   "metadata": {},
   "outputs": [
    {
     "data": {
      "text/html": [
       "<span style=\"None\">Running query in &#x27;postgresql://localhost:5432/postgres&#x27;</span>"
      ],
      "text/plain": [
       "Running query in 'postgresql://localhost:5432/postgres'"
      ]
     },
     "metadata": {},
     "output_type": "display_data"
    },
    {
     "name": "stderr",
     "output_type": "stream",
     "text": [
      "RuntimeError: If using snippets, you may pass the --with argument explicitly.\n",
      "For more details please refer: https://jupysql.ploomber.io/en/latest/compose.html#with-argument\n",
      "\n",
      "\n",
      "Original error message from DB driver:\n",
      "(psycopg2.errors.SyntaxError) syntax error at or near \"results\"\n",
      "LINE 1: results\n",
      "        ^\n",
      "\n",
      "[SQL: results\n",
      "SELECT x, 'original' AS label \\\n",
      "               FROM observations \\\n",
      "               UNION ALL \\\n",
      "               SELECT x, 'cleaned' AS label\\\n",
      "               FROM observations \\\n",
      "               WHERE x NOT IN \\\n",
      "                   (SELECT * FROM normal_outliers)]\n",
      "(Background on this error at: https://sqlalche.me/e/20/f405)\n",
      "\n",
      "If you need help solving this issue, send us a message: https://ploomber.io/community\n"
     ]
    }
   ],
   "source": [
    "%%sql << results\n",
    "SELECT x, 'original' AS label \\\n",
    "               FROM observations \\\n",
    "               UNION ALL \\\n",
    "               SELECT x, 'cleaned' AS label\\\n",
    "               FROM observations \\\n",
    "               WHERE x NOT IN \\\n",
    "                   (SELECT * FROM normal_outliers)"
   ]
  },
  {
   "cell_type": "code",
   "execution_count": null,
   "id": "5739123a-2202-4e1d-add6-2522ce678971",
   "metadata": {},
   "outputs": [],
   "source": [
    "sns.displot(results.dict(), x=\"x\", kind='hist',\n",
    "            hue='label', kde=True, bins=20,\n",
    "            height=4, aspect=1.5)\n",
    "plt.xlim(30, 70)"
   ]
  },
  {
   "cell_type": "markdown",
   "id": "d13a9a1c-01a5-4a6b-b41f-5587c1445c57",
   "metadata": {},
   "source": [
    "<br/><br/><br/>\n",
    "<br/><br/><br/>\n",
    "<br/><br/><br/>\n",
    "\n",
    "## Choices [hidden]"
   ]
  },
  {
   "cell_type": "markdown",
   "id": "d387faf1-e9ce-4564-99d3-84ea6efd7f7d",
   "metadata": {},
   "source": [
    "**A.**"
   ]
  },
  {
   "cell_type": "code",
   "execution_count": null,
   "id": "b4837a5d-205b-4e93-b3d1-8dbda631cbf0",
   "metadata": {},
   "outputs": [],
   "source": [
    "## plots outliers and original\n",
    "results = %sql SELECT x, 'original' AS label \\\n",
    "               FROM observations \\\n",
    "               UNION ALL \\\n",
    "               SELECT x, 'cleaned' AS label\\\n",
    "               FROM observations \\\n",
    "               WHERE x IN \\\n",
    "                   (SELECT * FROM normal_outliers)\n",
    "sns.displot(results.dict(), x=\"x\", kind='hist',\n",
    "            hue='label', kde=True, bins=20,\n",
    "                        height=4, aspect=2)\n",
    "plt.xlim(30, 70)"
   ]
  },
  {
   "cell_type": "markdown",
   "id": "4594160f-6ab4-4794-a2d6-4cd9071c39bf",
   "metadata": {},
   "source": [
    "**B.**"
   ]
  },
  {
   "cell_type": "code",
   "execution_count": null,
   "id": "b7e9258b-faab-4267-a87a-6d6aadd2b324",
   "metadata": {},
   "outputs": [],
   "source": [
    "# correct\n",
    "results = %sql SELECT x, 'original' AS label \\\n",
    "               FROM observations \\\n",
    "               UNION ALL \\\n",
    "               SELECT x, 'cleaned' AS label\\\n",
    "               FROM observations \\\n",
    "               WHERE x NOT IN \\\n",
    "                   (SELECT * FROM normal_outliers);\n",
    "\n",
    "sns.displot(results.dict(), x=\"x\", kind='hist',\n",
    "            hue='label', kde=True, bins=20,\n",
    "                        height=4, aspect=2)\n",
    "plt.xlim(30, 70)"
   ]
  },
  {
   "cell_type": "markdown",
   "id": "b9ce80e7-7044-4a55-bda9-5ebe35ed499d",
   "metadata": {},
   "source": [
    "**C.**"
   ]
  },
  {
   "cell_type": "code",
   "execution_count": null,
   "id": "89189db9-a447-47ca-b273-84fe686ada21",
   "metadata": {},
   "outputs": [],
   "source": [
    "results = %sql SELECT x, 'original' AS label \\\n",
    "               FROM observations \\\n",
    "               WHERE x NOT IN \\\n",
    "                   (SELECT * FROM normal_outliers) \\\n",
    "               UNION ALL \\\n",
    "               SELECT x, 'cleaned' AS label \\\n",
    "               FROM observations \\\n",
    "               WHERE x NOT IN \\\n",
    "                   (SELECT * FROM normal_outliers);\n",
    "\n",
    "sns.displot(\n",
    "    results.dict(), x=\"x\", kind='hist',\n",
    "    hue='label', kde=True, bins=20,\n",
    "    height=4, aspect=2\n",
    ")\n",
    "plt.xlim(30, 70)"
   ]
  },
  {
   "cell_type": "markdown",
   "id": "ed3e377f-3f46-4e09-b385-610c2c5d187d",
   "metadata": {},
   "source": [
    "**D.**"
   ]
  },
  {
   "cell_type": "code",
   "execution_count": null,
   "id": "188f5a8a-a1f1-445e-a3b5-3a544397bb1d",
   "metadata": {},
   "outputs": [],
   "source": [
    "results = %sql SELECT x, 'cleaned' AS label \\\n",
    "               FROM observations \\\n",
    "               WHERE x NOT IN \\\n",
    "                   (SELECT * FROM normal_outliers)\n",
    "sns.displot(results.dict(), x=\"x\", kind='hist',\n",
    "            hue='label', kde=True, bins=20,\n",
    "                        height=4, aspect=2)\n",
    "plt.xlim(30, 70)"
   ]
  },
  {
   "cell_type": "markdown",
   "id": "1836f8fe-e1a4-459c-bd98-74f1508d5e55",
   "metadata": {},
   "source": [
    "## What if we suddenly had extremes?"
   ]
  },
  {
   "cell_type": "code",
   "execution_count": null,
   "id": "126ec4ba-f14b-4dab-b725-bb1e583b2026",
   "metadata": {},
   "outputs": [],
   "source": [
    "%sql UPDATE observations SET x = x*10 \\\n",
    "      WHERE x = (SELECT MAX(x) FROM observations);"
   ]
  },
  {
   "cell_type": "code",
   "execution_count": null,
   "id": "fea66d4f-9c61-4bb9-b16f-e6ea8df300d9",
   "metadata": {},
   "outputs": [],
   "source": [
    "%sql SELECT min(x), max(x) FROM observations"
   ]
  },
  {
   "cell_type": "code",
   "execution_count": null,
   "id": "8c56721a-e19c-45a9-9b0a-730f14a9ee64",
   "metadata": {},
   "outputs": [],
   "source": [
    "results = %sql SELECT x, 'original' AS label \\\n",
    "               FROM observations \\\n",
    "               UNION ALL \\\n",
    "               SELECT x, 'cleaned' AS label\\\n",
    "               FROM observations \\\n",
    "               WHERE x NOT IN \\\n",
    "                   (SELECT * FROM normal_outliers);\n",
    "\n",
    "sns.displot(\n",
    "    results.dict(), x=\"x\", kind='hist',\n",
    "    hue='label', kde=True, bins=np.linspace(32, 70, 20),\n",
    "    height=4, aspect=1.5, rug=True\n",
    ")\n",
    "plt.xlim(30, 700)"
   ]
  },
  {
   "cell_type": "code",
   "execution_count": null,
   "id": "83e6f098-7ca1-48cc-b902-3c316caa866c",
   "metadata": {},
   "outputs": [],
   "source": [
    "results = %sql SELECT x, 'original' AS label \\\n",
    "               FROM observations \\\n",
    "               UNION ALL \\\n",
    "               SELECT x, 'cleaned' AS label\\\n",
    "               FROM observations \\\n",
    "               WHERE x NOT IN \\\n",
    "                   (SELECT * FROM normal_outliers);\n",
    "\n",
    "sns.displot(\n",
    "    results.dict(), x=\"x\", kind='hist',\n",
    "    hue='label', kde=True, bins=np.linspace(32, 70, 20),\n",
    "    height=4, aspect=1.5, rug=True\n",
    ")\n",
    "plt.xlim(30, 70)"
   ]
  },
  {
   "cell_type": "code",
   "execution_count": null,
   "id": "b46eb7f1-b60e-4abd-9b1c-9249a330887d",
   "metadata": {},
   "outputs": [],
   "source": [
    "## reset before moving on\n",
    "%sql UPDATE observations SET x = x/10 \\\n",
    "      WHERE x = (SELECT MAX(x) FROM OBSERVATIONS);"
   ]
  },
  {
   "cell_type": "markdown",
   "id": "29272316-4f16-4e0f-aa53-f758301c20b8",
   "metadata": {},
   "source": [
    "# Winsorization"
   ]
  },
  {
   "cell_type": "code",
   "execution_count": null,
   "id": "2dbab392-e702-4864-a84f-5f1a49e45818",
   "metadata": {},
   "outputs": [],
   "source": [
    "import numpy as np"
   ]
  },
  {
   "cell_type": "code",
   "execution_count": null,
   "id": "557ed20c-4ccf-458f-aae4-5399188c70ee",
   "metadata": {},
   "outputs": [],
   "source": [
    "arr = np.array([92, 19, 101, 58, 1053, 91, 26, 78, 10, 13, -40, 101, 86, 85, 15, 89, 89, 28, -5, 41])\n",
    "arr"
   ]
  },
  {
   "cell_type": "code",
   "execution_count": null,
   "id": "187ddd3d-84b9-4b85-ae41-9f836f8ed276",
   "metadata": {},
   "outputs": [],
   "source": [
    "np.mean(arr), np.median(arr)"
   ]
  },
  {
   "cell_type": "code",
   "execution_count": null,
   "id": "eb3d1ae5-84f3-497e-b928-bd49b221c7e0",
   "metadata": {},
   "outputs": [],
   "source": [
    "np.percentile(arr, 9.5, method='nearest')"
   ]
  },
  {
   "cell_type": "code",
   "execution_count": null,
   "id": "1a378a80-637c-48ff-87f8-231ded3798e5",
   "metadata": {},
   "outputs": [],
   "source": [
    "np.percentile(arr, 5, method='nearest')"
   ]
  },
  {
   "cell_type": "code",
   "execution_count": null,
   "id": "10ab9dfe-a9c1-4a35-9780-1c2e7cbec620",
   "metadata": {},
   "outputs": [],
   "source": [
    "arr_winsorized = np.array([92, 19, 101, 58, 101, 91, 26, 78, 10, 13, -5, 101, 86, 85, 15, 89, 89, 28, -5, 41])\n",
    "arr_winsorized"
   ]
  },
  {
   "cell_type": "code",
   "execution_count": null,
   "id": "5fe4b356-ee19-4eec-a457-13e800830350",
   "metadata": {},
   "outputs": [],
   "source": [
    "np.mean(arr_winsorized), np.median(arr_winsorized)"
   ]
  },
  {
   "cell_type": "markdown",
   "id": "e1dd5754-0ced-47ee-a814-c885eec980a5",
   "metadata": {},
   "source": [
    "# Trimming vs. Winsorizatoin"
   ]
  },
  {
   "cell_type": "code",
   "execution_count": null,
   "id": "13bd1307-b9f7-4dda-9c38-a01ad7ee037d",
   "metadata": {},
   "outputs": [],
   "source": [
    "%%sql\n",
    "CREATE OR REPLACE VIEW p1p99 AS (\n",
    "    SELECT\n",
    "        percentile_cont(.01) WITHIN GROUP (ORDER BY x) AS p1,\n",
    "        percentile_cont(.99) WITHIN GROUP (ORDER BY x) AS p99\n",
    "    FROM observations\n",
    ");\n",
    "\n",
    "SELECT * FROM p1p99;"
   ]
  },
  {
   "cell_type": "code",
   "execution_count": null,
   "id": "ce1990fa-3b04-4022-ad0a-f0542d6cd497",
   "metadata": {},
   "outputs": [],
   "source": [
    "%%sql\n",
    "CREATE OR REPLACE VIEW trimmed_observations AS\n",
    "SELECT o.x, 'trimmed' AS label\n",
    "  FROM observations o, p1p99 p\n",
    " WHERE o.x BETWEEN p.p1 AND p.p99\n",
    "UNION ALL\n",
    "SELECT o.x, 'original' AS label\n",
    "  FROM observations o;\n",
    "\n",
    "CREATE OR REPLACE VIEW trimmed_outliers AS\n",
    "SELECT o.*\n",
    "  FROM observations o, p1p99 p\n",
    " WHERE o.x NOT BETWEEN p.p1 AND p.p99;"
   ]
  },
  {
   "cell_type": "code",
   "execution_count": null,
   "id": "ac8db73e-2a97-4395-adc1-d9840eb70c64",
   "metadata": {},
   "outputs": [],
   "source": [
    "results = %sql SELECT * FROM trimmed_observations;\n",
    "sns.displot(results.dict(), x=\"x\", kind='hist', hue='label', kde=True, bins=20,\n",
    "           height=4, aspect=1.5)"
   ]
  },
  {
   "cell_type": "markdown",
   "id": "3262a584-8efa-438f-8fd0-80e44fcb5f6b",
   "metadata": {},
   "source": [
    "## What happens with corrupted data?"
   ]
  },
  {
   "cell_type": "code",
   "execution_count": null,
   "id": "e70da32d-acb0-4a62-a2e2-fab678748b7e",
   "metadata": {},
   "outputs": [],
   "source": [
    "# corrupt one value\n",
    "%sql UPDATE observations SET x = x*10 \\\n",
    "      WHERE x = (SELECT MAX(x) FROM observations);"
   ]
  },
  {
   "cell_type": "markdown",
   "id": "6b825db1-ea83-458f-b43d-87633c06b203",
   "metadata": {},
   "source": [
    "Turns out, we still have as many outliers, which we trim.\n",
    "\n",
    "Because we are trimming based on the order of the data and not on the distribution statistics (mean/SD)"
   ]
  },
  {
   "cell_type": "code",
   "execution_count": null,
   "id": "e5dd84d1-4e93-4ee3-b979-2c06bff18629",
   "metadata": {},
   "outputs": [],
   "source": [
    "results = %sql SELECT * FROM trimmed_observations;\n",
    "\n",
    "sns.displot(results.dict(), x=\"x\", kind='hist',\n",
    "            hue='label', kde=True, bins=np.linspace(32, 70, 20),\n",
    "            height=4, aspect=1.5, rug=True)\n",
    "plt.xlim(30, 70)"
   ]
  },
  {
   "cell_type": "markdown",
   "id": "fa319954-03e5-4db4-b965-9eeda6f6d8c5",
   "metadata": {},
   "source": [
    "## Winsorization"
   ]
  },
  {
   "cell_type": "code",
   "execution_count": null,
   "id": "7dc21c5b-a7eb-40c4-99f8-c675e3669c92",
   "metadata": {},
   "outputs": [],
   "source": [
    "## reset before moving on\n",
    "%sql UPDATE observations SET x = x*10 \\\n",
    "      WHERE x = (SELECT MAX(x) FROM OBSERVATIONS);"
   ]
  },
  {
   "cell_type": "code",
   "execution_count": null,
   "id": "e00ffdfa-7685-4e90-92a6-8ed57d5d676e",
   "metadata": {},
   "outputs": [],
   "source": [
    "%%sql\n",
    "CREATE OR REPLACE VIEW winsorized_observations AS\n",
    "SELECT CASE WHEN o.x BETWEEN p.p1 AND p.p99 THEN o.x\n",
    "            WHEN o.x < p.p1 THEN p.p1\n",
    "            WHEN o.x > p.p99 THEN p.p99\n",
    "        END AS x,\n",
    "      'winsorized' AS label\n",
    "  FROM observations o, p1p99 p\n",
    "UNION ALL\n",
    "SELECT o.x, 'original' AS label\n",
    "  FROM observations o;"
   ]
  },
  {
   "cell_type": "code",
   "execution_count": null,
   "id": "f6561173-9b6c-443f-a183-99859f53c13c",
   "metadata": {},
   "outputs": [],
   "source": [
    "results = %sql SELECT * from winsorized_observations\n",
    "sns.displot(results.dict(), x=\"x\", kind='hist',\n",
    "            hue='label', kde=True, bins=np.linspace(32, 70, 20),\n",
    "            height=4, aspect=1.5, rug=True)\n",
    "plt.xlim(30, 70)"
   ]
  },
  {
   "cell_type": "code",
   "execution_count": null,
   "id": "e096e5c9-7bb1-430d-875a-17da7772e146",
   "metadata": {},
   "outputs": [],
   "source": [
    "%%sql \n",
    "SELECT 'orig' AS distribution, min(x),\n",
    "       percentile_disc(.25) WITHIN GROUP (ORDER BY x) as p25,\n",
    "       percentile_disc(.50) WITHIN GROUP (ORDER BY x) as median,\n",
    "       percentile_disc(.75) WITHIN GROUP (ORDER BY x) as p75,\n",
    "       max(x), avg(x), stddev(x), count(x) \n",
    "       FROM observations\n",
    "UNION ALL\n",
    "SELECT 'winsorized', min(x),\n",
    "       percentile_disc(.25) WITHIN GROUP (ORDER BY x) as p25,\n",
    "       percentile_disc(.50) WITHIN GROUP (ORDER BY x) as median,\n",
    "       percentile_disc(.75) WITHIN GROUP (ORDER BY x) as p75,\n",
    "       max(x), avg(x), stddev(x), count(x) \n",
    "       FROM winsorized_observations WHERE label = 'winsorized'\n",
    "UNION ALL \n",
    "SELECT 'trimmed', min(x),\n",
    "       percentile_disc(.25) WITHIN GROUP (ORDER BY x) as p25,\n",
    "       percentile_disc(.50) WITHIN GROUP (ORDER BY x) as median,\n",
    "       percentile_disc(.75) WITHIN GROUP (ORDER BY x) as p75,\n",
    "       max(x), avg(x), stddev(x), count(x) \n",
    "       FROM trimmed_observations WHERE label = 'trimmed';"
   ]
  },
  {
   "cell_type": "markdown",
   "id": "cba5aafe-7258-4047-bcc5-823d80f171c3",
   "metadata": {},
   "source": [
    "# Robustness, Mean, Median, Hampel X84"
   ]
  },
  {
   "cell_type": "code",
   "execution_count": null,
   "id": "e3832e34-c107-49fc-a06b-868bf46db373",
   "metadata": {},
   "outputs": [],
   "source": [
    "%%sql\n",
    "-- percentile_disc returns an actual data value near the percentile\n",
    "-- percentile_cont returns an interpolated value at the percentile\n",
    "CREATE OR REPLACE VIEW median AS\n",
    "(SELECT percentile_disc(0.5) WITHIN GROUP (ORDER BY x) as median\n",
    "  FROM observations);"
   ]
  },
  {
   "cell_type": "code",
   "execution_count": null,
   "id": "b1b6aa5c-9db2-4cbe-aaf0-986987d7ad7f",
   "metadata": {},
   "outputs": [],
   "source": [
    "%%sql\n",
    "CREATE OR REPLACE VIEW mad AS\n",
    "WITH\n",
    "absdevs AS\n",
    "(SELECT abs(x - median) as d\n",
    "   FROM observations, median)\n",
    "SELECT percentile_disc(0.5) WITHIN GROUP (ORDER BY d) as mad\n",
    "  FROM absdevs;\n",
    "    \n",
    "SELECT median, mad\n",
    "  FROM median, mad;"
   ]
  },
  {
   "cell_type": "code",
   "execution_count": null,
   "id": "0b9452cc-797d-49fb-b972-7b9d210880db",
   "metadata": {},
   "outputs": [],
   "source": [
    "%%sql\n",
    "CREATE OR REPLACE VIEW hampelx84x2_observations AS\n",
    "SELECT o.x,\n",
    "      'hampelx84x2' AS label\n",
    "  FROM observations o, median, mad\n",
    " WHERE o.x BETWEEN (median-2*1.4826*mad) AND (median+2*1.4826*mad)\n",
    "UNION ALL\n",
    "SELECT o.x, 'orig' AS label\n",
    "  FROM observations o;\n",
    "\n",
    "CREATE OR REPLACE VIEW Hampel84x2_outliers AS\n",
    "SELECT x\n",
    "  FROM observations o, median, mad\n",
    " WHERE x NOT BETWEEN (median - 2*1.4826*mad) AND (median + 2*1.4826*mad);"
   ]
  },
  {
   "cell_type": "code",
   "execution_count": null,
   "id": "bb3fbdce-9eb8-4756-bb39-7ce1122c61b5",
   "metadata": {},
   "outputs": [],
   "source": [
    "results = %sql SELECT * FROM hampelx84x2_observations;\n",
    "\n",
    "sns.displot(results.dict(), x=\"x\", kind='hist',\n",
    "            hue='label', kde=True, bins=np.linspace(32, 70, 20),\n",
    "            height=4, aspect=1.5, rug=True)\n",
    "plt.xlim(30, 70)"
   ]
  },
  {
   "cell_type": "markdown",
   "id": "e4185fd4-20d4-403a-9088-619be1217763",
   "metadata": {},
   "source": [
    "# GNIS data"
   ]
  },
  {
   "cell_type": "markdown",
   "id": "2f8ce206-e924-42a0-8dd3-dab8c1c2541e",
   "metadata": {},
   "source": [
    "This is the GNIS dataset from the previous lecture. If you didn't load in the database, run the below cell before connecting."
   ]
  },
  {
   "cell_type": "code",
   "execution_count": null,
   "id": "5d5a45fa-0636-4407-97fb-2d94b27df523",
   "metadata": {},
   "outputs": [],
   "source": [
    "!psql -h localhost -d gnis -c 'SELECT pg_terminate_backend(pg_stat_activity.pid) FROM pg_stat_activity WHERE datname = current_database() AND pid <> pg_backend_pid();'\n",
    "!psql -h localhost -c 'DROP DATABASE IF EXISTS gnis'\n",
    "!psql -h localhost -c 'CREATE DATABASE gnis' \n",
    "!psql -h localhost -d gnis -f ../lec11/data/gnis.sql"
   ]
  },
  {
   "cell_type": "code",
   "execution_count": null,
   "id": "ca5713cc-39d6-4cda-8f6c-48e58683fd37",
   "metadata": {},
   "outputs": [],
   "source": [
    "%reload_ext sql\n",
    "%sql postgresql://localhost:5432/gnis"
   ]
  },
  {
   "cell_type": "code",
   "execution_count": null,
   "id": "144f5ba8-713a-4f4c-b444-fb44834cdc78",
   "metadata": {},
   "outputs": [],
   "source": [
    "%sql SELECT setseed(0.12345);"
   ]
  },
  {
   "cell_type": "code",
   "execution_count": null,
   "id": "4b5778e7-3493-482a-b2a1-ae9a51316221",
   "metadata": {},
   "outputs": [],
   "source": [
    "%%sql\n",
    "DROP TABLE IF EXISTS holey CASCADE;\n",
    "CREATE TABLE holey AS\n",
    "SELECT feature_id, feature_name, feature_class, state_alpha, county_name, \n",
    "       prim_lat_dec, prim_long_dec,\n",
    "       CASE WHEN random() > 0.9 THEN NULL\n",
    "            ELSE elev_in_m\n",
    "        END AS elev_in_m\n",
    "  FROM national;\n",
    "SELECT count(elev_in_m)::float / count(*) FROM holey;"
   ]
  },
  {
   "cell_type": "markdown",
   "id": "d6767106-6a79-4518-9f91-54e7d1b248c5",
   "metadata": {},
   "source": [
    "## Schema 1. Default Value Imputation with SQL"
   ]
  },
  {
   "cell_type": "code",
   "execution_count": null,
   "id": "98e4c278-19fc-4ada-ad3c-9f9793ce034b",
   "metadata": {},
   "outputs": [],
   "source": [
    "%%sql\n",
    "WITH elevavg AS (SELECT avg(elev_in_m) FROM holey)\n",
    "SELECT h.*,\n",
    "       CASE WHEN h.elev_in_m IS NOT NULL THEN h.elev_in_m\n",
    "            ELSE e.avg\n",
    "        END AS imputed_elev_in_m\n",
    "  FROM holey h, elevavg e\n",
    "LIMIT 10;"
   ]
  },
  {
   "cell_type": "markdown",
   "id": "a5a98ebd-2894-4442-ae2d-98a20b13a8e8",
   "metadata": {},
   "source": [
    "## Scheme 2. Correlation across columns"
   ]
  },
  {
   "cell_type": "code",
   "execution_count": null,
   "id": "b4bade8c-1de4-42e8-a2e8-c3bede9cd04e",
   "metadata": {},
   "outputs": [],
   "source": [
    "# Training is an aggregate function\n",
    "# Here we'll train the model in SQL just for fun\n",
    "result = %sql SELECT regr_slope(elev_in_m, prim_long_dec), \\\n",
    "               regr_intercept(elev_in_m, prim_long_dec) FROM holey\n",
    "slope, intercept = result[0]\n",
    "slope, intercept"
   ]
  },
  {
   "cell_type": "code",
   "execution_count": null,
   "id": "6f4ab5f6-2668-48a8-bac3-d9b472b9f111",
   "metadata": {},
   "outputs": [],
   "source": [
    "%%sql\n",
    "SELECT *, \n",
    "       CASE WHEN elev_in_m IS NOT NULL THEN elev_in_m\n",
    "            ELSE {{slope}}*prim_long_dec + {{intercept}}\n",
    "        END AS imputed_elev_in_m\n",
    "  FROM holey\n",
    "LIMIT 10;"
   ]
  },
  {
   "cell_type": "markdown",
   "id": "4066fbd1-901e-4188-8c22-f2fd8fdb4bd5",
   "metadata": {},
   "source": [
    "## Scheme 3. General model-based interpolation\n",
    "\n",
    "We won't show the demo; check slides for the general idea."
   ]
  },
  {
   "cell_type": "code",
   "execution_count": null,
   "id": "2633ebfa-327d-43af-a4cc-21fc829de9a5",
   "metadata": {},
   "outputs": [],
   "source": [
    "\n",
    "%config SqlMagic.displaylimit = 100"
   ]
  },
  {
   "cell_type": "markdown",
   "id": "0094baa7-3d6f-47f7-a956-7c024a0dad4b",
   "metadata": {},
   "source": [
    "## Scheme 4. [simple] Correlation across ordered rows"
   ]
  },
  {
   "cell_type": "code",
   "execution_count": null,
   "id": "9380c86b-88dd-4a7f-be40-2e053e85635b",
   "metadata": {},
   "outputs": [],
   "source": [
    "%%sql\n",
    "-- The following doesn't work in PostgreSQL!\n",
    "WITH buggy AS (\n",
    "SELECT *,\n",
    "       CASE WHEN elev_in_m IS NOT NULL THEN elev_in_m\n",
    "            ELSE lag(elev_in_m, 1)\n",
    "                 OVER (ORDER BY feature_id)\n",
    "        END AS imputed_elev_in_m\n",
    "  FROM holey\n",
    ")\n",
    "SELECT * FROM buggy ORDER BY elev_in_m DESC LIMIT 100;"
   ]
  },
  {
   "cell_type": "code",
   "execution_count": null,
   "id": "bb2818af-5af3-4486-bfe3-404bd5c6fa5a",
   "metadata": {},
   "outputs": [],
   "source": [
    "%%sql\n",
    "-- Here's a UDA fix from\n",
    "-- https://stackoverflow.com/questions/18987791/how-do-i-efficiently-select-the-previous-non-null-value\n",
    "CREATE OR REPLACE FUNCTION coalesce_agg_sfunc(state anyelement, value anyelement) RETURNS anyelement AS\n",
    "$$\n",
    "    SELECT coalesce(value, state);\n",
    "$$ LANGUAGE SQL;\n",
    "\n",
    "CREATE AGGREGATE coalesce_agg(anyelement) (\n",
    "    SFUNC = coalesce_agg_sfunc,\n",
    "    STYPE  = anyelement);"
   ]
  },
  {
   "cell_type": "code",
   "execution_count": null,
   "id": "02619b1e-d2e4-4494-af32-90b0ced598f7",
   "metadata": {},
   "outputs": [],
   "source": [
    "%%sql\n",
    "-- Fixed to handle repeated NULLs\n",
    "WITH fixed AS (\n",
    "SELECT *,\n",
    "       coalesce_agg(elev_in_m) OVER (order by feature_id) AS imputed_elev_in_m\n",
    "  FROM holey\n",
    ")\n",
    "SELECT * FROM fixed ORDER BY imputed_elev_in_m DESC LIMIT 100;"
   ]
  }
 ],
 "metadata": {
  "kernelspec": {
   "display_name": "Python 3 (ipykernel)",
   "language": "python",
   "name": "python3"
  },
  "language_info": {
   "codemirror_mode": {
    "name": "ipython",
    "version": 3
   },
   "file_extension": ".py",
   "mimetype": "text/x-python",
   "name": "python",
   "nbconvert_exporter": "python",
   "pygments_lexer": "ipython3",
   "version": "3.11.10"
  },
  "widgets": {
   "application/vnd.jupyter.widget-state+json": {
    "state": {},
    "version_major": 2,
    "version_minor": 0
   }
  }
 },
 "nbformat": 4,
 "nbformat_minor": 5
}
