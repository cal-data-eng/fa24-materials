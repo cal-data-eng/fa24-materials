{
 "cells": [
  {
   "cell_type": "markdown",
   "id": "3efe537d-d1be-4b74-836c-1cff6c22ec1d",
   "metadata": {},
   "source": [
    "# Lecture 12: Outliers and Imputation"
   ]
  },
  {
   "cell_type": "code",
   "execution_count": 1,
   "id": "72611649-0355-4860-ae39-da1365cbc2c1",
   "metadata": {},
   "outputs": [],
   "source": [
    "import numpy as np\n",
    "import pandas as pd\n",
    "import seaborn as sns\n",
    "import matplotlib.pyplot as plt\n",
    "import matplotlib as mpl\n",
    "\n",
    "import importlib\n",
    "importlib.reload(mpl); importlib.reload(plt); importlib.reload(sns)\n",
    "\n",
    "sns.reset_orig()\n",
    "sns.set(font_scale=1.5)\n",
    "%matplotlib inline"
   ]
  },
  {
   "cell_type": "markdown",
   "id": "34ddf98f-4be7-4cca-8716-e2fc66e5ced3",
   "metadata": {},
   "source": [
    "---\n",
    "\n",
    "# Gaussian Outliers"
   ]
  },
  {
   "cell_type": "code",
   "execution_count": 2,
   "id": "2a7f5c56-44a1-45a9-bed8-2277c75f9abd",
   "metadata": {},
   "outputs": [
    {
     "name": "stdout",
     "output_type": "stream",
     "text": [
      "There's a new jupysql version available (0.10.14), you're running 0.10.0. To upgrade: pip install jupysql --upgrade\n",
      "Deploy Streamlit apps for free on Ploomber Cloud! Learn more: https://ploomber.io/s/signup\n"
     ]
    }
   ],
   "source": [
    "%reload_ext sql\n",
    "%sql postgresql://localhost:5432/postgres"
   ]
  },
  {
   "cell_type": "code",
   "execution_count": 3,
   "id": "e3e8473d-833d-4b45-8a8a-29c525715daf",
   "metadata": {},
   "outputs": [
    {
     "data": {
      "text/html": [
       "<span style=\"None\">Running query in &#x27;postgresql://localhost:5432/postgres&#x27;</span>"
      ],
      "text/plain": [
       "Running query in 'postgresql://localhost:5432/postgres'"
      ]
     },
     "metadata": {},
     "output_type": "display_data"
    },
    {
     "data": {
      "text/html": [
       "<span style=\"color: green\">1 rows affected.</span>"
      ],
      "text/plain": [
       "1 rows affected."
      ]
     },
     "metadata": {},
     "output_type": "display_data"
    },
    {
     "data": {
      "text/html": [
       "<table>\n",
       "    <thead>\n",
       "        <tr>\n",
       "            <th>setseed</th>\n",
       "        </tr>\n",
       "    </thead>\n",
       "    <tbody>\n",
       "        <tr>\n",
       "            <td></td>\n",
       "        </tr>\n",
       "    </tbody>\n",
       "</table>"
      ],
      "text/plain": [
       "+---------+\n",
       "| setseed |\n",
       "+---------+\n",
       "|         |\n",
       "+---------+"
      ]
     },
     "execution_count": 3,
     "metadata": {},
     "output_type": "execute_result"
    }
   ],
   "source": [
    "%sql SELECT setseed(0.42) -- to fix randomness"
   ]
  },
  {
   "cell_type": "markdown",
   "id": "c9fa3cb0-d4db-4c5e-93e5-bfb97cfb27f3",
   "metadata": {},
   "source": [
    "Just like a Python package, we need to import `tablefunc` in order to use the `normal_rand` function."
   ]
  },
  {
   "cell_type": "code",
   "execution_count": 46,
   "id": "918e88da-44f4-4cc4-9244-71bca367ebbd",
   "metadata": {},
   "outputs": [
    {
     "data": {
      "text/html": [
       "<span style=\"None\">Running query in &#x27;postgresql://localhost:5432/gnis&#x27;</span>"
      ],
      "text/plain": [
       "Running query in 'postgresql://localhost:5432/gnis'"
      ]
     },
     "metadata": {},
     "output_type": "display_data"
    },
    {
     "data": {
      "text/html": [
       "<table>\n",
       "    <thead>\n",
       "        <tr>\n",
       "        </tr>\n",
       "    </thead>\n",
       "    <tbody>\n",
       "    </tbody>\n",
       "</table>"
      ],
      "text/plain": [
       "++\n",
       "||\n",
       "++\n",
       "++"
      ]
     },
     "execution_count": 46,
     "metadata": {},
     "output_type": "execute_result"
    }
   ],
   "source": [
    "%sql CREATE EXTENSION IF NOT EXISTS tablefunc;"
   ]
  },
  {
   "cell_type": "markdown",
   "id": "99ec6c3f-bf85-49cb-864b-7a1c8f2300f7",
   "metadata": {},
   "source": [
    "Assume our datapoints are truly Normal. Simulate them in `observations`.\n",
    "* 1000 datapoints, $\\mu = 50, \\sigma = 5$."
   ]
  },
  {
   "cell_type": "code",
   "execution_count": 48,
   "id": "1733ac94-953e-43af-aade-f57b3c5aed5d",
   "metadata": {},
   "outputs": [
    {
     "data": {
      "text/html": [
       "<span style=\"None\">Running query in &#x27;postgresql://localhost:5432/gnis&#x27;</span>"
      ],
      "text/plain": [
       "Running query in 'postgresql://localhost:5432/gnis'"
      ]
     },
     "metadata": {},
     "output_type": "display_data"
    },
    {
     "data": {
      "text/html": [
       "<span style=\"color: green\">1000 rows affected.</span>"
      ],
      "text/plain": [
       "1000 rows affected."
      ]
     },
     "metadata": {},
     "output_type": "display_data"
    },
    {
     "data": {
      "text/html": [
       "<table>\n",
       "    <thead>\n",
       "        <tr>\n",
       "        </tr>\n",
       "    </thead>\n",
       "    <tbody>\n",
       "    </tbody>\n",
       "</table>"
      ],
      "text/plain": [
       "++\n",
       "||\n",
       "++\n",
       "++"
      ]
     },
     "execution_count": 48,
     "metadata": {},
     "output_type": "execute_result"
    }
   ],
   "source": [
    "%%sql\n",
    "DROP TABLE IF EXISTS observations CASCADE;\n",
    "CREATE TABLE observations AS (\n",
    "    SELECT normal_rand AS x\n",
    "    FROM normal_rand(1000, 50, 5)\n",
    ");"
   ]
  },
  {
   "cell_type": "code",
   "execution_count": 5,
   "id": "e9d440be-ab6a-4a3b-8dc1-c7caf881c804",
   "metadata": {},
   "outputs": [
    {
     "data": {
      "text/html": [
       "<span style=\"None\">Running query in &#x27;postgresql://localhost:5432/postgres&#x27;</span>"
      ],
      "text/plain": [
       "Running query in 'postgresql://localhost:5432/postgres'"
      ]
     },
     "metadata": {},
     "output_type": "display_data"
    },
    {
     "data": {
      "text/html": [
       "<span style=\"None\">Running query in &#x27;postgresql://localhost:5432/postgres&#x27;</span>"
      ],
      "text/plain": [
       "Running query in 'postgresql://localhost:5432/postgres'"
      ]
     },
     "metadata": {},
     "output_type": "display_data"
    },
    {
     "data": {
      "text/html": [
       "<span style=\"color: green\">1000 rows affected.</span>"
      ],
      "text/plain": [
       "1000 rows affected."
      ]
     },
     "metadata": {},
     "output_type": "display_data"
    },
    {
     "data": {
      "text/html": [
       "<span style=\"None\">Running query in &#x27;postgresql://localhost:5432/postgres&#x27;</span>"
      ],
      "text/plain": [
       "Running query in 'postgresql://localhost:5432/postgres'"
      ]
     },
     "metadata": {},
     "output_type": "display_data"
    },
    {
     "data": {
      "text/html": [
       "<span style=\"color: green\">1000 rows affected.</span>"
      ],
      "text/plain": [
       "1000 rows affected."
      ]
     },
     "metadata": {},
     "output_type": "display_data"
    }
   ],
   "source": [
    "results = %sql SELECT x FROM observations;"
   ]
  },
  {
   "cell_type": "code",
   "execution_count": 49,
   "id": "aa9a4dc8-c8cc-4551-b615-a0a301dcb088",
   "metadata": {},
   "outputs": [
    {
     "data": {
      "text/plain": [
       "<seaborn.axisgrid.FacetGrid at 0x7b8b306a5c50>"
      ]
     },
     "execution_count": 49,
     "metadata": {},
     "output_type": "execute_result"
    },
    {
     "data": {
      "image/png": "[encoded data removed]",
      "text/plain": [
       "<Figure size 896.125x400 with 1 Axes>"
      ]
     },
     "metadata": {},
     "output_type": "display_data"
    }
   ],
   "source": [
    "sns.displot(results.dict(), fill=True, kde=True, bins=20,\n",
    "            height=4, aspect=2)"
   ]
  },
  {
   "cell_type": "markdown",
   "id": "110fc1bb-3df6-4a41-b23c-8346aa690396",
   "metadata": {},
   "source": [
    "Construct a view called `normal_outliers` using the **2 sigma** metric."
   ]
  },
  {
   "cell_type": "code",
   "execution_count": 50,
   "id": "c1aac5b2-4c06-4650-845d-5fc54d9739a9",
   "metadata": {},
   "outputs": [],
   "source": [
    "# construct the view"
   ]
  },
  {
   "cell_type": "code",
   "execution_count": 51,
   "id": "6fd8529a-92be-435e-9eb3-c84f2179172a",
   "metadata": {},
   "outputs": [
    {
     "data": {
      "text/html": [
       "<span style=\"None\">Running query in &#x27;postgresql://localhost:5432/gnis&#x27;</span>"
      ],
      "text/plain": [
       "Running query in 'postgresql://localhost:5432/gnis'"
      ]
     },
     "metadata": {},
     "output_type": "display_data"
    },
    {
     "data": {
      "text/html": [
       "<table>\n",
       "    <thead>\n",
       "        <tr>\n",
       "        </tr>\n",
       "    </thead>\n",
       "    <tbody>\n",
       "    </tbody>\n",
       "</table>"
      ],
      "text/plain": [
       "++\n",
       "||\n",
       "++\n",
       "++"
      ]
     },
     "execution_count": 51,
     "metadata": {},
     "output_type": "execute_result"
    }
   ],
   "source": [
    "%%sql\n",
    "CREATE OR REPLACE VIEW normal_outliers AS\n",
    "WITH bounds AS (\n",
    "   SELECT avg(x) - 2*stddev(x) AS lo,\n",
    "   avg(x) + 2*stddev(x) AS hi\n",
    "   FROM observations\n",
    ")\n",
    "SELECT x AS outlier\n",
    "FROM observations o, bounds b \n",
    "WHERE x NOT BETWEEN b.lo AND b.hi;"
   ]
  },
  {
   "cell_type": "code",
   "execution_count": 9,
   "id": "0a00fb27-de7e-4702-aea3-39a67fff448d",
   "metadata": {},
   "outputs": [
    {
     "data": {
      "text/html": [
       "<span style=\"None\">Running query in &#x27;postgresql://localhost:5432/postgres&#x27;</span>"
      ],
      "text/plain": [
       "Running query in 'postgresql://localhost:5432/postgres'"
      ]
     },
     "metadata": {},
     "output_type": "display_data"
    },
    {
     "data": {
      "text/html": [
       "<span style=\"color: green\">50 rows affected.</span>"
      ],
      "text/plain": [
       "50 rows affected."
      ]
     },
     "metadata": {},
     "output_type": "display_data"
    },
    {
     "data": {
      "text/html": [
       "<table>\n",
       "    <thead>\n",
       "        <tr>\n",
       "            <th>outlier</th>\n",
       "        </tr>\n",
       "    </thead>\n",
       "    <tbody>\n",
       "        <tr>\n",
       "            <td>68.59963059861991</td>\n",
       "        </tr>\n",
       "        <tr>\n",
       "            <td>60.242172636601055</td>\n",
       "        </tr>\n",
       "        <tr>\n",
       "            <td>38.82385858943522</td>\n",
       "        </tr>\n",
       "        <tr>\n",
       "            <td>61.07555860593201</td>\n",
       "        </tr>\n",
       "        <tr>\n",
       "            <td>40.13241444073369</td>\n",
       "        </tr>\n",
       "        <tr>\n",
       "            <td>64.86079511369644</td>\n",
       "        </tr>\n",
       "        <tr>\n",
       "            <td>38.87911885260418</td>\n",
       "        </tr>\n",
       "        <tr>\n",
       "            <td>60.09585275783077</td>\n",
       "        </tr>\n",
       "        <tr>\n",
       "            <td>61.47393945456812</td>\n",
       "        </tr>\n",
       "        <tr>\n",
       "            <td>61.4812651359228</td>\n",
       "        </tr>\n",
       "    </tbody>\n",
       "</table>\n",
       "<span style=\"font-style:italic;text-align:center;\">Truncated to <a href=\"https://jupysql.ploomber.io/en/latest/api/configuration.html#displaylimit\">displaylimit</a> of 10.</span>"
      ],
      "text/plain": [
       "+--------------------+\n",
       "|      outlier       |\n",
       "+--------------------+\n",
       "| 68.59963059861991  |\n",
       "| 60.242172636601055 |\n",
       "| 38.82385858943522  |\n",
       "| 61.07555860593201  |\n",
       "| 40.13241444073369  |\n",
       "| 64.86079511369644  |\n",
       "| 38.87911885260418  |\n",
       "| 60.09585275783077  |\n",
       "| 61.47393945456812  |\n",
       "|  61.4812651359228  |\n",
       "+--------------------+\n",
       "Truncated to displaylimit of 10."
      ]
     },
     "execution_count": 9,
     "metadata": {},
     "output_type": "execute_result"
    }
   ],
   "source": [
    "# query the view\n",
    "%sql SELECT * FROM normal_outliers;"
   ]
  },
  {
   "cell_type": "markdown",
   "id": "c4e9a791-98cb-4277-ac9b-0face31b6704",
   "metadata": {},
   "source": [
    "## What does this code do?"
   ]
  },
  {
   "cell_type": "code",
   "execution_count": 52,
   "id": "1b300ea9-d63d-470f-a3c2-0d1d1a3a79f8",
   "metadata": {},
   "outputs": [
    {
     "data": {
      "text/html": [
       "<span style=\"None\">Running query in &#x27;postgresql://localhost:5432/gnis&#x27;</span>"
      ],
      "text/plain": [
       "Running query in 'postgresql://localhost:5432/gnis'"
      ]
     },
     "metadata": {},
     "output_type": "display_data"
    },
    {
     "data": {
      "text/html": [
       "<span style=\"color: green\">1957 rows affected.</span>"
      ],
      "text/plain": [
       "1957 rows affected."
      ]
     },
     "metadata": {},
     "output_type": "display_data"
    },
    {
     "data": {
      "text/plain": [
       "(30.0, 70.0)"
      ]
     },
     "execution_count": 52,
     "metadata": {},
     "output_type": "execute_result"
    },
    {
     "data": {
      "image/png": "[encoded data removed]",
      "text/plain": [
       "<Figure size 772.75x400 with 1 Axes>"
      ]
     },
     "metadata": {},
     "output_type": "display_data"
    }
   ],
   "source": [
    "results = %sql SELECT x, 'original' AS label \\\n",
    "               FROM observations \\\n",
    "               UNION ALL \\\n",
    "               SELECT x, 'cleaned' AS label\\\n",
    "               FROM observations \\\n",
    "               WHERE x NOT IN \\\n",
    "                   (SELECT * FROM normal_outliers)\n",
    "sns.displot(results.dict(), x=\"x\", kind='hist',\n",
    "            hue='label', kde=True, bins=20,\n",
    "            height=4, aspect=1.5)\n",
    "plt.xlim(30, 70)"
   ]
  },
  {
   "cell_type": "markdown",
   "id": "d13a9a1c-01a5-4a6b-b41f-5587c1445c57",
   "metadata": {},
   "source": [
    "<br/><br/><br/>\n",
    "<br/><br/><br/>\n",
    "<br/><br/><br/>\n",
    "\n",
    "## Choices [hidden]"
   ]
  },
  {
   "cell_type": "markdown",
   "id": "d387faf1-e9ce-4564-99d3-84ea6efd7f7d",
   "metadata": {},
   "source": [
    "**A.**"
   ]
  },
  {
   "cell_type": "code",
   "execution_count": 11,
   "id": "b4837a5d-205b-4e93-b3d1-8dbda631cbf0",
   "metadata": {},
   "outputs": [
    {
     "data": {
      "text/html": [
       "<span style=\"None\">Running query in &#x27;postgresql://localhost:5432/postgres&#x27;</span>"
      ],
      "text/plain": [
       "Running query in 'postgresql://localhost:5432/postgres'"
      ]
     },
     "metadata": {},
     "output_type": "display_data"
    },
    {
     "data": {
      "text/html": [
       "<span style=\"color: green\">1050 rows affected.</span>"
      ],
      "text/plain": [
       "1050 rows affected."
      ]
     },
     "metadata": {},
     "output_type": "display_data"
    },
    {
     "data": {
      "text/plain": [
       "(30.0, 70.0)"
      ]
     },
     "execution_count": 11,
     "metadata": {},
     "output_type": "execute_result"
    },
    {
     "data": {
      "image/png": "[encoded data removed]",
      "text/plain": [
       "<Figure size 972.75x400 with 1 Axes>"
      ]
     },
     "metadata": {},
     "output_type": "display_data"
    }
   ],
   "source": [
    "## plots outliers and original\n",
    "results = %sql SELECT x, 'original' AS label \\\n",
    "               FROM observations \\\n",
    "               UNION ALL \\\n",
    "               SELECT x, 'cleaned' AS label\\\n",
    "               FROM observations \\\n",
    "               WHERE x IN \\\n",
    "                   (SELECT * FROM normal_outliers)\n",
    "sns.displot(results.dict(), x=\"x\", kind='hist',\n",
    "            hue='label', kde=True, bins=20,\n",
    "                        height=4, aspect=2)\n",
    "plt.xlim(30, 70)"
   ]
  },
  {
   "cell_type": "markdown",
   "id": "4594160f-6ab4-4794-a2d6-4cd9071c39bf",
   "metadata": {},
   "source": [
    "**B.**"
   ]
  },
  {
   "cell_type": "code",
   "execution_count": 54,
   "id": "b7e9258b-faab-4267-a87a-6d6aadd2b324",
   "metadata": {},
   "outputs": [
    {
     "data": {
      "text/html": [
       "<span style=\"None\">Running query in &#x27;postgresql://localhost:5432/gnis&#x27;</span>"
      ],
      "text/plain": [
       "Running query in 'postgresql://localhost:5432/gnis'"
      ]
     },
     "metadata": {},
     "output_type": "display_data"
    },
    {
     "data": {
      "text/html": [
       "<span style=\"color: green\">1957 rows affected.</span>"
      ],
      "text/plain": [
       "1957 rows affected."
      ]
     },
     "metadata": {},
     "output_type": "display_data"
    },
    {
     "data": {
      "text/plain": [
       "(30.0, 70.0)"
      ]
     },
     "execution_count": 54,
     "metadata": {},
     "output_type": "execute_result"
    },
    {
     "data": {
      "image/png": "[encoded data removed]",
      "text/plain": [
       "<Figure size 972.75x400 with 1 Axes>"
      ]
     },
     "metadata": {},
     "output_type": "display_data"
    }
   ],
   "source": [
    "# correct\n",
    "results = %sql SELECT x, 'original' AS label \\\n",
    "               FROM observations \\\n",
    "               UNION ALL \\\n",
    "               SELECT x, 'cleaned' AS label\\\n",
    "               FROM observations \\\n",
    "               WHERE x NOT IN \\\n",
    "                   (SELECT * FROM normal_outliers);\n",
    "\n",
    "sns.displot(results.dict(), x=\"x\", kind='hist',\n",
    "            hue='label', kde=True, bins=20,\n",
    "                        height=4, aspect=2)\n",
    "plt.xlim(30, 70)"
   ]
  },
  {
   "cell_type": "markdown",
   "id": "b9ce80e7-7044-4a55-bda9-5ebe35ed499d",
   "metadata": {},
   "source": [
    "**C.**"
   ]
  },
  {
   "cell_type": "code",
   "execution_count": 56,
   "id": "89189db9-a447-47ca-b273-84fe686ada21",
   "metadata": {},
   "outputs": [
    {
     "data": {
      "text/html": [
       "<span style=\"None\">Running query in &#x27;postgresql://localhost:5432/gnis&#x27;</span>"
      ],
      "text/plain": [
       "Running query in 'postgresql://localhost:5432/gnis'"
      ]
     },
     "metadata": {},
     "output_type": "display_data"
    },
    {
     "data": {
      "text/html": [
       "<span style=\"color: green\">1914 rows affected.</span>"
      ],
      "text/plain": [
       "1914 rows affected."
      ]
     },
     "metadata": {},
     "output_type": "display_data"
    },
    {
     "data": {
      "text/plain": [
       "(30.0, 70.0)"
      ]
     },
     "execution_count": 56,
     "metadata": {},
     "output_type": "execute_result"
    },
    {
     "data": {
      "image/png": "[encoded data removed]",
      "text/plain": [
       "<Figure size 972.75x400 with 1 Axes>"
      ]
     },
     "metadata": {},
     "output_type": "display_data"
    }
   ],
   "source": [
    "results = %sql SELECT x, 'original' AS label \\\n",
    "               FROM observations \\\n",
    "               WHERE x NOT IN \\\n",
    "                   (SELECT * FROM normal_outliers) \\\n",
    "               UNION ALL \\\n",
    "               SELECT x, 'cleaned' AS label \\\n",
    "               FROM observations \\\n",
    "               WHERE x NOT IN \\\n",
    "                   (SELECT * FROM normal_outliers);\n",
    "\n",
    "sns.displot(\n",
    "    results.dict(), x=\"x\", kind='hist',\n",
    "    hue='label', kde=True, bins=20,\n",
    "    height=4, aspect=2\n",
    ")\n",
    "plt.xlim(30, 70)"
   ]
  },
  {
   "cell_type": "markdown",
   "id": "ed3e377f-3f46-4e09-b385-610c2c5d187d",
   "metadata": {},
   "source": [
    "**D.**"
   ]
  },
  {
   "cell_type": "code",
   "execution_count": 57,
   "id": "188f5a8a-a1f1-445e-a3b5-3a544397bb1d",
   "metadata": {},
   "outputs": [
    {
     "data": {
      "text/html": [
       "<span style=\"None\">Running query in &#x27;postgresql://localhost:5432/gnis&#x27;</span>"
      ],
      "text/plain": [
       "Running query in 'postgresql://localhost:5432/gnis'"
      ]
     },
     "metadata": {},
     "output_type": "display_data"
    },
    {
     "data": {
      "text/html": [
       "<span style=\"color: green\">957 rows affected.</span>"
      ],
      "text/plain": [
       "957 rows affected."
      ]
     },
     "metadata": {},
     "output_type": "display_data"
    },
    {
     "data": {
      "text/plain": [
       "(30.0, 70.0)"
      ]
     },
     "execution_count": 57,
     "metadata": {},
     "output_type": "execute_result"
    },
    {
     "data": {
      "image/png": "[encoded data removed]",
      "text/plain": [
       "<Figure size 972.75x400 with 1 Axes>"
      ]
     },
     "metadata": {},
     "output_type": "display_data"
    }
   ],
   "source": [
    "results = %sql SELECT x, 'cleaned' AS label \\\n",
    "               FROM observations \\\n",
    "               WHERE x NOT IN \\\n",
    "                   (SELECT * FROM normal_outliers)\n",
    "sns.displot(results.dict(), x=\"x\", kind='hist',\n",
    "            hue='label', kde=True, bins=20,\n",
    "                        height=4, aspect=2)\n",
    "plt.xlim(30, 70)"
   ]
  },
  {
   "cell_type": "markdown",
   "id": "1836f8fe-e1a4-459c-bd98-74f1508d5e55",
   "metadata": {},
   "source": [
    "## What if we suddenly had extremes?"
   ]
  },
  {
   "cell_type": "code",
   "execution_count": 58,
   "id": "126ec4ba-f14b-4dab-b725-bb1e583b2026",
   "metadata": {},
   "outputs": [
    {
     "data": {
      "text/html": [
       "<span style=\"None\">Running query in &#x27;postgresql://localhost:5432/gnis&#x27;</span>"
      ],
      "text/plain": [
       "Running query in 'postgresql://localhost:5432/gnis'"
      ]
     },
     "metadata": {},
     "output_type": "display_data"
    },
    {
     "data": {
      "text/html": [
       "<span style=\"color: green\">1 rows affected.</span>"
      ],
      "text/plain": [
       "1 rows affected."
      ]
     },
     "metadata": {},
     "output_type": "display_data"
    },
    {
     "data": {
      "text/html": [
       "<table>\n",
       "    <thead>\n",
       "        <tr>\n",
       "        </tr>\n",
       "    </thead>\n",
       "    <tbody>\n",
       "    </tbody>\n",
       "</table>"
      ],
      "text/plain": [
       "++\n",
       "||\n",
       "++\n",
       "++"
      ]
     },
     "execution_count": 58,
     "metadata": {},
     "output_type": "execute_result"
    }
   ],
   "source": [
    "%sql UPDATE observations SET x = x*10 \\\n",
    "      WHERE x = (SELECT MAX(x) FROM observations);"
   ]
  },
  {
   "cell_type": "code",
   "execution_count": 59,
   "id": "fea66d4f-9c61-4bb9-b16f-e6ea8df300d9",
   "metadata": {},
   "outputs": [
    {
     "data": {
      "text/html": [
       "<span style=\"None\">Running query in &#x27;postgresql://localhost:5432/gnis&#x27;</span>"
      ],
      "text/plain": [
       "Running query in 'postgresql://localhost:5432/gnis'"
      ]
     },
     "metadata": {},
     "output_type": "display_data"
    },
    {
     "data": {
      "text/html": [
       "<span style=\"color: green\">1 rows affected.</span>"
      ],
      "text/plain": [
       "1 rows affected."
      ]
     },
     "metadata": {},
     "output_type": "display_data"
    },
    {
     "data": {
      "text/html": [
       "<table>\n",
       "    <thead>\n",
       "        <tr>\n",
       "            <th>min</th>\n",
       "            <th>max</th>\n",
       "        </tr>\n",
       "    </thead>\n",
       "    <tbody>\n",
       "        <tr>\n",
       "            <td>31.347096462510816</td>\n",
       "            <td>639.844667848575</td>\n",
       "        </tr>\n",
       "    </tbody>\n",
       "</table>"
      ],
      "text/plain": [
       "+--------------------+------------------+\n",
       "|        min         |       max        |\n",
       "+--------------------+------------------+\n",
       "| 31.347096462510816 | 639.844667848575 |\n",
       "+--------------------+------------------+"
      ]
     },
     "execution_count": 59,
     "metadata": {},
     "output_type": "execute_result"
    }
   ],
   "source": [
    "%sql SELECT min(x), max(x) FROM observations"
   ]
  },
  {
   "cell_type": "code",
   "execution_count": 60,
   "id": "8c56721a-e19c-45a9-9b0a-730f14a9ee64",
   "metadata": {},
   "outputs": [
    {
     "data": {
      "text/html": [
       "<span style=\"None\">Running query in &#x27;postgresql://localhost:5432/gnis&#x27;</span>"
      ],
      "text/plain": [
       "Running query in 'postgresql://localhost:5432/gnis'"
      ]
     },
     "metadata": {},
     "output_type": "display_data"
    },
    {
     "data": {
      "text/html": [
       "<span style=\"color: green\">1999 rows affected.</span>"
      ],
      "text/plain": [
       "1999 rows affected."
      ]
     },
     "metadata": {},
     "output_type": "display_data"
    },
    {
     "data": {
      "text/plain": [
       "(30.0, 700.0)"
      ]
     },
     "execution_count": 60,
     "metadata": {},
     "output_type": "execute_result"
    },
    {
     "data": {
      "image/png": "[encoded data removed]",
      "text/plain": [
       "<Figure size 772.75x400 with 1 Axes>"
      ]
     },
     "metadata": {},
     "output_type": "display_data"
    }
   ],
   "source": [
    "results = %sql SELECT x, 'original' AS label \\\n",
    "               FROM observations \\\n",
    "               UNION ALL \\\n",
    "               SELECT x, 'cleaned' AS label\\\n",
    "               FROM observations \\\n",
    "               WHERE x NOT IN \\\n",
    "                   (SELECT * FROM normal_outliers);\n",
    "\n",
    "sns.displot(\n",
    "    results.dict(), x=\"x\", kind='hist',\n",
    "    hue='label', kde=True, bins=np.linspace(32, 70, 20),\n",
    "    height=4, aspect=1.5, rug=True\n",
    ")\n",
    "plt.xlim(30, 700)"
   ]
  },
  {
   "cell_type": "code",
   "execution_count": 61,
   "id": "83e6f098-7ca1-48cc-b902-3c316caa866c",
   "metadata": {},
   "outputs": [
    {
     "data": {
      "text/html": [
       "<span style=\"None\">Running query in &#x27;postgresql://localhost:5432/gnis&#x27;</span>"
      ],
      "text/plain": [
       "Running query in 'postgresql://localhost:5432/gnis'"
      ]
     },
     "metadata": {},
     "output_type": "display_data"
    },
    {
     "data": {
      "text/html": [
       "<span style=\"color: green\">1999 rows affected.</span>"
      ],
      "text/plain": [
       "1999 rows affected."
      ]
     },
     "metadata": {},
     "output_type": "display_data"
    },
    {
     "data": {
      "text/plain": [
       "(30.0, 70.0)"
      ]
     },
     "execution_count": 61,
     "metadata": {},
     "output_type": "execute_result"
    },
    {
     "data": {
      "image/png": "[encoded data removed]",
      "text/plain": [
       "<Figure size 772.75x400 with 1 Axes>"
      ]
     },
     "metadata": {},
     "output_type": "display_data"
    }
   ],
   "source": [
    "results = %sql SELECT x, 'original' AS label \\\n",
    "               FROM observations \\\n",
    "               UNION ALL \\\n",
    "               SELECT x, 'cleaned' AS label\\\n",
    "               FROM observations \\\n",
    "               WHERE x NOT IN \\\n",
    "                   (SELECT * FROM normal_outliers);\n",
    "\n",
    "sns.displot(\n",
    "    results.dict(), x=\"x\", kind='hist',\n",
    "    hue='label', kde=True, bins=np.linspace(32, 70, 20),\n",
    "    height=4, aspect=1.5, rug=True\n",
    ")\n",
    "plt.xlim(30, 70)"
   ]
  },
  {
   "cell_type": "code",
   "execution_count": 62,
   "id": "b46eb7f1-b60e-4abd-9b1c-9249a330887d",
   "metadata": {},
   "outputs": [
    {
     "data": {
      "text/html": [
       "<span style=\"None\">Running query in &#x27;postgresql://localhost:5432/gnis&#x27;</span>"
      ],
      "text/plain": [
       "Running query in 'postgresql://localhost:5432/gnis'"
      ]
     },
     "metadata": {},
     "output_type": "display_data"
    },
    {
     "data": {
      "text/html": [
       "<span style=\"color: green\">1 rows affected.</span>"
      ],
      "text/plain": [
       "1 rows affected."
      ]
     },
     "metadata": {},
     "output_type": "display_data"
    },
    {
     "data": {
      "text/html": [
       "<table>\n",
       "    <thead>\n",
       "        <tr>\n",
       "        </tr>\n",
       "    </thead>\n",
       "    <tbody>\n",
       "    </tbody>\n",
       "</table>"
      ],
      "text/plain": [
       "++\n",
       "||\n",
       "++\n",
       "++"
      ]
     },
     "execution_count": 62,
     "metadata": {},
     "output_type": "execute_result"
    }
   ],
   "source": [
    "## reset before moving on\n",
    "%sql UPDATE observations SET x = x/10 \\\n",
    "      WHERE x = (SELECT MAX(x) FROM OBSERVATIONS);"
   ]
  },
  {
   "cell_type": "markdown",
   "id": "29272316-4f16-4e0f-aa53-f758301c20b8",
   "metadata": {},
   "source": [
    "# Winsorization"
   ]
  },
  {
   "cell_type": "code",
   "execution_count": 69,
   "id": "2dbab392-e702-4864-a84f-5f1a49e45818",
   "metadata": {},
   "outputs": [],
   "source": [
    "import numpy as np"
   ]
  },
  {
   "cell_type": "code",
   "execution_count": 70,
   "id": "557ed20c-4ccf-458f-aae4-5399188c70ee",
   "metadata": {},
   "outputs": [
    {
     "data": {
      "text/plain": [
       "array([  92,   19,  101,   58, 1053,   91,   26,   78,   10,   13,  -40,\n",
       "        101,   86,   85,   15,   89,   89,   28,   -5,   41])"
      ]
     },
     "execution_count": 70,
     "metadata": {},
     "output_type": "execute_result"
    }
   ],
   "source": [
    "arr = np.array([92, 19, 101, 58, 1053, 91, 26, 78, 10, 13, -40, 101, 86, 85, 15, 89, 89, 28, -5, 41])\n",
    "arr"
   ]
  },
  {
   "cell_type": "code",
   "execution_count": 71,
   "id": "187ddd3d-84b9-4b85-ae41-9f836f8ed276",
   "metadata": {},
   "outputs": [
    {
     "data": {
      "text/plain": [
       "(101.5, 68.0)"
      ]
     },
     "execution_count": 71,
     "metadata": {},
     "output_type": "execute_result"
    }
   ],
   "source": [
    "np.mean(arr), np.median(arr)"
   ]
  },
  {
   "cell_type": "code",
   "execution_count": 65,
   "id": "eb3d1ae5-84f3-497e-b928-bd49b221c7e0",
   "metadata": {},
   "outputs": [
    {
     "data": {
      "text/plain": [
       "10"
      ]
     },
     "execution_count": 65,
     "metadata": {},
     "output_type": "execute_result"
    }
   ],
   "source": [
    "np.percentile(arr, 9.5, method='nearest')"
   ]
  },
  {
   "cell_type": "code",
   "execution_count": 66,
   "id": "1a378a80-637c-48ff-87f8-231ded3798e5",
   "metadata": {},
   "outputs": [
    {
     "data": {
      "text/plain": [
       "-5"
      ]
     },
     "execution_count": 66,
     "metadata": {},
     "output_type": "execute_result"
    }
   ],
   "source": [
    "np.percentile(arr, 5, method='nearest')"
   ]
  },
  {
   "cell_type": "code",
   "execution_count": 67,
   "id": "10ab9dfe-a9c1-4a35-9780-1c2e7cbec620",
   "metadata": {},
   "outputs": [
    {
     "data": {
      "text/plain": [
       "array([ 92,  19, 101,  58, 101,  91,  26,  78,  10,  13,  -5, 101,  86,\n",
       "        85,  15,  89,  89,  28,  -5,  41])"
      ]
     },
     "execution_count": 67,
     "metadata": {},
     "output_type": "execute_result"
    }
   ],
   "source": [
    "arr_winsorized = np.array([92, 19, 101, 58, 101, 91, 26, 78, 10, 13, -5, 101, 86, 85, 15, 89, 89, 28, -5, 41])\n",
    "arr_winsorized"
   ]
  },
  {
   "cell_type": "code",
   "execution_count": 68,
   "id": "5fe4b356-ee19-4eec-a457-13e800830350",
   "metadata": {},
   "outputs": [
    {
     "data": {
      "text/plain": [
       "(55.65, 68.0)"
      ]
     },
     "execution_count": 68,
     "metadata": {},
     "output_type": "execute_result"
    }
   ],
   "source": [
    "np.mean(arr_winsorized), np.median(arr_winsorized)"
   ]
  },
  {
   "cell_type": "markdown",
   "id": "e1dd5754-0ced-47ee-a814-c885eec980a5",
   "metadata": {},
   "source": [
    "# Trimming vs. Winsorizatoin"
   ]
  },
  {
   "cell_type": "code",
   "execution_count": 73,
   "id": "13bd1307-b9f7-4dda-9c38-a01ad7ee037d",
   "metadata": {},
   "outputs": [
    {
     "data": {
      "text/html": [
       "<span style=\"None\">Running query in &#x27;postgresql://localhost:5432/gnis&#x27;</span>"
      ],
      "text/plain": [
       "Running query in 'postgresql://localhost:5432/gnis'"
      ]
     },
     "metadata": {},
     "output_type": "display_data"
    },
    {
     "data": {
      "text/html": [
       "<span style=\"color: green\">1 rows affected.</span>"
      ],
      "text/plain": [
       "1 rows affected."
      ]
     },
     "metadata": {},
     "output_type": "display_data"
    },
    {
     "data": {
      "text/html": [
       "<table>\n",
       "    <thead>\n",
       "        <tr>\n",
       "            <th>p1</th>\n",
       "            <th>p99</th>\n",
       "        </tr>\n",
       "    </thead>\n",
       "    <tbody>\n",
       "        <tr>\n",
       "            <td>38.08369043124842</td>\n",
       "            <td>61.38859997388327</td>\n",
       "        </tr>\n",
       "    </tbody>\n",
       "</table>"
      ],
      "text/plain": [
       "+-------------------+-------------------+\n",
       "|         p1        |        p99        |\n",
       "+-------------------+-------------------+\n",
       "| 38.08369043124842 | 61.38859997388327 |\n",
       "+-------------------+-------------------+"
      ]
     },
     "execution_count": 73,
     "metadata": {},
     "output_type": "execute_result"
    }
   ],
   "source": [
    "%%sql\n",
    "CREATE OR REPLACE VIEW p1p99 AS (\n",
    "    SELECT\n",
    "        percentile_cont(.01) WITHIN GROUP (ORDER BY x) AS p1,\n",
    "        percentile_cont(.99) WITHIN GROUP (ORDER BY x) AS p99\n",
    "    FROM observations\n",
    ");\n",
    "\n",
    "SELECT * FROM p1p99;"
   ]
  },
  {
   "cell_type": "code",
   "execution_count": 74,
   "id": "ce1990fa-3b04-4022-ad0a-f0542d6cd497",
   "metadata": {},
   "outputs": [
    {
     "data": {
      "text/html": [
       "<span style=\"None\">Running query in &#x27;postgresql://localhost:5432/gnis&#x27;</span>"
      ],
      "text/plain": [
       "Running query in 'postgresql://localhost:5432/gnis'"
      ]
     },
     "metadata": {},
     "output_type": "display_data"
    },
    {
     "data": {
      "text/html": [
       "<table>\n",
       "    <thead>\n",
       "        <tr>\n",
       "        </tr>\n",
       "    </thead>\n",
       "    <tbody>\n",
       "    </tbody>\n",
       "</table>"
      ],
      "text/plain": [
       "++\n",
       "||\n",
       "++\n",
       "++"
      ]
     },
     "execution_count": 74,
     "metadata": {},
     "output_type": "execute_result"
    }
   ],
   "source": [
    "%%sql\n",
    "CREATE OR REPLACE VIEW trimmed_observations AS\n",
    "SELECT o.x, 'trimmed' AS label\n",
    "  FROM observations o, p1p99 p\n",
    " WHERE o.x BETWEEN p.p1 AND p.p99\n",
    "UNION ALL\n",
    "SELECT o.x, 'original' AS label\n",
    "  FROM observations o;\n",
    "\n",
    "CREATE OR REPLACE VIEW trimmed_outliers AS\n",
    "SELECT o.*\n",
    "  FROM observations o, p1p99 p\n",
    " WHERE o.x NOT BETWEEN p.p1 AND p.p99;"
   ]
  },
  {
   "cell_type": "code",
   "execution_count": 75,
   "id": "ac8db73e-2a97-4395-adc1-d9840eb70c64",
   "metadata": {},
   "outputs": [
    {
     "data": {
      "text/html": [
       "<span style=\"None\">Running query in &#x27;postgresql://localhost:5432/gnis&#x27;</span>"
      ],
      "text/plain": [
       "Running query in 'postgresql://localhost:5432/gnis'"
      ]
     },
     "metadata": {},
     "output_type": "display_data"
    },
    {
     "data": {
      "text/html": [
       "<span style=\"color: green\">1980 rows affected.</span>"
      ],
      "text/plain": [
       "1980 rows affected."
      ]
     },
     "metadata": {},
     "output_type": "display_data"
    },
    {
     "data": {
      "text/plain": [
       "<seaborn.axisgrid.FacetGrid at 0x7b8baca84150>"
      ]
     },
     "execution_count": 75,
     "metadata": {},
     "output_type": "execute_result"
    },
    {
     "data": {
      "image/png": "[encoded data removed]",
      "text/plain": [
       "<Figure size 780.875x400 with 1 Axes>"
      ]
     },
     "metadata": {},
     "output_type": "display_data"
    }
   ],
   "source": [
    "results = %sql SELECT * FROM trimmed_observations;\n",
    "sns.displot(results.dict(), x=\"x\", kind='hist', hue='label', kde=True, bins=20,\n",
    "           height=4, aspect=1.5)"
   ]
  },
  {
   "cell_type": "markdown",
   "id": "3262a584-8efa-438f-8fd0-80e44fcb5f6b",
   "metadata": {},
   "source": [
    "## What happens with corrupted data?"
   ]
  },
  {
   "cell_type": "code",
   "execution_count": 30,
   "id": "e70da32d-acb0-4a62-a2e2-fab678748b7e",
   "metadata": {},
   "outputs": [
    {
     "data": {
      "text/html": [
       "<span style=\"None\">Running query in &#x27;postgresql://localhost:5432/postgres&#x27;</span>"
      ],
      "text/plain": [
       "Running query in 'postgresql://localhost:5432/postgres'"
      ]
     },
     "metadata": {},
     "output_type": "display_data"
    },
    {
     "data": {
      "text/html": [
       "<span style=\"color: green\">1 rows affected.</span>"
      ],
      "text/plain": [
       "1 rows affected."
      ]
     },
     "metadata": {},
     "output_type": "display_data"
    },
    {
     "data": {
      "text/html": [
       "<table>\n",
       "    <thead>\n",
       "        <tr>\n",
       "        </tr>\n",
       "    </thead>\n",
       "    <tbody>\n",
       "    </tbody>\n",
       "</table>"
      ],
      "text/plain": [
       "++\n",
       "||\n",
       "++\n",
       "++"
      ]
     },
     "execution_count": 30,
     "metadata": {},
     "output_type": "execute_result"
    }
   ],
   "source": [
    "# corrupt one value\n",
    "%sql UPDATE observations SET x = x*10 \\\n",
    "      WHERE x = (SELECT MAX(x) FROM observations);"
   ]
  },
  {
   "cell_type": "markdown",
   "id": "6b825db1-ea83-458f-b43d-87633c06b203",
   "metadata": {},
   "source": [
    "Turns out, we still have as many outliers, which we trim.\n",
    "\n",
    "Because we are trimming based on the order of the data and not on the distribution statistics (mean/SD)"
   ]
  },
  {
   "cell_type": "code",
   "execution_count": 76,
   "id": "e5dd84d1-4e93-4ee3-b979-2c06bff18629",
   "metadata": {},
   "outputs": [
    {
     "data": {
      "text/html": [
       "<span style=\"None\">Running query in &#x27;postgresql://localhost:5432/gnis&#x27;</span>"
      ],
      "text/plain": [
       "Running query in 'postgresql://localhost:5432/gnis'"
      ]
     },
     "metadata": {},
     "output_type": "display_data"
    },
    {
     "data": {
      "text/html": [
       "<span style=\"color: green\">1980 rows affected.</span>"
      ],
      "text/plain": [
       "1980 rows affected."
      ]
     },
     "metadata": {},
     "output_type": "display_data"
    },
    {
     "data": {
      "text/plain": [
       "(30.0, 70.0)"
      ]
     },
     "execution_count": 76,
     "metadata": {},
     "output_type": "execute_result"
    },
    {
     "data": {
      "image/png": "[encoded data removed]",
      "text/plain": [
       "<Figure size 780.875x400 with 1 Axes>"
      ]
     },
     "metadata": {},
     "output_type": "display_data"
    }
   ],
   "source": [
    "results = %sql SELECT * FROM trimmed_observations;\n",
    "\n",
    "sns.displot(results.dict(), x=\"x\", kind='hist',\n",
    "            hue='label', kde=True, bins=np.linspace(32, 70, 20),\n",
    "            height=4, aspect=1.5, rug=True)\n",
    "plt.xlim(30, 70)"
   ]
  },
  {
   "cell_type": "markdown",
   "id": "fa319954-03e5-4db4-b965-9eeda6f6d8c5",
   "metadata": {},
   "source": [
    "## Winsorization"
   ]
  },
  {
   "cell_type": "code",
   "execution_count": 77,
   "id": "7dc21c5b-a7eb-40c4-99f8-c675e3669c92",
   "metadata": {},
   "outputs": [
    {
     "data": {
      "text/html": [
       "<span style=\"None\">Running query in &#x27;postgresql://localhost:5432/gnis&#x27;</span>"
      ],
      "text/plain": [
       "Running query in 'postgresql://localhost:5432/gnis'"
      ]
     },
     "metadata": {},
     "output_type": "display_data"
    },
    {
     "data": {
      "text/html": [
       "<span style=\"color: green\">1 rows affected.</span>"
      ],
      "text/plain": [
       "1 rows affected."
      ]
     },
     "metadata": {},
     "output_type": "display_data"
    },
    {
     "data": {
      "text/html": [
       "<table>\n",
       "    <thead>\n",
       "        <tr>\n",
       "        </tr>\n",
       "    </thead>\n",
       "    <tbody>\n",
       "    </tbody>\n",
       "</table>"
      ],
      "text/plain": [
       "++\n",
       "||\n",
       "++\n",
       "++"
      ]
     },
     "execution_count": 77,
     "metadata": {},
     "output_type": "execute_result"
    }
   ],
   "source": [
    "## reset before moving on\n",
    "%sql UPDATE observations SET x = x*10 \\\n",
    "      WHERE x = (SELECT MAX(x) FROM OBSERVATIONS);"
   ]
  },
  {
   "cell_type": "code",
   "execution_count": 78,
   "id": "e00ffdfa-7685-4e90-92a6-8ed57d5d676e",
   "metadata": {},
   "outputs": [
    {
     "data": {
      "text/html": [
       "<span style=\"None\">Running query in &#x27;postgresql://localhost:5432/gnis&#x27;</span>"
      ],
      "text/plain": [
       "Running query in 'postgresql://localhost:5432/gnis'"
      ]
     },
     "metadata": {},
     "output_type": "display_data"
    },
    {
     "data": {
      "text/html": [
       "<table>\n",
       "    <thead>\n",
       "        <tr>\n",
       "        </tr>\n",
       "    </thead>\n",
       "    <tbody>\n",
       "    </tbody>\n",
       "</table>"
      ],
      "text/plain": [
       "++\n",
       "||\n",
       "++\n",
       "++"
      ]
     },
     "execution_count": 78,
     "metadata": {},
     "output_type": "execute_result"
    }
   ],
   "source": [
    "%%sql\n",
    "CREATE OR REPLACE VIEW winsorized_observations AS\n",
    "SELECT CASE WHEN o.x BETWEEN p.p1 AND p.p99 THEN o.x\n",
    "            WHEN o.x < p.p1 THEN p.p1\n",
    "            WHEN o.x > p.p99 THEN p.p99\n",
    "        END AS x,\n",
    "      'winsorized' AS label\n",
    "  FROM observations o, p1p99 p\n",
    "UNION ALL\n",
    "SELECT o.x, 'original' AS label\n",
    "  FROM observations o;"
   ]
  },
  {
   "cell_type": "code",
   "execution_count": 34,
   "id": "f6561173-9b6c-443f-a183-99859f53c13c",
   "metadata": {},
   "outputs": [
    {
     "data": {
      "text/html": [
       "<span style=\"None\">Running query in &#x27;postgresql://localhost:5432/postgres&#x27;</span>"
      ],
      "text/plain": [
       "Running query in 'postgresql://localhost:5432/postgres'"
      ]
     },
     "metadata": {},
     "output_type": "display_data"
    },
    {
     "data": {
      "text/html": [
       "<span style=\"color: green\">2000 rows affected.</span>"
      ],
      "text/plain": [
       "2000 rows affected."
      ]
     },
     "metadata": {},
     "output_type": "display_data"
    },
    {
     "data": {
      "text/plain": [
       "(30.0, 70.0)"
      ]
     },
     "execution_count": 34,
     "metadata": {},
     "output_type": "execute_result"
    },
    {
     "data": {
      "image/png": "[encoded data removed]",
      "text/plain": [
       "<Figure size 804.375x400 with 1 Axes>"
      ]
     },
     "metadata": {},
     "output_type": "display_data"
    }
   ],
   "source": [
    "results = %sql SELECT * from winsorized_observations\n",
    "sns.displot(results.dict(), x=\"x\", kind='hist',\n",
    "            hue='label', kde=True, bins=np.linspace(32, 70, 20),\n",
    "            height=4, aspect=1.5, rug=True)\n",
    "plt.xlim(30, 70)"
   ]
  },
  {
   "cell_type": "code",
   "execution_count": 79,
   "id": "e096e5c9-7bb1-430d-875a-17da7772e146",
   "metadata": {},
   "outputs": [
    {
     "data": {
      "text/html": [
       "<span style=\"None\">Running query in &#x27;postgresql://localhost:5432/gnis&#x27;</span>"
      ],
      "text/plain": [
       "Running query in 'postgresql://localhost:5432/gnis'"
      ]
     },
     "metadata": {},
     "output_type": "display_data"
    },
    {
     "data": {
      "text/html": [
       "<span style=\"color: green\">3 rows affected.</span>"
      ],
      "text/plain": [
       "3 rows affected."
      ]
     },
     "metadata": {},
     "output_type": "display_data"
    },
    {
     "data": {
      "text/html": [
       "<table>\n",
       "    <thead>\n",
       "        <tr>\n",
       "            <th>distribution</th>\n",
       "            <th>min</th>\n",
       "            <th>p25</th>\n",
       "            <th>median</th>\n",
       "            <th>p75</th>\n",
       "            <th>max</th>\n",
       "            <th>avg</th>\n",
       "            <th>stddev</th>\n",
       "            <th>count</th>\n",
       "        </tr>\n",
       "    </thead>\n",
       "    <tbody>\n",
       "        <tr>\n",
       "            <td>orig</td>\n",
       "            <td>31.347096462510816</td>\n",
       "            <td>46.35623120325482</td>\n",
       "            <td>49.77382700434992</td>\n",
       "            <td>53.51972796611128</td>\n",
       "            <td>639.844667848575</td>\n",
       "            <td>50.372130038313685</td>\n",
       "            <td>19.344247514446803</td>\n",
       "            <td>1000</td>\n",
       "        </tr>\n",
       "        <tr>\n",
       "            <td>winsorized</td>\n",
       "            <td>38.08369043124842</td>\n",
       "            <td>46.35623120325482</td>\n",
       "            <td>49.77382700434992</td>\n",
       "            <td>53.51972796611128</td>\n",
       "            <td>61.38859997388327</td>\n",
       "            <td>49.814497644499006</td>\n",
       "            <td>5.0313947078229</td>\n",
       "            <td>1000</td>\n",
       "        </tr>\n",
       "        <tr>\n",
       "            <td>trimmed</td>\n",
       "            <td>38.08433060623237</td>\n",
       "            <td>46.43945854724444</td>\n",
       "            <td>49.77382700434992</td>\n",
       "            <td>53.39711546531409</td>\n",
       "            <td>61.3878012404178</td>\n",
       "            <td>49.81609667392622</td>\n",
       "            <td>4.801887018570028</td>\n",
       "            <td>980</td>\n",
       "        </tr>\n",
       "    </tbody>\n",
       "</table>"
      ],
      "text/plain": [
       "+--------------+--------------------+-------------------+-------------------+-------------------+-------------------+--------------------+--------------------+-------+\n",
       "| distribution |        min         |        p25        |       median      |        p75        |        max        |        avg         |       stddev       | count |\n",
       "+--------------+--------------------+-------------------+-------------------+-------------------+-------------------+--------------------+--------------------+-------+\n",
       "|     orig     | 31.347096462510816 | 46.35623120325482 | 49.77382700434992 | 53.51972796611128 |  639.844667848575 | 50.372130038313685 | 19.344247514446803 |  1000 |\n",
       "|  winsorized  | 38.08369043124842  | 46.35623120325482 | 49.77382700434992 | 53.51972796611128 | 61.38859997388327 | 49.814497644499006 |  5.0313947078229   |  1000 |\n",
       "|   trimmed    | 38.08433060623237  | 46.43945854724444 | 49.77382700434992 | 53.39711546531409 |  61.3878012404178 | 49.81609667392622  | 4.801887018570028  |  980  |\n",
       "+--------------+--------------------+-------------------+-------------------+-------------------+-------------------+--------------------+--------------------+-------+"
      ]
     },
     "execution_count": 79,
     "metadata": {},
     "output_type": "execute_result"
    }
   ],
   "source": [
    "%%sql \n",
    "SELECT 'orig' AS distribution, min(x),\n",
    "       percentile_disc(.25) WITHIN GROUP (ORDER BY x) as p25,\n",
    "       percentile_disc(.50) WITHIN GROUP (ORDER BY x) as median,\n",
    "       percentile_disc(.75) WITHIN GROUP (ORDER BY x) as p75,\n",
    "       max(x), avg(x), stddev(x), count(x) \n",
    "       FROM observations\n",
    "UNION ALL\n",
    "SELECT 'winsorized', min(x),\n",
    "       percentile_disc(.25) WITHIN GROUP (ORDER BY x) as p25,\n",
    "       percentile_disc(.50) WITHIN GROUP (ORDER BY x) as median,\n",
    "       percentile_disc(.75) WITHIN GROUP (ORDER BY x) as p75,\n",
    "       max(x), avg(x), stddev(x), count(x) \n",
    "       FROM winsorized_observations WHERE label = 'winsorized'\n",
    "UNION ALL \n",
    "SELECT 'trimmed', min(x),\n",
    "       percentile_disc(.25) WITHIN GROUP (ORDER BY x) as p25,\n",
    "       percentile_disc(.50) WITHIN GROUP (ORDER BY x) as median,\n",
    "       percentile_disc(.75) WITHIN GROUP (ORDER BY x) as p75,\n",
    "       max(x), avg(x), stddev(x), count(x) \n",
    "       FROM trimmed_observations WHERE label = 'trimmed';"
   ]
  },
  {
   "cell_type": "markdown",
   "id": "cba5aafe-7258-4047-bcc5-823d80f171c3",
   "metadata": {},
   "source": [
    "# Robustness, Mean, Median, Hampel X84"
   ]
  },
  {
   "cell_type": "code",
   "execution_count": 80,
   "id": "e3832e34-c107-49fc-a06b-868bf46db373",
   "metadata": {},
   "outputs": [
    {
     "data": {
      "text/html": [
       "<span style=\"None\">Running query in &#x27;postgresql://localhost:5432/gnis&#x27;</span>"
      ],
      "text/plain": [
       "Running query in 'postgresql://localhost:5432/gnis'"
      ]
     },
     "metadata": {},
     "output_type": "display_data"
    },
    {
     "data": {
      "text/html": [
       "<table>\n",
       "    <thead>\n",
       "        <tr>\n",
       "        </tr>\n",
       "    </thead>\n",
       "    <tbody>\n",
       "    </tbody>\n",
       "</table>"
      ],
      "text/plain": [
       "++\n",
       "||\n",
       "++\n",
       "++"
      ]
     },
     "execution_count": 80,
     "metadata": {},
     "output_type": "execute_result"
    }
   ],
   "source": [
    "%%sql\n",
    "-- percentile_disc returns an actual data value near the percentile\n",
    "-- percentile_cont returns an interpolated value at the percentile\n",
    "CREATE OR REPLACE VIEW median AS\n",
    "(SELECT percentile_disc(0.5) WITHIN GROUP (ORDER BY x) as median\n",
    "  FROM observations);"
   ]
  },
  {
   "cell_type": "code",
   "execution_count": 81,
   "id": "b1b6aa5c-9db2-4cbe-aaf0-986987d7ad7f",
   "metadata": {},
   "outputs": [
    {
     "data": {
      "text/html": [
       "<span style=\"None\">Running query in &#x27;postgresql://localhost:5432/gnis&#x27;</span>"
      ],
      "text/plain": [
       "Running query in 'postgresql://localhost:5432/gnis'"
      ]
     },
     "metadata": {},
     "output_type": "display_data"
    },
    {
     "data": {
      "text/html": [
       "<span style=\"color: green\">1 rows affected.</span>"
      ],
      "text/plain": [
       "1 rows affected."
      ]
     },
     "metadata": {},
     "output_type": "display_data"
    },
    {
     "data": {
      "text/html": [
       "<table>\n",
       "    <thead>\n",
       "        <tr>\n",
       "            <th>median</th>\n",
       "            <th>mad</th>\n",
       "        </tr>\n",
       "    </thead>\n",
       "    <tbody>\n",
       "        <tr>\n",
       "            <td>49.77382700434992</td>\n",
       "            <td>3.5569840629348235</td>\n",
       "        </tr>\n",
       "    </tbody>\n",
       "</table>"
      ],
      "text/plain": [
       "+-------------------+--------------------+\n",
       "|       median      |        mad         |\n",
       "+-------------------+--------------------+\n",
       "| 49.77382700434992 | 3.5569840629348235 |\n",
       "+-------------------+--------------------+"
      ]
     },
     "execution_count": 81,
     "metadata": {},
     "output_type": "execute_result"
    }
   ],
   "source": [
    "%%sql\n",
    "CREATE OR REPLACE VIEW mad AS\n",
    "WITH\n",
    "absdevs AS\n",
    "(SELECT abs(x - median) as d\n",
    "   FROM observations, median)\n",
    "SELECT percentile_disc(0.5) WITHIN GROUP (ORDER BY d) as mad\n",
    "  FROM absdevs;\n",
    "    \n",
    "SELECT median, mad\n",
    "  FROM median, mad;"
   ]
  },
  {
   "cell_type": "code",
   "execution_count": 38,
   "id": "0b9452cc-797d-49fb-b972-7b9d210880db",
   "metadata": {},
   "outputs": [
    {
     "data": {
      "text/html": [
       "<span style=\"None\">Running query in &#x27;postgresql://localhost:5432/postgres&#x27;</span>"
      ],
      "text/plain": [
       "Running query in 'postgresql://localhost:5432/postgres'"
      ]
     },
     "metadata": {},
     "output_type": "display_data"
    },
    {
     "data": {
      "text/html": [
       "<table>\n",
       "    <thead>\n",
       "        <tr>\n",
       "        </tr>\n",
       "    </thead>\n",
       "    <tbody>\n",
       "    </tbody>\n",
       "</table>"
      ],
      "text/plain": [
       "++\n",
       "||\n",
       "++\n",
       "++"
      ]
     },
     "execution_count": 38,
     "metadata": {},
     "output_type": "execute_result"
    }
   ],
   "source": [
    "%%sql\n",
    "CREATE OR REPLACE VIEW hampelx84x2_observations AS\n",
    "SELECT o.x,\n",
    "      'hampelx84x2' AS label\n",
    "  FROM observations o, median, mad\n",
    " WHERE o.x BETWEEN (median-2*1.4826*mad) AND (median+2*1.4826*mad)\n",
    "UNION ALL\n",
    "SELECT o.x, 'orig' AS label\n",
    "  FROM observations o;\n",
    "\n",
    "CREATE OR REPLACE VIEW Hampel84x2_outliers AS\n",
    "SELECT x\n",
    "  FROM observations o, median, mad\n",
    " WHERE x NOT BETWEEN (median - 2*1.4826*mad) AND (median + 2*1.4826*mad);"
   ]
  },
  {
   "cell_type": "code",
   "execution_count": 39,
   "id": "bb3fbdce-9eb8-4756-bb39-7ce1122c61b5",
   "metadata": {},
   "outputs": [
    {
     "data": {
      "text/html": [
       "<span style=\"None\">Running query in &#x27;postgresql://localhost:5432/postgres&#x27;</span>"
      ],
      "text/plain": [
       "Running query in 'postgresql://localhost:5432/postgres'"
      ]
     },
     "metadata": {},
     "output_type": "display_data"
    },
    {
     "data": {
      "text/html": [
       "<span style=\"color: green\">1952 rows affected.</span>"
      ],
      "text/plain": [
       "1952 rows affected."
      ]
     },
     "metadata": {},
     "output_type": "display_data"
    },
    {
     "data": {
      "text/plain": [
       "(30.0, 70.0)"
      ]
     },
     "execution_count": 39,
     "metadata": {},
     "output_type": "execute_result"
    },
    {
     "data": {
      "image/png": "[encoded data removed]",
      "text/plain": [
       "<Figure size 839.75x400 with 1 Axes>"
      ]
     },
     "metadata": {},
     "output_type": "display_data"
    }
   ],
   "source": [
    "results = %sql SELECT * FROM hampelx84x2_observations;\n",
    "\n",
    "sns.displot(results.dict(), x=\"x\", kind='hist',\n",
    "            hue='label', kde=True, bins=np.linspace(32, 70, 20),\n",
    "            height=4, aspect=1.5, rug=True)\n",
    "plt.xlim(30, 70)"
   ]
  },
  {
   "cell_type": "markdown",
   "id": "e4185fd4-20d4-403a-9088-619be1217763",
   "metadata": {},
   "source": [
    "# GNIS data"
   ]
  },
  {
   "cell_type": "markdown",
   "id": "2f8ce206-e924-42a0-8dd3-dab8c1c2541e",
   "metadata": {},
   "source": [
    "This is the GNIS dataset from the previous lecture. If you didn't load in the database, run the below cell before connecting."
   ]
  },
  {
   "cell_type": "code",
   "execution_count": 82,
   "id": "5d5a45fa-0636-4407-97fb-2d94b27df523",
   "metadata": {},
   "outputs": [
    {
     "name": "stdout",
     "output_type": "stream",
     "text": [
      " pg_terminate_backend \n",
      "----------------------\n",
      " t\n",
      "(1 row)\n",
      "\n",
      "DROP DATABASE\n",
      "CREATE DATABASE\n",
      "SET\n",
      "SET\n",
      "SET\n",
      "SET\n",
      "SET\n",
      " set_config \n",
      "------------\n",
      " \n",
      "(1 row)\n",
      "\n",
      "SET\n",
      "SET\n",
      "SET\n",
      "SET\n",
      "SET\n",
      "SET\n",
      "CREATE TABLE\n",
      "ALTER TABLE\n",
      "CREATE TABLE\n",
      "ALTER TABLE\n",
      "COPY 3195\n",
      "COPY 11533\n",
      "CREATE INDEX\n"
     ]
    }
   ],
   "source": [
    "!psql -h localhost -d gnis -c 'SELECT pg_terminate_backend(pg_stat_activity.pid) FROM pg_stat_activity WHERE datname = current_database() AND pid <> pg_backend_pid();'\n",
    "!psql -h localhost -c 'DROP DATABASE IF EXISTS gnis'\n",
    "!psql -h localhost -c 'CREATE DATABASE gnis' \n",
    "!psql -h localhost -d gnis -f ../lec11/data/gnis.sql"
   ]
  },
  {
   "cell_type": "code",
   "execution_count": 83,
   "id": "ca5713cc-39d6-4cda-8f6c-48e58683fd37",
   "metadata": {},
   "outputs": [],
   "source": [
    "%reload_ext sql\n",
    "%sql postgresql://localhost:5432/gnis"
   ]
  },
  {
   "cell_type": "code",
   "execution_count": 85,
   "id": "144f5ba8-713a-4f4c-b444-fb44834cdc78",
   "metadata": {},
   "outputs": [
    {
     "data": {
      "text/html": [
       "<span style=\"None\">Running query in &#x27;postgresql://localhost:5432/gnis&#x27;</span>"
      ],
      "text/plain": [
       "Running query in 'postgresql://localhost:5432/gnis'"
      ]
     },
     "metadata": {},
     "output_type": "display_data"
    },
    {
     "data": {
      "text/html": [
       "<span style=\"color: green\">1 rows affected.</span>"
      ],
      "text/plain": [
       "1 rows affected."
      ]
     },
     "metadata": {},
     "output_type": "display_data"
    },
    {
     "data": {
      "text/html": [
       "<table>\n",
       "    <thead>\n",
       "        <tr>\n",
       "            <th>setseed</th>\n",
       "        </tr>\n",
       "    </thead>\n",
       "    <tbody>\n",
       "        <tr>\n",
       "            <td></td>\n",
       "        </tr>\n",
       "    </tbody>\n",
       "</table>"
      ],
      "text/plain": [
       "+---------+\n",
       "| setseed |\n",
       "+---------+\n",
       "|         |\n",
       "+---------+"
      ]
     },
     "execution_count": 85,
     "metadata": {},
     "output_type": "execute_result"
    }
   ],
   "source": [
    "%sql SELECT setseed(0.12345);"
   ]
  },
  {
   "cell_type": "code",
   "execution_count": 86,
   "id": "4b5778e7-3493-482a-b2a1-ae9a51316221",
   "metadata": {},
   "outputs": [
    {
     "data": {
      "text/html": [
       "<span style=\"None\">Running query in &#x27;postgresql://localhost:5432/gnis&#x27;</span>"
      ],
      "text/plain": [
       "Running query in 'postgresql://localhost:5432/gnis'"
      ]
     },
     "metadata": {},
     "output_type": "display_data"
    },
    {
     "data": {
      "text/html": [
       "<span style=\"color: green\">11533 rows affected.</span>"
      ],
      "text/plain": [
       "11533 rows affected."
      ]
     },
     "metadata": {},
     "output_type": "display_data"
    },
    {
     "data": {
      "text/html": [
       "<span style=\"color: green\">1 rows affected.</span>"
      ],
      "text/plain": [
       "1 rows affected."
      ]
     },
     "metadata": {},
     "output_type": "display_data"
    },
    {
     "data": {
      "text/html": [
       "<table>\n",
       "    <thead>\n",
       "        <tr>\n",
       "            <th>?column?</th>\n",
       "        </tr>\n",
       "    </thead>\n",
       "    <tbody>\n",
       "        <tr>\n",
       "            <td>0.8755744385675887</td>\n",
       "        </tr>\n",
       "    </tbody>\n",
       "</table>"
      ],
      "text/plain": [
       "+--------------------+\n",
       "|      ?column?      |\n",
       "+--------------------+\n",
       "| 0.8755744385675887 |\n",
       "+--------------------+"
      ]
     },
     "execution_count": 86,
     "metadata": {},
     "output_type": "execute_result"
    }
   ],
   "source": [
    "%%sql\n",
    "DROP TABLE IF EXISTS holey CASCADE;\n",
    "CREATE TABLE holey AS \n",
    "SELECT feature_id, feature_name, feature_class, state_alpha, county_name, \n",
    "       prim_lat_dec, prim_long_dec, \n",
    "       CASE WHEN random() > 0.9 THEN NULL\n",
    "            ELSE elev_in_m\n",
    "        END AS elev_in_m\n",
    "  FROM national;\n",
    "SELECT count(elev_in_m)::float / count(*) FROM holey;"
   ]
  },
  {
   "cell_type": "markdown",
   "id": "d6767106-6a79-4518-9f91-54e7d1b248c5",
   "metadata": {},
   "source": [
    "## Schema 1. Default Value Imputation with SQL"
   ]
  },
  {
   "cell_type": "code",
   "execution_count": 87,
   "id": "98e4c278-19fc-4ada-ad3c-9f9793ce034b",
   "metadata": {},
   "outputs": [
    {
     "data": {
      "text/html": [
       "<span style=\"None\">Running query in &#x27;postgresql://localhost:5432/gnis&#x27;</span>"
      ],
      "text/plain": [
       "Running query in 'postgresql://localhost:5432/gnis'"
      ]
     },
     "metadata": {},
     "output_type": "display_data"
    },
    {
     "data": {
      "text/html": [
       "<span style=\"color: green\">10 rows affected.</span>"
      ],
      "text/plain": [
       "10 rows affected."
      ]
     },
     "metadata": {},
     "output_type": "display_data"
    },
    {
     "data": {
      "text/html": [
       "<table>\n",
       "    <thead>\n",
       "        <tr>\n",
       "            <th>feature_id</th>\n",
       "            <th>feature_name</th>\n",
       "            <th>feature_class</th>\n",
       "            <th>state_alpha</th>\n",
       "            <th>county_name</th>\n",
       "            <th>prim_lat_dec</th>\n",
       "            <th>prim_long_dec</th>\n",
       "            <th>elev_in_m</th>\n",
       "            <th>imputed_elev_in_m</th>\n",
       "        </tr>\n",
       "    </thead>\n",
       "    <tbody>\n",
       "        <tr>\n",
       "            <td>1230</td>\n",
       "            <td>Belmont Mountains</td>\n",
       "            <td>Range</td>\n",
       "            <td>AZ</td>\n",
       "            <td>Maricopa</td>\n",
       "            <td>33.642258</td>\n",
       "            <td>-112.9010129</td>\n",
       "            <td>931.0</td>\n",
       "            <td>931.0</td>\n",
       "        </tr>\n",
       "        <tr>\n",
       "            <td>1839</td>\n",
       "            <td>Bootlegger Saddle</td>\n",
       "            <td>Gap</td>\n",
       "            <td>AZ</td>\n",
       "            <td>Cochise</td>\n",
       "            <td>31.8931474</td>\n",
       "            <td>-109.2831176</td>\n",
       "            <td>2707.0</td>\n",
       "            <td>2707.0</td>\n",
       "        </tr>\n",
       "        <tr>\n",
       "            <td>2336</td>\n",
       "            <td>Cabeza Prieta Game Range</td>\n",
       "            <td>Park</td>\n",
       "            <td>AZ</td>\n",
       "            <td>Yuma</td>\n",
       "            <td>32.250056</td>\n",
       "            <td>-113.45074</td>\n",
       "            <td>275.0</td>\n",
       "            <td>275.0</td>\n",
       "        </tr>\n",
       "        <tr>\n",
       "            <td>2750</td>\n",
       "            <td>Chandler Springs</td>\n",
       "            <td>Spring</td>\n",
       "            <td>AZ</td>\n",
       "            <td>Navajo</td>\n",
       "            <td>35.3766788</td>\n",
       "            <td>-110.4754096</td>\n",
       "            <td>1685.0</td>\n",
       "            <td>1685.0</td>\n",
       "        </tr>\n",
       "        <tr>\n",
       "            <td>3032</td>\n",
       "            <td>Cline Well</td>\n",
       "            <td>Well</td>\n",
       "            <td>AZ</td>\n",
       "            <td>Cochise</td>\n",
       "            <td>31.9000849</td>\n",
       "            <td>-110.3428525</td>\n",
       "            <td>None</td>\n",
       "            <td>483.962467815409</td>\n",
       "        </tr>\n",
       "        <tr>\n",
       "            <td>3039</td>\n",
       "            <td>Clover Tank</td>\n",
       "            <td>Reservoir</td>\n",
       "            <td>AZ</td>\n",
       "            <td>Gila</td>\n",
       "            <td>33.8509816</td>\n",
       "            <td>-110.2577249</td>\n",
       "            <td>1563.0</td>\n",
       "            <td>1563.0</td>\n",
       "        </tr>\n",
       "        <tr>\n",
       "            <td>3060</td>\n",
       "            <td>Coat Spring</td>\n",
       "            <td>Spring</td>\n",
       "            <td>AZ</td>\n",
       "            <td>Navajo</td>\n",
       "            <td>36.12678</td>\n",
       "            <td>-110.3330424</td>\n",
       "            <td>1926.0</td>\n",
       "            <td>1926.0</td>\n",
       "        </tr>\n",
       "        <tr>\n",
       "            <td>3143</td>\n",
       "            <td>Comar Spring</td>\n",
       "            <td>Spring</td>\n",
       "            <td>AZ</td>\n",
       "            <td>Navajo</td>\n",
       "            <td>35.5308428</td>\n",
       "            <td>-110.4162424</td>\n",
       "            <td>1732.0</td>\n",
       "            <td>1732.0</td>\n",
       "        </tr>\n",
       "        <tr>\n",
       "            <td>3333</td>\n",
       "            <td>Cottonwood Creek</td>\n",
       "            <td>Stream</td>\n",
       "            <td>AZ</td>\n",
       "            <td>Coconino</td>\n",
       "            <td>36.050817</td>\n",
       "            <td>-111.9865535</td>\n",
       "            <td>800.0</td>\n",
       "            <td>800.0</td>\n",
       "        </tr>\n",
       "        <tr>\n",
       "            <td>3342</td>\n",
       "            <td>Cottonwood Creek</td>\n",
       "            <td>Stream</td>\n",
       "            <td>AZ</td>\n",
       "            <td>Mohave</td>\n",
       "            <td>36.901931</td>\n",
       "            <td>-112.5632547</td>\n",
       "            <td>1389.0</td>\n",
       "            <td>1389.0</td>\n",
       "        </tr>\n",
       "    </tbody>\n",
       "</table>\n",
       "<span style=\"font-style:italic;text-align:center;\">Truncated to <a href=\"https://jupysql.ploomber.io/en/latest/api/configuration.html#displaylimit\">displaylimit</a> of 10.</span>"
      ],
      "text/plain": [
       "+------------+--------------------------+---------------+-------------+-------------+--------------+---------------+-----------+-------------------+\n",
       "| feature_id |       feature_name       | feature_class | state_alpha | county_name | prim_lat_dec | prim_long_dec | elev_in_m | imputed_elev_in_m |\n",
       "+------------+--------------------------+---------------+-------------+-------------+--------------+---------------+-----------+-------------------+\n",
       "|    1230    |    Belmont Mountains     |     Range     |      AZ     |   Maricopa  |  33.642258   |  -112.9010129 |   931.0   |       931.0       |\n",
       "|    1839    |    Bootlegger Saddle     |      Gap      |      AZ     |   Cochise   |  31.8931474  |  -109.2831176 |   2707.0  |       2707.0      |\n",
       "|    2336    | Cabeza Prieta Game Range |      Park     |      AZ     |     Yuma    |  32.250056   |   -113.45074  |   275.0   |       275.0       |\n",
       "|    2750    |     Chandler Springs     |     Spring    |      AZ     |    Navajo   |  35.3766788  |  -110.4754096 |   1685.0  |       1685.0      |\n",
       "|    3032    |        Cline Well        |      Well     |      AZ     |   Cochise   |  31.9000849  |  -110.3428525 |    None   |  483.962467815409 |\n",
       "|    3039    |       Clover Tank        |   Reservoir   |      AZ     |     Gila    |  33.8509816  |  -110.2577249 |   1563.0  |       1563.0      |\n",
       "|    3060    |       Coat Spring        |     Spring    |      AZ     |    Navajo   |   36.12678   |  -110.3330424 |   1926.0  |       1926.0      |\n",
       "|    3143    |       Comar Spring       |     Spring    |      AZ     |    Navajo   |  35.5308428  |  -110.4162424 |   1732.0  |       1732.0      |\n",
       "|    3333    |     Cottonwood Creek     |     Stream    |      AZ     |   Coconino  |  36.050817   |  -111.9865535 |   800.0   |       800.0       |\n",
       "|    3342    |     Cottonwood Creek     |     Stream    |      AZ     |    Mohave   |  36.901931   |  -112.5632547 |   1389.0  |       1389.0      |\n",
       "+------------+--------------------------+---------------+-------------+-------------+--------------+---------------+-----------+-------------------+\n",
       "Truncated to displaylimit of 10."
      ]
     },
     "execution_count": 87,
     "metadata": {},
     "output_type": "execute_result"
    }
   ],
   "source": [
    "%%sql\n",
    "WITH elevavg AS (SELECT avg(elev_in_m) FROM holey)\n",
    "SELECT h.*, \n",
    "       CASE WHEN h.elev_in_m IS NOT NULL THEN h.elev_in_m\n",
    "            ELSE e.avg\n",
    "        END AS imputed_elev_in_m\n",
    "  FROM holey h, elevavg e\n",
    "LIMIT 10;"
   ]
  },
  {
   "cell_type": "markdown",
   "id": "a5a98ebd-2894-4442-ae2d-98a20b13a8e8",
   "metadata": {},
   "source": [
    "## Scheme 2. Correlation across columns"
   ]
  },
  {
   "cell_type": "code",
   "execution_count": null,
   "id": "b4bade8c-1de4-42e8-a2e8-c3bede9cd04e",
   "metadata": {},
   "outputs": [],
   "source": [
    "# Training is an aggregate function\n",
    "# Here we'll train the model in SQL just for fun\n",
    "result = %sql SELECT regr_slope(elev_in_m, prim_long_dec), \\\n",
    "               regr_intercept(elev_in_m, prim_long_dec) FROM holey\n",
    "slope, intercept = result[0]\n",
    "slope, intercept"
   ]
  },
  {
   "cell_type": "code",
   "execution_count": null,
   "id": "6f4ab5f6-2668-48a8-bac3-d9b472b9f111",
   "metadata": {},
   "outputs": [],
   "source": [
    "%%sql\n",
    "SELECT *, \n",
    "       CASE WHEN elev_in_m IS NOT NULL THEN elev_in_m\n",
    "            ELSE {{slope}}*prim_long_dec + {{intercept}}\n",
    "        END AS imputed_elev_in_m\n",
    "  FROM holey\n",
    "LIMIT 10;"
   ]
  },
  {
   "cell_type": "markdown",
   "id": "4066fbd1-901e-4188-8c22-f2fd8fdb4bd5",
   "metadata": {},
   "source": [
    "## Scheme 3. General model-based interpolation\n",
    "\n",
    "We won't show the demo; check slides for the general idea."
   ]
  },
  {
   "cell_type": "code",
   "execution_count": null,
   "id": "2633ebfa-327d-43af-a4cc-21fc829de9a5",
   "metadata": {},
   "outputs": [],
   "source": [
    "\n",
    "%config SqlMagic.displaylimit = 100"
   ]
  },
  {
   "cell_type": "markdown",
   "id": "0094baa7-3d6f-47f7-a956-7c024a0dad4b",
   "metadata": {},
   "source": [
    "## Scheme 4. [simple] Correlation across ordered rows"
   ]
  },
  {
   "cell_type": "code",
   "execution_count": 88,
   "id": "9380c86b-88dd-4a7f-be40-2e053e85635b",
   "metadata": {},
   "outputs": [
    {
     "data": {
      "text/html": [
       "<span style=\"None\">Running query in &#x27;postgresql://localhost:5432/gnis&#x27;</span>"
      ],
      "text/plain": [
       "Running query in 'postgresql://localhost:5432/gnis'"
      ]
     },
     "metadata": {},
     "output_type": "display_data"
    },
    {
     "data": {
      "text/html": [
       "<span style=\"color: green\">100 rows affected.</span>"
      ],
      "text/plain": [
       "100 rows affected."
      ]
     },
     "metadata": {},
     "output_type": "display_data"
    },
    {
     "data": {
      "text/html": [
       "<table>\n",
       "    <thead>\n",
       "        <tr>\n",
       "            <th>feature_id</th>\n",
       "            <th>feature_name</th>\n",
       "            <th>feature_class</th>\n",
       "            <th>state_alpha</th>\n",
       "            <th>county_name</th>\n",
       "            <th>prim_lat_dec</th>\n",
       "            <th>prim_long_dec</th>\n",
       "            <th>elev_in_m</th>\n",
       "            <th>imputed_elev_in_m</th>\n",
       "        </tr>\n",
       "    </thead>\n",
       "    <tbody>\n",
       "        <tr>\n",
       "            <td>214923</td>\n",
       "            <td>Lewes Junior High School</td>\n",
       "            <td>School</td>\n",
       "            <td>DE</td>\n",
       "            <td>Sussex</td>\n",
       "            <td>38.7687232</td>\n",
       "            <td>-75.1460168</td>\n",
       "            <td>None</td>\n",
       "            <td>89.0</td>\n",
       "        </tr>\n",
       "        <tr>\n",
       "            <td>209568</td>\n",
       "            <td>Ox Hill</td>\n",
       "            <td>Populated Place</td>\n",
       "            <td>CT</td>\n",
       "            <td>Fairfield</td>\n",
       "            <td>41.2284297</td>\n",
       "            <td>-73.2190027</td>\n",
       "            <td>None</td>\n",
       "            <td>31.0</td>\n",
       "        </tr>\n",
       "        <tr>\n",
       "            <td>204786</td>\n",
       "            <td>San Acacio</td>\n",
       "            <td>Populated Place</td>\n",
       "            <td>CO</td>\n",
       "            <td>Costilla</td>\n",
       "            <td>37.2139025</td>\n",
       "            <td>-105.5644584</td>\n",
       "            <td>None</td>\n",
       "            <td>1712.0</td>\n",
       "        </tr>\n",
       "        <tr>\n",
       "            <td>205451</td>\n",
       "            <td>Berkshire</td>\n",
       "            <td>Populated Place</td>\n",
       "            <td>CT</td>\n",
       "            <td>Fairfield</td>\n",
       "            <td>41.4087069</td>\n",
       "            <td>-73.2595601</td>\n",
       "            <td>None</td>\n",
       "            <td>1945.0</td>\n",
       "        </tr>\n",
       "        <tr>\n",
       "            <td>205915</td>\n",
       "            <td>Calebs Peak</td>\n",
       "            <td>Summit</td>\n",
       "            <td>CT</td>\n",
       "            <td>Litchfield</td>\n",
       "            <td>41.7559276</td>\n",
       "            <td>-73.4648456</td>\n",
       "            <td>None</td>\n",
       "            <td>116.0</td>\n",
       "        </tr>\n",
       "        <tr>\n",
       "            <td>194300</td>\n",
       "            <td>Bull Pasture Well</td>\n",
       "            <td>Well</td>\n",
       "            <td>CO</td>\n",
       "            <td>Las Animas</td>\n",
       "            <td>37.6594568</td>\n",
       "            <td>-104.3541397</td>\n",
       "            <td>None</td>\n",
       "            <td>1692.0</td>\n",
       "        </tr>\n",
       "        <tr>\n",
       "            <td>198468</td>\n",
       "            <td>Gurley Dam</td>\n",
       "            <td>Dam</td>\n",
       "            <td>CO</td>\n",
       "            <td>San Miguel</td>\n",
       "            <td>38.035547</td>\n",
       "            <td>-108.2459128</td>\n",
       "            <td>None</td>\n",
       "            <td>None</td>\n",
       "        </tr>\n",
       "        <tr>\n",
       "            <td>189182</td>\n",
       "            <td>Lienhart Mine</td>\n",
       "            <td>Mine</td>\n",
       "            <td>CO</td>\n",
       "            <td>Chaffee</td>\n",
       "            <td>38.9377726</td>\n",
       "            <td>-106.2547437</td>\n",
       "            <td>None</td>\n",
       "            <td>3173.0</td>\n",
       "        </tr>\n",
       "        <tr>\n",
       "            <td>197727</td>\n",
       "            <td>Pine Brook Hill</td>\n",
       "            <td>Populated Place</td>\n",
       "            <td>CO</td>\n",
       "            <td>Boulder</td>\n",
       "            <td>40.0499857</td>\n",
       "            <td>-105.3147137</td>\n",
       "            <td>None</td>\n",
       "            <td>2601.0</td>\n",
       "        </tr>\n",
       "        <tr>\n",
       "            <td>198347</td>\n",
       "            <td>King Reservoir Number 1</td>\n",
       "            <td>Reservoir</td>\n",
       "            <td>CO</td>\n",
       "            <td>Mesa</td>\n",
       "            <td>38.8657673</td>\n",
       "            <td>-108.6665656</td>\n",
       "            <td>None</td>\n",
       "            <td>1568.0</td>\n",
       "        </tr>\n",
       "    </tbody>\n",
       "</table>\n",
       "<span style=\"font-style:italic;text-align:center;\">Truncated to <a href=\"https://jupysql.ploomber.io/en/latest/api/configuration.html#displaylimit\">displaylimit</a> of 10.</span>"
      ],
      "text/plain": [
       "+------------+--------------------------+-----------------+-------------+-------------+--------------+---------------+-----------+-------------------+\n",
       "| feature_id |       feature_name       |  feature_class  | state_alpha | county_name | prim_lat_dec | prim_long_dec | elev_in_m | imputed_elev_in_m |\n",
       "+------------+--------------------------+-----------------+-------------+-------------+--------------+---------------+-----------+-------------------+\n",
       "|   214923   | Lewes Junior High School |      School     |      DE     |    Sussex   |  38.7687232  |  -75.1460168  |    None   |        89.0       |\n",
       "|   209568   |         Ox Hill          | Populated Place |      CT     |  Fairfield  |  41.2284297  |  -73.2190027  |    None   |        31.0       |\n",
       "|   204786   |        San Acacio        | Populated Place |      CO     |   Costilla  |  37.2139025  |  -105.5644584 |    None   |       1712.0      |\n",
       "|   205451   |        Berkshire         | Populated Place |      CT     |  Fairfield  |  41.4087069  |  -73.2595601  |    None   |       1945.0      |\n",
       "|   205915   |       Calebs Peak        |      Summit     |      CT     |  Litchfield |  41.7559276  |  -73.4648456  |    None   |       116.0       |\n",
       "|   194300   |    Bull Pasture Well     |       Well      |      CO     |  Las Animas |  37.6594568  |  -104.3541397 |    None   |       1692.0      |\n",
       "|   198468   |        Gurley Dam        |       Dam       |      CO     |  San Miguel |  38.035547   |  -108.2459128 |    None   |        None       |\n",
       "|   189182   |      Lienhart Mine       |       Mine      |      CO     |   Chaffee   |  38.9377726  |  -106.2547437 |    None   |       3173.0      |\n",
       "|   197727   |     Pine Brook Hill      | Populated Place |      CO     |   Boulder   |  40.0499857  |  -105.3147137 |    None   |       2601.0      |\n",
       "|   198347   | King Reservoir Number 1  |    Reservoir    |      CO     |     Mesa    |  38.8657673  |  -108.6665656 |    None   |       1568.0      |\n",
       "+------------+--------------------------+-----------------+-------------+-------------+--------------+---------------+-----------+-------------------+\n",
       "Truncated to displaylimit of 10."
      ]
     },
     "execution_count": 88,
     "metadata": {},
     "output_type": "execute_result"
    }
   ],
   "source": [
    "%%sql\n",
    "-- The following doesn't work in PostgreSQL!\n",
    "WITH buggy AS (\n",
    "SELECT *,\n",
    "       CASE WHEN elev_in_m IS NOT NULL THEN elev_in_m\n",
    "            ELSE lag(elev_in_m, 1)\n",
    "                 OVER (ORDER BY feature_id)\n",
    "        END AS imputed_elev_in_m\n",
    "  FROM holey\n",
    ")\n",
    "SELECT * FROM buggy ORDER BY elev_in_m DESC LIMIT 100;"
   ]
  },
  {
   "cell_type": "code",
   "execution_count": null,
   "id": "bb2818af-5af3-4486-bfe3-404bd5c6fa5a",
   "metadata": {},
   "outputs": [],
   "source": [
    "%%sql\n",
    "-- Here's a UDA fix from\n",
    "-- https://stackoverflow.com/questions/18987791/how-do-i-efficiently-select-the-previous-non-null-value\n",
    "CREATE OR REPLACE FUNCTION coalesce_agg_sfunc(state anyelement, value anyelement) RETURNS anyelement AS\n",
    "$$\n",
    "    SELECT coalesce(value, state);\n",
    "$$ LANGUAGE SQL;\n",
    "\n",
    "CREATE AGGREGATE coalesce_agg(anyelement) (\n",
    "    SFUNC = coalesce_agg_sfunc,\n",
    "    STYPE  = anyelement);"
   ]
  },
  {
   "cell_type": "code",
   "execution_count": null,
   "id": "02619b1e-d2e4-4494-af32-90b0ced598f7",
   "metadata": {},
   "outputs": [],
   "source": [
    "%%sql\n",
    "-- Fixed to handle repeated NULLs\n",
    "WITH fixed AS (\n",
    "SELECT *,\n",
    "       coalesce_agg(elev_in_m) OVER (order by feature_id) AS imputed_elev_in_m\n",
    "  FROM holey\n",
    ")\n",
    "SELECT * FROM fixed ORDER BY imputed_elev_in_m DESC LIMIT 100;"
   ]
  }
 ],
 "metadata": {
  "kernelspec": {
   "display_name": "Python 3 (ipykernel)",
   "language": "python",
   "name": "python3"
  },
  "language_info": {
   "codemirror_mode": {
    "name": "ipython",
    "version": 3
   },
   "file_extension": ".py",
   "mimetype": "text/x-python",
   "name": "python",
   "nbconvert_exporter": "python",
   "pygments_lexer": "ipython3",
   "version": "3.11.10"
  },
  "widgets": {
   "application/vnd.jupyter.widget-state+json": {
    "state": {},
    "version_major": 2,
    "version_minor": 0
   }
  }
 },
 "nbformat": 4,
 "nbformat_minor": 5
}
