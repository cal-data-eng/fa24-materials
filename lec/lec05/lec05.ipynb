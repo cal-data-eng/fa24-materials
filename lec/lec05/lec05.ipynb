{
 "cells": [
  {
   "cell_type": "markdown",
   "id": "ef67ff30",
   "metadata": {},
   "source": [
    "# Lecture 05 -- DDL, DML & Constraints"
   ]
  },
  {
   "cell_type": "code",
   "execution_count": 1,
   "id": "14aae7e8",
   "metadata": {},
   "outputs": [],
   "source": [
    "# Run this cell to set up imports\n",
    "import numpy as np\n",
    "import pandas as pd"
   ]
  },
  {
   "cell_type": "code",
   "execution_count": 2,
   "id": "37af279c",
   "metadata": {},
   "outputs": [
    {
     "name": "stdout",
     "output_type": "stream",
     "text": [
      "There's a new jupysql version available (0.10.12), you're running 0.10.0. To upgrade: pip install jupysql --upgrade\n",
      "Deploy Flask apps for free on Ploomber Cloud! Learn more: https://ploomber.io/s/signup\n"
     ]
    }
   ],
   "source": [
    "%reload_ext sql"
   ]
  },
  {
   "cell_type": "code",
   "execution_count": 3,
   "id": "bfbc2487",
   "metadata": {},
   "outputs": [],
   "source": [
    "!createdb lecture5 -h localhost"
   ]
  },
  {
   "cell_type": "code",
   "execution_count": 4,
   "id": "83c8ef18",
   "metadata": {},
   "outputs": [],
   "source": [
    "%sql postgresql://127.0.0.1:5432/lecture5"
   ]
  },
  {
   "cell_type": "markdown",
   "id": "3af27072",
   "metadata": {},
   "source": [
    "# manager demo"
   ]
  },
  {
   "cell_type": "markdown",
   "id": "2f894bf4",
   "metadata": {},
   "source": [
    "Creating the manager relation"
   ]
  },
  {
   "cell_type": "code",
   "execution_count": 13,
   "id": "810671a3",
   "metadata": {},
   "outputs": [
    {
     "data": {
      "text/html": [
       "<span style=\"None\">Running query in &#x27;postgresql://127.0.0.1:5432/lecture5&#x27;</span>"
      ],
      "text/plain": [
       "Running query in 'postgresql://127.0.0.1:5432/lecture5'"
      ]
     },
     "metadata": {},
     "output_type": "display_data"
    },
    {
     "data": {
      "text/html": [
       "<table>\n",
       "    <thead>\n",
       "        <tr>\n",
       "        </tr>\n",
       "    </thead>\n",
       "    <tbody>\n",
       "    </tbody>\n",
       "</table>"
      ],
      "text/plain": [
       "++\n",
       "||\n",
       "++\n",
       "++"
      ]
     },
     "execution_count": 13,
     "metadata": {},
     "output_type": "execute_result"
    }
   ],
   "source": [
    "%sql DROP TABLE IF EXISTS managers;"
   ]
  },
  {
   "cell_type": "code",
   "execution_count": 14,
   "id": "4d61639c",
   "metadata": {},
   "outputs": [
    {
     "data": {
      "text/html": [
       "<span style=\"None\">Running query in &#x27;postgresql://127.0.0.1:5432/lecture5&#x27;</span>"
      ],
      "text/plain": [
       "Running query in 'postgresql://127.0.0.1:5432/lecture5'"
      ]
     },
     "metadata": {},
     "output_type": "display_data"
    },
    {
     "data": {
      "text/html": [
       "<table>\n",
       "    <thead>\n",
       "        <tr>\n",
       "            <th>manager_name</th>\n",
       "            <th>age</th>\n",
       "            <th>address</th>\n",
       "            <th>manager_id</th>\n",
       "        </tr>\n",
       "    </thead>\n",
       "    <tbody>\n",
       "    </tbody>\n",
       "</table>"
      ],
      "text/plain": [
       "+--------------+-----+---------+------------+\n",
       "| manager_name | age | address | manager_id |\n",
       "+--------------+-----+---------+------------+\n",
       "+--------------+-----+---------+------------+"
      ]
     },
     "execution_count": 14,
     "metadata": {},
     "output_type": "execute_result"
    }
   ],
   "source": [
    "%%sql\n",
    "CREATE TABLE managers (\n",
    "    manager_name VARCHAR(20),\n",
    "    age INTEGER DEFAULT 50,\n",
    "    address TEXT,\n",
    "    manager_id CHAR(4),\n",
    "    PRIMARY KEY (manager_id),\n",
    "    UNIQUE (manager_name)\n",
    ");\n",
    "\n",
    "\n",
    "/***********/\n",
    "SELECT * FROM managers;"
   ]
  },
  {
   "cell_type": "markdown",
   "id": "d21cd8d4",
   "metadata": {},
   "source": [
    "<br/><br/><br/>\n",
    "\n",
    "Add a tuple (success)"
   ]
  },
  {
   "cell_type": "code",
   "execution_count": 16,
   "id": "426986ff",
   "metadata": {},
   "outputs": [
    {
     "data": {
      "text/html": [
       "<span style=\"None\">Running query in &#x27;postgresql://127.0.0.1:5432/lecture5&#x27;</span>"
      ],
      "text/plain": [
       "Running query in 'postgresql://127.0.0.1:5432/lecture5'"
      ]
     },
     "metadata": {},
     "output_type": "display_data"
    },
    {
     "data": {
      "text/html": [
       "<span style=\"color: green\">2 rows affected.</span>"
      ],
      "text/plain": [
       "2 rows affected."
      ]
     },
     "metadata": {},
     "output_type": "display_data"
    },
    {
     "data": {
      "text/html": [
       "<span style=\"color: green\">2 rows affected.</span>"
      ],
      "text/plain": [
       "2 rows affected."
      ]
     },
     "metadata": {},
     "output_type": "display_data"
    },
    {
     "data": {
      "text/html": [
       "<table>\n",
       "    <thead>\n",
       "        <tr>\n",
       "            <th>manager_name</th>\n",
       "            <th>age</th>\n",
       "            <th>address</th>\n",
       "            <th>manager_id</th>\n",
       "        </tr>\n",
       "    </thead>\n",
       "    <tbody>\n",
       "        <tr>\n",
       "            <td>Lisa</td>\n",
       "            <td>23</td>\n",
       "            <td>None</td>\n",
       "            <td>1   </td>\n",
       "        </tr>\n",
       "        <tr>\n",
       "            <td>Michael</td>\n",
       "            <td>23</td>\n",
       "            <td>None</td>\n",
       "            <td>2   </td>\n",
       "        </tr>\n",
       "    </tbody>\n",
       "</table>"
      ],
      "text/plain": [
       "+--------------+-----+---------+------------+\n",
       "| manager_name | age | address | manager_id |\n",
       "+--------------+-----+---------+------------+\n",
       "|     Lisa     |  23 |   None  |    1       |\n",
       "|   Michael    |  23 |   None  |    2       |\n",
       "+--------------+-----+---------+------------+"
      ]
     },
     "execution_count": 16,
     "metadata": {},
     "output_type": "execute_result"
    }
   ],
   "source": [
    "%%sql\n",
    "INSERT INTO managers\n",
    "    (manager_id, age, manager_name)\n",
    "VALUES\n",
    "    (1, 23, 'Lisa'),\n",
    "    (2, 23, 'Michael')\n",
    ";\n",
    "\n",
    "/***********/\n",
    "SELECT * FROM managers;"
   ]
  },
  {
   "cell_type": "markdown",
   "id": "096c1fe8",
   "metadata": {},
   "source": [
    "<br/><br/><br/>\n",
    "\n",
    "Add a tuple (failure)"
   ]
  },
  {
   "cell_type": "code",
   "execution_count": 17,
   "id": "4664c6f3",
   "metadata": {},
   "outputs": [
    {
     "data": {
      "text/html": [
       "<span style=\"None\">Running query in &#x27;postgresql://127.0.0.1:5432/lecture5&#x27;</span>"
      ],
      "text/plain": [
       "Running query in 'postgresql://127.0.0.1:5432/lecture5'"
      ]
     },
     "metadata": {},
     "output_type": "display_data"
    },
    {
     "name": "stderr",
     "output_type": "stream",
     "text": [
      "RuntimeError: (psycopg2.errors.NotNullViolation) null value in column \"manager_id\" of relation \"managers\" violates not-null constraint\n",
      "DETAIL:  Failing row contains (Rich, 123, null, null).\n",
      "\n",
      "[SQL: INSERT INTO managers\n",
      "    (manager_name, age)\n",
      "VALUES\n",
      "    ('Rich', 123);]\n",
      "(Background on this error at: https://sqlalche.me/e/20/gkpj)\n",
      "If you need help solving this issue, send us a message: https://ploomber.io/community\n"
     ]
    }
   ],
   "source": [
    "%%sql\n",
    "INSERT INTO managers\n",
    "    (manager_name, age)\n",
    "VALUES\n",
    "    ('Rich', 123);\n",
    "\n",
    "/***********/\n",
    "SELECT * FROM managers;"
   ]
  },
  {
   "cell_type": "markdown",
   "id": "61969288",
   "metadata": {},
   "source": [
    "<br/><br/><br/>\n",
    "\n",
    "Change schema: add attributes"
   ]
  },
  {
   "cell_type": "code",
   "execution_count": 20,
   "id": "eab4abff",
   "metadata": {},
   "outputs": [
    {
     "data": {
      "text/html": [
       "<span style=\"None\">Running query in &#x27;postgresql://127.0.0.1:5432/lecture5&#x27;</span>"
      ],
      "text/plain": [
       "Running query in 'postgresql://127.0.0.1:5432/lecture5'"
      ]
     },
     "metadata": {},
     "output_type": "display_data"
    },
    {
     "data": {
      "text/html": [
       "<span style=\"color: green\">2 rows affected.</span>"
      ],
      "text/plain": [
       "2 rows affected."
      ]
     },
     "metadata": {},
     "output_type": "display_data"
    },
    {
     "data": {
      "text/html": [
       "<table>\n",
       "    <thead>\n",
       "        <tr>\n",
       "            <th>manager_name</th>\n",
       "            <th>age</th>\n",
       "            <th>manager_id</th>\n",
       "            <th>address</th>\n",
       "            <th>income</th>\n",
       "        </tr>\n",
       "    </thead>\n",
       "    <tbody>\n",
       "        <tr>\n",
       "            <td>Lisa</td>\n",
       "            <td>23</td>\n",
       "            <td>1   </td>\n",
       "            <td>None</td>\n",
       "            <td>1000000.0</td>\n",
       "        </tr>\n",
       "        <tr>\n",
       "            <td>Michael</td>\n",
       "            <td>23</td>\n",
       "            <td>2   </td>\n",
       "            <td>None</td>\n",
       "            <td>1000000.0</td>\n",
       "        </tr>\n",
       "    </tbody>\n",
       "</table>"
      ],
      "text/plain": [
       "+--------------+-----+------------+---------+-----------+\n",
       "| manager_name | age | manager_id | address |   income  |\n",
       "+--------------+-----+------------+---------+-----------+\n",
       "|     Lisa     |  23 |    1       |   None  | 1000000.0 |\n",
       "|   Michael    |  23 |    2       |   None  | 1000000.0 |\n",
       "+--------------+-----+------------+---------+-----------+"
      ]
     },
     "execution_count": 20,
     "metadata": {},
     "output_type": "execute_result"
    }
   ],
   "source": [
    "%%sql\n",
    "ALTER TABLE managers\n",
    "    DROP address,\n",
    "    -- DROP income,\n",
    "    ADD address VARCHAR (20),\n",
    "    ADD income REAL DEFAULT 1000000.0;\n",
    "\n",
    "/***********/\n",
    "SELECT * FROM managers;"
   ]
  },
  {
   "cell_type": "markdown",
   "id": "333ca83b-a5d1-441b-b452-c7233774ed35",
   "metadata": {},
   "source": [
    "What if we want to add a timestamp?"
   ]
  },
  {
   "cell_type": "code",
   "execution_count": 22,
   "id": "f131e6ac-2757-470a-b878-199276d73e5d",
   "metadata": {},
   "outputs": [
    {
     "data": {
      "text/html": [
       "<span style=\"None\">Running query in &#x27;postgresql://127.0.0.1:5432/lecture5&#x27;</span>"
      ],
      "text/plain": [
       "Running query in 'postgresql://127.0.0.1:5432/lecture5'"
      ]
     },
     "metadata": {},
     "output_type": "display_data"
    },
    {
     "data": {
      "text/html": [
       "<table>\n",
       "    <thead>\n",
       "        <tr>\n",
       "        </tr>\n",
       "    </thead>\n",
       "    <tbody>\n",
       "    </tbody>\n",
       "</table>"
      ],
      "text/plain": [
       "++\n",
       "||\n",
       "++\n",
       "++"
      ]
     },
     "execution_count": 22,
     "metadata": {},
     "output_type": "execute_result"
    }
   ],
   "source": [
    "%%sql\n",
    "ALTER TABLE managers\n",
    "    ADD created_at timestamptz,\n",
    "    ADD started_at timestamptz;"
   ]
  },
  {
   "cell_type": "markdown",
   "id": "a51d992c",
   "metadata": {},
   "source": [
    "### Notes About Times And Timestamps:\n",
    "\n",
    "* A `timestamp` is a date + time\n",
    "* A time _without a timestamp_ **does not mean anything** without a bunch of context in many cases...\n",
    "* _Always_ (almost) use `timestamptz` over `timestamp`\n",
    "* There is also `time with timezone` and `time [without timezone]` type, but don't use the later..."
   ]
  },
  {
   "cell_type": "code",
   "execution_count": 26,
   "id": "f85bce3d-a2c8-4bcc-9d9b-da21144f382b",
   "metadata": {},
   "outputs": [
    {
     "data": {
      "text/html": [
       "<span style=\"None\">Running query in &#x27;postgresql://127.0.0.1:5432/lecture5&#x27;</span>"
      ],
      "text/plain": [
       "Running query in 'postgresql://127.0.0.1:5432/lecture5'"
      ]
     },
     "metadata": {},
     "output_type": "display_data"
    },
    {
     "data": {
      "text/html": [
       "<span style=\"color: green\">1 rows affected.</span>"
      ],
      "text/plain": [
       "1 rows affected."
      ]
     },
     "metadata": {},
     "output_type": "display_data"
    },
    {
     "data": {
      "text/html": [
       "<table>\n",
       "    <thead>\n",
       "        <tr>\n",
       "        </tr>\n",
       "    </thead>\n",
       "    <tbody>\n",
       "    </tbody>\n",
       "</table>"
      ],
      "text/plain": [
       "++\n",
       "||\n",
       "++\n",
       "++"
      ]
     },
     "execution_count": 26,
     "metadata": {},
     "output_type": "execute_result"
    }
   ],
   "source": [
    "%%sql\n",
    "INSERT INTO managers(manager_id, created_at, started_at)\n",
    "VALUES\n",
    "    (10, '2024-08-20T09:30:00.000-0700', now())\n",
    ";"
   ]
  },
  {
   "cell_type": "code",
   "execution_count": 27,
   "id": "34c71d99-f9c8-40a1-899c-a1359bb6bf3b",
   "metadata": {},
   "outputs": [
    {
     "data": {
      "text/html": [
       "<span style=\"None\">Running query in &#x27;postgresql://127.0.0.1:5432/lecture5&#x27;</span>"
      ],
      "text/plain": [
       "Running query in 'postgresql://127.0.0.1:5432/lecture5'"
      ]
     },
     "metadata": {},
     "output_type": "display_data"
    },
    {
     "data": {
      "text/html": [
       "<span style=\"color: green\">3 rows affected.</span>"
      ],
      "text/plain": [
       "3 rows affected."
      ]
     },
     "metadata": {},
     "output_type": "display_data"
    },
    {
     "data": {
      "text/html": [
       "<table>\n",
       "    <thead>\n",
       "        <tr>\n",
       "            <th>manager_name</th>\n",
       "            <th>age</th>\n",
       "            <th>manager_id</th>\n",
       "            <th>address</th>\n",
       "            <th>income</th>\n",
       "            <th>created_at</th>\n",
       "            <th>started_at</th>\n",
       "        </tr>\n",
       "    </thead>\n",
       "    <tbody>\n",
       "        <tr>\n",
       "            <td>Lisa</td>\n",
       "            <td>23</td>\n",
       "            <td>1   </td>\n",
       "            <td>None</td>\n",
       "            <td>1000000.0</td>\n",
       "            <td>None</td>\n",
       "            <td>None</td>\n",
       "        </tr>\n",
       "        <tr>\n",
       "            <td>Michael</td>\n",
       "            <td>23</td>\n",
       "            <td>2   </td>\n",
       "            <td>None</td>\n",
       "            <td>1000000.0</td>\n",
       "            <td>None</td>\n",
       "            <td>None</td>\n",
       "        </tr>\n",
       "        <tr>\n",
       "            <td>None</td>\n",
       "            <td>50</td>\n",
       "            <td>10  </td>\n",
       "            <td>None</td>\n",
       "            <td>1000000.0</td>\n",
       "            <td>2024-08-20 16:30:00+00:00</td>\n",
       "            <td>2024-09-12 08:58:46.893113+00:00</td>\n",
       "        </tr>\n",
       "    </tbody>\n",
       "</table>"
      ],
      "text/plain": [
       "+--------------+-----+------------+---------+-----------+---------------------------+----------------------------------+\n",
       "| manager_name | age | manager_id | address |   income  |         created_at        |            started_at            |\n",
       "+--------------+-----+------------+---------+-----------+---------------------------+----------------------------------+\n",
       "|     Lisa     |  23 |    1       |   None  | 1000000.0 |            None           |               None               |\n",
       "|   Michael    |  23 |    2       |   None  | 1000000.0 |            None           |               None               |\n",
       "|     None     |  50 |    10      |   None  | 1000000.0 | 2024-08-20 16:30:00+00:00 | 2024-09-12 08:58:46.893113+00:00 |\n",
       "+--------------+-----+------------+---------+-----------+---------------------------+----------------------------------+"
      ]
     },
     "execution_count": 27,
     "metadata": {},
     "output_type": "execute_result"
    }
   ],
   "source": [
    "%sql SELECT * FROM managers;"
   ]
  },
  {
   "cell_type": "markdown",
   "id": "91648cfe",
   "metadata": {},
   "source": [
    "<br/><br/><br/>\n",
    "\n",
    "Change schema: drop attributes"
   ]
  },
  {
   "cell_type": "code",
   "execution_count": 29,
   "id": "b39b1f19",
   "metadata": {},
   "outputs": [
    {
     "data": {
      "text/html": [
       "<span style=\"None\">Running query in &#x27;postgresql://127.0.0.1:5432/lecture5&#x27;</span>"
      ],
      "text/plain": [
       "Running query in 'postgresql://127.0.0.1:5432/lecture5'"
      ]
     },
     "metadata": {},
     "output_type": "display_data"
    },
    {
     "data": {
      "text/html": [
       "<span style=\"color: green\">3 rows affected.</span>"
      ],
      "text/plain": [
       "3 rows affected."
      ]
     },
     "metadata": {},
     "output_type": "display_data"
    },
    {
     "data": {
      "text/html": [
       "<table>\n",
       "    <thead>\n",
       "        <tr>\n",
       "            <th>manager_name</th>\n",
       "            <th>age</th>\n",
       "            <th>manager_id</th>\n",
       "            <th>created_at</th>\n",
       "            <th>started_at</th>\n",
       "        </tr>\n",
       "    </thead>\n",
       "    <tbody>\n",
       "        <tr>\n",
       "            <td>Lisa</td>\n",
       "            <td>23</td>\n",
       "            <td>1   </td>\n",
       "            <td>None</td>\n",
       "            <td>None</td>\n",
       "        </tr>\n",
       "        <tr>\n",
       "            <td>Michael</td>\n",
       "            <td>23</td>\n",
       "            <td>2   </td>\n",
       "            <td>None</td>\n",
       "            <td>None</td>\n",
       "        </tr>\n",
       "        <tr>\n",
       "            <td>None</td>\n",
       "            <td>50</td>\n",
       "            <td>10  </td>\n",
       "            <td>2024-08-20 16:30:00+00:00</td>\n",
       "            <td>2024-09-12 08:58:46.893113+00:00</td>\n",
       "        </tr>\n",
       "    </tbody>\n",
       "</table>"
      ],
      "text/plain": [
       "+--------------+-----+------------+---------------------------+----------------------------------+\n",
       "| manager_name | age | manager_id |         created_at        |            started_at            |\n",
       "+--------------+-----+------------+---------------------------+----------------------------------+\n",
       "|     Lisa     |  23 |    1       |            None           |               None               |\n",
       "|   Michael    |  23 |    2       |            None           |               None               |\n",
       "|     None     |  50 |    10      | 2024-08-20 16:30:00+00:00 | 2024-09-12 08:58:46.893113+00:00 |\n",
       "+--------------+-----+------------+---------------------------+----------------------------------+"
      ]
     },
     "execution_count": 29,
     "metadata": {},
     "output_type": "execute_result"
    }
   ],
   "source": [
    "%%sql\n",
    "ALTER TABLE managers\n",
    "DROP address,\n",
    "DROP income;\n",
    "\n",
    "/***********/\n",
    "SELECT * FROM managers;"
   ]
  },
  {
   "cell_type": "markdown",
   "id": "69f6701d",
   "metadata": {},
   "source": [
    "<br/><br/><br/>\n",
    "\n",
    "Delete the relation entirely"
   ]
  },
  {
   "cell_type": "code",
   "execution_count": 30,
   "id": "0716a1de",
   "metadata": {},
   "outputs": [
    {
     "data": {
      "text/html": [
       "<span style=\"None\">Running query in &#x27;postgresql://127.0.0.1:5432/lecture5&#x27;</span>"
      ],
      "text/plain": [
       "Running query in 'postgresql://127.0.0.1:5432/lecture5'"
      ]
     },
     "metadata": {},
     "output_type": "display_data"
    },
    {
     "data": {
      "text/html": [
       "<table>\n",
       "    <thead>\n",
       "        <tr>\n",
       "        </tr>\n",
       "    </thead>\n",
       "    <tbody>\n",
       "    </tbody>\n",
       "</table>"
      ],
      "text/plain": [
       "++\n",
       "||\n",
       "++\n",
       "++"
      ]
     },
     "execution_count": 30,
     "metadata": {},
     "output_type": "execute_result"
    }
   ],
   "source": [
    "%%sql\n",
    "DROP TABLE managers;"
   ]
  },
  {
   "cell_type": "code",
   "execution_count": 31,
   "id": "e02e5451",
   "metadata": {},
   "outputs": [
    {
     "ename": "SyntaxError",
     "evalue": "invalid syntax (167872053.py, line 2)",
     "output_type": "error",
     "traceback": [
      "\u001b[0;36m  Cell \u001b[0;32mIn[31], line 2\u001b[0;36m\u001b[0m\n\u001b[0;31m    ***********/()\u001b[0m\n\u001b[0m    ^\u001b[0m\n\u001b[0;31mSyntaxError\u001b[0m\u001b[0;31m:\u001b[0m invalid syntax\n"
     ]
    }
   ],
   "source": [
    "%sql\n",
    "/***********/\n",
    "SELECT * FROM managers;"
   ]
  },
  {
   "cell_type": "code",
   "execution_count": 32,
   "id": "8c0940ee",
   "metadata": {},
   "outputs": [
    {
     "data": {
      "text/html": [
       "<span style=\"None\">Running query in &#x27;postgresql://127.0.0.1:5432/lecture5&#x27;</span>"
      ],
      "text/plain": [
       "Running query in 'postgresql://127.0.0.1:5432/lecture5'"
      ]
     },
     "metadata": {},
     "output_type": "display_data"
    },
    {
     "data": {
      "text/html": [
       "<table>\n",
       "    <thead>\n",
       "        <tr>\n",
       "        </tr>\n",
       "    </thead>\n",
       "    <tbody>\n",
       "    </tbody>\n",
       "</table>"
      ],
      "text/plain": [
       "++\n",
       "||\n",
       "++\n",
       "++"
      ]
     },
     "execution_count": 32,
     "metadata": {},
     "output_type": "execute_result"
    }
   ],
   "source": [
    "%%sql\n",
    "DROP TABLE IF EXISTS Stops;\n",
    "CREATE TABLE Stops(\n",
    "  stop_id INTEGER,\n",
    "  person_id INTEGER,\n",
    "  -- This is not great...we should have a timezone, but the original data did not.\n",
    "  stop_time TIMESTAMP,\n",
    "  race VARCHAR(10),\n",
    "  location VARCHAR(20) NOT NULL,\n",
    "  age INTEGER,\n",
    "  arrest BOOLEAN DEFAULT False,\n",
    "  PRIMARY KEY (stop_id),\n",
    "  UNIQUE (person_id, stop_time)\n",
    "  );\n"
   ]
  },
  {
   "cell_type": "code",
   "execution_count": 33,
   "id": "217bf0d7-c61a-471e-9691-030140c5b3f5",
   "metadata": {},
   "outputs": [
    {
     "data": {
      "text/html": [
       "<span style=\"None\">Running query in &#x27;postgresql://127.0.0.1:5432/lecture5&#x27;</span>"
      ],
      "text/plain": [
       "Running query in 'postgresql://127.0.0.1:5432/lecture5'"
      ]
     },
     "metadata": {},
     "output_type": "display_data"
    },
    {
     "data": {
      "text/html": [
       "<table>\n",
       "    <thead>\n",
       "        <tr>\n",
       "            <th>stop_id</th>\n",
       "            <th>person_id</th>\n",
       "            <th>stop_time</th>\n",
       "            <th>race</th>\n",
       "            <th>location</th>\n",
       "            <th>age</th>\n",
       "            <th>arrest</th>\n",
       "        </tr>\n",
       "    </thead>\n",
       "    <tbody>\n",
       "    </tbody>\n",
       "</table>"
      ],
      "text/plain": [
       "+---------+-----------+-----------+------+----------+-----+--------+\n",
       "| stop_id | person_id | stop_time | race | location | age | arrest |\n",
       "+---------+-----------+-----------+------+----------+-----+--------+\n",
       "+---------+-----------+-----------+------+----------+-----+--------+"
      ]
     },
     "execution_count": 33,
     "metadata": {},
     "output_type": "execute_result"
    }
   ],
   "source": [
    "%sql SELECT * FROM Stops;"
   ]
  },
  {
   "cell_type": "code",
   "execution_count": 34,
   "id": "3ecb9758",
   "metadata": {},
   "outputs": [
    {
     "data": {
      "text/html": [
       "<span style=\"None\">Running query in &#x27;postgresql://127.0.0.1:5432/lecture5&#x27;</span>"
      ],
      "text/plain": [
       "Running query in 'postgresql://127.0.0.1:5432/lecture5'"
      ]
     },
     "metadata": {},
     "output_type": "display_data"
    },
    {
     "data": {
      "text/html": [
       "<span style=\"color: green\">1 rows affected.</span>"
      ],
      "text/plain": [
       "1 rows affected."
      ]
     },
     "metadata": {},
     "output_type": "display_data"
    },
    {
     "data": {
      "text/html": [
       "<span style=\"color: green\">1 rows affected.</span>"
      ],
      "text/plain": [
       "1 rows affected."
      ]
     },
     "metadata": {},
     "output_type": "display_data"
    },
    {
     "data": {
      "text/html": [
       "<table>\n",
       "    <thead>\n",
       "        <tr>\n",
       "            <th>stop_id</th>\n",
       "            <th>person_id</th>\n",
       "            <th>stop_time</th>\n",
       "            <th>race</th>\n",
       "            <th>location</th>\n",
       "            <th>age</th>\n",
       "            <th>arrest</th>\n",
       "        </tr>\n",
       "    </thead>\n",
       "    <tbody>\n",
       "        <tr>\n",
       "            <td>9999</td>\n",
       "            <td>8888</td>\n",
       "            <td>2023-09-12 13:43:00</td>\n",
       "            <td>None</td>\n",
       "            <td>Oakland</td>\n",
       "            <td>None</td>\n",
       "            <td>None</td>\n",
       "        </tr>\n",
       "    </tbody>\n",
       "</table>"
      ],
      "text/plain": [
       "+---------+-----------+---------------------+------+----------+------+--------+\n",
       "| stop_id | person_id |      stop_time      | race | location | age  | arrest |\n",
       "+---------+-----------+---------------------+------+----------+------+--------+\n",
       "|   9999  |    8888   | 2023-09-12 13:43:00 | None | Oakland  | None |  None  |\n",
       "+---------+-----------+---------------------+------+----------+------+--------+"
      ]
     },
     "execution_count": 34,
     "metadata": {},
     "output_type": "execute_result"
    }
   ],
   "source": [
    "%%sql\n",
    "INSERT INTO Stops\n",
    "    (stop_id, person_id, stop_time, location, arrest)\n",
    "VALUES\n",
    "    -- (0543, 1234, '2023-09-12 13:43:00', 'Oakland')\n",
    "    (9999, 8888, '2023-09-12 13:43:00', 'Oakland', NULL)\n",
    ";\n",
    "SELECT * FROM Stops;"
   ]
  },
  {
   "cell_type": "markdown",
   "id": "251e2c06",
   "metadata": {},
   "source": [
    "## IMDB Datebase"
   ]
  },
  {
   "cell_type": "code",
   "execution_count": 35,
   "id": "e7ec09fd",
   "metadata": {},
   "outputs": [],
   "source": [
    "%reload_ext sql"
   ]
  },
  {
   "cell_type": "code",
   "execution_count": 36,
   "id": "02f2cc64",
   "metadata": {},
   "outputs": [],
   "source": [
    "%sql postgresql://127.0.0.1:5432/lecture5"
   ]
  },
  {
   "cell_type": "code",
   "execution_count": 38,
   "id": "55fae2dc",
   "metadata": {},
   "outputs": [
    {
     "data": {
      "text/html": [
       "<span style=\"None\">Running query in &#x27;postgresql://127.0.0.1:5432/lecture5&#x27;</span>"
      ],
      "text/plain": [
       "Running query in 'postgresql://127.0.0.1:5432/lecture5'"
      ]
     },
     "metadata": {},
     "output_type": "display_data"
    },
    {
     "data": {
      "text/html": [
       "<span style=\"color: green\">2 rows affected.</span>"
      ],
      "text/plain": [
       "2 rows affected."
      ]
     },
     "metadata": {},
     "output_type": "display_data"
    },
    {
     "data": {
      "text/html": [
       "<span style=\"color: green\">2 rows affected.</span>"
      ],
      "text/plain": [
       "2 rows affected."
      ]
     },
     "metadata": {},
     "output_type": "display_data"
    },
    {
     "data": {
      "text/html": [
       "<span style=\"color: green\">2 rows affected.</span>"
      ],
      "text/plain": [
       "2 rows affected."
      ]
     },
     "metadata": {},
     "output_type": "display_data"
    },
    {
     "data": {
      "text/html": [
       "<table>\n",
       "    <thead>\n",
       "        <tr>\n",
       "        </tr>\n",
       "    </thead>\n",
       "    <tbody>\n",
       "    </tbody>\n",
       "</table>"
      ],
      "text/plain": [
       "++\n",
       "||\n",
       "++\n",
       "++"
      ]
     },
     "execution_count": 38,
     "metadata": {},
     "output_type": "execute_result"
    }
   ],
   "source": [
    "%%sql\n",
    "DROP TABLE IF EXISTS actors CASCADE;\n",
    "DROP TABLE IF EXISTS movies CASCADE;\n",
    "DROP TABLE IF EXISTS cast_info;\n",
    "\n",
    "CREATE TABLE actors (\n",
    "  id INTEGER,\n",
    "  name TEXT,\n",
    "  PRIMARY KEY(id)\n",
    ");\n",
    "\n",
    "CREATE TABLE movies (\n",
    "  id INTEGER,\n",
    "  title TEXT,\n",
    "  PRIMARY KEY(id)\n",
    ");\n",
    "\n",
    "CREATE TABLE cast_info (\n",
    "  person_id INTEGER,\n",
    "  movie_id INTEGER,\n",
    "  FOREIGN KEY (person_id)\n",
    "    REFERENCES actors (id)\n",
    "    ON DELETE SET NULL\n",
    "    ON UPDATE CASCADE,\n",
    "  FOREIGN KEY (movie_id)\n",
    "    REFERENCES movies (id)\n",
    "    ON DELETE SET NULL);\n",
    "\n",
    "INSERT INTO actors VALUES\n",
    "    (1, 'Tom Hanks'),\n",
    "    (3, 'Michelle Yeoh')\n",
    ";\n",
    "\n",
    "INSERT INTO movies VALUES\n",
    "    (23, 'Forrest Gump'),\n",
    "    (45, 'Tomorrow Never Dies')\n",
    ";\n",
    "\n",
    "INSERT INTO cast_info VALUES\n",
    "    (1, 23),\n",
    "    (3, 45)\n",
    ";"
   ]
  },
  {
   "cell_type": "code",
   "execution_count": 39,
   "id": "d9f0e146",
   "metadata": {},
   "outputs": [
    {
     "data": {
      "text/html": [
       "<span style=\"None\">Running query in &#x27;postgresql://127.0.0.1:5432/lecture5&#x27;</span>"
      ],
      "text/plain": [
       "Running query in 'postgresql://127.0.0.1:5432/lecture5'"
      ]
     },
     "metadata": {},
     "output_type": "display_data"
    },
    {
     "data": {
      "text/html": [
       "<span style=\"color: green\">2 rows affected.</span>"
      ],
      "text/plain": [
       "2 rows affected."
      ]
     },
     "metadata": {},
     "output_type": "display_data"
    },
    {
     "data": {
      "text/html": [
       "<table>\n",
       "    <thead>\n",
       "        <tr>\n",
       "            <th>person_id</th>\n",
       "            <th>movie_id</th>\n",
       "        </tr>\n",
       "    </thead>\n",
       "    <tbody>\n",
       "        <tr>\n",
       "            <td>1</td>\n",
       "            <td>23</td>\n",
       "        </tr>\n",
       "        <tr>\n",
       "            <td>3</td>\n",
       "            <td>45</td>\n",
       "        </tr>\n",
       "    </tbody>\n",
       "</table>"
      ],
      "text/plain": [
       "+-----------+----------+\n",
       "| person_id | movie_id |\n",
       "+-----------+----------+\n",
       "|     1     |    23    |\n",
       "|     3     |    45    |\n",
       "+-----------+----------+"
      ]
     },
     "execution_count": 39,
     "metadata": {},
     "output_type": "execute_result"
    }
   ],
   "source": [
    "%%sql\n",
    "SELECT * FROM cast_info;"
   ]
  },
  {
   "cell_type": "markdown",
   "id": "a69a6867",
   "metadata": {},
   "source": [
    "A. What if we… Delete a tuple from Actor corresponding to id = 1?"
   ]
  },
  {
   "cell_type": "code",
   "execution_count": 40,
   "id": "a66d8768",
   "metadata": {},
   "outputs": [
    {
     "data": {
      "text/html": [
       "<span style=\"None\">Running query in &#x27;postgresql://127.0.0.1:5432/lecture5&#x27;</span>"
      ],
      "text/plain": [
       "Running query in 'postgresql://127.0.0.1:5432/lecture5'"
      ]
     },
     "metadata": {},
     "output_type": "display_data"
    },
    {
     "data": {
      "text/html": [
       "<span style=\"color: green\">1 rows affected.</span>"
      ],
      "text/plain": [
       "1 rows affected."
      ]
     },
     "metadata": {},
     "output_type": "display_data"
    },
    {
     "data": {
      "text/html": [
       "<table>\n",
       "    <thead>\n",
       "        <tr>\n",
       "        </tr>\n",
       "    </thead>\n",
       "    <tbody>\n",
       "    </tbody>\n",
       "</table>"
      ],
      "text/plain": [
       "++\n",
       "||\n",
       "++\n",
       "++"
      ]
     },
     "execution_count": 40,
     "metadata": {},
     "output_type": "execute_result"
    }
   ],
   "source": [
    "%%sql\n",
    "DELETE FROM actors\n",
    "WHERE id = 1;"
   ]
  },
  {
   "cell_type": "code",
   "execution_count": 41,
   "id": "c55b1108",
   "metadata": {},
   "outputs": [
    {
     "data": {
      "text/html": [
       "<span style=\"None\">Running query in &#x27;postgresql://127.0.0.1:5432/lecture5&#x27;</span>"
      ],
      "text/plain": [
       "Running query in 'postgresql://127.0.0.1:5432/lecture5'"
      ]
     },
     "metadata": {},
     "output_type": "display_data"
    },
    {
     "data": {
      "text/html": [
       "<span style=\"color: green\">2 rows affected.</span>"
      ],
      "text/plain": [
       "2 rows affected."
      ]
     },
     "metadata": {},
     "output_type": "display_data"
    },
    {
     "data": {
      "text/html": [
       "<table>\n",
       "    <thead>\n",
       "        <tr>\n",
       "            <th>person_id</th>\n",
       "            <th>movie_id</th>\n",
       "        </tr>\n",
       "    </thead>\n",
       "    <tbody>\n",
       "        <tr>\n",
       "            <td>3</td>\n",
       "            <td>45</td>\n",
       "        </tr>\n",
       "        <tr>\n",
       "            <td>None</td>\n",
       "            <td>23</td>\n",
       "        </tr>\n",
       "    </tbody>\n",
       "</table>"
      ],
      "text/plain": [
       "+-----------+----------+\n",
       "| person_id | movie_id |\n",
       "+-----------+----------+\n",
       "|     3     |    45    |\n",
       "|    None   |    23    |\n",
       "+-----------+----------+"
      ]
     },
     "execution_count": 41,
     "metadata": {},
     "output_type": "execute_result"
    }
   ],
   "source": [
    "%%sql\n",
    "SELECT * FROM cast_info;"
   ]
  },
  {
   "cell_type": "markdown",
   "id": "e6f75f12",
   "metadata": {},
   "source": [
    "(note: reset table layout for each choice)\n",
    "\n",
    "B. Change a tuple in Actor from id = 1 to id = 2?"
   ]
  },
  {
   "cell_type": "code",
   "execution_count": 42,
   "id": "ba7734f8",
   "metadata": {},
   "outputs": [
    {
     "data": {
      "text/html": [
       "<span style=\"None\">Running query in &#x27;postgresql://127.0.0.1:5432/lecture5&#x27;</span>"
      ],
      "text/plain": [
       "Running query in 'postgresql://127.0.0.1:5432/lecture5'"
      ]
     },
     "metadata": {},
     "output_type": "display_data"
    },
    {
     "data": {
      "text/html": [
       "<table>\n",
       "    <thead>\n",
       "        <tr>\n",
       "        </tr>\n",
       "    </thead>\n",
       "    <tbody>\n",
       "    </tbody>\n",
       "</table>"
      ],
      "text/plain": [
       "++\n",
       "||\n",
       "++\n",
       "++"
      ]
     },
     "execution_count": 42,
     "metadata": {},
     "output_type": "execute_result"
    }
   ],
   "source": [
    "%%sql\n",
    "UPDATE actors\n",
    "SET id = 2\n",
    "WHERE id = 1;"
   ]
  },
  {
   "cell_type": "code",
   "execution_count": 43,
   "id": "de674270",
   "metadata": {},
   "outputs": [
    {
     "data": {
      "text/html": [
       "<span style=\"None\">Running query in &#x27;postgresql://127.0.0.1:5432/lecture5&#x27;</span>"
      ],
      "text/plain": [
       "Running query in 'postgresql://127.0.0.1:5432/lecture5'"
      ]
     },
     "metadata": {},
     "output_type": "display_data"
    },
    {
     "data": {
      "text/html": [
       "<span style=\"color: green\">1 rows affected.</span>"
      ],
      "text/plain": [
       "1 rows affected."
      ]
     },
     "metadata": {},
     "output_type": "display_data"
    },
    {
     "data": {
      "text/html": [
       "<table>\n",
       "    <thead>\n",
       "        <tr>\n",
       "            <th>id</th>\n",
       "            <th>name</th>\n",
       "        </tr>\n",
       "    </thead>\n",
       "    <tbody>\n",
       "        <tr>\n",
       "            <td>3</td>\n",
       "            <td>Michelle Yeoh</td>\n",
       "        </tr>\n",
       "    </tbody>\n",
       "</table>"
      ],
      "text/plain": [
       "+----+---------------+\n",
       "| id |      name     |\n",
       "+----+---------------+\n",
       "| 3  | Michelle Yeoh |\n",
       "+----+---------------+"
      ]
     },
     "execution_count": 43,
     "metadata": {},
     "output_type": "execute_result"
    }
   ],
   "source": [
    "%%sql\n",
    "SELECT * FROM actors;"
   ]
  },
  {
   "cell_type": "code",
   "execution_count": 44,
   "id": "a6e152e6",
   "metadata": {},
   "outputs": [
    {
     "data": {
      "text/html": [
       "<span style=\"None\">Running query in &#x27;postgresql://127.0.0.1:5432/lecture5&#x27;</span>"
      ],
      "text/plain": [
       "Running query in 'postgresql://127.0.0.1:5432/lecture5'"
      ]
     },
     "metadata": {},
     "output_type": "display_data"
    },
    {
     "data": {
      "text/html": [
       "<span style=\"color: green\">2 rows affected.</span>"
      ],
      "text/plain": [
       "2 rows affected."
      ]
     },
     "metadata": {},
     "output_type": "display_data"
    },
    {
     "data": {
      "text/html": [
       "<table>\n",
       "    <thead>\n",
       "        <tr>\n",
       "            <th>person_id</th>\n",
       "            <th>movie_id</th>\n",
       "        </tr>\n",
       "    </thead>\n",
       "    <tbody>\n",
       "        <tr>\n",
       "            <td>3</td>\n",
       "            <td>45</td>\n",
       "        </tr>\n",
       "        <tr>\n",
       "            <td>None</td>\n",
       "            <td>23</td>\n",
       "        </tr>\n",
       "    </tbody>\n",
       "</table>"
      ],
      "text/plain": [
       "+-----------+----------+\n",
       "| person_id | movie_id |\n",
       "+-----------+----------+\n",
       "|     3     |    45    |\n",
       "|    None   |    23    |\n",
       "+-----------+----------+"
      ]
     },
     "execution_count": 44,
     "metadata": {},
     "output_type": "execute_result"
    }
   ],
   "source": [
    "%%sql\n",
    "SELECT * FROM cast_info;"
   ]
  },
  {
   "cell_type": "markdown",
   "id": "1cef07ec",
   "metadata": {},
   "source": [
    "C. Delete a tuple from Movie corresponding to id = 23?"
   ]
  },
  {
   "cell_type": "code",
   "execution_count": 45,
   "id": "5c4a2519",
   "metadata": {},
   "outputs": [
    {
     "data": {
      "text/html": [
       "<span style=\"None\">Running query in &#x27;postgresql://127.0.0.1:5432/lecture5&#x27;</span>"
      ],
      "text/plain": [
       "Running query in 'postgresql://127.0.0.1:5432/lecture5'"
      ]
     },
     "metadata": {},
     "output_type": "display_data"
    },
    {
     "data": {
      "text/html": [
       "<span style=\"color: green\">1 rows affected.</span>"
      ],
      "text/plain": [
       "1 rows affected."
      ]
     },
     "metadata": {},
     "output_type": "display_data"
    },
    {
     "data": {
      "text/html": [
       "<table>\n",
       "    <thead>\n",
       "        <tr>\n",
       "        </tr>\n",
       "    </thead>\n",
       "    <tbody>\n",
       "    </tbody>\n",
       "</table>"
      ],
      "text/plain": [
       "++\n",
       "||\n",
       "++\n",
       "++"
      ]
     },
     "execution_count": 45,
     "metadata": {},
     "output_type": "execute_result"
    }
   ],
   "source": [
    "%%sql\n",
    "DELETE FROM movies\n",
    "WHERE id = 23;"
   ]
  },
  {
   "cell_type": "code",
   "execution_count": 46,
   "id": "69a709c3",
   "metadata": {},
   "outputs": [
    {
     "data": {
      "text/html": [
       "<span style=\"None\">Running query in &#x27;postgresql://127.0.0.1:5432/lecture5&#x27;</span>"
      ],
      "text/plain": [
       "Running query in 'postgresql://127.0.0.1:5432/lecture5'"
      ]
     },
     "metadata": {},
     "output_type": "display_data"
    },
    {
     "data": {
      "text/html": [
       "<span style=\"color: green\">2 rows affected.</span>"
      ],
      "text/plain": [
       "2 rows affected."
      ]
     },
     "metadata": {},
     "output_type": "display_data"
    },
    {
     "data": {
      "text/html": [
       "<table>\n",
       "    <thead>\n",
       "        <tr>\n",
       "            <th>person_id</th>\n",
       "            <th>movie_id</th>\n",
       "        </tr>\n",
       "    </thead>\n",
       "    <tbody>\n",
       "        <tr>\n",
       "            <td>3</td>\n",
       "            <td>45</td>\n",
       "        </tr>\n",
       "        <tr>\n",
       "            <td>None</td>\n",
       "            <td>None</td>\n",
       "        </tr>\n",
       "    </tbody>\n",
       "</table>"
      ],
      "text/plain": [
       "+-----------+----------+\n",
       "| person_id | movie_id |\n",
       "+-----------+----------+\n",
       "|     3     |    45    |\n",
       "|    None   |   None   |\n",
       "+-----------+----------+"
      ]
     },
     "execution_count": 46,
     "metadata": {},
     "output_type": "execute_result"
    }
   ],
   "source": [
    "%%sql\n",
    "SELECT * FROM cast_info;"
   ]
  },
  {
   "cell_type": "markdown",
   "id": "c2f011a2",
   "metadata": {},
   "source": [
    "D. Change a tuple in Movie from id = 23 to id = 24?"
   ]
  },
  {
   "cell_type": "code",
   "execution_count": 47,
   "id": "6584534a",
   "metadata": {},
   "outputs": [
    {
     "data": {
      "text/html": [
       "<span style=\"None\">Running query in &#x27;postgresql://127.0.0.1:5432/lecture5&#x27;</span>"
      ],
      "text/plain": [
       "Running query in 'postgresql://127.0.0.1:5432/lecture5'"
      ]
     },
     "metadata": {},
     "output_type": "display_data"
    },
    {
     "data": {
      "text/html": [
       "<table>\n",
       "    <thead>\n",
       "        <tr>\n",
       "        </tr>\n",
       "    </thead>\n",
       "    <tbody>\n",
       "    </tbody>\n",
       "</table>"
      ],
      "text/plain": [
       "++\n",
       "||\n",
       "++\n",
       "++"
      ]
     },
     "execution_count": 47,
     "metadata": {},
     "output_type": "execute_result"
    }
   ],
   "source": [
    "%%sql\n",
    "UPDATE movies\n",
    "SET id = 24\n",
    "WHERE id = 23;"
   ]
  },
  {
   "cell_type": "markdown",
   "id": "a473564f",
   "metadata": {},
   "source": [
    "E. Insert a tuple into `cast_info` that adds a new person_id not found in Actor?"
   ]
  },
  {
   "cell_type": "code",
   "execution_count": 48,
   "id": "00ceb3a0",
   "metadata": {},
   "outputs": [
    {
     "data": {
      "text/html": [
       "<span style=\"None\">Running query in &#x27;postgresql://127.0.0.1:5432/lecture5&#x27;</span>"
      ],
      "text/plain": [
       "Running query in 'postgresql://127.0.0.1:5432/lecture5'"
      ]
     },
     "metadata": {},
     "output_type": "display_data"
    },
    {
     "name": "stderr",
     "output_type": "stream",
     "text": [
      "RuntimeError: (psycopg2.errors.ForeignKeyViolation) insert or update on table \"cast_info\" violates foreign key constraint \"cast_info_person_id_fkey\"\n",
      "DETAIL:  Key (person_id)=(467) is not present in table \"actors\".\n",
      "\n",
      "[SQL: INSERT INTO cast_info VALUES\n",
      "    (467, 23)\n",
      ";]\n",
      "(Background on this error at: https://sqlalche.me/e/20/gkpj)\n",
      "If you need help solving this issue, send us a message: https://ploomber.io/community\n"
     ]
    }
   ],
   "source": [
    "%%sql\n",
    "INSERT INTO cast_info VALUES\n",
    "    (467, 23)\n",
    ";"
   ]
  },
  {
   "cell_type": "code",
   "execution_count": null,
   "id": "e811d58b",
   "metadata": {},
   "outputs": [],
   "source": []
  }
 ],
 "metadata": {
  "kernelspec": {
   "display_name": "Python 3 (ipykernel)",
   "language": "python",
   "name": "python3"
  },
  "language_info": {
   "codemirror_mode": {
    "name": "ipython",
    "version": 3
   },
   "file_extension": ".py",
   "mimetype": "text/x-python",
   "name": "python",
   "nbconvert_exporter": "python",
   "pygments_lexer": "ipython3",
   "version": "3.11.10"
  },
  "widgets": {
   "application/vnd.jupyter.widget-state+json": {
    "state": {},
    "version_major": 2,
    "version_minor": 0
   }
  }
 },
 "nbformat": 4,
 "nbformat_minor": 5
}
