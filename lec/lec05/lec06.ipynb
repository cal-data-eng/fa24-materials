{
 "cells": [
  {
   "cell_type": "markdown",
   "id": "ef67ff30",
   "metadata": {},
   "source": [
    "# Lecture 05 -- DDL, DML & Constraints"
   ]
  },
  {
   "cell_type": "code",
   "execution_count": null,
   "id": "14aae7e8",
   "metadata": {},
   "outputs": [],
   "source": [
    "# Run this cell to set up imports\n",
    "import numpy as np\n",
    "import pandas as pd"
   ]
  },
  {
   "cell_type": "code",
   "execution_count": null,
   "id": "37af279c",
   "metadata": {},
   "outputs": [],
   "source": [
    "%reload_ext sql"
   ]
  },
  {
   "cell_type": "code",
   "execution_count": null,
   "id": "bfbc2487",
   "metadata": {},
   "outputs": [],
   "source": [
    "!createdb lecture5 -h localhost"
   ]
  },
  {
   "cell_type": "code",
   "execution_count": 3,
   "id": "83c8ef18",
   "metadata": {},
   "outputs": [],
   "source": [
    "%sql postgresql://127.0.0.1:5432/lecture5"
   ]
  },
  {
   "cell_type": "markdown",
   "id": "3af27072",
   "metadata": {},
   "source": [
    "# manager demo"
   ]
  },
  {
   "cell_type": "markdown",
   "id": "2f894bf4",
   "metadata": {},
   "source": [
    "Creating the manager relation"
   ]
  },
  {
   "cell_type": "code",
   "execution_count": null,
   "id": "810671a3",
   "metadata": {},
   "outputs": [],
   "source": [
    "%sql DROP TABLE IF EXISTS managers;"
   ]
  },
  {
   "cell_type": "code",
   "execution_count": null,
   "id": "4d61639c",
   "metadata": {},
   "outputs": [],
   "source": [
    "%%sql\n",
    "CREATE TABLE managers (\n",
    "    manager_name VARCHAR(20),\n",
    "    age INTEGER DEFAULT 50,\n",
    "    manager_id CHAR(4),\n",
    "    PRIMARY KEY (manager_id),\n",
    "    UNIQUE (manager_name)\n",
    ");\n",
    "\n",
    "\n",
    "/***********/\n",
    "SELECT * FROM managers;"
   ]
  },
  {
   "cell_type": "markdown",
   "id": "d21cd8d4",
   "metadata": {},
   "source": [
    "<br/><br/><br/>\n",
    "\n",
    "Add a tuple (success)"
   ]
  },
  {
   "cell_type": "code",
   "execution_count": null,
   "id": "426986ff",
   "metadata": {},
   "outputs": [],
   "source": [
    "%%sql\n",
    "INSERT INTO managers\n",
    "    (age, manager_id)\n",
    "VALUES\n",
    "    (23, 'Lisa'),\n",
    "    (23, 'Michael')\n",
    ";\n",
    "\n",
    "/***********/\n",
    "SELECT * FROM managers;"
   ]
  },
  {
   "cell_type": "markdown",
   "id": "096c1fe8",
   "metadata": {},
   "source": [
    "<br/><br/><br/>\n",
    "\n",
    "Add a tuple (failure)"
   ]
  },
  {
   "cell_type": "code",
   "execution_count": null,
   "id": "4664c6f3",
   "metadata": {},
   "outputs": [],
   "source": [
    "%%sql\n",
    "INSERT INTO managers\n",
    "    (manager_name, age)\n",
    "VALUES\n",
    "    ('Rich', 123);\n",
    "\n",
    "/***********/\n",
    "SELECT * FROM managers;"
   ]
  },
  {
   "cell_type": "markdown",
   "id": "61969288",
   "metadata": {},
   "source": [
    "<br/><br/><br/>\n",
    "\n",
    "Change schema: add attributes"
   ]
  },
  {
   "cell_type": "code",
   "execution_count": null,
   "id": "eab4abff",
   "metadata": {},
   "outputs": [],
   "source": [
    "%%sql\n",
    "ALTER TABLE managers\n",
    "    DROP address,\n",
    "    DROP income,\n",
    "    ADD address VARCHAR (20),\n",
    "    ADD income REAL DEFAULT 1000000.0;\n",
    "\n",
    "/***********/\n",
    "SELECT * FROM managers;"
   ]
  },
  {
   "cell_type": "markdown",
   "id": "333ca83b-a5d1-441b-b452-c7233774ed35",
   "metadata": {},
   "source": [
    "What if we want to add a timestamp?"
   ]
  },
  {
   "cell_type": "code",
   "execution_count": null,
   "id": "f131e6ac-2757-470a-b878-199276d73e5d",
   "metadata": {},
   "outputs": [],
   "source": [
    "%%sql\n",
    "ALTER TABLE managers\n",
    "    ADD created_at timestamptz,\n",
    "    ADD started_at timstamptz;"
   ]
  },
  {
   "cell_type": "markdown",
   "id": "a51d992c",
   "metadata": {},
   "source": [
    "### Notes About Times And Timestamps:\n",
    "\n",
    "* A `timestamp` is a date + time\n",
    "* A time _without a timestamp_ **does not mean anything** without a bunch of context in many cases...\n",
    "* _Always_ (almost) use `timestamptz` over `timestamp`\n",
    "* There is also `time with timezone` and `time [without timezone]` type, but don't use the later..."
   ]
  },
  {
   "cell_type": "code",
   "execution_count": null,
   "id": "f85bce3d-a2c8-4bcc-9d9b-da21144f382b",
   "metadata": {},
   "outputs": [],
   "source": [
    "%%sql\n",
    "INSERT INTO manager(created_at, started_at)\n",
    "VALUES\n",
    "    ('2024-08-20T09:30:00Z-0700', now())\n",
    ";"
   ]
  },
  {
   "cell_type": "code",
   "execution_count": null,
   "id": "34c71d99-f9c8-40a1-899c-a1359bb6bf3b",
   "metadata": {},
   "outputs": [],
   "source": [
    "%sql SELECT * FROM managers;"
   ]
  },
  {
   "cell_type": "markdown",
   "id": "91648cfe",
   "metadata": {},
   "source": [
    "<br/><br/><br/>\n",
    "\n",
    "Change schema: drop attributes"
   ]
  },
  {
   "cell_type": "code",
   "execution_count": null,
   "id": "b39b1f19",
   "metadata": {},
   "outputs": [],
   "source": [
    "%%sql\n",
    "ALTER TABLE manager\n",
    "DROP address,\n",
    "DROP income;\n",
    "\n",
    "/***********/\n",
    "SELECT * FROM manager;"
   ]
  },
  {
   "cell_type": "markdown",
   "id": "69f6701d",
   "metadata": {},
   "source": [
    "<br/><br/><br/>\n",
    "\n",
    "Delete the relation entirely"
   ]
  },
  {
   "cell_type": "code",
   "execution_count": null,
   "id": "0716a1de",
   "metadata": {},
   "outputs": [],
   "source": [
    "%%sql\n",
    "DROP TABLE managers;"
   ]
  },
  {
   "cell_type": "code",
   "execution_count": null,
   "id": "e02e5451",
   "metadata": {},
   "outputs": [],
   "source": [
    "%sql\n",
    "/***********/\n",
    "SELECT * FROM managers;"
   ]
  },
  {
   "cell_type": "code",
   "execution_count": null,
   "id": "8c0940ee",
   "metadata": {},
   "outputs": [],
   "source": [
    "%%sql\n",
    "DROP TABLE IF EXISTS Stops;\n",
    "CREATE TABLE Stops(\n",
    "  stop_id INTEGER,\n",
    "  person_id INTEGER,\n",
    "  -- This is not great...we should have a timezone, but the original data did not.\n",
    "  stop_time TIMESTAMP,\n",
    "  race VARCHAR(10),\n",
    "  location VARCHAR(20) NOT NULL,\n",
    "  age INTEGER,\n",
    "  arrest BOOLEAN DEFAULT False,\n",
    "  PRIMARY KEY (stop_id),\n",
    "  UNIQUE (person_id, stop_time)\n",
    "  );\n"
   ]
  },
  {
   "cell_type": "code",
   "execution_count": null,
   "id": "217bf0d7-c61a-471e-9691-030140c5b3f5",
   "metadata": {},
   "outputs": [],
   "source": [
    "%sql SELECT * FROM Stops;"
   ]
  },
  {
   "cell_type": "code",
   "execution_count": null,
   "id": "3ecb9758",
   "metadata": {},
   "outputs": [],
   "source": [
    "%%sql\n",
    "INSERT INTO Stops\n",
    "    (stop_id, person_id, stop_time, location, arrest)\n",
    "VALUES\n",
    "    -- (0543, 1234, '2023-09-12 13:43:00', 'Oakland')\n",
    "    (9999, 8888, '2023-09-12 13:43:00', 'Oakland', NULL)\n",
    ";\n",
    "SELECT * FROM Stops;"
   ]
  },
  {
   "cell_type": "markdown",
   "id": "251e2c06",
   "metadata": {},
   "source": [
    "## IMDB Datebase"
   ]
  },
  {
   "cell_type": "code",
   "execution_count": null,
   "id": "e7ec09fd",
   "metadata": {},
   "outputs": [],
   "source": [
    "%reload_ext sql"
   ]
  },
  {
   "cell_type": "code",
   "execution_count": null,
   "id": "02f2cc64",
   "metadata": {},
   "outputs": [],
   "source": [
    "%sql postgresql://127.0.0.1:5432/lecture5"
   ]
  },
  {
   "cell_type": "code",
   "execution_count": null,
   "id": "55fae2dc",
   "metadata": {},
   "outputs": [],
   "source": [
    "%%sql\n",
    "DROP TABLE IF EXISTS actors CASCADE;\n",
    "DROP TABLE IF EXISTS movies CASCADE;\n",
    "DROP TABLE IF EXISTS cast_info;\n",
    "\n",
    "CREATE TABLE sctors (\n",
    "  id INTEGER,\n",
    "  name TEXT,\n",
    "  PRIMARY KEY(id)\n",
    ");\n",
    "\n",
    "CREATE TABLE movies (\n",
    "  id INTEGER,\n",
    "  title TEXT,\n",
    "  PRIMARY KEY(id)\n",
    ");\n",
    "\n",
    "CREATE TABLE cast_info (\n",
    "  person_id INTEGER,\n",
    "  movie_id INTEGER,\n",
    "  FOREIGN KEY (person_id)\n",
    "    REFERENCES actors (id)\n",
    "    ON DELETE SET NULL\n",
    "    ON UPDATE CASCADE,\n",
    "  FOREIGN KEY (movie_id)\n",
    "    REFERENCES movies (id)\n",
    "    ON DELETE SET NULL);\n",
    "\n",
    "INSERT INTO actors VALUES\n",
    "    (1, 'Tom Hanks'),\n",
    "    (3, 'Michelle Yeoh')\n",
    ";\n",
    "\n",
    "INSERT INTO movies VALUES\n",
    "    (23, 'Forrest Gump'),\n",
    "    (45, 'Tomorrow Never Dies')\n",
    ";\n",
    "\n",
    "INSERT INTO cast_info VALUES\n",
    "    (1, 23),\n",
    "    (3, 45)\n",
    ";"
   ]
  },
  {
   "cell_type": "code",
   "execution_count": null,
   "id": "d9f0e146",
   "metadata": {},
   "outputs": [],
   "source": [
    "%%sql\n",
    "SELECT * FROM cast_info;"
   ]
  },
  {
   "cell_type": "markdown",
   "id": "a69a6867",
   "metadata": {},
   "source": [
    "A. What if we… Delete a tuple from Actor corresponding to id = 1?"
   ]
  },
  {
   "cell_type": "code",
   "execution_count": null,
   "id": "a66d8768",
   "metadata": {},
   "outputs": [],
   "source": [
    "%%sql\n",
    "DELETE FROM actors\n",
    "WHERE id = 1;"
   ]
  },
  {
   "cell_type": "code",
   "execution_count": null,
   "id": "c55b1108",
   "metadata": {},
   "outputs": [],
   "source": [
    "%%sql\n",
    "SELECT * FROM cast_info;"
   ]
  },
  {
   "cell_type": "markdown",
   "id": "e6f75f12",
   "metadata": {},
   "source": [
    "(note: reset table layout for each choice)\n",
    "\n",
    "B. Change a tuple in Actor from id = 1 to id = 2?"
   ]
  },
  {
   "cell_type": "code",
   "execution_count": null,
   "id": "ba7734f8",
   "metadata": {},
   "outputs": [],
   "source": [
    "%%sql\n",
    "UPDATE actors\n",
    "SET id = 2\n",
    "WHERE id = 1;"
   ]
  },
  {
   "cell_type": "code",
   "execution_count": null,
   "id": "de674270",
   "metadata": {},
   "outputs": [],
   "source": [
    "%%sql\n",
    "SELECT * FROM actors;"
   ]
  },
  {
   "cell_type": "code",
   "execution_count": null,
   "id": "a6e152e6",
   "metadata": {},
   "outputs": [],
   "source": [
    "%%sql\n",
    "SELECT * FROM cast_info;"
   ]
  },
  {
   "cell_type": "markdown",
   "id": "1cef07ec",
   "metadata": {},
   "source": [
    "C. Delete a tuple from Movie corresponding to id = 23?"
   ]
  },
  {
   "cell_type": "code",
   "execution_count": null,
   "id": "5c4a2519",
   "metadata": {},
   "outputs": [],
   "source": [
    "%%sql\n",
    "DELETE FROM movies\n",
    "WHERE id = 23;"
   ]
  },
  {
   "cell_type": "code",
   "execution_count": null,
   "id": "69a709c3",
   "metadata": {},
   "outputs": [],
   "source": [
    "%%sql\n",
    "SELECT * FROM cast_info;"
   ]
  },
  {
   "cell_type": "markdown",
   "id": "c2f011a2",
   "metadata": {},
   "source": [
    "D. Change a tuple in Movie from id = 23 to id = 24?"
   ]
  },
  {
   "cell_type": "code",
   "execution_count": null,
   "id": "6584534a",
   "metadata": {},
   "outputs": [],
   "source": [
    "%%sql\n",
    "UPDATE movies\n",
    "SET id = 24\n",
    "WHERE id = 23;"
   ]
  },
  {
   "cell_type": "markdown",
   "id": "a473564f",
   "metadata": {},
   "source": [
    "E. Insert a tuple into `cast_info` that adds a new person_id not found in Actor?"
   ]
  },
  {
   "cell_type": "code",
   "execution_count": null,
   "id": "00ceb3a0",
   "metadata": {},
   "outputs": [],
   "source": [
    "%%sql\n",
    "INSERT INTO cast_info VALUES\n",
    "    (467, 23)\n",
    ";"
   ]
  },
  {
   "cell_type": "code",
   "execution_count": null,
   "id": "e811d58b",
   "metadata": {},
   "outputs": [],
   "source": []
  }
 ],
 "metadata": {
  "kernelspec": {
   "display_name": "Python 3 (ipykernel)",
   "language": "python",
   "name": "python3"
  },
  "language_info": {
   "codemirror_mode": {
    "name": "ipython",
    "version": 3
   },
   "file_extension": ".py",
   "mimetype": "text/x-python",
   "name": "python",
   "nbconvert_exporter": "python",
   "pygments_lexer": "ipython3",
   "version": "3.12.5"
  }
 },
 "nbformat": 4,
 "nbformat_minor": 5
}
