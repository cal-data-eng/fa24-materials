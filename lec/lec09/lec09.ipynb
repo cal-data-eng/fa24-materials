{
 "cells": [
  {
   "cell_type": "markdown",
   "id": "95ecf727-f939-4e3e-91fc-c12e7426fd30",
   "metadata": {},
   "source": [
    "# Lecture 09"
   ]
  },
  {
   "cell_type": "code",
   "execution_count": null,
   "id": "91bb7cea-cd7d-496b-b447-f553caccaca8",
   "metadata": {},
   "outputs": [],
   "source": [
    "import numpy as np\n",
    "import pandas as pd"
   ]
  },
  {
   "cell_type": "code",
   "execution_count": null,
   "id": "6500ebfa-fef1-4e32-8033-02819c315452",
   "metadata": {},
   "outputs": [],
   "source": [
    "!unzip -u ../../lec/lec06/data/imdb_perf_lecture.zip -d ../../lec/lec06/data/."
   ]
  },
  {
   "cell_type": "code",
   "execution_count": null,
   "id": "aef0c54f-2460-4be9-83a0-c9c04323f70a",
   "metadata": {},
   "outputs": [],
   "source": [
    "!psql -h localhost -c 'DROP DATABASE IF EXISTS imdb_perf_lecture'\n",
    "!psql -h localhost -c 'CREATE DATABASE imdb_perf_lecture' \n",
    "!psql -h localhost -d imdb_perf_lecture -f ../../lec/lec06/data/imdb_perf_lecture.sql"
   ]
  },
  {
   "cell_type": "markdown",
   "id": "9470b24b-ca83-46e0-8efc-f6cace072311",
   "metadata": {
    "slideshow": {
     "slide_type": "slide"
    }
   },
   "source": [
    "# Structural Transformation: From Relations to Matrices and Back\n",
    "- Matrix $\\rightarrow$ Relational works.\n",
    "- Relational $\\rightarrow$ Matrix sometimes works!\n",
    "- But how?\n",
    "\n",
    "To start, let's take our matrix in `mm.txt`, and load it into Pandas."
   ]
  },
  {
   "cell_type": "code",
   "execution_count": null,
   "id": "89df7e25-e979-4147-9c7b-1d685b6d03f0",
   "metadata": {},
   "outputs": [],
   "source": [
    "import pandas as pd"
   ]
  },
  {
   "cell_type": "code",
   "execution_count": null,
   "id": "6a7571ed-20ca-4751-8f6a-6c91b20336a8",
   "metadata": {
    "slideshow": {
     "slide_type": "fragment"
    }
   },
   "outputs": [],
   "source": [
    "mm = pd.read_csv('data/mm.txt', header=0)\n",
    "mm"
   ]
  },
  {
   "cell_type": "markdown",
   "id": "b048eff9-b900-437b-839e-1eb05d4b45fd",
   "metadata": {
    "slideshow": {
     "slide_type": "subslide"
    }
   },
   "source": [
    "## What does an unpivot look like (Matrix -> Relational)?"
   ]
  },
  {
   "cell_type": "code",
   "execution_count": null,
   "id": "82bfc658-47f3-42c5-8c63-51bcbff928cf",
   "metadata": {
    "slideshow": {
     "slide_type": "fragment"
    }
   },
   "outputs": [],
   "source": [
    "mm_melted = mm.melt(id_vars=['Year'])\n",
    "mm_melted"
   ]
  },
  {
   "cell_type": "markdown",
   "id": "dbed1e66-deb5-4c6f-8e70-3a8c09c51490",
   "metadata": {},
   "source": [
    "Thanks to the `id_var` parameter, the `Year` column is named and repeated for all other (variable=column name, value=value) elements in the row."
   ]
  },
  {
   "cell_type": "code",
   "execution_count": null,
   "id": "304401ce-65fc-408c-92cc-217cc682aee6",
   "metadata": {},
   "outputs": [],
   "source": [
    "mm_melted[mm_melted['Year'] == 2002]"
   ]
  },
  {
   "cell_type": "markdown",
   "id": "d36a3c1b-b9af-4e3b-904c-5857677d8fa7",
   "metadata": {
    "slideshow": {
     "slide_type": "subslide"
    }
   },
   "source": [
    "## PIVOT(UNPIVOT) = ??"
   ]
  },
  {
   "cell_type": "code",
   "execution_count": null,
   "id": "0aa6b449-e5bb-4868-b398-6a285537473c",
   "metadata": {
    "slideshow": {
     "slide_type": "fragment"
    }
   },
   "outputs": [],
   "source": [
    "#mm_melted.pivot(index='variable', columns='Year')\n",
    "mm_melted.pivot(index='Year', columns='variable')"
   ]
  },
  {
   "cell_type": "code",
   "execution_count": null,
   "id": "654d45ec-5875-46fe-9128-fd9325e86557",
   "metadata": {},
   "outputs": [],
   "source": [
    "mm_melted.dtypes"
   ]
  },
  {
   "cell_type": "markdown",
   "id": "a7ba7f51-98e1-441d-8255-86b2fc7f42f8",
   "metadata": {
    "slideshow": {
     "slide_type": "subslide"
    }
   },
   "source": [
    "### Extra Columns\n",
    "Let's go back to `mmp.txt`. \n",
    "- Matrix or relation? \n",
    "- Try doing some PIVOT/UNPIVOT work on this."
   ]
  },
  {
   "cell_type": "code",
   "execution_count": null,
   "id": "e7674d24-930d-4ecf-b10c-37eda245cc46",
   "metadata": {
    "slideshow": {
     "slide_type": "fragment"
    }
   },
   "outputs": [],
   "source": [
    "mmp = pd.read_csv('data/mmp.txt', header=0)\n",
    "mmp"
   ]
  },
  {
   "cell_type": "code",
   "execution_count": null,
   "id": "1e7cc962-31d9-49e4-96b8-c4c8b80324e3",
   "metadata": {
    "slideshow": {
     "slide_type": "fragment"
    }
   },
   "outputs": [],
   "source": [
    "# Unpivot\n",
    "mmp_melted = mmp.melt(id_vars=['Location', 'Station', 'Year'])\n",
    "mmp_melted"
   ]
  },
  {
   "cell_type": "code",
   "execution_count": null,
   "id": "907ab118-412e-42f9-9feb-4345f2ddb782",
   "metadata": {
    "slideshow": {
     "slide_type": "fragment"
    }
   },
   "outputs": [],
   "source": [
    "# Repivot the unpivot\n",
    "\n",
    "mmp_tt = mmp_melted.pivot(index='Year', columns='variable')\n",
    "# mmp_tt = mmp_melted.pivot(index=['Location', 'Station', 'Year'], columns='variable')\n",
    "mmp_tt"
   ]
  },
  {
   "cell_type": "code",
   "execution_count": null,
   "id": "0a2335bd-70f6-4be8-bd78-b6a1df46c69a",
   "metadata": {},
   "outputs": [],
   "source": [
    "mmp_tt.reset_index()"
   ]
  },
  {
   "cell_type": "markdown",
   "id": "6ad72d0f-7b5d-403c-bab9-4bb2dafa89b9",
   "metadata": {},
   "source": [
    "# [Extra] Multisets to Sets"
   ]
  },
  {
   "cell_type": "markdown",
   "id": "d5978095-8320-4f33-b043-efa627a5f0c3",
   "metadata": {},
   "source": [
    "### Set up connections and schema"
   ]
  },
  {
   "cell_type": "code",
   "execution_count": null,
   "id": "6260b240-e247-40e9-b176-9d0ab73d91b0",
   "metadata": {},
   "outputs": [],
   "source": [
    "%reload_ext sql\n",
    "%sql postgresql://127.0.0.1:5432/postgres\n",
    "import pandas as pd"
   ]
  },
  {
   "cell_type": "code",
   "execution_count": null,
   "id": "04c34ee2-9687-499e-b5e9-bf65d410905c",
   "metadata": {},
   "outputs": [],
   "source": [
    "%%sql\n",
    "DROP TABLE IF EXISTS blue;\n",
    "DROP TABLE IF EXISTS red;\n",
    "CREATE TABLE blue (last TEXT, first TEXT);\n",
    "CREATE TABLE red (last TEXT, first TEXT);\n",
    "\n",
    "INSERT INTO blue VALUES ('Wang', 'Daisy');\n",
    "INSERT INTO blue VALUES ('Wang', 'Daisy');\n",
    "INSERT INTO blue VALUES ('Wang', 'Xin');\n",
    "\n",
    "INSERT INTO red VALUES ('Wang', 'Daisy');\n",
    "INSERT INTO red VALUES ('Wang', 'Xin');\n",
    "INSERT INTO red VALUES ('Wang', 'Xin');\n",
    "\n",
    "SELECT * FROM blue;"
   ]
  },
  {
   "cell_type": "code",
   "execution_count": null,
   "id": "d4c6ff3a-847d-4f2d-ada7-8ae2b7b164c8",
   "metadata": {
    "scrolled": true
   },
   "outputs": [],
   "source": [
    "%sql SELECT * FROM red;"
   ]
  },
  {
   "cell_type": "markdown",
   "id": "a328557d-efa6-4a97-9072-5321519ff82a",
   "metadata": {},
   "source": [
    "## Representing multiset relations as counted-set relations\n",
    "\n",
    "### Use a CTAS statement with group by to convert standard tables to counted-set tables"
   ]
  },
  {
   "cell_type": "code",
   "execution_count": null,
   "id": "a839935c-518e-4f57-9822-ce3820293369",
   "metadata": {},
   "outputs": [],
   "source": [
    "%%sql\n",
    "DROP TABLE IF EXISTS bluem;\n",
    "CREATE TABLE bluem AS \n",
    "    SELECT *, COUNT(*) AS multiplicity\n",
    "    FROM blue\n",
    "    GROUP BY last, first;\n",
    "\n",
    "SELECT * FROM bluem;"
   ]
  },
  {
   "cell_type": "code",
   "execution_count": null,
   "id": "5129132e-d5db-4487-b3a3-ee3bf19ec0f8",
   "metadata": {},
   "outputs": [],
   "source": [
    "%%sql\n",
    "DROP TABLE IF EXISTS redm;\n",
    "CREATE TABLE redm AS\n",
    "    SELECT *, COUNT(*) AS multiplicity\n",
    "    FROM red\n",
    "    GROUP BY last, first;\n",
    "\n",
    "SELECT * FROM redm;"
   ]
  },
  {
   "cell_type": "markdown",
   "id": "47f3a310-c5ac-445a-9401-fd258cfbb221",
   "metadata": {},
   "source": [
    "### How do we make selection on counted-set tables work like multisets?"
   ]
  },
  {
   "cell_type": "markdown",
   "id": "778593e6-87ce-4f7d-a069-df68486c208a",
   "metadata": {},
   "source": [
    "This works exactly the same in both cases. There's nothing special here. Applying `WHERE` filters on a counted-set will always yield a set back, because you're only removing rows from a set. By definition, this cannot create an entity that is not a set. "
   ]
  },
  {
   "cell_type": "code",
   "execution_count": null,
   "id": "4b5de7fc-2405-485c-ae14-7c1ca0b55183",
   "metadata": {},
   "outputs": [],
   "source": [
    "%%sql\n",
    "-- sigma on multiset\n",
    "SELECT * FROM blue \n",
    "WHERE first = 'Daisy';"
   ]
  },
  {
   "cell_type": "code",
   "execution_count": null,
   "id": "9a672d2f-2c69-4348-96a9-342afa11cba8",
   "metadata": {},
   "outputs": [],
   "source": [
    "%%sql\n",
    "-- sigma on counted set\n",
    "SELECT * FROM bluem WHERE first = 'Daisy';"
   ]
  },
  {
   "cell_type": "markdown",
   "id": "462006ae-ac2c-464c-81a4-6fc507e8945e",
   "metadata": {},
   "source": [
    "### What about projection?"
   ]
  },
  {
   "cell_type": "markdown",
   "id": "50eaf17e-fd38-45c8-a3c6-5a72b9db3b16",
   "metadata": {},
   "source": [
    "We might want to be a bit careful here. See, what defines a set uniquely is its key, and in this case, the key is the combination of `(last, first)`. Simply having `last` or just having `first` is not enough to uniquely identify a row."
   ]
  },
  {
   "cell_type": "code",
   "execution_count": null,
   "id": "c70b1e11-0b2c-4017-bc95-a4f1c169c958",
   "metadata": {},
   "outputs": [],
   "source": [
    "%%sql\n",
    "-- pi on multiset\n",
    "SELECT last FROM blue;"
   ]
  },
  {
   "cell_type": "markdown",
   "id": "454421a4-30d9-4d8f-bd29-7c7c44b2ea05",
   "metadata": {},
   "source": [
    "In fact, you can see that if you simply selected `last` from a counted-set, you'd get a multi-set as your output."
   ]
  },
  {
   "cell_type": "code",
   "execution_count": null,
   "id": "942a2a53-6971-43fe-a1e3-a1bf65140693",
   "metadata": {},
   "outputs": [],
   "source": [
    "%%sql\n",
    "SELECT last FROM bluem;"
   ]
  },
  {
   "cell_type": "markdown",
   "id": "3d912c4a-a8b8-4009-8449-1a7938eda31b",
   "metadata": {},
   "source": [
    "To convert this to a counted-set again, you need to sum up the multiplicities of the tuples that the `last` field came from."
   ]
  },
  {
   "cell_type": "code",
   "execution_count": null,
   "id": "1be615eb-6c2e-40aa-aa74-f02cde3b8079",
   "metadata": {},
   "outputs": [],
   "source": [
    "%%sql\n",
    "-- pi on counted set\n",
    "SELECT last, SUM(multiplicity)\n",
    "FROM bluem group by last;"
   ]
  },
  {
   "cell_type": "markdown",
   "id": "e99954cb-cf98-4be6-b1fe-5384a00fb837",
   "metadata": {},
   "source": [
    "### What about cross-product?"
   ]
  },
  {
   "cell_type": "code",
   "execution_count": null,
   "id": "7a8063d6-4ee7-43de-954f-3b6cb2a526c4",
   "metadata": {},
   "outputs": [],
   "source": [
    "%%sql\n",
    "-- x on multiset\n",
    "SELECT * FROM blue, red;"
   ]
  },
  {
   "cell_type": "markdown",
   "id": "2f516e95-7437-4f34-870e-66406c4e3117",
   "metadata": {},
   "source": [
    "Next, convert *the output* of a multiset cross-product to a counted set as we did before. This is our desired result:"
   ]
  },
  {
   "cell_type": "code",
   "execution_count": null,
   "id": "5e66ab33-25ed-41a8-af38-5420cffa05c8",
   "metadata": {},
   "outputs": [],
   "source": [
    "%%sql\n",
    "-- convert multiset x to counted set\n",
    "WITH cte(blast, bfirst, rlast, rfirst)\n",
    "    AS (SELECT * FROM blue, red)\n",
    "SELECT *, COUNT(*)\n",
    "  from cte\n",
    "GROUP BY blast, bfirst, rlast, rfirst;"
   ]
  },
  {
   "cell_type": "markdown",
   "id": "ed0cfacc-8cd8-4250-829e-abfeae2d55e3",
   "metadata": {},
   "source": [
    "Now, what went on in the arithmetic here? We can think this through by pushing the arithmetic into the query!\n",
    "\n",
    "First, what do you get with naive cross-product of counted sets? You get the names from each table, along with the number of times that each name showed up in its respective table. So, for example, `('Wang', 'Xin')` showed up once in `blue` and twice in `red`."
   ]
  },
  {
   "cell_type": "code",
   "execution_count": null,
   "id": "9998ea2d-9cef-437b-b806-77fc36e205dd",
   "metadata": {},
   "outputs": [],
   "source": [
    "%%sql\n",
    "SELECT * FROM bluem, redm;"
   ]
  },
  {
   "cell_type": "markdown",
   "id": "1b1b8987-7820-4608-b41d-3a2f50d7c60b",
   "metadata": {},
   "source": [
    "What does each row tell us individually? Each row tells us the number of times that the name from the left must be matched with the name from the right in the original cross product between `blue` and `red`. So if you multiply the multiplicities together, you'll get the number of instances of each ordered pair of names in the final cross product"
   ]
  },
  {
   "cell_type": "code",
   "execution_count": null,
   "id": "ff660116-9448-4509-82c4-d226c0c18d8a",
   "metadata": {},
   "outputs": [],
   "source": [
    "%%sql\n",
    "-- fix multiplicity per row\n",
    "SELECT b.last, b.first, r.last, r.first, b.multiplicity*r.multiplicity\n",
    "FROM bluem b, redm r;"
   ]
  },
  {
   "cell_type": "markdown",
   "id": "f33966a1-66b5-487c-8a9d-2c11fb96ecf2",
   "metadata": {},
   "source": [
    "If we simply wanted to drop duplicates instead of monitoring how many there were (the point of a counted-set), our life would have been a lot easier..."
   ]
  },
  {
   "cell_type": "code",
   "execution_count": null,
   "id": "8c976377-4dfc-41cb-b0a7-897ac6b213b2",
   "metadata": {},
   "outputs": [],
   "source": [
    "%%sql\n",
    "SELECT DISTINCT b.last, b.first, r.last, r.first\n",
    "FROM blue b, red r;"
   ]
  },
  {
   "cell_type": "markdown",
   "id": "cad31a2b-aef8-4a28-9dc8-b35570362ac4",
   "metadata": {},
   "source": [
    "# [Scratch] Transposing Demo Code"
   ]
  },
  {
   "cell_type": "code",
   "execution_count": null,
   "id": "ec5b7e1d-139a-411b-a8b1-5d2eb0526e06",
   "metadata": {},
   "outputs": [],
   "source": [
    "%reload_ext sql\n",
    "%sql postgresql://127.0.0.1:5432/postgres\n",
    "import pandas as pd"
   ]
  },
  {
   "cell_type": "code",
   "execution_count": null,
   "id": "2637eb61-fc06-4b9f-9106-ae6f24164e4a",
   "metadata": {},
   "outputs": [],
   "source": [
    "%%sql\n",
    "DROP TABLE IF EXISTS example;\n",
    "CREATE TABLE example(name text, age integer, gpa float);\n",
    "INSERT INTO example VALUES\n",
    "       ('Patty Perfect', 22, 4.0),\n",
    "       ('Sameer Soclose', 20, 3.99),\n",
    "       ('Jacob Excellent', 21, 3.93);"
   ]
  },
  {
   "cell_type": "code",
   "execution_count": null,
   "id": "e21a6210-b386-4aeb-b603-d4d9256971aa",
   "metadata": {},
   "outputs": [],
   "source": [
    "df = %sql SELECT * FROM example;\n",
    "df = df.DataFrame()"
   ]
  },
  {
   "cell_type": "code",
   "execution_count": null,
   "id": "e315a29b-2384-414b-9615-4af9115c84fd",
   "metadata": {},
   "outputs": [],
   "source": [
    "display(df)\n",
    "display(df.dtypes)"
   ]
  },
  {
   "cell_type": "code",
   "execution_count": null,
   "id": "e4a45649-dbf2-44aa-8b26-4f9992bdb03f",
   "metadata": {},
   "outputs": [],
   "source": [
    "dft = df.transpose()\n",
    "display(dft)\n",
    "display(dft.dtypes)"
   ]
  },
  {
   "cell_type": "code",
   "execution_count": null,
   "id": "2ab8fd71-1105-41e7-a0ec-59456bf9e630",
   "metadata": {},
   "outputs": [],
   "source": [
    "dftt = df.transpose().transpose()\n",
    "display(dftt)\n",
    "display(dftt.dtypes)"
   ]
  },
  {
   "cell_type": "code",
   "execution_count": null,
   "id": "dbab1628-21fd-4ead-a103-d898f1927eaf",
   "metadata": {},
   "outputs": [],
   "source": [
    "dftt['age'] = dftt['age'].astype(int)\n",
    "dftt['gpa'] = dftt['gpa'].astype(float)"
   ]
  },
  {
   "cell_type": "code",
   "execution_count": null,
   "id": "a36051f8-ab77-41cc-bf93-8aaf0df65022",
   "metadata": {},
   "outputs": [],
   "source": [
    "dftt.dtypes"
   ]
  },
  {
   "cell_type": "code",
   "execution_count": null,
   "id": "f4662f81-5b44-40e1-9809-3ee6b7f109e0",
   "metadata": {},
   "outputs": [],
   "source": [
    "mat = np.array([[1, 0, 0, 1, 20000],\n",
    "          [0, 1, 0, 2, 10011],\n",
    "          [0, 0, 1, 3, 50000],\n",
    "          [0, 0, 1, 3, 10000]])\n",
    "mat"
   ]
  },
  {
   "cell_type": "code",
   "execution_count": null,
   "id": "f4659d4b-9b82-4e06-9ec8-3c8ee103815f",
   "metadata": {},
   "outputs": [],
   "source": [
    "df = pd.DataFrame({'CompanyName': ['VW', 'Acura', 'Hona', 'Honda'],\n",
    "              'Categorical Value': [1, 2, 3, 3],\n",
    "              'Price': [20000, 10011, 50000, 10000]})\n",
    "df"
   ]
  },
  {
   "cell_type": "code",
   "execution_count": null,
   "id": "139b6fc6-e021-4921-bee4-38d5ea7c8604",
   "metadata": {},
   "outputs": [],
   "source": [
    "df.dtypes"
   ]
  },
  {
   "cell_type": "code",
   "execution_count": null,
   "id": "b45b7c95-9843-4d01-93c0-517527e696a7",
   "metadata": {},
   "outputs": [],
   "source": [
    "# %sql --persist df"
   ]
  }
 ],
 "metadata": {
  "kernelspec": {
   "display_name": "Python 3 (ipykernel)",
   "language": "python",
   "name": "python3"
  },
  "language_info": {
   "codemirror_mode": {
    "name": "ipython",
    "version": 3
   },
   "file_extension": ".py",
   "mimetype": "text/x-python",
   "name": "python",
   "nbconvert_exporter": "python",
   "pygments_lexer": "ipython3",
   "version": "3.11.10"
  }
 },
 "nbformat": 4,
 "nbformat_minor": 5
}
