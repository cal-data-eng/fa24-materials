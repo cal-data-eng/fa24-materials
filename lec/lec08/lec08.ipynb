{
 "cells": [
  {
   "cell_type": "markdown",
   "id": "e8d7b8e2",
   "metadata": {},
   "source": [
    "# Lecture 08"
   ]
  },
  {
   "cell_type": "code",
   "execution_count": null,
   "id": "3f7386cd",
   "metadata": {},
   "outputs": [],
   "source": [
    "# Run this cell to set up imports\n",
    "import numpy as np\n",
    "import pandas as pd"
   ]
  },
  {
   "cell_type": "markdown",
   "id": "ed4619d0-d987-4156-ab04-a80d828ae140",
   "metadata": {},
   "source": [
    "## Load in the IMDB Performance database\n",
    "\n",
    "This is a variation of the IMDB database with keys defined. Note that this is a pretty big database! So if you run the below lines, please also remember to delete the `imdb_perf_lecture` afterwards to save space on your limited postgreSQL server."
   ]
  },
  {
   "cell_type": "markdown",
   "id": "3e345ec8-e2d1-47ed-8fc1-7c7188709dc0",
   "metadata": {},
   "source": [
    "We assume you have the associated lecture folder `lec06` pulled into your repo already. The below commands create a symbolic link (i.e., shortcut/redirect with `ln`) to this lecture data directory, allowing some space saving, and unzip the database file."
   ]
  },
  {
   "cell_type": "code",
   "execution_count": null,
   "id": "b47615da-762d-4f02-822f-7a8791a59648",
   "metadata": {},
   "outputs": [],
   "source": [
    "!ln -sf ../../lec/lec06/data .\n",
    "!unzip -u data/imdb_perf_lecture.zip -d data/"
   ]
  },
  {
   "cell_type": "code",
   "execution_count": null,
   "id": "41a9652c",
   "metadata": {},
   "outputs": [],
   "source": [
    "!psql -h localhost -c 'DROP DATABASE IF EXISTS imdb_perf_lecture'\n",
    "!psql -h localhost -c 'CREATE DATABASE imdb_perf_lecture' \n",
    "!psql -h localhost -d imdb_perf_lecture -f data/imdb_perf_lecture.sql"
   ]
  },
  {
   "cell_type": "markdown",
   "id": "6f3b81f1-c015-4a99-b6b8-a145037d5624",
   "metadata": {},
   "source": [
    "## Start `jupysql`"
   ]
  },
  {
   "cell_type": "code",
   "execution_count": null,
   "id": "6cb3757e",
   "metadata": {},
   "outputs": [],
   "source": [
    "%reload_ext sql"
   ]
  },
  {
   "cell_type": "code",
   "execution_count": null,
   "id": "124be448",
   "metadata": {},
   "outputs": [],
   "source": [
    "%sql postgresql://127.0.0.1:5432/imdb_perf_lecture"
   ]
  },
  {
   "cell_type": "markdown",
   "id": "2dcaf784-54b9-4024-b7fc-b623d61ffb26",
   "metadata": {},
   "source": [
    "If you're having trouble seeing the entirety of query plans, you can run the following cell to set the limit on displayed rows to 20. **Careful**: Do not set this to `None` and run the actual queries; SQL will return millions of rows and crash your kernel!"
   ]
  },
  {
   "cell_type": "code",
   "execution_count": null,
   "id": "4b622817-609a-4d4f-b49e-f788fff2934e",
   "metadata": {},
   "outputs": [],
   "source": [
    "# run this cell to remove 10-row limit on display\n",
    "%config SqlMagic.displaylimit = 20"
   ]
  },
  {
   "cell_type": "markdown",
   "id": "0700cca9-8c3d-4be8-99b7-086602a26268",
   "metadata": {},
   "source": [
    "# Matching"
   ]
  },
  {
   "cell_type": "markdown",
   "id": "2480e7fb-dc94-4753-a288-b36dcba78319",
   "metadata": {},
   "source": [
    "\n",
    "\n",
    "\n",
    "<div class=\"alert alert-success\">\n",
    "It is much easier to see query plans in <b>psql</b>!<br/>\n",
    "<code>jupysql</code> dataframe visualization removes any whitespace.\n",
    "</div>\n",
    "\n",
    "You can also run (after each cell):\n",
    "```\n",
    "result = _.DataFrame()\n",
    "result.style.set_properties(**{'text-align': 'left'})\n",
    "print(result)\n",
    "```"
   ]
  },
  {
   "cell_type": "code",
   "execution_count": null,
   "id": "169da418-7abe-488a-a25c-e9e239db7168",
   "metadata": {},
   "outputs": [],
   "source": [
    "%%sql\n",
    "/* 1 */\n",
    "EXPLAIN ANALYZE\n",
    "SELECT id FROM actors\n",
    "WHERE id > 4000000 AND\n",
    "name='Tom Hanks';"
   ]
  },
  {
   "cell_type": "code",
   "execution_count": null,
   "id": "01cacc2d-c857-4630-b9d6-102367cd68f6",
   "metadata": {},
   "outputs": [],
   "source": [
    "%%sql\n",
    "/* 2 */\n",
    "EXPLAIN ANALYZE\n",
    "SELECT id FROM actors\n",
    "ORDER BY name\n",
    "LIMIT 10;"
   ]
  },
  {
   "cell_type": "code",
   "execution_count": null,
   "id": "53571e31-2bb5-4c88-9d39-a6a373defd0d",
   "metadata": {},
   "outputs": [],
   "source": [
    "%%sql\n",
    "/* 3 */\n",
    "EXPLAIN ANALYZE\n",
    "SELECT id FROM actors\n",
    "ORDER BY id\n",
    "LIMIT 10;"
   ]
  },
  {
   "cell_type": "markdown",
   "id": "12bdaa1d-7f17-4c49-81cc-d939fa64bb4f",
   "metadata": {},
   "source": [
    "## Two-table demo: LIMIT"
   ]
  },
  {
   "cell_type": "markdown",
   "id": "41b363f4-f330-42ee-ae8d-c27d67305131",
   "metadata": {},
   "source": [
    "Let's join two tables, `actors` and `cast_info`. The query planner selects a hash join:"
   ]
  },
  {
   "cell_type": "code",
   "execution_count": null,
   "id": "0e0dc742-33cb-4e4e-a7ea-d04770377e67",
   "metadata": {},
   "outputs": [],
   "source": [
    "%%sql\n",
    "EXPLAIN ANALYZE\n",
    "SELECT *\n",
    "FROM actors, cast_info\n",
    "WHERE actors.id = cast_info.person_id;"
   ]
  },
  {
   "cell_type": "code",
   "execution_count": null,
   "id": "385072b3-9212-425e-8e5a-8198aa808bc0",
   "metadata": {},
   "outputs": [],
   "source": [
    "result = _.DataFrame()\n",
    "result.style.set_properties(**{'text-align': 'left'})\n",
    "print(result)"
   ]
  },
  {
   "cell_type": "markdown",
   "id": "1d33164b-2a45-4231-b7b6-93dac2d6a8d5",
   "metadata": {},
   "source": [
    "<br/><br/>\n",
    "\n",
    "Below, we add `LIMIT`. Note the query planner switches to a nested loop join, using an index scan to match `cast_info.person_id` to the indexed attribute `actors.id`! This results in a 10,000x speedup!"
   ]
  },
  {
   "cell_type": "code",
   "execution_count": null,
   "id": "765bddf2-4458-4250-b66e-6dab05a5f761",
   "metadata": {},
   "outputs": [],
   "source": [
    "%%sql\n",
    "EXPLAIN ANALYZE\n",
    "SELECT *\n",
    "FROM actors, cast_info\n",
    "WHERE actors.id = cast_info.person_id\n",
    "LIMIT 10;"
   ]
  },
  {
   "cell_type": "code",
   "execution_count": null,
   "id": "4e05a7f2-3cf5-4666-b31c-82cc68a7763f",
   "metadata": {},
   "outputs": [],
   "source": [
    "result = _.DataFrame()\n",
    "result.style.set_properties(**{'text-align': 'left'})\n",
    "print(result)"
   ]
  },
  {
   "cell_type": "markdown",
   "id": "c42c5fa8-f43d-4899-9db4-cbf49a3070ff",
   "metadata": {},
   "source": [
    "## Two-table demo: Projection\n",
    "\n",
    "<div class=\"alert alert-success\">\n",
    "It is much easier to see query plans in <b>psql</b>!<br/>\n",
    "<code>jupysql</code> dataframe visualization removes any whitespace.\n",
    "</div>"
   ]
  },
  {
   "cell_type": "code",
   "execution_count": null,
   "id": "768e4a9d-4c62-4ea3-a3a7-8f30a9d3f384",
   "metadata": {},
   "outputs": [],
   "source": [
    "%%sql\n",
    "EXPLAIN ANALYZE\n",
    "SELECT name, movie_id\n",
    "FROM actors, cast_info\n",
    "WHERE actors.id = cast_info.person_id;"
   ]
  },
  {
   "cell_type": "code",
   "execution_count": null,
   "id": "cc719cfa-7105-49ee-98e5-ebad6434f6ac",
   "metadata": {},
   "outputs": [],
   "source": [
    "result = _.DataFrame()\n",
    "result.style.set_properties(**{'text-align': 'left'})\n",
    "print(result)"
   ]
  },
  {
   "cell_type": "markdown",
   "id": "9196c749-fab1-4367-9d96-801cda4a32d6",
   "metadata": {},
   "source": [
    "</br><br/>\n",
    "\n",
    "The below is not as substantial a reduction, but still about a quarter speed-up.\n",
    "* Notice that projection was pushed down below the join “at source”.\n",
    "* If we waited until join was done, would be at least as expensive."
   ]
  },
  {
   "cell_type": "code",
   "execution_count": null,
   "id": "7c42ac65-37ca-4bd8-8106-f5fc214da4ed",
   "metadata": {},
   "outputs": [],
   "source": [
    "%%sql\n",
    "EXPLAIN ANALYZE\n",
    "SELECT name, movie_id\n",
    "FROM actors, cast_info\n",
    "WHERE actors.id = cast_info.person_id AND actors.id > 4000000;"
   ]
  },
  {
   "cell_type": "code",
   "execution_count": null,
   "id": "a58a8350-1c6b-447c-9fa7-7dcd8c6a9cb1",
   "metadata": {},
   "outputs": [],
   "source": [
    "result = _.DataFrame()\n",
    "result.style.set_properties(**{'text-align': 'left'})\n",
    "print(result)"
   ]
  },
  {
   "cell_type": "markdown",
   "id": "f887ae87-c702-465f-b1be-1ca70a2b5078",
   "metadata": {},
   "source": [
    "## Three-way joins"
   ]
  },
  {
   "cell_type": "code",
   "execution_count": null,
   "id": "3fef0fea-f865-404e-abb8-292cd8f5a0e8",
   "metadata": {},
   "outputs": [],
   "source": [
    "%%sql \n",
    "EXPLAIN ANALYZE\n",
    "SELECT *\n",
    "FROM actors, cast_info, movies\n",
    "WHERE actors.id = cast_info.person_id\n",
    "    AND movies.id = cast_info.movie_id\n",
    "LIMIT 10;"
   ]
  },
  {
   "cell_type": "code",
   "execution_count": null,
   "id": "e5526f93-d58a-4db3-a77b-26cd6377b375",
   "metadata": {},
   "outputs": [],
   "source": [
    "result = _.DataFrame()\n",
    "result.style.set_properties(**{'text-align': 'left'})\n",
    "print(result)"
   ]
  },
  {
   "cell_type": "markdown",
   "id": "2a7a3c9e-ce6e-4784-a763-656f2f449e28",
   "metadata": {},
   "source": [
    "<br/><br/>\n",
    "Below, note the predicate pushdown in the sequential scan on actors! Again, copy-paste into `psql` if you can't see the whitespace formatting."
   ]
  },
  {
   "cell_type": "code",
   "execution_count": null,
   "id": "2924a139-bc67-4a19-9ad9-7540cd43064a",
   "metadata": {},
   "outputs": [],
   "source": [
    "%%sql\n",
    "EXPLAIN ANALYZE\n",
    "SELECT *\n",
    "FROM actors, cast_info, movies\n",
    "WHERE actors.id = cast_info.person_id\n",
    "    AND movies.id = cast_info.movie_id\n",
    "    AND name = 'Tom Hanks';"
   ]
  },
  {
   "cell_type": "code",
   "execution_count": null,
   "id": "3f64f5db-10e9-4386-8871-022528b05c39",
   "metadata": {},
   "outputs": [],
   "source": [
    "result = _.DataFrame()\n",
    "result.style.set_properties(**{'text-align': 'left'})\n",
    "print(result)"
   ]
  },
  {
   "cell_type": "markdown",
   "id": "0b433c36-ade1-4fc0-b2f3-16205fdcdb74",
   "metadata": {},
   "source": [
    "<br/><br/>\n",
    "\n",
    "Compare with the below predicate pushdown, where the filter is now on movie titles:"
   ]
  },
  {
   "cell_type": "code",
   "execution_count": null,
   "id": "cb2cd31c-5de1-416a-99a1-dc66a8f38d6e",
   "metadata": {},
   "outputs": [],
   "source": [
    "%%sql\n",
    "EXPLAIN ANALYZE\n",
    "SELECT *\n",
    "FROM actors, cast_info, movies\n",
    "WHERE actors.id = cast_info.person_id\n",
    "    AND movies.id = cast_info.movie_id\n",
    "    AND title LIKE 'Snakes on a Plane';"
   ]
  },
  {
   "cell_type": "code",
   "execution_count": null,
   "id": "a924901e-f0ec-4a0f-917e-9cfe5ca8e290",
   "metadata": {},
   "outputs": [],
   "source": [
    "result = _.DataFrame()\n",
    "result.style.set_properties(**{'text-align': 'left'})\n",
    "print(result)"
   ]
  },
  {
   "cell_type": "markdown",
   "id": "96af2061-80dd-4cbe-9d7a-850a601a4071",
   "metadata": {},
   "source": [
    "# Three-way joins with Indexes"
   ]
  },
  {
   "cell_type": "code",
   "execution_count": null,
   "id": "c2ffdd6b-bdfb-41d7-8acc-5173934a9781",
   "metadata": {},
   "outputs": [],
   "source": [
    "%%sql\n",
    "EXPLAIN ANALYZE\n",
    "SELECT *\n",
    "FROM actors, cast_info, movies\n",
    "WHERE actors.id = cast_info.person_id\n",
    "    AND movies.id = cast_info.movie_id\n",
    "LIMIT 10;"
   ]
  },
  {
   "cell_type": "code",
   "execution_count": null,
   "id": "f775d186-e124-4572-aa96-4403b2c54aed",
   "metadata": {},
   "outputs": [],
   "source": [
    "result = _.DataFrame()\n",
    "result.style.set_properties(**{'text-align': 'left'})\n",
    "print(result)"
   ]
  },
  {
   "cell_type": "markdown",
   "id": "29b86550-74fb-412e-9770-415591116448",
   "metadata": {},
   "source": [
    "<br/><br/>\n",
    "What if we dropped one of the indexes?\n",
    "\n",
    "To do so we must drop the primary key constraint on actors.id:"
   ]
  },
  {
   "cell_type": "code",
   "execution_count": null,
   "id": "75d36170-657f-4fcf-9cef-6537f4e98a46",
   "metadata": {},
   "outputs": [],
   "source": [
    "%sql ALTER TABLE actors DROP CONSTRAINT actor_pkey CASCADE;"
   ]
  },
  {
   "cell_type": "code",
   "execution_count": null,
   "id": "019b9eda-6eb2-4fc6-aa0b-0336fa1f3173",
   "metadata": {},
   "outputs": [],
   "source": [
    "%%sql\n",
    "EXPLAIN ANALYZE\n",
    "SELECT *\n",
    "FROM actors, cast_info, movies\n",
    "WHERE actors.id = cast_info.person_id\n",
    "    AND movies.id = cast_info.movie_id\n",
    "LIMIT 10;"
   ]
  },
  {
   "cell_type": "code",
   "execution_count": null,
   "id": "baad66fc-b5b0-4d64-a3f0-fe8833e93de3",
   "metadata": {},
   "outputs": [],
   "source": [
    "result = _.DataFrame()\n",
    "result.style.set_properties(**{'text-align': 'left'})\n",
    "print(result)"
   ]
  },
  {
   "cell_type": "markdown",
   "id": "af5abada-6012-41ba-9e1b-d03575d7287e",
   "metadata": {},
   "source": [
    "<br/><br/>\n",
    "What if we dropped both indexes?"
   ]
  },
  {
   "cell_type": "code",
   "execution_count": null,
   "id": "dd4126dc-d88d-4eaa-b8eb-29746e999c31",
   "metadata": {
    "scrolled": true
   },
   "outputs": [],
   "source": [
    "%sql ALTER TABLE movies DROP CONSTRAINT movie_pkey CASCADE;"
   ]
  },
  {
   "cell_type": "code",
   "execution_count": null,
   "id": "5ef94a40-0bc1-462a-b461-6643742b245c",
   "metadata": {},
   "outputs": [],
   "source": [
    "%%sql\n",
    "EXPLAIN ANALYZE\n",
    "SELECT *\n",
    "FROM actors, cast_info, movies\n",
    "WHERE actors.id = cast_info.person_id\n",
    "    AND movies.id = cast_info.movie_id\n",
    "LIMIT 10;"
   ]
  },
  {
   "cell_type": "code",
   "execution_count": null,
   "id": "effba2f0-3c11-4b28-9240-94dc2ab907f7",
   "metadata": {},
   "outputs": [],
   "source": [
    "result = _.DataFrame()\n",
    "result.style.set_properties(**{'text-align': 'left'})\n",
    "print(result)"
   ]
  },
  {
   "cell_type": "markdown",
   "id": "4b13ca01",
   "metadata": {},
   "source": [
    "# Cleanup"
   ]
  },
  {
   "cell_type": "markdown",
   "id": "1afcb9bd",
   "metadata": {},
   "source": [
    "We close the connection, then drop the database:"
   ]
  },
  {
   "cell_type": "code",
   "execution_count": null,
   "id": "27d40776",
   "metadata": {},
   "outputs": [],
   "source": [
    "%sql --close postgresql://127.0.0.1:5432/imdb_perf_lecture"
   ]
  },
  {
   "cell_type": "code",
   "execution_count": null,
   "id": "bf6bdf18",
   "metadata": {},
   "outputs": [],
   "source": [
    "!psql -h localhost -c 'DROP DATABASE IF EXISTS imdb_perf_lecture'"
   ]
  }
 ],
 "metadata": {
  "kernelspec": {
   "display_name": "Python 3 (ipykernel)",
   "language": "python",
   "name": "python3"
  },
  "language_info": {
   "codemirror_mode": {
    "name": "ipython",
    "version": 3
   },
   "file_extension": ".py",
   "mimetype": "text/x-python",
   "name": "python",
   "nbconvert_exporter": "python",
   "pygments_lexer": "ipython3",
   "version": "3.11.10"
  }
 },
 "nbformat": 4,
 "nbformat_minor": 5
}
