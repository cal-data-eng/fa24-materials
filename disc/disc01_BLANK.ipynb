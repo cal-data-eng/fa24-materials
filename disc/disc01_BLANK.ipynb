{
 "cells": [
  {
   "cell_type": "markdown",
   "id": "induced-solution",
   "metadata": {},
   "source": [
    "# Discussion 01"
   ]
  },
  {
   "cell_type": "markdown",
   "id": "urban-whale",
   "metadata": {},
   "source": [
    "## Setup\n",
    "\n",
    "First, download the required dependencies (at their respective versions). After running the below cell, you'll need to **restart your kernel** by clicking `\"Kernel\" > \"Restart Kernel\"` at the top bar."
   ]
  },
  {
   "cell_type": "code",
   "execution_count": null,
   "id": "productive-nightmare",
   "metadata": {},
   "outputs": [],
   "source": [
    "%pip install pandas==2.0.3\n",
    "%pip install sqlalchemy==2.0.32\n",
    "%pip install ipython-sql"
   ]
  },
  {
   "cell_type": "markdown",
   "id": "alternative-corner",
   "metadata": {},
   "source": [
    "Running the below cells creates the sqlite3 database `sqlite3:///books.db`."
   ]
  },
  {
   "cell_type": "code",
   "execution_count": 5,
   "id": "incomplete-continent",
   "metadata": {},
   "outputs": [
    {
     "name": "stdout",
     "output_type": "stream",
     "text": [
      "The autoreload extension is already loaded. To reload it, use:\n",
      "  %reload_ext autoreload\n"
     ]
    }
   ],
   "source": [
    "%load_ext autoreload\n",
    "%autoreload 2"
   ]
  },
  {
   "cell_type": "code",
   "execution_count": 6,
   "id": "imported-enclosure",
   "metadata": {},
   "outputs": [],
   "source": [
    "import make_books"
   ]
  },
  {
   "cell_type": "markdown",
   "id": "adverse-projection",
   "metadata": {},
   "source": [
    "## Discussion Questions"
   ]
  },
  {
   "cell_type": "markdown",
   "id": "appointed-terrorist",
   "metadata": {},
   "source": [
    "Database schema:\n",
    "\n",
    "```\n",
    "Books (book id, book name, year, genre, author id, times trending)\n",
    "Authors (author id, author name, publishing company, debut year)\n",
    "Awards (award id, book id, author name)\n",
    "```"
   ]
  },
  {
   "cell_type": "markdown",
   "id": "changed-calgary",
   "metadata": {},
   "source": [
    "Run the below cells to start a sql connection."
   ]
  },
  {
   "cell_type": "code",
   "execution_count": 12,
   "id": "municipal-pharmacy",
   "metadata": {},
   "outputs": [],
   "source": [
    "%load_ext sql"
   ]
  },
  {
   "cell_type": "code",
   "execution_count": 13,
   "id": "grateful-november",
   "metadata": {},
   "outputs": [],
   "source": [
    "%sql sqlite:///books.db"
   ]
  },
  {
   "cell_type": "markdown",
   "id": "modern-wallace",
   "metadata": {},
   "source": [
    "## 1) SQL Review\n",
    "Suppose a full database schema is as follows:\n",
    "- books (book id, book name, year, genre, author id, times trending)\n",
    "- authors (author id, author name, publishing company, debut year)\n",
    "- awards (award id, book id, award name, author name)\n",
    "\n",
    "Below is how you will be writing your SQL queries with [\"SQL magic\"](https://www.datacamp.com/tutorial/sql-interface-within-jupyterlab)."
   ]
  },
  {
   "cell_type": "code",
   "execution_count": 14,
   "id": "economic-eclipse",
   "metadata": {},
   "outputs": [
    {
     "name": "stdout",
     "output_type": "stream",
     "text": [
      " * sqlite:///books.db\n",
      "0 rows affected.\n"
     ]
    },
    {
     "data": {
      "text/plain": [
       "[]"
      ]
     },
     "execution_count": 14,
     "metadata": {},
     "output_type": "execute_result"
    }
   ],
   "source": [
    "%%sql\n",
    "-- your code here --\n",
    ";"
   ]
  },
  {
   "cell_type": "markdown",
   "id": "variable-millennium",
   "metadata": {},
   "source": [
    "Write a SQL query to accomplish each task below:\n",
    "\n",
    "\n",
    "**1. Select only the book names and years from the books table.**"
   ]
  },
  {
   "cell_type": "code",
   "execution_count": 15,
   "id": "fluid-ratio",
   "metadata": {},
   "outputs": [
    {
     "name": "stdout",
     "output_type": "stream",
     "text": [
      " * sqlite:///books.db\n",
      "Done.\n"
     ]
    },
    {
     "data": {
      "text/html": [
       "<table>\n",
       "    <thead>\n",
       "        <tr>\n",
       "            <th>book_name</th>\n",
       "            <th>year</th>\n",
       "        </tr>\n",
       "    </thead>\n",
       "    <tbody>\n",
       "        <tr>\n",
       "            <td>And Then There Were None</td>\n",
       "            <td>1939</td>\n",
       "        </tr>\n",
       "        <tr>\n",
       "            <td>Endless Night</td>\n",
       "            <td>1967</td>\n",
       "        </tr>\n",
       "        <tr>\n",
       "            <td>Teaching to Transgress</td>\n",
       "            <td>1994</td>\n",
       "        </tr>\n",
       "        <tr>\n",
       "            <td>Chanwoo&#x27;s Photobook</td>\n",
       "            <td>2017</td>\n",
       "        </tr>\n",
       "        <tr>\n",
       "            <td>The Dispossessed</td>\n",
       "            <td>1974</td>\n",
       "        </tr>\n",
       "        <tr>\n",
       "            <td>The Ministry for the Future</td>\n",
       "            <td>2020</td>\n",
       "        </tr>\n",
       "    </tbody>\n",
       "</table>"
      ],
      "text/plain": [
       "[('And Then There Were None', 1939),\n",
       " ('Endless Night', 1967),\n",
       " ('Teaching to Transgress', 1994),\n",
       " (\"Chanwoo's Photobook\", 2017),\n",
       " ('The Dispossessed', 1974),\n",
       " ('The Ministry for the Future', 2020)]"
      ]
     },
     "execution_count": 15,
     "metadata": {},
     "output_type": "execute_result"
    }
   ],
   "source": [
    "%%sql\n",
    "SELECT book_name, year FROM books;"
   ]
  },
  {
   "cell_type": "markdown",
   "id": "loaded-intellectual",
   "metadata": {},
   "source": [
    "**2. Find the names of all authors whose debut years are in the 21st century (defined as after 2000).**"
   ]
  },
  {
   "cell_type": "code",
   "execution_count": 16,
   "id": "expensive-miracle",
   "metadata": {},
   "outputs": [
    {
     "name": "stdout",
     "output_type": "stream",
     "text": [
      " * sqlite:///books.db\n",
      "Done.\n"
     ]
    },
    {
     "data": {
      "text/html": [
       "<table>\n",
       "    <thead>\n",
       "        <tr>\n",
       "            <th>author_name</th>\n",
       "        </tr>\n",
       "    </thead>\n",
       "    <tbody>\n",
       "        <tr>\n",
       "            <td>Chanwoo</td>\n",
       "        </tr>\n",
       "    </tbody>\n",
       "</table>"
      ],
      "text/plain": [
       "[('Chanwoo',)]"
      ]
     },
     "execution_count": 16,
     "metadata": {},
     "output_type": "execute_result"
    }
   ],
   "source": [
    "%%sql\n",
    "SELECT author_name\n",
    "FROM authors\n",
    "WHERE debut_year >= 2001;"
   ]
  },
  {
   "cell_type": "markdown",
   "id": "anticipated-operator",
   "metadata": {},
   "source": [
    "**3. Find the names of all authors who released a sci-fi genre book in 1974 that won an award.**"
   ]
  },
  {
   "cell_type": "code",
   "execution_count": 17,
   "id": "greek-profession",
   "metadata": {},
   "outputs": [
    {
     "name": "stdout",
     "output_type": "stream",
     "text": [
      " * sqlite:///books.db\n",
      "Done.\n"
     ]
    },
    {
     "data": {
      "text/html": [
       "<table>\n",
       "    <thead>\n",
       "        <tr>\n",
       "            <th>author_name</th>\n",
       "        </tr>\n",
       "    </thead>\n",
       "    <tbody>\n",
       "        <tr>\n",
       "            <td>Ursula K. Le Guin</td>\n",
       "        </tr>\n",
       "        <tr>\n",
       "            <td>Ursula K. Le Guin</td>\n",
       "        </tr>\n",
       "    </tbody>\n",
       "</table>"
      ],
      "text/plain": [
       "[('Ursula K. Le Guin',), ('Ursula K. Le Guin',)]"
      ]
     },
     "execution_count": 17,
     "metadata": {},
     "output_type": "execute_result"
    }
   ],
   "source": [
    "%%sql\n",
    "SELECT aw.author_name\n",
    "FROM books AS b\n",
    "    INNER JOIN awards AS aw\n",
    "    ON b.book_id = aw.book_id\n",
    "WHERE b.genre = \"sci-fi\" AND b.year = 1974;"
   ]
  },
  {
   "cell_type": "markdown",
   "id": "moving-trustee",
   "metadata": {},
   "source": [
    "## 2) SQL Aggregation Review\n",
    "In some cases, we may need to accumulate results by combining multiple rows via aggregation. We use the same schema as in Section 2.\n",
    "\n",
    "**4. Write a query that calculates the total number of books written by author Agatha Christie.**"
   ]
  },
  {
   "cell_type": "code",
   "execution_count": 18,
   "id": "nutritional-proposal",
   "metadata": {},
   "outputs": [
    {
     "name": "stdout",
     "output_type": "stream",
     "text": [
      " * sqlite:///books.db\n",
      "Done.\n",
      "(sqlite3.OperationalError) near \"%\": syntax error\n",
      "[SQL: %%sql]\n",
      "(Background on this error at: https://sqlalche.me/e/20/e3q8)\n"
     ]
    }
   ],
   "source": [
    "%%sql\n",
    "SELECT COUNT(*)\n",
    "FROM books AS b\n",
    "    INNER JOIN authors AS a\n",
    "    ON b.author_id = a.author_id\n",
    "WHERE a.author_name = \"Agatha Christie\";%%sql"
   ]
  },
  {
   "cell_type": "markdown",
   "id": "critical-general",
   "metadata": {},
   "source": [
    "**5. The group-by construct lets us compute aggregates for different chunks of a relation. Find the total number of books released per genre. Don’t include genres with a count less than 2. (Hint: HAVING)**"
   ]
  },
  {
   "cell_type": "code",
   "execution_count": 19,
   "id": "smoking-timeline",
   "metadata": {},
   "outputs": [
    {
     "name": "stdout",
     "output_type": "stream",
     "text": [
      " * sqlite:///books.db\n",
      "Done.\n"
     ]
    },
    {
     "data": {
      "text/html": [
       "<table>\n",
       "    <thead>\n",
       "        <tr>\n",
       "            <th>genre</th>\n",
       "            <th>COUNT(*)</th>\n",
       "        </tr>\n",
       "    </thead>\n",
       "    <tbody>\n",
       "        <tr>\n",
       "            <td>mystery</td>\n",
       "            <td>2</td>\n",
       "        </tr>\n",
       "        <tr>\n",
       "            <td>nonfiction</td>\n",
       "            <td>2</td>\n",
       "        </tr>\n",
       "        <tr>\n",
       "            <td>sci-fi</td>\n",
       "            <td>2</td>\n",
       "        </tr>\n",
       "    </tbody>\n",
       "</table>"
      ],
      "text/plain": [
       "[('mystery', 2), ('nonfiction', 2), ('sci-fi', 2)]"
      ]
     },
     "execution_count": 19,
     "metadata": {},
     "output_type": "execute_result"
    }
   ],
   "source": [
    "%%sql\n",
    "SELECT genre, COUNT(*)\n",
    "FROM books\n",
    "GROUP BY genre\n",
    "HAVING COUNT(*) >= 2;"
   ]
  },
  {
   "cell_type": "markdown",
   "id": "russian-hamilton",
   "metadata": {},
   "source": [
    "## 3) Optional Questions\n",
    "\n",
    "**6. Find the names of the 5 books that trended the least, ordered from least to most. Break ties by book name in alphabetical order.**"
   ]
  },
  {
   "cell_type": "code",
   "execution_count": 20,
   "id": "approved-crest",
   "metadata": {},
   "outputs": [
    {
     "name": "stdout",
     "output_type": "stream",
     "text": [
      " * sqlite:///books.db\n",
      "Done.\n"
     ]
    },
    {
     "data": {
      "text/html": [
       "<table>\n",
       "    <thead>\n",
       "        <tr>\n",
       "            <th>book_name</th>\n",
       "        </tr>\n",
       "    </thead>\n",
       "    <tbody>\n",
       "        <tr>\n",
       "            <td>Chanwoo&#x27;s Photobook</td>\n",
       "        </tr>\n",
       "        <tr>\n",
       "            <td>And Then There Were None</td>\n",
       "        </tr>\n",
       "        <tr>\n",
       "            <td>Teaching to Transgress</td>\n",
       "        </tr>\n",
       "        <tr>\n",
       "            <td>Endless Night</td>\n",
       "        </tr>\n",
       "        <tr>\n",
       "            <td>The Ministry for the Future</td>\n",
       "        </tr>\n",
       "    </tbody>\n",
       "</table>"
      ],
      "text/plain": [
       "[(\"Chanwoo's Photobook\",),\n",
       " ('And Then There Were None',),\n",
       " ('Teaching to Transgress',),\n",
       " ('Endless Night',),\n",
       " ('The Ministry for the Future',)]"
      ]
     },
     "execution_count": 20,
     "metadata": {},
     "output_type": "execute_result"
    }
   ],
   "source": [
    "%%sql\n",
    "SELECT book_name\n",
    "FROM books\n",
    "ORDER BY times_trending ASC, book_name ASC\n",
    "LIMIT 5;"
   ]
  },
  {
   "cell_type": "markdown",
   "id": "careful-premiere",
   "metadata": {},
   "source": [
    "**7. *Challenge:* Write a query that computes the total times each author has had a trending book. (Hint: you will need to use a join for this as well.)**"
   ]
  },
  {
   "cell_type": "code",
   "execution_count": 21,
   "id": "collaborative-contract",
   "metadata": {},
   "outputs": [
    {
     "name": "stdout",
     "output_type": "stream",
     "text": [
      " * sqlite:///books.db\n",
      "Done.\n"
     ]
    },
    {
     "data": {
      "text/html": [
       "<table>\n",
       "    <thead>\n",
       "        <tr>\n",
       "            <th>author_name</th>\n",
       "            <th>SUM(b.times_trending)</th>\n",
       "        </tr>\n",
       "    </thead>\n",
       "    <tbody>\n",
       "        <tr>\n",
       "            <td>Agatha Christie</td>\n",
       "            <td>25</td>\n",
       "        </tr>\n",
       "        <tr>\n",
       "            <td>Chanwoo</td>\n",
       "            <td>0</td>\n",
       "        </tr>\n",
       "        <tr>\n",
       "            <td>Kim Stanley Robinson</td>\n",
       "            <td>15</td>\n",
       "        </tr>\n",
       "        <tr>\n",
       "            <td>Ursula K. Le Guin</td>\n",
       "            <td>20</td>\n",
       "        </tr>\n",
       "        <tr>\n",
       "            <td>bell hooks</td>\n",
       "            <td>10</td>\n",
       "        </tr>\n",
       "    </tbody>\n",
       "</table>"
      ],
      "text/plain": [
       "[('Agatha Christie', 25),\n",
       " ('Chanwoo', 0),\n",
       " ('Kim Stanley Robinson', 15),\n",
       " ('Ursula K. Le Guin', 20),\n",
       " ('bell hooks', 10)]"
      ]
     },
     "execution_count": 21,
     "metadata": {},
     "output_type": "execute_result"
    }
   ],
   "source": [
    "%%sql\n",
    "SELECT a.author_name, SUM(b.times_trending)\n",
    "FROM books AS b\n",
    "    INNER JOIN authors AS a\n",
    "    ON b.author_id = a.author_id\n",
    "GROUP BY a.author_name;"
   ]
  }
 ],
 "metadata": {
  "kernelspec": {
   "display_name": "Python 3",
   "language": "python",
   "name": "python3"
  },
  "language_info": {
   "codemirror_mode": {
    "name": "ipython",
    "version": 3
   },
   "file_extension": ".py",
   "mimetype": "text/x-python",
   "name": "python",
   "nbconvert_exporter": "python",
   "pygments_lexer": "ipython3",
   "version": "3.8.5"
  }
 },
 "nbformat": 4,
 "nbformat_minor": 5
}
