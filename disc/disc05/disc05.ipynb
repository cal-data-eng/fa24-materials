{
 "cells": [
  {
   "cell_type": "markdown",
   "id": "665b78b2-89e5-42a7-8456-8420bfa0a5b5",
   "metadata": {},
   "source": [
    "# Discussion 05 Notebook\n",
    "\n",
    "This notebook is an accompaniment to the associated discussion worksheet handout."
   ]
  },
  {
   "cell_type": "markdown",
   "id": "5806e221-5f2b-4764-979a-32500a32d5ab",
   "metadata": {},
   "source": [
    "## Load in the IMDB Performance database\n",
    "\n",
    "This is a variation of the IMDB database with keys defined. Note that this is a pretty big database! So if you run the below lines, please also remember to delete the `imdb_perf_lecture` afterwards to save space on your limited postgreSQL server."
   ]
  },
  {
   "cell_type": "markdown",
   "id": "b5e5de78-740e-4e4d-9640-f769e7ec0cab",
   "metadata": {},
   "source": [
    "If you didn't load it in with a previous lecture, load in the `imdb_perf_lecture` database."
   ]
  },
  {
   "cell_type": "code",
   "execution_count": 1,
   "id": "8ea61b1d-de1e-455e-b294-31945f9bf983",
   "metadata": {},
   "outputs": [
    {
     "name": "stdout",
     "output_type": "stream",
     "text": [
      "Archive:  data/imdb_perf_lecture.zip\n",
      "  inflating: data/imdb_perf_lecture.sql  \n"
     ]
    }
   ],
   "source": [
    "!ln -sf ../../lec/lec06/data .\n",
    "!unzip -u data/imdb_perf_lecture.zip -d data/"
   ]
  },
  {
   "cell_type": "code",
   "execution_count": 2,
   "id": "42d6cf6a",
   "metadata": {},
   "outputs": [
    {
     "name": "stdout",
     "output_type": "stream",
     "text": [
      "DROP DATABASE\n",
      "CREATE DATABASE\n",
      "SET\n",
      "SET\n",
      "SET\n",
      "SET\n",
      "SET\n",
      " set_config \n",
      "------------\n",
      " \n",
      "(1 row)\n",
      "\n",
      "SET\n",
      "SET\n",
      "SET\n",
      "SET\n",
      "SET\n",
      "SET\n",
      "CREATE TABLE\n",
      "ALTER TABLE\n",
      "CREATE TABLE\n",
      "ALTER TABLE\n",
      "CREATE TABLE\n",
      "ALTER TABLE\n",
      "COPY 845888\n",
      "COPY 2211936\n",
      "COPY 656453\n",
      "ALTER TABLE\n",
      "ALTER TABLE\n",
      "ALTER TABLE\n",
      "ALTER TABLE\n"
     ]
    }
   ],
   "source": [
    "!psql -h localhost -c 'DROP DATABASE IF EXISTS imdb_perf_lecture'\n",
    "!psql -h localhost -c 'CREATE DATABASE imdb_perf_lecture' \n",
    "!psql -h localhost -d imdb_perf_lecture -f data/imdb_perf_lecture.sql"
   ]
  },
  {
   "cell_type": "code",
   "execution_count": 3,
   "id": "addb4b4a-9ca7-4474-bc5f-88c670bbb50f",
   "metadata": {},
   "outputs": [],
   "source": [
    "%reload_ext sql\n",
    "%sql postgresql://127.0.0.1:5432/imdb_perf_lecture\n",
    "import pandas as pd\n"
   ]
  },
  {
   "cell_type": "markdown",
   "id": "ac50b45c-5826-4938-8234-a3f74cdfad0c",
   "metadata": {},
   "source": [
    "Before starting this part, review the schema of the relations in the `imdb_perf_lecture` database. Here's the printout from `psql`:\n",
    "\n",
    "```\n",
    "imdb_perf_lecture=# \\d actor\n",
    "               Table \"public.actor\"\n",
    " Column |  Type   | Collation | Nullable | Default \n",
    "--------+---------+-----------+----------+---------\n",
    " id     | integer |           | not null | \n",
    " name   | text    |           |          | \n",
    "Indexes:\n",
    "    \"actor_pkey\" PRIMARY KEY, btree (id)\n",
    "Referenced by:\n",
    "    TABLE \"cast_info\" CONSTRAINT \"cast_info_person_id_fkey\" FOREIGN KEY (person_id) REFERENCES actor(id)\n",
    "\n",
    "imdb_perf_lecture=# \\d cast_info\n",
    "               Table \"public.cast_info\"\n",
    "  Column   |  Type   | Collation | Nullable | Default \n",
    "-----------+---------+-----------+----------+---------\n",
    " person_id | integer |           |          | \n",
    " movie_id  | integer |           |          | \n",
    "Foreign-key constraints:\n",
    "    \"cast_info_movie_id_fkey\" FOREIGN KEY (movie_id) REFERENCES movie(id)\n",
    "    \"cast_info_person_id_fkey\" FOREIGN KEY (person_id) REFERENCES actor(id)\n",
    "\n",
    "imdb_perf_lecture=# \\d movie\n",
    "                    Table \"public.movie\"\n",
    "     Column      |  Type   | Collation | Nullable | Default \n",
    "-----------------+---------+-----------+----------+---------\n",
    " id              | integer |           | not null | \n",
    " title           | text    |           |          | \n",
    " year            | integer |           |          | \n",
    " runtime_minutes | integer |           |          | \n",
    "Indexes:\n",
    "    \"movie_pkey\" PRIMARY KEY, btree (id)\n",
    "Referenced by:\n",
    "    TABLE \"cast_info\" CONSTRAINT \"cast_info_movie_id_fkey\" FOREIGN KEY (movie_id) REFERENCES movie(id)\n",
    "```"
   ]
  },
  {
   "cell_type": "markdown",
   "id": "c10749a9",
   "metadata": {},
   "source": [
    "# Section III"
   ]
  },
  {
   "cell_type": "markdown",
   "id": "c69c481b-1997-4370-ac7d-38fce4848bbf",
   "metadata": {},
   "source": [
    "## Question 8"
   ]
  },
  {
   "cell_type": "markdown",
   "id": "daf00940-df5f-4cca-8237-2339d286671b",
   "metadata": {},
   "source": [
    "Write a query that computes an inner join on `actors` and `cast_info` on the actor ID. Your query should return all attributes."
   ]
  },
  {
   "cell_type": "code",
   "execution_count": 12,
   "id": "3189f696",
   "metadata": {},
   "outputs": [
    {
     "data": {
      "text/html": [
       "<span style=\"None\">Running query in &#x27;postgresql://127.0.0.1:5432/imdb_perf_lecture&#x27;</span>"
      ],
      "text/plain": [
       "Running query in 'postgresql://127.0.0.1:5432/imdb_perf_lecture'"
      ]
     },
     "metadata": {},
     "output_type": "display_data"
    },
    {
     "name": "stderr",
     "output_type": "stream",
     "text": [
      "RuntimeError: (psycopg2.ProgrammingError) can't execute an empty query\n",
      "[SQL: -- write your query here --]\n",
      "(Background on this error at: https://sqlalche.me/e/20/f405)\n",
      "If you need help solving this issue, send us a message: https://ploomber.io/community\n"
     ]
    }
   ],
   "source": [
    "%%sql\n",
    "-- write your query here --\n"
   ]
  },
  {
   "cell_type": "markdown",
   "id": "cf997785",
   "metadata": {},
   "source": [
    "Once you're comfortable that the query is working as expected, run it through `EXPLAIN ANALYZE`. **Discuss**: What kind of join is the query optimizer performing? Why might this be the case?"
   ]
  },
  {
   "cell_type": "code",
   "execution_count": 13,
   "id": "7358130c-71a5-45da-a817-5fcea54726f6",
   "metadata": {},
   "outputs": [
    {
     "data": {
      "text/html": [
       "<span style=\"None\">Running query in &#x27;postgresql://127.0.0.1:5432/imdb_perf_lecture&#x27;</span>"
      ],
      "text/plain": [
       "Running query in 'postgresql://127.0.0.1:5432/imdb_perf_lecture'"
      ]
     },
     "metadata": {},
     "output_type": "display_data"
    },
    {
     "name": "stderr",
     "output_type": "stream",
     "text": [
      "RuntimeError: (psycopg2.ProgrammingError) can't execute an empty query\n",
      "[SQL: -- write your EXPLAIN ANALYZE here --]\n",
      "(Background on this error at: https://sqlalche.me/e/20/f405)\n",
      "If you need help solving this issue, send us a message: https://ploomber.io/community\n"
     ]
    }
   ],
   "source": [
    "%%sql\n",
    "-- write your EXPLAIN ANALYZE here --\n"
   ]
  },
  {
   "cell_type": "markdown",
   "id": "170a64fa-acc5-4e58-8a7f-aad442703b50",
   "metadata": {},
   "source": [
    "<br/>\n",
    "\n",
    "---\n",
    "\n",
    "Sometimes you may prefer to adjust the PostgreSQL settings to force a specific performance of a query. \n",
    "In the remainder of this question we will explore how to specify these settings. Note that settings tweaking for a single query is **not recommended** in practice, as it affects all of your queries! However, if you know specific characteristics of how your database will be queried in general, then by all means, dive in to adjust these knobs."
   ]
  },
  {
   "cell_type": "markdown",
   "id": "7d1e879c-d7bb-4945-b7da-9d5825a50f49",
   "metadata": {},
   "source": [
    "* All runtime parameters for PostgreSQL are in one view, called `pg_settings` (Documentation 54.24 [link](https://www.postgresql.org/docs/current/view-pg-settings.html)).\n",
    "* In particular, the Planner Method Configuration (Documentation 20.7.1 [link](https://www.postgresql.org/docs/current/runtime-config-query.html#GUC-SEQ-PAGE-COST)) includes the parameter descriptions for the query optimizer.\n",
    "\n",
    "We encourage you to keep these pages up as you explore the next activity."
   ]
  },
  {
   "cell_type": "markdown",
   "id": "f274df09-1b9c-4652-8b08-25005c2f96d2",
   "metadata": {},
   "source": [
    "## Question 9"
   ]
  },
  {
   "cell_type": "markdown",
   "id": "208513a6-e1f3-4d4d-a68e-38573e5ee2b1",
   "metadata": {},
   "source": [
    "Run the below query. Which settings are related to selecting the type of join that the query optimizer can select?"
   ]
  },
  {
   "cell_type": "code",
   "execution_count": 8,
   "id": "09778108-7606-4ba6-b4d5-5a63bdff369a",
   "metadata": {},
   "outputs": [
    {
     "data": {
      "text/html": [
       "<span style=\"None\">Running query in &#x27;postgresql://127.0.0.1:5432/imdb_perf_lecture&#x27;</span>"
      ],
      "text/plain": [
       "Running query in 'postgresql://127.0.0.1:5432/imdb_perf_lecture'"
      ]
     },
     "metadata": {},
     "output_type": "display_data"
    },
    {
     "data": {
      "text/html": [
       "<span style=\"color: green\">20 rows affected.</span>"
      ],
      "text/plain": [
       "20 rows affected."
      ]
     },
     "metadata": {},
     "output_type": "display_data"
    },
    {
     "data": {
      "text/html": [
       "<table>\n",
       "    <thead>\n",
       "        <tr>\n",
       "            <th>name</th>\n",
       "        </tr>\n",
       "    </thead>\n",
       "    <tbody>\n",
       "        <tr>\n",
       "            <td>enable_async_append</td>\n",
       "        </tr>\n",
       "        <tr>\n",
       "            <td>enable_bitmapscan</td>\n",
       "        </tr>\n",
       "        <tr>\n",
       "            <td>enable_gathermerge</td>\n",
       "        </tr>\n",
       "        <tr>\n",
       "            <td>enable_hashagg</td>\n",
       "        </tr>\n",
       "        <tr>\n",
       "            <td>enable_hashjoin</td>\n",
       "        </tr>\n",
       "        <tr>\n",
       "            <td>enable_incremental_sort</td>\n",
       "        </tr>\n",
       "        <tr>\n",
       "            <td>enable_indexonlyscan</td>\n",
       "        </tr>\n",
       "        <tr>\n",
       "            <td>enable_indexscan</td>\n",
       "        </tr>\n",
       "        <tr>\n",
       "            <td>enable_material</td>\n",
       "        </tr>\n",
       "        <tr>\n",
       "            <td>enable_memoize</td>\n",
       "        </tr>\n",
       "    </tbody>\n",
       "</table>\n",
       "<span style=\"font-style:italic;text-align:center;\">Truncated to <a href=\"https://jupysql.ploomber.io/en/latest/api/configuration.html#displaylimit\">displaylimit</a> of 10.</span>"
      ],
      "text/plain": [
       "+-------------------------+\n",
       "|           name          |\n",
       "+-------------------------+\n",
       "|   enable_async_append   |\n",
       "|    enable_bitmapscan    |\n",
       "|    enable_gathermerge   |\n",
       "|      enable_hashagg     |\n",
       "|     enable_hashjoin     |\n",
       "| enable_incremental_sort |\n",
       "|   enable_indexonlyscan  |\n",
       "|     enable_indexscan    |\n",
       "|     enable_material     |\n",
       "|      enable_memoize     |\n",
       "+-------------------------+\n",
       "Truncated to displaylimit of 10."
      ]
     },
     "execution_count": 8,
     "metadata": {},
     "output_type": "execute_result"
    }
   ],
   "source": [
    "%%sql\n",
    "SELECT name\n",
    "FROM pg_settings\n",
    "WHERE name LIKE 'enable_%';\n"
   ]
  },
  {
   "cell_type": "markdown",
   "id": "c2bc3c4c-69bc-4dae-b114-e593ce4e854f",
   "metadata": {},
   "source": [
    "## Question 10"
   ]
  },
  {
   "cell_type": "markdown",
   "id": "a359e3ce-0117-455c-ba0e-b6c9c88394f3",
   "metadata": {},
   "source": [
    "Let's suppose we turn off hash join as an option for the query optimizer. The syntax is included for you below."
   ]
  },
  {
   "cell_type": "code",
   "execution_count": 19,
   "id": "6b3c41be-9ffe-4a6d-ac68-c961af371e4e",
   "metadata": {},
   "outputs": [
    {
     "data": {
      "text/html": [
       "<span style=\"None\">Running query in &#x27;postgresql://127.0.0.1:5432/imdb_perf_lecture&#x27;</span>"
      ],
      "text/plain": [
       "Running query in 'postgresql://127.0.0.1:5432/imdb_perf_lecture'"
      ]
     },
     "metadata": {},
     "output_type": "display_data"
    },
    {
     "data": {
      "text/html": [
       "<table>\n",
       "    <thead>\n",
       "        <tr>\n",
       "        </tr>\n",
       "    </thead>\n",
       "    <tbody>\n",
       "    </tbody>\n",
       "</table>"
      ],
      "text/plain": [
       "++\n",
       "||\n",
       "++\n",
       "++"
      ]
     },
     "execution_count": 19,
     "metadata": {},
     "output_type": "execute_result"
    }
   ],
   "source": [
    "# just run this cell\n",
    "%sql set enable_hashjoin=false;"
   ]
  },
  {
   "cell_type": "markdown",
   "id": "0d0e0829-edc9-4d6c-8a1d-3e89b83a4691",
   "metadata": {},
   "source": [
    "Copy your `EXPLAIN ANALYZE` command from Question 8 and rerun it below.\n",
    "\n",
    "**Discuss**: Recall that our intial query was performed using hash joins; what is the join the query optimizer picks below? Why might this be preferred over the remaining alternatives?"
   ]
  },
  {
   "cell_type": "code",
   "execution_count": 18,
   "id": "9fab9810-dce0-481c-bdda-0b861d97c971",
   "metadata": {},
   "outputs": [
    {
     "data": {
      "text/html": [
       "<span style=\"None\">Running query in &#x27;postgresql://127.0.0.1:5432/imdb_perf_lecture&#x27;</span>"
      ],
      "text/plain": [
       "Running query in 'postgresql://127.0.0.1:5432/imdb_perf_lecture'"
      ]
     },
     "metadata": {},
     "output_type": "display_data"
    },
    {
     "name": "stderr",
     "output_type": "stream",
     "text": [
      "RuntimeError: (psycopg2.ProgrammingError) can't execute an empty query\n",
      "[SQL: -- copy your EXPLAIN ANALYZE query from the previous part here --]\n",
      "(Background on this error at: https://sqlalche.me/e/20/f405)\n",
      "If you need help solving this issue, send us a message: https://ploomber.io/community\n"
     ]
    }
   ],
   "source": [
    "%%sql\n",
    "-- copy your EXPLAIN ANALYZE query from the previous part here --\n"
   ]
  },
  {
   "cell_type": "markdown",
   "id": "ad4c3725-4ebc-4a54-a947-bda16a0484b1",
   "metadata": {},
   "source": [
    "## Question 11"
   ]
  },
  {
   "cell_type": "markdown",
   "id": "27084c39-ec60-4947-8fc7-1e44eb005f3b",
   "metadata": {},
   "source": [
    "Next, what if we turn off the option for using the join in Question 10? In the cell below, replace `# YOUR CODE HERE` with the one-line SQL magic that will set the corresponding `pg_settings` entry to `false`."
   ]
  },
  {
   "cell_type": "code",
   "execution_count": 17,
   "id": "5d350548-d8ff-40dd-b7a9-4409d72305be",
   "metadata": {},
   "outputs": [],
   "source": [
    "# YOUR SQL line MAGIC HERE\n"
   ]
  },
  {
   "cell_type": "markdown",
   "id": "bbea0d2a-6b37-4489-9557-14970ca9d1aa",
   "metadata": {},
   "source": [
    "Copy your `EXPLAIN ANALYZE` command from the previous parts and rerun it below. Note the selected join, as well as the significnatly longer execution time!"
   ]
  },
  {
   "cell_type": "code",
   "execution_count": null,
   "id": "98fab354-64d8-4ba8-82b1-fd9f45a32aeb",
   "metadata": {},
   "outputs": [],
   "source": [
    "%%sql\n",
    "-- write your query here; edit to include EXPLAIN ANALYZE --\n"
   ]
  },
  {
   "cell_type": "markdown",
   "id": "efa97fe1-8cd2-4ae4-88b5-a4714253f3b3",
   "metadata": {},
   "source": [
    "## Question 12"
   ]
  },
  {
   "cell_type": "markdown",
   "id": "dea7cc8e-a4a8-4eb4-afe5-118cc51fb905",
   "metadata": {},
   "source": [
    "**Cleanup** Finally, reset the two settings you edited in Question 10 and 11 in the cell below."
   ]
  },
  {
   "cell_type": "code",
   "execution_count": null,
   "id": "a0e5d054-1e5f-497e-bd9a-1b2829af7247",
   "metadata": {},
   "outputs": [],
   "source": [
    "# YOUR SQL line MAGIC HERE\n",
    "# YOUR SQL line MAGIC HERE\n"
   ]
  }
 ],
 "metadata": {
  "kernelspec": {
   "display_name": "Python 3 (ipykernel)",
   "language": "python",
   "name": "python3"
  },
  "language_info": {
   "codemirror_mode": {
    "name": "ipython",
    "version": 3
   },
   "file_extension": ".py",
   "mimetype": "text/x-python",
   "name": "python",
   "nbconvert_exporter": "python",
   "pygments_lexer": "ipython3",
   "version": "3.11.10"
  }
 },
 "nbformat": 4,
 "nbformat_minor": 5
}
