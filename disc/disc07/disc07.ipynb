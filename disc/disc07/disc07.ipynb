{
 "cells": [
  {
   "cell_type": "markdown",
   "id": "5f0e3ab0-616f-4b24-a355-9896d3014d7d",
   "metadata": {},
   "source": [
    "# Discussion 07 Notebook\n",
    "\n",
    "This notebook is an accompaniment to the associated discussion worksheet handout."
   ]
  },
  {
   "cell_type": "markdown",
   "id": "f0e8a2a2-3c64-4ec0-997b-417bade541dd",
   "metadata": {},
   "source": [
    "## Database Setup"
   ]
  },
  {
   "cell_type": "code",
   "execution_count": 1,
   "id": "1d7ff9cb-0822-4247-92ed-dd3745f2ed03",
   "metadata": {},
   "outputs": [
    {
     "name": "stdout",
     "output_type": "stream",
     "text": [
      "DROP DATABASE\n",
      "CREATE DATABASE\n"
     ]
    }
   ],
   "source": [
    "!psql -h localhost -c 'DROP DATABASE IF EXISTS disc07'\n",
    "!psql -h localhost -c 'CREATE DATABASE disc07'\n",
    "\n",
    "%reload_ext sql\n",
    "%sql postgresql://127.0.0.1:5432/disc07"
   ]
  },
  {
   "cell_type": "code",
   "execution_count": 2,
   "id": "57fd6aa1-48a7-41b3-ba54-425d6d7d1969",
   "metadata": {},
   "outputs": [
    {
     "name": "stdout",
     "output_type": "stream",
     "text": [
      "SET\n",
      "SET\n",
      "SET\n",
      "SET\n",
      "SET\n",
      " set_config \n",
      "------------\n",
      " \n",
      "(1 row)\n",
      "\n",
      "SET\n",
      "SET\n",
      "SET\n",
      "SET\n",
      "CREATE EXTENSION\n",
      "COMMENT\n",
      "SET\n",
      "SET\n",
      "CREATE TABLE\n",
      "ALTER TABLE\n",
      "CREATE TABLE\n",
      "ALTER TABLE\n",
      "CREATE MATERIALIZED VIEW\n",
      "ALTER TABLE\n",
      "CREATE TABLE\n",
      "ALTER TABLE\n",
      "CREATE TABLE\n",
      "ALTER TABLE\n",
      "COPY 6\n",
      "COPY 176436\n",
      "COPY 73006\n",
      "COPY 21\n",
      "ALTER TABLE\n",
      "CREATE INDEX\n",
      "REFRESH MATERIALIZED VIEW\n"
     ]
    }
   ],
   "source": [
    "!psql postgresql://127.0.0.1:5432/disc07 <disc07.sql"
   ]
  },
  {
   "cell_type": "markdown",
   "id": "b483d753-873d-4693-b956-863fb54b3fcc",
   "metadata": {},
   "source": [
    "# Section I: Data Granularity"
   ]
  },
  {
   "cell_type": "markdown",
   "id": "d0f32a0e-bbd3-4c46-9a6b-8afb7027f2ed",
   "metadata": {},
   "source": [
    "### Initial Exploration"
   ]
  },
  {
   "cell_type": "code",
   "execution_count": 3,
   "id": "1eba1117-1bed-4fa9-9062-6ca16f6ca34a",
   "metadata": {},
   "outputs": [
    {
     "data": {
      "text/html": [
       "<span style=\"None\">Running query in &#x27;postgresql://127.0.0.1:5432/disc07&#x27;</span>"
      ],
      "text/plain": [
       "Running query in 'postgresql://127.0.0.1:5432/disc07'"
      ]
     },
     "metadata": {},
     "output_type": "display_data"
    },
    {
     "data": {
      "text/html": [
       "<span style=\"color: green\">5 rows affected.</span>"
      ],
      "text/plain": [
       "5 rows affected."
      ]
     },
     "metadata": {},
     "output_type": "display_data"
    },
    {
     "data": {
      "text/html": [
       "<table>\n",
       "    <thead>\n",
       "        <tr>\n",
       "            <th>tax_id</th>\n",
       "            <th>parent</th>\n",
       "            <th>rank</th>\n",
       "        </tr>\n",
       "    </thead>\n",
       "    <tbody>\n",
       "        <tr>\n",
       "            <td>1</td>\n",
       "            <td>1</td>\n",
       "            <td>no rank</td>\n",
       "        </tr>\n",
       "        <tr>\n",
       "            <td>2</td>\n",
       "            <td>131567</td>\n",
       "            <td>superkingdom</td>\n",
       "        </tr>\n",
       "        <tr>\n",
       "            <td>6</td>\n",
       "            <td>335928</td>\n",
       "            <td>genus</td>\n",
       "        </tr>\n",
       "        <tr>\n",
       "            <td>7</td>\n",
       "            <td>6</td>\n",
       "            <td>species</td>\n",
       "        </tr>\n",
       "        <tr>\n",
       "            <td>9</td>\n",
       "            <td>32199</td>\n",
       "            <td>species</td>\n",
       "        </tr>\n",
       "    </tbody>\n",
       "</table>"
      ],
      "text/plain": [
       "+--------+--------+--------------+\n",
       "| tax_id | parent |     rank     |\n",
       "+--------+--------+--------------+\n",
       "|   1    |   1    |   no rank    |\n",
       "|   2    | 131567 | superkingdom |\n",
       "|   6    | 335928 |    genus     |\n",
       "|   7    |   6    |   species    |\n",
       "|   9    | 32199  |   species    |\n",
       "+--------+--------+--------------+"
      ]
     },
     "execution_count": 3,
     "metadata": {},
     "output_type": "execute_result"
    }
   ],
   "source": [
    "%sql SELECT * FROM nodes ORDER BY tax_id LIMIT 5;"
   ]
  },
  {
   "cell_type": "code",
   "execution_count": 4,
   "id": "98701c63-d7af-472f-88c9-de61474e77f4",
   "metadata": {},
   "outputs": [
    {
     "data": {
      "text/html": [
       "<span style=\"None\">Running query in &#x27;postgresql://127.0.0.1:5432/disc07&#x27;</span>"
      ],
      "text/plain": [
       "Running query in 'postgresql://127.0.0.1:5432/disc07'"
      ]
     },
     "metadata": {},
     "output_type": "display_data"
    },
    {
     "data": {
      "text/html": [
       "<span style=\"color: green\">5 rows affected.</span>"
      ],
      "text/plain": [
       "5 rows affected."
      ]
     },
     "metadata": {},
     "output_type": "display_data"
    },
    {
     "data": {
      "text/html": [
       "<table>\n",
       "    <thead>\n",
       "        <tr>\n",
       "            <th>tax_id</th>\n",
       "            <th>name_txt</th>\n",
       "        </tr>\n",
       "    </thead>\n",
       "    <tbody>\n",
       "        <tr>\n",
       "            <td>1</td>\n",
       "            <td>all</td>\n",
       "        </tr>\n",
       "        <tr>\n",
       "            <td>1</td>\n",
       "            <td>root</td>\n",
       "        </tr>\n",
       "        <tr>\n",
       "            <td>2</td>\n",
       "            <td>Bacteria</td>\n",
       "        </tr>\n",
       "        <tr>\n",
       "            <td>2</td>\n",
       "            <td>bacteria</td>\n",
       "        </tr>\n",
       "        <tr>\n",
       "            <td>2</td>\n",
       "            <td>eubacteria</td>\n",
       "        </tr>\n",
       "    </tbody>\n",
       "</table>"
      ],
      "text/plain": [
       "+--------+------------+\n",
       "| tax_id |  name_txt  |\n",
       "+--------+------------+\n",
       "|   1    |    all     |\n",
       "|   1    |    root    |\n",
       "|   2    |  Bacteria  |\n",
       "|   2    |  bacteria  |\n",
       "|   2    | eubacteria |\n",
       "+--------+------------+"
      ]
     },
     "execution_count": 4,
     "metadata": {},
     "output_type": "execute_result"
    }
   ],
   "source": [
    "%sql SELECT * FROM names ORDER BY tax_id LIMIT 5;"
   ]
  },
  {
   "cell_type": "markdown",
   "id": "bdc24096-82ee-498e-9f9d-37f3693310ed",
   "metadata": {},
   "source": [
    "### Question 1 \n",
    "Write a SQL query to find the node representing the Animalia kingdom. Your query should return\n",
    "the kingdom name and its corresponding node information."
   ]
  },
  {
   "cell_type": "code",
   "execution_count": 5,
   "id": "38f23678-af09-4bd5-a058-52aa0de901cf",
   "metadata": {},
   "outputs": [
    {
     "data": {
      "text/html": [
       "<span style=\"None\">Running query in &#x27;postgresql://127.0.0.1:5432/disc07&#x27;</span>"
      ],
      "text/plain": [
       "Running query in 'postgresql://127.0.0.1:5432/disc07'"
      ]
     },
     "metadata": {},
     "output_type": "display_data"
    },
    {
     "data": {
      "text/html": [
       "<span style=\"color: green\">1 rows affected.</span>"
      ],
      "text/plain": [
       "1 rows affected."
      ]
     },
     "metadata": {},
     "output_type": "display_data"
    },
    {
     "data": {
      "text/html": [
       "<table>\n",
       "    <thead>\n",
       "        <tr>\n",
       "            <th>name_txt</th>\n",
       "            <th>tax_id</th>\n",
       "            <th>parent</th>\n",
       "            <th>rank</th>\n",
       "        </tr>\n",
       "    </thead>\n",
       "    <tbody>\n",
       "        <tr>\n",
       "            <td>Animalia</td>\n",
       "            <td>33208</td>\n",
       "            <td>33154</td>\n",
       "            <td>kingdom</td>\n",
       "        </tr>\n",
       "    </tbody>\n",
       "</table>"
      ],
      "text/plain": [
       "+----------+--------+--------+---------+\n",
       "| name_txt | tax_id | parent |   rank  |\n",
       "+----------+--------+--------+---------+\n",
       "| Animalia | 33208  | 33154  | kingdom |\n",
       "+----------+--------+--------+---------+"
      ]
     },
     "execution_count": 5,
     "metadata": {},
     "output_type": "execute_result"
    }
   ],
   "source": [
    "%%sql\n",
    "SELECT name_txt, nodes.*\n",
    "FROM nodes\n",
    "NATURAL JOIN names\n",
    "WHERE name_txt = 'Animalia';"
   ]
  },
  {
   "cell_type": "markdown",
   "id": "fbde7cdc-13a0-4d6c-acab-7fe35db8c6dd",
   "metadata": {},
   "source": [
    "### Question 2\n",
    "Let us drill down into the _Animalia_ kingdom. First, find all children nodes of the Animalia kingdom\n",
    "(ID 33208). Your query should return the `tax_id` and `rank` of each child node. Hint: use self-join."
   ]
  },
  {
   "cell_type": "code",
   "execution_count": 6,
   "id": "45e53745-fc8b-4c08-84ce-c84e88d14717",
   "metadata": {},
   "outputs": [
    {
     "data": {
      "text/html": [
       "<span style=\"None\">Running query in &#x27;postgresql://127.0.0.1:5432/disc07&#x27;</span>"
      ],
      "text/plain": [
       "Running query in 'postgresql://127.0.0.1:5432/disc07'"
      ]
     },
     "metadata": {},
     "output_type": "display_data"
    },
    {
     "data": {
      "text/html": [
       "<span style=\"color: green\">2 rows affected.</span>"
      ],
      "text/plain": [
       "2 rows affected."
      ]
     },
     "metadata": {},
     "output_type": "display_data"
    },
    {
     "data": {
      "text/html": [
       "<table>\n",
       "    <thead>\n",
       "        <tr>\n",
       "            <th>tax_id</th>\n",
       "            <th>rank</th>\n",
       "        </tr>\n",
       "    </thead>\n",
       "    <tbody>\n",
       "        <tr>\n",
       "            <td>6040</td>\n",
       "            <td>phylum</td>\n",
       "        </tr>\n",
       "        <tr>\n",
       "            <td>6072</td>\n",
       "            <td>clade</td>\n",
       "        </tr>\n",
       "    </tbody>\n",
       "</table>"
      ],
      "text/plain": [
       "+--------+--------+\n",
       "| tax_id |  rank  |\n",
       "+--------+--------+\n",
       "|  6040  | phylum |\n",
       "|  6072  | clade  |\n",
       "+--------+--------+"
      ]
     },
     "execution_count": 6,
     "metadata": {},
     "output_type": "execute_result"
    }
   ],
   "source": [
    "%%sql\n",
    "SELECT tax_id, rank\n",
    "FROM nodes\n",
    "WHERE\n",
    "    parent = 33208;"
   ]
  },
  {
   "cell_type": "code",
   "execution_count": 6,
   "id": "7d9b7ade-4a9c-416b-84b0-c6b61f1ac239",
   "metadata": {},
   "outputs": [
    {
     "data": {
      "text/html": [
       "<span style=\"None\">Running query in &#x27;postgresql://127.0.0.1:5432/disc07&#x27;</span>"
      ],
      "text/plain": [
       "Running query in 'postgresql://127.0.0.1:5432/disc07'"
      ]
     },
     "metadata": {},
     "output_type": "display_data"
    },
    {
     "data": {
      "text/html": [
       "<span style=\"color: green\">2 rows affected.</span>"
      ],
      "text/plain": [
       "2 rows affected."
      ]
     },
     "metadata": {},
     "output_type": "display_data"
    },
    {
     "data": {
      "text/html": [
       "<table>\n",
       "    <thead>\n",
       "        <tr>\n",
       "            <th>tax_id</th>\n",
       "            <th>rank</th>\n",
       "        </tr>\n",
       "    </thead>\n",
       "    <tbody>\n",
       "        <tr>\n",
       "            <td>6040</td>\n",
       "            <td>phylum</td>\n",
       "        </tr>\n",
       "        <tr>\n",
       "            <td>6072</td>\n",
       "            <td>clade</td>\n",
       "        </tr>\n",
       "    </tbody>\n",
       "</table>"
      ],
      "text/plain": [
       "+--------+--------+\n",
       "| tax_id |  rank  |\n",
       "+--------+--------+\n",
       "|  6040  | phylum |\n",
       "|  6072  | clade  |\n",
       "+--------+--------+"
      ]
     },
     "execution_count": 6,
     "metadata": {},
     "output_type": "execute_result"
    }
   ],
   "source": [
    "%%sql\n",
    "SELECT\n",
    "FROM nodes AS child, nodes AS parent    -- get all pairs of nodes\n",
    "WHERE\n",
    "    child.parent = parent.tax_id AND    -- only want pairs of nodes that represent a parent / child relationship\n",
    "    child.parent = 33208;             -- only want child nodes of Animalia kingdom\n",
    "-- alternatively: parent.tax_id = 33208"
   ]
  },
  {
   "cell_type": "markdown",
   "id": "78bfd4f7-1ea0-46fa-8a4b-eb459f8bf614",
   "metadata": {},
   "source": [
    "### Question 3\n",
    "Next, find the names of these children nodes of the Animalia kingdom, along with the names of their parents. Your query should\n",
    "return the `tax_id`, `rank`, and `name_txt` of each child and parent node."
   ]
  },
  {
   "cell_type": "code",
   "execution_count": 7,
   "id": "920dd493-208d-4f4b-9bb4-1c4e4b77815e",
   "metadata": {},
   "outputs": [
    {
     "data": {
      "text/html": [
       "<span style=\"None\">Running query in &#x27;postgresql://127.0.0.1:5432/disc07&#x27;</span>"
      ],
      "text/plain": [
       "Running query in 'postgresql://127.0.0.1:5432/disc07'"
      ]
     },
     "metadata": {},
     "output_type": "display_data"
    },
    {
     "data": {
      "text/html": [
       "<span style=\"color: green\">10 rows affected.</span>"
      ],
      "text/plain": [
       "10 rows affected."
      ]
     },
     "metadata": {},
     "output_type": "display_data"
    },
    {
     "data": {
      "text/html": [
       "<table>\n",
       "    <thead>\n",
       "        <tr>\n",
       "            <th>pid</th>\n",
       "            <th>prank</th>\n",
       "            <th>ptext</th>\n",
       "            <th>cid</th>\n",
       "            <th>crank</th>\n",
       "            <th>ctext</th>\n",
       "        </tr>\n",
       "    </thead>\n",
       "    <tbody>\n",
       "        <tr>\n",
       "            <td>33208</td>\n",
       "            <td>kingdom</td>\n",
       "            <td>Animalia</td>\n",
       "            <td>6040</td>\n",
       "            <td>phylum</td>\n",
       "            <td>Parazoa</td>\n",
       "        </tr>\n",
       "        <tr>\n",
       "            <td>33208</td>\n",
       "            <td>kingdom</td>\n",
       "            <td>animals</td>\n",
       "            <td>6040</td>\n",
       "            <td>phylum</td>\n",
       "            <td>Parazoa</td>\n",
       "        </tr>\n",
       "        <tr>\n",
       "            <td>33208</td>\n",
       "            <td>kingdom</td>\n",
       "            <td>metazoans</td>\n",
       "            <td>6040</td>\n",
       "            <td>phylum</td>\n",
       "            <td>Parazoa</td>\n",
       "        </tr>\n",
       "        <tr>\n",
       "            <td>33208</td>\n",
       "            <td>kingdom</td>\n",
       "            <td>Metazoa</td>\n",
       "            <td>6040</td>\n",
       "            <td>phylum</td>\n",
       "            <td>Parazoa</td>\n",
       "        </tr>\n",
       "        <tr>\n",
       "            <td>33208</td>\n",
       "            <td>kingdom</td>\n",
       "            <td>multicellular animals</td>\n",
       "            <td>6040</td>\n",
       "            <td>phylum</td>\n",
       "            <td>Parazoa</td>\n",
       "        </tr>\n",
       "        <tr>\n",
       "            <td>33208</td>\n",
       "            <td>kingdom</td>\n",
       "            <td>Animalia</td>\n",
       "            <td>6040</td>\n",
       "            <td>phylum</td>\n",
       "            <td>Porifera</td>\n",
       "        </tr>\n",
       "        <tr>\n",
       "            <td>33208</td>\n",
       "            <td>kingdom</td>\n",
       "            <td>animals</td>\n",
       "            <td>6040</td>\n",
       "            <td>phylum</td>\n",
       "            <td>Porifera</td>\n",
       "        </tr>\n",
       "        <tr>\n",
       "            <td>33208</td>\n",
       "            <td>kingdom</td>\n",
       "            <td>metazoans</td>\n",
       "            <td>6040</td>\n",
       "            <td>phylum</td>\n",
       "            <td>Porifera</td>\n",
       "        </tr>\n",
       "        <tr>\n",
       "            <td>33208</td>\n",
       "            <td>kingdom</td>\n",
       "            <td>Metazoa</td>\n",
       "            <td>6040</td>\n",
       "            <td>phylum</td>\n",
       "            <td>Porifera</td>\n",
       "        </tr>\n",
       "        <tr>\n",
       "            <td>33208</td>\n",
       "            <td>kingdom</td>\n",
       "            <td>multicellular animals</td>\n",
       "            <td>6040</td>\n",
       "            <td>phylum</td>\n",
       "            <td>Porifera</td>\n",
       "        </tr>\n",
       "    </tbody>\n",
       "</table>\n",
       "<span style=\"font-style:italic;text-align:center;\">Truncated to <a href=\"https://jupysql.ploomber.io/en/latest/api/configuration.html#displaylimit\">displaylimit</a> of 10.</span>"
      ],
      "text/plain": [
       "+-------+---------+-----------------------+------+--------+----------+\n",
       "|  pid  |  prank  |         ptext         | cid  | crank  |  ctext   |\n",
       "+-------+---------+-----------------------+------+--------+----------+\n",
       "| 33208 | kingdom |        Animalia       | 6040 | phylum | Parazoa  |\n",
       "| 33208 | kingdom |        animals        | 6040 | phylum | Parazoa  |\n",
       "| 33208 | kingdom |       metazoans       | 6040 | phylum | Parazoa  |\n",
       "| 33208 | kingdom |        Metazoa        | 6040 | phylum | Parazoa  |\n",
       "| 33208 | kingdom | multicellular animals | 6040 | phylum | Parazoa  |\n",
       "| 33208 | kingdom |        Animalia       | 6040 | phylum | Porifera |\n",
       "| 33208 | kingdom |        animals        | 6040 | phylum | Porifera |\n",
       "| 33208 | kingdom |       metazoans       | 6040 | phylum | Porifera |\n",
       "| 33208 | kingdom |        Metazoa        | 6040 | phylum | Porifera |\n",
       "| 33208 | kingdom | multicellular animals | 6040 | phylum | Porifera |\n",
       "+-------+---------+-----------------------+------+--------+----------+\n",
       "Truncated to displaylimit of 10."
      ]
     },
     "execution_count": 7,
     "metadata": {},
     "output_type": "execute_result"
    }
   ],
   "source": [
    "%%sql\n",
    "-- CTE: get parent tax_id, parent rank, child tax_id, child rank\n",
    "WITH edges AS (\n",
    "    SELECT parent.tax_id AS pid, parent.rank AS prank, child.tax_id AS cid, child.rank AS crank\n",
    "    FROM nodes AS parent, nodes AS child\n",
    "    WHERE child.parent = parent.tax_id\n",
    ")\n",
    "\n",
    "-- use CTE to get the name information for the specific kingdom that we want id: 33208\n",
    "SELECT pid, prank, parent.name_txt AS ptext, cid, crank, child.name_txt AS ctext\n",
    "FROM names AS parent, names AS child, edges\n",
    "WHERE edges.pid = parent.tax_id        -- parent ids match in parent and edges\n",
    "    AND edges.cid = child.tax_id       -- child ids match in child and edges\n",
    "    AND parent.tax_id = 33208  -- only want children in animalia\n",
    "LIMIT 10; -- not necessary but just to limit the number of rows"
   ]
  },
  {
   "cell_type": "markdown",
   "id": "30025ef1-babc-4acd-a47c-98c50380c0e6",
   "metadata": {},
   "source": [
    "### Question 4\n",
    "In the biological taxonomy data, it is common for the same phylum to have multiple synonym names,\n",
    "all sharing the same tax id. Write a SQL query to return the parent node (Animalia) and its direct\n",
    "child nodes (phyla). For each phylum (child node), aggregate all its synonym names into a single JSON\n",
    "array."
   ]
  },
  {
   "cell_type": "code",
   "execution_count": 17,
   "id": "8baded99-6344-402c-9e78-06def9a84dea",
   "metadata": {},
   "outputs": [
    {
     "data": {
      "text/html": [
       "<span style=\"None\">Running query in &#x27;postgresql://127.0.0.1:5432/disc07&#x27;</span>"
      ],
      "text/plain": [
       "Running query in 'postgresql://127.0.0.1:5432/disc07'"
      ]
     },
     "metadata": {},
     "output_type": "display_data"
    },
    {
     "data": {
      "text/html": [
       "<span style=\"color: green\">2 rows affected.</span>"
      ],
      "text/plain": [
       "2 rows affected."
      ]
     },
     "metadata": {},
     "output_type": "display_data"
    },
    {
     "data": {
      "text/html": [
       "<table>\n",
       "    <thead>\n",
       "        <tr>\n",
       "            <th>pid</th>\n",
       "            <th>prank</th>\n",
       "            <th>json_agg</th>\n",
       "            <th>cid</th>\n",
       "            <th>crank</th>\n",
       "            <th>json_agg_1</th>\n",
       "        </tr>\n",
       "    </thead>\n",
       "    <tbody>\n",
       "        <tr>\n",
       "            <td>33208</td>\n",
       "            <td>kingdom</td>\n",
       "            <td>['Animalia', 'animals', 'metazoans', 'Metazoa', 'multicellular animals', 'Animalia', 'animals', 'metazoans', 'Metazoa', 'multicellular animals', 'Animalia', 'animals', 'metazoans', 'Metazoa', 'multicellular animals', 'Animalia', 'animals', 'metazoans', 'Metazoa', 'multicellular animals']</td>\n",
       "            <td>6040</td>\n",
       "            <td>phylum</td>\n",
       "            <td>['Parazoa', 'Parazoa', 'Parazoa', 'Parazoa', 'Parazoa', 'Porifera', 'Porifera', 'Porifera', 'Porifera', 'Porifera', 'sponges', 'sponges', 'sponges', 'sponges', 'sponges', 'sponges', 'sponges', 'sponges', 'sponges', 'sponges']</td>\n",
       "        </tr>\n",
       "        <tr>\n",
       "            <td>33208</td>\n",
       "            <td>kingdom</td>\n",
       "            <td>['Animalia', 'animals', 'metazoans', 'Metazoa', 'multicellular animals']</td>\n",
       "            <td>6072</td>\n",
       "            <td>clade</td>\n",
       "            <td>['Eumetazoa', 'Eumetazoa', 'Eumetazoa', 'Eumetazoa', 'Eumetazoa']</td>\n",
       "        </tr>\n",
       "    </tbody>\n",
       "</table>"
      ],
      "text/plain": [
       "+-------+---------+--------------------------------------------------------------------------------------------------------------------------------------------------------------------------------------------------------------------------------------------------------------------------------------------------+------+--------+-----------------------------------------------------------------------------------------------------------------------------------------------------------------------------------------------------------------------------------+\n",
       "|  pid  |  prank  |                                                                                                                                             json_agg                                                                                                                                             | cid  | crank  |                                                                                                             json_agg_1                                                                                                            |\n",
       "+-------+---------+--------------------------------------------------------------------------------------------------------------------------------------------------------------------------------------------------------------------------------------------------------------------------------------------------+------+--------+-----------------------------------------------------------------------------------------------------------------------------------------------------------------------------------------------------------------------------------+\n",
       "| 33208 | kingdom | ['Animalia', 'animals', 'metazoans', 'Metazoa', 'multicellular animals', 'Animalia', 'animals', 'metazoans', 'Metazoa', 'multicellular animals', 'Animalia', 'animals', 'metazoans', 'Metazoa', 'multicellular animals', 'Animalia', 'animals', 'metazoans', 'Metazoa', 'multicellular animals'] | 6040 | phylum | ['Parazoa', 'Parazoa', 'Parazoa', 'Parazoa', 'Parazoa', 'Porifera', 'Porifera', 'Porifera', 'Porifera', 'Porifera', 'sponges', 'sponges', 'sponges', 'sponges', 'sponges', 'sponges', 'sponges', 'sponges', 'sponges', 'sponges'] |\n",
       "| 33208 | kingdom |                                                                                                             ['Animalia', 'animals', 'metazoans', 'Metazoa', 'multicellular animals']                                                                                                             | 6072 | clade  |                                                                                 ['Eumetazoa', 'Eumetazoa', 'Eumetazoa', 'Eumetazoa', 'Eumetazoa']                                                                                 |\n",
       "+-------+---------+--------------------------------------------------------------------------------------------------------------------------------------------------------------------------------------------------------------------------------------------------------------------------------------------------+------+--------+-----------------------------------------------------------------------------------------------------------------------------------------------------------------------------------------------------------------------------------+"
      ]
     },
     "execution_count": 17,
     "metadata": {},
     "output_type": "execute_result"
    }
   ],
   "source": [
    "%%sql\n",
    "-- same edges CTE as Q3\n",
    "\n",
    "\n",
    "-- same as Q3 except use json_agg and group rows together\n"
   ]
  },
  {
   "cell_type": "markdown",
   "id": "2860ff6f-e51c-4df8-9768-b8c5696c7238",
   "metadata": {},
   "source": [
    "### **Challenge:** Question 5  \n",
    "How can we drill down one more layer? What if we want to get the names of all the classes under the Animalia kingdom?"
   ]
  },
  {
   "cell_type": "code",
   "execution_count": null,
   "id": "f57d6536-f6fa-4a15-8337-856f5930e71f",
   "metadata": {},
   "outputs": [],
   "source": [
    "%%sql\n",
    "-- your code here\n"
   ]
  },
  {
   "cell_type": "markdown",
   "id": "905f3536-c5a0-48d6-85c1-e097809e86ee",
   "metadata": {},
   "source": [
    "# Section II: Recursive Queries"
   ]
  },
  {
   "cell_type": "markdown",
   "id": "65e69b85-949c-478f-b9b3-1495e1a6bfa4",
   "metadata": {},
   "source": [
    "The Fibonacci sequence is a famous series of numbers where each number is the sum of the two preceding ones. The sequence appears as follows:\n",
    "\n",
    "$$0, 1, 1, 2, 3, 5, 8, 13, 21, 34, 55, 89, 144, ...$$\n",
    "\n",
    "Mathematically, the n-th Fibonacci number is defined by:\n",
    "$$F_n = F_{n-1} + F_{n-2}$$\n",
    "\n",
    "With base cases:\n",
    "\n",
    "$$F_1 = 0$$\n",
    "$$F_2 = 1$$"
   ]
  },
  {
   "cell_type": "code",
   "execution_count": 8,
   "id": "7194c5ff-d418-4475-9a8f-f43a7a89d34d",
   "metadata": {},
   "outputs": [
    {
     "data": {
      "text/html": [
       "<div>\n",
       "<style scoped>\n",
       "    .dataframe tbody tr th:only-of-type {\n",
       "        vertical-align: middle;\n",
       "    }\n",
       "\n",
       "    .dataframe tbody tr th {\n",
       "        vertical-align: top;\n",
       "    }\n",
       "\n",
       "    .dataframe thead th {\n",
       "        text-align: right;\n",
       "    }\n",
       "</style>\n",
       "<table border=\"1\" class=\"dataframe\">\n",
       "  <thead>\n",
       "    <tr style=\"text-align: right;\">\n",
       "      <th></th>\n",
       "      <th>n</th>\n",
       "      <th>Fibonacci Number</th>\n",
       "    </tr>\n",
       "  </thead>\n",
       "  <tbody>\n",
       "    <tr>\n",
       "      <th>0</th>\n",
       "      <td>1</td>\n",
       "      <td>0</td>\n",
       "    </tr>\n",
       "    <tr>\n",
       "      <th>1</th>\n",
       "      <td>2</td>\n",
       "      <td>1</td>\n",
       "    </tr>\n",
       "    <tr>\n",
       "      <th>2</th>\n",
       "      <td>3</td>\n",
       "      <td>1</td>\n",
       "    </tr>\n",
       "    <tr>\n",
       "      <th>3</th>\n",
       "      <td>4</td>\n",
       "      <td>2</td>\n",
       "    </tr>\n",
       "    <tr>\n",
       "      <th>4</th>\n",
       "      <td>5</td>\n",
       "      <td>3</td>\n",
       "    </tr>\n",
       "    <tr>\n",
       "      <th>5</th>\n",
       "      <td>6</td>\n",
       "      <td>5</td>\n",
       "    </tr>\n",
       "    <tr>\n",
       "      <th>6</th>\n",
       "      <td>7</td>\n",
       "      <td>8</td>\n",
       "    </tr>\n",
       "  </tbody>\n",
       "</table>\n",
       "</div>"
      ],
      "text/plain": [
       "   n  Fibonacci Number\n",
       "0  1                 0\n",
       "1  2                 1\n",
       "2  3                 1\n",
       "3  4                 2\n",
       "4  5                 3\n",
       "5  6                 5\n",
       "6  7                 8"
      ]
     },
     "execution_count": 8,
     "metadata": {},
     "output_type": "execute_result"
    }
   ],
   "source": [
    "import pandas as pd\n",
    "\n",
    "# Data\n",
    "fib_data = {\n",
    "    \"n\": [1, 2, 3, 4, 5, 6, 7],\n",
    "    \"Fibonacci Number\": [0, 1, 1, 2, 3, 5, 8]\n",
    "}\n",
    "\n",
    "fib_df = pd.DataFrame(fib_data)\n",
    "\n",
    "fib_df\n"
   ]
  },
  {
   "cell_type": "markdown",
   "id": "838d54e1-ca48-48eb-a943-905c80f9e717",
   "metadata": {},
   "source": [
    "### Question 6\n",
    "Write a recursive SQL query to compute the 10th Fibonacci number using the `WITH RECURSIVE` statement."
   ]
  },
  {
   "cell_type": "code",
   "execution_count": 9,
   "id": "d7cdaa26-c46b-4f13-ab51-afc02cd14884",
   "metadata": {},
   "outputs": [
    {
     "data": {
      "text/html": [
       "<span style=\"None\">Running query in &#x27;postgresql://127.0.0.1:5432/disc07&#x27;</span>"
      ],
      "text/plain": [
       "Running query in 'postgresql://127.0.0.1:5432/disc07'"
      ]
     },
     "metadata": {},
     "output_type": "display_data"
    },
    {
     "data": {
      "text/html": [
       "<span style=\"color: green\">10 rows affected.</span>"
      ],
      "text/plain": [
       "10 rows affected."
      ]
     },
     "metadata": {},
     "output_type": "display_data"
    },
    {
     "data": {
      "text/html": [
       "<table>\n",
       "    <thead>\n",
       "        <tr>\n",
       "            <th>n</th>\n",
       "            <th>fibonacci_num</th>\n",
       "        </tr>\n",
       "    </thead>\n",
       "    <tbody>\n",
       "        <tr>\n",
       "            <td>1</td>\n",
       "            <td>0</td>\n",
       "        </tr>\n",
       "        <tr>\n",
       "            <td>2</td>\n",
       "            <td>1</td>\n",
       "        </tr>\n",
       "        <tr>\n",
       "            <td>3</td>\n",
       "            <td>1</td>\n",
       "        </tr>\n",
       "        <tr>\n",
       "            <td>4</td>\n",
       "            <td>2</td>\n",
       "        </tr>\n",
       "        <tr>\n",
       "            <td>5</td>\n",
       "            <td>3</td>\n",
       "        </tr>\n",
       "        <tr>\n",
       "            <td>6</td>\n",
       "            <td>5</td>\n",
       "        </tr>\n",
       "        <tr>\n",
       "            <td>7</td>\n",
       "            <td>8</td>\n",
       "        </tr>\n",
       "        <tr>\n",
       "            <td>8</td>\n",
       "            <td>13</td>\n",
       "        </tr>\n",
       "        <tr>\n",
       "            <td>9</td>\n",
       "            <td>21</td>\n",
       "        </tr>\n",
       "        <tr>\n",
       "            <td>10</td>\n",
       "            <td>34</td>\n",
       "        </tr>\n",
       "    </tbody>\n",
       "</table>\n",
       "<span style=\"font-style:italic;text-align:center;\">Truncated to <a href=\"https://jupysql.ploomber.io/en/latest/api/configuration.html#displaylimit\">displaylimit</a> of 10.</span>"
      ],
      "text/plain": [
       "+----+---------------+\n",
       "| n  | fibonacci_num |\n",
       "+----+---------------+\n",
       "| 1  |       0       |\n",
       "| 2  |       1       |\n",
       "| 3  |       1       |\n",
       "| 4  |       2       |\n",
       "| 5  |       3       |\n",
       "| 6  |       5       |\n",
       "| 7  |       8       |\n",
       "| 8  |       13      |\n",
       "| 9  |       21      |\n",
       "| 10 |       34      |\n",
       "+----+---------------+\n",
       "Truncated to displaylimit of 10."
      ]
     },
     "execution_count": 9,
     "metadata": {},
     "output_type": "execute_result"
    }
   ],
   "source": [
    "%%sql\n",
    "WITH RECURSIVE fibonacci_cte(n, fibonacci_num, next_num) AS (\n",
    "    SELECT 1, 0, 1     -- base case\n",
    "    UNION ALL\n",
    "    SELECT n + 1, next_num, fibonacci_num + next_num     -- recursive case\n",
    "        FROM fibonacci_cte\n",
    "        WHERE n < 10           -- when do we stop?\n",
    ")\n",
    "\n",
    "SELECT n, fibonacci_num\n",
    "FROM fibonacci_cte;"
   ]
  },
  {
   "cell_type": "markdown",
   "id": "d98bc817-7bc4-426f-a0b5-c2c76f28ddfb",
   "metadata": {},
   "source": [
    "# Section III: Window Functions"
   ]
  },
  {
   "cell_type": "markdown",
   "id": "d4e526c8-6b4e-468d-8af2-5b210ca71924",
   "metadata": {},
   "source": [
    "## Load in the IMDB Performance database\n",
    "\n",
    "This is a variation of the IMDB database with keys defined. Note that this is a pretty big database! So if you run the below lines, please also remember to delete the `imdb_perf_lecture` afterwards to save space on your limited postgreSQL server."
   ]
  },
  {
   "cell_type": "code",
   "execution_count": 8,
   "id": "1d557182-b8dd-4d4c-866c-da1df0e07c42",
   "metadata": {},
   "outputs": [
    {
     "name": "stdout",
     "output_type": "stream",
     "text": [
      "Archive:  data/imdbdb.zip\n"
     ]
    }
   ],
   "source": [
    "!ln -sf ../../proj/proj1/data .\n",
    "!unzip -u data/imdbdb.zip -d data/"
   ]
  },
  {
   "cell_type": "code",
   "execution_count": 9,
   "id": "b31e79cd-9bee-479c-a3f2-aff28ccce961",
   "metadata": {},
   "outputs": [
    {
     "name": "stdout",
     "output_type": "stream",
     "text": [
      " pg_terminate_backend \n",
      "----------------------\n",
      "(0 rows)\n",
      "\n",
      "DROP DATABASE\n",
      "CREATE DATABASE\n",
      " set_config \n",
      "------------\n",
      " \n",
      "(1 row)\n",
      "\n"
     ]
    }
   ],
   "source": [
    "!psql postgresql://jovyan@127.0.0.1:5432/imdb -c 'SELECT pg_terminate_backend(pg_stat_activity.pid) FROM pg_stat_activity WHERE datname = current_database()  AND pid <> pg_backend_pid();'\n",
    "!psql postgresql://jovyan@127.0.0.1:5432/postgres -c 'DROP DATABASE IF EXISTS imdb'\n",
    "!psql postgresql://jovyan@127.0.0.1:5432/postgres -c 'CREATE DATABASE imdb'\n",
    "!psql postgresql://jovyan@127.0.0.1:5432/imdb -f data/imdbdb.sql -q"
   ]
  },
  {
   "cell_type": "code",
   "execution_count": 10,
   "id": "9a69083d-a369-4ab6-8720-ccf085147225",
   "metadata": {},
   "outputs": [
    {
     "data": {
      "text/html": [
       "<span style=\"None\">Connecting and switching to connection postgresql://jovyan@127.0.0.1:5432/imdb</span>"
      ],
      "text/plain": [
       "Connecting and switching to connection postgresql://jovyan@127.0.0.1:5432/imdb"
      ]
     },
     "metadata": {},
     "output_type": "display_data"
    }
   ],
   "source": [
    "%sql postgresql://jovyan@127.0.0.1:5432/imdb"
   ]
  },
  {
   "cell_type": "markdown",
   "id": "418b11cf-1600-4cea-99d2-903489ab1468",
   "metadata": {},
   "source": [
    "### Question 7\n",
    "In Project 1, we worked with a movie sample table to explore gross earnings for each movie and stored the results in a view called `movie_gross`. (P.S. We added a `production_year` column here for the subsequent questions)"
   ]
  },
  {
   "cell_type": "code",
   "execution_count": 11,
   "id": "cc0e037e-bfd5-457f-b7c6-d22bc977a18b",
   "metadata": {},
   "outputs": [
    {
     "data": {
      "text/html": [
       "<span style=\"None\">Running query in &#x27;postgresql://jovyan@127.0.0.1:5432/imdb&#x27;</span>"
      ],
      "text/plain": [
       "Running query in 'postgresql://jovyan@127.0.0.1:5432/imdb'"
      ]
     },
     "metadata": {},
     "output_type": "display_data"
    },
    {
     "data": {
      "text/html": [
       "<span style=\"color: green\">5 rows affected.</span>"
      ],
      "text/plain": [
       "5 rows affected."
      ]
     },
     "metadata": {},
     "output_type": "display_data"
    },
    {
     "data": {
      "text/html": [
       "<table>\n",
       "    <thead>\n",
       "        <tr>\n",
       "            <th>gross</th>\n",
       "            <th>movie_id</th>\n",
       "            <th>title</th>\n",
       "            <th>production_year</th>\n",
       "        </tr>\n",
       "    </thead>\n",
       "    <tbody>\n",
       "        <tr>\n",
       "            <td>760507625.0</td>\n",
       "            <td>1704289</td>\n",
       "            <td>Avatar</td>\n",
       "            <td>2009</td>\n",
       "        </tr>\n",
       "        <tr>\n",
       "            <td>658672302.0</td>\n",
       "            <td>2438179</td>\n",
       "            <td>Titanic</td>\n",
       "            <td>1997</td>\n",
       "        </tr>\n",
       "        <tr>\n",
       "            <td>623357910.0</td>\n",
       "            <td>2346436</td>\n",
       "            <td>The Avengers</td>\n",
       "            <td>2012</td>\n",
       "        </tr>\n",
       "        <tr>\n",
       "            <td>534858444.0</td>\n",
       "            <td>2360583</td>\n",
       "            <td>The Dark Knight</td>\n",
       "            <td>2008</td>\n",
       "        </tr>\n",
       "        <tr>\n",
       "            <td>460935665.0</td>\n",
       "            <td>2310522</td>\n",
       "            <td>Star Wars</td>\n",
       "            <td>1977</td>\n",
       "        </tr>\n",
       "    </tbody>\n",
       "</table>"
      ],
      "text/plain": [
       "+-------------+----------+-----------------+-----------------+\n",
       "|    gross    | movie_id |      title      | production_year |\n",
       "+-------------+----------+-----------------+-----------------+\n",
       "| 760507625.0 | 1704289  |      Avatar     |       2009      |\n",
       "| 658672302.0 | 2438179  |     Titanic     |       1997      |\n",
       "| 623357910.0 | 2346436  |   The Avengers  |       2012      |\n",
       "| 534858444.0 | 2360583  | The Dark Knight |       2008      |\n",
       "| 460935665.0 | 2310522  |    Star Wars    |       1977      |\n",
       "+-------------+----------+-----------------+-----------------+"
      ]
     },
     "execution_count": 11,
     "metadata": {},
     "output_type": "execute_result"
    }
   ],
   "source": [
    "%%sql\n",
    "-- How we created movie_gross in Project 1, Question 3a --\n",
    "DROP VIEW IF EXISTS movie_gross CASCADE;\n",
    "CREATE VIEW movie_gross AS\n",
    "\n",
    "WITH cleaned as (\n",
    "    SELECT\n",
    "        CAST(REGEXP_REPLACE(SUBSTRING(info, '[0-9,]+'), ',', '', 'g') AS float) AS gross,\n",
    "        movie_id,\n",
    "        title,\n",
    "        production_year\n",
    "    FROM\n",
    "        movie_info_sample,\n",
    "        movie_sample\n",
    "    WHERE\n",
    "        movie_id = movie_sample.id AND\n",
    "        info_type_id = 107 AND\n",
    "        info LIKE '%(USA)%' and info LIKE '$%'\n",
    ")\n",
    "\n",
    "SELECT\n",
    "    max(gross) AS gross,\n",
    "    movie_id,\n",
    "    title,\n",
    "    production_year\n",
    "FROM\n",
    "    cleaned\n",
    "GROUP BY\n",
    "    movie_id,\n",
    "    title,\n",
    "    production_year\n",
    "ORDER BY gross DESC;\n",
    "\n",
    "SELECT * FROM movie_gross\n",
    "LIMIT 5"
   ]
  },
  {
   "cell_type": "markdown",
   "id": "ef2bdc88-890e-4f25-bd59-a1153f8ca496",
   "metadata": {},
   "source": [
    "\n",
    "Write a SQL query to retrieve the top three movies with the highest gross income in the `Action` genre for each year, starting from the year 2000. The result table should include the following columns:\n",
    "`movie_id`, `title`, `genre`, `production_year`, `rank`, and sorted by `production_year` in ascending order.\n",
    "Hint: check out the window function `RANK()`."
   ]
  },
  {
   "cell_type": "code",
   "execution_count": 12,
   "id": "e5f2aac1-6c99-47e5-a84e-a66751940023",
   "metadata": {},
   "outputs": [
    {
     "data": {
      "text/html": [
       "<span style=\"None\">Running query in &#x27;postgresql://jovyan@127.0.0.1:5432/imdb&#x27;</span>"
      ],
      "text/plain": [
       "Running query in 'postgresql://jovyan@127.0.0.1:5432/imdb'"
      ]
     },
     "metadata": {},
     "output_type": "display_data"
    },
    {
     "data": {
      "text/html": [
       "<span style=\"color: green\">10 rows affected.</span>"
      ],
      "text/plain": [
       "10 rows affected."
      ]
     },
     "metadata": {},
     "output_type": "display_data"
    },
    {
     "data": {
      "text/html": [
       "<table>\n",
       "    <thead>\n",
       "        <tr>\n",
       "            <th>movie_id</th>\n",
       "            <th>title</th>\n",
       "            <th>genre</th>\n",
       "            <th>production_year</th>\n",
       "            <th>gross</th>\n",
       "            <th>rank</th>\n",
       "        </tr>\n",
       "    </thead>\n",
       "    <tbody>\n",
       "        <tr>\n",
       "            <td>2122831</td>\n",
       "            <td>Mission: Impossible II</td>\n",
       "            <td>Action</td>\n",
       "            <td>2000</td>\n",
       "            <td>215409889.0</td>\n",
       "            <td>1</td>\n",
       "        </tr>\n",
       "        <tr>\n",
       "            <td>1919906</td>\n",
       "            <td>Gladiator</td>\n",
       "            <td>Action</td>\n",
       "            <td>2000</td>\n",
       "            <td>187705427.0</td>\n",
       "            <td>2</td>\n",
       "        </tr>\n",
       "        <tr>\n",
       "            <td>2401481</td>\n",
       "            <td>The Perfect Storm</td>\n",
       "            <td>Action</td>\n",
       "            <td>2000</td>\n",
       "            <td>182618434.0</td>\n",
       "            <td>3</td>\n",
       "        </tr>\n",
       "        <tr>\n",
       "            <td>2388426</td>\n",
       "            <td>The Lord of the Rings: The Fellowship of the Ring</td>\n",
       "            <td>Action</td>\n",
       "            <td>2001</td>\n",
       "            <td>315544750.0</td>\n",
       "            <td>1</td>\n",
       "        </tr>\n",
       "        <tr>\n",
       "            <td>2254158</td>\n",
       "            <td>Rush Hour 2</td>\n",
       "            <td>Action</td>\n",
       "            <td>2001</td>\n",
       "            <td>226164286.0</td>\n",
       "            <td>2</td>\n",
       "        </tr>\n",
       "        <tr>\n",
       "            <td>2395681</td>\n",
       "            <td>The Mummy Returns</td>\n",
       "            <td>Action</td>\n",
       "            <td>2001</td>\n",
       "            <td>202007640.0</td>\n",
       "            <td>3</td>\n",
       "        </tr>\n",
       "        <tr>\n",
       "            <td>2305988</td>\n",
       "            <td>Spider-Man</td>\n",
       "            <td>Action</td>\n",
       "            <td>2002</td>\n",
       "            <td>403706375.0</td>\n",
       "            <td>1</td>\n",
       "        </tr>\n",
       "        <tr>\n",
       "            <td>2388432</td>\n",
       "            <td>The Lord of the Rings: The Two Towers</td>\n",
       "            <td>Action</td>\n",
       "            <td>2002</td>\n",
       "            <td>342551365.0</td>\n",
       "            <td>2</td>\n",
       "        </tr>\n",
       "        <tr>\n",
       "            <td>2310575</td>\n",
       "            <td>Star Wars: Episode II - Attack of the Clones</td>\n",
       "            <td>Action</td>\n",
       "            <td>2002</td>\n",
       "            <td>310675583.0</td>\n",
       "            <td>3</td>\n",
       "        </tr>\n",
       "        <tr>\n",
       "            <td>2388429</td>\n",
       "            <td>The Lord of the Rings: The Return of the King</td>\n",
       "            <td>Action</td>\n",
       "            <td>2003</td>\n",
       "            <td>377845905.0</td>\n",
       "            <td>1</td>\n",
       "        </tr>\n",
       "    </tbody>\n",
       "</table>\n",
       "<span style=\"font-style:italic;text-align:center;\">Truncated to <a href=\"https://jupysql.ploomber.io/en/latest/api/configuration.html#displaylimit\">displaylimit</a> of 10.</span>"
      ],
      "text/plain": [
       "+----------+---------------------------------------------------+--------+-----------------+-------------+------+\n",
       "| movie_id |                       title                       | genre  | production_year |    gross    | rank |\n",
       "+----------+---------------------------------------------------+--------+-----------------+-------------+------+\n",
       "| 2122831  |               Mission: Impossible II              | Action |       2000      | 215409889.0 |  1   |\n",
       "| 1919906  |                     Gladiator                     | Action |       2000      | 187705427.0 |  2   |\n",
       "| 2401481  |                 The Perfect Storm                 | Action |       2000      | 182618434.0 |  3   |\n",
       "| 2388426  | The Lord of the Rings: The Fellowship of the Ring | Action |       2001      | 315544750.0 |  1   |\n",
       "| 2254158  |                    Rush Hour 2                    | Action |       2001      | 226164286.0 |  2   |\n",
       "| 2395681  |                 The Mummy Returns                 | Action |       2001      | 202007640.0 |  3   |\n",
       "| 2305988  |                     Spider-Man                    | Action |       2002      | 403706375.0 |  1   |\n",
       "| 2388432  |       The Lord of the Rings: The Two Towers       | Action |       2002      | 342551365.0 |  2   |\n",
       "| 2310575  |    Star Wars: Episode II - Attack of the Clones   | Action |       2002      | 310675583.0 |  3   |\n",
       "| 2388429  |   The Lord of the Rings: The Return of the King   | Action |       2003      | 377845905.0 |  1   |\n",
       "+----------+---------------------------------------------------+--------+-----------------+-------------+------+\n",
       "Truncated to displaylimit of 10."
      ]
     },
     "execution_count": 12,
     "metadata": {},
     "output_type": "execute_result"
    }
   ],
   "source": [
    "%%sql\n",
    "-- create a CTE here, which gets the genre(s) and gross of each movie --\n",
    "-- NOTE: movie_info_sample.info_type_id = 3 matches the genre of the movie\n",
    "--- movie_info_sample columns:\n",
    "--- movie_id | info_type_id | info\n",
    "--- 123      | 3            | Comedy \n",
    "WITH movie_genre AS (\n",
    "    SELECT\n",
    "    FROM\n",
    "    INNER JOIN movie_info_sample AS mis\n",
    "    ON\n",
    "    WHERE mis.info_type_id = ___\n",
    ")\n",
    "\n",
    "SELECT\n",
    "FROM (\n",
    "    SELECT\n",
    "        movie_id, title, genre, gross, production_year,\n",
    "        _____ OVER (PARTITION BY ______ ORDER BY ______) AS rank\n",
    "    FROM movie_genre\n",
    "    WHERE _______  -- only want action movies\n",
    "        AND _______ -- only want certain production years\n",
    ") AS ranked_movies\n",
    "WHERE rank _______ -- only want the top X movies by gross\n",
    "ORDER BY ______\n",
    "LIMIT 10; -- again not necessary but just to limit output"
   ]
  },
  {
   "cell_type": "markdown",
   "id": "4f943221-c8e4-48be-bbdd-b5df10be3087",
   "metadata": {},
   "source": [
    "### Question 8\n",
    "Expanding on discussion 6 Question 3, besdies finding the average gross for movies in each genre but also finding the total gross for each genre. <br/>\n",
    "\n",
    "Create a view called `movie_avg_total_genre` with the following columns: `movie_id`, `title`, `gross`, `genre`, `avg_gross`,`total_gross`.\n",
    "- `gross`: The gross earnings of the given movie\n",
    "- `avg_gross`: The average gross earnings of movies with the same genre as the given movie. If a movie belongs to multiple genres, it should appear in multiple rows, with each row corresponding\n",
    "to a different genre.\n",
    "- `total_gross`: The total gross earning of movies with the same genre as the given movie. <br/>\n",
    "\n",
    "Bonus: Instead of writing out two separate windows, is it possible to simplify?"
   ]
  },
  {
   "cell_type": "code",
   "execution_count": 30,
   "id": "ec66fdc3-97ed-4a8b-9657-e58647728985",
   "metadata": {},
   "outputs": [
    {
     "data": {
      "text/html": [
       "<span style=\"None\">Running query in &#x27;postgresql://jovyan@127.0.0.1:5432/imdb&#x27;</span>"
      ],
      "text/plain": [
       "Running query in 'postgresql://jovyan@127.0.0.1:5432/imdb'"
      ]
     },
     "metadata": {},
     "output_type": "display_data"
    },
    {
     "name": "stderr",
     "output_type": "stream",
     "text": [
      "RuntimeError: If using snippets, you may pass the --with argument explicitly.\n",
      "For more details please refer: https://jupysql.ploomber.io/en/latest/compose.html#with-argument\n",
      "\n",
      "\n",
      "Original error message from DB driver:\n",
      "(psycopg2.errors.SyntaxError) syntax error at or near \"..\"\n",
      "LINE 4: ...\n",
      "        ^\n",
      "\n",
      "[SQL: CREATE VIEW movie_avg_total_genre AS \n",
      "\n",
      "-- create a CTE here, which gets the genre(s) and gross of each movie --\n",
      "...\n",
      "\n",
      "-- for each movie, get its gross and average gross for its genre(s) --\n",
      "...\n",
      "\n",
      "SELECT * FROM movie_avg_total_genre\n",
      "WHERE title = 'Mr. & Mrs. Smith'\n",
      "ORDER BY genre;]\n",
      "(Background on this error at: https://sqlalche.me/e/20/f405)\n",
      "\n",
      "If you need help solving this issue, send us a message: https://ploomber.io/community\n"
     ]
    }
   ],
   "source": [
    "%%sql\n",
    "-- Your code here\n",
    "DROP VIEW IF EXISTS movie_avg_total_genre;\n",
    "CREATE VIEW movie_avg_total_genre AS \n",
    "\n",
    "-- create a CTE here, which gets the genre(s) and gross of each movie --\n",
    "...\n",
    "\n",
    "-- for each movie, get its gross and average gross for its genre(s) --\n",
    "...\n",
    "\n",
    "SELECT * FROM movie_avg_total_genre\n",
    "WHERE title = 'Mr. & Mrs. Smith'\n",
    "ORDER BY genre;"
   ]
  },
  {
   "cell_type": "code",
   "execution_count": null,
   "id": "951b53c9-cf42-46f8-9d5a-8efd3cd86c7a",
   "metadata": {},
   "outputs": [],
   "source": []
  }
 ],
 "metadata": {
  "kernelspec": {
   "display_name": "Python 3 (ipykernel)",
   "language": "python",
   "name": "python3"
  },
  "language_info": {
   "codemirror_mode": {
    "name": "ipython",
    "version": 3
   },
   "file_extension": ".py",
   "mimetype": "text/x-python",
   "name": "python",
   "nbconvert_exporter": "python",
   "pygments_lexer": "ipython3",
   "version": "3.11.10"
  }
 },
 "nbformat": 4,
 "nbformat_minor": 5
}
