{
 "cells": [
  {
   "cell_type": "markdown",
   "id": "bc501253",
   "metadata": {},
   "source": [
    "# Discussion 06 Notebook\n",
    "\n",
    "This notebook is an accompaniment to the associated discussion worksheet handout."
   ]
  },
  {
   "cell_type": "markdown",
   "id": "6452a602",
   "metadata": {},
   "source": [
    "# Section I Pivoting and Unpivoting"
   ]
  },
  {
   "cell_type": "markdown",
   "id": "8b58055e-a5d9-4a5d-b565-287d903ba3fe",
   "metadata": {},
   "source": [
    "## Question 1"
   ]
  },
  {
   "cell_type": "markdown",
   "id": "7def471e-a89f-4f04-aa92-0419021ae31f",
   "metadata": {},
   "source": [
    "_Pivoting._ Write a Pandas expression to reshape the following table such that its columns are the 3\n",
    "types of metals in the `CType` column, and whose values are taken from the `USD` column. Also write the\n",
    "resulting table."
   ]
  },
  {
   "cell_type": "code",
   "execution_count": 1,
   "id": "e6235991-e628-4e3b-a68d-7d32e70da807",
   "metadata": {},
   "outputs": [
    {
     "data": {
      "text/html": [
       "<div>\n",
       "<style scoped>\n",
       "    .dataframe tbody tr th:only-of-type {\n",
       "        vertical-align: middle;\n",
       "    }\n",
       "\n",
       "    .dataframe tbody tr th {\n",
       "        vertical-align: top;\n",
       "    }\n",
       "\n",
       "    .dataframe thead th {\n",
       "        text-align: right;\n",
       "    }\n",
       "</style>\n",
       "<table border=\"1\" class=\"dataframe\">\n",
       "  <thead>\n",
       "    <tr style=\"text-align: right;\">\n",
       "      <th></th>\n",
       "      <th>Item</th>\n",
       "      <th>CType</th>\n",
       "      <th>USD</th>\n",
       "      <th>EUR</th>\n",
       "    </tr>\n",
       "  </thead>\n",
       "  <tbody>\n",
       "    <tr>\n",
       "      <th>0</th>\n",
       "      <td>Item0</td>\n",
       "      <td>Gold</td>\n",
       "      <td>1$</td>\n",
       "      <td>1€</td>\n",
       "    </tr>\n",
       "    <tr>\n",
       "      <th>1</th>\n",
       "      <td>Item0</td>\n",
       "      <td>Bronze</td>\n",
       "      <td>2$</td>\n",
       "      <td>2€</td>\n",
       "    </tr>\n",
       "    <tr>\n",
       "      <th>2</th>\n",
       "      <td>Item1</td>\n",
       "      <td>Gold</td>\n",
       "      <td>3$</td>\n",
       "      <td>3€</td>\n",
       "    </tr>\n",
       "    <tr>\n",
       "      <th>3</th>\n",
       "      <td>Item1</td>\n",
       "      <td>Silver</td>\n",
       "      <td>4$</td>\n",
       "      <td>4€</td>\n",
       "    </tr>\n",
       "  </tbody>\n",
       "</table>\n",
       "</div>"
      ],
      "text/plain": [
       "    Item   CType USD EUR\n",
       "0  Item0    Gold  1$  1€\n",
       "1  Item0  Bronze  2$  2€\n",
       "2  Item1    Gold  3$  3€\n",
       "3  Item1  Silver  4$  4€"
      ]
     },
     "execution_count": 1,
     "metadata": {},
     "output_type": "execute_result"
    }
   ],
   "source": [
    "import pandas as pd\n",
    "data_q1 = {\n",
    "    'Item': ['Item0', 'Item0', 'Item1', 'Item1'],\n",
    "    'CType': ['Gold', 'Bronze', 'Gold', 'Silver'],\n",
    "    'USD': ['1$', '2$', '3$', '4$'],\n",
    "    'EUR': ['1€', '2€', '3€', '4€']\n",
    "}\n",
    "df_q1  = pd.DataFrame(data_q1)\n",
    "df_q1"
   ]
  },
  {
   "cell_type": "code",
   "execution_count": 2,
   "id": "8d166525",
   "metadata": {},
   "outputs": [
    {
     "data": {
      "text/plain": [
       "Ellipsis"
      ]
     },
     "execution_count": 2,
     "metadata": {},
     "output_type": "execute_result"
    }
   ],
   "source": [
    "# Write your code here\n",
    "\n",
    "q1_result = ...\n",
    "q1_result"
   ]
  },
  {
   "cell_type": "markdown",
   "id": "38f36ec4",
   "metadata": {},
   "source": [
    "## Question 2"
   ]
  },
  {
   "cell_type": "markdown",
   "id": "3e9fd093-1985-47da-8bab-c318be612bd8",
   "metadata": {},
   "source": [
    "_Unpivoting._ Write a Pandas expression to reshape the following table from a _wide_ shape into a long shape, using the student and school columns as identifiers, and the rest of the subjects as variables.\n",
    "Also write the resulting table. Hint: `use df.melt()`."
   ]
  },
  {
   "cell_type": "code",
   "execution_count": 3,
   "id": "728d0fed-b8a2-4260-bd53-19adcdaca941",
   "metadata": {},
   "outputs": [
    {
     "data": {
      "text/html": [
       "<div>\n",
       "<style scoped>\n",
       "    .dataframe tbody tr th:only-of-type {\n",
       "        vertical-align: middle;\n",
       "    }\n",
       "\n",
       "    .dataframe tbody tr th {\n",
       "        vertical-align: top;\n",
       "    }\n",
       "\n",
       "    .dataframe thead th {\n",
       "        text-align: right;\n",
       "    }\n",
       "</style>\n",
       "<table border=\"1\" class=\"dataframe\">\n",
       "  <thead>\n",
       "    <tr style=\"text-align: right;\">\n",
       "      <th></th>\n",
       "      <th>student</th>\n",
       "      <th>school</th>\n",
       "      <th>english</th>\n",
       "      <th>math</th>\n",
       "      <th>physics</th>\n",
       "    </tr>\n",
       "  </thead>\n",
       "  <tbody>\n",
       "    <tr>\n",
       "      <th>0</th>\n",
       "      <td>Andy</td>\n",
       "      <td>Z</td>\n",
       "      <td>90</td>\n",
       "      <td>60</td>\n",
       "      <td>80</td>\n",
       "    </tr>\n",
       "    <tr>\n",
       "      <th>1</th>\n",
       "      <td>Bernie</td>\n",
       "      <td>Y</td>\n",
       "      <td>100</td>\n",
       "      <td>5</td>\n",
       "      <td>4</td>\n",
       "    </tr>\n",
       "    <tr>\n",
       "      <th>2</th>\n",
       "      <td>Cindy</td>\n",
       "      <td>Z</td>\n",
       "      <td>60</td>\n",
       "      <td>99</td>\n",
       "      <td>100</td>\n",
       "    </tr>\n",
       "    <tr>\n",
       "      <th>3</th>\n",
       "      <td>Deb</td>\n",
       "      <td>Y</td>\n",
       "      <td>150</td>\n",
       "      <td>4</td>\n",
       "      <td>5</td>\n",
       "    </tr>\n",
       "  </tbody>\n",
       "</table>\n",
       "</div>"
      ],
      "text/plain": [
       "  student school  english  math  physics\n",
       "0    Andy      Z       90    60       80\n",
       "1  Bernie      Y      100     5        4\n",
       "2   Cindy      Z       60    99      100\n",
       "3     Deb      Y      150     4        5"
      ]
     },
     "execution_count": 3,
     "metadata": {},
     "output_type": "execute_result"
    }
   ],
   "source": [
    "data_q2 = {\n",
    "    'student': ['Andy', 'Bernie', 'Cindy', 'Deb'],\n",
    "    'school': ['Z', 'Y', 'Z', 'Y'],\n",
    "    'english': [90, 100, 60, 150],\n",
    "    'math': [60, 5, 99, 4],\n",
    "    'physics': [80, 4, 100, 5]\n",
    "}\n",
    "\n",
    "df_q2 = pd.DataFrame(data_q2)\n",
    "df_q2"
   ]
  },
  {
   "cell_type": "code",
   "execution_count": 4,
   "id": "d4233dd8",
   "metadata": {},
   "outputs": [
    {
     "data": {
      "text/plain": [
       "Ellipsis"
      ]
     },
     "execution_count": 4,
     "metadata": {},
     "output_type": "execute_result"
    }
   ],
   "source": [
    "# Write your code here\n",
    "q2_result = ...\n",
    "q2_result"
   ]
  },
  {
   "cell_type": "markdown",
   "id": "850240c1-e5d7-49bf-a318-898301bbc222",
   "metadata": {},
   "source": [
    "# Section II Window Functions"
   ]
  },
  {
   "cell_type": "markdown",
   "id": "52b53b9f-653b-4df1-9951-8cfbec9f3cdb",
   "metadata": {},
   "source": [
    "## Load in the IMDB Performance database\n",
    "\n",
    "This is a variation of the IMDB database with keys defined. Note that this is a pretty big database! So if you run the below lines, please also remember to delete the `imdb_perf_lecture` afterwards to save space on your limited postgreSQL server."
   ]
  },
  {
   "cell_type": "markdown",
   "id": "7522a486-a450-4288-a94d-4eb3a38b5c4d",
   "metadata": {},
   "source": [
    "If you didn't load it in with a previous lecture, load in the `imdb_perf_lecture` database."
   ]
  },
  {
   "cell_type": "code",
   "execution_count": 5,
   "id": "fd0ed619-1999-4d6c-b82c-dcaf1de16188",
   "metadata": {},
   "outputs": [
    {
     "name": "stdout",
     "output_type": "stream",
     "text": [
      "Archive:  data/imdbdb.zip\n"
     ]
    }
   ],
   "source": [
    "!ln -sf ../../proj/proj1/data .\n",
    "!unzip -u data/imdbdb.zip -d data/"
   ]
  },
  {
   "cell_type": "code",
   "execution_count": 6,
   "id": "3acb1cfd-09cc-4659-9d8b-c6c8dc75a954",
   "metadata": {},
   "outputs": [
    {
     "name": "stdout",
     "output_type": "stream",
     "text": [
      " pg_terminate_backend \n",
      "----------------------\n",
      "(0 rows)\n",
      "\n",
      "DROP DATABASE\n",
      "CREATE DATABASE\n",
      " set_config \n",
      "------------\n",
      " \n",
      "(1 row)\n",
      "\n"
     ]
    }
   ],
   "source": [
    "!psql postgresql://jovyan@127.0.0.1:5432/imdb -c 'SELECT pg_terminate_backend(pg_stat_activity.pid) FROM pg_stat_activity WHERE datname = current_database()  AND pid <> pg_backend_pid();'\n",
    "!psql postgresql://jovyan@127.0.0.1:5432/postgres -c 'DROP DATABASE IF EXISTS imdb'\n",
    "!psql postgresql://jovyan@127.0.0.1:5432/postgres -c 'CREATE DATABASE imdb'\n",
    "!psql postgresql://jovyan@127.0.0.1:5432/imdb -f data/imdbdb.sql -q"
   ]
  },
  {
   "cell_type": "code",
   "execution_count": 7,
   "id": "a3fda3be-dbcf-4e37-a647-c454b46d8280",
   "metadata": {},
   "outputs": [],
   "source": [
    "%reload_ext sql"
   ]
  },
  {
   "cell_type": "code",
   "execution_count": 8,
   "id": "ffac0ec7-f379-4f1d-a36f-268ca1d34adf",
   "metadata": {},
   "outputs": [],
   "source": [
    "%sql postgresql://jovyan@127.0.0.1:5432/imdb"
   ]
  },
  {
   "cell_type": "markdown",
   "id": "958c2408-3e70-4b6a-95ac-9bf1aad781e6",
   "metadata": {},
   "source": [
    "## Question 3\n",
    "In Project 1, we worked with a movie sample table to explore gross earnings for each movie and stored\n",
    "the results in a view called movie gross. Let’s explore how to leverage window functions to compute\n",
    "the average earnings per genre across movies. Following the view definition, write a `SELECT` query to return the rows for the movie \"Mr. & Mrs. Smith\" ordered by genre alphabetically."
   ]
  },
  {
   "cell_type": "markdown",
   "id": "f02f7a69-f796-4588-95f0-1525b6cef020",
   "metadata": {},
   "source": [
    "Create a new view called `movie_avg_genre` with the following columns: `movie_id`, `title`, `gross`, `genre`, `avg_gross_genre`.\n",
    "- `gross`: The gross earnings of the given movie\n",
    "- `avg_gross_genre`: The average gross earnings of movies with the same genre as the given movie. If a movie belongs to multiple genres, it should appear in multiple rows, with each row corresponding to a different genre. <br/>\n",
    "Hint: Check out the movie genre info type, with `info_type_id = 3` from `movie_info_sample`."
   ]
  },
  {
   "cell_type": "code",
   "execution_count": 9,
   "id": "1d4434cd-4908-4806-95a7-5c2b7977cbce",
   "metadata": {},
   "outputs": [
    {
     "data": {
      "text/html": [
       "<span style=\"None\">Running query in &#x27;postgresql://jovyan@127.0.0.1:5432/imdb&#x27;</span>"
      ],
      "text/plain": [
       "Running query in 'postgresql://jovyan@127.0.0.1:5432/imdb'"
      ]
     },
     "metadata": {},
     "output_type": "display_data"
    },
    {
     "data": {
      "text/html": [
       "<span style=\"color: green\">5 rows affected.</span>"
      ],
      "text/plain": [
       "5 rows affected."
      ]
     },
     "metadata": {},
     "output_type": "display_data"
    },
    {
     "data": {
      "text/html": [
       "<table>\n",
       "    <thead>\n",
       "        <tr>\n",
       "            <th>id</th>\n",
       "            <th>movie_id</th>\n",
       "            <th>info_type_id</th>\n",
       "            <th>info</th>\n",
       "        </tr>\n",
       "    </thead>\n",
       "    <tbody>\n",
       "        <tr>\n",
       "            <td>6662599</td>\n",
       "            <td>2314214</td>\n",
       "            <td>3</td>\n",
       "            <td>Music</td>\n",
       "        </tr>\n",
       "        <tr>\n",
       "            <td>5781304</td>\n",
       "            <td>1740842</td>\n",
       "            <td>3</td>\n",
       "            <td>Thriller</td>\n",
       "        </tr>\n",
       "        <tr>\n",
       "            <td>6929777</td>\n",
       "            <td>2466888</td>\n",
       "            <td>3</td>\n",
       "            <td>Action</td>\n",
       "        </tr>\n",
       "        <tr>\n",
       "            <td>5743387</td>\n",
       "            <td>1716717</td>\n",
       "            <td>3</td>\n",
       "            <td>Comedy</td>\n",
       "        </tr>\n",
       "        <tr>\n",
       "            <td>6209983</td>\n",
       "            <td>2018552</td>\n",
       "            <td>3</td>\n",
       "            <td>Short</td>\n",
       "        </tr>\n",
       "    </tbody>\n",
       "</table>"
      ],
      "text/plain": [
       "+---------+----------+--------------+----------+\n",
       "|    id   | movie_id | info_type_id |   info   |\n",
       "+---------+----------+--------------+----------+\n",
       "| 6662599 | 2314214  |      3       |  Music   |\n",
       "| 5781304 | 1740842  |      3       | Thriller |\n",
       "| 6929777 | 2466888  |      3       |  Action  |\n",
       "| 5743387 | 1716717  |      3       |  Comedy  |\n",
       "| 6209983 | 2018552  |      3       |  Short   |\n",
       "+---------+----------+--------------+----------+"
      ]
     },
     "execution_count": 9,
     "metadata": {},
     "output_type": "execute_result"
    }
   ],
   "source": [
    "%%sql\n",
    "-- Check out the movie genre info type -- \n",
    "SELECT * \n",
    "FROM movie_info_sample\n",
    "WHERE info_type_id = 3\n",
    "ORDER BY RANDOM()\n",
    "LIMIT 5;"
   ]
  },
  {
   "cell_type": "code",
   "execution_count": 10,
   "id": "4b735eb2-ec15-460e-8c79-37a5c51ec93a",
   "metadata": {},
   "outputs": [
    {
     "data": {
      "text/html": [
       "<span style=\"None\">Running query in &#x27;postgresql://jovyan@127.0.0.1:5432/imdb&#x27;</span>"
      ],
      "text/plain": [
       "Running query in 'postgresql://jovyan@127.0.0.1:5432/imdb'"
      ]
     },
     "metadata": {},
     "output_type": "display_data"
    },
    {
     "data": {
      "text/html": [
       "<span style=\"color: green\">5 rows affected.</span>"
      ],
      "text/plain": [
       "5 rows affected."
      ]
     },
     "metadata": {},
     "output_type": "display_data"
    },
    {
     "data": {
      "text/html": [
       "<table>\n",
       "    <thead>\n",
       "        <tr>\n",
       "            <th>id</th>\n",
       "            <th>title</th>\n",
       "            <th>production_year</th>\n",
       "        </tr>\n",
       "    </thead>\n",
       "    <tbody>\n",
       "        <tr>\n",
       "            <td>2421468</td>\n",
       "            <td>The Trip</td>\n",
       "            <td>2012</td>\n",
       "        </tr>\n",
       "        <tr>\n",
       "            <td>2340826</td>\n",
       "            <td>Thaskara Lahala</td>\n",
       "            <td>2010</td>\n",
       "        </tr>\n",
       "        <tr>\n",
       "            <td>2371539</td>\n",
       "            <td>The Garden</td>\n",
       "            <td>2010</td>\n",
       "        </tr>\n",
       "        <tr>\n",
       "            <td>2472411</td>\n",
       "            <td>Val dood!</td>\n",
       "            <td>2009</td>\n",
       "        </tr>\n",
       "        <tr>\n",
       "            <td>2421957</td>\n",
       "            <td>The Turing Enigma</td>\n",
       "            <td>2011</td>\n",
       "        </tr>\n",
       "    </tbody>\n",
       "</table>"
      ],
      "text/plain": [
       "+---------+-------------------+-----------------+\n",
       "|    id   |       title       | production_year |\n",
       "+---------+-------------------+-----------------+\n",
       "| 2421468 |      The Trip     |       2012      |\n",
       "| 2340826 |  Thaskara Lahala  |       2010      |\n",
       "| 2371539 |     The Garden    |       2010      |\n",
       "| 2472411 |     Val dood!     |       2009      |\n",
       "| 2421957 | The Turing Enigma |       2011      |\n",
       "+---------+-------------------+-----------------+"
      ]
     },
     "execution_count": 10,
     "metadata": {},
     "output_type": "execute_result"
    }
   ],
   "source": [
    "%%sql\n",
    "-- Check out movie_sample -- \n",
    "SELECT * \n",
    "FROM movie_sample\n",
    "ORDER BY RANDOM()\n",
    "LIMIT 5;"
   ]
  },
  {
   "cell_type": "code",
   "execution_count": 11,
   "id": "e8d7295c-9d26-401a-ba3e-ad94dac7a1b4",
   "metadata": {},
   "outputs": [
    {
     "data": {
      "text/html": [
       "<span style=\"None\">Running query in &#x27;postgresql://jovyan@127.0.0.1:5432/imdb&#x27;</span>"
      ],
      "text/plain": [
       "Running query in 'postgresql://jovyan@127.0.0.1:5432/imdb'"
      ]
     },
     "metadata": {},
     "output_type": "display_data"
    },
    {
     "data": {
      "text/html": [
       "<span style=\"color: green\">5 rows affected.</span>"
      ],
      "text/plain": [
       "5 rows affected."
      ]
     },
     "metadata": {},
     "output_type": "display_data"
    },
    {
     "data": {
      "text/html": [
       "<table>\n",
       "    <thead>\n",
       "        <tr>\n",
       "            <th>gross</th>\n",
       "            <th>movie_id</th>\n",
       "            <th>title</th>\n",
       "        </tr>\n",
       "    </thead>\n",
       "    <tbody>\n",
       "        <tr>\n",
       "            <td>760507625.0</td>\n",
       "            <td>1704289</td>\n",
       "            <td>Avatar</td>\n",
       "        </tr>\n",
       "        <tr>\n",
       "            <td>658672302.0</td>\n",
       "            <td>2438179</td>\n",
       "            <td>Titanic</td>\n",
       "        </tr>\n",
       "        <tr>\n",
       "            <td>623357910.0</td>\n",
       "            <td>2346436</td>\n",
       "            <td>The Avengers</td>\n",
       "        </tr>\n",
       "        <tr>\n",
       "            <td>534858444.0</td>\n",
       "            <td>2360583</td>\n",
       "            <td>The Dark Knight</td>\n",
       "        </tr>\n",
       "        <tr>\n",
       "            <td>460935665.0</td>\n",
       "            <td>2310522</td>\n",
       "            <td>Star Wars</td>\n",
       "        </tr>\n",
       "    </tbody>\n",
       "</table>"
      ],
      "text/plain": [
       "+-------------+----------+-----------------+\n",
       "|    gross    | movie_id |      title      |\n",
       "+-------------+----------+-----------------+\n",
       "| 760507625.0 | 1704289  |      Avatar     |\n",
       "| 658672302.0 | 2438179  |     Titanic     |\n",
       "| 623357910.0 | 2346436  |   The Avengers  |\n",
       "| 534858444.0 | 2360583  | The Dark Knight |\n",
       "| 460935665.0 | 2310522  |    Star Wars    |\n",
       "+-------------+----------+-----------------+"
      ]
     },
     "execution_count": 11,
     "metadata": {},
     "output_type": "execute_result"
    }
   ],
   "source": [
    "%%sql\n",
    "-- How we created movie_gross in Project 1, Question 3a --\n",
    "DROP VIEW IF EXISTS movie_gross;\n",
    "CREATE VIEW movie_gross AS\n",
    "\n",
    "WITH cleaned as (\n",
    "    SELECT\n",
    "        CAST(REGEXP_REPLACE(SUBSTRING(info, '[0-9,]+'), ',', '', 'g') AS float) AS gross,\n",
    "        movie_id,\n",
    "        title\n",
    "    FROM\n",
    "        movie_info_sample,\n",
    "        movie_sample\n",
    "    WHERE\n",
    "        movie_id = movie_sample.id AND\n",
    "        info_type_id = 107 AND\n",
    "        info LIKE '%(USA)%' and info LIKE '$%'\n",
    ")\n",
    "\n",
    "SELECT\n",
    "    max(gross) AS gross,\n",
    "    movie_id,\n",
    "    title\n",
    "FROM\n",
    "    cleaned\n",
    "GROUP BY\n",
    "    movie_id,\n",
    "    title\n",
    "ORDER BY gross DESC;\n",
    "\n",
    "SELECT * FROM movie_gross\n",
    "LIMIT 5"
   ]
  },
  {
   "cell_type": "code",
   "execution_count": 12,
   "id": "745f1d77-ddf2-459e-907e-e2fadf91dcda",
   "metadata": {},
   "outputs": [
    {
     "data": {
      "text/html": [
       "<span style=\"None\">Running query in &#x27;postgresql://jovyan@127.0.0.1:5432/imdb&#x27;</span>"
      ],
      "text/plain": [
       "Running query in 'postgresql://jovyan@127.0.0.1:5432/imdb'"
      ]
     },
     "metadata": {},
     "output_type": "display_data"
    },
    {
     "data": {
      "text/html": [
       "<span style=\"color: green\">3 rows affected.</span>"
      ],
      "text/plain": [
       "3 rows affected."
      ]
     },
     "metadata": {},
     "output_type": "display_data"
    },
    {
     "data": {
      "text/html": [
       "<table>\n",
       "    <thead>\n",
       "        <tr>\n",
       "            <th>movie_id</th>\n",
       "            <th>title</th>\n",
       "            <th>gross</th>\n",
       "            <th>genre</th>\n",
       "            <th>average_genre</th>\n",
       "        </tr>\n",
       "    </thead>\n",
       "    <tbody>\n",
       "        <tr>\n",
       "            <td>2132092</td>\n",
       "            <td>Mr. & Mrs. Smith</td>\n",
       "            <td>186336103.0</td>\n",
       "            <td>Action</td>\n",
       "            <td>42123826.131625965</td>\n",
       "        </tr>\n",
       "        <tr>\n",
       "            <td>2132092</td>\n",
       "            <td>Mr. & Mrs. Smith</td>\n",
       "            <td>186336103.0</td>\n",
       "            <td>Comedy</td>\n",
       "            <td>21583843.81801513</td>\n",
       "        </tr>\n",
       "        <tr>\n",
       "            <td>2132092</td>\n",
       "            <td>Mr. & Mrs. Smith</td>\n",
       "            <td>186336103.0</td>\n",
       "            <td>Romance</td>\n",
       "            <td>18470817.081399772</td>\n",
       "        </tr>\n",
       "    </tbody>\n",
       "</table>"
      ],
      "text/plain": [
       "+----------+------------------+-------------+---------+--------------------+\n",
       "| movie_id |      title       |    gross    |  genre  |   average_genre    |\n",
       "+----------+------------------+-------------+---------+--------------------+\n",
       "| 2132092  | Mr. & Mrs. Smith | 186336103.0 |  Action | 42123826.131625965 |\n",
       "| 2132092  | Mr. & Mrs. Smith | 186336103.0 |  Comedy | 21583843.81801513  |\n",
       "| 2132092  | Mr. & Mrs. Smith | 186336103.0 | Romance | 18470817.081399772 |\n",
       "+----------+------------------+-------------+---------+--------------------+"
      ]
     },
     "execution_count": 12,
     "metadata": {},
     "output_type": "execute_result"
    }
   ],
   "source": [
    "%%sql\n",
    "DROP VIEW IF EXISTS movie_avg_genre;\n",
    "CREATE VIEW movie_avg_genre AS \n",
    "-- Write your code here --\n",
    "...\n",
    "\n",
    "SELECT * FROM movie_avg_genre\n",
    "WHERE title = 'Mr. & Mrs. Smith'\n",
    "ORDER BY genre;"
   ]
  },
  {
   "cell_type": "markdown",
   "id": "c93bc6ac",
   "metadata": {},
   "source": []
  },
  {
   "cell_type": "markdown",
   "id": "cee2f16a-210e-4872-8785-2d52995a7588",
   "metadata": {},
   "source": [
    "# Section IV [Optional] "
   ]
  },
  {
   "cell_type": "markdown",
   "id": "7bd9c45c-8ee3-41ac-81cd-7e4e79aa00ce",
   "metadata": {},
   "source": [
    "Consider the following table:"
   ]
  },
  {
   "cell_type": "code",
   "execution_count": 13,
   "id": "25381bad-330c-4c83-8a7b-0ac39cfb45ba",
   "metadata": {},
   "outputs": [
    {
     "data": {
      "text/html": [
       "<div>\n",
       "<style scoped>\n",
       "    .dataframe tbody tr th:only-of-type {\n",
       "        vertical-align: middle;\n",
       "    }\n",
       "\n",
       "    .dataframe tbody tr th {\n",
       "        vertical-align: top;\n",
       "    }\n",
       "\n",
       "    .dataframe thead th {\n",
       "        text-align: right;\n",
       "    }\n",
       "</style>\n",
       "<table border=\"1\" class=\"dataframe\">\n",
       "  <thead>\n",
       "    <tr style=\"text-align: right;\">\n",
       "      <th></th>\n",
       "      <th>Year</th>\n",
       "      <th>College</th>\n",
       "      <th>Student Name</th>\n",
       "    </tr>\n",
       "  </thead>\n",
       "  <tbody>\n",
       "    <tr>\n",
       "      <th>0</th>\n",
       "      <td>2019</td>\n",
       "      <td>L&amp;S</td>\n",
       "      <td>Lakshya</td>\n",
       "    </tr>\n",
       "    <tr>\n",
       "      <th>1</th>\n",
       "      <td>2019</td>\n",
       "      <td>CNR</td>\n",
       "      <td>Shadaj</td>\n",
       "    </tr>\n",
       "    <tr>\n",
       "      <th>2</th>\n",
       "      <td>2020</td>\n",
       "      <td>Haas</td>\n",
       "      <td>Cathy</td>\n",
       "    </tr>\n",
       "    <tr>\n",
       "      <th>3</th>\n",
       "      <td>2020</td>\n",
       "      <td>COE</td>\n",
       "      <td>Evelyn</td>\n",
       "    </tr>\n",
       "    <tr>\n",
       "      <th>4</th>\n",
       "      <td>2020</td>\n",
       "      <td>COC</td>\n",
       "      <td>Luke</td>\n",
       "    </tr>\n",
       "    <tr>\n",
       "      <th>5</th>\n",
       "      <td>2021</td>\n",
       "      <td>CNR</td>\n",
       "      <td>Shreya</td>\n",
       "    </tr>\n",
       "    <tr>\n",
       "      <th>6</th>\n",
       "      <td>2022</td>\n",
       "      <td>L&amp;S</td>\n",
       "      <td>Audrey</td>\n",
       "    </tr>\n",
       "    <tr>\n",
       "      <th>7</th>\n",
       "      <td>2022</td>\n",
       "      <td>COE</td>\n",
       "      <td>Alan</td>\n",
       "    </tr>\n",
       "  </tbody>\n",
       "</table>\n",
       "</div>"
      ],
      "text/plain": [
       "   Year College Student Name\n",
       "0  2019     L&S      Lakshya\n",
       "1  2019     CNR       Shadaj\n",
       "2  2020    Haas        Cathy\n",
       "3  2020     COE       Evelyn\n",
       "4  2020     COC         Luke\n",
       "5  2021     CNR       Shreya\n",
       "6  2022     L&S       Audrey\n",
       "7  2022     COE         Alan"
      ]
     },
     "execution_count": 13,
     "metadata": {},
     "output_type": "execute_result"
    }
   ],
   "source": [
    "data_iv = {\n",
    "    \"Year\": [2019, 2019, 2020, 2020, 2020, 2021, 2022, 2022],\n",
    "    \"College\": [\"L&S\", \"CNR\", \"Haas\", \"COE\", \"COC\", \"CNR\", \"L&S\", \"COE\"],\n",
    "    \"Student Name\": [\"Lakshya\", \"Shadaj\", \"Cathy\", \"Evelyn\", \"Luke\", \"Shreya\", \"Audrey\", \"Alan\"]\n",
    "}\n",
    "df_iv = pd.DataFrame(data_iv)\n",
    "df_iv"
   ]
  },
  {
   "cell_type": "markdown",
   "id": "e633fd0f-cae7-4605-9f5f-348bb6e75a36",
   "metadata": {},
   "source": [
    "## Question 9\n",
    "Transform the above relation to a matrix using college as columns and year as rows."
   ]
  },
  {
   "cell_type": "markdown",
   "id": "19f29354-f018-4917-b11d-06818bc07fc3",
   "metadata": {},
   "source": [
    "* Transforming __Matrix into Relation__ using __melt()__\n",
    "* Transforming __Relation Matrix__ using __pivot_table()__ / __pivot()__"
   ]
  },
  {
   "cell_type": "code",
   "execution_count": 15,
   "id": "7d7b2bca-39e7-444b-b845-102ac46d0f5e",
   "metadata": {},
   "outputs": [
    {
     "data": {
      "text/plain": [
       "Ellipsis"
      ]
     },
     "execution_count": 15,
     "metadata": {},
     "output_type": "execute_result"
    }
   ],
   "source": [
    "# Write your code here\n",
    "pivot_table_q9 = ...\n",
    "pivot_table_q9"
   ]
  },
  {
   "cell_type": "markdown",
   "id": "3b4a0be0",
   "metadata": {},
   "source": []
  },
  {
   "cell_type": "code",
   "execution_count": null,
   "id": "5e00a334-4b3c-455d-825d-9f41d62b56e2",
   "metadata": {},
   "outputs": [],
   "source": []
  }
 ],
 "metadata": {
  "kernelspec": {
   "display_name": "Python 3 (ipykernel)",
   "language": "python",
   "name": "python3"
  },
  "language_info": {
   "codemirror_mode": {
    "name": "ipython",
    "version": 3
   },
   "file_extension": ".py",
   "mimetype": "text/x-python",
   "name": "python",
   "nbconvert_exporter": "python",
   "pygments_lexer": "ipython3",
   "version": "3.11.10"
  }
 },
 "nbformat": 4,
 "nbformat_minor": 5
}
