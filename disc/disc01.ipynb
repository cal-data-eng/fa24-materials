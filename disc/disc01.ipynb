{
 "cells": [
  {
   "cell_type": "markdown",
   "id": "demographic-there",
   "metadata": {},
   "source": [
    "# Discussion 01"
   ]
  },
  {
   "cell_type": "markdown",
   "id": "utility-soundtrack",
   "metadata": {},
   "source": [
    "Running the below cells creates the sqlite3 database `sqlite3:///books.db`."
   ]
  },
  {
   "cell_type": "code",
   "execution_count": null,
   "id": "instructional-information",
   "metadata": {},
   "outputs": [],
   "source": [
    "%load_ext autoreload\n",
    "%autoreload 2"
   ]
  },
  {
   "cell_type": "code",
   "execution_count": null,
   "id": "tutorial-canada",
   "metadata": {},
   "outputs": [],
   "source": [
    "import make_books"
   ]
  },
  {
   "cell_type": "markdown",
   "id": "special-lebanon",
   "metadata": {},
   "source": [
    "## Discussion Questions"
   ]
  },
  {
   "cell_type": "markdown",
   "id": "dedicated-department",
   "metadata": {},
   "source": [
    "Database schema:\n",
    "\n",
    "```\n",
    "Books (book id, book name, year, genre, author id, times trending)\n",
    "Authors (author id, author name, publishing company, debut year)\n",
    "Awards (award id, book id, author name)\n",
    "```"
   ]
  },
  {
   "cell_type": "markdown",
   "id": "comfortable-ocean",
   "metadata": {},
   "source": [
    "Run the below cells to start a sql connection."
   ]
  },
  {
   "cell_type": "code",
   "execution_count": null,
   "id": "mental-mother",
   "metadata": {},
   "outputs": [],
   "source": [
    "%load_ext sql"
   ]
  },
  {
   "cell_type": "code",
   "execution_count": null,
   "id": "harmful-saudi",
   "metadata": {},
   "outputs": [],
   "source": [
    "%sql sqlite:///books.db"
   ]
  },
  {
   "cell_type": "markdown",
   "id": "partial-transport",
   "metadata": {},
   "source": [
    "## 1) SQL Review\n",
    "Suppose a full database schema is as follows:\n",
    "- books (book id, book name, year, genre, author id, times trending)\n",
    "- authors (author id, author name, publishing company, debut year)\n",
    "- awards (award id, book id, award name, author name)\n",
    "\n",
    "Below is how you will be writing your SQL queries with [\"SQL magic\"](https://www.datacamp.com/tutorial/sql-interface-within-jupyterlab)."
   ]
  },
  {
   "cell_type": "code",
   "execution_count": null,
   "id": "wound-scanner",
   "metadata": {},
   "outputs": [],
   "source": [
    "%%sql\n",
    "-- your code here --\n",
    ";"
   ]
  },
  {
   "cell_type": "markdown",
   "id": "indoor-approach",
   "metadata": {},
   "source": [
    "### SQL Styling Convention\n",
    "Just for consistency (and best practice), here's a few guidelines to follow when writing SQL:\n",
    "- SQL keywords should be all caps\n",
    "- Table names are preferred snake_case, plural (e.g., student_records) or at least consistent within the entire system\n",
    "    - And in general, it's preferred to use all lowercase identifiers (column names, table names, aliases), unless necessary for clarity\n",
    "- Whitespace: line breaks however reasonable, two-space indentation\n",
    "- Semicolons **always** to end queries\n",
    "- Similar attributes should have similar naming conventions, e.g., created_at, updated_at, etc. For now, default attributes to snake_case\n",
    "- All timestamps should have timezones"
   ]
  },
  {
   "cell_type": "markdown",
   "id": "spanish-farmer",
   "metadata": {},
   "source": [
    "Write a SQL query to accomplish each task below:\n",
    "\n",
    "\n",
    "**1. Select only the book names and years from the books table.**"
   ]
  },
  {
   "cell_type": "code",
   "execution_count": 1,
   "id": "assigned-there",
   "metadata": {},
   "outputs": [
    {
     "name": "stderr",
     "output_type": "stream",
     "text": [
      "UsageError: Cell magic `%%sql` not found.\n"
     ]
    }
   ],
   "source": [
    "%%sql\n",
    "-- your code here, make sure to delete the dashes --\n",
    ";"
   ]
  },
  {
   "cell_type": "markdown",
   "id": "enabling-baltimore",
   "metadata": {},
   "source": [
    "**2. Find the names of all authors whose debut years are in the 21st century (defined as after 2000).**"
   ]
  },
  {
   "cell_type": "code",
   "execution_count": null,
   "id": "prerequisite-robertson",
   "metadata": {},
   "outputs": [],
   "source": [
    "%%sql\n",
    "-- your code here --\n",
    ";"
   ]
  },
  {
   "cell_type": "markdown",
   "id": "operational-polymer",
   "metadata": {},
   "source": [
    "**3. Find the names of all authors who released a sci-fi genre book in 1974 that won an award.**"
   ]
  },
  {
   "cell_type": "code",
   "execution_count": null,
   "id": "imposed-bowling",
   "metadata": {},
   "outputs": [],
   "source": [
    "%%sql\n",
    "-- your code here --\n",
    ";"
   ]
  },
  {
   "cell_type": "markdown",
   "id": "consistent-paintball",
   "metadata": {},
   "source": [
    "## 2) SQL Aggregation Review\n",
    "In some cases, we may need to accumulate results by combining multiple rows via aggregation. We use the same schema as in Section 2.\n",
    "\n",
    "**4. Write a query that calculates the total number of books written by author Agatha Christie.**"
   ]
  },
  {
   "cell_type": "code",
   "execution_count": null,
   "id": "congressional-fleet",
   "metadata": {},
   "outputs": [],
   "source": [
    "%%sql\n",
    "-- your code here --\n",
    ";"
   ]
  },
  {
   "cell_type": "markdown",
   "id": "photographic-bouquet",
   "metadata": {},
   "source": [
    "**5. The group-by construct lets us compute aggregates for different chunks of a relation. Find the total number of books released per genre. Don’t include genres with a count less than 2. (Hint: HAVING)**"
   ]
  },
  {
   "cell_type": "code",
   "execution_count": null,
   "id": "fifteen-green",
   "metadata": {},
   "outputs": [],
   "source": [
    "%%sql\n",
    "-- your code here --\n",
    ";"
   ]
  },
  {
   "cell_type": "markdown",
   "id": "civil-resident",
   "metadata": {},
   "source": [
    "## 3) Optional Questions\n",
    "\n",
    "**6. Find the names of the 5 books that trended the least, ordered from least to most. Break ties by book name in alphabetical order.**"
   ]
  },
  {
   "cell_type": "code",
   "execution_count": null,
   "id": "effective-source",
   "metadata": {},
   "outputs": [],
   "source": [
    "%%sql\n",
    "-- your code here --\n",
    ";"
   ]
  },
  {
   "cell_type": "markdown",
   "id": "patent-injury",
   "metadata": {},
   "source": [
    "**7. *Challenge:* Write a query that computes the total times each author has had a trending book. (Hint: you will need to use a join for this as well.)**"
   ]
  },
  {
   "cell_type": "code",
   "execution_count": null,
   "id": "premier-infrastructure",
   "metadata": {},
   "outputs": [],
   "source": [
    "%%sql\n",
    "-- your code here --\n",
    ";"
   ]
  }
 ],
 "metadata": {
  "kernelspec": {
   "display_name": "Python 3",
   "language": "python",
   "name": "python3"
  },
  "language_info": {
   "codemirror_mode": {
    "name": "ipython",
    "version": 3
   },
   "file_extension": ".py",
   "mimetype": "text/x-python",
   "name": "python",
   "nbconvert_exporter": "python",
   "pygments_lexer": "ipython3",
   "version": "3.8.5"
  }
 },
 "nbformat": 4,
 "nbformat_minor": 5
}
