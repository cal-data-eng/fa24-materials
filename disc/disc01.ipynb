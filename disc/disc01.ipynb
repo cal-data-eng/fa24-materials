{
 "cells": [
  {
   "cell_type": "markdown",
   "id": "worse-columbus",
   "metadata": {},
   "source": [
    "# Discussion 01"
   ]
  },
  {
   "cell_type": "markdown",
   "id": "configured-mixture",
   "metadata": {},
   "source": [
    "Running the below cells creates the sqlite3 database `sqlite3:///books.db`."
   ]
  },
  {
   "cell_type": "code",
   "execution_count": null,
   "id": "incorrect-infrared",
   "metadata": {},
   "outputs": [],
   "source": [
    "%load_ext autoreload\n",
    "%autoreload 2"
   ]
  },
  {
   "cell_type": "code",
   "execution_count": null,
   "id": "serial-correlation",
   "metadata": {},
   "outputs": [],
   "source": [
    "import make_books"
   ]
  },
  {
   "cell_type": "markdown",
   "id": "architectural-contractor",
   "metadata": {},
   "source": [
    "## Discussion Questions"
   ]
  },
  {
   "cell_type": "markdown",
   "id": "attended-basics",
   "metadata": {},
   "source": [
    "Database schema:\n",
    "\n",
    "```\n",
    "Books (book id, book name, year, genre, author id, times trending)\n",
    "Authors (author id, author name, publishing company, debut year)\n",
    "Awards (award id, book id, author name)\n",
    "```"
   ]
  },
  {
   "cell_type": "markdown",
   "id": "uniform-ending",
   "metadata": {},
   "source": [
    "Run the below cells to start a sql connection."
   ]
  },
  {
   "cell_type": "code",
   "execution_count": null,
   "id": "western-arrangement",
   "metadata": {},
   "outputs": [],
   "source": [
    "%load_ext sql"
   ]
  },
  {
   "cell_type": "code",
   "execution_count": null,
   "id": "religious-mills",
   "metadata": {},
   "outputs": [],
   "source": [
    "%sql sqlite:///books.db"
   ]
  },
  {
   "cell_type": "markdown",
   "id": "careful-apache",
   "metadata": {},
   "source": [
    "## 1) SQL Review\n",
    "Suppose a full database schema is as follows:\n",
    "- books (book id, book name, year, genre, author id, times trending)\n",
    "- authors (author id, author name, publishing company, debut year)\n",
    "- awards (award id, book id, award name, author name)\n",
    "\n",
    "Below is how you will be writing your SQL queries with [\"SQL magic\"](https://www.datacamp.com/tutorial/sql-interface-within-jupyterlab)."
   ]
  },
  {
   "cell_type": "code",
   "execution_count": null,
   "id": "magnetic-reward",
   "metadata": {},
   "outputs": [],
   "source": [
    "%%sql\n",
    "-- your code here --\n",
    ";"
   ]
  },
  {
   "cell_type": "markdown",
   "id": "renewable-kenya",
   "metadata": {},
   "source": [
    "Write a SQL query to accomplish each task below:\n",
    "\n",
    "\n",
    "**1. Select only the book names and years from the books table.**"
   ]
  },
  {
   "cell_type": "code",
   "execution_count": null,
   "id": "detailed-monte",
   "metadata": {},
   "outputs": [],
   "source": [
    "%%sql\n",
    "-- your code here --\n",
    ";"
   ]
  },
  {
   "cell_type": "markdown",
   "id": "editorial-seventh",
   "metadata": {},
   "source": [
    "**2. Find the names of all authors whose debut years are in the 21st century (defined as after 2000).**"
   ]
  },
  {
   "cell_type": "code",
   "execution_count": null,
   "id": "described-footwear",
   "metadata": {},
   "outputs": [],
   "source": [
    "%%sql\n",
    "-- your code here --\n",
    ";"
   ]
  },
  {
   "cell_type": "markdown",
   "id": "bibliographic-poster",
   "metadata": {},
   "source": [
    "**3. Find the names of all authors who released a sci-fi genre book in 1974 that won an award.**"
   ]
  },
  {
   "cell_type": "code",
   "execution_count": null,
   "id": "adjusted-drunk",
   "metadata": {},
   "outputs": [],
   "source": [
    "%%sql\n",
    "-- your code here --\n",
    ";"
   ]
  },
  {
   "cell_type": "markdown",
   "id": "identical-workplace",
   "metadata": {},
   "source": [
    "## 2) SQL Aggregation Review\n",
    "In some cases, we may need to accumulate results by combining multiple rows via aggregation. We use the same schema as in Section 2.\n",
    "\n",
    "**4. Write a query that calculates the total number of books written by author Agatha Christie.**"
   ]
  },
  {
   "cell_type": "code",
   "execution_count": null,
   "id": "reflected-flesh",
   "metadata": {},
   "outputs": [],
   "source": [
    "%%sql\n",
    "-- your code here --\n",
    ";"
   ]
  },
  {
   "cell_type": "markdown",
   "id": "adverse-funeral",
   "metadata": {},
   "source": [
    "**5. The group-by construct lets us compute aggregates for different chunks of a relation. Find the total number of books released per genre. Don’t include genres with a count less than 2. (Hint: HAVING)**"
   ]
  },
  {
   "cell_type": "code",
   "execution_count": null,
   "id": "collaborative-representative",
   "metadata": {},
   "outputs": [],
   "source": [
    "%%sql\n",
    "-- your code here --\n",
    ";"
   ]
  },
  {
   "cell_type": "markdown",
   "id": "american-official",
   "metadata": {},
   "source": [
    "## 3) Optional Questions\n",
    "\n",
    "**6. Find the names of the 5 books that trended the least, ordered from least to most. Break ties by book name in alphabetical order.**"
   ]
  },
  {
   "cell_type": "code",
   "execution_count": null,
   "id": "residential-party",
   "metadata": {},
   "outputs": [],
   "source": [
    "%%sql\n",
    "-- your code here --\n",
    ";"
   ]
  },
  {
   "cell_type": "markdown",
   "id": "disciplinary-style",
   "metadata": {},
   "source": [
    "**7. *Challenge:* Write a query that computes the total times each author has had a trending book. (Hint: you will need to use a join for this as well.)**"
   ]
  },
  {
   "cell_type": "code",
   "execution_count": null,
   "id": "digital-heating",
   "metadata": {},
   "outputs": [],
   "source": [
    "%%sql\n",
    "-- your code here --\n",
    ";"
   ]
  }
 ],
 "metadata": {
  "kernelspec": {
   "display_name": "Python 3",
   "language": "python",
   "name": "python3"
  },
  "language_info": {
   "codemirror_mode": {
    "name": "ipython",
    "version": 3
   },
   "file_extension": ".py",
   "mimetype": "text/x-python",
   "name": "python",
   "nbconvert_exporter": "python",
   "pygments_lexer": "ipython3",
   "version": "3.8.5"
  }
 },
 "nbformat": 4,
 "nbformat_minor": 5
}
